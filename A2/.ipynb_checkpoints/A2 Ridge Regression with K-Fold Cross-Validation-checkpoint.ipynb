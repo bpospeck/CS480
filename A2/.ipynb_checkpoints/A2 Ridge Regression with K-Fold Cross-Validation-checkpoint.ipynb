{
 "cells": [
  {
   "cell_type": "markdown",
   "metadata": {},
   "source": [
    "$\\newcommand{\\xv}{\\mathbf{x}}\n",
    "\\newcommand{\\Xv}{\\mathbf{X}}\n",
    "\\newcommand{\\yv}{\\mathbf{y}}\n",
    "\\newcommand{\\zv}{\\mathbf{z}}\n",
    "\\newcommand{\\av}{\\mathbf{a}}\n",
    "\\newcommand{\\Wv}{\\mathbf{W}}\n",
    "\\newcommand{\\wv}{\\mathbf{w}}\n",
    "\\newcommand{\\tv}{\\mathbf{t}}\n",
    "\\newcommand{\\Tv}{\\mathbf{T}}\n",
    "\\newcommand{\\muv}{\\boldsymbol{\\mu}}\n",
    "\\newcommand{\\sigmav}{\\boldsymbol{\\sigma}}\n",
    "\\newcommand{\\phiv}{\\boldsymbol{\\phi}}\n",
    "\\newcommand{\\Phiv}{\\boldsymbol{\\Phi}}\n",
    "\\newcommand{\\Sigmav}{\\boldsymbol{\\Sigma}}\n",
    "\\newcommand{\\Lambdav}{\\boldsymbol{\\Lambda}}\n",
    "\\newcommand{\\half}{\\frac{1}{2}}\n",
    "\\newcommand{\\argmax}[1]{\\underset{#1}{\\operatorname{argmax}}}\n",
    "\\newcommand{\\argmin}[1]{\\underset{#1}{\\operatorname{argmin}}}$"
   ]
  },
  {
   "cell_type": "markdown",
   "metadata": {},
   "source": [
    "# Assignment 2: Ridge Regression with K-Fold Cross-Validation"
   ]
  },
  {
   "cell_type": "markdown",
   "metadata": {},
   "source": [
    "*Type your name here*"
   ]
  },
  {
   "cell_type": "markdown",
   "metadata": {},
   "source": [
    "## Overview"
   ]
  },
  {
   "cell_type": "markdown",
   "metadata": {},
   "source": [
    "<font color=\"red\">This text box has been changed, on February 6th! </font>\n",
    "\n",
    "Start with your `train`, `use` and `rmse` functions from Assignment 1.  Add the `partitionKFolds` function from lecture.  Write a new function named `multipleLambdas(X,T,nFolds,lambdas):` that\n",
    "\n",
    "* Initialize `foldCount` to 0.\n",
    "* Initialize `results` to empty list.\n",
    "* For each `Xtrain,Ttrain,Xval,Tval,Xtest,Ttest` partition returned by `partitionKFolds` with `shuffle=True`:\n",
    "  * For each value of $\\lambda$ in `lambdas`:\n",
    "    * `train` a linear model of `Xtrain,Ttrain` using ridge regression with $\\lambda$.\n",
    "    * `use` the model on `Xtrain`, `Xval`, and `Xtest` and calculate the `rmse` for each.\n",
    "    * Append to a `results` list the value of `foldCount`, $\\lambda$, and the three above `rmse`'s.\n",
    "  * Increment `foldCount` by 1.\n",
    "* Convert list of lists `results` into a `numpy` array.\n",
    "* Initialize `bestResults` to empty list.\n",
    "* For each value of `range(foldCount)`, select rows of `results` for that fold index, find row with lowest validation error, add that row to a list of `bestResults`.\n",
    "* Return `bestResults` made into a numpy array.\n",
    "\n",
    "This returns a numpy array containing one row for each fold, and containing the fold index, the best value of $\\lambda$ for that fold, and the three errors, training, validation and testing set errors."
   ]
  },
  {
   "cell_type": "markdown",
   "metadata": {},
   "source": [
    "## Method"
   ]
  },
  {
   "cell_type": "markdown",
   "metadata": {},
   "source": [
    "Here is a simple example of the use of the new function."
   ]
  },
  {
   "cell_type": "code",
   "execution_count": 153,
   "metadata": {
    "collapsed": false
   },
   "outputs": [
    {
     "ename": "SyntaxError",
     "evalue": "unexpected EOF while parsing (<ipython-input-153-a9a38253ee6f>, line 2)",
     "output_type": "error",
     "traceback": [
      "\u001b[1;36m  File \u001b[1;32m\"<ipython-input-153-a9a38253ee6f>\"\u001b[1;36m, line \u001b[1;32m2\u001b[0m\n\u001b[1;33m    # ......\u001b[0m\n\u001b[1;37m            ^\u001b[0m\n\u001b[1;31mSyntaxError\u001b[0m\u001b[1;31m:\u001b[0m unexpected EOF while parsing\n"
     ]
    }
   ],
   "source": [
    "def multipleLambdas(X, T, nFolds, lambdas=[0]):\n",
    "    # ......"
   ]
  },
  {
   "cell_type": "code",
   "execution_count": 154,
   "metadata": {
    "collapsed": false
   },
   "outputs": [
    {
     "data": {
      "text/plain": [
       "'%.4f'"
      ]
     },
     "execution_count": 154,
     "metadata": {},
     "output_type": "execute_result"
    }
   ],
   "source": [
    "%precision 4"
   ]
  },
  {
   "cell_type": "markdown",
   "metadata": {},
   "source": [
    "Here is some simple example data.  Play with this a bit.  Try different definitions of the target matrix `T`."
   ]
  },
  {
   "cell_type": "code",
   "execution_count": 162,
   "metadata": {
    "collapsed": false
   },
   "outputs": [
    {
     "data": {
      "text/plain": [
       "[<matplotlib.lines.Line2D at 0x7f1bf094b8d0>]"
      ]
     },
     "execution_count": 162,
     "metadata": {},
     "output_type": "execute_result"
    },
    {
     "data": {
      "image/png": "[encoded data removed]",
      "text/plain": [
       "<matplotlib.figure.Figure at 0x7f1bf0de3c88>"
      ]
     },
     "metadata": {},
     "output_type": "display_data"
    }
   ],
   "source": [
    "X = np.linspace(0,100,100).reshape((-1,1))\n",
    "T = X*0.1\n",
    "plt.plot(X,T)"
   ]
  },
  {
   "cell_type": "code",
   "execution_count": 156,
   "metadata": {
    "collapsed": false
   },
   "outputs": [
    {
     "data": {
      "text/plain": [
       "array([[  0.0000e+00,   0.0000e+00,   7.6137e-16,   8.1069e-16,\n",
       "          8.5999e-16],\n",
       "       [  1.0000e+00,   0.0000e+00,   1.8527e-15,   1.8820e-15,\n",
       "          1.8235e-15],\n",
       "       [  2.0000e+00,   0.0000e+00,   1.8507e-15,   1.9640e-15,\n",
       "          1.9373e-15],\n",
       "       [  3.0000e+00,   0.0000e+00,   7.6137e-16,   8.5999e-16,\n",
       "          8.1069e-16],\n",
       "       [  4.0000e+00,   0.0000e+00,   1.9939e-15,   2.1937e-15,\n",
       "          1.9282e-15],\n",
       "       [  5.0000e+00,   0.0000e+00,   9.3895e-16,   7.5601e-16,\n",
       "          9.5789e-16],\n",
       "       [  6.0000e+00,   0.0000e+00,   1.8527e-15,   1.8235e-15,\n",
       "          1.8820e-15],\n",
       "       [  7.0000e+00,   0.0000e+00,   1.9939e-15,   1.9282e-15,\n",
       "          2.1937e-15],\n",
       "       [  8.0000e+00,   0.0000e+00,   1.1876e-15,   1.3202e-15,\n",
       "          1.1700e-15],\n",
       "       [  9.0000e+00,   0.0000e+00,   1.8507e-15,   1.9373e-15,\n",
       "          1.9640e-15],\n",
       "       [  1.0000e+01,   0.0000e+00,   9.3895e-16,   9.5789e-16,\n",
       "          7.5601e-16],\n",
       "       [  1.1000e+01,   0.0000e+00,   1.1876e-15,   1.1700e-15,\n",
       "          1.3202e-15]])"
      ]
     },
     "execution_count": 156,
     "metadata": {},
     "output_type": "execute_result"
    }
   ],
   "source": [
    "results = multipleLambdas(X,T,4,range(0,40,5))\n",
    "results"
   ]
  },
  {
   "cell_type": "code",
   "execution_count": 157,
   "metadata": {
    "collapsed": false
   },
   "outputs": [
    {
     "data": {
      "image/png": "[encoded data removed]",
      "text/plain": [
       "<matplotlib.figure.Figure at 0x7f1bf0bbad68>"
      ]
     },
     "metadata": {},
     "output_type": "display_data"
    }
   ],
   "source": [
    "plt.hist(results[:,1]);"
   ]
  },
  {
   "cell_type": "markdown",
   "metadata": {},
   "source": [
    "Your results will not be identical to the example above.  In fact, your results will differ each time you run these cells because the `partitionKFolds` function shuffles the order of the samples before forming the partitions."
   ]
  },
  {
   "cell_type": "markdown",
   "metadata": {},
   "source": [
    "## Data"
   ]
  },
  {
   "cell_type": "markdown",
   "metadata": {},
   "source": [
    "Describe the data you use in your example application.  Mention the source, and the names and meanings of each attribute. Include some plots of the data. Describe some observations you make about the plots."
   ]
  },
  {
   "cell_type": "markdown",
   "metadata": {},
   "source": [
    "## Results"
   ]
  },
  {
   "cell_type": "markdown",
   "metadata": {},
   "source": [
    "Apply your functions to the data and plot the results.  Think of at least three different plots to make and discuss them."
   ]
  },
  {
   "cell_type": "markdown",
   "metadata": {},
   "source": [
    "## Grading\n",
    "\n",
    "Your notebook will be run and graded automatically.  After running all of the above cells in your notebook, run the code in the following cell to demonstrate an example grading session.  You should see a perfect score of 80/100 if your functions are defined correctly.  The remaining 20% will be based on the instructors reading of your notebooks.  We will be looking for how well the method is explained in text with some LaTeX math, and how well the results are summarized.\n",
    "\n",
    "As before, first download and extract from [A2grader.tar](http://www.cs.colostate.edu/~anderson/cs\n",
    "480/notebooks/A2grader.tar) "
   ]
  },
  {
   "cell_type": "code",
   "execution_count": 159,
   "metadata": {
    "collapsed": false
   },
   "outputs": [
    {
     "name": "stdout",
     "output_type": "stream",
     "text": [
      " Testing:\n",
      "X = np.arange(20).reshape((-1,1))\n",
      "T = np.abs(X -10) + X\n",
      "for Xtrain,Ttrain,Xval,Tval,Xtest,Ttest,_ in partitionKFolds(X,T,5,shuffle=False,nPartitions=3)\n",
      "20/20 points. partitionKFolds produced 20 partitions. Correct.\n",
      "10/10 points. Final training set contains 12 samples. Correct.\n",
      "10/10 points. Final validation set contains 4 samples. Correct.\n",
      "Testing:\n",
      "X = np.linspace(0,100,1000).reshape((-1,1))\n",
      "T = X * 0.1\n",
      "results = multipleLambdas(X,T,4,range(0,10))\n",
      "20/20 points. All best lambdas are 0.  Correct.\n",
      "20/20 points. Mean of all train, validation and test errors for best lambda are correct.\n",
      "\n",
      "a2 Grade is 80/100\n",
      "Up to 20 more points will be given based on the qualty of your descriptions of the method and the results.\n"
     ]
    }
   ],
   "source": [
    "%run -i \"A2grader.py\""
   ]
  },
  {
   "cell_type": "markdown",
   "metadata": {},
   "source": [
    "## Check-in"
   ]
  },
  {
   "cell_type": "markdown",
   "metadata": {},
   "source": [
    "Do not include this section in your notebook.\n",
    "\n",
    "Name your notebook ```Lastname-A2.ipynb```.  So, for me it would be ```Anderson-A2.ipynb```.  Submit the file using the ```Assignment 2``` link on [Canvas](https://colostate.instructure.com/courses/41327).\n",
    "\n",
    "Grading will be based on \n",
    "\n",
    "  * correct behavior of the three functions listed above,\n",
    "  * easy to understand plots in your notebook\n",
    "  * readability of the notebook,\n",
    "  * effort in making interesting observations, and in formatting your notebook."
   ]
  }
 ],
 "metadata": {
  "kernelspec": {
   "display_name": "Python [default]",
   "language": "python",
   "name": "python3"
  },
  "language_info": {
   "codemirror_mode": {
    "name": "ipython",
    "version": 3
   },
   "file_extension": ".py",
   "mimetype": "text/x-python",
   "name": "python",
   "nbconvert_exporter": "python",
   "pygments_lexer": "ipython3",
   "version": "3.5.2"
  }
 },
 "nbformat": 4,
 "nbformat_minor": 0
}
