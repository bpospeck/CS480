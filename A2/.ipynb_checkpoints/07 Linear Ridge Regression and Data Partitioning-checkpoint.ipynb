{
 "cells": [
  {
   "cell_type": "markdown",
   "metadata": {},
   "source": [
    "$\\newcommand{\\xv}{\\mathbf{x}}\n",
    "\\newcommand{\\Xv}{\\mathbf{X}}\n",
    "\\newcommand{\\yv}{\\mathbf{y}}\n",
    "\\newcommand{\\zv}{\\mathbf{z}}\n",
    "\\newcommand{\\av}{\\mathbf{a}}\n",
    "\\newcommand{\\Wv}{\\mathbf{W}}\n",
    "\\newcommand{\\wv}{\\mathbf{w}}\n",
    "\\newcommand{\\tv}{\\mathbf{t}}\n",
    "\\newcommand{\\Tv}{\\mathbf{T}}\n",
    "\\newcommand{\\Norm}{\\mathcal{N}}\n",
    "\\newcommand{\\muv}{\\boldsymbol{\\mu}}\n",
    "\\newcommand{\\sigmav}{\\boldsymbol{\\sigma}}\n",
    "\\newcommand{\\phiv}{\\boldsymbol{\\phi}}\n",
    "\\newcommand{\\Phiv}{\\boldsymbol{\\Phi}}\n",
    "\\newcommand{\\Sigmav}{\\boldsymbol{\\Sigma}}\n",
    "\\newcommand{\\Lambdav}{\\boldsymbol{\\Lambda}}\n",
    "\\newcommand{\\half}{\\frac{1}{2}}\n",
    "\\newcommand{\\argmax}[1]{\\underset{#1}{\\operatorname{argmax}}\\;}\n",
    "\\newcommand{\\argmin}[1]{\\underset{#1}{\\operatorname{argmin}}\\;}$"
   ]
  },
  {
   "cell_type": "markdown",
   "metadata": {},
   "source": [
    "# Linear Ridge Regression"
   ]
  },
  {
   "cell_type": "markdown",
   "metadata": {},
   "source": [
    "Remember when we were discussing the complexity of models?  The simplest model was a constant.  A simple way to predict rainfall is to ignore all measurements and just predict the average rainfall.  If a linear model of measurements may do no better.  The degree to which it does do better can be expressed in the relative sum of squared errors (RSE) or\n",
    "\n",
    "$$RSE = \\frac{\\sum_{i=1}^N (\\tv_i - \\xv_i^T \\wv)^2}{\\sum_{i=1}^N (\\tv_i - \\bar{\\Tv})^2}$$\n",
    "\n",
    "If RSE is 1, then your linear model is no better than using the mean.  The closer RSE is to 0, the better your linear model is."
   ]
  },
  {
   "cell_type": "code",
   "execution_count": 27,
   "metadata": {
    "collapsed": true
   },
   "outputs": [],
   "source": [
    "import numpy as np\n",
    "import matplotlib.pyplot as plt\n",
    "%matplotlib inline"
   ]
  },
  {
   "cell_type": "code",
   "execution_count": 28,
   "metadata": {
    "collapsed": false
   },
   "outputs": [],
   "source": [
    "np.any?"
   ]
  },
  {
   "cell_type": "code",
   "execution_count": 29,
   "metadata": {
    "collapsed": true
   },
   "outputs": [],
   "source": [
    "def makeMPGData(filename='auto-mpg.data'):\n",
    "    def missingIsNan(s):\n",
    "        return np.nan if s == b'?' else float(s)\n",
    "    data = np.loadtxt(filename, usecols=range(8), converters={3: missingIsNan})\n",
    "    print(\"Read\",data.shape[0],\"rows and\",data.shape[1],\"columns from\",filename)\n",
    "    goodRowsMask = np.isnan(data).sum(axis=1) == 0\n",
    "    data = data[goodRowsMask,:]\n",
    "    print(\"After removing rows containing question marks, data has\",data.shape[0],\"rows and\",data.shape[1],\"columns.\")\n",
    "    X = data[:,1:]\n",
    "    T = data[:,0:1]\n",
    "    Xnames =  ['cylinders','displacement','horsepower','weight','acceleration','year','origin']\n",
    "    Tname = 'mpg'\n",
    "    return X,T,Xnames,Tname"
   ]
  },
  {
   "cell_type": "code",
   "execution_count": 30,
   "metadata": {
    "collapsed": false
   },
   "outputs": [
    {
     "name": "stdout",
     "output_type": "stream",
     "text": [
      "Read 398 rows and 8 columns from auto-mpg.data\n",
      "After removing rows containing question marks, data has 392 rows and 8 columns.\n"
     ]
    }
   ],
   "source": [
    "X,T,Xnames,Tname = makeMPGData()"
   ]
  },
  {
   "cell_type": "code",
   "execution_count": 31,
   "metadata": {
    "collapsed": false
   },
   "outputs": [
    {
     "data": {
      "text/plain": [
       "array([[ 23.44591837],\n",
       "       [ -0.84051891],\n",
       "       [  2.07930256],\n",
       "       [ -0.65163644],\n",
       "       [ -5.49205044],\n",
       "       [  0.22201407],\n",
       "       [  2.76211888],\n",
       "       [  1.14731588]])"
      ]
     },
     "execution_count": 31,
     "metadata": {},
     "output_type": "execute_result"
    }
   ],
   "source": [
    "means = X.mean(0)\n",
    "stds = X.std(0)\n",
    "nRows = X.shape[0]\n",
    "Xs1 = np.insert((X-means)/stds, 0, 1, axis=1) # insert column of ones in new 0th column\n",
    "# Xs1 = np.hstack(( np.ones((nRows,1)), (X-means)/stds ))\n",
    "w = np.linalg.lstsq(Xs1, T)[0]\n",
    "w"
   ]
  },
  {
   "cell_type": "code",
   "execution_count": 32,
   "metadata": {
    "collapsed": false
   },
   "outputs": [
    {
     "data": {
      "text/plain": [
       "0.17852192351894017"
      ]
     },
     "execution_count": 32,
     "metadata": {},
     "output_type": "execute_result"
    }
   ],
   "source": [
    "# predict = Xs1.dot(w)\n",
    "predict = Xs1 @ w\n",
    "RSE = np.sum((T-predict)**2) / np.sum((T - T.mean(0))**2)\n",
    "RSE"
   ]
  },
  {
   "cell_type": "markdown",
   "metadata": {},
   "source": [
    "So, our linear model seems to be quite a bit better than using just the mean mpg."
   ]
  },
  {
   "cell_type": "markdown",
   "metadata": {},
   "source": [
    "Well, maybe our model would do better if it was a little closer to just the mean, or, equivalently, just using the bias weight.  This is the question that drives the derivation of \"ridge regression\".  Let's add a term to our sum of squared error objective function that is the sum of all weight magnitudes except the bias weight.  Then, we not only minimize the sum of squared errors, we also minimize the sum of the weight magnitudes:\n",
    "\n",
    "$$ \\sum_{i=1}^N (\\tv_i - \\xv_i^T \\wv)^2 + \\lambda \\sum_{i=2}^N w_i^2$$\n",
    "\n",
    "Notice that $\\lambda$ in there.  With $\\lambda=0$ we have our usual linear regression objective function. With $\\lambda>0$, we are adding in a penalty for the weight magnitudes.\n",
    "\n",
    "How does this change our solution for the best $\\wv$?  You work it out.  You should get\n",
    "\n",
    "$$ \\wv = (X^T X + \\lambda I)^{-1} X^T T $$\n",
    "\n",
    "except instead of using \n",
    "\n",
    "$$\n",
    "    \\lambda I =\n",
    "     \\begin{bmatrix}\n",
    "     \\lambda & 0 & \\dotsc & 0\\\\\n",
    "       0 & \\lambda & \\dotsc & 0\\\\\n",
    "       \\vdots \\\\\n",
    "       0 & 0 & \\dotsc & \\lambda\n",
    "    \\end{bmatrix}\n",
    "$$\n",
    "\n",
    "we want\n",
    "\n",
    "$$\n",
    "     \\begin{bmatrix}\n",
    "      0 & 0 & \\dotsc & 0\\\\\n",
    "       0 & \\lambda & \\dotsc & 0\\\\\n",
    "       \\vdots \\\\\n",
    "       0 & 0 & \\dotsc & \\lambda\n",
    "    \\end{bmatrix}\n",
    "$$\n",
    "\n",
    "so we don't penalize the bias weight, the weight multiplying the constant 1 input component.\n",
    "\n",
    "\n",
    "Now, what value should $\\lambda$ be?  Must determine empirically, by calculating the sum of squared error on test data.\n",
    "\n",
    "Actually, we should not find the best value of $\\lambda$ by comparing error on the test data. This will give us a too optimistic prediction of error on novel data, because the test data was used to pick the best $\\lambda$.  We really must hold out another partition of data from the training set for this. This third partition is often called the model validation set.  So, we partition our data into disjoint training, validation, and testing subsets, and\n",
    "\n",
    "* For each value of $\\lambda$\n",
    "  * Solve for $\\wv$ using the training set\n",
    "  * Use $\\wv$ to predict the output for the validation set and calculate the squared error.\n",
    "  * Use $\\wv$ to predict the output for the testing set and calculate the squared error.\n",
    "  * Pick value of $\\lambda$ that produced the lowest validation set error, and report the testing set error obtained using that value of $\\lambda$."
   ]
  },
  {
   "cell_type": "markdown",
   "metadata": {},
   "source": [
    "Let's do it!"
   ]
  },
  {
   "cell_type": "code",
   "execution_count": 33,
   "metadata": {
    "collapsed": false
   },
   "outputs": [
    {
     "data": {
      "text/plain": [
       "array([[ 0. ,  0. ,  0. ,  0. ,  0. ,  0. ,  0. ,  0. ],\n",
       "       [ 0. ,  0.1,  0. ,  0. ,  0. ,  0. ,  0. ,  0. ],\n",
       "       [ 0. ,  0. ,  0.1,  0. ,  0. ,  0. ,  0. ,  0. ],\n",
       "       [ 0. ,  0. ,  0. ,  0.1,  0. ,  0. ,  0. ,  0. ],\n",
       "       [ 0. ,  0. ,  0. ,  0. ,  0.1,  0. ,  0. ,  0. ],\n",
       "       [ 0. ,  0. ,  0. ,  0. ,  0. ,  0.1,  0. ,  0. ],\n",
       "       [ 0. ,  0. ,  0. ,  0. ,  0. ,  0. ,  0.1,  0. ],\n",
       "       [ 0. ,  0. ,  0. ,  0. ,  0. ,  0. ,  0. ,  0.1]])"
      ]
     },
     "execution_count": 33,
     "metadata": {},
     "output_type": "execute_result"
    }
   ],
   "source": [
    "lamb = 0.1\n",
    "D = Xs1.shape[1]\n",
    "lambdaDiag = np.eye(D) * lamb\n",
    "lambdaDiag[0,0] = 0\n",
    "lambdaDiag"
   ]
  },
  {
   "cell_type": "code",
   "execution_count": 34,
   "metadata": {
    "collapsed": false
   },
   "outputs": [
    {
     "data": {
      "text/plain": [
       "array([[ 0. ,  0. ,  0. ],\n",
       "       [ 0. ,  0.2,  0. ],\n",
       "       [ 0. ,  0. ,  0.2]])"
      ]
     },
     "execution_count": 34,
     "metadata": {},
     "output_type": "execute_result"
    }
   ],
   "source": [
    "def makeLambda(D,lamb=0):\n",
    "    lambdaDiag = np.eye(D) * lamb\n",
    "    lambdaDiag[0,0] = 0\n",
    "    return lambdaDiag\n",
    "makeLambda(3,0.2)"
   ]
  },
  {
   "cell_type": "code",
   "execution_count": 35,
   "metadata": {
    "collapsed": false
   },
   "outputs": [
    {
     "data": {
      "text/plain": [
       "array([[ 23.44591837],\n",
       "       [ -0.83453746],\n",
       "       [  2.05581595],\n",
       "       [ -0.6544685 ],\n",
       "       [ -5.474439  ],\n",
       "       [  0.21836873],\n",
       "       [  2.76033842],\n",
       "       [  1.14610564]])"
      ]
     },
     "execution_count": 35,
     "metadata": {},
     "output_type": "execute_result"
    }
   ],
   "source": [
    "w = np.linalg.lstsq(Xs1.T @ Xs1 + lambdaDiag, Xs1.T @ T)[0]\n",
    "w"
   ]
  },
  {
   "cell_type": "code",
   "execution_count": 36,
   "metadata": {
    "collapsed": false
   },
   "outputs": [
    {
     "data": {
      "text/plain": [
       "array([[ 23.44591837,  23.44591837],\n",
       "       [ -0.83453746,  -0.84051891],\n",
       "       [  2.05581595,   2.07930256],\n",
       "       [ -0.6544685 ,  -0.65163644],\n",
       "       [ -5.474439  ,  -5.49205044],\n",
       "       [  0.21836873,   0.22201407],\n",
       "       [  2.76033842,   2.76211888],\n",
       "       [  1.14610564,   1.14731588]])"
      ]
     },
     "execution_count": 36,
     "metadata": {},
     "output_type": "execute_result"
    }
   ],
   "source": [
    "D = Xs1.shape[1]\n",
    "w1 = np.linalg.lstsq(Xs1.T @ Xs1 + makeLambda(D,0.1), Xs1.T @ T)[0]\n",
    "w2 = np.linalg.lstsq(Xs1.T @ Xs1 + makeLambda(D,0), Xs1.T @ T)[0]\n",
    "np.hstack((w1,w2))"
   ]
  },
  {
   "cell_type": "code",
   "execution_count": 37,
   "metadata": {
    "collapsed": false
   },
   "outputs": [
    {
     "data": {
      "image/png": "[encoded data removed]",
      "text/plain": [
       "<matplotlib.figure.Figure at 0x7f930e1bcd30>"
      ]
     },
     "metadata": {},
     "output_type": "display_data"
    }
   ],
   "source": [
    "for lamb in [0,0.1,1,10,100]:\n",
    "    w = np.linalg.lstsq(Xs1.T @ Xs1 + makeLambda(D,lamb), Xs1.T @ T)[0]\n",
    "    plt.plot(w)"
   ]
  },
  {
   "cell_type": "code",
   "execution_count": 38,
   "metadata": {
    "collapsed": false
   },
   "outputs": [
    {
     "data": {
      "text/plain": [
       "<matplotlib.legend.Legend at 0x7f930e200b00>"
      ]
     },
     "execution_count": 38,
     "metadata": {},
     "output_type": "execute_result"
    },
    {
     "data": {
      "image/png": "[encoded data removed]",
      "text/plain": [
       "<matplotlib.figure.Figure at 0x7f930e2000f0>"
      ]
     },
     "metadata": {},
     "output_type": "display_data"
    }
   ],
   "source": [
    "lambdas = [0,0.1,1,10,100,1000]\n",
    "for lamb in lambdas:\n",
    "    w = np.linalg.lstsq(Xs1.T @ Xs1 + makeLambda(D,lamb), Xs1.T @ T)[0]\n",
    "    plt.plot(Xs1[:30] @ w)\n",
    "plt.plot(T[:30],'ro',lw=5,alpha=0.8)\n",
    "plt.legend(lambdas,loc='best')"
   ]
  },
  {
   "cell_type": "markdown",
   "metadata": {},
   "source": [
    "Which $\\lambda$ value is best?  Careful.  What is the best value of $\\lambda$ if just comparing error on training data?\n",
    "\n",
    "Now, careful again!  Can't report expected error from testing data that is also used to pick best value of $\\lambda$.  Error is likely to be better than what you will get on new data that was not used to train the model and also was not used to pick value of $\\lambda$.\n",
    "\n",
    "Need a way to partition our data into training, validation and testing subsets.  Let's write a function that makes these partitions randomly, given the data matrix and the fractions to be used in the three partitions."
   ]
  },
  {
   "cell_type": "code",
   "execution_count": 39,
   "metadata": {
    "collapsed": true
   },
   "outputs": [],
   "source": [
    "def partition(X,T,trainFraction=0.8, validateFraction=0.1, testFraction=0.1):\n",
    "    '''Usage: Xtrain,Ttrain,Xval,Tval,Xtest,Ttext = partition(X,T,0.8,0.2,0.2)'''\n",
    "    if trainFraction + validateFraction + testFraction != 1:\n",
    "        raise ValueError(\"Train, validate and test fractions must sum to 1. Given values sum to \" + str(trainFraction+validateFraction+testFraction))\n",
    "    n = X.shape[0]\n",
    "    nTrain = round(trainFraction * n)\n",
    "    nValidate = round(validateFraction * n)\n",
    "    nTest = round(testFraction * n)\n",
    "    if nTrain + nValidate + nTest != n:\n",
    "        nTest = n - nTrain - nValidate\n",
    "    # Random order of data matrix row indices\n",
    "    rowIndices = np.arange(X.shape[0])\n",
    "    np.random.shuffle(rowIndices)\n",
    "    # Build X and T matrices by selecting corresponding rows for each partition\n",
    "    Xtrain = X[rowIndices[:nTrain],:]\n",
    "    Ttrain = T[rowIndices[:nTrain],:]\n",
    "    Xvalidate = X[rowIndices[nTrain:nTrain+nValidate],:]\n",
    "    Tvalidate = T[rowIndices[nTrain:nTrain+nValidate],:]\n",
    "    Xtest = X[rowIndices[nTrain+nValidate:nTrain+nValidate+nTest],:]\n",
    "    Ttest = T[rowIndices[nTrain+nValidate:nTrain+nValidate+nTest],:]\n",
    "    return Xtrain,Ttrain,Xvalidate,Tvalidate,Xtest,Ttest"
   ]
  },
  {
   "cell_type": "code",
   "execution_count": 40,
   "metadata": {
    "collapsed": false
   },
   "outputs": [
    {
     "data": {
      "text/plain": [
       "array([[ 0,  1],\n",
       "       [ 2,  3],\n",
       "       [ 4,  5],\n",
       "       [ 6,  7],\n",
       "       [ 8,  9],\n",
       "       [10, 11],\n",
       "       [12, 13],\n",
       "       [14, 15],\n",
       "       [16, 17],\n",
       "       [18, 19]])"
      ]
     },
     "execution_count": 40,
     "metadata": {},
     "output_type": "execute_result"
    }
   ],
   "source": [
    "X = np.arange(20).reshape((10,2))\n",
    "X"
   ]
  },
  {
   "cell_type": "code",
   "execution_count": 41,
   "metadata": {
    "collapsed": false
   },
   "outputs": [
    {
     "data": {
      "text/plain": [
       "array([[0],\n",
       "       [1],\n",
       "       [2],\n",
       "       [3],\n",
       "       [4],\n",
       "       [5],\n",
       "       [6],\n",
       "       [7],\n",
       "       [8],\n",
       "       [9]])"
      ]
     },
     "execution_count": 41,
     "metadata": {},
     "output_type": "execute_result"
    }
   ],
   "source": [
    "T = np.arange(10).reshape((-1,1))\n",
    "T"
   ]
  },
  {
   "cell_type": "code",
   "execution_count": 54,
   "metadata": {
    "collapsed": false
   },
   "outputs": [],
   "source": [
    "X = np.arange(20).reshape((10,2)) + np.random.uniform(0,1,(10,2))\n",
    "T = np.arange(10).reshape((-1,1))\n",
    "Xtrain,Ttrain,Xval,Tval,Xtest,Ttest = partition(X,T,0.6,0.2,0.2)"
   ]
  },
  {
   "cell_type": "code",
   "execution_count": 55,
   "metadata": {
    "collapsed": false
   },
   "outputs": [
    {
     "name": "stdout",
     "output_type": "stream",
     "text": [
      "Xtrain:\n",
      "[[ 18.3017471   19.26773196]\n",
      " [  4.03628837   5.06358151]\n",
      " [  6.523153     7.91565494]\n",
      " [ 14.48684488  15.6783308 ]\n",
      " [  0.63789078   1.06337491]\n",
      " [ 16.50170392  17.11935172]]\n",
      " Ttrain:\n",
      "[[9]\n",
      " [2]\n",
      " [3]\n",
      " [7]\n",
      " [0]\n",
      " [8]]\n",
      "\n",
      " Xval:\n",
      "[[ 12.00136075  13.20933852]\n",
      " [  8.94297226   9.38662155]]\n",
      " Tval:\n",
      "[[6]\n",
      " [4]]\n",
      "\n",
      " Xtest:\n",
      "[[  2.01978949   3.89954494]\n",
      " [ 10.47411918  11.73368022]]\n",
      " Ttest:\n",
      "[[1]\n",
      " [5]]\n"
     ]
    }
   ],
   "source": [
    "print(\"Xtrain:\")\n",
    "print(Xtrain)\n",
    "print(\" Ttrain:\")\n",
    "print(Ttrain)\n",
    "print(\"\\n Xval:\")\n",
    "print(Xval)\n",
    "print(\" Tval:\")\n",
    "print(Tval)\n",
    "print(\"\\n Xtest:\")\n",
    "print(Xtest)\n",
    "print(\" Ttest:\")\n",
    "print(Ttest)"
   ]
  },
  {
   "cell_type": "markdown",
   "metadata": {},
   "source": [
    "Now we can train our model using several values of $\\lambda$ on Xtrain,Train and calculate the model error on Xval,Tval. Then pick best value of $\\lambda$ based on error on Xval,Tval. Finally, calculate error of model using best $\\lambda$ on Xtest,Ttest as our estimate of error on new data.\n",
    "\n",
    "However, these errors will be affected by the random partitioning of the data.  Repeating with new partitions may result in a different $\\lambda$ being best.  We should repeat the above procedure many times and average over the results.  How many repetitions do we need?"
   ]
  },
  {
   "cell_type": "markdown",
   "metadata": {},
   "source": [
    "Another approach, commonly followed in machine learning, is to first partition the data into $k$ subsets, called \"folds\".  Pick one fold to be the test partition, another fold to be the validate partition, and collect the remaining folds to be the train partition.  We can do this $k\\,(k-1)$ ways. (Why?)  So, with $k=5$ we get 20 repetitions performed in a way that most distributes samples among the partitions."
   ]
  },
  {
   "cell_type": "markdown",
   "metadata": {},
   "source": [
    "First, a little note on the `yield` statement in python. The `yield` statement is like `return` except that execution pauses at this point in the function, after returning the values.  When the function is called again, it continues from that paused point. "
   ]
  },
  {
   "cell_type": "code",
   "execution_count": 56,
   "metadata": {
    "collapsed": true
   },
   "outputs": [],
   "source": [
    "def count(n):\n",
    "    for a in range(n):\n",
    "        yield a"
   ]
  },
  {
   "cell_type": "code",
   "execution_count": 57,
   "metadata": {
    "collapsed": false
   },
   "outputs": [
    {
     "data": {
      "text/plain": [
       "<generator object count at 0x7f930dd6fe60>"
      ]
     },
     "execution_count": 57,
     "metadata": {},
     "output_type": "execute_result"
    }
   ],
   "source": [
    "count(4)"
   ]
  },
  {
   "cell_type": "code",
   "execution_count": 58,
   "metadata": {
    "collapsed": false
   },
   "outputs": [
    {
     "data": {
      "text/plain": [
       "[0, 1, 2, 3]"
      ]
     },
     "execution_count": 58,
     "metadata": {},
     "output_type": "execute_result"
    }
   ],
   "source": [
    "list(count(4))"
   ]
  },
  {
   "cell_type": "code",
   "execution_count": 59,
   "metadata": {
    "collapsed": false
   },
   "outputs": [
    {
     "name": "stdout",
     "output_type": "stream",
     "text": [
      "0\n",
      "1\n",
      "2\n",
      "3\n",
      "4\n"
     ]
    }
   ],
   "source": [
    "for i in count(5):\n",
    "    print(i)"
   ]
  },
  {
   "cell_type": "code",
   "execution_count": 60,
   "metadata": {
    "collapsed": true
   },
   "outputs": [],
   "source": [
    " def partitionKFolds(X,T,nFolds,shuffle=False,nPartitions=3):\n",
    "    '''Usage: for Xtrain,Ttrain,Xval,Tval,Xtest,Ttext in partitionKFolds(X,T,5):'''\n",
    "    # Randomly arrange row indices\n",
    "    rowIndices = np.arange(X.shape[0])\n",
    "    if shuffle:\n",
    "        np.random.shuffle(rowIndices)\n",
    "    # Calculate number of samples in each of the nFolds folds\n",
    "    nSamples = X.shape[0]\n",
    "    nEach = int(nSamples / nFolds)\n",
    "    if nEach == 0:\n",
    "        raise ValueError(\"partitionKFolds: Number of samples in each fold is 0.\")\n",
    "    # Calculate the starting and stopping row index for each fold.\n",
    "    # Store in startsStops as list of (start,stop) pairs\n",
    "    starts = np.arange(0,nEach*nFolds,nEach)\n",
    "    stops = starts + nEach\n",
    "    stops[-1] = nSamples\n",
    "    startsStops = list(zip(starts,stops))\n",
    "    # Repeat with testFold taking each single fold, one at a time\n",
    "    for testFold in range(nFolds):\n",
    "        if nPartitions == 3:\n",
    "            # Repeat with validateFold taking each single fold, except for the testFold\n",
    "            for validateFold in range(nFolds):\n",
    "                if testFold == validateFold:\n",
    "                    continue\n",
    "                # trainFolds are all remaining folds, after selecting test and validate folds\n",
    "                trainFolds = np.setdiff1d(range(nFolds), [testFold,validateFold])\n",
    "                # Construct Xtrain and Ttrain by collecting rows for all trainFolds\n",
    "                rows = []\n",
    "                for tf in trainFolds:\n",
    "                    a,b = startsStops[tf]                \n",
    "                    rows += rowIndices[a:b].tolist()\n",
    "                Xtrain = X[rows,:]\n",
    "                Ttrain = T[rows,:]\n",
    "                # Construct Xvalidate and Tvalidate\n",
    "                a,b = startsStops[validateFold]\n",
    "                rows = rowIndices[a:b]\n",
    "                Xvalidate = X[rows,:]\n",
    "                Tvalidate = T[rows,:]\n",
    "                # Construct Xtest and Ttest\n",
    "                a,b = startsStops[testFold]\n",
    "                rows = rowIndices[a:b]\n",
    "                Xtest = X[rows,:]\n",
    "                Ttest = T[rows,:]\n",
    "                # Return partition matrices, then suspend until called again.\n",
    "                yield Xtrain,Ttrain,Xvalidate,Tvalidate,Xtest,Ttest,testFold\n",
    "        else:\n",
    "            # trainFolds are all remaining folds, after selecting test and validate folds\n",
    "            trainFolds = np.setdiff1d(range(nFolds), [testFold])\n",
    "            # Construct Xtrain and Ttrain by collecting rows for all trainFolds\n",
    "            rows = []\n",
    "            for tf in trainFolds:\n",
    "                a,b = startsStops[tf]                \n",
    "                rows += rowIndices[a:b].tolist()\n",
    "            Xtrain = X[rows,:]\n",
    "            Ttrain = T[rows,:]\n",
    "            # Construct Xtest and Ttest\n",
    "            a,b = startsStops[testFold]\n",
    "            rows = rowIndices[a:b]\n",
    "            Xtest = X[rows,:]\n",
    "            Ttest = T[rows,:]\n",
    "            # Return partition matrices, then suspend until called again.\n",
    "            yield Xtrain,Ttrain,Xtest,Ttest,testFold"
   ]
  },
  {
   "cell_type": "code",
   "execution_count": 61,
   "metadata": {
    "collapsed": false
   },
   "outputs": [
    {
     "name": "stdout",
     "output_type": "stream",
     "text": [
      "Fold 1\n",
      " Xtrain:\n",
      "[[ 8  9]\n",
      " [10 11]\n",
      " [12 13]\n",
      " [14 15]\n",
      " [16 17]\n",
      " [18 19]]\n",
      " Ttrain:\n",
      "[[4]\n",
      " [5]\n",
      " [6]\n",
      " [7]\n",
      " [8]\n",
      " [9]]\n",
      "\n",
      " Xval:\n",
      "[[4 5]\n",
      " [6 7]]\n",
      " Tval:\n",
      "[[2]\n",
      " [3]]\n",
      "\n",
      " Xtest:\n",
      "[[0 1]\n",
      " [2 3]]\n",
      " Ttest:\n",
      "[[0]\n",
      " [1]]\n",
      "Fold 2\n",
      " Xtrain:\n",
      "[[ 4  5]\n",
      " [ 6  7]\n",
      " [12 13]\n",
      " [14 15]\n",
      " [16 17]\n",
      " [18 19]]\n",
      " Ttrain:\n",
      "[[2]\n",
      " [3]\n",
      " [6]\n",
      " [7]\n",
      " [8]\n",
      " [9]]\n",
      "\n",
      " Xval:\n",
      "[[ 8  9]\n",
      " [10 11]]\n",
      " Tval:\n",
      "[[4]\n",
      " [5]]\n",
      "\n",
      " Xtest:\n",
      "[[0 1]\n",
      " [2 3]]\n",
      " Ttest:\n",
      "[[0]\n",
      " [1]]\n",
      "Fold 3\n",
      " Xtrain:\n",
      "[[ 4  5]\n",
      " [ 6  7]\n",
      " [ 8  9]\n",
      " [10 11]\n",
      " [16 17]\n",
      " [18 19]]\n",
      " Ttrain:\n",
      "[[2]\n",
      " [3]\n",
      " [4]\n",
      " [5]\n",
      " [8]\n",
      " [9]]\n",
      "\n",
      " Xval:\n",
      "[[12 13]\n",
      " [14 15]]\n",
      " Tval:\n",
      "[[6]\n",
      " [7]]\n",
      "\n",
      " Xtest:\n",
      "[[0 1]\n",
      " [2 3]]\n",
      " Ttest:\n",
      "[[0]\n",
      " [1]]\n",
      "Fold 4\n",
      " Xtrain:\n",
      "[[ 4  5]\n",
      " [ 6  7]\n",
      " [ 8  9]\n",
      " [10 11]\n",
      " [12 13]\n",
      " [14 15]]\n",
      " Ttrain:\n",
      "[[2]\n",
      " [3]\n",
      " [4]\n",
      " [5]\n",
      " [6]\n",
      " [7]]\n",
      "\n",
      " Xval:\n",
      "[[16 17]\n",
      " [18 19]]\n",
      " Tval:\n",
      "[[8]\n",
      " [9]]\n",
      "\n",
      " Xtest:\n",
      "[[0 1]\n",
      " [2 3]]\n",
      " Ttest:\n",
      "[[0]\n",
      " [1]]\n",
      "Fold 5\n",
      " Xtrain:\n",
      "[[ 8  9]\n",
      " [10 11]\n",
      " [12 13]\n",
      " [14 15]\n",
      " [16 17]\n",
      " [18 19]]\n",
      " Ttrain:\n",
      "[[4]\n",
      " [5]\n",
      " [6]\n",
      " [7]\n",
      " [8]\n",
      " [9]]\n",
      "\n",
      " Xval:\n",
      "[[0 1]\n",
      " [2 3]]\n",
      " Tval:\n",
      "[[0]\n",
      " [1]]\n",
      "\n",
      " Xtest:\n",
      "[[4 5]\n",
      " [6 7]]\n",
      " Ttest:\n",
      "[[2]\n",
      " [3]]\n",
      "Fold 6\n",
      " Xtrain:\n",
      "[[ 0  1]\n",
      " [ 2  3]\n",
      " [12 13]\n",
      " [14 15]\n",
      " [16 17]\n",
      " [18 19]]\n",
      " Ttrain:\n",
      "[[0]\n",
      " [1]\n",
      " [6]\n",
      " [7]\n",
      " [8]\n",
      " [9]]\n",
      "\n",
      " Xval:\n",
      "[[ 8  9]\n",
      " [10 11]]\n",
      " Tval:\n",
      "[[4]\n",
      " [5]]\n",
      "\n",
      " Xtest:\n",
      "[[4 5]\n",
      " [6 7]]\n",
      " Ttest:\n",
      "[[2]\n",
      " [3]]\n",
      "Fold 7\n",
      " Xtrain:\n",
      "[[ 0  1]\n",
      " [ 2  3]\n",
      " [ 8  9]\n",
      " [10 11]\n",
      " [16 17]\n",
      " [18 19]]\n",
      " Ttrain:\n",
      "[[0]\n",
      " [1]\n",
      " [4]\n",
      " [5]\n",
      " [8]\n",
      " [9]]\n",
      "\n",
      " Xval:\n",
      "[[12 13]\n",
      " [14 15]]\n",
      " Tval:\n",
      "[[6]\n",
      " [7]]\n",
      "\n",
      " Xtest:\n",
      "[[4 5]\n",
      " [6 7]]\n",
      " Ttest:\n",
      "[[2]\n",
      " [3]]\n",
      "Fold 8\n",
      " Xtrain:\n",
      "[[ 0  1]\n",
      " [ 2  3]\n",
      " [ 8  9]\n",
      " [10 11]\n",
      " [12 13]\n",
      " [14 15]]\n",
      " Ttrain:\n",
      "[[0]\n",
      " [1]\n",
      " [4]\n",
      " [5]\n",
      " [6]\n",
      " [7]]\n",
      "\n",
      " Xval:\n",
      "[[16 17]\n",
      " [18 19]]\n",
      " Tval:\n",
      "[[8]\n",
      " [9]]\n",
      "\n",
      " Xtest:\n",
      "[[4 5]\n",
      " [6 7]]\n",
      " Ttest:\n",
      "[[2]\n",
      " [3]]\n",
      "Fold 9\n",
      " Xtrain:\n",
      "[[ 4  5]\n",
      " [ 6  7]\n",
      " [12 13]\n",
      " [14 15]\n",
      " [16 17]\n",
      " [18 19]]\n",
      " Ttrain:\n",
      "[[2]\n",
      " [3]\n",
      " [6]\n",
      " [7]\n",
      " [8]\n",
      " [9]]\n",
      "\n",
      " Xval:\n",
      "[[0 1]\n",
      " [2 3]]\n",
      " Tval:\n",
      "[[0]\n",
      " [1]]\n",
      "\n",
      " Xtest:\n",
      "[[ 8  9]\n",
      " [10 11]]\n",
      " Ttest:\n",
      "[[4]\n",
      " [5]]\n",
      "Fold 10\n",
      " Xtrain:\n",
      "[[ 0  1]\n",
      " [ 2  3]\n",
      " [12 13]\n",
      " [14 15]\n",
      " [16 17]\n",
      " [18 19]]\n",
      " Ttrain:\n",
      "[[0]\n",
      " [1]\n",
      " [6]\n",
      " [7]\n",
      " [8]\n",
      " [9]]\n",
      "\n",
      " Xval:\n",
      "[[4 5]\n",
      " [6 7]]\n",
      " Tval:\n",
      "[[2]\n",
      " [3]]\n",
      "\n",
      " Xtest:\n",
      "[[ 8  9]\n",
      " [10 11]]\n",
      " Ttest:\n",
      "[[4]\n",
      " [5]]\n",
      "Fold 11\n",
      " Xtrain:\n",
      "[[ 0  1]\n",
      " [ 2  3]\n",
      " [ 4  5]\n",
      " [ 6  7]\n",
      " [16 17]\n",
      " [18 19]]\n",
      " Ttrain:\n",
      "[[0]\n",
      " [1]\n",
      " [2]\n",
      " [3]\n",
      " [8]\n",
      " [9]]\n",
      "\n",
      " Xval:\n",
      "[[12 13]\n",
      " [14 15]]\n",
      " Tval:\n",
      "[[6]\n",
      " [7]]\n",
      "\n",
      " Xtest:\n",
      "[[ 8  9]\n",
      " [10 11]]\n",
      " Ttest:\n",
      "[[4]\n",
      " [5]]\n",
      "Fold 12\n",
      " Xtrain:\n",
      "[[ 0  1]\n",
      " [ 2  3]\n",
      " [ 4  5]\n",
      " [ 6  7]\n",
      " [12 13]\n",
      " [14 15]]\n",
      " Ttrain:\n",
      "[[0]\n",
      " [1]\n",
      " [2]\n",
      " [3]\n",
      " [6]\n",
      " [7]]\n",
      "\n",
      " Xval:\n",
      "[[16 17]\n",
      " [18 19]]\n",
      " Tval:\n",
      "[[8]\n",
      " [9]]\n",
      "\n",
      " Xtest:\n",
      "[[ 8  9]\n",
      " [10 11]]\n",
      " Ttest:\n",
      "[[4]\n",
      " [5]]\n",
      "Fold 13\n",
      " Xtrain:\n",
      "[[ 4  5]\n",
      " [ 6  7]\n",
      " [ 8  9]\n",
      " [10 11]\n",
      " [16 17]\n",
      " [18 19]]\n",
      " Ttrain:\n",
      "[[2]\n",
      " [3]\n",
      " [4]\n",
      " [5]\n",
      " [8]\n",
      " [9]]\n",
      "\n",
      " Xval:\n",
      "[[0 1]\n",
      " [2 3]]\n",
      " Tval:\n",
      "[[0]\n",
      " [1]]\n",
      "\n",
      " Xtest:\n",
      "[[12 13]\n",
      " [14 15]]\n",
      " Ttest:\n",
      "[[6]\n",
      " [7]]\n",
      "Fold 14\n",
      " Xtrain:\n",
      "[[ 0  1]\n",
      " [ 2  3]\n",
      " [ 8  9]\n",
      " [10 11]\n",
      " [16 17]\n",
      " [18 19]]\n",
      " Ttrain:\n",
      "[[0]\n",
      " [1]\n",
      " [4]\n",
      " [5]\n",
      " [8]\n",
      " [9]]\n",
      "\n",
      " Xval:\n",
      "[[4 5]\n",
      " [6 7]]\n",
      " Tval:\n",
      "[[2]\n",
      " [3]]\n",
      "\n",
      " Xtest:\n",
      "[[12 13]\n",
      " [14 15]]\n",
      " Ttest:\n",
      "[[6]\n",
      " [7]]\n",
      "Fold 15\n",
      " Xtrain:\n",
      "[[ 0  1]\n",
      " [ 2  3]\n",
      " [ 4  5]\n",
      " [ 6  7]\n",
      " [16 17]\n",
      " [18 19]]\n",
      " Ttrain:\n",
      "[[0]\n",
      " [1]\n",
      " [2]\n",
      " [3]\n",
      " [8]\n",
      " [9]]\n",
      "\n",
      " Xval:\n",
      "[[ 8  9]\n",
      " [10 11]]\n",
      " Tval:\n",
      "[[4]\n",
      " [5]]\n",
      "\n",
      " Xtest:\n",
      "[[12 13]\n",
      " [14 15]]\n",
      " Ttest:\n",
      "[[6]\n",
      " [7]]\n",
      "Fold 16\n",
      " Xtrain:\n",
      "[[ 0  1]\n",
      " [ 2  3]\n",
      " [ 4  5]\n",
      " [ 6  7]\n",
      " [ 8  9]\n",
      " [10 11]]\n",
      " Ttrain:\n",
      "[[0]\n",
      " [1]\n",
      " [2]\n",
      " [3]\n",
      " [4]\n",
      " [5]]\n",
      "\n",
      " Xval:\n",
      "[[16 17]\n",
      " [18 19]]\n",
      " Tval:\n",
      "[[8]\n",
      " [9]]\n",
      "\n",
      " Xtest:\n",
      "[[12 13]\n",
      " [14 15]]\n",
      " Ttest:\n",
      "[[6]\n",
      " [7]]\n",
      "Fold 17\n",
      " Xtrain:\n",
      "[[ 4  5]\n",
      " [ 6  7]\n",
      " [ 8  9]\n",
      " [10 11]\n",
      " [12 13]\n",
      " [14 15]]\n",
      " Ttrain:\n",
      "[[2]\n",
      " [3]\n",
      " [4]\n",
      " [5]\n",
      " [6]\n",
      " [7]]\n",
      "\n",
      " Xval:\n",
      "[[0 1]\n",
      " [2 3]]\n",
      " Tval:\n",
      "[[0]\n",
      " [1]]\n",
      "\n",
      " Xtest:\n",
      "[[16 17]\n",
      " [18 19]]\n",
      " Ttest:\n",
      "[[8]\n",
      " [9]]\n",
      "Fold 18\n",
      " Xtrain:\n",
      "[[ 0  1]\n",
      " [ 2  3]\n",
      " [ 8  9]\n",
      " [10 11]\n",
      " [12 13]\n",
      " [14 15]]\n",
      " Ttrain:\n",
      "[[0]\n",
      " [1]\n",
      " [4]\n",
      " [5]\n",
      " [6]\n",
      " [7]]\n",
      "\n",
      " Xval:\n",
      "[[4 5]\n",
      " [6 7]]\n",
      " Tval:\n",
      "[[2]\n",
      " [3]]\n",
      "\n",
      " Xtest:\n",
      "[[16 17]\n",
      " [18 19]]\n",
      " Ttest:\n",
      "[[8]\n",
      " [9]]\n",
      "Fold 19\n",
      " Xtrain:\n",
      "[[ 0  1]\n",
      " [ 2  3]\n",
      " [ 4  5]\n",
      " [ 6  7]\n",
      " [12 13]\n",
      " [14 15]]\n",
      " Ttrain:\n",
      "[[0]\n",
      " [1]\n",
      " [2]\n",
      " [3]\n",
      " [6]\n",
      " [7]]\n",
      "\n",
      " Xval:\n",
      "[[ 8  9]\n",
      " [10 11]]\n",
      " Tval:\n",
      "[[4]\n",
      " [5]]\n",
      "\n",
      " Xtest:\n",
      "[[16 17]\n",
      " [18 19]]\n",
      " Ttest:\n",
      "[[8]\n",
      " [9]]\n",
      "Fold 20\n",
      " Xtrain:\n",
      "[[ 0  1]\n",
      " [ 2  3]\n",
      " [ 4  5]\n",
      " [ 6  7]\n",
      " [ 8  9]\n",
      " [10 11]]\n",
      " Ttrain:\n",
      "[[0]\n",
      " [1]\n",
      " [2]\n",
      " [3]\n",
      " [4]\n",
      " [5]]\n",
      "\n",
      " Xval:\n",
      "[[12 13]\n",
      " [14 15]]\n",
      " Tval:\n",
      "[[6]\n",
      " [7]]\n",
      "\n",
      " Xtest:\n",
      "[[16 17]\n",
      " [18 19]]\n",
      " Ttest:\n",
      "[[8]\n",
      " [9]]\n"
     ]
    }
   ],
   "source": [
    "X = np.arange(20).reshape((10,2))\n",
    "T = np.arange(10).reshape((-1,1))\n",
    "k = 0\n",
    "for Xtrain,Ttrain,Xval,Tval,Xtest,Ttest,testFold in partitionKFolds(X,T,5):\n",
    "    k += 1\n",
    "    print(\"Fold\",k)\n",
    "    print(\" Xtrain:\")\n",
    "    print(Xtrain)\n",
    "    print(\" Ttrain:\")\n",
    "    print(Ttrain)\n",
    "    print(\"\\n Xval:\")\n",
    "    print(Xval)\n",
    "    print(\" Tval:\")\n",
    "    print(Tval)\n",
    "    print(\"\\n Xtest:\")\n",
    "    print(Xtest)\n",
    "    print(\" Ttest:\")\n",
    "    print(Ttest)"
   ]
  },
  {
   "cell_type": "markdown",
   "metadata": {},
   "source": [
    "Typical use of these partitions is shown below.  It is most handy to just collect all results in a matrix and calculate averages afterwards, rather than accumulating each result and dividing by the number of repetitions at the end."
   ]
  },
  {
   "cell_type": "code",
   "execution_count": 62,
   "metadata": {
    "collapsed": true
   },
   "outputs": [],
   "source": [
    "def train(X,T,lamb):\n",
    "    means = X.mean(0)\n",
    "    stds = X.std(0)\n",
    "    n,d = X.shape\n",
    "    Xs1 = np.insert( (X - means)/stds, 0, 1, axis=1)\n",
    "    lambDiag = np.eye(d+1) * lamb\n",
    "    lambDiag[0,0] = 0\n",
    "    w = np.linalg.lstsq( Xs1.T @ Xs1 + lambDiag, Xs1.T @ T)[0]\n",
    "    return {'w': w, 'means':means, 'stds':stds}\n",
    "\n",
    "def use(X,model):\n",
    "    Xs1 = np.insert((X-model['means'])/model['stds'], 0, 1, axis=1)\n",
    "    return Xs1 @ model['w']\n",
    "\n",
    "def rmse(A,B):\n",
    "    return np.sqrt(np.mean( (A-B)**2 ))"
   ]
  },
  {
   "cell_type": "code",
   "execution_count": 63,
   "metadata": {
    "collapsed": false
   },
   "outputs": [
    {
     "name": "stdout",
     "output_type": "stream",
     "text": [
      "0\n",
      "[[  0.00000000e+00   4.44089210e-16   1.77635684e-15]\n",
      " [  1.47287728e-15   6.28036983e-16   7.02166694e-16]\n",
      " [  1.62158452e-15   0.00000000e+00   3.58036167e-15]\n",
      " [  1.30736323e-15   2.80866677e-15   2.35513869e-15]\n",
      " [  0.00000000e+00   1.77635684e-15   4.44089210e-16]\n",
      " [  2.19064005e-15   0.00000000e+00   6.28036983e-16]\n",
      " [  2.08296303e-15   1.25607397e-15   1.40433339e-15]\n",
      " [  9.33291978e-16   1.77635684e-15   7.02166694e-16]\n",
      " [  1.47287728e-15   7.02166694e-16   6.28036983e-16]\n",
      " [  2.19064005e-15   6.28036983e-16   0.00000000e+00]\n",
      " [  2.56395025e-16   0.00000000e+00   6.28036983e-16]\n",
      " [  3.84592537e-16   0.00000000e+00   0.00000000e+00]\n",
      " [  1.62158452e-15   3.58036167e-15   0.00000000e+00]\n",
      " [  2.08296303e-15   1.40433339e-15   1.25607397e-15]\n",
      " [  2.56395025e-16   6.28036983e-16   0.00000000e+00]\n",
      " [  1.09156249e-15   4.52883909e-15   3.14018492e-15]\n",
      " [  1.30736323e-15   2.35513869e-15   2.80866677e-15]\n",
      " [  9.33291978e-16   7.02166694e-16   1.77635684e-15]\n",
      " [  3.84592537e-16   0.00000000e+00   0.00000000e+00]\n",
      " [  1.09156249e-15   3.14018492e-15   4.52883909e-15]]\n",
      "1\n",
      "[[ 0.13137116  0.31008684  0.46313825]\n",
      " [ 0.19569663  0.10953851  0.41205535]\n",
      " [ 0.19569663  0.10953851  0.36102892]\n",
      " [ 0.13137116  0.31008684  0.31008684]\n",
      " [ 0.13137116  0.46313825  0.31008684]\n",
      " [ 0.26430164  0.06410256  0.20870283]\n",
      " [ 0.25415676  0.15858099  0.15858099]\n",
      " [ 0.19569663  0.36102892  0.10953851]\n",
      " [ 0.19569663  0.41205535  0.10953851]\n",
      " [ 0.26430164  0.20870283  0.06410256]\n",
      " [ 0.26430164  0.20870283  0.06410256]\n",
      " [ 0.19569663  0.41205535  0.10953851]\n",
      " [ 0.19569663  0.36102892  0.10953851]\n",
      " [ 0.25415676  0.15858099  0.15858099]\n",
      " [ 0.26430164  0.06410256  0.20870283]\n",
      " [ 0.13137116  0.46313825  0.31008684]\n",
      " [ 0.13137116  0.31008684  0.31008684]\n",
      " [ 0.19569663  0.10953851  0.36102892]\n",
      " [ 0.19569663  0.10953851  0.41205535]\n",
      " [ 0.13137116  0.31008684  0.46313825]]\n",
      "5\n",
      "[[ 0.50230151  1.18562614  1.77082273]\n",
      " [ 0.74825184  0.41882371  1.57550575]\n",
      " [ 0.74825184  0.41882371  1.38040469]\n",
      " [ 0.50230151  1.18562614  1.18562614]\n",
      " [ 0.50230151  1.77082273  1.18562614]\n",
      " [ 1.0105651   0.24509804  0.7979814 ]\n",
      " [ 0.97177586  0.60633906  0.60633906]\n",
      " [ 0.74825184  1.38040469  0.41882371]\n",
      " [ 0.74825184  1.57550575  0.41882371]\n",
      " [ 1.0105651   0.7979814   0.24509804]\n",
      " [ 1.0105651   0.7979814   0.24509804]\n",
      " [ 0.74825184  1.57550575  0.41882371]\n",
      " [ 0.74825184  1.38040469  0.41882371]\n",
      " [ 0.97177586  0.60633906  0.60633906]\n",
      " [ 1.0105651   0.24509804  0.7979814 ]\n",
      " [ 0.50230151  1.77082273  1.18562614]\n",
      " [ 0.50230151  1.18562614  1.18562614]\n",
      " [ 0.74825184  0.41882371  1.38040469]\n",
      " [ 0.74825184  0.41882371  1.57550575]\n",
      " [ 0.50230151  1.18562614  1.77082273]]\n",
      "10\n",
      "[[ 0.77628415  1.83233131  2.73672604]\n",
      " [ 1.15638921  0.64727301  2.43487253]\n",
      " [ 1.15638921  0.64727301  2.1333527 ]\n",
      " [ 0.77628415  1.83233131  1.83233131]\n",
      " [ 0.77628415  2.73672604  1.83233131]\n",
      " [ 1.56178243  0.37878788  1.23324398]\n",
      " [ 1.50183542  0.93706946  0.93706946]\n",
      " [ 1.15638921  2.1333527   0.64727301]\n",
      " [ 1.15638921  2.43487253  0.64727301]\n",
      " [ 1.56178243  1.23324398  0.37878788]\n",
      " [ 1.56178243  1.23324398  0.37878788]\n",
      " [ 1.15638921  2.43487253  0.64727301]\n",
      " [ 1.15638921  2.1333527   0.64727301]\n",
      " [ 1.50183542  0.93706946  0.93706946]\n",
      " [ 1.56178243  0.37878788  1.23324398]\n",
      " [ 0.77628415  2.73672604  1.83233131]\n",
      " [ 0.77628415  1.83233131  1.83233131]\n",
      " [ 1.15638921  0.64727301  2.1333527 ]\n",
      " [ 1.15638921  0.64727301  2.43487253]\n",
      " [ 0.77628415  1.83233131  2.73672604]]\n",
      "20\n",
      "[[ 1.0673907   2.51945555  3.76299831]\n",
      " [ 1.59003516  0.89000039  3.34794972]\n",
      " [ 1.59003516  0.89000039  2.93335997]\n",
      " [ 1.0673907   2.51945555  2.51945555]\n",
      " [ 1.0673907   3.76299831  2.51945555]\n",
      " [ 2.14745085  0.52083333  1.69571048]\n",
      " [ 2.06502371  1.28847051  1.28847051]\n",
      " [ 1.59003516  2.93335997  0.89000039]\n",
      " [ 1.59003516  3.34794972  0.89000039]\n",
      " [ 2.14745085  1.69571048  0.52083333]\n",
      " [ 2.14745085  1.69571048  0.52083333]\n",
      " [ 1.59003516  3.34794972  0.89000039]\n",
      " [ 1.59003516  2.93335997  0.89000039]\n",
      " [ 2.06502371  1.28847051  1.28847051]\n",
      " [ 2.14745085  0.52083333  1.69571048]\n",
      " [ 1.0673907   3.76299831  2.51945555]\n",
      " [ 1.0673907   2.51945555  2.51945555]\n",
      " [ 1.59003516  0.89000039  2.93335997]\n",
      " [ 1.59003516  0.89000039  3.34794972]\n",
      " [ 1.0673907   2.51945555  3.76299831]]\n",
      "[[  0.00000000e+00   1.13412701e-15   1.31794229e-15   1.31794229e-15]\n",
      " [  1.00000000e+00   1.95966008e-01   2.50685959e-01   2.50685959e-01]\n",
      " [  5.00000000e+00   7.49281795e-01   9.58505138e-01   9.58505138e-01]\n",
      " [  1.00000000e+01   1.15798096e+00   1.48132612e+00   1.48132612e+00]\n",
      " [  2.00000000e+01   1.59222382e+00   2.03682342e+00   2.03682342e+00]]\n"
     ]
    }
   ],
   "source": [
    "lambdas = [0,1,5,10,20]\n",
    "results = []\n",
    "for Xtrain,Ttrain,Xval,Tval,Xtest,Ttest,_ in partitionKFolds(X,T,5):\n",
    "    for lamb in lambdas:\n",
    "        model = train(Xtrain,Ttrain,lamb)\n",
    "        predict = use(Xval,model)\n",
    "        results.append([lamb,\n",
    "                        rmse(use(Xtrain,model),Ttrain),\n",
    "                        rmse(use(Xval,model),Tval),\n",
    "                        rmse(use(Xtest,model),Ttest)])\n",
    "results = np.array(results)\n",
    "# print(results)\n",
    "avgresults = []\n",
    "for lam in lambdas:\n",
    "    print(lam)\n",
    "    print(results[results[:,0]==lam,1:])\n",
    "    avgresults.append( [lam] + np.mean(results[results[:,0]==lam,1:],axis=0).tolist())\n",
    "avgresults = np.array(avgresults)\n",
    "print(avgresults)"
   ]
  },
  {
   "cell_type": "code",
   "execution_count": 64,
   "metadata": {
    "collapsed": false
   },
   "outputs": [
    {
     "data": {
      "image/png": "[encoded data removed]",
      "text/plain": [
       "<matplotlib.figure.Figure at 0x7f930dd53588>"
      ]
     },
     "metadata": {},
     "output_type": "display_data"
    }
   ],
   "source": [
    "plt.plot(avgresults[:,0],avgresults[:,1:],'o-')\n",
    "plt.xlabel('$\\lambda$')\n",
    "plt.ylabel('RMSE')\n",
    "plt.legend(('Train','Validate','Test'),loc='best');"
   ]
  },
  {
   "cell_type": "code",
   "execution_count": 66,
   "metadata": {
    "collapsed": false
   },
   "outputs": [
    {
     "data": {
      "text/plain": [
       "[<matplotlib.lines.Line2D at 0x7f930dc8ec50>,\n",
       " <matplotlib.lines.Line2D at 0x7f930dc8edd8>]"
      ]
     },
     "execution_count": 66,
     "metadata": {},
     "output_type": "execute_result"
    },
    {
     "data": {
      "image/png": "[encoded data removed]",
      "text/plain": [
       "<matplotlib.figure.Figure at 0x7f930dcb5c50>"
      ]
     },
     "metadata": {},
     "output_type": "display_data"
    }
   ],
   "source": [
    "plt.plot(avgresults[:,0], avgresults[:,2:])"
   ]
  },
  {
   "cell_type": "code",
   "execution_count": 67,
   "metadata": {
    "collapsed": false
   },
   "outputs": [
    {
     "data": {
      "text/plain": [
       "array([[  1.31794229e-15,   1.31794229e-15],\n",
       "       [  2.50685959e-01,   2.50685959e-01],\n",
       "       [  9.58505138e-01,   9.58505138e-01],\n",
       "       [  1.48132612e+00,   1.48132612e+00],\n",
       "       [  2.03682342e+00,   2.03682342e+00]])"
      ]
     },
     "execution_count": 67,
     "metadata": {},
     "output_type": "execute_result"
    }
   ],
   "source": [
    "avgresults[:,2:]"
   ]
  },
  {
   "cell_type": "code",
   "execution_count": null,
   "metadata": {
    "collapsed": true
   },
   "outputs": [],
   "source": []
  }
 ],
 "metadata": {
  "anaconda-cloud": {},
  "kernelspec": {
   "display_name": "Python [default]",
   "language": "python",
   "name": "python3"
  },
  "language_info": {
   "codemirror_mode": {
    "name": "ipython",
    "version": 3
   },
   "file_extension": ".py",
   "mimetype": "text/x-python",
   "name": "python",
   "nbconvert_exporter": "python",
   "pygments_lexer": "ipython3",
   "version": "3.5.2"
  }
 },
 "nbformat": 4,
 "nbformat_minor": 0
}
