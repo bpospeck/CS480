








<!DOCTYPE html>
<html lang="en">

<head>
  <meta charset="utf-8">
  <title>Jupyter Notebook Viewer</title>
  <meta name="viewport" content="width=device-width, initial-scale=1.0">
  <meta name="description" content="">
  <meta name="author" content="">
  
  <meta name="robots" content="noindex,nofollow">
  

  <!--NEW RELIC Start Perf Measurement-->
  
  <!--NREND-->

  <!-- Le styles -->
  <script type="text/javascript">
//<![CDATA[
try{if (!window.CloudFlare) {var CloudFlare=[{verbose:0,p:0,byc:0,owlid:"cf",bag2:1,mirage2:0,oracle:0,paths:{cloudflare:"/cdn-cgi/nexp/dok3v=1613a3a185/"},atok:"2c554000d27230245b2f6639f086e6b3",petok:"53caea5ceb5bb62bcf382e0638049ed083592f80-1490566672-3600",zone:"jupyter.org",rocket:"0",apps:{"ga_key":{"ua":"UA-52617120-1","ga_bs":"2"}}}];!function(a,b){a=document.createElement("script"),b=document.getElementsByTagName("script")[0],a.async=!0,a.src="//ajax.cloudflare.com/cdn-cgi/nexp/dok3v=f2befc48d1/cloudflare.min.js",b.parentNode.insertBefore(a,b)}()}}catch(e){};
//]]>
</script>
<link href="/static/build/styles.css?v=c18d49652a516277e15114bbd447f1c1" rel="stylesheet">

  <!-- Le HTML5 shim, for IE6-8 support of HTML5 elements -->
  <!--[if lt IE 9]>
    <script src="http://html5shim.googlecode.com/svn/trunk/html5.js"></script>
  <![endif]-->

  <!-- Le fav and touch icons -->
  <link rel="shortcut icon" href="/static/ico/ipynb_icon_16x16.png">
  <link rel="apple-touch-icon-precomposed" sizes="144x144"
        href="/static/ico/apple-touch-icon-144-precomposed.png?v=5a3c9ede93e2a8b8ea9e3f8f3da1a905">
  <link rel="apple-touch-icon-precomposed" sizes="114x114"
        href="/static/ico/apple-touch-icon-114-precomposed.png?v=45d86fc8f24dc00638035e1dd7a6d898">
  <link rel="apple-touch-icon-precomposed" sizes="72x72"
        href="/static/ico/apple-touch-icon-72-precomposed.png?v=540b5eb0f3cfd25f1439d1c9bd30e15f">
  <link rel="apple-touch-icon-precomposed"
        href="/static/ico/apple-touch-icon-57-precomposed.png?v=225f0590e187e1458625654f10a28f56">
  
  

  

  
  <meta name="twitter:card" content="summary">
  <meta name="twitter:title" content="Notebook on nbviewer">
  <meta name="twitter:description" content="Check out this Jupyter notebook!">

  
  <meta name="twitter:domain" content="nbviewer.ipython.org">
  <meta name="twitter:image:src" content="http://ipython.org/ipython-doc/dev/_images/ipynb_icon_128x128.png">

  
    <link href="/static/build/notebook.css?v=d05748bef7d8f0edbc1e0133b9a41fe0" rel="stylesheet">
  

  

  
    <script src="https://cdn.mathjax.org/mathjax/latest/MathJax.js?config=TeX-AMS_HTML" type="text/javascript">
    </script>
    <script type="text/javascript">
      init_mathjax = function() {
        if (window.MathJax) {
          // MathJax loaded
          MathJax.Hub.Config({
            TeX: {
              equationNumbers: {
                autoNumber: "AMS",
                useLabelIds: true
              }
            },
            tex2jax: {
              inlineMath: [ ['$','$'], ["\\(","\\)"] ],
              displayMath: [ ['$$','$$'], ["\\[","\\]"] ],
              processEscapes: true,
              processEnvironments: true
            },
            displayAlign: 'center',
            "HTML-CSS": {
              styles: {'.MathJax_Display': {"margin": 0}},
              linebreaks: { automatic: true }
            }
          });
          MathJax.Hub.Queue(["Typeset", MathJax.Hub]);
        }
      }
      init_mathjax();
    </script>
  

<script type="text/javascript">
/* <![CDATA[ */
var _gaq = _gaq || [];
_gaq.push(['_setAccount', 'UA-52617120-1']);
_gaq.push(['_trackPageview']);

(function() {
var ga = document.createElement('script'); ga.type = 'text/javascript'; ga.async = true;
ga.src = ('https:' == document.location.protocol ? 'https://ssl' : 'http://www') + '.google-analytics.com/ga.js';
var s = document.getElementsByTagName('script')[0]; s.parentNode.insertBefore(ga, s);
})();

(function(b){(function(a){"__CF"in b&&"DJS"in b.__CF?b.__CF.DJS.push(a):"addEventListener"in b?b.addEventListener("load",a,!1):b.attachEvent("onload",a)})(function(){"FB"in b&&"Event"in FB&&"subscribe"in FB.Event&&(FB.Event.subscribe("edge.create",function(a){_gaq.push(["_trackSocial","facebook","like",a])}),FB.Event.subscribe("edge.remove",function(a){_gaq.push(["_trackSocial","facebook","unlike",a])}),FB.Event.subscribe("message.send",function(a){_gaq.push(["_trackSocial","facebook","send",a])}));"twttr"in b&&"events"in twttr&&"bind"in twttr.events&&twttr.events.bind("tweet",function(a){if(a){var b;if(a.target&&a.target.nodeName=="IFRAME")a:{if(a=a.target.src){a=a.split("#")[0].match(/[^?=&]+=([^&]*)?/g);b=0;for(var c;c=a[b];++b)if(c.indexOf("url")===0){b=unescape(c.split("=")[1]);break a}}b=void 0}_gaq.push(["_trackSocial","twitter","tweet",b])}})})})(window);
/* ]]> */
</script>
</head>

<body class="nbviewer">

  <!-- These are loaded at the top of the body so they are available to
       notebook cells when they are loaded below. -->
  <script src="/static/components/jquery/dist/jquery.min.js?v=e071abda8fe61194711cfc2ab99fe104"></script>
  <script src="/static/components/requirejs/require.js?v=6da8be361b9ee26c5e721e76c6d4afce"></script>
  <script src="/static/components/moment/min/moment.min.js?v=89f87298ad94aa1e6b92f42eb66da043"></script>

<!-- Navbar
================================================== -->
  <nav id="menubar" class="navbar navbar-default navbar-fixed-top" data-spy="affix">
    <div class="container">
      <div class="navbar-header">
        <button type="button" class="navbar-toggle collapsed" data-toggle="collapse" data-target=".navbar-collapse">
          <span class="sr-only">Toggle navigation</span>
          <i class="fa fa-bars"></i>
        </button>
        <a class="navbar-brand" href="/">
          <img src="/static/img/nav_logo.svg?v=479cefe8d932fb14a67b93911b97d70f" width="159"/>
        </a>
      </div>

      <div class="collapse navbar-collapse">
        <ul class="nav navbar-nav navbar-right">
          <li>
            <a class="active" href="http://jupyter.org">JUPYTER</a>
          </li>
          <li>
    <a href="/faq" title="FAQ" >
      
        <span>FAQ</span>
      
    </a>
  </li>

          
  
    
      
        <li>
    <a href="/format/script/url/www.cs.colostate.edu/~anderson/cs480/notebooks/17%20Analysis%20of%20Neural%20Network%20Classifiers%20and%20Bottleneck%20Networks.ipynb" title="View as Code" >
      <span class="fa fa-code fa-2x menu-icon"></span>
      <span class="menu-text">View as Code</span>
    </a>
  </li>
      
    
  
    
  

  
    <li>
    <a href="#" title="Python [default] Kernel" >
      <span class="fa fa-server fa-2x menu-icon"></span>
      <span class="menu-text">Python [default] Kernel</span>
    </a>
  </li>
  

  

  <li>
    <a href="http://www.cs.colostate.edu/%7Eanderson/cs480/notebooks/17%20Analysis%20of%20Neural%20Network%20Classifiers%20and%20Bottleneck%20Networks.ipynb" title="Download Notebook" download>
      <span class="fa fa-download fa-2x menu-icon"></span>
      <span class="menu-text">Download Notebook</span>
    </a>
  </li>

        </ul>
      </div><!-- /.navbar-collapse -->
      
      
    </div>
  </nav>

  <div class="container container-main">
    
  
  <div id="notebook">
    <div id="notebook-container">
      
<div class="cell border-box-sizing text_cell rendered">
<div class="prompt input_prompt">
</div>
<div class="inner_cell">
<div class="text_cell_render border-box-sizing rendered_html">
$$\newcommand{\xv}{\mathbf{x}}
\newcommand{\Xv}{\mathbf{X}}
\newcommand{\yv}{\mathbf{y}}
\newcommand{\Yv}{\mathbf{Y}}
\newcommand{\zv}{\mathbf{z}}
\newcommand{\av}{\mathbf{a}}
\newcommand{\Wv}{\mathbf{W}}
\newcommand{\wv}{\mathbf{w}}
\newcommand{\betav}{\mathbf{\beta}}
\newcommand{\gv}{\mathbf{g}}
\newcommand{\Hv}{\mathbf{H}}
\newcommand{\dv}{\mathbf{d}}
\newcommand{\Vv}{\mathbf{V}}
\newcommand{\vv}{\mathbf{v}}
\newcommand{\tv}{\mathbf{t}}
\newcommand{\Tv}{\mathbf{T}}
\newcommand{\Sv}{\mathbf{S}}
\newcommand{\Gv}{\mathbf{G}}
\newcommand{\zv}{\mathbf{z}}
\newcommand{\Zv}{\mathbf{Z}}
\newcommand{\Norm}{\mathcal{N}}
\newcommand{\muv}{\boldsymbol{\mu}}
\newcommand{\sigmav}{\boldsymbol{\sigma}}
\newcommand{\phiv}{\boldsymbol{\phi}}
\newcommand{\Phiv}{\boldsymbol{\Phi}}
\newcommand{\Sigmav}{\boldsymbol{\Sigma}}
\newcommand{\Lambdav}{\boldsymbol{\Lambda}}
\newcommand{\half}{\frac{1}{2}}
\newcommand{\argmax}[1]{\underset{#1}{\operatorname{argmax}}}
\newcommand{\argmin}[1]{\underset{#1}{\operatorname{argmin}}}
\newcommand{\dimensionbar}[1]{\underset{#1}{\operatorname{|}}}
\newcommand{\dimensionbar}[1]{\underset{#1}{\operatorname{|}}}
\newcommand{\grad}{\mathbf{\nabla}}
\newcommand{\ebx}[1]{e^{\betav_{#1}^T \xv_n}}
\newcommand{\eby}[1]{e^{y_{n,#1}}}
\newcommand{\Tiv}{\mathbf{Ti}}
\newcommand{\Fv}{\mathbf{F}}
\newcommand{\ones}[1]{\mathbf{1}_{#1}}
$$
</div>
</div>
</div>
<div class="cell border-box-sizing text_cell rendered">
<div class="prompt input_prompt">
</div>
<div class="inner_cell">
<div class="text_cell_render border-box-sizing rendered_html">
<h1 id="Analysis-of-Neural-Network-Classifiers-and-Bottleneck-Networks">Analysis of Neural Network Classifiers and Bottleneck Networks<a class="anchor-link" href="#Analysis-of-Neural-Network-Classifiers-and-Bottleneck-Networks">&#182;</a></h1>
</div>
</div>
</div>
<div class="cell border-box-sizing code_cell rendered">
<div class="input">
<div class="prompt input_prompt">In&nbsp;[1]:</div>
<div class="inner_cell">
    <div class="input_area">
<div class=" highlight hl-ipython3"><pre><span></span><span class="kn">import</span> <span class="nn">numpy</span> <span class="k">as</span> <span class="nn">np</span>
<span class="kn">import</span> <span class="nn">matplotlib.pyplot</span> <span class="k">as</span> <span class="nn">plt</span>
<span class="o">%</span><span class="k">matplotlib</span> inline
</pre></div>

</div>
</div>
</div>

</div>
<div class="cell border-box-sizing code_cell rendered">
<div class="input">
<div class="prompt input_prompt">In&nbsp;[2]:</div>
<div class="inner_cell">
    <div class="input_area">
<div class=" highlight hl-ipython3"><pre><span></span><span class="o">!</span>wget http://www.cs.colostate.edu/~anderson/cs480/notebooks/nn2.tar
<span class="o">!</span>tar xvf nn2.tar
</pre></div>

</div>
</div>
</div>

<div class="output_wrapper">
<div class="output">


<div class="output_area">
<div class="prompt"></div>

<div class="output_subarea output_stream output_stdout output_text">
<pre>--2017-03-18 21:46:14--  http://www.cs.colostate.edu/~anderson/cs480/notebooks/nn2.tar
Resolving www.cs.colostate.edu (www.cs.colostate.edu)... 129.82.45.114
Connecting to www.cs.colostate.edu (www.cs.colostate.edu)|129.82.45.114|:80... connected.
HTTP request sent, awaiting response... 200 OK
Length: 51200 (50K) [application/x-tar]
Saving to: ‘nn2.tar’

nn2.tar             100%[===================&gt;]  50.00K  --.-KB/s    in 0.1s    

2017-03-18 21:46:14 (473 KB/s) - ‘nn2.tar’ saved [51200/51200]

neuralnetworks.py
mlutils.py
scaledconjugategradient.py
</pre>
</div>
</div>

</div>
</div>

</div>
<div class="cell border-box-sizing code_cell rendered">
<div class="input">
<div class="prompt input_prompt">In&nbsp;[2]:</div>
<div class="inner_cell">
    <div class="input_area">
<div class=" highlight hl-ipython3"><pre><span></span><span class="kn">import</span> <span class="nn">neuralnetworks</span> <span class="k">as</span> <span class="nn">nn</span>
<span class="kn">import</span> <span class="nn">qdalda</span>
<span class="kn">import</span> <span class="nn">mlutils</span> <span class="k">as</span> <span class="nn">ml</span>
</pre></div>

</div>
</div>
</div>

</div>
<div class="cell border-box-sizing text_cell rendered">
<div class="prompt input_prompt">
</div>
<div class="inner_cell">
<div class="text_cell_render border-box-sizing rendered_html">
<p>Now let's go through the steps of applying a neural network classifier to the <a href="http://archive.ics.uci.edu/ml/datasets/STUDENT+ALCOHOL+CONSUMPTION">Student Alcohol Consumption data set</a>,  recently added to the <a href="http://archive.ics.uci.edu/ml/">UCI ML Repository</a>. This data set has 1,044 samples, each with 33 attributes.  The paper <a href="https://www.researchgate.net/publication/296695247_USING_DATA_MINING_TO_PREDICT_SECONDARY_SCHOOL_STUDENT_ALCOHOL_CONSUMPTION">Using data Mining to Predict Secondary School Student Alcohol Consumption</a> describes the application of random forests to this classification problem.  This paper will serve as our guide on how to set up the data.</p>

</div>
</div>
</div>
<div class="cell border-box-sizing text_cell rendered">
<div class="prompt input_prompt">
</div>
<div class="inner_cell">
<div class="text_cell_render border-box-sizing rendered_html">
<p>Start by downloading the <code>student.zip</code> file, either by clicking on the link in the Data Folder at the Repository, or by using <code>wget</code>.</p>

</div>
</div>
</div>
<div class="cell border-box-sizing code_cell rendered">
<div class="input">
<div class="prompt input_prompt">In&nbsp;[3]:</div>
<div class="inner_cell">
    <div class="input_area">
<div class=" highlight hl-ipython3"><pre><span></span><span class="o">!</span>wget http://archive.ics.uci.edu/ml/machine-learning-databases/00356/student.zip
<span class="o">!</span>unzip -o student.zip
<span class="o">!</span>rm student.zip
<span class="o">!</span>ls student*
</pre></div>

</div>
</div>
</div>

<div class="output_wrapper">
<div class="output">


<div class="output_area">
<div class="prompt"></div>

<div class="output_subarea output_stream output_stdout output_text">
<pre>--2017-03-21 14:01:09--  http://archive.ics.uci.edu/ml/machine-learning-databases/00356/student.zip
Resolving archive.ics.uci.edu (archive.ics.uci.edu)... failed: Temporary failure in name resolution.
wget: unable to resolve host address ‘archive.ics.uci.edu’
unzip:  cannot find or open student.zip, student.zip.zip or student.zip.ZIP.
rm: cannot remove &#39;student.zip&#39;: No such file or directory
ls: cannot access &#39;student*&#39;: No such file or directory
</pre>
</div>
</div>

</div>
</div>

</div>
<div class="cell border-box-sizing code_cell rendered">
<div class="input">
<div class="prompt input_prompt">In&nbsp;[4]:</div>
<div class="inner_cell">
    <div class="input_area">
<div class=" highlight hl-ipython3"><pre><span></span><span class="o">!</span>cat student.txt
</pre></div>

</div>
</div>
</div>

<div class="output_wrapper">
<div class="output">


<div class="output_area">
<div class="prompt"></div>

<div class="output_subarea output_stream output_stdout output_text">
<pre>cat: student.txt: No such file or directory
</pre>
</div>
</div>

</div>
</div>

</div>
<div class="cell border-box-sizing code_cell rendered">
<div class="input">
<div class="prompt input_prompt">In&nbsp;[6]:</div>
<div class="inner_cell">
    <div class="input_area">
<div class=" highlight hl-ipython3"><pre><span></span><span class="o">!</span>head -10 student-mat.csv
</pre></div>

</div>
</div>
</div>

<div class="output_wrapper">
<div class="output">


<div class="output_area">
<div class="prompt"></div>

<div class="output_subarea output_stream output_stdout output_text">
<pre>school;sex;age;address;famsize;Pstatus;Medu;Fedu;Mjob;Fjob;reason;guardian;traveltime;studytime;failures;schoolsup;famsup;paid;activities;nursery;higher;internet;romantic;famrel;freetime;goout;Dalc;Walc;health;absences;G1;G2;G3
&#34;GP&#34;;&#34;F&#34;;18;&#34;U&#34;;&#34;GT3&#34;;&#34;A&#34;;4;4;&#34;at_home&#34;;&#34;teacher&#34;;&#34;course&#34;;&#34;mother&#34;;2;2;0;&#34;yes&#34;;&#34;no&#34;;&#34;no&#34;;&#34;no&#34;;&#34;yes&#34;;&#34;yes&#34;;&#34;no&#34;;&#34;no&#34;;4;3;4;1;1;3;6;&#34;5&#34;;&#34;6&#34;;6
&#34;GP&#34;;&#34;F&#34;;17;&#34;U&#34;;&#34;GT3&#34;;&#34;T&#34;;1;1;&#34;at_home&#34;;&#34;other&#34;;&#34;course&#34;;&#34;father&#34;;1;2;0;&#34;no&#34;;&#34;yes&#34;;&#34;no&#34;;&#34;no&#34;;&#34;no&#34;;&#34;yes&#34;;&#34;yes&#34;;&#34;no&#34;;5;3;3;1;1;3;4;&#34;5&#34;;&#34;5&#34;;6
&#34;GP&#34;;&#34;F&#34;;15;&#34;U&#34;;&#34;LE3&#34;;&#34;T&#34;;1;1;&#34;at_home&#34;;&#34;other&#34;;&#34;other&#34;;&#34;mother&#34;;1;2;3;&#34;yes&#34;;&#34;no&#34;;&#34;yes&#34;;&#34;no&#34;;&#34;yes&#34;;&#34;yes&#34;;&#34;yes&#34;;&#34;no&#34;;4;3;2;2;3;3;10;&#34;7&#34;;&#34;8&#34;;10
&#34;GP&#34;;&#34;F&#34;;15;&#34;U&#34;;&#34;GT3&#34;;&#34;T&#34;;4;2;&#34;health&#34;;&#34;services&#34;;&#34;home&#34;;&#34;mother&#34;;1;3;0;&#34;no&#34;;&#34;yes&#34;;&#34;yes&#34;;&#34;yes&#34;;&#34;yes&#34;;&#34;yes&#34;;&#34;yes&#34;;&#34;yes&#34;;3;2;2;1;1;5;2;&#34;15&#34;;&#34;14&#34;;15
&#34;GP&#34;;&#34;F&#34;;16;&#34;U&#34;;&#34;GT3&#34;;&#34;T&#34;;3;3;&#34;other&#34;;&#34;other&#34;;&#34;home&#34;;&#34;father&#34;;1;2;0;&#34;no&#34;;&#34;yes&#34;;&#34;yes&#34;;&#34;no&#34;;&#34;yes&#34;;&#34;yes&#34;;&#34;no&#34;;&#34;no&#34;;4;3;2;1;2;5;4;&#34;6&#34;;&#34;10&#34;;10
&#34;GP&#34;;&#34;M&#34;;16;&#34;U&#34;;&#34;LE3&#34;;&#34;T&#34;;4;3;&#34;services&#34;;&#34;other&#34;;&#34;reputation&#34;;&#34;mother&#34;;1;2;0;&#34;no&#34;;&#34;yes&#34;;&#34;yes&#34;;&#34;yes&#34;;&#34;yes&#34;;&#34;yes&#34;;&#34;yes&#34;;&#34;no&#34;;5;4;2;1;2;5;10;&#34;15&#34;;&#34;15&#34;;15
&#34;GP&#34;;&#34;M&#34;;16;&#34;U&#34;;&#34;LE3&#34;;&#34;T&#34;;2;2;&#34;other&#34;;&#34;other&#34;;&#34;home&#34;;&#34;mother&#34;;1;2;0;&#34;no&#34;;&#34;no&#34;;&#34;no&#34;;&#34;no&#34;;&#34;yes&#34;;&#34;yes&#34;;&#34;yes&#34;;&#34;no&#34;;4;4;4;1;1;3;0;&#34;12&#34;;&#34;12&#34;;11
&#34;GP&#34;;&#34;F&#34;;17;&#34;U&#34;;&#34;GT3&#34;;&#34;A&#34;;4;4;&#34;other&#34;;&#34;teacher&#34;;&#34;home&#34;;&#34;mother&#34;;2;2;0;&#34;yes&#34;;&#34;yes&#34;;&#34;no&#34;;&#34;no&#34;;&#34;yes&#34;;&#34;yes&#34;;&#34;no&#34;;&#34;no&#34;;4;1;4;1;1;1;6;&#34;6&#34;;&#34;5&#34;;6
&#34;GP&#34;;&#34;M&#34;;15;&#34;U&#34;;&#34;LE3&#34;;&#34;A&#34;;3;2;&#34;services&#34;;&#34;other&#34;;&#34;home&#34;;&#34;mother&#34;;1;2;0;&#34;no&#34;;&#34;yes&#34;;&#34;yes&#34;;&#34;no&#34;;&#34;yes&#34;;&#34;yes&#34;;&#34;yes&#34;;&#34;no&#34;;4;2;2;1;1;1;0;&#34;16&#34;;&#34;18&#34;;19
</pre>
</div>
</div>

</div>
</div>

</div>
<div class="cell border-box-sizing text_cell rendered">
<div class="prompt input_prompt">
</div>
<div class="inner_cell">
<div class="text_cell_render border-box-sizing rendered_html">
<p>So, first of all, we see that semi-colons are the field separator, and the first line is column headings. Also, notice that the non-numeric values are surrounded by double quotes.  And the third and second to last numeric fields are also surrounded by double quotes.</p>
<p>Read the first line into a list of column names.</p>

</div>
</div>
</div>
<div class="cell border-box-sizing code_cell rendered">
<div class="input">
<div class="prompt input_prompt">In&nbsp;[7]:</div>
<div class="inner_cell">
    <div class="input_area">
<div class=" highlight hl-ipython3"><pre><span></span><span class="k">with</span> <span class="nb">open</span><span class="p">(</span><span class="s1">&#39;student-mat.csv&#39;</span><span class="p">)</span> <span class="k">as</span> <span class="n">file</span><span class="p">:</span>
    <span class="n">headings</span> <span class="o">=</span> <span class="n">file</span><span class="o">.</span><span class="n">readline</span><span class="p">()</span><span class="o">.</span><span class="n">split</span><span class="p">(</span><span class="s1">&#39;;&#39;</span><span class="p">)</span>
    <span class="n">headings</span> <span class="o">=</span> <span class="p">[</span><span class="n">head</span><span class="o">.</span><span class="n">strip</span><span class="p">()</span> <span class="k">for</span> <span class="n">head</span> <span class="ow">in</span> <span class="n">headings</span><span class="p">]</span>
<span class="nb">print</span><span class="p">(</span><span class="n">headings</span><span class="p">)</span>
</pre></div>

</div>
</div>
</div>

<div class="output_wrapper">
<div class="output">


<div class="output_area">
<div class="prompt"></div>

<div class="output_subarea output_stream output_stdout output_text">
<pre>[&#39;school&#39;, &#39;sex&#39;, &#39;age&#39;, &#39;address&#39;, &#39;famsize&#39;, &#39;Pstatus&#39;, &#39;Medu&#39;, &#39;Fedu&#39;, &#39;Mjob&#39;, &#39;Fjob&#39;, &#39;reason&#39;, &#39;guardian&#39;, &#39;traveltime&#39;, &#39;studytime&#39;, &#39;failures&#39;, &#39;schoolsup&#39;, &#39;famsup&#39;, &#39;paid&#39;, &#39;activities&#39;, &#39;nursery&#39;, &#39;higher&#39;, &#39;internet&#39;, &#39;romantic&#39;, &#39;famrel&#39;, &#39;freetime&#39;, &#39;goout&#39;, &#39;Dalc&#39;, &#39;Walc&#39;, &#39;health&#39;, &#39;absences&#39;, &#39;G1&#39;, &#39;G2&#39;, &#39;G3&#39;]
</pre>
</div>
</div>

</div>
</div>

</div>
<div class="cell border-box-sizing text_cell rendered">
<div class="prompt input_prompt">
</div>
<div class="inner_cell">
<div class="text_cell_render border-box-sizing rendered_html">
<p>Now, how do we read the data lines?  My usual answer is to use <a href="http://docs.scipy.org/doc/numpy-1.10.0/reference/generated/numpy.loadtxt.html">np.loadtxt</a>. The <a href="http://pandas.pydata.org/">Pandas</a> package is something you should read about and practice using in the future.</p>
<p><code>np.loadtxt</code> allows you to specify a function to call to convert values in each column.  The converters are specified as a dictionary with keys for column indices.  Here is a definition of converters for each column interspersed with the data set's documentation for each attribute.</p>

</div>
</div>
</div>
<div class="cell border-box-sizing code_cell rendered">
<div class="input">
<div class="prompt input_prompt">In&nbsp;[8]:</div>
<div class="inner_cell">
    <div class="input_area">
<div class=" highlight hl-ipython3"><pre><span></span><span class="c1"># 1 school - student&#39;s school (binary: &#39;GP&#39; - Gabriel Pereira or &#39;MS&#39; - Mousinho da Silveira) </span>
<span class="n">school</span> <span class="o">=</span> <span class="p">{</span><span class="s1">&#39;GP&#39;</span><span class="p">:</span><span class="mi">0</span><span class="p">,</span> <span class="s1">&#39;MS&#39;</span><span class="p">:</span><span class="mi">1</span><span class="p">}</span>
<span class="c1"># 2 sex - student&#39;s sex (binary: &#39;F&#39; - female or &#39;M&#39; - male) </span>
<span class="n">gender</span> <span class="o">=</span> <span class="p">{</span><span class="s1">&#39;F&#39;</span><span class="p">:</span><span class="mi">0</span><span class="p">,</span> <span class="s1">&#39;M&#39;</span><span class="p">:</span><span class="mi">1</span><span class="p">}</span>
<span class="c1"># 3 age - student&#39;s age (numeric: from 15 to 22) </span>
<span class="c1"># 4 address - student&#39;s home address type (binary: &#39;U&#39; - urban or &#39;R&#39; - rural) </span>
<span class="n">address</span> <span class="o">=</span> <span class="p">{</span><span class="s1">&#39;U&#39;</span><span class="p">:</span><span class="mi">0</span><span class="p">,</span> <span class="s1">&#39;R&#39;</span><span class="p">:</span><span class="mi">1</span><span class="p">}</span>
<span class="c1"># 5 famsize - family size (binary: &#39;LE3&#39; - less or equal to 3 or &#39;GT3&#39; - greater than 3) </span>
<span class="n">famsize</span> <span class="o">=</span> <span class="p">{</span><span class="s1">&#39;LE3&#39;</span><span class="p">:</span><span class="mi">0</span><span class="p">,</span> <span class="s1">&#39;GT3&#39;</span><span class="p">:</span><span class="mi">1</span><span class="p">}</span>
<span class="c1"># 6 Pstatus - parent&#39;s cohabitation status (binary: &#39;T&#39; - living together or &#39;A&#39; - apart) </span>
<span class="n">parentsStatus</span> <span class="o">=</span> <span class="p">{</span><span class="s1">&#39;T&#39;</span><span class="p">:</span><span class="mi">0</span><span class="p">,</span> <span class="s1">&#39;A&#39;</span><span class="p">:</span><span class="mi">1</span><span class="p">}</span>
<span class="c1"># 7 Medu - mother&#39;s education (numeric: 0 - none, 1 - primary education (4th grade), 2 Ã¢â‚¬â€œ 5th to 9th grade, 3 Ã¢â‚¬â€œ secondary education or 4 Ã¢â‚¬â€œ higher education) </span>
<span class="c1"># 8 Fedu - father&#39;s education (numeric: 0 - none, 1 - primary education (4th grade), 2 Ã¢â‚¬â€œ 5th to 9th grade, 3 Ã¢â‚¬â€œ secondary education or 4 Ã¢â‚¬â€œ higher education) </span>
<span class="c1"># 9 Mjob - mother&#39;s job (nominal: &#39;teacher&#39;, &#39;health&#39; care related, civil &#39;services&#39; (e.g. administrative or police), &#39;at_home&#39; or &#39;other&#39;) </span>
<span class="n">parentJob</span> <span class="o">=</span> <span class="p">{</span><span class="s1">&#39;teacher&#39;</span><span class="p">:</span><span class="mi">0</span><span class="p">,</span> <span class="s1">&#39;health&#39;</span><span class="p">:</span><span class="mi">1</span><span class="p">,</span> <span class="s1">&#39;services&#39;</span><span class="p">:</span><span class="mi">2</span><span class="p">,</span> <span class="s1">&#39;at_home&#39;</span><span class="p">:</span><span class="mi">3</span><span class="p">,</span> <span class="s1">&#39;other&#39;</span><span class="p">:</span><span class="mi">4</span><span class="p">}</span>
<span class="c1"># 10 Fjob - father&#39;s job (nominal: &#39;teacher&#39;, &#39;health&#39; care related, civil &#39;services&#39; (e.g. administrative or police), &#39;at_home&#39; or &#39;other&#39;) </span>
<span class="c1"># 11 reason - reason to choose this school (nominal: close to &#39;home&#39;, school &#39;reputation&#39;, &#39;course&#39; preference or &#39;other&#39;) </span>
<span class="n">reason</span> <span class="o">=</span> <span class="p">{</span><span class="s1">&#39;home&#39;</span><span class="p">:</span><span class="mi">0</span><span class="p">,</span> <span class="s1">&#39;reputation&#39;</span><span class="p">:</span><span class="mi">1</span><span class="p">,</span> <span class="s1">&#39;course&#39;</span><span class="p">:</span><span class="mi">2</span><span class="p">,</span> <span class="s1">&#39;other&#39;</span><span class="p">:</span><span class="mi">3</span><span class="p">}</span>
<span class="c1"># 12 guardian - student&#39;s guardian (nominal: &#39;mother&#39;, &#39;father&#39; or &#39;other&#39;) </span>
<span class="n">guardian</span> <span class="o">=</span> <span class="p">{</span><span class="s1">&#39;mother&#39;</span><span class="p">:</span><span class="mi">0</span><span class="p">,</span> <span class="s1">&#39;father&#39;</span><span class="p">:</span><span class="mi">1</span><span class="p">,</span> <span class="s1">&#39;other&#39;</span><span class="p">:</span><span class="mi">2</span><span class="p">}</span>
<span class="c1"># 13 traveltime - home to school travel time (numeric: 1 - &lt;15 min., 2 - 15 to 30 min., 3 - 30 min. to 1 hour, or 4 - &gt;1 hour) </span>
<span class="c1"># 14 studytime - weekly study time (numeric: 1 - &lt;2 hours, 2 - 2 to 5 hours, 3 - 5 to 10 hours, or 4 - &gt;10 hours) </span>
<span class="c1"># 15 failures - number of past class failures (numeric: n if 1&lt;=n&lt;3, else 4) </span>
<span class="c1"># 16 schoolsup - extra educational support (binary: yes or no) </span>
<span class="n">noYes</span> <span class="o">=</span> <span class="p">{</span><span class="s1">&#39;no&#39;</span><span class="p">:</span><span class="mi">0</span><span class="p">,</span> <span class="s1">&#39;yes&#39;</span><span class="p">:</span><span class="mi">1</span><span class="p">}</span>
<span class="c1"># 17 famsup - family educational support (binary: yes or no) </span>
<span class="c1"># 18 paid - extra paid classes within the course subject (Math or Portuguese) (binary: yes or no) </span>
<span class="c1"># 19 activities - extra-curricular activities (binary: yes or no) </span>
<span class="c1"># 20 nursery - attended nursery school (binary: yes or no) </span>
<span class="c1"># 21 higher - wants to take higher education (binary: yes or no) </span>
<span class="c1"># 22 internet - Internet access at home (binary: yes or no) </span>
<span class="c1"># 23 romantic - with a romantic relationship (binary: yes or no) </span>
<span class="c1"># 24 famrel - quality of family relationships (numeric: from 1 - very bad to 5 - excellent) </span>
<span class="c1"># 25 freetime - free time after school (numeric: from 1 - very low to 5 - very high) </span>
<span class="c1"># 26 goout - going out with friends (numeric: from 1 - very low to 5 - very high) </span>
<span class="c1"># 27 Dalc - workday alcohol consumption (numeric: from 1 - very low to 5 - very high) </span>
<span class="c1"># 28 Walc - weekend alcohol consumption (numeric: from 1 - very low to 5 - very high) </span>
<span class="c1"># 29 health - current health status (numeric: from 1 - very bad to 5 - very good) </span>
<span class="c1"># 30 absences - number of school absences (numeric: from 0 to 93) </span>

<span class="c1"># # these grades are related with the course subject, Math or Portuguese: </span>
<span class="c1"># 31 G1 - first period grade (numeric: from 0 to 20) </span>
<span class="c1"># 31 G2 - second period grade (numeric: from 0 to 20) </span>
<span class="c1"># 32 G3 - final grade (numeric: from 0 to 20, output target) </span>

<span class="k">def</span> <span class="nf">bs</span><span class="p">(</span><span class="nb">bytes</span><span class="p">):</span>
    <span class="sd">&#39;&#39;&#39;Convert bytes to string and remove double quotes&#39;&#39;&#39;</span>
    <span class="c1"># print(bytes)</span>
    <span class="k">return</span> <span class="nb">str</span><span class="p">(</span><span class="nb">bytes</span><span class="p">,</span><span class="s1">&#39;utf-8&#39;</span><span class="p">)</span><span class="o">.</span><span class="n">replace</span><span class="p">(</span><span class="s1">&#39;&quot;&#39;</span><span class="p">,</span><span class="s1">&#39;&#39;</span><span class="p">)</span>

<span class="n">converters</span> <span class="o">=</span> <span class="p">{</span><span class="mi">0</span><span class="p">:</span> <span class="k">lambda</span> <span class="n">x</span><span class="p">:</span> <span class="n">school</span><span class="p">[</span><span class="n">bs</span><span class="p">(</span><span class="n">x</span><span class="p">)],</span>
              <span class="mi">1</span><span class="p">:</span> <span class="k">lambda</span> <span class="n">x</span><span class="p">:</span> <span class="n">gender</span><span class="p">[</span><span class="n">bs</span><span class="p">(</span><span class="n">x</span><span class="p">)],</span>
              <span class="mi">2</span><span class="p">:</span> <span class="k">lambda</span> <span class="n">age</span><span class="p">:</span> <span class="n">age</span><span class="p">,</span>
              <span class="mi">3</span><span class="p">:</span> <span class="k">lambda</span> <span class="n">x</span><span class="p">:</span> <span class="n">address</span><span class="p">[</span><span class="n">bs</span><span class="p">(</span><span class="n">x</span><span class="p">)],</span>
              <span class="mi">4</span><span class="p">:</span> <span class="k">lambda</span> <span class="n">x</span><span class="p">:</span> <span class="n">famsize</span><span class="p">[</span><span class="n">bs</span><span class="p">(</span><span class="n">x</span><span class="p">)],</span>
              <span class="mi">5</span><span class="p">:</span> <span class="k">lambda</span> <span class="n">x</span><span class="p">:</span> <span class="n">parentsStatus</span><span class="p">[</span><span class="n">bs</span><span class="p">(</span><span class="n">x</span><span class="p">)],</span>
              <span class="mi">6</span><span class="p">:</span> <span class="k">lambda</span> <span class="n">motherEd</span><span class="p">:</span> <span class="n">motherEd</span><span class="p">,</span>
              <span class="mi">7</span><span class="p">:</span> <span class="k">lambda</span> <span class="n">fatherEd</span><span class="p">:</span> <span class="n">fatherEd</span><span class="p">,</span>
              <span class="mi">8</span><span class="p">:</span> <span class="k">lambda</span> <span class="n">m</span><span class="p">:</span> <span class="n">parentJob</span><span class="p">[</span><span class="n">bs</span><span class="p">(</span><span class="n">m</span><span class="p">)],</span>
              <span class="mi">9</span><span class="p">:</span> <span class="k">lambda</span> <span class="n">f</span><span class="p">:</span> <span class="n">parentJob</span><span class="p">[</span><span class="n">bs</span><span class="p">(</span><span class="n">f</span><span class="p">)],</span>
              <span class="mi">10</span><span class="p">:</span> <span class="k">lambda</span> <span class="n">x</span><span class="p">:</span> <span class="n">reason</span><span class="p">[</span><span class="n">bs</span><span class="p">(</span><span class="n">x</span><span class="p">)],</span>
              <span class="mi">11</span><span class="p">:</span> <span class="k">lambda</span> <span class="n">x</span><span class="p">:</span> <span class="n">guardian</span><span class="p">[</span><span class="n">bs</span><span class="p">(</span><span class="n">x</span><span class="p">)],</span>
              <span class="mi">12</span><span class="p">:</span> <span class="k">lambda</span> <span class="n">travelTime</span><span class="p">:</span> <span class="n">travelTime</span><span class="p">,</span>
              <span class="mi">13</span><span class="p">:</span> <span class="k">lambda</span> <span class="n">studyTime</span><span class="p">:</span> <span class="n">studyTime</span><span class="p">,</span>
              <span class="mi">14</span><span class="p">:</span> <span class="k">lambda</span> <span class="n">failures</span><span class="p">:</span> <span class="n">failures</span><span class="p">,</span>
              <span class="mi">15</span><span class="p">:</span> <span class="k">lambda</span> <span class="n">schoolSupport</span><span class="p">:</span> <span class="n">noYes</span><span class="p">[</span><span class="n">bs</span><span class="p">(</span><span class="n">schoolSupport</span><span class="p">)],</span>
              <span class="mi">16</span><span class="p">:</span> <span class="k">lambda</span> <span class="n">famsup</span><span class="p">:</span> <span class="n">noYes</span><span class="p">[</span><span class="n">bs</span><span class="p">(</span><span class="n">famsup</span><span class="p">)],</span>
              <span class="mi">17</span><span class="p">:</span> <span class="k">lambda</span> <span class="n">paid</span><span class="p">:</span> <span class="n">noYes</span><span class="p">[</span><span class="n">bs</span><span class="p">(</span><span class="n">paid</span><span class="p">)],</span>
              <span class="mi">18</span><span class="p">:</span> <span class="k">lambda</span> <span class="n">activities</span><span class="p">:</span> <span class="n">noYes</span><span class="p">[</span><span class="n">bs</span><span class="p">(</span><span class="n">activities</span><span class="p">)],</span>
              <span class="mi">19</span><span class="p">:</span> <span class="k">lambda</span> <span class="n">nursery</span><span class="p">:</span> <span class="n">noYes</span><span class="p">[</span><span class="n">bs</span><span class="p">(</span><span class="n">nursery</span><span class="p">)],</span>
              <span class="mi">20</span><span class="p">:</span> <span class="k">lambda</span> <span class="n">higher</span><span class="p">:</span> <span class="n">noYes</span><span class="p">[</span><span class="n">bs</span><span class="p">(</span><span class="n">higher</span><span class="p">)],</span>
              <span class="mi">21</span><span class="p">:</span> <span class="k">lambda</span> <span class="n">internet</span><span class="p">:</span> <span class="n">noYes</span><span class="p">[</span><span class="n">bs</span><span class="p">(</span><span class="n">internet</span><span class="p">)],</span>
              <span class="mi">22</span><span class="p">:</span> <span class="k">lambda</span> <span class="n">romantic</span><span class="p">:</span> <span class="n">noYes</span><span class="p">[</span><span class="n">bs</span><span class="p">(</span><span class="n">romantic</span><span class="p">)],</span>
              <span class="mi">23</span><span class="p">:</span> <span class="k">lambda</span> <span class="n">famrel</span><span class="p">:</span> <span class="n">famrel</span><span class="p">,</span>
              <span class="mi">24</span><span class="p">:</span> <span class="k">lambda</span> <span class="n">freetime</span><span class="p">:</span> <span class="n">freetime</span><span class="p">,</span>
              <span class="mi">25</span><span class="p">:</span> <span class="k">lambda</span> <span class="n">goout</span><span class="p">:</span> <span class="n">goout</span><span class="p">,</span>
              <span class="mi">26</span><span class="p">:</span> <span class="k">lambda</span> <span class="n">workdayAlcohol</span><span class="p">:</span> <span class="n">workdayAlcohol</span><span class="p">,</span>
              <span class="mi">27</span><span class="p">:</span> <span class="k">lambda</span> <span class="n">weekendAlcohol</span><span class="p">:</span> <span class="n">weekendAlcohol</span><span class="p">,</span>
              <span class="mi">28</span><span class="p">:</span> <span class="k">lambda</span> <span class="n">health</span><span class="p">:</span> <span class="n">health</span><span class="p">,</span>
              <span class="mi">29</span><span class="p">:</span> <span class="k">lambda</span> <span class="n">absences</span><span class="p">:</span> <span class="n">absences</span><span class="p">,</span>
              <span class="mi">30</span><span class="p">:</span> <span class="k">lambda</span> <span class="n">G1</span><span class="p">:</span> <span class="n">bs</span><span class="p">(</span><span class="n">G1</span><span class="p">),</span>
              <span class="mi">31</span><span class="p">:</span> <span class="k">lambda</span> <span class="n">G2</span><span class="p">:</span> <span class="n">bs</span><span class="p">(</span><span class="n">G2</span><span class="p">),</span>
              <span class="mi">32</span><span class="p">:</span> <span class="k">lambda</span> <span class="n">G3</span><span class="p">:</span> <span class="n">G3</span><span class="p">}</span>
</pre></div>

</div>
</div>
</div>

</div>
<div class="cell border-box-sizing code_cell rendered">
<div class="input">
<div class="prompt input_prompt">In&nbsp;[9]:</div>
<div class="inner_cell">
    <div class="input_area">
<div class=" highlight hl-ipython3"><pre><span></span><span class="n">converters</span><span class="p">[</span><span class="mi">11</span><span class="p">](</span><span class="sa">b</span><span class="s1">&#39;mother&#39;</span><span class="p">),</span> <span class="n">converters</span><span class="p">[</span><span class="mi">11</span><span class="p">](</span><span class="sa">b</span><span class="s1">&#39;father&#39;</span><span class="p">)</span>
</pre></div>

</div>
</div>
</div>

<div class="output_wrapper">
<div class="output">


<div class="output_area">
<div class="prompt output_prompt">Out[9]:</div>



<div class="output_text output_subarea output_execute_result">
<pre>(0, 1)</pre>
</div>

</div>

</div>
</div>

</div>
<div class="cell border-box-sizing text_cell rendered">
<div class="prompt input_prompt">
</div>
<div class="inner_cell">
<div class="text_cell_render border-box-sizing rendered_html">
<p>Now we can read in both files.</p>

</div>
</div>
</div>
<div class="cell border-box-sizing code_cell rendered">
<div class="input">
<div class="prompt input_prompt">In&nbsp;[10]:</div>
<div class="inner_cell">
    <div class="input_area">
<div class=" highlight hl-ipython3"><pre><span></span><span class="k">with</span> <span class="nb">open</span><span class="p">(</span><span class="s1">&#39;student-mat.csv&#39;</span><span class="p">)</span> <span class="k">as</span> <span class="n">file</span><span class="p">:</span>
    <span class="n">headings</span> <span class="o">=</span> <span class="n">file</span><span class="o">.</span><span class="n">readline</span><span class="p">()</span><span class="o">.</span><span class="n">split</span><span class="p">(</span><span class="s1">&#39;;&#39;</span><span class="p">)</span>
    <span class="n">headings</span> <span class="o">=</span> <span class="p">[</span><span class="n">head</span><span class="o">.</span><span class="n">strip</span><span class="p">()</span> <span class="k">for</span> <span class="n">head</span> <span class="ow">in</span> <span class="n">headings</span><span class="p">]</span>
    <span class="n">datamat</span> <span class="o">=</span> <span class="n">np</span><span class="o">.</span><span class="n">loadtxt</span><span class="p">(</span><span class="n">file</span><span class="p">,</span> <span class="n">delimiter</span><span class="o">=</span><span class="s1">&#39;;&#39;</span><span class="p">,</span><span class="n">converters</span><span class="o">=</span><span class="n">converters</span><span class="p">)</span>

<span class="n">datapor</span> <span class="o">=</span> <span class="n">np</span><span class="o">.</span><span class="n">loadtxt</span><span class="p">(</span><span class="s1">&#39;student-por.csv&#39;</span><span class="p">,</span> <span class="n">delimiter</span><span class="o">=</span><span class="s1">&#39;;&#39;</span><span class="p">,</span><span class="n">skiprows</span><span class="o">=</span><span class="mi">1</span><span class="p">,</span><span class="n">converters</span><span class="o">=</span><span class="n">converters</span><span class="p">)</span>
</pre></div>

</div>
</div>
</div>

</div>
<div class="cell border-box-sizing code_cell rendered">
<div class="input">
<div class="prompt input_prompt">In&nbsp;[11]:</div>
<div class="inner_cell">
    <div class="input_area">
<div class=" highlight hl-ipython3"><pre><span></span><span class="n">datamat</span><span class="o">.</span><span class="n">shape</span><span class="p">,</span> <span class="n">datapor</span><span class="o">.</span><span class="n">shape</span>
</pre></div>

</div>
</div>
</div>

<div class="output_wrapper">
<div class="output">


<div class="output_area">
<div class="prompt output_prompt">Out[11]:</div>



<div class="output_text output_subarea output_execute_result">
<pre>((395, 33), (649, 33))</pre>
</div>

</div>

</div>
</div>

</div>
<div class="cell border-box-sizing text_cell rendered">
<div class="prompt input_prompt">
</div>
<div class="inner_cell">
<div class="text_cell_render border-box-sizing rendered_html">
<p>These two data sets are for two different tests, a math test and a portugese test.  Let's combine them, and add a first column with value 0 for math and 1 for portugese.</p>

</div>
</div>
</div>
<div class="cell border-box-sizing code_cell rendered">
<div class="input">
<div class="prompt input_prompt">In&nbsp;[12]:</div>
<div class="inner_cell">
    <div class="input_area">
<div class=" highlight hl-ipython3"><pre><span></span><span class="c1"># add first column to indicate which subject</span>
<span class="n">headings</span> <span class="o">=</span> <span class="p">[</span><span class="s1">&#39;subject&#39;</span><span class="p">]</span> <span class="o">+</span> <span class="n">headings</span>
<span class="n">datamat</span> <span class="o">=</span> <span class="n">np</span><span class="o">.</span><span class="n">hstack</span><span class="p">((</span><span class="n">np</span><span class="o">.</span><span class="n">zeros</span><span class="p">((</span><span class="n">datamat</span><span class="o">.</span><span class="n">shape</span><span class="p">[</span><span class="mi">0</span><span class="p">],</span><span class="mi">1</span><span class="p">)),</span> <span class="n">datamat</span><span class="p">))</span>
<span class="n">datapor</span> <span class="o">=</span> <span class="n">np</span><span class="o">.</span><span class="n">hstack</span><span class="p">((</span><span class="n">np</span><span class="o">.</span><span class="n">ones</span><span class="p">((</span><span class="n">datapor</span><span class="o">.</span><span class="n">shape</span><span class="p">[</span><span class="mi">0</span><span class="p">],</span><span class="mi">1</span><span class="p">)),</span> <span class="n">datapor</span><span class="p">))</span>

<span class="n">data</span> <span class="o">=</span> <span class="n">np</span><span class="o">.</span><span class="n">vstack</span><span class="p">((</span><span class="n">datamat</span><span class="p">,</span><span class="n">datapor</span><span class="p">))</span>
<span class="n">data</span><span class="o">.</span><span class="n">shape</span>
</pre></div>

</div>
</div>
</div>

<div class="output_wrapper">
<div class="output">


<div class="output_area">
<div class="prompt output_prompt">Out[12]:</div>



<div class="output_text output_subarea output_execute_result">
<pre>(1044, 34)</pre>
</div>

</div>

</div>
</div>

</div>
<div class="cell border-box-sizing text_cell rendered">
<div class="prompt input_prompt">
</div>
<div class="inner_cell">
<div class="text_cell_render border-box-sizing rendered_html">
<p>Now we can pull out the two columns that indicate alcohol use. Which ones are they?</p>

</div>
</div>
</div>
<div class="cell border-box-sizing code_cell rendered">
<div class="input">
<div class="prompt input_prompt">In&nbsp;[13]:</div>
<div class="inner_cell">
    <div class="input_area">
<div class=" highlight hl-ipython3"><pre><span></span><span class="p">[</span><span class="n">i</span> <span class="k">for</span> <span class="n">i</span><span class="p">,</span><span class="n">head</span> <span class="ow">in</span> <span class="nb">enumerate</span><span class="p">(</span><span class="n">headings</span><span class="p">)</span> <span class="k">if</span> <span class="s1">&#39;alc&#39;</span> <span class="ow">in</span> <span class="n">head</span><span class="p">]</span>
</pre></div>

</div>
</div>
</div>

<div class="output_wrapper">
<div class="output">


<div class="output_area">
<div class="prompt output_prompt">Out[13]:</div>



<div class="output_text output_subarea output_execute_result">
<pre>[27, 28]</pre>
</div>

</div>

</div>
</div>

</div>
<div class="cell border-box-sizing code_cell rendered">
<div class="input">
<div class="prompt input_prompt">In&nbsp;[14]:</div>
<div class="inner_cell">
    <div class="input_area">
<div class=" highlight hl-ipython3"><pre><span></span><span class="n">headings</span><span class="p">[</span><span class="mi">27</span><span class="p">:</span><span class="mi">29</span><span class="p">]</span>
</pre></div>

</div>
</div>
</div>

<div class="output_wrapper">
<div class="output">


<div class="output_area">
<div class="prompt output_prompt">Out[14]:</div>



<div class="output_text output_subarea output_execute_result">
<pre>[&#39;Dalc&#39;, &#39;Walc&#39;]</pre>
</div>

</div>

</div>
</div>

</div>
<div class="cell border-box-sizing code_cell rendered">
<div class="input">
<div class="prompt input_prompt">In&nbsp;[15]:</div>
<div class="inner_cell">
    <div class="input_area">
<div class=" highlight hl-ipython3"><pre><span></span><span class="n">data</span><span class="p">[:</span><span class="mi">5</span><span class="p">,</span><span class="mi">27</span><span class="p">:</span><span class="mi">29</span><span class="p">]</span>
</pre></div>

</div>
</div>
</div>

<div class="output_wrapper">
<div class="output">


<div class="output_area">
<div class="prompt output_prompt">Out[15]:</div>



<div class="output_text output_subarea output_execute_result">
<pre>array([[ 1.,  1.],
       [ 1.,  1.],
       [ 2.,  3.],
       [ 1.,  1.],
       [ 1.,  2.]])</pre>
</div>

</div>

</div>
</div>

</div>
<div class="cell border-box-sizing text_cell rendered">
<div class="prompt input_prompt">
</div>
<div class="inner_cell">
<div class="text_cell_render border-box-sizing rendered_html">
<p>Let's look at these values.  Add a bit of random noise to each to make them visible.</p>

</div>
</div>
</div>
<div class="cell border-box-sizing code_cell rendered">
<div class="input">
<div class="prompt input_prompt">In&nbsp;[16]:</div>
<div class="inner_cell">
    <div class="input_area">
<div class=" highlight hl-ipython3"><pre><span></span><span class="n">alcoholColumns</span> <span class="o">=</span> <span class="p">[</span><span class="mi">26</span><span class="p">,</span> <span class="mi">27</span><span class="p">]</span>
<span class="n">T2</span> <span class="o">=</span> <span class="n">data</span><span class="p">[:,</span><span class="n">alcoholColumns</span><span class="p">]</span>
<span class="n">T2r</span> <span class="o">=</span> <span class="n">T2</span> <span class="o">+</span> <span class="n">np</span><span class="o">.</span><span class="n">random</span><span class="o">.</span><span class="n">normal</span><span class="p">(</span><span class="mi">0</span><span class="p">,</span><span class="mf">0.1</span><span class="p">,</span><span class="n">size</span><span class="o">=</span><span class="n">T2</span><span class="o">.</span><span class="n">shape</span><span class="p">)</span>
<span class="n">plt</span><span class="o">.</span><span class="n">plot</span><span class="p">(</span><span class="n">T2r</span><span class="p">[:,</span><span class="mi">0</span><span class="p">],</span><span class="n">T2r</span><span class="p">[:,</span><span class="mi">1</span><span class="p">],</span> <span class="s1">&#39;o&#39;</span><span class="p">,</span> <span class="n">alpha</span><span class="o">=</span><span class="mf">0.5</span><span class="p">);</span>
</pre></div>

</div>
</div>
</div>

<div class="output_wrapper">
<div class="output">


<div class="output_area">
<div class="prompt"></div>



<div class="output_png output_subarea ">
<img src="data:image/png;base64,iVBORw0KGgoAAAANSUhEUgAAAW4AAAD8CAYAAABXe05zAAAABHNCSVQICAgIfAhkiAAAAAlwSFlz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"
>
</div>

</div>

</div>
</div>

</div>
<div class="cell border-box-sizing text_cell rendered">
<div class="prompt input_prompt">
</div>
<div class="inner_cell">
<div class="text_cell_render border-box-sizing rendered_html">
<p>For the experiments described in the paper linked above these two values are combined into one, then the value is discretized into two binary values, 0 for low alcohol use and 1 for high alcohol use. A weighted average of the two is formed, with weekend consumption (the second value) more heavily weighted. Then this value is quantized to 0 if the weighted average is less than 2, 1 otherwise.  In the paper, a cutoff of 3 was used.</p>

</div>
</div>
</div>
<div class="cell border-box-sizing code_cell rendered">
<div class="input">
<div class="prompt input_prompt">In&nbsp;[17]:</div>
<div class="inner_cell">
    <div class="input_area">
<div class=" highlight hl-ipython3"><pre><span></span><span class="n">wavg</span> <span class="o">=</span> <span class="p">(</span><span class="n">T2</span><span class="p">[:,</span><span class="mi">0</span><span class="p">:</span><span class="mi">1</span><span class="p">]</span> <span class="o">*</span> <span class="mi">2</span> <span class="o">+</span> <span class="n">T2</span><span class="p">[:,</span><span class="mi">1</span><span class="p">:</span><span class="mi">2</span><span class="p">]</span> <span class="o">*</span> <span class="mi">5</span><span class="p">)</span> <span class="o">/</span> <span class="mi">7</span>
<span class="n">T</span> <span class="o">=</span> <span class="p">(</span><span class="n">wavg</span> <span class="o">&gt;</span> <span class="mf">2.0</span><span class="p">)</span><span class="o">.</span><span class="n">astype</span><span class="p">(</span><span class="nb">int</span><span class="p">)</span>
<span class="n">plt</span><span class="o">.</span><span class="n">subplot</span><span class="p">(</span><span class="mi">1</span><span class="p">,</span><span class="mi">2</span><span class="p">,</span><span class="mi">1</span><span class="p">)</span>
<span class="n">plt</span><span class="o">.</span><span class="n">hist</span><span class="p">(</span><span class="n">wavg</span><span class="p">)</span>
<span class="n">plt</span><span class="o">.</span><span class="n">subplot</span><span class="p">(</span><span class="mi">1</span><span class="p">,</span><span class="mi">2</span><span class="p">,</span><span class="mi">2</span><span class="p">)</span>
<span class="n">plt</span><span class="o">.</span><span class="n">hist</span><span class="p">(</span><span class="n">T</span><span class="p">);</span>
</pre></div>

</div>
</div>
</div>

<div class="output_wrapper">
<div class="output">


<div class="output_area">
<div class="prompt"></div>



<div class="output_png output_subarea ">
<img src="data:image/png;base64,iVBORw0KGgoAAAANSUhEUgAAAXsAAAD8CAYAAACW/ATfAAAABHNCSVQICAgIfAhkiAAAAAlwSFlz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"
>
</div>

</div>

</div>
</div>

</div>
<div class="cell border-box-sizing text_cell rendered">
<div class="prompt input_prompt">
</div>
<div class="inner_cell">
<div class="text_cell_render border-box-sizing rendered_html">
<p>Now, for the input $X$ matrix.</p>

</div>
</div>
</div>
<div class="cell border-box-sizing code_cell rendered">
<div class="input">
<div class="prompt input_prompt">In&nbsp;[18]:</div>
<div class="inner_cell">
    <div class="input_area">
<div class=" highlight hl-ipython3"><pre><span></span><span class="n">X</span> <span class="o">=</span> <span class="n">data</span><span class="o">.</span><span class="n">copy</span><span class="p">()</span>
<span class="n">X</span> <span class="o">=</span> <span class="n">np</span><span class="o">.</span><span class="n">delete</span><span class="p">(</span><span class="n">X</span><span class="p">,</span> <span class="n">alcoholColumns</span><span class="p">,</span> <span class="n">axis</span><span class="o">=</span><span class="mi">1</span><span class="p">)</span>
<span class="n">Xnames</span> <span class="o">=</span> <span class="p">[</span><span class="n">h</span> <span class="k">for</span> <span class="n">h</span> <span class="ow">in</span> <span class="n">headings</span> <span class="k">if</span> <span class="s1">&#39;alc&#39;</span> <span class="ow">not</span> <span class="ow">in</span> <span class="n">h</span><span class="p">]</span>
<span class="nb">print</span><span class="p">(</span><span class="nb">len</span><span class="p">(</span><span class="n">Xnames</span><span class="p">),</span><span class="n">Xnames</span><span class="p">)</span>
<span class="n">X</span><span class="o">.</span><span class="n">shape</span><span class="p">,</span> <span class="n">T</span><span class="o">.</span><span class="n">shape</span>
</pre></div>

</div>
</div>
</div>

<div class="output_wrapper">
<div class="output">


<div class="output_area">
<div class="prompt"></div>

<div class="output_subarea output_stream output_stdout output_text">
<pre>32 [&#39;subject&#39;, &#39;school&#39;, &#39;sex&#39;, &#39;age&#39;, &#39;address&#39;, &#39;famsize&#39;, &#39;Pstatus&#39;, &#39;Medu&#39;, &#39;Fedu&#39;, &#39;Mjob&#39;, &#39;Fjob&#39;, &#39;reason&#39;, &#39;guardian&#39;, &#39;traveltime&#39;, &#39;studytime&#39;, &#39;failures&#39;, &#39;schoolsup&#39;, &#39;famsup&#39;, &#39;paid&#39;, &#39;activities&#39;, &#39;nursery&#39;, &#39;higher&#39;, &#39;internet&#39;, &#39;romantic&#39;, &#39;famrel&#39;, &#39;freetime&#39;, &#39;goout&#39;, &#39;health&#39;, &#39;absences&#39;, &#39;G1&#39;, &#39;G2&#39;, &#39;G3&#39;]
</pre>
</div>
</div>

<div class="output_area">
<div class="prompt output_prompt">Out[18]:</div>



<div class="output_text output_subarea output_execute_result">
<pre>((1044, 32), (1044, 1))</pre>
</div>

</div>

</div>
</div>

</div>
<div class="cell border-box-sizing text_cell rendered">
<div class="prompt input_prompt">
</div>
<div class="inner_cell">
<div class="text_cell_render border-box-sizing rendered_html">
<p>Now we are ready to do some classifying.  Let's use a small neural network.</p>

</div>
</div>
</div>
<div class="cell border-box-sizing code_cell rendered">
<div class="input">
<div class="prompt input_prompt">In&nbsp;[19]:</div>
<div class="inner_cell">
    <div class="input_area">
<div class=" highlight hl-ipython3"><pre><span></span><span class="n">nnet</span> <span class="o">=</span> <span class="n">nn</span><span class="o">.</span><span class="n">NeuralNetworkClassifier</span><span class="p">(</span><span class="n">X</span><span class="o">.</span><span class="n">shape</span><span class="p">[</span><span class="mi">1</span><span class="p">],</span> <span class="p">[</span><span class="mi">2</span><span class="p">],</span> <span class="nb">len</span><span class="p">(</span><span class="n">np</span><span class="o">.</span><span class="n">unique</span><span class="p">(</span><span class="n">T</span><span class="p">)))</span>
<span class="n">nnet</span><span class="o">.</span><span class="n">train</span><span class="p">(</span><span class="n">X</span><span class="p">,</span><span class="n">T</span><span class="p">,</span><span class="n">nIterations</span><span class="o">=</span><span class="mi">100</span><span class="p">,</span><span class="n">verbose</span><span class="o">=</span><span class="kc">True</span><span class="p">)</span>
<span class="n">predictedClass</span> <span class="o">=</span> <span class="n">nnet</span><span class="o">.</span><span class="n">use</span><span class="p">(</span><span class="n">X</span><span class="p">)</span>
<span class="n">plt</span><span class="o">.</span><span class="n">plot</span><span class="p">(</span><span class="n">np</span><span class="o">.</span><span class="n">exp</span><span class="p">(</span><span class="o">-</span><span class="n">nnet</span><span class="o">.</span><span class="n">getErrorTrace</span><span class="p">()))</span>
<span class="n">accuracy</span> <span class="o">=</span> <span class="n">np</span><span class="o">.</span><span class="n">sum</span><span class="p">(</span><span class="n">predictedClass</span> <span class="o">==</span> <span class="n">T</span><span class="p">)</span><span class="o">/</span> <span class="nb">len</span><span class="p">(</span><span class="n">T</span><span class="p">)</span> <span class="o">*</span> <span class="mi">100</span>
<span class="nb">print</span><span class="p">(</span><span class="s1">&#39;Accuracy&#39;</span><span class="p">,</span><span class="n">accuracy</span><span class="p">)</span>
</pre></div>

</div>
</div>
</div>

<div class="output_wrapper">
<div class="output">


<div class="output_area">
<div class="prompt"></div>

<div class="output_subarea output_stream output_stdout output_text">
<pre>SCG: Iteration 10 fValue Eval 0.200228154938 Scale 0.0730761816025
SCG: Iteration 20 fValue Eval 0.188542718522 Scale 0.0365380908012
SCG: Iteration 30 fValue Eval 0.183388372153 Scale 0.0182690454006
SCG: Iteration 40 fValue Eval 0.179028100234 Scale 0.0182690454006
SCG: Iteration 50 fValue Eval 0.176981148963 Scale 0.0182690454006
SCG: Iteration 60 fValue Eval 0.174784302121 Scale 0.00456726135016
SCG: Iteration 70 fValue Eval 0.170232250038 Scale 0.00228363067508
SCG: Iteration 80 fValue Eval 0.168908173997 Scale 0.00228363067508
SCG: Iteration 90 fValue Eval 0.166497330319 Scale 0.00228363067508
SCG: Iteration 100 fValue Eval 0.164553173728 Scale 0.00228363067508
Accuracy 85.8237547893
</pre>
</div>
</div>

<div class="output_area">
<div class="prompt"></div>



<div class="output_png output_subarea ">
<img src="data:image/png;base64,iVBORw0KGgoAAAANSUhEUgAAAX4AAAD8CAYAAABw1c+bAAAABHNCSVQICAgIfAhkiAAAAAlwSFlz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"
>
</div>

</div>

</div>
</div>

</div>
<div class="cell border-box-sizing text_cell rendered">
<div class="prompt input_prompt">
</div>
<div class="inner_cell">
<div class="text_cell_render border-box-sizing rendered_html">
<p>Let's try different sized nets.</p>

</div>
</div>
</div>
<div class="cell border-box-sizing code_cell rendered">
<div class="input">
<div class="prompt input_prompt">In&nbsp;[20]:</div>
<div class="inner_cell">
    <div class="input_area">
<div class=" highlight hl-ipython3"><pre><span></span><span class="k">for</span> <span class="n">hidden</span> <span class="ow">in</span> <span class="p">[</span><span class="mi">0</span><span class="p">,</span><span class="mi">1</span><span class="p">,</span><span class="mi">2</span><span class="p">,</span><span class="mi">5</span><span class="p">,</span><span class="mi">10</span><span class="p">]:</span>
    <span class="n">nnet</span> <span class="o">=</span> <span class="n">nn</span><span class="o">.</span><span class="n">NeuralNetworkClassifier</span><span class="p">(</span><span class="n">X</span><span class="o">.</span><span class="n">shape</span><span class="p">[</span><span class="mi">1</span><span class="p">],</span> <span class="p">[</span><span class="n">hidden</span><span class="p">],</span> <span class="nb">len</span><span class="p">(</span><span class="n">np</span><span class="o">.</span><span class="n">unique</span><span class="p">(</span><span class="n">T</span><span class="p">)))</span>
    <span class="n">nnet</span><span class="o">.</span><span class="n">train</span><span class="p">(</span><span class="n">X</span><span class="p">,</span><span class="n">T</span><span class="p">,</span><span class="n">nIterations</span><span class="o">=</span><span class="mi">100</span><span class="p">,</span><span class="n">verbose</span><span class="o">=</span><span class="kc">False</span><span class="p">)</span>
    <span class="n">predictedClass</span> <span class="o">=</span> <span class="n">nnet</span><span class="o">.</span><span class="n">use</span><span class="p">(</span><span class="n">X</span><span class="p">)</span>
    <span class="n">plt</span><span class="o">.</span><span class="n">plot</span><span class="p">(</span><span class="n">np</span><span class="o">.</span><span class="n">exp</span><span class="p">(</span><span class="o">-</span><span class="n">nnet</span><span class="o">.</span><span class="n">getErrorTrace</span><span class="p">()),</span> <span class="n">label</span><span class="o">=</span><span class="s1">&#39;h=&#39;</span><span class="o">+</span><span class="nb">str</span><span class="p">(</span><span class="n">hidden</span><span class="p">))</span>
    <span class="n">plt</span><span class="o">.</span><span class="n">legend</span><span class="p">(</span><span class="n">loc</span><span class="o">=</span><span class="s1">&#39;best&#39;</span><span class="p">)</span>
    <span class="n">accuracy</span> <span class="o">=</span> <span class="n">np</span><span class="o">.</span><span class="n">sum</span><span class="p">(</span><span class="n">predictedClass</span> <span class="o">==</span> <span class="n">T</span><span class="p">)</span><span class="o">/</span> <span class="nb">len</span><span class="p">(</span><span class="n">T</span><span class="p">)</span> <span class="o">*</span> <span class="mi">100</span>
    <span class="nb">print</span><span class="p">(</span><span class="n">hidden</span><span class="p">,</span><span class="n">accuracy</span><span class="p">)</span>
</pre></div>

</div>
</div>
</div>

<div class="output_wrapper">
<div class="output">


<div class="output_area">
<div class="prompt"></div>

<div class="output_subarea output_stream output_stdout output_text">
<pre>0 82.2796934866
1 83.6206896552
2 84.8659003831
5 96.7432950192
10 99.9042145594
</pre>
</div>
</div>

<div class="output_area">
<div class="prompt"></div>



<div class="output_png output_subarea ">
<img src="data:image/png;base64,iVBORw0KGgoAAAANSUhEUgAAAX4AAAD8CAYAAABw1c+bAAAABHNCSVQICAgIfAhkiAAAAAlwSFlz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"
>
</div>

</div>

</div>
</div>

</div>
<div class="cell border-box-sizing text_cell rendered">
<div class="prompt input_prompt">
</div>
<div class="inner_cell">
<div class="text_cell_render border-box-sizing rendered_html">
<p>What about deeper nets?</p>

</div>
</div>
</div>
<div class="cell border-box-sizing code_cell rendered">
<div class="input">
<div class="prompt input_prompt">In&nbsp;[21]:</div>
<div class="inner_cell">
    <div class="input_area">
<div class=" highlight hl-ipython3"><pre><span></span><span class="n">plt</span><span class="o">.</span><span class="n">figure</span><span class="p">(</span><span class="n">figsize</span><span class="o">=</span><span class="p">(</span><span class="mi">15</span><span class="p">,</span><span class="mi">6</span><span class="p">))</span>
<span class="k">for</span> <span class="n">layers</span> <span class="ow">in</span> <span class="p">[</span><span class="mi">1</span><span class="p">,</span><span class="mi">2</span><span class="p">,</span><span class="mi">3</span><span class="p">]:</span>
    <span class="n">plt</span><span class="o">.</span><span class="n">subplot</span><span class="p">(</span><span class="mi">1</span><span class="p">,</span><span class="mi">3</span><span class="p">,</span><span class="n">layers</span><span class="p">)</span>
    <span class="k">for</span> <span class="n">hidden</span> <span class="ow">in</span> <span class="p">[</span><span class="mi">1</span><span class="p">,</span><span class="mi">2</span><span class="p">,</span><span class="mi">5</span><span class="p">,</span><span class="mi">10</span><span class="p">]:</span>
        <span class="n">hiddens</span> <span class="o">=</span> <span class="p">[</span><span class="n">hidden</span><span class="p">]</span><span class="o">*</span><span class="n">layers</span>
        <span class="n">nnet</span> <span class="o">=</span> <span class="n">nn</span><span class="o">.</span><span class="n">NeuralNetworkClassifier</span><span class="p">(</span><span class="n">X</span><span class="o">.</span><span class="n">shape</span><span class="p">[</span><span class="mi">1</span><span class="p">],</span> <span class="n">hiddens</span><span class="p">,</span> <span class="nb">len</span><span class="p">(</span><span class="n">np</span><span class="o">.</span><span class="n">unique</span><span class="p">(</span><span class="n">T</span><span class="p">)))</span>
        <span class="n">nnet</span><span class="o">.</span><span class="n">train</span><span class="p">(</span><span class="n">X</span><span class="p">,</span><span class="n">T</span><span class="p">,</span><span class="n">nIterations</span><span class="o">=</span><span class="mi">100</span><span class="p">,</span><span class="n">verbose</span><span class="o">=</span><span class="kc">False</span><span class="p">)</span>
        <span class="n">predictedClass</span> <span class="o">=</span> <span class="n">nnet</span><span class="o">.</span><span class="n">use</span><span class="p">(</span><span class="n">X</span><span class="p">)</span>
        <span class="n">plt</span><span class="o">.</span><span class="n">plot</span><span class="p">(</span><span class="n">np</span><span class="o">.</span><span class="n">exp</span><span class="p">(</span><span class="o">-</span><span class="n">nnet</span><span class="o">.</span><span class="n">getErrorTrace</span><span class="p">()),</span> <span class="n">label</span><span class="o">=</span><span class="s1">&#39;h=&#39;</span><span class="o">+</span><span class="nb">str</span><span class="p">(</span><span class="n">hidden</span><span class="p">))</span>
        <span class="n">plt</span><span class="o">.</span><span class="n">legend</span><span class="p">(</span><span class="n">loc</span><span class="o">=</span><span class="s1">&#39;best&#39;</span><span class="p">)</span>
        <span class="n">accuracy</span> <span class="o">=</span> <span class="n">np</span><span class="o">.</span><span class="n">sum</span><span class="p">(</span><span class="n">predictedClass</span> <span class="o">==</span> <span class="n">T</span><span class="p">)</span><span class="o">/</span> <span class="nb">len</span><span class="p">(</span><span class="n">T</span><span class="p">)</span> <span class="o">*</span> <span class="mi">100</span>
        <span class="nb">print</span><span class="p">(</span><span class="n">hiddens</span><span class="p">,</span><span class="n">accuracy</span><span class="p">)</span>
    <span class="n">plt</span><span class="o">.</span><span class="n">title</span><span class="p">(</span><span class="s1">&#39;</span><span class="si">{}</span><span class="s1"> layers&#39;</span><span class="o">.</span><span class="n">format</span><span class="p">(</span><span class="n">layers</span><span class="p">))</span>
</pre></div>

</div>
</div>
</div>

<div class="output_wrapper">
<div class="output">


<div class="output_area">
<div class="prompt"></div>

<div class="output_subarea output_stream output_stdout output_text">
<pre>[1] 83.908045977
[2] 84.9616858238
[5] 93.7739463602
[10] 99.9042145594
[1, 1] 87.1647509579
[2, 2] 90.9961685824
[5, 5] 95.5938697318
[10, 10] 99.9042145594
[1, 1, 1] 86.6858237548
[2, 2, 2] 90.7088122605
[5, 5, 5] 95.1149425287
[10, 10, 10] 100.0
</pre>
</div>
</div>

<div class="output_area">
<div class="prompt"></div>



<div class="output_png output_subarea ">
<img src="data:image/png;base64,iVBORw0KGgoAAAANSUhEUgAAA3QAAAF1CAYAAACgU6g3AAAABHNCSVQICAgIfAhkiAAAAAlwSFlz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"
>
</div>

</div>

</div>
</div>

</div>
<div class="cell border-box-sizing text_cell rendered">
<div class="prompt input_prompt">
</div>
<div class="inner_cell">
<div class="text_cell_render border-box-sizing rendered_html">
<h2 id="Analysis">Analysis<a class="anchor-link" href="#Analysis">&#182;</a></h2>
</div>
</div>
</div>
<div class="cell border-box-sizing text_cell rendered">
<div class="prompt input_prompt">
</div>
<div class="inner_cell">
<div class="text_cell_render border-box-sizing rendered_html">
<p>What patterns are the neural networks finding in the data that allow them to classify this data?</p>
<p>One way to answer this is to look at the first hidden layer weight vectors. We can see this in the network diagram.</p>

</div>
</div>
</div>
<div class="cell border-box-sizing code_cell rendered">
<div class="input">
<div class="prompt input_prompt">In&nbsp;[32]:</div>
<div class="inner_cell">
    <div class="input_area">
<div class=" highlight hl-ipython3"><pre><span></span><span class="n">nnet</span> <span class="o">=</span> <span class="n">nn</span><span class="o">.</span><span class="n">NeuralNetworkClassifier</span><span class="p">(</span><span class="n">X</span><span class="o">.</span><span class="n">shape</span><span class="p">[</span><span class="mi">1</span><span class="p">],[</span><span class="mi">1</span><span class="p">],</span><span class="nb">len</span><span class="p">(</span><span class="n">np</span><span class="o">.</span><span class="n">unique</span><span class="p">(</span><span class="n">T</span><span class="p">)))</span>
<span class="n">nnet</span><span class="o">.</span><span class="n">train</span><span class="p">(</span><span class="n">X</span><span class="p">,</span><span class="n">T</span><span class="p">,</span><span class="n">nIterations</span> <span class="o">=</span> <span class="mi">500</span><span class="p">)</span>
<span class="n">plt</span><span class="o">.</span><span class="n">plot</span><span class="p">(</span><span class="n">np</span><span class="o">.</span><span class="n">exp</span><span class="p">(</span><span class="o">-</span><span class="n">nnet</span><span class="o">.</span><span class="n">getErrorTrace</span><span class="p">()))</span>
</pre></div>

</div>
</div>
</div>

<div class="output_wrapper">
<div class="output">


<div class="output_area">
<div class="prompt output_prompt">Out[32]:</div>



<div class="output_text output_subarea output_execute_result">
<pre>[&lt;matplotlib.lines.Line2D at 0x7f344819a748&gt;]</pre>
</div>

</div>

<div class="output_area">
<div class="prompt"></div>



<div class="output_png output_subarea ">
<img src="data:image/png;base64,iVBORw0KGgoAAAANSUhEUgAAAX4AAAD8CAYAAABw1c+bAAAABHNCSVQICAgIfAhkiAAAAAlwSFlz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"
>
</div>

</div>

</div>
</div>

</div>
<div class="cell border-box-sizing code_cell rendered">
<div class="input">
<div class="prompt input_prompt">In&nbsp;[33]:</div>
<div class="inner_cell">
    <div class="input_area">
<div class=" highlight hl-ipython3"><pre><span></span><span class="n">plt</span><span class="o">.</span><span class="n">figure</span><span class="p">(</span><span class="n">figsize</span><span class="o">=</span><span class="p">(</span><span class="mi">6</span><span class="p">,</span><span class="mi">8</span><span class="p">))</span>
<span class="n">nnet</span><span class="o">.</span><span class="n">draw</span><span class="p">(</span><span class="n">inputNames</span> <span class="o">=</span> <span class="n">Xnames</span><span class="p">)</span>
</pre></div>

</div>
</div>
</div>

<div class="output_wrapper">
<div class="output">


<div class="output_area">
<div class="prompt"></div>

<div class="output_subarea output_stream output_stdout output_text">
<pre>12.1990338097 0.00320905012751 216.262975779
</pre>
</div>
</div>

<div class="output_area">
<div class="prompt"></div>



<div class="output_png output_subarea ">
<img src="data:image/png;base64,iVBORw0KGgoAAAANSUhEUgAAAXsAAAHWCAYAAACWvCk7AAAABHNCSVQICAgIfAhkiAAAAAlwSFlz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"
>
</div>

</div>

</div>
</div>

</div>
<div class="cell border-box-sizing text_cell rendered">
<div class="prompt input_prompt">
</div>
<div class="inner_cell">
<div class="text_cell_render border-box-sizing rendered_html">
<p>The largest magnitude weight in the hidden layer is the positive weight on <code>goout</code> on the single hidden unit.  <code>goout</code> has values of 1 to 5, with higher values representing more frequently going out.  The hidden unit is connected negatively to the output.  Considering these weights in isolation, the classifier output is decreased when the <code>goout</code> is higher than average.  When <code>goout</code> is lower than average, its standardized value is negative. When multiplied by its positive weight, its contribution to the sum in the second unit is negative.  This decreases the value of the output of the unit, when increases the output value sum.</p>
<p>So, staying home is correlated with more alcohol use.  Make sense?</p>
<p>No, it doesn't.  What's wrong with our reasoning?</p>
<p>This network has one output unit, but remember, there are two classes.  The probability of the second class for a sample is 1 minus the probability of this single output unit.  So, the output unit in this network outputs estimates the probability of class 0, which represents low alcohol use.</p>
<p>So, now it all makes sense. <code>goout</code> is positively connected to the hidden unit, which is negatively connected to the low alcohol class output, or <code>goout</code> is negatively correlated to low alcohol use.</p>
<p>Let's check this by plotting the output class, 0 or 1, versus <code>goout</code>.</p>

</div>
</div>
</div>
<div class="cell border-box-sizing code_cell rendered">
<div class="input">
<div class="prompt input_prompt">In&nbsp;[41]:</div>
<div class="inner_cell">
    <div class="input_area">
<div class=" highlight hl-ipython3"><pre><span></span><span class="n">plt</span><span class="o">.</span><span class="n">plot</span><span class="p">(</span><span class="n">X</span><span class="p">[:,</span><span class="o">-</span><span class="mi">6</span><span class="p">]</span><span class="o">+</span><span class="n">np</span><span class="o">.</span><span class="n">random</span><span class="o">.</span><span class="n">normal</span><span class="p">(</span><span class="mi">0</span><span class="p">,</span><span class="mf">0.05</span><span class="p">,</span><span class="n">size</span><span class="o">=</span><span class="n">X</span><span class="p">[:,</span><span class="o">-</span><span class="mi">6</span><span class="p">]</span><span class="o">.</span><span class="n">shape</span><span class="p">),</span> <span class="n">T</span><span class="o">+</span><span class="n">np</span><span class="o">.</span><span class="n">random</span><span class="o">.</span><span class="n">normal</span><span class="p">(</span><span class="mi">0</span><span class="p">,</span><span class="mf">0.05</span><span class="p">,</span><span class="n">size</span><span class="o">=</span><span class="n">T</span><span class="o">.</span><span class="n">shape</span><span class="p">),</span><span class="s1">&#39;o&#39;</span><span class="p">,</span><span class="n">alpha</span><span class="o">=</span><span class="mf">0.2</span><span class="p">)</span>
<span class="n">plt</span><span class="o">.</span><span class="n">xlabel</span><span class="p">(</span><span class="s1">&#39;goout&#39;</span><span class="p">)</span>
<span class="n">plt</span><span class="o">.</span><span class="n">ylabel</span><span class="p">(</span><span class="s1">&#39;alcohol&#39;</span><span class="p">);</span>
</pre></div>

</div>
</div>
</div>

<div class="output_wrapper">
<div class="output">


<div class="output_area">
<div class="prompt"></div>



<div class="output_png output_subarea ">
<img src="data:image/png;base64,iVBORw0KGgoAAAANSUhEUgAAAY4AAAEKCAYAAAAFJbKyAAAABHNCSVQICAgIfAhkiAAAAAlwSFlz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"
>
</div>

</div>

</div>
</div>

</div>
<div class="cell border-box-sizing text_cell rendered">
<div class="prompt input_prompt">
</div>
<div class="inner_cell">
<div class="text_cell_render border-box-sizing rendered_html">
<p>Yep, it does look like alcohol use is positively correlated with <code>gooout</code>.</p>

</div>
</div>
</div>
<div class="cell border-box-sizing code_cell rendered">
<div class="input">
<div class="prompt input_prompt">In&nbsp;[42]:</div>
<div class="inner_cell">
    <div class="input_area">
<div class=" highlight hl-ipython3"><pre><span></span><span class="n">hidden</span> <span class="o">=</span> <span class="mi">2</span>
<span class="n">plt</span><span class="o">.</span><span class="n">figure</span><span class="p">(</span><span class="n">figsize</span><span class="o">=</span><span class="p">(</span><span class="mi">10</span><span class="p">,</span><span class="mi">8</span><span class="p">))</span>
<span class="n">nnet</span> <span class="o">=</span> <span class="n">nn</span><span class="o">.</span><span class="n">NeuralNetworkClassifier</span><span class="p">(</span><span class="n">X</span><span class="o">.</span><span class="n">shape</span><span class="p">[</span><span class="mi">1</span><span class="p">],[</span><span class="n">hidden</span><span class="p">],</span><span class="nb">len</span><span class="p">(</span><span class="n">np</span><span class="o">.</span><span class="n">unique</span><span class="p">(</span><span class="n">T</span><span class="p">)))</span>
<span class="n">nnet</span><span class="o">.</span><span class="n">train</span><span class="p">(</span><span class="n">X</span><span class="p">,</span><span class="n">T</span><span class="p">,</span><span class="n">nIterations</span> <span class="o">=</span> <span class="mi">1000</span><span class="p">)</span>
<span class="n">plt</span><span class="o">.</span><span class="n">subplot</span><span class="p">(</span><span class="mi">1</span><span class="p">,</span><span class="mi">2</span><span class="p">,</span><span class="mi">1</span><span class="p">)</span>
<span class="n">plt</span><span class="o">.</span><span class="n">plot</span><span class="p">(</span><span class="n">np</span><span class="o">.</span><span class="n">exp</span><span class="p">(</span><span class="o">-</span><span class="n">nnet</span><span class="o">.</span><span class="n">getErrorTrace</span><span class="p">()))</span>
<span class="n">plt</span><span class="o">.</span><span class="n">subplot</span><span class="p">(</span><span class="mi">1</span><span class="p">,</span><span class="mi">2</span><span class="p">,</span><span class="mi">2</span><span class="p">)</span>
<span class="n">nnet</span><span class="o">.</span><span class="n">draw</span><span class="p">(</span><span class="n">inputNames</span> <span class="o">=</span> <span class="n">Xnames</span><span class="p">)</span>
</pre></div>

</div>
</div>
</div>

<div class="output_wrapper">
<div class="output">


<div class="output_area">
<div class="prompt"></div>

<div class="output_subarea output_stream output_stdout output_text">
<pre>0.199746305745 0.00319852079984 216.262975779
</pre>
</div>
</div>

<div class="output_area">
<div class="prompt"></div>



<div class="output_png output_subarea ">
<img src="data:image/png;base64,iVBORw0KGgoAAAANSUhEUgAAAl0AAAHWCAYAAABNHTytAAAABHNCSVQICAgIfAhkiAAAAAlwSFlz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"
>
</div>

</div>

</div>
</div>

</div>
<div class="cell border-box-sizing code_cell rendered">
<div class="input">
<div class="prompt input_prompt">In&nbsp;[43]:</div>
<div class="inner_cell">
    <div class="input_area">
<div class=" highlight hl-ipython3"><pre><span></span><span class="n">hidden</span> <span class="o">=</span> <span class="mi">5</span>
<span class="n">plt</span><span class="o">.</span><span class="n">figure</span><span class="p">(</span><span class="n">figsize</span><span class="o">=</span><span class="p">(</span><span class="mi">10</span><span class="p">,</span><span class="mi">8</span><span class="p">))</span>
<span class="n">nnet</span> <span class="o">=</span> <span class="n">nn</span><span class="o">.</span><span class="n">NeuralNetworkClassifier</span><span class="p">(</span><span class="n">X</span><span class="o">.</span><span class="n">shape</span><span class="p">[</span><span class="mi">1</span><span class="p">],[</span><span class="n">hidden</span><span class="p">],</span><span class="nb">len</span><span class="p">(</span><span class="n">np</span><span class="o">.</span><span class="n">unique</span><span class="p">(</span><span class="n">T</span><span class="p">)))</span>
<span class="n">nnet</span><span class="o">.</span><span class="n">train</span><span class="p">(</span><span class="n">X</span><span class="p">,</span><span class="n">T</span><span class="p">,</span><span class="n">nIterations</span> <span class="o">=</span> <span class="mi">1000</span><span class="p">)</span>
<span class="n">plt</span><span class="o">.</span><span class="n">subplot</span><span class="p">(</span><span class="mi">1</span><span class="p">,</span><span class="mi">2</span><span class="p">,</span><span class="mi">1</span><span class="p">)</span>
<span class="n">plt</span><span class="o">.</span><span class="n">plot</span><span class="p">(</span><span class="n">np</span><span class="o">.</span><span class="n">exp</span><span class="p">(</span><span class="o">-</span><span class="n">nnet</span><span class="o">.</span><span class="n">getErrorTrace</span><span class="p">()))</span>
<span class="n">plt</span><span class="o">.</span><span class="n">subplot</span><span class="p">(</span><span class="mi">1</span><span class="p">,</span><span class="mi">2</span><span class="p">,</span><span class="mi">2</span><span class="p">)</span>
<span class="n">nnet</span><span class="o">.</span><span class="n">draw</span><span class="p">(</span><span class="n">inputNames</span> <span class="o">=</span> <span class="n">Xnames</span><span class="p">)</span>
</pre></div>

</div>
</div>
</div>

<div class="output_wrapper">
<div class="output">


<div class="output_area">
<div class="prompt"></div>

<div class="output_subarea output_stream output_stdout output_text">
<pre>0.334039252007 0.00570638942554 216.262975779
</pre>
</div>
</div>

<div class="output_area">
<div class="prompt"></div>



<div class="output_png output_subarea ">
<img src="data:image/png;base64,iVBORw0KGgoAAAANSUhEUgAAAl0AAAHWCAYAAABNHTytAAAABHNCSVQICAgIfAhkiAAAAAlwSFlz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"
>
</div>

</div>

</div>
</div>

</div>
<div class="cell border-box-sizing text_cell rendered">
<div class="prompt input_prompt">
</div>
<div class="inner_cell">
<div class="text_cell_render border-box-sizing rendered_html">
<p>We could also take a look at extreme samples, such as the sample that produces the highest probability of high alcohol use, and the sample that produces the lowest probability of alcohol use.</p>

</div>
</div>
</div>
<div class="cell border-box-sizing code_cell rendered">
<div class="input">
<div class="prompt input_prompt">In&nbsp;[44]:</div>
<div class="inner_cell">
    <div class="input_area">
<div class=" highlight hl-ipython3"><pre><span></span><span class="n">predclass</span><span class="p">,</span><span class="n">prob</span><span class="p">,</span><span class="n">_</span> <span class="o">=</span> <span class="n">nnet</span><span class="o">.</span><span class="n">use</span><span class="p">(</span><span class="n">X</span><span class="p">,</span><span class="n">allOutputs</span><span class="o">=</span><span class="kc">True</span><span class="p">)</span>
</pre></div>

</div>
</div>
</div>

</div>
<div class="cell border-box-sizing code_cell rendered">
<div class="input">
<div class="prompt input_prompt">In&nbsp;[45]:</div>
<div class="inner_cell">
    <div class="input_area">
<div class=" highlight hl-ipython3"><pre><span></span><span class="n">prob</span><span class="o">.</span><span class="n">shape</span>
</pre></div>

</div>
</div>
</div>

<div class="output_wrapper">
<div class="output">


<div class="output_area">
<div class="prompt output_prompt">Out[45]:</div>



<div class="output_text output_subarea output_execute_result">
<pre>(1044, 2)</pre>
</div>

</div>

</div>
</div>

</div>
<div class="cell border-box-sizing code_cell rendered">
<div class="input">
<div class="prompt input_prompt">In&nbsp;[46]:</div>
<div class="inner_cell">
    <div class="input_area">
<div class=" highlight hl-ipython3"><pre><span></span><span class="n">np</span><span class="o">.</span><span class="n">argmax</span><span class="p">(</span><span class="n">prob</span><span class="p">[:,</span><span class="mi">1</span><span class="p">])</span>
</pre></div>

</div>
</div>
</div>

<div class="output_wrapper">
<div class="output">


<div class="output_area">
<div class="prompt output_prompt">Out[46]:</div>



<div class="output_text output_subarea output_execute_result">
<pre>100</pre>
</div>

</div>

</div>
</div>

</div>
<div class="cell border-box-sizing code_cell rendered">
<div class="input">
<div class="prompt input_prompt">In&nbsp;[47]:</div>
<div class="inner_cell">
    <div class="input_area">
<div class=" highlight hl-ipython3"><pre><span></span><span class="n">prob</span><span class="p">[</span><span class="mi">100</span><span class="p">,:]</span>
</pre></div>

</div>
</div>
</div>

<div class="output_wrapper">
<div class="output">


<div class="output_area">
<div class="prompt output_prompt">Out[47]:</div>



<div class="output_text output_subarea output_execute_result">
<pre>array([  7.77922377e-10,   9.99999957e-01])</pre>
</div>

</div>

</div>
</div>

</div>
<div class="cell border-box-sizing code_cell rendered">
<div class="input">
<div class="prompt input_prompt">In&nbsp;[48]:</div>
<div class="inner_cell">
    <div class="input_area">
<div class=" highlight hl-ipython3"><pre><span></span><span class="n">highest</span> <span class="o">=</span> <span class="n">X</span><span class="p">[</span><span class="n">np</span><span class="o">.</span><span class="n">argmax</span><span class="p">(</span><span class="n">prob</span><span class="p">[:,</span><span class="mi">1</span><span class="p">]),:]</span>
<span class="n">lowest</span> <span class="o">=</span> <span class="n">X</span><span class="p">[</span><span class="n">np</span><span class="o">.</span><span class="n">argmin</span><span class="p">(</span><span class="n">prob</span><span class="p">[:,</span><span class="mi">1</span><span class="p">]),:]</span>
<span class="nb">print</span><span class="p">(</span><span class="s1">&#39;Hi Alc  Lo Alc&#39;</span><span class="p">)</span>
<span class="k">for</span> <span class="n">h</span><span class="p">,</span><span class="n">l</span><span class="p">,</span><span class="n">n</span> <span class="ow">in</span> <span class="nb">zip</span><span class="p">(</span><span class="n">highest</span><span class="p">,</span><span class="n">lowest</span><span class="p">,</span><span class="n">Xnames</span><span class="p">):</span>
    <span class="nb">print</span><span class="p">(</span><span class="s1">&#39;</span><span class="si">{}</span><span class="se">\t</span><span class="si">{}</span><span class="se">\t</span><span class="si">{}</span><span class="s1">&#39;</span><span class="o">.</span><span class="n">format</span><span class="p">(</span><span class="n">h</span><span class="p">,</span><span class="n">l</span><span class="p">,</span><span class="n">n</span><span class="p">))</span>
</pre></div>

</div>
</div>
</div>

<div class="output_wrapper">
<div class="output">


<div class="output_area">
<div class="prompt"></div>

<div class="output_subarea output_stream output_stdout output_text">
<pre>Hi Alc  Lo Alc
0.0	0.0	subject
0.0	0.0	school
1.0	1.0	sex
16.0	15.0	age
0.0	0.0	address
1.0	0.0	famsize
0.0	1.0	Pstatus
4.0	3.0	Medu
4.0	2.0	Fedu
2.0	2.0	Mjob
2.0	4.0	Fjob
3.0	0.0	reason
0.0	0.0	guardian
1.0	1.0	traveltime
1.0	2.0	studytime
0.0	0.0	failures
1.0	0.0	schoolsup
1.0	1.0	famsup
1.0	1.0	paid
1.0	0.0	activities
1.0	1.0	nursery
1.0	1.0	higher
1.0	1.0	internet
0.0	0.0	romantic
4.0	4.0	famrel
5.0	2.0	freetime
5.0	1.0	goout
4.0	1.0	health
14.0	0.0	absences
7.0	16.0	G1
7.0	18.0	G2
5.0	19.0	G3
</pre>
</div>
</div>

</div>
</div>

</div>
<div class="cell border-box-sizing text_cell rendered">
<div class="prompt input_prompt">
</div>
<div class="inner_cell">
<div class="text_cell_render border-box-sizing rendered_html">
<p>Let's do this again with a larger network of 20 units.</p>

</div>
</div>
</div>
<div class="cell border-box-sizing code_cell rendered">
<div class="input">
<div class="prompt input_prompt">In&nbsp;[55]:</div>
<div class="inner_cell">
    <div class="input_area">
<div class=" highlight hl-ipython3"><pre><span></span><span class="n">hidden</span> <span class="o">=</span> <span class="mi">20</span>
<span class="n">plt</span><span class="o">.</span><span class="n">figure</span><span class="p">(</span><span class="n">figsize</span><span class="o">=</span><span class="p">(</span><span class="mi">20</span><span class="p">,</span><span class="mi">10</span><span class="p">))</span>
<span class="n">nnet</span> <span class="o">=</span> <span class="n">nn</span><span class="o">.</span><span class="n">NeuralNetworkClassifier</span><span class="p">(</span><span class="n">X</span><span class="o">.</span><span class="n">shape</span><span class="p">[</span><span class="mi">1</span><span class="p">],[</span><span class="n">hidden</span><span class="p">],</span><span class="nb">len</span><span class="p">(</span><span class="n">np</span><span class="o">.</span><span class="n">unique</span><span class="p">(</span><span class="n">T</span><span class="p">)))</span>
<span class="n">nnet</span><span class="o">.</span><span class="n">train</span><span class="p">(</span><span class="n">X</span><span class="p">,</span><span class="n">T</span><span class="p">,</span><span class="n">nIterations</span> <span class="o">=</span> <span class="mi">1000</span><span class="p">)</span>
<span class="n">plt</span><span class="o">.</span><span class="n">subplot</span><span class="p">(</span><span class="mi">1</span><span class="p">,</span><span class="mi">2</span><span class="p">,</span><span class="mi">1</span><span class="p">)</span>
<span class="n">plt</span><span class="o">.</span><span class="n">plot</span><span class="p">(</span><span class="n">np</span><span class="o">.</span><span class="n">exp</span><span class="p">(</span><span class="o">-</span><span class="n">nnet</span><span class="o">.</span><span class="n">getErrorTrace</span><span class="p">()))</span>
<span class="n">plt</span><span class="o">.</span><span class="n">subplot</span><span class="p">(</span><span class="mi">1</span><span class="p">,</span><span class="mi">2</span><span class="p">,</span><span class="mi">2</span><span class="p">)</span>
<span class="n">nnet</span><span class="o">.</span><span class="n">draw</span><span class="p">(</span><span class="n">inputNames</span> <span class="o">=</span> <span class="n">Xnames</span><span class="p">)</span>
</pre></div>

</div>
</div>
</div>

<div class="output_wrapper">
<div class="output">


<div class="output_area">
<div class="prompt"></div>

<div class="output_subarea output_stream output_stdout output_text">
<pre>5.606707021 7.25422287213e-06 148.720999405
</pre>
</div>
</div>

<div class="output_area">
<div class="prompt"></div>



<div class="output_png output_subarea ">
<img src="data:image/png;base64,iVBORw0KGgoAAAANSUhEUgAABIsAAAJDCAYAAACL5JSNAAAABHNCSVQICAgIfAhkiAAAAAlwSFlz
AAALEgAACxIB0t1+/AAAIABJREFUeJzs3Xt8XHd57/vPN7JsObHkhAQsQpKZlAYIG4IDIkBxkSkp
4U6h9EB2d8tY0ABtoGxOXi2n3aeTOb3sUkpKA6VsLvZQSKGUvUkDodCWYFFTQmKDcwGSkAYpJCAR
cpN8Gd38nD9mjTxRRrbsWUszI33fr5denllrzaNnrd9vlrWe+f3WKCIwMzMzMzMzMzMDOKHVCZiZ
mZmZmZmZWftwscjMzMzMzMzMzOa5WGRmZmZmZmZmZvNcLDIzMzMzMzMzs3kuFpmZmZmZmZmZ2TwX
i8zMzMzMzMzMbJ6LRWZmZmZmZmZmNs/FIjMzMzMzMzMzm+dikZmZmZmZmZmZzXOxyMzMzMzMzMzM
5q1pdQKNnHbaaZHP51udhpmZmWVkz549P4uIx7Y6D1t5JG0HXgH8NCKetpTXlEqlnQDFYnFrWnk4
ZvvHzCquYzpmWjGziuuY7R+zHbRlsSifz7N79+5Wp2FmZmYZkTTa6hxsxSoDHwT+rsV5mJmZdSxP
QzMzMzOzFSMivg480Oo8zMzMOpmLRWZmZmZmZmZmNs/FIjMzMzMzMzMzm9eW9ywyMzMzMzMzS5tK
mihQ6E0eR7J4MorR18K0loc0AfTmCoXa8/n9J9pn/1Wq5lmgUHu+utqpTbhYZGZmZmbW5hpc4Pqi
yez49C5x2Uq02H622/53Sp4rmiLi6Fsts4GBgfC3oZmZma1ckvZExECr87CVR9Knga2SHrd+/frZ
5z//+T98/vOfP3ak16yrVAYBpnp6htPKI+2YI4wM9tMPwBjV3cmTbzp2Lc/+sTFCmrs7l9vVjjEr
VGOOMYbQXI7mY541OrplfNOmLoBN4+Op5AmHc+0hvf4EbE7+3bvaYqbd9o3eS9D8+ymLfp9I7Zjm
Rkaqx7K/uv/9Y4f3fzTf9PkktTxHqOaZRTsBm9dVKhvTfM9T3fd9xWLxjJTitQWPLDIzMzOzFSMi
LgYolUrv5/DFiy2BIro6IWaQTsz63LLI09KXVttnLc3+NMNMD0A33WmFtAxUqPSppMujGJe3Ope0
eGSRmZmZLTuPLLJ2smNoaBZg2/btqX2QmnZMlRS1+3eUKQMQxVCzcXcMDc0qoqtQLkNK9y3JIuZQ
aWg2iK5k39OZgidNlAvVqX2Fcjm1e7YMlaptv72YXn8qlUo7AYrF4tbVFjPttm/0XoLm309Z9HtI
+Zgm9ygqJ/csSnKtiub2P808a/coyqKdOqXftwOPLDIzMzOzVS3FqQhZxpzkkffrmEwj6HyeEVvT
iJdVzNrUoyimF5OIvtHkIi+LXC0dGbT9wvdSbVlTsuj3q1ijNqott2XiYpGZmZmZWZuLYvTVPr1O
tWBitsqs8vdSRxRhaqPHVnE7tYUTWp2AmZmZmZmZmWUsoo8Ijebzw6P5/DARSn78zYr2KC4WmZmZ
mZmZmZnZPBeLzMzMzMzMzMxsnotFZmZmZmZmZmY276jFIknbJf1U0q2LrJekKyXdKelmSc+sW/cS
Sbcn696dZuJmZmZmlg1Jl0u6rMHy0yV97jhjFiSd3nx2ZmZmlrWljCwqAy85wvqXAuckP5cAfwsg
qQv4m2T9U4GLJT21mWTNzMzMrHUi4scR8brjfHkBcLHIzMysAxy1WBQRXwceOMImrwb+LqquB06W
9HjgAuDOiLgrIqaBzyTbmpmZmdkyk3SSpGsl3STpVkmvlzQi6bRk/YCknXUveYakb0r6gaTfSrbJ
10abS+qS9F5JNyajy99S97t+X9Itye/6c0mvAwaAqyTtlbR++fbczMzMjtWaFGI8AfhR3fN7kmWN
lj8nhd9nZmZmZsfuJcCPI+LlAJI2Au85wvbnAc8FTgK+I+naBevfBDwcEc+WtA74hqR/AZ5C9QPC
50TEAUmPiYgHJF0KXBYRu1PeLzMzM0tZ29zgWtIlknZL2n3fffe1Oh0zMzOzleYW4JclvUfSL0bE
w0fZ/p8i4mBE/Az4GtVR4/VeDPympL3At4BTqd6W4EJgR0QcAIiII41QNzMzszaUxsiie4Ez656f
kSzrXmR5QxHxEeAjAAMDA5FCXmZmZmaWiIg7ki8ieRnwJ5K+Csxy+MPDnoUvOcpzAW+PiK88YqF0
UUopm2VHmgB6c4VC7XkAk0T0tTArM7O2oYij12Uk5YEvRsTTGqx7OXAp1T88ngNcGREXSFoD3AG8
iGqR6Ebgv0bEd4/2+wYGBmL3bo9QNjMzW6kk7YmIgVbnsZok30T2QERUJL0CeDOwAXhfRPyzpL8C
zo+IrZIuB36FumloyeO1JH8TSrqE6t9/vxYRM5KeRPVvvl8E/gi4cME0tC8AV0TE15Zjf0ul0vuB
zUvcvLbd3hRTSD1mhcogwDjjczlyu1IK2xH7nnbM3MjIIMBYfz8A/WNjAIzm88MphG/7/XfMjomZ
VVzHTPncPM00V3AFwGQUV0bR+ajT0CR9Gvgm8GRJ90h6k6S3SnprssmXgLuAO4GPAr8NEBGzVItI
XwG+D3x2KYUiMzMzM8vE04EbkmljReBPgBLw15J2A3MLtr+Z6vSz64E/jogfJ8trnzR+DPge8O3k
ptf/C1gTEV8GrgF2J7/rsmT7MvDhdr3B9ZqZmYUjq5o2Q/oxAYLoSjPeukpl41mjo1vSjFmhsnGU
dGNmkWcWKlQ2VqhsTDtuFv0pi36fdtvXjmcn9Kcs8syiP62rVDauq7R/H82q7bM6Nyd6M4y9rJY0
smi5dfrIoojgCzf/hM/tuYf7JqeYmTtEOx5nMzOzI3n9s8/kkhc8MZPYHlnUmSQ9i+rooMFW55Km
Uqm08zH3359/+5VX5tOMeT/3568sphdzW2lbAJQpE8VQGjFLpdLOs0ZHt2zbseNAWlOwSqXSzlFG
t+xgx4G0PmFPPc/qtDPKyTS0QrlcXR7NH9eh0tAswPbi9jRu+QFk05+y6vdpt/1QaWg2iK4y5dRG
bHRKv4ds+tOOoWrMbdvbu49m1fZZnpuB1M7PrZZa57Cqqdk5/vs/7OVLt4yRP/VEfv5xvaxdI6QV
0V/MzGwVeWzvulanYG1E0gDw98C7W51LFh449dSRtGOeSroxheaSUUWTaca9O5fbRcTWNGPmyO2K
Yroxs8gzCylOEXyEtPsTZNPv02772vHshP6URb/Poj/dneuMPppV22d4boaUz8+t5GJRiiKCd332
Jr50yxi//5Kn8JYX/BwnnOAikZmZmXW+5Cvvn9TqPFazrC6cVqlJHj1dZMVc5JnZ8lmp5+aj3rPI
lu7TN/yIa2/+Cb/3kifztq1PdKHIzMzMzKwdRfQRodF8fng0nx8mQv4mNDOzw1wsSkllZo4r/vV2
nnP2Y3hrRvd3MDMzMzMzMzPLmotFKfnHPffws33TvPPCJ3lEkZmZmZmZmZl1LBeLUjA7d4iPfP0/
2XzmyTz35x7T6nTMzMzMzMzMzI6bi0Up+NKtY/zogYP89tYn+lvPzMzMzMzMzKyjuViUgq/cOkZ/
Xw8Xnrup1amYmZmZrSiSCpI+mFKsEUmnpRHLzMxsJXOxqElzh4Lr77qfX3jiqb5XkZmZmZmZmZl1
PBeLmvSNO3/G/funeZFHFZmZmZktmaSTJF0r6SZJt0p6vaRnS/qPZNkNknqTzU+X9GVJP5D0F3Ux
LpZ0S/L69xxtuZmZmS3NmlYn0Ok+t+ceNq7v5sKnPq7VqZiZmZl1kpcAP46IlwNI2gh8B3h9RNwo
qQ84mGy7GTgfmAJul/QBYA54D/As4EHgXyT9CnBDo+URcfXy7ZqZmVln88iiJuyfmuVfvjfGK5/x
eNat6Wp1OmZmZmad5BbglyW9R9IvAmcBP4mIGwEiYiIiZpNtvxoRD0dEBfgekAOeDeyMiPuS7a4C
XnCE5WZmZrZEHlnUhOtu+ymVmUO84rzTW52KmZmZWUeJiDskPRN4GfAnwHVH2Hyq7vEc/ht2dZEm
coVCb/I4kqWTRPQ1ExPozRUKtefRdMxVTiVNFKi2k0rV4xnFJo/no9vebWS2TBQRR99qmQ0MDMTu
3btbncZRve1Te7hx5EG+9Qcvoss3tzYzM1sySXsiYqDVeVjrSDodeCAiKpJeAfw28BQOT0PrpToN
7b8BAxFxafK6LwJ/CdwOXM/h6WZfAT5AdRra9b/7u7/7zxs3bnzKxz/+8Wc8+9nPvmfz5s33/+Vf
/uVz3/KWt+zp7e2dqeVx1ujolvFNm7oANo2Pz92dy+1KaRc3J//uTSleJjErVAYBxhhDaC5H8/tf
iznOeCrxciMjg2P9/QD0j43NLx/N54ebiQmwMG4zMet0RNuvq1TbKa1+P8LIYD/V4zlG9Xjmae54
Nmr71dRGcLidpnp60thvIP33aCKz81O757muUhlcOz3Nu664AlZQQdOfyhyn2blD/PsPfsYrn/F4
F4rMzMzMjt3TgfdKOgTMAG8DBHxA0nqqhaILF3txRPxE0ruBryWvuzYi/glA0ru3b9/+gTVr1qw/
++yz79+8efP9i8VRRFejx6tRkO7+px3PsrHa+32a1lUqGzeNj29JseicqU55j3ZKnoneo2/SGTyy
6Dh9++4Hee2H/oMP/tfzPQ3NzMzsGHlkkbUNaaKcTHMplMupfSJcKpV2AhSLxa1pxMsq5lBpaDaI
rjJlSGPa0CNjphIPKcrJdLFCuXx4ecTxf2KbTGd7VNxmYiY6pe13DA3NKqIrrX6vkqJAAYCkPxHF
Jo9no7Zv4zY6a3R0y7YdOw6kObJkx9DQLMC27dtTG+iR+nuUzM9PbZ1n3XsJPLLI/uPOnwHwvJ87
tcWZmJmZmdlxi+gbTS4eiNja0lxaoDa1I4rp7XsGMSd59Kf1k20Ys6PMj35Jr98vPKZpHM8sYmbm
7lxuV9rnkSxGKWXxvs9Cp+SZwXupLfjb0I7TN++6n3Mf38epG9a1OhUzMzMzs5Urom80nx8ezeeH
iVDy09wn9xF9RGhB3BUxGqBVohh9efLDefLDUQylMhLk0W3vNjJbJi4WHYdDh4Kbf/Qwzzzr5Fan
YmZmZmZmZmaWKheLjsPI/fuZnJrlGWe4WGRmZmZmZmZmK4uLRcfh5nseBuDpZ2xscSZmZmZmZmZm
Zulyseg43HzPw/R0n8A5j9vQ6lTMzMzMzMzMzFLlYtFx+N5PHubcx/expsuHz8zMzMzMzMxWFlc7
jsMPxvfx5E0Lv2nTzMzMzMzMzKzzuVh0jH62b4r7909zjotFZmZmZstK0kmSrpV0k6RbJb1e0rMk
DUvaI+krkh4vaY2kGyVtTV73PyX9aYvTNzMz6xhrWp1Ap7ljfBKAJ23y/YrMzMzMltlLgB9HxMsB
JG0E/hl4dUTcJ+n1wJ9GxJCkAvA5SW9PXvecViVtZmbWaVwsOkZ3jNWKRR5ZZGZmZrbMbgHeJ+k9
wBeBB4GnAf8qCaAL+AlARHxX0ieT7Z4XEdOtSblNSRNAb65QqD2PurWTRPS1ICszM2sTLhYdox/8
dB99PWt4XO+6VqdiZmZmtqpExB2Sngm8DPgT4DrguxHxvEVe8nTgIeBxy5RiJznSJ5/+VNSs1RoX
dJsu5KqkiQKF3uRxAJNRdHH4eDU4nrBCjqmLRcdo9P4DnP3YDSSfXpmZmZnZMpF0OvBARHxK0kPA
bwOPlfS8iPimpG7gScmootcCjwFeAHxR0gUR8dCy5PnIi4eJNC4aOukCb5TRLUF0pZnnWaOjWxTR
ldYFc1ayaPuOIU3kCtV9T7Od6vrT6jqejYu2aRRyF8ZoOmZW56cOafus2qnlFBFH32qZDQwMxO7d
u1udRkNb3nMdzzzrFK68+PxWp2JmZtaxJO2JiIFW52GdRdJFwHuBQ8AM8DZgFrgS2Ej1g9D3A58/
6aSTfjA0NHTbqaeeOvW1r33tCWNjY70XX3zxbY3irqtUBgGmenqG08hzhJHBfvoBGGOMPPmm4y6M
CTQVNzcyMggw1l+N2T829oj1o/njj12hejzTyLOm1ka1PJvJr14t1x7at+0Tm9fMzPTMdndfn1K8
1GPmRkYGF/anNNqpvj+leTzXVSobN42Pz92dy+1qx5iLvUebPaZpn0uyignZtf0MMz3dpNPva/s+
zTRXcMX88ihGx48u8ciiYzA9e4gfP3SQ15z/hFanYmZmZrbqRMRXgK80WPWChQtKpdIngM0AL3zh
C+/NODUzM7MVxcWiY3DvQwc5FHDWY05sdSpmZmZmdgTFYvGdS922VCrtTF6zNY3fXT8lo0x5MorR
dNwFMaE6zeP44yY3tC4n90MplMuPXB/HH3uoNDQbRFcqeSZ2DA3NKqIryXOymfzqdULbQzXP2e7u
1PLMJKYUj+pPKbRTXX9K9XhO9fSwbfv2VOJlEnOx92iTx1QlRYFqzOQ9SrPHNfXzUyKrtu8mvX5f
fzxXmhNanUAnGb1/PwD5005qcSZmZmZm1q6iGH158sN58sNp3WdjQUy18f07yJHblXaed+dyu0bz
+WEi1K73K4Js2r6DTB7l+XGp60+r/XgutqzZuE3HzOr81CFtn1U7tZyLRcdg9P4DAOQ8ssjMzMzM
OtuRLmZWxIWOLbOIvtF8frgTinodIaKPCKV9TDup8NwJGhzPFXNMXSw6Bvc+dJC1a07gsb3rWp2K
mZmZmdnxa3whKl/km5kZuFh0TO6bnOJxveuQOv7G5mZmZmZmZmZmDblYdAzum5zyqCIzMzMzMzMz
W9FcLDoG901O8dgNLhaZmZmZmZmZ2crlYtExuG+fRxaZmZmZmZmZ2crmYtESzcwd4oH90y4WmZmZ
mZmZmdmK5mLREj2wfxrAxSIzMzOzFpJ0taQ9kr4r6ZJk2Zsk3SHpBkkflfTBZPljJf1vSTcmP89v
bfZmZmadYU2rE+gU901OAfieRWZmZmatNRQRD0haD9wo6Vrg/wWeCUwC1wE3Jdv+NfBXEbFL0lnA
V4BzW5G0mZlZJ3GxaInmi0UeWWRmZmbWSu+Q9Jrk8ZnAbwDDEfEAgKR/BJ6UrL8QeKqk2mv7JG2I
iH3LmbCZmVmncbFoiVwsMjMzM2stSVupFoCeFxEHJO0EbmPx0UInAM+NiMryZGiZkCZyhUJv8jiS
pZNE9LUuqcZU0kSBaq4qaSKK7ZdjVhbsewCTq2n/zxod3aKIrqSPNt8/pQmgN1co1J6nE7dDrPb+
1A4UEUffapkNDAzE7t27W53GI3xo5538xZdv57Y/fgk93V2tTsfMzKyjSdoTEQOtzsM6i6RXA2+O
iFdKegqwF3gT8KfA+VSnoX0VuOXyyy+fveqqqy7etGnTvgsvvPBHAKOjoxtyuVyjUUWbk3/3ppXr
ukplEGDT+Pjc3bncrjRiVqjGHGd8Lkc6MWt59o+NEVIquaadZ25kZHCsvx+o5lkzms8PNxublNt+
hJHBfqq5jjFGnlRyhAz6aNoxF+47kMr+Z/FeIsP3fK2PNts/cyMjgwAL+34a/T6LY5p2zKz6Exm0
fYXK4DTTXMEVsIKKWh5ZtEQPH5ihp/sEF4rMzMzMWufLwFslfR+4HbgeuBf4M+AG4AGqI40eBk56
1atedefVV199zpVXXjlw6NAhPeEJT3g4l8vdsTDompmZHoDZ7u7UE1ZE6n88BunHhPRzzSrPNM1Q
bftu0m97S1cW76XVLotj6nait9UJpMUji5bo9z53E1+/42dc/wcvanUqZmZmHc8jiyxNtfsQSVoD
fB7YHhGfX+rrS6XSToBisbg1rZx2DA3NKqKrUC6nNm1kqDQ0G0RXmXJqn1yXt20LgEK5XF0QoSNs
viSp5ylFOZmKM58npJJr2m2vkqJAAYAyZaLYfI6QTR/Net+BVPY/i/dSFscz9fdSMuXyUX0/hX6f
xTFNO2ZW/SmLtq8754FHFq0+Dx6Y4eQT/YmDmZmZWRu6XNKFQA/wL8DVLc6H+WkYEVvTilmb0hXF
9GKGNFc3EmAyjZhZ5NlBJjk8siCV49lB6ve99rxpWbyXspDBe2nh8UwrbibHNIOYmfSnLKzUc94J
rU6gUzzsYpGZmZlZW4qIyyJic0Q8JSLeEe04dL5N3Z3L7RrN54eJUBvfOLfRRWJbXjhGMfry5Ifz
5IdXyuiCpVqw71pt+5/6eymijwiN5vPDHfAeTd1q70/twMWiJXrwwDSnnLi21WmYmZmZma0uEX0L
LphX1UWzmVkruFi0RA8d9MgiMzMzMzMzM1v5XCxagojgoQPTnOyRRWZmZmZmZma2wrlYtAQHpueY
mQtOXu+RRWZmZmZmZma2srlYtAQPHpgG8D2LzMzMzDIkqSDpg4us27fc+ZiZma1WLhYtwUMHZgDY
6HsWmZmZmbUNSWtanYOZmdlK5GLREtSKRR5ZZGZmZnb8JF0taY+k70q6JFm2TdIdkm4Anl+37dmS
vinpFkl/Urd8q6R/l3QN8L1k2X+TdIOkvZL+l6Su5Kcs6dYkxn9Ptn2HpO9JulnSZ5b3CJiZmXUG
fxqzBLVpaP42NDMzM7OmDEXEA5LWAzdKuhYoAc8CHga+Bnwn2favgb+NiL+T9DsL4jwTeFpE/FDS
ucDrgedHxIykDwG/DnwXeEJEPA1A0snJa98NnB0RU3XLzMzMrI6LRUvw0MHqyCIXi8zMzMya8g5J
r0kenwn8BrAzIu4DkPQPwJOS9c8HfjV5/EngPXVxboiIHyaPX0S12HSjJID1wE+BLwA/J+kDwLXA
vyTb3wxcJelq4Op0d8/MzFYLlTQB9BYo1J5H3erJKEZfK/JKi6ehLcFD+5ORRes9Dc3MzMzseEja
ClwIPC8inkF1BNFtR3lZLLJ8f31o4BMRsTn5eXJEXB4RDwLPAHYCbwU+lmz/cuBvqI5OutH3PUqZ
NJEbGRnMjYwMIkXyM9HqtBZSSRMqKUYYGRxhZFAlRXLhZ2a2VL3Hua4j+D/HJXjo4Awnre1i7RrX
1szMzMyO00bgwYg4IOkpwHOpjgIalHQqMAH8GnBTsv03gDcAn6I6rWwxXwX+SdJfRcRPJT2G6h/p
+4HpiPjfkm4HPiXpBODMiPiapF3AG/h9HhhhpBeqBYRO/yT4mEgTuUKhN3kcwCTR9P43ukBq7qKp
U/Jc7TJoJ5U0UaBQe38GK2C0hlmnUMRiH9i0zsDAQOzevbvVacx712f38q27HuAb7/6lVqdiZma2
IkjaExEDrc7Dlo+kdVSnfeWB24GTgcuBs4H/B3gI2Eu1wHOppLOBvwc2AP8EvDMiNiQjlC6LiFfU
xX59EuMEYAb4nV//9V+/9Mtf/vKrI0IAL3zhC+8699xzH/zoRz+6eXp6ugvQueeeO/6kFz/p7H76
ARhjjDz54ZR2eXPy796U4qUeMzcyMjjWX933/rExAEbzze1/o5jNxs0izxFGBgHq2x5Ipf0rVAYB
euhJqy8BbF4zM9Mz2919fZoxZ5jp6SadmFm1UxZtBGxeV6ls3DQ+Pnd3LrcrhXgAmytUNo4zPpcj
tZisq1T701RPev2p02Km3U5ptX39eWSaaa7gikesj2L1/59O5ZFFS/DQgRnfr8jMzMysCRExBby0
waqdwI4G2/8QeF7dov+RLN+ZvKZ+238A/qF+WalUesM555yzZ2Hct73tbd+pfz7CyNlLyd/MzGw1
cbFoCR46MM0pJ/p+RWZmZmadolgsvnMp29VPcylTnoxibE3j95dKpZ1JHqnEyySmNFFOpg0VymWo
ThtqLrYU5UKBuphVzcRtFLPJPGs3oq3dmLZMNW4a7Z9V2892d6ces5sUY2bQn1RSZNVGUz09bNu+
velY9TF76GF7Mb2YtbjQ5ueSjGOm3U5ptf3C88hK45vwLMFDB2fYuN4ji8zMzMxWmihGX578cJ78
8Kq7F0pE32g+Pzyazw8ToRTuAwQwucRlzcRsNt5iMdKIu3otT39yG5ktExeLlmCyMkvfeg/CMjMz
MzM7okcXDJovGmRQhIhi9EUxVFco1KorFnaABcVct5G1myMVLzu+sOkKyBJMHJyhr8cji8zMzMzM
zMysWsyEw9Pl0prG3C48sugopmbnmJo9RJ+noZmZmZmZmZnZKuBi0VFMVmYB6OvxICwzMzMzMzMz
W/lcLDqKiYMzAPR6GpqZmZmZmZmZrQIuFh3FRG1kkW9wbWZmZtYUSe+Q9H1JV2UQ+1WS3p12XDMz
s9XIFZCjqI0s8g2uzczMzJr228CFEXFP2oEj4hrgmrTj2vJTSRNAb/2yAoXaumjwkkl/S5aZWbo8
sugoavcs8jQ0MzMzs+Mn6cPAzwH/LOn3JX1T0nck/YekJyfbFCRdLelfJY1IulTSu5Ltrpf0mGS7
d0j6nqSbJX2m7rUfTB7vrfs5KGlQ0kmStku6IYn36lYdCzuq3qNv0tT2ZmZ2FB5ZdBQTlWRkkaeh
mZmZmR23iHirpJcALwSmgfdFxKykC4E/A3412fRpwPlAD3An8PsRcb6kvwJ+E3g/8G7g7IiYknRy
g9+1GUDSK4HfA/4DKAHXRcRQ8pobJP1bROzPcLfNbAWrHwV3hNFvHvlmHckVkKPwNDQzMzOz1G0E
PiHpHCCA+j+0vhYRk8CkpIeBLyTLbwHOSx7fDFwl6Wrg6ka/IIn9XuCFETEj6cXAqyRdlmzSA5wF
fD/F/UrdEi5Gj+tCtBa3QUxf2NrKpWq/zxUKtefz/Z44rn6/lFFtxzfyLf1cLQMqaaJAoTd5vKLO
oy4WHcVkZZauE8SJa7tanYqZmZnZSvHHVItCr5GUB3bWrZuqe3yo7vkhDv/t+nLgBcArgT+U9PT6
4JI2AJ8FfisiflJbDPxqRNye3m4si6NdaB7vFKzFXtfclC5pIleoXjglF7dteWG7SLFsRVzg2RFl
0++z0Um5pq9DziU0bo8V0UaKaHSPuNYaGBiI3bt3tzoNAP7on27lmpt+zN4/enGrUzEzM1sxJO2J
iIFW52HLS9IIMAB8FPhURPxvSZcDhYjISyoAAxFxaf32EfGz2jrgHcBZETEiqRsYBZ4K/ErttZI+
e8EFFzyNUqV8AAAgAElEQVTuZS972fzv/sIXvnD29PT0mte+9rU/kMTo6OiGXC63b5TRLZvY1AUw
zvhcjtyulHZ3c/Lv3maCjDAyWHvcTz8AY4w9Yps8+eHjjdso5vHEq8mNjAyO9Vdj9o9VY47mjy1e
/T7XLLbvNcea82L738y+16yrVAYBpnp6mo5VJ5X+1IkxK1SP5xhjCDX1Hs2NVNt9YR+FY++nsLT3
Jxxfv0o71/nXZnDOO2t0dMv4pmrMTePjc3fnmo+ZxrlkEan20RFGBvvpZ5ppruCK+eVRDKURv5WW
NLIomV/+10AX8LGI+PMF608BtgNPBCrAUETcmqwbASaBOWC20/4wnDg44yloZmZmZun6C6rT0P4H
cO0xvrYL+JSkjVRHC10ZEQ9J1b/LJeWA1912223333nnnesBXvnKV95+0UUXjV599dU/f+WVVw5E
hPr6+ipDQ0O3BDE/fLz+cbPWVSobAaZ6etIKabbqpfkeXa2yOOcpDsepf9yuKlQ2jjO+JcUPB1ak
o44sktQF3AH8MnAPcCNwcUR8r26b9wL7IqIk6SnA30TEi5J1IySfCC01qXYaWfSm8o2MT1b44tt/
sdWpmJmZrRgeWWTtov5+E2XKqU1D2jE0NAuwbfv2pm77UH9/otqUqTLlR2xzPJ9g1+I2itnUJ+JS
lJN7rBTKScw4tngNbhC86L7XHGvOi+1/GqMB0mr7eqVSaSdAsVjcutpibittC0ipjZL7/jyqj8Ix
91NY2vsTjjPnlHOdD1tS1OeaygiYhe/7JvJbNCakErdUKu0cZXTLDnYcSON8v/B41qyEkUUnLGGb
C4A7I+KuiJgGPgMs/KrRpwLXAUTEbUBe0qZUM22RicoMves8ssjMzMxsJYpi9OXJD+fJD6d5v5q7
c7ldaUzF6ECTR3m+4q3its+E0Fzd01XXnzIwucjjdo6ZZlxy5Hb5/mRHt5Ri0ROAH9U9vydZVu8m
4LUAki4AcsAZyboA/k3SHkmXNJfu8ps4OEvfet8H3MzMzMxWlMUuvJq7IIvoG83nh0fz+WEi1KY3
pIXG++lCRBvKkduVFHOVwgV+Nv0+G5nkmkmB/JHv+yxi+lzSAmlVQf4c+GtJe6l+rel3qN6jCGBL
RNwr6XHAv0q6LSK+vjBAUki6BOCss85KKa3mTVZ8zyIzMzMza5lJjvzNOsd1UVK7SKxNG4pibD2e
OJ1qte//qpUUHEaTdieabvejvT9r2xy79HO1DEQx+lbqeWQpxaJ7gTPrnp+RLJsXERPANgBV7y74
Q+CuZN29yb8/lfR5qtPaHlUsioiPAB+B6j2LjnVHsjJRmaVvvYtFZmZmZrb86j/5X6kXJGadyu9P
W8mWMg3tRuAcSWdLWgu8AbimfgNJJyfrAN4MfD0iJiSdJKk32eYk4MXAremln63ZuUPsm5qlt8fT
0MzMzMzMlsmxjsRYEVM+zMzayVGrIBExK+lS4CtUv6p0e0R8V9Jbk/UfBs6l+vWnAXwXeFPy8k3A
55OvMl0D/H1EfDn93cjGvqlZAE9DMzMzMzNbJo3uo+JRG2Zmy2tJQ2Yi4kvAlxYs+3Dd428CT2rw
uruAZzSZY8tMVpJikaehmZmZmTVN0hzV+1uuAb4PvDEiDiyy7TuBjyy2/li3MzMzs6VbyjS0Vevh
gzMAnoZmZmZmlo6DEbE5Ip4GTANvPcK27wROXELMpW5nZmZmS+Ri0RHUpqH1rnOxyMzMzCxl/w78
fHKPy2sl3STpVkmvl/QO4HTga5K+BiDpbyXtlvRdSaVkWaPt9tV+gaTXSSonj38tiX+TpEd92YqZ
mZkd5irIEexPikUnuVhkZmZmlhpJa4CXAl8GXgL8OCJenqzbGBEPS3oX8MKI+Fnysj+MiAckdQFf
lXReRFzZYLvF/BFwUUTcK+nkbPbMzMxsZXAV5Aj2T88BLhaZmZmZpWS9pL3J438HPg7kgfdJeg/w
xYj490Ve+39JuoTq36+PB54K3HwMv/sbQFnSZ4H/czzJm5ktB5U0AfQCFCjUlkWyerLRTeBteR2l
jWAFtJOrIEdweGRRV4szMTMzM1sRDkbE5gXL7pD0TOBlwJ9I+mpE/H/1G0g6G7gMeHZEPJhMLetZ
5HfU/7E+v01EvFXSc4CXA3skPSsi7m9yf2whaSJXKPQmj+cvbonOvmgyOxKVNFGg2u9TKur0Huc6
Wz5Ha4eObycXi47A09DMzMzMsiXpdOCBiPiUpIeANyerJqn+sf0zoA/YDzwsaRPVKWw7G2wHMC7p
XOB24DXJeiQ9MSK+BXxL0kuBMwEXi9LX6AKp6YumUUa3BNGVXIh3/Cf2tjQNijCptP1Zo6NbFNGV
FDTTKGZm0u/NWkkRcfStltnAwEDs3r271Wnw/n+7g/f/2w/4zz97GV0nqNXpmJmZrRiS9kTEQKvz
sOUlaV9EbFiw7CLgvcAhYAZ4W0TslvR24FKq9zN6YTKa6BeAHwEPA9dERLnBdq8D3nPKKaeceMYZ
Zxyanp7uuvjii2/7xCc+8V8eeuih9YDOPPPMB1/zmtfcKVX/vqtQGQQYZ3wuR25XSru7eYaZnm66
r08pXiZ5rqtUY24aH5+7O9d8zNzIyOBYfz8A/WNj88tH8/nhZuLW9n2Masw8zcVbGLeHnlTiZRUT
2LxmZqZntju9/gTURvntPeJWxyDtPjrCyGA/1f6UZtvX+n2tjzbbPxvlCcef6wgjg7XHacatybLf
p30eXVepbEzr/FSLWaGysdk8F7bRNNNcwRWP2CaK0dFFBA+ZOYL9U7Os7+5yocjMzMwsBQsLRcmy
rwBfabD8A8AH6p4XFom5cLvPAZ8rlUrv5/DFMG984xu/e9T8iFV77wHF6t13M0vPaj6PrjQuFh3B
vqk5T0EzMzMz60DFYvGdS912qDQ0G0RXmfJkFGNrGr+/VCrt7KabYrGYSrxaTIDtxe2pxdwxNDSr
iK5CuTxJpLDvUpQLBQAK5fLh5U3G3lbaFgBlqjHTbCcgk3ZKO+Zsdzb9qZ37qEqK2s2D02z7un4P
1WloTcVslCccf671N0pOM25NFm2f1Xl0qqeHbdvTO+eVSqWdPfQ03UcbtdFK40rIEeyfmmWDb25t
ZmZmtqLVpiKkdYHTSeandqRRKKqq3UNq4bKmCM3VjVhoOp51jIX9KZW275R+30lW83l0pXKx6Aj2
T816ZJGZmZmZ2VJF9I0moxZSvBD3hegqFcXoq42Caee2zyDPRsWn+nVmmXMl5Aj2T7tYZGZmZmZm
Zsun/hvfOqFYtkodqaBXW9/RXAk5gv1Tc5y2YW2r0zAzMzMzMzOzNrEaCnontDqBduZpaGZmZmZm
Zma22rhYdAT7pmbZ4GKRmZmZmZmZma0iLhYdgUcWmZmZmbWOpJD0qbrnayTdJ+mLxxhnp6SB9DM0
MzNbmVwsWsShQ8H+6TkXi8zMzMxaZz/wNEnrk+e/DNzbwnzMzMxWBReLFnFgZg6ADeu6WpyJmZmZ
2ar2JeDlyeOLgU/XVkg6SdJ2STdI+o6kVyfL10v6jKTvS/o8sL7uNfvqHr9OUnlZ9sLMzKyDuFi0
iANTswAeWWRmZmbWWp8B3iCpBzgP+Fbduj8ErouIC4AXAu+VdBLwNuBARJwLFIFnLXPOZmZmHc2V
kEXsS4pFvsG1mZmZWetExM2S8lRHFX1pweoXA6+SdFnyvAc4C3gBcGXd629enmzNbFWSJnKFQm/y
OJKlk8Thr1e3FUiaAHpzhULtedSt7fj2dyVkEfunqtPQTlzrQ2RmZmbWYtcAfwlsBU6tWy7gVyPi
9vqNJR0pVv0f8z0p5WcJlTRRoHrRrNLhi+YodvZF05I0vnDs+AtGW5LeJS47No8uQrk/tZcjtXHz
7d9iioijb7XMBgYGYvfu3S3N4Zv/eT8Xf/R6/v63nsMvPPG0luZiZma20kjaExH+dio7Ikn7ImKD
pDOA10bElZK2ApdFxCsk/RnQB7w9IkLS+RHxHUnvOvvss4fe+MY3/uyee+456eMf//jAb/7mb377
7LPPnnzf+973nIsvvviW/v7+A5/85Cf/y9q1a+cuvvjiWtFob1q5V6gMAowzPpcjtyuNmOsq1Zib
xsfn7s6lExPYnPybyr6PMDLYTz8AY4zNL8+TH24mbm3f+8fGCCmV/T9rdHTL+KZNXZDOMc2NjAwC
jPVX979/rLr/o/nm9j2RajtlFbMT+mgWMXMjI4ML2x2ab/tGcdPoT1mcn8igndo9z/r3/Nrpad51
xRWP3CDiiJ9ctDvfs2gR+z0NzczMzKwtRMQ9EXFlg1V/DHQDN0v6bvIc4G9nZ2e73//+9z/7q1/9
av60006brL1g69atd336059++oc//OFnbtiwYTrz3InUvy1FkW7MdZXKxrNGR7ekGTNLae1/fZy0
j2na1lUqG9dVKhvbPWZNux9P6Lx+n4U0z08VKhsrVDaOkv4xTfs86rZfGldCFrF/2je4NjMzM2ul
iNjQYNlOYGfy+CDwlgbbHASevNTfUyqVdgIUi8Wtx5VoA0OlodkgusqUJ6MYqcTdMTQ0q4iuQrk8
SaQTs1Qq7dw0Pr5l244dB9KIqZKiQAGAMuX55c0eg/K2bQFQKCcx09h/KcrJlLFCudx8zOR+JY+I
CankumNoaBZg2/btTcfKOmYWfRTSfX+m3e8f1ZdqUuhTWfSnLM5PdTEPpBVzW6n6vi9TbvocUpNq
2y94z680roQswje4NjMzM7PjVZsykdYFDsD8tJ6ULsIfETflmGkLaa5utMrkETdeukkO31ckrZiZ
SHFK1/LEbPP+BJ3R73lkH609b1oW56csYgrNJaOKUn1/dkjbt5ynoS3iQHKDa48sMjMzMzNbskYX
dU1f6N2dy+0azeeHiVBqN/iN6BvN54eTuGnEzGTfrSNk0/aP7KPp9f0OkSO3K09+eFXcIL8NuVi0
iNrIohO72366rZmZmZlZW4hi9OXJDycXeEp+VseFXkQfEVrNF/er1qOLOm771eFIBcGOLxS7WLSI
/VOznLi2ixNO6OgbmJuZmZmZmZlZ2hoXiFdMsdDFokXsn57jxLWegmZmZmZmZmZmq4uLRYuYmp2j
p9uHx8zMzMzMzMxWF1dDFjE1e4h1a3x4zMzMzMzMzGx1cTVkEVMzh1i3xje3NjMzM2sVSXOS9tb9
5I/htWVJr8suOzMzs5XLN+VZxNTsHOs8Dc3MzMyslQ5GxOZWJ2FmZrbauBqyiKnZQ/R4ZJGZmZlZ
W5HUJem9km6UdLOktyTLJemDkm6X9G/A4+peMyLptOTxgKSdrcnezMysM3hk0SKmZuY45aS1rU7D
zMzMbDVbL2lv8viHEfEa4E3AwxHxbEnrgG9I+hfgfODJwFOBTcD3gO2LRpYmgF6AXKFQWxbJ2smV
8LXHZtahfH6yNuBi0SJ8g2szMzOzlms0De3FwHl19yPaCJwDvAD4dETMAT+WdN1RYvce5zpbbtJE
rlDoTR77gtlWA5+frOVcLFpEtVjkaWhmZmZmbUbA2yPiK49YKL3sCK+Z5fDtF3qySswy0+jiuKkL
ZpWqIzcKFGrPA5iMogtQx+3RRb1UCnpnjY5uUURXmjFXM5U0UaDaTippwn2+eaOMbgmia6WdRxQR
R99qmQ0MDMTu3btbmsMv/M+v8vyfP433/tozWpqHmZnZSiRpT0QMtDoPa2+S9kXEhgXLLgFeBvxa
RMxIehJwL3AR8JZk3ePWrFnzw5e+9KX/+axnPeu+j370o8947nOf+6OnP/3pD3z+859/4k9/+tPe
P7vooo21mGP9/QD0j43N/57RfH64yfQ3r5mZ6Znt7r6+yTjz1lUqgwCbxsfn7s7ldqURs0I15jjj
cznSiQnURoPtPeJWS5QbGRlMu41GGBkE6Kcad4xq3DxNt/t8O0319DQdq06qx7QWM80+2qidUngf
zR/PNGNm1e/XVSob03h/5kaq/RPSPz+NMDJY3+/T6PNw+Jj2kG6/n2Gmp5v0zqOk2E41FSqD00xz
BVcAEMVQGnFbzSOLFjE1e8jfhmZmZmbWfj4G5IFvSxJwH/ArwOeBX6J6r6K7Tz311J/UXjA4ODjy
xS9+8cnDw8NzZ5555kMtyLntBeEh9bbquN+bLc7FokVUZub8bWhmZmZmLbRwVFGy7BDwB8nPQpcu
Ofjhe99QTm4gWyiX63/R1iXHaqBUKu2c7e6mWCw2FWdhTIBt27enFnOoNDQbRFeZ8mQUm9vnmlqe
qe27FGm3UTJdhNo0tDLVuGkcgx1DQ7OQbjulfkzJoI9KE+VkGlrSTpPNvo+gejwV0ZVmzKz6/VRP
TzrtnuH5qX4aWlu/75OY3aR/Hk2tnRLbStvab7pWClwsWoRHFpmZmZnZSlebgpPWBWNGJnn0PYom
2zAmAGlNbek4EX2jScEgjYJOzfzxTDFmh/T7TEQx+mqFndW4/1kQmqsbpZbKeaQduFjUwOzcIWYP
hW9wbWZmZrZyNSoW1K+zdpFBEaJ2A1pfNFub8vmpg6zU4qOHzjQwPXcIgHVrfHjMzMzMVqSIPiJE
hEbz+eHRfH649tzftmRmLeXzk7UBV0MamJpxscjMzMzMzMzMVidXQxqYmk2KRd2ehmZmZmZmZmZm
q4uLRQ1UZuYAjywyMzMzMzMzs9XH1ZAGaiOLejyyyMzMzKxlJIWkT9U9XyPpPklfTJ6/StK7jxKj
LOl1WedqZma2kvjb0BqYmvXIIjMzM7M2sB94mqT1EXEQ+GXg3trKiLgGuKZVyZmZma1UroY0MH/P
ojUeWWRmZmbWYl8CXp48vhj4dG2FpIKkDyaP85Kuk3SzpK9KOqsuxoWSdku6Q9Irli91MzOzzuRi
UQPz34bW7cNjZmZm1mKfAd4gqQc4D/jWItt9APhERJwHXAVcWbcuD1xAtej04SSWmZmZLcLT0Brw
Da7NzMzM2kNE3CwpT3VU0ZeOsOnzgNcmjz8J/EXdus9GxCHgB5LuAp6C9HWgFyBXKFS3kiLZfpKI
vnT2YBWRJoBeH09LhftTqlSqHk+AAoXasvljGkUfU3skF4sa8DQ0MzMzs7ZyDfCXwFbg1ON4fTR4
3nuE7Y+0zha32HHz8bTjkUl/UkkTBQq9yeNg9RRKfM6zY6KIhf93tt7AwEDs3r27Zb///3z7Ht71
2ZvYedlW8qed1LI8zMzMVipJeyJioNV5WHuTtC8iNkg6A3htRFwpaStwWUS8QlIBGIiISyVdA/xj
RHxSUuH000//H5dccsk9n/70p59y4MCB7m3btt1y33339XziE584/53vfOe3zvnxj3+x9nvG+vsB
6B8bm//do/n8cJPpb07+3dtknHkVKoMA44zP5cjtSilsannmRkYGoXOO5yijWzaxqQva95h2Wsx1
lWof3TQ+Pnd3rrnjmVV/GmFksJ9qzDGqMfM03T/n359jjCGUSn9Ks4+OUD2eAAv3H1I5Bm3dn+pk
9V7aVywWz0gxZst5nlUDtZFFPd0eWWRmZmbWahFxT0Rcudjq5N+3A9sk3Qz8xitf+cr5C5++vr6p
D33oQ8+66qqrzrvooovuWLt27aGsc15XqWxcV6lsPGt0dEvasYNYlX+kpn08649jmse0QmVjhcrG
tOJ1IsXq7KM1afWnrPpoFmrnvCxip92fsjg3TzBxejLVb8XwNLQGpnzPIjMzM7OWi4gNDZbtBHYm
T08FHkiWjwK/tHD7YrHYOPjh+59QTu6JUiiX63/R1mPP+LAdQ0OziugqlMsHmo1VM1Qamg2iq0x5
MorpxCyVSjsBisVi8/GSY5rF8SyVSjs3jY9v2bZjR2rHUyVF7d4tZcqkdUyHSkOzANuL21OJBym3
U4Yx6/r9ZNPtlFF/WtjuQCptv620LdKOmWYfrbs/EQv3H5rPd8dQtd9v255evy9vqx7TQrnc9Dmk
JotzSalU2vkgD6b+wUCruVjUwPw9i/xtaGZmZmZtSdJbgQKHb2rdVuanTKR0MQJQm4KSVlGj09yd
y+1K83gCkxy+V8tkWkFTnM7WcbLo9xmob/fa86YJzdWN/kmrP2XSR7OQ4jSxeSHNJaOKUt33DM4l
5MjtWmnnZldDGqjMVItFa7t8eMzMzMzaUUR8OCKeHhE/aHUuNm+xC7q2vMiNYvTlyQ/nyQ+vkhsc
d5pM+tOCdldabZ8jtyvtmKu9j96dy+0azeeH/e13reFqSAOV2TnWnCDWuFhkZmZmtlId6YKzLYsb
bS+ijwiN5vPDyQWekh9f6Nmxc39Km895dkw8Da2BA1OznLTOh8bMzMxsxaq74BxN7t3S5lNnzMyO
W/3IpNr9qlbatClLl4fONLB/eo6T1rb1zebNzMzMzMzMzDLhYlEDB6ZnOdEji8zMzMzMzMxsFXKx
qIH9Ux5ZZGZmZmZmZmark4tFDRyYnuXEtR5ZZGZmZtZKkuYk7a37yUsakHTlUV53uaTLlitPMzOz
lcYVkQb2T81x+sndrU7DzMzMbLU7GBGbFywbAXa3IBczM7NVwyOLGvDIIjMzM7P2JGmrpC8mjx8j
6WpJN0u6XtJ5dZs+Q9I3Jf1A0m+1KF0zM7OO5IpIA/un5zhpne9ZZGZmZtZi6yXtTR7/MCJes2B9
CfhORPyKpF8C/g6ojUQ6D3gucBLwHUnXRsSPlyVrMzOzDudiUQMHpjyyyMzMzKwNNJqGVm8L8KsA
EXGdpFMl9SXr/ikiDgIHJX0NuAC4uv7FKmkC6C1QqD2PZNVkFKMPM1tRVvt7fpH9XxX7bsfOFZEF
IoKDM3Os7/bIIjMzM7MOFkd5DtC7yGsXW24toJImChR6k8er6uK+o0gTuUK1nVC1CEG0XRtl9p4f
ZXRLEF1tXoBptJ8+31lDimj0/2ZrDQwMxO7drblv4czcIc75w3/m//7lJ/H2F53TkhzMzMxWOkl7
ImKg1XlYe5O0LyI2LFi2FbgsIl6RfCvafRHxx8nyv4qI8yVd3tfX9zuXXnrp96empk748Ic/PPDm
N7/526eccsp0fawRRgYB+ukHYIyx+XV58sNNpl8bEbX3iFu1Qcx1lcrGTePjc3fncrvSipn8m0qe
I4wMZtRGkMExXVepDAKkeUxrMad6etLY55pU9z03MjI41l9tp/6xajuN5turjbJ8z1eotlEtZkr9
cz7uOONzOZrrT4vtf7u+l9Lc9zpZnZv3FYvFM1KM2XIeWbTA9OwhANZ1+97fZmZmZm2q9mnn5cB2
STcDB4A31jY45ZRT7vvYxz72jEql0v285z1vdGGhyAxghpkegG7S/yZkRXiqgqUmcH9qZ+sqlT6k
y4m4vNW5pMXFogWmkmLR2i4Xi8zMzMxaaeGoosSpwAPJ+geAX2nwusupFpKOqDalqXb/jjLlwzGK
sfUY032EUqm0E6BYLDYVZzliTvX0sG379lRjQnp5qqTIoo0gm2O6Y2hoVhFdhXJ5kmg+R+iQ/iRN
lJNpaIVyGarT0JqOnWaeWb7nt5W2RX3MNPonwFBpaDaIrjLlyWZjLrb/7fpeqsXcXmzf81Mt5lRP
DyupUAQuFj3K1OwcAOt8zyIzMzOztiLpVcCfAkOtzsWW1SSPvq/KZCsSWYr5qWcpFYo6RkTfaHIh
vur2HRCaqxv9k1r/rE2/Sqv4ZLZULhYtMO2RRWZmZmZtKSKuAa5JMWSjIkRtubWJKEZfbTSAL5it
SZm95zukqNNRhVdrLReLFpjyPYvMzMzMVoXatxW5EGG2Oqz29/xq3387Nq6ILDA1kxSL1ngampmZ
mZmZmZmtPi4WLTA9V71n0do1PjRmZmZmZmZmtvosqSIi6SWSbpd0p6R3N1h/iqTPS7pZ0g2SnrbU
17abwyOLXCwyMzMzMzMzs9XnqBURSV3A3wAvBZ4KXCzpqQs2+wNgb0ScB/wm8NfH8Nq2MjXnYpGZ
mZmZmZmZrV5LqYhcANwZEXdFxDTwGeDVC7Z5KnAdQETcBuQlbVria9tKbWSRp6GZmZmZLR9V+Q8w
MzOzNrCU/5CfAPyo7vk9ybJ6NwGvBZB0AZADzljia9vK1Gz1nkW+wbWZmZlZtiTlk9sV/B1wK/Ab
kr4p6duS/lHShmS7P5J0o6RbJX1EkpLl75D0veRWCJ9Jlj1G0tXJsuslnZcsv1zSdkk7Jd0l6R2t
2m8zM7N2l9anN38OnCxpL/B24DvA3LEEkHSJpN2Sdt93330ppXXspmc9Dc3MzMxsGZ0DfAgYBN4E
XBgRzwR2A+9KtvlgRDw7Ip4GrAdekSx/N3B+ciuEtybLSsB3kmV/APxd3e96CnAR1dHvRUnd2e2W
mZlZ51qzhG3uBc6se35GsmxeREwA26A6hBj4IXAX1f/Mj/jauhgfAT4CMDAwEEtLP31TLhaZmZmZ
LafRiLhe0iuo3trgG8nAobXAN5NtXijp94ATgccA3wW+ANwMXCXpauDqZNstwK8CRMR1kk6V1Jes
uzYipoApST8FNlEd+W5mZmZ1llIsuhE4R9LZVAs9bwD+a/0Gkk4GDiT3JXoz8PWImJB01Ne2m8PF
Ik9DMzMzM1sG+5N/BfxrRFxcv1JSD9WRRwMR8SNJlwM9yeqXAy8AXgn8oaSnH+V3TdU9nvtP+D7S
hlyhUPtlAUwS0dfgtWZmZquGIo4+iEfSy4D38/+zd+9xctX1/cdf72yS3ZDspgqY9cYOUhS5aITF
eokmIF5AbG21P7RQu9mfP7VWvJVW7Y+6GapVfygKUgXxl4wtaq2KN6Qq+iMpUSgkGOSi4oVdRNwF
QdlNwuwtn98fcyaZbDZks3POzszO+/l45LFnzpz5nM8553smO5/5fr8LLcD6iHi/pDcBRMRlkp4L
fAYISt/0/M+I+N3+Xnug/XV3d8eWLVtmeUjV+fj3fsZHrr2Lu953uie5NjMzy4ikrRHRXes8rLYk
5YCrI+J4SYcDW4FTI+LnkpZSmuvyfuCnQI7S75M3Al8CLgCOiIj+ZDjZAKWeSRcAD6xbt+7Qn/zk
J3Ycq+IAACAASURBVGuuvfbao84999yt11xzTW7x4sWTp5122q8ALr744pP/4dRTDzmsvZ3Bzk4A
OgcHARjI5TalcHgrk5/bUojlmBnEPGJgYNXQihUtACuGhibv6eranFLohjj+tGNWns/OwUFCSuuc
1v2xZxgzq7ipxyxSXA0wxNBkF811L7UWi6sXj43xzosumldfNsykZxERcQ1wzZR1l1Us3wA8daav
rWc7xiZZ3LLAhSIzMzOzORQRD0jqAT4vqTVZfX5E3CXpCkoTYA9S6vUOpcLRlZKWU+qVdElE/D7p
ebT+oosuen5bW1vrK1/5yp/M7ZFkp0hxOcAQQ6vS+jCWRUyA1mJx+YqhoVUpFmBSj6mIlumWq9Va
LJ3T0ba2A21a05gAC8fH2yYWpTN119RzmPY5Tbs9FSkuT7vdZxUToI36b08AQXrXvQG11zqBNM2o
Z9Fcq2XPovd+7Xa+fut9bHvvS2qyfzMzs2bgnkVWF0rDzigkw9B6CoXS+ghVGzqfz28E6OvrW1Nt
rLLefO9EEC0FCiPRl86311nEzOfzG48YGFi1dsOGnWl9y55FTKTY69qncN0BNvT2TgCsXb9+Rl/M
1ypmPp/f+NgHH8yde8kluVQCTj2fkNq9lEV7GmBg1QY27Eyz3acdE0r3KMD6vvpuT1m9l0C676NZ
xCysXRuQ7vtIPUitccwXO0YnWbrYp8XMzMzM6ku5t0L0xZp6jglwT1fXZqLuY46wpyfASFpB0+z9
kmVMgIcOPbQ/xXCV57P8OBVZtKcuujan3e6ziplmPMimPWX1XtIIQppMetKl1ubrgcdaTbFjdIKl
rc3cc87MzMysaUz3i/28+mXfHkVEx0Aut2kgl9s0n+YZqZm9z6d8Tq1Z3NPVtXk+vo+4WDTFjrEJ
DnHPIjMzM7P5L6KDCPkDrpmZ2d5cLJpi59ikexaZmZmZmZmZWdNysWiKHaPuWWRmZmZmZmZmzcvF
oil2jk2ydLF7FpmZmZmZmZlZc3KxaIqdY5Mscc8iMzMzMzMzM2tSLhZNMToxSdsinxYzMzOzRiBp
naTzkuULJJ1W65zMzMwanbvQTDE6vovWhR6GZmZmZlZvJC2MiIn9PR8R753LfMzMzOYrd6GpsGtX
MDa5i9aFPi1mZmZm1ZL0j5J+KmmzpM9LOk/SRkndyfOHSepPlnOSrpd0S/Lvecn6Ncn6rwN3Juv+
t6S7JG0Gnlaxv4KkVyfL75V0s6TbJX1KkpL1GyV9SNJNSYwXzOlJqTVpGCnK/7r6+1d39fevrlyX
/BuudapmZlY77llUYWxyFwCtHoZmZmZmVhVJJwOvAp4JLAJuAbY+ykvuB14cEUVJRwOfB7qT504E
jo+IuyWdBLwGWEnpd9n9xb00Ii5Icvk34EzgG8lzCyPi2ZLOAPqqOMxG1J7ydgYor2GSc9ZDT3ld
JE+PRF901CYzM7PZcbGowuh4UizyMDQzMzOzaj0f+FpEFIGipG8cYPtFwKWSVgKTwFMrnrspIu5O
ll8AfCUidgIkPY6mc4qkvwcOAR4L3MGeYtFVyc+tQA64d8ZHZTa9RyuuufA230nDXT097cny7iIh
4SKhNS4XiyqMTkwCeIJrMzMzs+xMsGcqhLaK9e8Ahij1RFoAFCue23EwO5DUBnwC6I6IX0laN2Vf
o8nPSZbzlH76j4JS7xD3AKlD+34Q94fwZpHRtR9gYFUQLUnvrzR6fk1XEHSRsArKa7iH0rVP8Tpl
IoP2VBcUEQfeao51d3fHli1b5ny/9zy4kxdeeB0f/vNn8uqTnjTn+zczM2sWkrZGRPeBt7RGlQxD
uxx4HnuGi30KOAbYGhGflPR24O0RkZP0UeDeiPiIpLXA+oiQpDXAeRFxZhL3RKAA/FFF3Msj4sOS
CsDVwHcXL1786/POO2/rrl27dPnll5949NFHP3DGGWf0X3755Stf8pKX/OLII48cGRkZWXTZpy97
3rnvOBeAQQbJkduUxvG3FourAVYMDU3e09W1uV5idvX3r658PNjZCUDn4OA+2w7kZn0uViY/t83y
9Xvp6u9fPTXPKnLbS/mcjra1VRWvnz3ntZNSroPsOacptKtUz2lWMYuUzucQQ5NdVN/us7r25TzL
16ja6zNdnpBaO83sOrVRXbufItU8++lfPfVeSun9OZPzOcYYF3ERANEXSit2LblnUYVyzyJPcG1m
ZmZWnYi4ORki9iNKPYZuAx4GPgz8h6Q3AN+seMkngC9Leh3wLfbTmygibpH0BeBWSvMc3TzNNr8/
4YQTbv/4xz9+8iGHHDK2YsWKmk3WrIjU5zfIIqZZmgK30bQsHB9vA5hYtKjWqViTcc+iCrf/+mHO
/PhmPvWXJ/GS4zrnfP9mZmbNwj2LmoOkZRGxXdIhwH8Bb4iIW2qdV6XKoQ4FCqkNH9jQ2zuhiJae
QiG1IVOpxNwznwoAhZ4eAHoKhX23jdl9O57P5zcC9PX1rZnN6/chxT55zjK3qdLKtWIy690TXBco
7H6+2p4GqZ/TjGL25nsngmhJ7V7K6Nqvza8N2HONqu4JMl2ekEqujXLt046pvGLqvZRGj52M2z3M
o2Fo7llUYXfPokUuhJuZmZml4FOSjqU0X9Bn6q1QBBB90VH+8BB9sSatuLuHiUV9x2wQI+w9/8tI
rRKxR1ceepbivZTJtRearOj9lEbMqXmmFbeZNcx9n0G7rwsuFlUo/zW0Ng9DMzMzM6taRPxFrXOw
eSCiYyAp6NVxoWy6YkHlczYbGV371D/cN0YbbShZFfJt5lwsqjA6USoWuWeRmZmZmZnNVOWwE3/A
NbP5wF1oKhTHPcG1mZmZmc1rM+3l4t4wZmZNzFWRCkX/NTQzMzMzm88iOohQ+d9ALrdpIJfbVLku
+TcvJmg1M7PZcVWkws6xUrFoaatH55mZmZmZmZlZc3KxqMLO0VKx6JDFnrPIzMzMbH8k/YGkN8/B
fvolHTZ1f5KeIOlLWe/fzMysWblYVGH76AQAhyx2zyIzMzOzR/EHwD7FIklZ/RK11/4i4r6IeHVG
+zIzM2t6LhZV2Dk2wZJFLbQsUK1TMTMzM6tnHwSOkrRN0s2Srpf0deBOAElflbRV0h2S3pCse5Ok
C8sBJPVIujRZPkfSTUm8yyVN7eZdub8LJeUk3V4R56uSrk16Ir1F0jsl/VDSjZIem2x3lKRvJXld
L+mY7E+TmZlZY3KxqML20UnPV2RmZmZ2YO8GfhERK4G/A04E3hYRT02e742Ik4Bu4K2SDgW+DPxp
RYyzgH+X9PRk+flJvEng7P3tLyL+bpp8jgf+DDgZeD+wMyKeBdwAvC7Z5lPAuUle5wGfmP3hm5mZ
zW+ujFTYOTbB0lbPV2RmZmZ2kG6KiLsrHr9VUrkw9GTg6Ii4UdIvJT0H+BlwDPB94G+Ak4CbJQEs
Ae4/yP1fFxEjwIikh4FvJOtvA54haRnwPOCLyT4AWg9yH2ZmZk3DxaIKO0YnWOr5iszMzMwO1o7y
gqQ1wGnAcyNip6SNQFvy9L8D/wP4CfCViAiVqjefiYj3VLH/0YrlXRWPd1H6fXcB8Puk55KZWd1T
XsNAew895ccBjERfdNQyL2seioha57CP7u7u2LJly5zv97WfupGJXbv44pueN+f7NjMzayaStkZE
d63zsNlJhpXdEhFdSXHovIg4M3nuT4DXR8QrknmBtgEvi4iNkh4DbAHuAd4VETdJOhb4GqVhaPcn
cwy1R8SApH5KQ9mivL9kHzng6og4XlIP0B0Rb0me6we6161bd/4NN9zwsvvuu6/9Va961c8++clP
Puvkk0++t7u7+4GI4Fe/+tXSI444YgdAkeJqgCGGJrvo2pzGOcoiJlAudm1LKd7uPAcZRCiVXBsl
5hEDA6uGVqxoAVgxNDR5T1f9XifHTDdmFu2JlPPsp381QCedQClXgBy5TdXErWz3nYODhJRW22+I
a59FzCLF1WOMcREXwTwq6HnOogo7xib8l9DMzMzMDiAiHgS+n0wyfeGUp78FLJT0Y0oTU99Y8brf
AT8GuiLipmTdncD5wHck/Qi4Fnj8/vZXOUn2wXjVq17141tvvfXxl1xySffFF1988h133HHYPsdF
pD4fQZoxW4vF5a3F4vIjBgZWpRWzUr0ff9oxFXviVC5Xq0hxeZHi8rTilS0cH2878FYHZ5x0Y2bV
Rhul3WeZZ1qmtvW02n4jtfsixeUDZHad2jOKO+fcs6jCaRdt4ujHLeOT55w05/s2MzNrJu5ZZPWk
N987EURLgUJq3wivza8NgAIFoi9S+VO7G3p7JxTR0lMojBDp5wmkkmujxESKQk8PAD2FAkQ616k3
3zsBsL5vfWrfQufz+Y2PffDB3LmXXJJLM+aDPJi7pC+9mFm00Xw+v/GIgYFVazds2FnP7T7tPJNh
Z5SHoaWW69R2D6m0/UZq9wMMrNrAhp1ZvN9DSu9PdcDdaCoUxydZssgTXJuZmZk1k/IQlOiLNWnF
FJpMeiyMpBVz91CRyCRPSCnXRomZxGmvWE5FisMO9/LQoYf2px3zUNKNmUUb3R23zts9pJ9nRirb
fflx1Rqp3XfRtTmj93tIsT3VmotFFYrjk7QtdrHIzMzMzKqTRQEqC1nk2SgxiegYyOc3JsvpxbW6
1yD359SiTnldddzuU9cg7emguVhUoTi+i7aFLhaZmZmZmZlZ7ZSHSOWTws58K0RY/fME1xUeGZ9k
yWKfEjMzMzMzMzNrXq6MJMYndzG5K9yzyMzMzMzMzMyamotFiUfGJwFo8wTXZmZmZmZmZtbEXCxK
FMvFIk9wbWZmZmZmZmZNzMWiRHFsFwBtC31KzMzMzNIg6e2SDpnF67Yf4PmVks6oePzHkt49mxzN
zMxsX66MJIoTpZ5FS9yzyMzMzCwtbwcOulg0AyuB3cWiiPh6RHwwg/2YmZk1JReLEruHoXmCazMz
M7ODJmmppG9KulXS7ZL6gCcA10m6Ltlme8X2r5ZUSJaPlHSDpNskva9im3+V9MqKx5+V9CfABcBZ
krZJOktSj6RLk20Kkj4p6UZJv5S0RtJ6ST8u7y/Z7iXJPm/513/912OLxaJ/CTQzM0u4WJR4ZMw9
i8zMzMyq8DLgvoh4ZkQcD3wMuA84JSJOOcBrLwY+GREnAL+pWP9/gR4AScuB5wHfBN4LfCEiVkbE
F6aJ9xjgucA7gK8DHwWOA05IhrAdBpwPnBYRJz7+8Y8fue666540q6O27EjDSIEUXf39q7v6+1eX
Hyf/hmudopnZfOViUaI4kcxZtMinxMzMzGwWbgNeLOlDkl4QEQ8fxGufD3w+Wf638sqI2AQcLelw
4LXAlyNiYgbxvhERkeQ0FBG3RcQu4A4gBzwHOBb4vqRtd9xxR+fw8HDbQeQ7t5KiyTQFk/leLGmv
8nkza1TS8JT3vPn+fld3FtY6gXpR7lnUtsg9i8zMzMwOVkTcJelESnMJvU/S96bbrGJ5anEmmN6/
AucArwHWzjCd0eTnrorl8uOFwCRwbUS8FiCfz2+cYdxa2V9RpKpiifIa7qGnPVkun/+R6IuO2QfV
cFdPKSZSACNEFfEyNOX4h6s6bpuuPVXXlqzZTX1/q8vi8Hxu9yp96VJfuru7Y8uWLXO6z69t+zVv
+/dtfO9vV3PU4cvmdN9mZmbNRtLWiOiudR6WHklPAB6KiKKkM4HXA0cBfxwRdyfb/Bx4BfBT4IvA
SET0SPo68B8RcaWkvwYujIhlyWtWADcBgxHxR8m6VyVx/yp53AN0R8RbknmJrl63bt2qBx544Dmf
+9znTnjb2952M8DnP//5Y5761Kc+ePTRR//+8ssvP+l1r3vdrStWrHhEw8OrH96+nePHxyfv6era
nNIpWZn83FZtoK7+/tUAg52dAHQODu5+biCX2zTbuP30r+6kFHOQPTFzzD5mV3//6ql5zjbH8nHD
9MdeTWzY9/irOe4pUrv2Za3F4mqA0ba2tHKElPOcrj2lcU6LlI59iKHJLtK5P8vns3NwkJBSue+z
iHnEwMCqoRUrWgBWDA3VbUxI/zql+V4yRSbtfowxLuIiAKIvlEbsWnPPosTuOYvcs8jMzMxsNk4A
LpS0CxgH/prSvEHfknRfMm/Ru4GrgQeALUD5G7q3AZ+T9C7ga5VBI2JI0o+Br1asvg54t6RtwAcO
NtGOjo7xM8888ydf/OIXn75r164Fi1taePELX4ja2/2LoFmdCiKT+1ORfty0YlbGqeeYlbK6Tjb3
3LMoUfj+3az7xp3c8o8v5rFLF8/pvs3MzJqNexbZTEk6hNLcQyce5DxIM7aht3dCES09hUJqQ6bK
Q9v6+vrWVB2sNJyLQk8PAD2Fwp7nYvbfYCuv6CnNH06BPTGr+lZcin3ynG2O2j00bvpjryY2+x5/
Wr0BUr32DRRzuvaUxjntzfdOBNFSoJDa8J6Kex5SGiqZRUyk4UIyrDO196csYpLBdUrzvaRCo7T7
euCeRYlHxj3BtZmZmVk9kXQapb+I9tGsCkUAu4dhRKzJah91aoR95wEZSTlmtfGyVJlrPefZKDK5
9uUhTdGX3v2ZxT2fyftIRMdAeU61tOJmEZNMrlOjvJc0Sp4HzZWRRHE8meB6oXvNmZmZmdWDiPhu
RHRFxMdqnUuN7e/DR1UfSqIvOnLkNuXIbYq+UPKvuh4BER0DudymgVxuExGq18mtYZ/jr9s8G8U0
7cnn1GavQd5L5nO7d7EoUZyYZPHCBSxYMC96jJmZmZnZfBHRQYSmfHCq2w9PKTpQMWzefINvZlZv
XCxKFMcmPbm1mZmZmVm9SIpk+ymUNUOxzMysZlwsShTHd3m+IjMzMzMzMzNreq6OJB4Zd88iMzMz
MzMzMzMXixLF8UnaXCwyMzMzS42kt0r6saTP7uf5bkmXJMs9ki6d2wzNzMxsOgtrnUC9eMTFIjMz
M7O0vRk4LSLune7JiNgCbJlNYEkLI2KimuTMzMxseu5ZlBj1nEVmZmZmqZF0GfAU4D8lvUvSDZJ+
KOkHkp6WbLNG0tXTvLYg6dUVj7dXbH+9pK8DdybrzpF0k6Rtki6X1JL8K0i6XdJtkt4xJwdtZmY2
T7hnUeKR8UkOW7a41mmYmZmZzQsR8SZJLwNOAcaAj0TEhKTTgH8GXjXL0CcCx0fE3ZKeDpwFPD8i
xiV9AjgbuAN4YkQcDyDpD6o9HjMzs2biYlHCcxaZmZmZZWY58BlJRwMBLKoi1k0RcXey/CLgJOBm
SQBLgPuBbwBPkfRx4JvAd6rYn5mZWdNxsSjhOYvMzMzMMvNPwHUR8aeScsDGA2w/QTJdgqQFQGX3
7x0VywI+ExHvmRpA0jOBlwJvAv4H0DvL3M3MzJqOIqLWOeyju7s7tmyZ1VyHs9/n+77Li49dwQf+
7IQ53a+ZmVkzkrQ1IrprnYdlS1I/0A1cAVwZEV+WtA7oiYicpDXAeRFxpqQeoDsi3iLpfKA9It4l
6ZXAVyJCldsn8Y8FvkZpGNr9kh4LtAM7zjvvvAuWLVt27L333rv0qquuevpb3/rWaX+5PGJgYNXQ
ihUtACuGhibv6eranNLhr0x+bksjWGWenYODhJRWrqnm2Ugxs7r2RYqrAYYYmuyiPtuTY6Yfs3zd
BxlEyNc+Ba3F0jmt5/fmipjb+/r6npRizJrzjM6J0fFJT3BtZmZmlo3/A3xA0g+ZWc/2K4DVkm4F
nsvevYl2i4g7gfOB70j6EXAt8HjgiVdcccWrL7nkku6rrrrq6aeccsov97cjRbRMt1yt1mJxeWux
uPyIgYFVacSbmluauRYpLh8gnTzL8dKOWY6bZsysrn1ZkO41KlJcnlY8SL+NZhUzq/aUdp6V6v3a
ZxETYOH4eFvaMSH9+3Oc9PNcNjz8BKThtOPWknsWJf7wH67hDS98Cn//smPmdL9mZmbNyD2LrG5I
UejpAaCnUIAIpRF2Q2/vhCJaegqFESI6qg44NU9IJdd8Pr9xgIFVG9iwM/pSyBPozfdOBNFSoDCS
Vsws8szq2mdx/L353gmA9X3rU5tGJPU2mlHMrNrTEQMDq9Zu2LAzrTzX5tcGQIECANGXXnuCdK99
FjHz+fzGxz74YO7cSy7JpRWzsLZ0TtO8P/P5/MYHeTB3SV96eWbRnuqB5ywCxid3MbErPGeRmZmZ
WfMZoTR0rbycit1DJiLWpBSyMs/y41R00bU5+lLLk/LwmzRjluOmHDOTa5/F8ac4pGm3DNpoJjGz
ak/3dHVtTjNPocmKHkWpt6c0ZRET4KFDD+1PM15Ik0mvotTOJ8ChpJsnpN+e6oGLRZT+EhrAEheL
zMzMzJpLRMdAPr8xWV5T01weTaPk2Uh8Ti1FWRW1mlkWxUebOU/SAxTHdwF4ziIzMzMzMzMza3qu
jrCnZ5GHoZmZmZmZmZlZs3OxCBeLzMzMzMzMzMzKXCwCHvGcRWZmZmZmZmZmgItFQOWcRS4WmZmZ
mZmZmVlzc7GIPT2LPMG1mZmZWbYk9Ui6NKVY/ZIOSyOWmZmZ7eHqCJ6zyMzMzMzMzMyszMUiXCwy
MzMzq5akpZK+KelWSbdLOkvSyZJ+kKy7SVJ7svkTJH1L0s8k/Z+KGK+VdFvy+g8daP2j7TtZv7vn
kaRuSRuT5XWS/k3SDZJ+tnnz5sdneW7MzMwazcJaJ1APysWiJYtdLDIzMzObpZcB90XEywEkLQd+
CJwVETdL6gAeSbZdCTwLGAV+KunjwCTwIeAk4HfAdyS9ErhpuvUR8dUD7PtAngE8B1h6ww033Hvc
ccc9WMWxm5mZzSvuWUTFBNcLfTrMzMzMZuk24MWSPiTpBcARwG8i4maAiBiOiIlk2+9FxMMRUQTu
BLqAk4GNEfFAst1ngRc+yvr97jsiHp5Bvl8LGAp44Jmdna27fvSj5yJF8m+4ynNhZmbW0NyziD0T
XLtnkZmZmdnsRMRdkk4EzgDeB/y/R9l8tGJ5kip/J526b0nfi4gLgAn2fDnaNvVlQPvuR1Llc+3U
G2m4q6enPVkOYISIjrqLac2rydvTEQMDqxTR0ozHnokmb0/1QBFx4I2klwEXAy3ApyPig1OeXw5c
SekbpIXAhyNiQ/JcPzBC6ReBiYjoPtD+uru7Y8uWLQd3JFX42Hfv4mPf/Rm//OczWLBAB36BmZmZ
VUXS1pn8TmCNQ9ITgIcioijpTODNwDHsGYbWTmkY2jlAd0S8JXnd1cCHgZ8CN7JnuNm3gY9TGoa2
z/qI+Frye2Y3sHjKvl+/bt26/iuuuOKvnvOc5/zqhBNOeOgrX/nKUffff3/7G9/4xm3XXHNN7uc/
//lhHzzjjKWjExOcf801vPkv/5Kn7tix+3gGcrlN1ZyP1mJxNcCKoaHJe7q6NlcTC6Crv3/1YGcn
AJ2Dg6nkmEXMxMrk57YUYgF7zmfn4CAhpXJOK+OOtrWlcdwAFCnFbCO9mFnk2QhtNNEQ7akyJqR2
7Jm20SGGJrtI514i5evUSO0pibm9r6/vSSnGrLkDfosjqQX4F+DFwL3AzZK+HhF3Vmz2N8CdEfEK
SYdTGnv+2YgYS54/JSJ+m3byaXlkfJLFCxe4UGRmZmY2eycAF0raBYwDfw0I+LikJZQKRaft78UR
8RtJ7wauS173zYj4GsD+1h9g3+esXr26/+qrr37apk2bJp/85Cf/vvIFhx122PYPffvbS0eKRU59
/vPpaG+HimJRWhThrusp8zlNVyOcz3HG24YZzh3Kof1px26E489K0JzHnkV7ai0WO5DWEbEurZi1
dsCeRZKeC6yLiJcmj98DEBEfqNjmPcCTKRWNcsC1wFMjYlf5G5+DKRbNdc+idV+/g6tuuZcfrXvp
nO3TzMysmblnkdWSpHXA9oALAQo9PQD0FAp7Noqo6lvEDb29E4po6SkU0hk6IcU+eVaZYyYxgXw+
vxGgr69vTbWxyirOJ6Q4HGVDb+8EwNr161ObnqM3X4q5vi+9mFnk2RBtlMZpT4W1awPSPXbIro0G
0VKgMBJ96dxLqV+nBmpPWcSsBzNpcE8EflXx+F7gj6ZscynwdeA+SmO8z4qIXclzAXxX0iRweUR8
qrqU0/fI2KTnKzIzMzOz1Owe1hKxJqWQI+w9l9JIncbMRAbnc++4KUpxWM9uWeTZIG00E1m0p5Am
K3oppXbsWbbR6Ev3fkpZw7Sn+SqtP//1Ukpj/p5AabzepcmfRwVYFRErgdOBv5E09a9XACDpDZK2
SNrywAMPpJTWzBQnJmlb5GKRmZmZWTOIiHUR8WH2/+Gj/j6URHQM5HKbBnK5TUQolZ4gWcS05tXk
7emerq7NzXrsmWjy9lQPZlIs+jWlIWZlT0rWVVoLXBUlPwfupjShIRHx6+Tn/cBXgGdPt5OI+FRE
dEdE9+GHH35wR1GlR8YmWeJikZmZmVlzieggQlM+kPhDiZmZNb2ZFItuBo6WdKSkxcBrKA05q3QP
8CIASSuApwG/lLQ0+csXSFoKvAS4Pa3k01Kc2EWri0VmZmZmZmZmZgeesygiJiS9hdKfKW0B1kfE
HZLelDx/GfBPQEHSbZT+SsW7IuK3kp4CfEVSeV+fi4hvZXQss1Ycn6RtYVoj8szMzMzMzMzMGteM
ZlSPiGuAa6asu6xi+T5KvYamvu6XwDOrzDFzxfFJHrt0ca3TMDMzMzMzMzOrOXenodyzyMPQzMzM
zOaSpLdK+rGkz9Y6FzMzM9tjRj2L5rtHxidZstjFIjMzM7M59mbgtIi4t9aJmJmZ2R7uWQQUx3fR
tsinwszMzGyuSLoMeArwn5LeJekGST+U9ANJT0u26ZH0VUnXSuqX9BZJ70y2u1HSY5Pt3irpTkk/
kvTvybp1ks6r2N/tknLJv59I+mzSq+lLo6Oj/kXQzMysgv9jBIpjk7T5r6GZmZmZzZmIeBNwH3AK
8EngBRHxLOC9wD9XbHo88GfAycD7gZ3JdjcAr0u2eTfwrIh4BvCmGez+acAnIuLpwPD111//SIN6
VwAAIABJREFUxBQOyczMbN7wMDSgOOFikZmZmVkNLQc+I+loIIBFFc9dFxEjwIikh4FvJOtvA56R
LP8I+KykrwJfncH+fhUR30+Wr7z33nv/GPhVtQdhZlavlNcw0A7QQ095XSRPj0RfdNQmM6tXTV8s
mpjcxfhksMTFIjMzM7Na+SdKRaE/lZQDNlY8N1qxvKvi8S72/C77cuCFwCuA/y3pBGCCvXvRt1Us
B3ub+thmSxru6ulpT5YDGCGq+BCq0gfcrp6e8uPdH26rimsNQXkN91BqT0lho7qiRiO1p+lzrSbP
9lk+Z/vTSO1pFpq+WFSc2AXgOYvMzMzMamc58OtkuedgXihpAfDkiLhO0mbgNcAyoB84M9nmRODI
ipcdIem5EXED8BdPfvKTH64u/TmQdhEmO1M/dFb7IXR/r6/+w+3e53Q4lfPZONcpfdkce+O0p/RN
l1M95jm1qDfcRL2UGqk9HTRF1N8XKd3d3bFly5Y52dcDI6Oc/P7v8k9/chx/+dzcnOzTzMys2Una
GhHdtc7DaktSP9ANHA18BtgBfBM4JyJyknqA7oh4S+X2EfHb8nPAO4DrKBWcBFwZER98z3ve8/Er
r7zy7O3bt7d2dnYODw4Odpx99tm3AVx55ZXPeNzjHjfywAMPLHvMYx6z87Wvfe0iLVbbIhbdmNax
FSmuBmijbVMa8br6+1cPdnYC0Dk4CMBALld17HKeQwxNdtG1udp4aefZ1d+/GmBqzGrjlmNXxk3j
fGZ9ndJqT4mV44yn1u6zOPZ++ld3Uoo5SClmjvpsT8DK1mJx+Yqhocl7utK5l2DfXGebZz+leABT
zylUd16nXqdqYlVK+/0psXLh+HjbxKLq233lNVo8NsY7L7poz5MRqjZ+rbln0fgkAK0LPQzNzMzM
bC5FRC5Z/C3w1Iqnzk+eLwCFabaf+tyqqbHb2tomX//61/9o6voHHnigbcGCBXH22Wf/uGL1ynHG
Z3EEZmZm81PTF4vGJkvD0Fo9DM3MzMxs3ujr63v7dOuTOZGu7uvrW1Nel8/nNy5iEZXrqpXP5zcm
eaQTUxouJEN8egoFKA3xqTp2Oc/1feurjgWAFIVk/o4kT6rKM5kDZJ+Y1cYtxa48p6mcz6yvU9pt
NNV2n8GxK68oT8ZcSGrD0Vef7Smfz28cbWtj7fr07iWYJtdZ5lkxmTVTzylUd14rh6EVKIxUdY0q
pP7+lMScWJRSu59yjeabpq+QjCVzFi1uafpTYWZmZjbvRUR/RBxf6zwOWkTHQC63aSCX20SE6nge
nJEDPK4fe5/TdM5n41yn9GVz7Gm3p/29vh7b6XQ51WOeRF905MhtypHb1ETzFUFjtaeD1vQVkt3F
ooVNfyrMzMzMzKqTfsFgXn8Ys0c3pQihqgsRER1EaEobrc+i3vS5VpPno90zvp9mo5Ha0yx4GNqk
i0VmZmZmZnUp+dA1kAxHSWWomFkTqiy0lYd3pTVczOanpq+QeBiamZmZmZmZmdkeTV8h8TA0MzMz
MzMzM7M9mr5CMupikZmZmZmZmZnZbk1fIRmdmASg1cUiMzMzs4Ym6QJJp02zfo2kq2uRk5mZWSPy
BNe75yxqqXEmZmZmZlaNiHhvrXMwMzObD5q+O43/GpqZmZlZfZKUk/QTSZ+V9GNJX5J0iKT3SrpZ
0u2SPiVJyfYFSa9Oll+WvPYW4M9qeiBmZmYNpukrJJ7g2szMzKyuPQ34REQ8HRgG3gxcGhEnR8Tx
wBLgzMoXSGoDrgBeAZwEdM5tymZmZo2t6SskLhaZmZmZ1bVfRcT3k+UrgVXAKZL+W9JtwKnAcVNe
cwxwd0T8LCIieZ2ZmZnNkOcs2j1nkYtFZmZmZnUopnn8CaA7In4laR3QNudZmZmZzWMqfdlSX7q7
u2PLli1zsq+PfOenXHrdz/nlP59BMtzdzMzMMiZpa0R01zoPq2+ScsDdwPMi4gZJnwZ+DPw9kANa
gBuBL0XEOkkF4Grg6ra2tvvXrl1754oVK4pXXnnl08fGxhb29vbetp9drUx+bksr9yLF1QBDDE12
0bW5XmOSwbFnEbN87IMMIpTa8bcWS3FH29o2pREPmvs6ZRGzUc5nuS2tGBqavKcrtTx3H38b6bVR
GuTaN0rM1mJx9eKxMd550UUAI0R0pBW7ltyzaGIXi1sWuFBkZmZmVp9+CvyNpPXAncAngccAtwOD
wM1TXxARxTPPPPN7n/vc5166cOHCySc+8YkPj42N1eT33iBS/5O7accsUlw+xNCqFD+IZyqLc5qF
NPMsUlwO0NbEnega5borGiNPy0x7rRNIS9MXi0Yndnm+IjMzM7P6NRER50xZd37yby8R0VNevvrq
q/90pjvI5/MbAfr6+tbMKsNp9OZ7J4JoKVAYib5IJW4WMfP5/MYhhlZtYMPONGNCZucTILXj39Db
OwGwdv36VOJBdtceYH1fenlmcZ0a5V7KIs8Nvb0TimjpKRRGiHTyhOa+9o0Ss3ztk4cjacWtNReL
JiZpXejir5mZmZmlp9xLJ60Pt1nFLMdNO2basjr2NIcLlWV57ZtRVtc+bbvbUoqFImjua98osrr2
tdb0xaKR4gQdbU1/GszMzMzqTkT0A8fXOg8zM7Nm0/Tjr3aMTrDMxSIzMzMzMzMzM8DFIraPTrCs
1cUiMzMzMzMzMzNwsYiRootFZmZmZmZmZmZlTV8s2u5haGZmZmZmZmZmu7lYNDpBu3sWmZmZmWVC
0hpJz6t4/CZJrzvAaz4t6dhk+R+mPPeDbDI1MzOzsqaukkQE24vuWWRmZmaWoTXAduAHABFx2YFe
EBGvr3j4D8A/Vzz3vH1fYWZmZmlq6p5FoxO7mNgVLGtdVOtUzMzMzBqKpK9K2irpDklvSNa9TNIt
km6V9D1JOeBNwDskbZP0AknrJJ0n6RhJN1XEy0m6LVneKKlb0geBJclrP5s8t73iNX8n6WZJP5KU
T9YtlfTNJIfbJZ01ZyfFzMxsnmjqLjUjxQkAlrW21DgTMzMzs4bTGxEPSVoC3Czpa8AVwAsj4m5J
j02evwzYHhEfBpD0IoCI+ImkxZKOjIi7gbOAL1TuICLeLektEbFy6s4lvQQ4Gng2IODrkl4IHA7c
FxEvT7ZbntUJMDMzm6+aumfR9tGkWORhaGZmZmYH662SbgVuBJ4MvAH4r6TwQ0Q8NIMY/0GpSATT
FIsO4CXJvx8CtwDHUCoe3Qa8WNKHJL0gIh4+iJhmZmZGk/cs2r67Z5GHoZmZmZnNlKQ1wGnAcyNi
p6SNwDZKBZuD8QXgi5KuAiIifnYwaQAfiIjLp8nvROAM4H2SvhcRFxxkXmZmZk2tqYtFI6PjACzz
X0MzMzMzOxjLgd8lhaJjgOcAbcALy8PKysPQgBGgY7ogEfELSZPAP7L/XkXjkhZFxPiU9d8G/knS
ZyNiu6QnAuOUfr99KCKulPR74PVTA2ZOGu7q6WkvLxMx7fHPVwMMrAqiRXkFMBJ91R//EQMDqxTR
gkoxm+2cWrqyaKOZyOK9pEHen5TXcA+lPOv+Os1Tioha57CP7u7u2LJlS+b7+c4dg7zh37Zy9bmr
OP6JHs5uZmY2VyRtjYjuWudhsyOpFfgqkAN+CvwBsA5YQukvly0A7o+IF0t6KvAlYBdwLvAi9p7D
6DzgQuDIiOhP1m0EzouILZI+BPwxcEtEnC1pe0QsS7Z7G3uKQduBc4A/BC7s6Oh4/OLFi1tf/vKX
/+zII48cOcAhrRxnvG0Ri26s8tQA0NXfv3qwsxOAzsFBBnK5TWnELVJcDTDE0GQXXZvTiAmsbC0W
l68YGpq8pyudmOU8BxkEIEf1x99aLMXsHCzFTOucAuX5sLalFG93rlmc0zba0jru3XmOtqUfM4tj
T7PdZ9FGyeBeyuK9pFHen/rpX91JKc+0r1Oa7/flmEWKCz7Q94F5Vcxq6i41u+cscs8iMzMzsxmL
iFHg9P08/Z9Ttr0LeEbFquunPP9h4MNT1q2pWH4X8K6Kx8sqli8GLp6y/18A387n8x9jTyFgXgnC
f52lASh8naz5+P1p/mjqKoknuDYzMzObn/r6+t4+023z+fzGRSyir69vTSo7l4YLyTCPnkJhhIri
VzV6870TQbQUKIxEXzox8/n8xtG2NtauX59KPNgrTygNHak69obe3glFtPQUSjHTOqf5fH4jkN61
Z69c6zrPLGOm2Z7KMdf31XcbzeJeyuS9pEHen5RX9NADQHKdSOs6pfp+n8Rsoy2tcHWjqaskI0X3
LDIzMzOzlEV0DCQfcNP6IAZQHtqRVqEoK1nkuXtYT4rnMyuNlGuzapR7KZP3ksZ5fxoB2qc8tjm0
oNYJ1NLvd47RunABrQub+jSYmZmZmZmZ1Y3oi44cuU05cpuiL+TJredeU1dJ7h8Z5XEdrUiqdSpm
ZmZmZmZmZnWhuYtFw6M8rn3+jS00MzMzMzMzM5utpi4WPbB9lMe1t9Y6DTMzMzMzMzOzutHUxaL7
h4suFpmZmZmZmZmZVWjaYlFxfJLh4gSP6/AwNDMzMzMzMzOzsqYtFj0wMgrA4e5ZZGZmZlbXJC2s
8vUtaeViZmbWDKr6j7eR3T9SBPAwNDMzM7M5ICkH/CewGXge8GvgT5J150XEFkmHAVsiIiepB/gz
YBnQIuk1wBeADkq/w/51RFwv6SVAHmgFfgGsjYjtkvqT7V8MfFnSqyLixCSXo4EvlB+bmc1nymsY
aC8/7qGnvD6mbDriP1FvZc1bLBou9SzyX0MzMzMzmzNHA6+NiP8l6T+AVx1g+xOBZ0TEQ5L+Fvh2
RLw/6Sl0SFJcOh84LSJ2SHoX8E7gguT1D1YUiE6TtDIitgFrgQ0ZHF/Tqvww6g+iZlXSnvupq6en
vK58P40QB30ftR94k4PazppA0xaLhoaTnkUd7llkZmZmNkfuToo1AFuB3AG2vzYiHkqWbwbWS1oE
fDUitklaDRwLfF8SwGLghorXf6Fi+dPAWknvBM4Cnl3VkcyVR//QCLP74JiFmXzI9AdRs5l5tHvF
95HNiaYtFt392x0sa13IoUsX1zoVMzMzs2YxWrE8CSwBJtgzj+bULt87ygsR8V+SXgi8HChIugj4
HaWC0mv3s78dFctfBvqA/wdsjYgHAZCGu3p62pPloH6KL2UH+mDoD45mZpY6RUztHVp73d3dsWXL
lkz38Zf/9795+JFxvv6WVZnux8zMzPYlaWtEdNc6D5s7yZxFV0fE8cnj8yjNR/QkSsWbT0p6O/D2
ijmLuiPiLcn2XcC9ETEp6S3AHwLvp9RD6dSI+LmkpcATI+KuQw45ZPjNb37zbe3t7ePlHL785S//
4S9+8YvDTz/99J+ecMIJDwF09fevHuzsBKBzcBCAgVxuUwqHvDL5ue1RtzqArv7+1eXlqXmWVZlv
Knn2syfPTkp5DjK4z3Y5Zp3ryiLF5UMMTXbRtXmWMfYywMCqFaxoAUgzLimd00aMWaS4GtI9n63F
UswVQ0OT93Sld43Sbk9pxjzQfX+w93zl/QnZ3KNZXafkZ923+zHGuIiL5tVQ26b9a2i/fGAHTzls
aa3TMDMzM2t2Hwb+WtIPgcMeZbs1wK3JdmcBF0fEA0AP8HlJP6I0BO2Y/QVYuXLl/QDHHXfcQ/vb
xupbEKn9ZbvKWGnGHWe8bZzxpp4YNc3zWaZIP2YWeWYRs5FkcZ3S1losLj9iYCCLXiPzqqdnU/Ys
2jk2wbHv/TZ/++Kncu6Ljs5sP2ZmZjY99yyyWkh6My2PiH+sWBmFZC6gnkKhtC5C1e4rn89vBOjr
61tTVaCK+Yn2ybOsinzTyrNyMuvyBNcFCvtsF32zyzWfz28cYGDVBjbsTOube+U13ENpCGKBQmo9
AlK79g0YszffOxFES5rnc0Nv74QiWnoKhdSGiGbRnlKNeaD7/iDv+amTzWdxj2Z1nSD9dn/EwMCq
tRs27EwrzyzafT1oyjmL7v5tafj6Uw5fVuNMzMzMzGwuSPoKcBRw6pSnRtj72+CROUvKDkoXXZuj
L9akFS/6oqP8YTTNuM2sPPwqzfO5e0hTpHuN0m5PWcVsFFldpyzc09W1Oc08s2j39aAph6GVi0VH
ehiamZmZWVOIiD+NiGdExG+nPNExkMttGsjlNhGhOpvc2szMrCaaslj04PYxAFZ0tNY4EzMzMzOz
R3Wgnk7uCWU2/zzafe173uZEUxaLHtpRKhYtX7KoxpmYmZmZmT2KiI6kx5Om9IBSnfWEmskHWH/I
NZuJR7/vZ3PPz/Te8z1quzXlnEW/3znG8iWLWNjSlLUyMzMzM7NUVU7q6nmAzOrL1EmXfY/aTDRl
teShneM8duniWqdhZmZmZmZmZlZ3mrJY9LsdYzzmEA9BMzMzM6slSTlJt0+z/gJJpx3gtesknZdd
dmZmZs2rOYehPTLG49rbap2GmZmZmU0jIt6b9T4ktUTEZNb7MTMza0RN2bNo5+gkS1ubsk5mZmZm
Vm9aJF0h6Q5J35G0RFJB0qsBJJ0h6SeStkq6RNLVFa89VtJGSb+U9NbySknnSLpJ0jZJl0tqSdZv
l/QRSbcCz53bwzQzM2scTVksemR8kiWLmvLQzczMzOrN0cC/RMRxwO+BV5WfkNQGXA6cHhEnAYdP
ee0xwEuBZwN9khZJejpwFvD8iFgJTAJnJ9svBf47Ip4ZEZuzPCgzM7NG1pTda0rFopZap2FmZmZm
cHdEbEuWtwK5iueOAX4ZEXcnjz8PvKHi+W9GxCgwKul+YAXwIuAk4GZJAEuA+5PtJ4EvZ3EQZmZm
80lzFovGJmlb7GKRmZmZWR0YrViepFTcme1rFwICPhMR75lm+6LnKTIzMzuwpisW7doVjE7scs8i
MzMzs/r3U+ApknIR0U9peNmBfA/4mqSPRsT9kh4LtEfEQJaJWonyGu6hpz1ZDmAk+qKjxmlNa0qu
w2nk2UjHbw1AGu7qKbUnpGEihba0d8wARlKJ28QGGFgVRMt8u+cVEbXOYR/d3d2xZcuWTGLvHJvg
2Pd+m/ecfgxvXH1UJvswMzOzRydpa0R01zoPqy1JOeDqiDg+eXwesIzSULSrI+JLkl4BXAjsAG6m
VPg5W9I6YHtEfDh57e3AmRHRL+msjo6OSxcuXLhkwYIFcfrpp//sqKOOGn7f+973gvPPP//6qXm0
FourAUbb2jaldWxZxCxSijnE0GQXXWnNubRy4fh428SiRTemEayf/tWddAIwyCAAOXJpnIOVRYrL
0zz2qbmmkWdWx19uTyuGhibv6arPa1+Omfzc9qhbHWTMLPJsLRaXp30+047Z1d+/erCz1J46BwcZ
yFXflqbGBFKJ20jvecnP1NpokeLqMca4iIsAiL5QWrFrqel6Fj0yVup5vMTD0MzMzMxqKuktdHzF
4w9Ps9l1EXGMShMQ/QuwJdl23ZRYlXG+kM/nn8ueDwUATFcoMjMzs301X7FovFQsavMwNDMzM7NG
8L8k/RWwGPghpb+OdkB9fX1vn+kO8vn8xuQ1a2aR35zHXN+3PtWYE4sWpZZn5TCsAgUoDcmoOnY+
n9/YRluqxz4l11TyVF7RQw9JTADSOn6Atevr99qXY0L67T6LPEfb2lI/n2nHRBouJEPGegqFEaL6
toQUhZ4ekpildSnEbaT3PEg3z95870QQ5QLDSFpxa63p/n580cUiMzMzs4YRER+NiJURcWxEnB0R
O2udk+1f9EVHjtymHLlN0Req57k7puSaVp5TPyjOmw+OVgMRHQO53KaBXG5TivMKuY2mrIuuzY3w
nnewmq5Y9MjYLgBPcG1mZmZmZqlqpGKZNam9C1Dy5Na2P81XLEp6FrlYZGZmZmZmZma2r6YtFrUt
arpDNzMzMzMzMzM7oKarmIxPlIahtS50zyIzMzMzMzMzs6lmVCyS9DJJP5X0c0nvnub55ZK+IelW
SXdIWjvT1861sclSsWjRQtU4EzMzMzMzMzOz+nPAYpGkFuBfgNOBY4HXSjp2ymZ/A9wZEc8E1gAf
kbR4hq+dU+PlYlFL03WqMjMzM5szkn4wg23eLumQOcglJ+kvst6PmZnZfDGTismzgZ9HxC8jYgz4
d+BPpmwTQLskAcuAh4CJGb52To0lw9AWu1hkZmZmlpmIeN4MNns7cFDFouTLyIOVA1wsMjMzm6GZ
VEyeCPyq4vG9ybpKlwJPB+4DbgPeFhG7ZvjaOVUehrZ4oYtFZmZmZlmRtD35uUbSRklfkvQTSZ9V
yVuBJwDXSbou2fYlkm6QdIukL0palqzvl/QhSbcAf57E+5CkmyTdJekFyXYtki6UdLOkH0l6Y5LO
B4EXSNom6R1zfjLMzMwazMKU4rwU2AacChwFXCvp+oMJIOkNwBsAjjjiiJTS2te4exaZmZmZzbVn
AcdR+mLx+8DzI+ISSe8ETomI30o6DDgfOC0idkh6F/BO4IIkxoMRcSKApDcBCyPi2ZLOAPqA04D/
CTwcESdLagW+L+k7wLuB8yLizLk7ZDMzm8+U1zDQ3kNP+XFUPD0SfdFRi7zSMpOKya+BJ1c8flKy
rtJa4Koo+TlwN3DMDF8LQER8KiK6I6L78MMPn2n+B23PBNcuFpmZmZnNkZsi4t6k5/k2SsPCpnoO
pTkuvy9pG/BXQFfF81+Ysv1Vyc+tFfFeArwuef1/A4cCR6dxAGZmZlO0z/K5hjCTnkU3A0dLOpJS
oec17Dvm+x7gRcD1klYATwN+Cfx+Bq+dU+OTpWLfohb/NTQzMzOzOTJasTzJ9L+DCrg2Il67nxg7
9hOzMp6AcyPi23sFltYcVLb1SBru6ulpT5YDGCEa+1vrecnXqWkNMLAqiJakd0nD9yoxU0QceKNS
996PAS3A+oh4f9L9l4i4TNITgALweEr/SX8wIq7c32sPtL/u7u7YsmXL7I7oAD567V1c/L2fcfcH
zqA0H7eZmZnNNUlbI6K71nlYdiRtj4hlSaFm9xAwSZcCWyKiIOk24I8j4m5Jh1PqJXRqRPxc0lLg
iRFxl6R+oDsifpvE2JjE3JIMX9sSEblkWoMzgD9ft27dhb/5zW+e+5jHPGZ0cHDwkG9/+9t/+MY3
vnHbftJdmfzc3/MHrUhxNcAQQ5NddG2uNl5Xf//qwc5OADoHBwEYyOU2VRs37TyzitlaLMXsHBwk
pMl7utKJS8rXPqvrVD7+FUNDdXvs0Nx5ltv9IKXrnqP6655I/fiziNko7yWkeOz99Jfel+hkjDEu
4qK9no++aOiCw4zmLIqIa4Brpqy7rGL5Pkrdfmf02loam9zFoha5UGRmZmZWe58CviXpvog4RVIP
8PlkviEozWF010HE+zSlIWm3fOQjH3l8e3t7yznnnHP7k570pB2S4pJLLuk+/vjjB0899dR7K1/U
WiwuBxhta6v6gKYKYjZ/vW3OZZFnVseuaIxzmoVGOfa08yxSXD7E0KoUCwZAY5zPIqX3pzbSf3/K
QiO8l2TVnuabGfUsmmtZ9ix639V38rmb7uHOC16WSXwzMzM7MPcssnqyobd3AmDt+vVp/fEXevO9
E0G0FCikMxxFikJPDwA9hUJpXVT/rfXa/NoAKFBI7Vvw1I8dKKwt5ZnmsQPk8/mNAH19fWvSiJfV
ddrQ2zuhiJaeQiG1YW2pHzvZ5TnAwKoNbNiZVnvKIs/KewnS61XSmy+9P63vS+/9KYtrn8V9n0XM
NNtTeULr8gTX5Wtf1hQ9i+aT8cldLPbk1mZmZmaWSHG4zG7lb6yjL9akHTtNQpPJt/YjacXM4thD
mqzoBZJarhkYYe+JbVPJdXcbjfpuT1nl2UXX5jTbUxZ5VtxLkMH9VO+yuO+zeh9Nuz3NV01XLCoN
Q3OxyMzMzMwaSiZFiEYpajVKsYSIjoGk10bd52qpapR7yWymmq5qMjYRLHaxyMzMzMwaSUTHQC63
aSCX20SE/Be2zMxq7tGK9vXcA3JGmrJnkYehmZmZmZmZmdlslec8Ks8BNd96lTVd1WR8ovTX0MzM
zMzMzMzMbF/NVyxyzyIzMzMzMzMzs/1quqrJ/2/v3sMku+t637+/05PMQDIzyMUZIEx3xIAmCBNo
IIE5TEAhiVsEzEEBQTrtBlECIjsIut27UuKjbsgJOIhcxJlG5SYKGDxyk5DBYEKYhOESIoLQHZLQ
DUkOTCfYc/2eP2rVpDLpmb6t1VXV6/16nnm6atWqT//Wb61a0/Wt3/qVE1xLkiStfBHxqoi4b8f9
f46I+3WzTZIk9YvaVU0OHkpWr/IyNEmSpOUSLcv9d+ergCPFosz8+cz8wTK3QZKkvlS7Ca6TJMJi
kSRJUpUiYgj4BPB54HHAGyLiYiCA/zczX1usdyfwNuDnge8Cvw+8AdgMvCozLy+y/gY4qYi/KDP/
LSLOAS4BbgMeBVwHvBB4BfAQ4DMRcVtmPjUixoHhzLwtIn4NuBhI4MuXXHJJVd2gRYpm7AXWte+P
MNJenrOsPt2eaFaSVI7aFYsOZ+svFEmSJFXuNODFwE3ANbSKRv8f8MmIeHZmfoRWAeiKzHxNRHwY
+CPg6cDpwLuBy4HvAU/PzJmIOA14HzBc/I4zgTOAW4HPAU/OzO0R8WrgqZl5W2eDIuIM4A+AJxWF
o/sDH6quC7RI6+ZeZVHrqq7i7gLk4MhIe9nRxcdp0sKjBDW8DI2EVY4skiRJWg4TmXkN8Hjgysz8
fmYeBN4DPKVYZz/w8eL2V4BdmXmguD1ULD8B+MuI+ArwQVqFpLZrM/PmzDwM7Ol4zrE8Dfhgu4iU
mXcsYfuqF7GXiCQiB8fHtw2Oj29r3y/+7e12E6U+MZ+iooVHqVDDkUXJCc5ZJEmStBzumsc6BzKz
/en+YWAfQGYejoj236q/A0wBj6H1YedMx/P3ddw+xMr7+3auN6++udXKFbF3cGRkXXG7fZ5w9I+0
DGo3suhwJuGFaJIkScvpWmBbRDwwIgaA5wO7FvD8DcB3i9FDLwIG5vGcaWYvpFwBPDf6XXd+AAAg
AElEQVQiHgAQr42944xvG2d8WzFPjqTeMdtruCcLpJsnJrZ2jPwr5VwSTc9P6p64+4Oc3jE8PJy7
d++uJPs5f/E5Tl6zmr/59SdWki9JkuYWEddl5vDca6pfFZNS/1NmPqq4/3xak1ffa4LrzDy5uH0J
cGdmXtr5WDFP0T/QmpD648DLi+XnABdn5i8U6/85sDszx84666zP/Pu///sTTzrppH0vfelLv3Tp
pZee9Ru/8RvXrVu37sDVV1+98dprr90cEfljD/uxk577nOcCMMkkQwwtpIh1TDPMbAOYYurQIINX
LTZncHx8W/v25KZNAGyanLzHOhNDS2rzluLnniVk3CtzzczMho1TU4duGlzcto9z93YDbKK17ZNM
zrr+YvfbmpnWftq3dm0p+71Qep/2SzvLOu7bBsfHt8123C/mmJ/Pa2mx2XD3PmpnLvF1CbReB53H
flnnpyqOp7L3fVWZlHB+OtoMM9v2s5/LuGxFTba/0obpzulw4rehSZIkVSwzx2l9Q1n7/vtoTUx9
9Hond9y+ZLbHMvMbwKM7HnptsfxK4MqO9S9q3z7//PO/dP755x/5o+/iiy++pn377LPPnjr77LOn
4N5FCUlLl+R8Rv9pBapi3/fR8dSTo94Wq3bFIjJxyiJJkqSVrdFovGo+60Uz9o7QmhNljLHpbOQ5
Zfz+ZrN5JcCOxo6l5XV8W9NY8Q1OI2Nj91wnF9/mdjsbjcaiM2bL3Ld2LRfuWPy2R/Oe31I1wggA
Y4zNuv5i91tV21/XzNHm6MEkB0p7LUXkrMf9Yo75+byWFpsN7BwdPRiZA0Xm9FJel23RjOw89ss+
P/X0vq8os4zz09Ha7aR1+fOKUbti0WG/DU2SJEmFbOT69hunst6MSHXVvlSoxNfSbHOP9eQb8iOX
NJVQJOrQuf09ud1tFez7SjKr0C/tXKiaTnAtSZIk9YW53iD29BtIaUky108MDe2aGBraRWYU/1bM
nDBzyUauH2Jo1xBDu1bSXDjqD7UrFqVzFkmSJKlfZK5vv0me5U1zrd44S0s0n8KqxVepULti0eFM
rBVJkiRJUo3MXXi1+Cp1qF2xCHCCa0mSJKm3LWSEh6NBJKlkNZzgOp3gWpIkSephR8/P4iTkkrS8
ajey6HDiZWiSJEk9ICJeGRE3RsR7lun3jUTEny/H75IkqZ/VbmRRZjrBtSRJUm/4LeDnMvPmsgIj
YnVmHiwrT5KkOqphsQgsFUmSJHVXRLwd+AngYxHxt8CzgbXAfwEXZubXI2KkWH4ScBpwKXAi8CJg
H/DzmXlHRFwJ7AG2Au+LiL8G3g5sLn7dqzLzc8u1bZIk9bv6FYvAOYskSZK6LDNfFhHnAU8F9gP/
T2YejIifA/4YuKBY9VHAmbQKSd8EXpuZZ0bEm4BfA95crHdiZg4DRMR7gTdl5lURsRn4BPDTy7Vt
pYrYC6wDGBwZaS/LjjWm/QYnSVLZalcsak1w3e1WSJIkqcMG4N0RcRqtz/ZO6HjsM5k5DUxHxA+B
jxbLvwI8umO9D3Tc/jng9I6pB9ZHxMmVtLx665b4uCRJC1bLYpFzFkmSJPWU19MqCj0nIoaAKzse
29dx+3DH/cPc82/ZuzpurwLOysyZzl/i34D9a/PExNbIHChGVZUzmipi7+DIyLr2bUdoacUrRioe
NUrR0YmaVWTm3Gsts+Hh4dy9e3cl2Vv/zxU84dT7c9kvb6kkX5IkzS0irmtfMqT6iohxYBj4S+Bv
M/MfIuISYCQzh4o5i4Yz86LO9TPzts7HijmLLs7M3cV6733c4x73sGc+85mHACYmJk4eHBy88+qr
r9506623rrvgggu+0W7D5omJrVMbNw4AbJyaOnTT4OBVZWzbmpmZbWVkDo6Pb2vfnty0CYBNk5P3
WGdiaGjXYvOB9h/Fe5aQUXlmuz/b277EbQZafdvZp2VkQnn7/ih9sZ9maG37FFOHBumt19JR+qI/
yz4/tc8nR59Lyjj267yfZpjZtp/9XMZlANPZWBnFt1XdbsBya01w7adKkiRJPeQNwJ9ExBcpZ+T7
K6empn58+/btw29+85sff+211z7kWCtG5sBst8tSRWbZZpjZMMHE1l7P7Df9sO9XHziwtorcpPdf
S2tmZjZsnujt477q81MVymznDDMb+vBcsmIuDa7dyKIn/cmnefJPPpA3PvcxleRLkqS5ObJIPSMi
x4pLMkbGxiCzlE8Vxy68MEvJ7JjM+h7t7LSE/GazeeUEE1t3svNHZX0aXkXmPfoTytlPFe37naOj
ByNzYGRsrLTLe5rN5pUAjUbjnDLy2pn3v/32oVds3z5UVuZoc/RgkgNjjJU2uqKq/tw8MbH1wp07
f1RmZtnHPRF7x4pLJUvZ/uJ8cq9zSQnHfhX7qYrjqYrX0oXN1vlpjDEAslHOuaTbajhnkd+GJkmS
pCOmufuT4OmyQjPiUPEJe2mZVRlk8Kps5Dm9nNnRn1Ben1ay749cgpPl9mkV7njAA8bLzGtfelbm
vq+qP28aHLyq7MzSX0uZ6yeK4kavH09V7KcqjqcqBHGoYzRdz5/z56uGxaLEWpEkSZKAyt6M9VPB
oB9U0p999EZcKklngbRzmZagX4paC1W/OYvwmzAkSZLUN+Z6I+cbPUnzk7mezJgYGto1MTS0i8zw
m9B0LPUrFjmySJIkSf2ieHM3yxu88I2eJKkqNSwWwSqLRZIkSZIkSbOqXbHocKYTXEuSJEmSJB1D
DYtFYKlIkiRJkiRpdrUrFrXmLLJcJEmSVLWIeGVE3BgR71lizv0i4rc67j8kIv5+6S2UJEmzqWGx
CCe4liRJWh6/BTw9M3+1vSAiVi8i535FFgCZeWtm/t8ltE+SJM2ifsUicM4iSZKkikXE24GfAD4W
ET+MiL+JiM8BfxMRAxHxxoj4QkR8OSJ+o+N5r+lY3iwW/ynw8IjYUzxvKCK+Wqw/EhEfiYhPRcR4
RFwUEa+OiC9GxDURcf9ivYdHxMcj4rqI+NeI+Kll7hJJkvrGYj7Z6WutCa673QpJkqSVLTNfFhHn
AU8FLgKeCWzNzP+KiJcCP8zMx0fEGuBzEfFJ4LTi3xNoTTN5eUQ8BXgd8KjM3AIQEUNH/bpHAWcC
a4FvAq/NzDMj4k3ArwFvBt4JvCwzvxERTwT+AnhadT0gSVL/qmWxyDmLJEmSlt3lmflfxe1nAI+O
iPalZBtoFYmeUfz7YrH85GL5TXNkfyYzp4HpiPgh8NFi+VeK33My8CTggx1/B65Z4vZI9xSxF1g3
ODLSvp/FI9Nkru9Sq/pbxN7BkZF1xW37c4mi2TpGRxhp309gOhv2p+6tdsUi5yySJEnqirs6bgfw
isz8ROcKEXEu8CeZ+Y6jlg/Nkb2v4/bhjvuHaf29uwr4QXtkkqo1wcTWJAdq+EZ03QKXa26z9d2S
+9NjdM5lEpGZc6+1zIaHh3P37t2VZD/if36M0a2n8rrzvUxdkqRuiYjrMnO42+1QtSJiHBimdRna
nZl5abH8pcDPA8/NzAMR8QjgFuDJwOuBn83MOyPiocAB4BBwfWYOFs8fAv4pMx8VESPAcGZe1Pk7
L7nkkj+4+uqrz7v11lvXXXDBBd9429vedubjH//4m4eHh7+fmXznO985afPmze0CVruItKfEza8k
c/WBA2sPnnDCNWVmzjCzYYqpQ4MMXlVG4Awz2wAmmQRgiKFdJcRuWTMzs2Hj1NShmwbLaecEE1s3
snEAoIztHxwfb233pk0AbJqcvPt3DS2tD9bMtPp039q1ZfRlWyXHaJnH0+D4+LYq+rOqY7Ts1xLc
3da1LH3fj9M6RjfR6tMyt7+KY7S97SX3aVXn+zsbjcYpJWZ2Xf1GFuGcRZIkSV32LmAIuD5a14V9
H3h2Zn4yIn4auLq4XOxO4IWZ+Z8R8bliUuuPAW9d6C+84IILbvzoRz/6iH/7t38bPHz4cDzykY/8
XkexSDWU5MBstyVJNRxZ9PDf/2d+c9vDufjcR1aSL0mS5ubIIvWSZrN5JUCj0TjHzKUbbY4eTHJg
jDEo6RKfKtoZzdg7Qms+nDHGlt7OYk6dsWLOopGxsbsfy1zSx9X9su9Lz4zIKvqzX45RaLUVYEdj
x5IHehSX3dGes6jYfrKxtP6EPjme+iizF9RuZFFrgutut0KSJElamdqXi2Qjz+lyU44rG7m+/Sav
19taY9Pce06d6aWG9ssxCne3tSSV9KdWplXdbsBya01wbbVIkiRJUqmO9abbN+OLlbl+Ymho18TQ
0C4yo/hXl8moS5eNXJ+NjCGGdg0xtCsbGTWa3FsLVKtiUfuSO0tFkiRJkkqVuZ7MsLghaSWoWbGo
9XOVI4skSZIkSZJmVati0eGiWuS3oUmSJEmSJM2uZsWi1k8HFkmSJEmSJM2uVsWipJizyGqRJElS
7UTEloj4+W63Q5KkXlevYpEjiyRJkupsC2CxSJKkOdSyWOQE15IkSb0pIv5XRHw9Iq6KiPdFxMXF
iKBrIuLLEfHhiPixYt1jLb8yIoaL2w+MiPGIOBH4Q+BXImJPRPxK97ZSkqTeVqtikRNcS5Ik9a6I
eDxwAfAY4HxguHjor4HXZuajga8AjTmW30tm7gf+N/CBzNySmR+oZitUmoi9RCQROTg+vm1wfHxb
+37Hv73dbqYkrUSru92A5dQuFgVWiyRJknrQk4F/zMwZYCYiPgqcBNwvM3cV67wb+GBEbJht+bK3
WFVaV9I6koBoxl5g3Qgj7fvFtTdMZyPXd6td/eo4/QkroE9rVSxq7zmvQpMkSVrRDnL3CPq13WxI
WaIZe0cYWVfcTkp4I1J2pm9EpZ53rOKqRdfFOV6/9X2fRmbOvdYyGx4ezt27d5ee+8MfHeAxf/hJ
/tcvnM6vbz219HxJkjQ/EXFdZg7PvabqpLgM7R3Ak2h9qHk98E7gRcBFmfmvEXEJsCEzfycivnSM
5e86++yzTz333HMHrrjiilOuv/76Uy6++OJrrr/++gd+/etff+Dzn//8f2//zgkmtm5k4wDAFFOH
Bhm8qqTN2VL83FNG2Djj2zaxCYBJJgEYYmjX8Z6z3JnjjG8DODpzsbmD4608gMlNrcxNk5P3Wm9i
aEn9UOp+qnvmDDPboLdfSwBrZlrt3DQ5SUYcummwlLZWsY9KzS37NXqU2u2nzv7cz34u47J7PJ6N
7OthKrWasyhxziJJkqRelZlfAC4Hvgx8jNY8RD8EXgy8MSK+TOsP/T8snnKs5ZfecMMNj37LW97y
uB/96EcntPMf8YhH/OD222+/7/bt24e/8IUvPAggyYEjv7/j9lLNMLNhhpkNE0xsLStT5Wvvp17P
7DdlvpaqFlleW9fMzGzYPFHua97jqaXM/aT5qdXIojvu2s9jX/8pmr94Bi9+0lDp+ZIkaX4cWaRj
iYiTM/POiLgv8FngpZl5fWW/rxnZvmxqjLHSPgkebY4eTHJgjLFSLsE6up2w9E+ty85sX3Z2dOai
c+Pu+T/GRlqZI2Nj914vF9/m0eboQYAdjR2lTc9RRWaz2bwSoNFonNPLmWUf91BNO8cuvLB1rLaP
pyUcQ23NZvPKzRMTWy/cufNHZHmXXZZ5PJX+Gu3QT/sJymnn8foT+n9kUa3mLDoywXVf7zJJkqQV
7Z0RcTqtuYbeXWWhqDDN3XNLTJcV2r4EJxt5TkmRne1s39cSlXipVKWZ/aKC474SGXGoY6RKaa+l
mwYHryLL3fY6H09V7SfNT62KRe1BVGG1SJIkqSdl5guW9fc1cn37k+ZefoNbUTvLLkAdnVdWrlSq
I3PflFzY6QN99Rqt8X7qCTUrFhUji7rcDkmSJKnbyi5AtS876ofim1RHvkZLd6ziW/uxvlavYlHx
c5UjiyRJkqRed7w3Yp3rSNKyW+nFt1p9G1p7ziK/DU2SJEnqcZnryQwyY2JoaNfE0NCu9v2Of6VN
JCxJulvNikWtnw4skiRJkiRJml2tikVH5iyyWiRJkiRJkjSrmhWLWj8tFUmSJHVfRAxFxFdLyBmJ
iD8vbj87Ik7veOzKiBhe6u+QJKlOalkscoJrSZKkFevZwOlzriVJko6pVsWiIxNc12qrJUmSetpA
RPxlRNwQEZ+MiPtExMMj4uMRcV1E/GtE/BRARDwzIj4fEV+MiH+JiI2dQRHxJOAXgTdGxJ6IeHjx
0HMj4tqI+I+I+L+WefskSeo7tSqbtItF4YVokiRJveI04K2ZeQbwA+AC4J3AKzLzccDFwF8U614F
nJWZZwLvB363Mygz/w24HHhNZm7JzP8sHlqdmU8AXgU0qt4gSZL63epuN2A5FVeh+W1okiRJvePb
mbmnuH0dMAQ8Cfhgx5eSrCl+ngJ8ICIeDJwIfHuev+NDR+WrX0TsBdYNjoy072fHo9Nkru9CqyTp
eOenFXFuqlexyG9DkyRJ6jX7Om4fAjYCP8jMLbOs+xbgssy8PCLOAS5Z4O84RM3+/u2GzRMTWyNz
oHjjtNQ3TesW+VhXRDP2jjCyrn07G/3/hnHeIvYOjrS2vaR93zeO2u9HCga12v9l64/j6VjnoJ47
Ny1GtAsox10p4jzgz4AB4F2Z+adHPf4a4FeLu6uBnwYelJl3RMQ4ME3rP+eDmTnnt1EMDw/n7t27
F7Id8/KNqWme/qbP8ucvOJNfePRDSs+XJEnzExHXzedvAq1sETEE/FNmPqq4fzFwMvAM4E2Z+cFo
fcr36Mz8UkR8EfjvmXldROwETs3McyJiBBjOzIsi4i3A9ZdccsljgC3veMc7tjzjGc/4z1NPPXV6
enr6hHe84x2Pu/jii6/pbMeamZltABunpg7dNDh4VRnb1s7ct3btrjLyOjOraGcVmZsmJwGYGBpa
dB8Mjo9vA5jctInOzLalZBfaRck9x11rnsYZ37aJVlsnmWSIJbevrdR2VpE5OD6+7ej9VML+gYq2
fc3MzIayjvuj93tbGft/htbraS3ln0t6+fzUD8dT5/npxP37efVll939YGbfj1CZc86iiBgA3gqc
T+ubJZ7f+XWkAJn5xuK68C3A7wG7MvOOjlWeWjze1T8KD/ttaJIkSf3gV4Ffj4gvATcAzyqWX0Lr
8rTrgNuO8dz3A69505ve9IKpqam1C/mlkTmwyPb2vbpu+wEOrD3AgQUdJ5KOra7nkpVozpFFEXE2
cElmnlvc/z2AzPyTY6z/XuAzmfmXxf1xWp/0HOs/9HupamTRjd/dy/l/9q+87Vcfy/k/8+DS8yVJ
0vw4ski9ZOfo6MHIHBgZGyvtModms3klQKPROKeMvKoyq9j2jkxY6qUjxRwgY8WcIEXm3Zb46X3Z
fdp5OdIYY6VdhtQXx1NE3ms/lTC6oh+2PZqRI4wAMMbYkeXZWPr2jzZHDwLsaOwo7RLavjiX9MPx
dLzz0woYWTSfA+6hwHc67t8MPHG2FSPivsB5wEUdixP4l4g4BLwjM9+5yLYuWbsu5pxFkiRJajty
yUTmOd1tyfKrYtvr3J/ZyPXtN6PZqN32T3PPuVqmu9WQLjh629vLlmyQci4PrVoFr/s6H089Yc7L
0BbomcDnjroEbWtxedr5wMsj4imzPTEiXhoRuyNi9/e///2Sm9Vy6HB7gutK4iVJkiSV63hvEH3z
2Esy108MDe2aGBraRWb04GTElclGrh9iaNcQQ7uykVH8q832V6I/jqdjnYNWxLlpPsWiW4CHddw/
pVg2m+cB7+tckJm3FD+/B3wYeMJsT8zMd2bmcGYOP+hBD5pHsxbu7bv+E4A1q8uukUmSJEkqXeZ6
MuOoN43Rw28eJdXFsc9PK+LcNJ+qyReA0yLi1Ig4kVZB6PKjV4qIDcA24B87lp0UEevat2l9s8VX
y2j4Ujzp4Q/sdhMkSZIkSZJ60pxzFmXmwYi4CPgEMADsyMwbIuJlxeNvL1Z9DvDJzLyr4+kbgQ8X
cwStBt6bmR8vcwMW4nAmp/34yZzoyCJJkiRJkqRZzWtG9cz8Z+Cfj1r29qPuj0HH1O+tZd8CHrOk
FpYoE1Y5YZEkSZIkSdIx1WqIzeFMJ7eWJEnqooi4s9ttkCRJx1ezYhGE1SJJkiRJkqRjqlWxCJJV
1ookSZKWRUR8JCKui4gbIuKlHcvfVCz7dEQ8qFj2yoj4WkR8OSLeXyw7KSJ2RMS1EfHFiHhWsXwk
Ij4UER+PiG9ExBs6ss+LiOsj4ksR8ek5cs6IiGu3b98+vH379uGIOG05+0eSpF41rzmLVorDzlkk
SZK0nEYz846IuA/whYj4B+AkYHdm/k5E/G+gAVwEvA44NTP3RcT9iuf/T+CKzBwtll0bEf9SPLYF
OBPYB3w9It4CzAB/CTwlM78dEfefI+dlwJ+98pWvfMnBgwfjj/7oj26uukMkSeoHtRpZ5JxFkiRJ
y+qVEfEl4BrgYcBpwGHgA8XjfwtsLW5/GXhPRLwQOFgsewbwuojYA1wJrAU2F499OjN/mJkzwNeA
QeAs4LOZ+W2AzLxjjpyrgd//1Kc+9bDbbrttbWb+V8nbL0lSX6pVsSids0iSJGlZRMQ5wM8BZ2fm
Y4Av0irSHC2Ln/8NeCvwWFqjkFYDAVyQmVuKf5sz88Zi/X0dGYc4/oj5WXMy873/AZsHDxz4iQ+9
5z1PuCIiidi76I2WpJJEM/ZGM3Kc8W3jjG+LZmQ0PT9p+URmzr3WMhseHs7du3eXnvuiv/o8d+47
yId/68mlZ0uSpPmLiOsyc7jb7VB1inmB/ntmPjMifgrYA5wHfAZ4fma+PyL+ANgI/DawOTPHI+IE
YAI4HfhdYD3wiszMiDgzM78YESPAcGZeVPyufwIuBW4Argeecskll/z2nXfeOXzyyScf/OhHP3rq
/v37V//SL/3SNyKCiYmJkwcHB+/83ve+t3b4rrueOPXgB/PPV1zBKZk844wzmBga2lVCF2wpfu4p
IauyzDUzM9sANk1OkhGHbhocvGqpmTO0MieZJIhDgyw9s4p2Fkrt0wkmtm5k4wDAFFOlbHuhL46n
9r4vc9vb+37j1FTP7nco/xgdZ7yVxyag9XoCGKI3z09V7Hv66Ljfz34u4zKA6Wzk+rKyu6lWcxZl
tj5WkiRJUuU+DrwsIm4Evk7rUjSAu4AnFIWi7wG/AgwAfxsRG2j9ubY9M38QEa8H3gx8OSJWAd8G
fuFYvzAzv19MpP2hyy677JR169YNvOQlL/nyueeeO/GRj3zkJ7dv3z6cmbF+/fqZ0dHRr+zZs+fH
P/K1r5EnnsjJJ53EL591VqkdsPrAgbUHTzih1MwDHFh7AuVmtkXmQNmZSfmZZbZzhpkNAGtnHfS2
cJ3bW/a2V3E8VaXX9zvAmpmZDRunpraWWIA6oorXUpnax/0UU1tLLOwA5e77qtpZ5XkUWFdV8HKr
1ciiX33XNew7cJi//80nlZ4tSZLmz5FF6hkROTYyAsDI2FhrWeaSP19sNptX3v/224desX370FKz
OjNv5/ah7Y3yMscuvDCh3G2/sNnKHKOVmY2lZ1bRToDR5uhBgB2NHaV8iB7NyBFGgNb2l7HtUN3x
BNBoNM4pK7Nz35e17TtHRw9G5sDI2Ng0Wc6IjWazeeXmiYmtF+7c+aOyMss+RqMZrbyO4wnKeT2N
NkcPJjkwxlhpo2D6JbOK82gV57xeUKuRRYcP+21okiRJuodp7vlJ8HRZwXc84AHjZWW1PYByMzPi
UMcoiFK2PYhDHaMLSsmsop0AZY+q4J7HU2nthGqOp7J17PvStv3IyJ/Mc8rKPJJbYmZVx2gV2sd9
Nsrb/n7JhPLPo1Wc83pBvYpFXocmSZKkTpnrJ4oRFmW/Ge0HVbwRr+INXlUFg7JlI9e3R+yU/Qa3
H1T15r4fVHCMHl3Ibi9Tj1mpx32tikUJrLJYJEmSJEnqYe3LrupcfFR3rep2A5ZTZhIOLZIkSZIk
STqmmhWLYFWttliSJEmSJGlhalU6OZzpBNeSJEmSJEnHUbNiUbdbIEmSJEmS1NtqVSxqTXDtyCJJ
kqSVIiI2RsR7I+JbEXFdRFwdEc+JiAdExGci4s6I+PNut1OSpH5Sr2JRpt+GJkmStEJERAAfAT6b
mT+RmY8DngecAswA/wu4uItNlCSpL9WqWHQ4k3BkkSRJ0krxNGB/Zr69vSAzJzLzLZl5V2ZeRato
JEmSFqBWxaJMHFkkSZK0cpwBXN/tRkiStNKs7nYDltPhxJFFkiRJK1REvBXYSmu00eO73R71rmjG
XmDdCCPt+wlMZyPXd7NdUpvHqLqtVsWizMRSkSRJ0opxA3BB+05mvjwiHgjs7l6TKhKxd3BkZF1x
O4Fp0jeNS7BunsukbvEY7RObJya2RubASjs3R2bvfZ/88PBw7t5d/v/x577ps5z6wJN4+4seV3q2
JEmav4i4LjOHu90O9bdigutrgLHMfFuxbDPw2UsuueQjwJarr75606233rruggsu+MaxcmaY2QYw
xdShQQavKql5W4qfe8oIGxwf3za5aRMAmyYnAZgYGtq11Nw1M61t3zg1deimwd7c9ioyxxnfBrCJ
Vp9O0urTIZbWp5snJrZObdw4APXr06oy28fopslJMqKsPu35ba/qGIX+OOf1U+aamZltJ+7fz6sv
u6y1IHNFjFGp1ZxFhzNZVastliRJWrmy9anns4FtEfHtiLgWeDfwWoBLL730rM985jMPv/HGGze9
4Q1vOPuWW26573HzyIHqW92bInt/21cfOLD2/rffPtTtdhxPZz/2Q5/2mzL79AAH1t5OucdTFZlV
qvM5T3Or1WVohzMJL0STJElaMTLzu8DzZnnoA41G41XzyRhtjh5McmCMsels5DlltKvZbF4J0Gg0
SskjYu9YcRnayNgYtC51WHL2ztHRg5E5MDI2VkoeVLDtRebBE07gFdu3l5JZzP9Cez6YMcYAWPL+
v+d+6vk+7YfMjmMUSjrum83mlSdwAtsb5RxPVWRWdozSJ+e8PspsH6PF3emycrYrSz0AABOiSURB
VLutVsWiBJzfWpIkSZ3al2GU9aapEpnrJ4o3OWUVIACOXNJTYmafmObe878s/U1eRfupzjxG77Vs
yfrinNdHVuoxWq9iUcIqq0WSJElSrbW/Uao9ysA3zeo1HqPqtlrN4HM405FFkiRJkiRJx1GrYpEj
iyRJkiRJko6vVsWi1gTXkiRJkiRJOpZaFYsyIRxZJEmSJEmSdEw1KxYlq6wVSZIkrRgRsTEi3hsR
34qI6yLi6oh4TkQ8vbj/leLn07rdVkmS+kWtikWHEye4liRJWiGiNWT8I8BnM/MnMvNxwPOAU4Db
gGdm5s8ALwb+pnstlSSpv6zudgOWU5JOcC1JkrRyPA3Yn5lvby/IzAngLUetdwNwn4hYk5n7lrOB
kiT1oxqOLLJYJEmStEKcAVw/j/UuAK63UCRJ0vzUa2RRppehSZIkrVAR8VZgK63RRo8vlp0B/B/g
Gd1smyRJ/aRWI4sycYJrSZKkleMG4LHtO5n5cuBngQcBRMQpwIeBX8vM/+xKCyVJ6kORmd1uw70M
Dw/n7t27S8898w8/yTMf8xD+8FmPKj1bkiTNX0Rcl5nD3W6H+lsxwfU1wFhmvq1Ythn47Ktf/eqP
jY2NvWjr1q3jj33sY287VsbmiYmtUxs3DgBsnJo6dNPg4FUlNW9L8XNPSXm1zpxhZhvAJJMEcWiQ
cvZTO3eKqdIy6ZM+NbPczDUzrWNp0+QkGeG5pCaZ7f9DTty/n1dfdhnANJnry8jutlqNLDqc4MAi
SZKklSFbn3o+G9gWEd+OiGuBdwOv/fSnP/2YvXv33ueqq64a2r59+/D27duHf/jDH55wdEZkDsx2
e6nWzMxsWDMzs2HzxMTWXs4EmGFmwwTlZc4ws6HszE5Jefupisz2fiorD+7u0zIzAVYfOLC27Myy
VXXcV5HZVua5pIp9X8UxWtV+quIYLTNzln29rqzsbqvhnEWWiyRJklaKzPwu8LxZHvrAvAIicmxk
BICRsTHIPKeMdu0cHT0YmQMjY2M/6uXMZrN55RRTW3ey80fZKCdztDl6MMmBMcZKy7yweWECjDEG
QAVtnS4rc+fo6EGAC3fsKCUPWu0E2NEoL7PZbF65fu/eoVds315qJkCj0Sgts6rjfuPU1NYLd+4s
LXPswtYxOjI21lpQUm4V+76KY7Sq/VTFMVpqZsf/IStNzYpFsMpikSRJku42zd2fBE+XFXrkEpSS
3jRVlQkwyOBVZRVK2nlQXkEHIIhDHaN/SttPVbS1xMuPjijxErl7uOMBDxivIrdMVR33Nw0OXlVm
ZkYc6hhlUvoxWqYqjtGq9lMVx2jJmZ3/h7Tvrwi1KhYd9tvQJEmS1Clz/UQxGqLsNzkqTxVFHalM
VRVL1ONW8P8htZqzKPHb0CRJkiRJko6nVsWiw5lehiZJkiRJknQcNSsW4dehSZIkSZIkHUetikU4
wbUkSZIkSdJx1apYdDjTgUWSJEmSJEnHUbtikSOLJEmSVo6I2BgR742Ib0XEdRFxdUQ8JyKeEBF7
in9fiojndLutkiT1i9XdbsBy8tvQJEmSVo6ICOAjwLsz8wXFskHgF4FPAMOZeTAiHgx8KSI+mpkH
u9diSZL6Q72KRQk4skiSJGmleBqwPzPf3l6QmRPAW45aby2tzw0lSdI81OYytMzW3weOLJIkSVox
zgCuP9aDEfHEiLgB+ArwMkcVSZI0P7UZWXS4+CzJOYskSZJWpoh4K7CV1mijx2fm54EzIuKngXdH
xMcyc6a7rZQkrQgRe4F1gyMj7fudI1inyVzfhVaVpjYjiw4XI4ssFUmSJK0YNwCPbd/JzJcDPws8
qHOlzLwRuBN41LK2TvUSsZeIHBwf3zY4Pr6NiCzeTEpamdYt8rG+EO3Ls3rJ8PBw7t69u9TM/QcP
84g/+BivOfeRvPypP1lqtiRJWpiIuC4zh7vdDvW3YoLra4CxzHxbsWwz8NmXvOQlV2zatOnhAwMD
edttt63ZsWPHY3/zN39z97p16w4cnbNmZmYbwMapqUM3DQ5eVUbbZmhlrmXtrjLyoJp2AluKn3tK
yuunzFJzB8fHtwFMbtoEwKbJSQAmhoaWfAxUcTxRQZ+22znF1KFByjtG18zMbKji9dnr7YS7X/f7
1vb2vq8is9fPeZ2v+RP37+fVl112zxUy+3qsSo0uQytGFvX17pIkSVJbZmZEPBt4U0T8LvB94C7g
tf/xH/9x4Qc/+MHhVatWZUTk05/+9G/MVijqFJkDy9HupeqXdvaD1QcOrAU4eMIJ3W7KipKUf4xW
cdz3Szvrzj7tjtoUi9oDqMIL0SRJklaMzPwu8LxZHvrAfDN2jo4ejMyBkbGxaTLPKaNdzWbzSoBG
o1FKHvRPO/sls/TcYr6SsWL+kpGxsdbyEvbVaHP0IMCOxo4lZ7VV0aejzdGDSQ6MMTadjfKO0Y1T
U1tHxsZ+VNZx3y/thNbrHuDCHb2972t5zjvqNb/S1KdYhN+GJkmSpHs7cnlDiW/wqtAv7ayxae49
T8l0GcElXipVqXY7yyrAtN00OHhVmcd9v7TzSGZNec7rrhpNcN366behSZIkSSpd5noyY2JoaNfE
0NAuMqPfvw1J0nEdrxhcSqG4m2pULHLOIkmSJEmSVILZC8SxUgrFtSkWHZmzyGqRJEmSJEnSMdWo
WOScRZIkSZIkSXOpTbHo8JFvQ5MkSZIkSdKx1KZYdGRkkUOLJEmSJEmSjqk2xaLDzlkkSZIkSZI0
p9oUi9ojiywVSZIkSZIkHVu0iyi9ZHh4OHfv3l1q5tTeGZ74x5/mj5/zM7zgiZtLzZYkSQsTEddl
5nC326F6ajabNwMPnceqtzQajVPMXBmZVeWaaWZZmVXlmtn7mb2oNiOLDrdHFjm0SJIkqe9FxI6I
+F5EfHURT78c2DfHOvuAfzRzRWVWlWummWVlVpVrZu9n9pzaFIvaA6ic31qSJGlFGAPOW+RzXw/M
Nbz+cLGemSsns6pcM80sK7OqXDN7P7Pn1KZYNLAqePiDTmL92hO63RRJkiQtUWZ+FrhjMc9tNBrf
BXZy7E+G9wE7G43GpJkrJ7Of2mpmPTP7qa1mlr/ve01tikUb16/l0//jHM7/mQd3uymSJEnqvuN9
MrzYT4TN7P3MqnLNNLOszKpyzez9zJ5Sm2KRJEmS1HacT4YX/Ymwmb2f2U9tNbOemf3UVjPL3/e9
xGKRJEmS6mq2T4aX+omwmb2fWVWumWaWlVlVrpm9n9kzLBZJkiSpljo+GW7/sb/kT4TN7P3Mfmqr
mfXM7Ke2mln+vu8VFoskSZLUdyLifcDVwCMj4uaI+PVFRnV+MlzWJ8Jm9n5mVblmmukxauaKYLFI
kiRJfSczn5+ZD87MEzLzlMz8q8XkFJ8Mtz8FLuUTYTN7P7OqXDPNLCuzqlwzez+zV1gskiRJUt1N
ADOU+4mwmb2fWVWumWaWqV/aauYKGlUE8ywWRcR5EfH1iPhmRLxulsdfExF7in9fjYhDEXH/+TxX
kiRJmq9ms/nmZrP55pJjNwO3l/yJsJm9n1lVrplmlqlf2mrmChpVBPMoFkXEAPBW4HzgdOD5EXF6
5zqZ+cbM3JKZW4DfA3Zl5h3zea4kSZK0AFuKf5IkqSKr57HOE4BvZua3ACLi/cCzgK8dY/3nA+9b
5HMlSZKk5fZNM2uZWVWumWb2eq6ZvZ/ZdfMpFj0U+E7H/ZuBJ862YkTcFzgPuGihz5UkSZKkaMZe
YF3nshFG2o/lLE+Zzkaur75lklQf8ykWLcQzgc9l5h0LfWJEvBR4KcDmzZtLbpYkSZKkSsQ9izuD
IyPt5UcXdqbJeRV11s29ypLWl3rX/F5P830tLSRz4bl1Nf/+hHn2abPZvBm4HHh98Q1rXTefYtEt
wMM67p9SLJvN87j7ErQFPTcz3wm8E2B4eHi2TpYkSZLK0fHHfilvxqpSRTvLz5xvsaYnijqdI5eO
MWJpwSOV5sh05NMCdWEfLSqzM7fEzPm8TqoqqPbEa7QPLKSf5rvuQ4FR4MJms7mTHigazadY9AXg
tIg4lVah53nAC45eKSI2ANuAFy70uZIkSdIym+sP+F5501RFO/tl26uy3H260vvzeAWTxRbK+um4
r/W+r0IFx1O/WFP87Imi0ZzfhpaZB2nNQfQJ4Ebg7zLzhoh4WUS8rGPV5wCfzMy75npumRsgSZIk
9ZJoxt5xxreNM74tmpHFGx9pJTtWUcRiSQ1UcM6r+/G0BlhLq2j0rWaz+RfNZvPBy92IyOy9K76G
h4dz9+7d3W6GJEmqSERcl5nD3W6HekOz2XwzsGU+684wsw1giqlDgwxetdjfOTg+vq19e3LTJgA2
TU7eY52JoaFdi8keZ3zbJlqZk7Qyh1hcVhXtLDuzM+94mfPNHeeeeQBH9+fRFtK/nfnHyl3o/por
c7H7v23NTOu437d27ZJyjtJ+ze1ZalB7+8va9m7so6W2tazM+b6euvkaPVqZ57x2HlTzWqKE434h
/Qnz7tN7nfc6ZPFvEpgA9s+yzp5Go/GqefyeeSt7gmtJkiSpMvuLv5GTHCgr88T9s/3dvTT7Z/1b
fmmqaGe/ZFbRn1XlVrnv961dW2bsnWWGQf/0Z79kQr1foxX16Z0zzKy/i7uGHsADxssIrKI/jxLF
v4cA9wc+X/UvBEcWSZKkLnBkkRarY5Lapc1dMfu31txTZiwqepavd8/G4rIqaWfZmfPJW0DubP03
Z+wC+nc++QvdX3NlLnr/H/kFxWU9vTDp+iyOt/2L2fZu7KPFZM4nd8GZ8309dfE1eq/4Ms95x8gr
I7c0C+lPmFefNpvN42XuAw4D7TmMZh/CVDJHFkmSJKlv9MnkptPcc26N6W41RCtEjxaJpILnvGp0
pUjUZrFIkiRJKlGfFLSkMh1dLOhcrhWugnNe3Y+nrhaJ2iwWSZIkqY6O9Wak8/FeUEU7+2Xbq7Lc
fbrS+3M5iwWdj/dC5ly5K37fV6HGBfeeKBK1WSySJElS/fTLZT1VtLP8zLnehHeu13VVvBGt8Zvb
SvTTPupCoay9TtmZi8mtq/n2Z3vd+bgF+Ed6oEjUZrFIkiRJ0uJ1r/jUub60MvRHgbjeKujPRqNx
StmZS2WxSJIkSVLPcJSOJHVfZC74mykrFxHfByYqin8gcFtF2bo3+3t52d/Ly/5efvb58qqyvwcz
80EVZUuSJGkJerJYVKWI2J2Zw91uR13Y38vL/l5e9vfys8+Xl/0tSZJUT6u63QBJkiRJkiT1DotF
kiRJkiRJOqKOxaJ3drsBNWN/Ly/7e3nZ38vPPl9e9rckSVIN1W7OIkmSJEmSJB1bHUcWSZIkSZIk
6RhqUyyKiPMi4usR8c2IeF2327MSRMTDIuIzEfG1iLghIn67WH7/iPhURHyj+PljHc/5vWIffD0i
zu1e6/tXRAxExBcj4p+K+/Z3hSLifhHx9xHx7xFxY0ScbZ9XJyJ+pziffDUi3hcRa+3v8kTEjoj4
XkR8tWPZgvs3Ih4XEV8pHtseEbHc2yJJkqTq1KJYFBEDwFuB84HTgedHxOndbdWKcBD4H5l5OnAW
8PKiX18HfDozTwM+XdyneOx5wBnAecBfFPtGC/PbwI0d9+3vav0Z8PHM/CngMbT63j6vQEQ8FHgl
MJyZjwIGaPWn/V2eMVp91Wkx/fs24CXAacW/ozMlSZLUx2pRLAKeAHwzM7+VmfuB9wPP6nKb+l5m
fjczry9uT9N6E/1QWn377mK1dwPPLm4/C3h/Zu7LzG8D36S1bzRPEXEK8N+Ad3Ustr8rEhEbgKcA
fwWQmfsz8wfY51VaDdwnIlYD9wVuxf4uTWZ+FrjjqMUL6t+IeDCwPjOvydbEh3/d8RxJkiStAHUp
Fj0U+E7H/ZuLZSpJRAwBZwKfBzZm5neLhyaBjcVt98PSvRn4XeBwxzL7uzqnAt8HdhaX/r0rIk7C
Pq9EZt4CXArcBHwX+GFmfhL7u2oL7d+HFrePXi5JkqQVoi7FIlUoIk4G/gF4VWbu7Xys+NTZr9wr
QUT8AvC9zLzuWOvY36VbDTwWeFtmngncRXGJTpt9Xp5irpxn0SrSPQQ4KSJe2LmO/V0t+1eSJElQ
n2LRLcDDOu6fUizTEkXECbQKRe/JzA8Vi6eKyxQofn6vWO5+WJonA78YEeO0LqV8WkT8LfZ3lW4G
bs7Mzxf3/55W8cg+r8bPAd/OzO9n5gHgQ8CTsL+rttD+vaW4ffRySZIkrRB1KRZ9ATgtIk6NiBNp
Tdh5eZfb1PeKb7/5K+DGzLys46HLgRcXt18M/GPH8udFxJqIOJXWpKjXLld7+11m/l5mnpKZQ7SO
4Ssy84XY35XJzEngOxHxyGLRzwJfwz6vyk3AWRFx3+L88rO05kKzv6u1oP4tLlnbGxFnFfvp1zqe
I0mSpBVgdbcbsBwy82BEXAR8gta36+zIzBu63KyV4MnAi4CvRMSeYtnvA38K/F1E/DowAfwyQGbe
EBF/R+vN9kHg5Zl5aPmbveLY39V6BfCeotD8LeBCWoV2+7xkmfn5iPh74Hpa/fdF4J3AydjfpYiI
9wHnAA+MiJuBBos7h/wWrW9Wuw/wseKfJEmSVohoTU8gSZIkSZIk1ecyNEmSJEmSJM2DxSJJkiRJ
kiQdYbFIkiRJkiRJR1gskiRJkiRJ0hEWiyRJkiRJknSExSJJkiRJkiQdYbFIkiRJkiRJR1gskiRJ
kiRJ0hH/P6iMfyu1xibeAAAAAElFTkSuQmCC
"
>
</div>

</div>

</div>
</div>

</div>
<div class="cell border-box-sizing code_cell rendered">
<div class="input">
<div class="prompt input_prompt">In&nbsp;[56]:</div>
<div class="inner_cell">
    <div class="input_area">
<div class=" highlight hl-ipython3"><pre><span></span><span class="n">predclass</span><span class="p">,</span><span class="n">prob</span><span class="p">,</span><span class="n">_</span> <span class="o">=</span> <span class="n">nnet</span><span class="o">.</span><span class="n">use</span><span class="p">(</span><span class="n">X</span><span class="p">,</span><span class="n">allOutputs</span><span class="o">=</span><span class="kc">True</span><span class="p">)</span>
<span class="n">highest</span> <span class="o">=</span> <span class="n">X</span><span class="p">[</span><span class="n">np</span><span class="o">.</span><span class="n">argmax</span><span class="p">(</span><span class="n">prob</span><span class="p">[:,</span><span class="mi">1</span><span class="p">]),:]</span>
<span class="n">lowest</span> <span class="o">=</span> <span class="n">X</span><span class="p">[</span><span class="n">np</span><span class="o">.</span><span class="n">argmin</span><span class="p">(</span><span class="n">prob</span><span class="p">[:,</span><span class="mi">1</span><span class="p">]),:]</span>
<span class="nb">print</span><span class="p">(</span><span class="s1">&#39;Hi Alc  Lo Alc&#39;</span><span class="p">)</span>
<span class="k">for</span> <span class="n">h</span><span class="p">,</span><span class="n">l</span><span class="p">,</span><span class="n">n</span> <span class="ow">in</span> <span class="nb">zip</span><span class="p">(</span><span class="n">highest</span><span class="p">,</span><span class="n">lowest</span><span class="p">,</span><span class="n">Xnames</span><span class="p">):</span>
    <span class="nb">print</span><span class="p">(</span><span class="s1">&#39;</span><span class="si">{}</span><span class="se">\t</span><span class="si">{}</span><span class="se">\t</span><span class="si">{}</span><span class="s1">&#39;</span><span class="o">.</span><span class="n">format</span><span class="p">(</span><span class="n">h</span><span class="p">,</span><span class="n">l</span><span class="p">,</span><span class="n">n</span><span class="p">))</span>
</pre></div>

</div>
</div>
</div>

<div class="output_wrapper">
<div class="output">


<div class="output_area">
<div class="prompt"></div>

<div class="output_subarea output_stream output_stdout output_text">
<pre>Hi Alc  Lo Alc
0.0	0.0	subject
0.0	0.0	school
1.0	0.0	sex
15.0	16.0	age
0.0	0.0	address
1.0	1.0	famsize
1.0	0.0	Pstatus
4.0	2.0	Medu
4.0	2.0	Fedu
4.0	3.0	Mjob
2.0	4.0	Fjob
1.0	0.0	reason
0.0	0.0	guardian
1.0	1.0	traveltime
4.0	2.0	studytime
0.0	1.0	failures
0.0	1.0	schoolsup
1.0	0.0	famsup
0.0	0.0	paid
1.0	1.0	activities
0.0	1.0	nursery
1.0	1.0	higher
1.0	1.0	internet
1.0	0.0	romantic
1.0	3.0	famrel
3.0	1.0	freetime
5.0	1.0	goout
3.0	5.0	health
4.0	6.0	absences
13.0	10.0	G1
13.0	13.0	G2
12.0	13.0	G3
</pre>
</div>
</div>

</div>
</div>

</div>
<div class="cell border-box-sizing code_cell rendered">
<div class="input">
<div class="prompt input_prompt">In&nbsp;[&nbsp;]:</div>
<div class="inner_cell">
    <div class="input_area">
<div class=" highlight hl-ipython3"><pre><span></span> 
</pre></div>

</div>
</div>
</div>

</div>
<div class="cell border-box-sizing text_cell rendered">
<div class="prompt input_prompt">
</div>
<div class="inner_cell">
<div class="text_cell_render border-box-sizing rendered_html">
<h1 id="Bottleneck">Bottleneck<a class="anchor-link" href="#Bottleneck">&#182;</a></h1>
</div>
</div>
</div>
<div class="cell border-box-sizing text_cell rendered">
<div class="prompt input_prompt">
</div>
<div class="inner_cell">
<div class="text_cell_render border-box-sizing rendered_html">
<p>By forcing all information to flow through a very narrow layer, a small-dimensional representation of each sample can be obtained.</p>

</div>
</div>
</div>
<div class="cell border-box-sizing code_cell rendered">
<div class="input">
<div class="prompt input_prompt">In&nbsp;[57]:</div>
<div class="inner_cell">
    <div class="input_area">
<div class=" highlight hl-ipython3"><pre><span></span><span class="n">hiddens</span> <span class="o">=</span> <span class="p">[</span><span class="mi">10</span><span class="p">,</span><span class="mi">2</span><span class="p">,</span><span class="mi">10</span><span class="p">]</span>
<span class="n">plt</span><span class="o">.</span><span class="n">figure</span><span class="p">(</span><span class="n">figsize</span><span class="o">=</span><span class="p">(</span><span class="mi">12</span><span class="p">,</span><span class="mi">8</span><span class="p">))</span>
<span class="n">nnet</span> <span class="o">=</span> <span class="n">nn</span><span class="o">.</span><span class="n">NeuralNetworkClassifier</span><span class="p">(</span><span class="n">X</span><span class="o">.</span><span class="n">shape</span><span class="p">[</span><span class="mi">1</span><span class="p">],</span><span class="n">hiddens</span><span class="p">,</span><span class="nb">len</span><span class="p">(</span><span class="n">np</span><span class="o">.</span><span class="n">unique</span><span class="p">(</span><span class="n">T</span><span class="p">)))</span>
<span class="n">nnet</span><span class="o">.</span><span class="n">train</span><span class="p">(</span><span class="n">X</span><span class="p">,</span><span class="n">T</span><span class="p">,</span><span class="n">nIterations</span> <span class="o">=</span> <span class="mi">500</span><span class="p">)</span>
<span class="n">plt</span><span class="o">.</span><span class="n">subplot</span><span class="p">(</span><span class="mi">1</span><span class="p">,</span><span class="mi">2</span><span class="p">,</span><span class="mi">1</span><span class="p">)</span>
<span class="n">plt</span><span class="o">.</span><span class="n">plot</span><span class="p">(</span><span class="n">np</span><span class="o">.</span><span class="n">exp</span><span class="p">(</span><span class="o">-</span><span class="n">nnet</span><span class="o">.</span><span class="n">getErrorTrace</span><span class="p">()))</span>
<span class="n">plt</span><span class="o">.</span><span class="n">subplot</span><span class="p">(</span><span class="mi">1</span><span class="p">,</span><span class="mi">2</span><span class="p">,</span><span class="mi">2</span><span class="p">)</span>
<span class="n">nnet</span><span class="o">.</span><span class="n">draw</span><span class="p">(</span><span class="n">inputNames</span> <span class="o">=</span> <span class="n">Xnames</span><span class="p">)</span>
</pre></div>

</div>
</div>
</div>

<div class="output_wrapper">
<div class="output">


<div class="output_area">
<div class="prompt"></div>

<div class="output_subarea output_stream output_stdout output_text">
<pre>9.51571168544 0.000697202999757 141.723356009
5.71445329795 0.23723262436 141.723356009
</pre>
</div>
</div>

<div class="output_area">
<div class="prompt"></div>



<div class="output_png output_subarea ">
<img src="data:image/png;base64,iVBORw0KGgoAAAANSUhEUgAAAswAAAHWCAYAAABjdN96AAAABHNCSVQICAgIfAhkiAAAAAlwSFlz
AAALEgAACxIB0t1+/AAAIABJREFUeJzs3Xl8lOW9///XhyQkISRhlQDCDCKboiIEVzBY9wWXYo+l
x2MDWmtFbevxnPrtFuac9ndsVazY1qWIsdqqdS3iVq2AxZVFBBdwwYlsCTsTCCHLfH5/zD0wDLOG
TGaSfJ6PRx7O3Pd1X/dnxscDrlxc9/UWVcUYY4wxxhgTWZd0F2CMMcYYY0wmswGzMcYYY4wxMdiA
2RhjjDHGmBhswGyMMcYYY0wMNmA2xhhjjDEmBhswG2OMMcYYE4MNmI0xxhhjjInBBszGGGOMMcbE
YANmY4wx7YqIzBWRzSLyUbprMcZ0DjZgNsYY095UAuenuwhjTOeRne4CIunTp4+63e50l2GMMUlb
tmzZVlXtm+46OjJVfVNE3JHOeTyehQAVFRWTEukrmfap7NvaG5PZMnLA7Ha7Wbp0abrLMMaYpIlI
VbprMKatiEd8QCFAOeXBYxrSpFYrtKjtKzOmdWXkgNkYY4xJGTkwyHOVlwePBQd5tagN8JJQeJjn
jWkXbMBsjDGm/XMGwWED4GiD31iDuI45wBPxucrLC53X9suBMUmyAbMxxpiOINJAt2MOfh1VVE1Q
NMtZAhFv6UOn+36MaU2iqvFbtbHS0lK1NczGmPZIRJapamm66+jIROTx3NzcSxoaGvLz8/MbTz/9
9K++M3DgCIDqkhIASqqrAahyuxeFX+/yesuCr8PbR7vGMSa3vr64X01N89cu1+J4ddZTXwZQQ02z
i/jtc+sD7ZPtv5pA7W6i1o3L6y1L8rMmVL+XA99lCYH+g/UERaurnvqyBhqYxSxb52wyns0wG2OM
aVdUdarH4/kdMGb/Qa93RPoqik3RrGTaiybXPtWSrd+YjshmmI0xphXZDHOaOOtyK501zOWVlYHj
qhKtbcT20a4h+W3QpnumNymaVUllQjOoD0+f3iSqWeWVlQmtLQ7pH+ItyRDRZD5rovWH7ogR3CXD
qefALSpa5/s0Jp1shtkYY0xHUMuha3Jr01FIUHAZg1bopETa71+GoYm1T7L/pL+fZOs3piOzpD9j
jDHtn2oRqlLldi+qcrsXoSoxZmljDRTTOshOGdWisO8m1vdjjAljA2ZjjDEpIyIzReTWCMcHiMjT
LeyzXEQGtLgoZ3AdYYBtg8jkxfsFo2P+AmI6HVuSYYwxps2p6kbgihZeXg58BGxstYJMi4SubQ6u
SbYlHKYjshlmY4wxSRGRAhF5UUQ+FJGPRORKEfGKSB/nfKmILAy55AQReUdEPheR7zlt3CLykfM6
S0TuEJElIrJSRL4fcq+fiMgq5163i8gVQCnwFxFZISL5bffJjTGdlc0wG2OMSdb5wEZVvQhARIqB
38RofzxwClAAfCAiL4advwbYparjRSQXeEtE/gGMBC4FTlbVOhHpparbReRG4FZVte2UjDFtwmaY
jTHGJGsVcI6I/EZEJqrqrjjt/66qe1V1K7AAOCns/LnA1SKyAngP6A0MA84GHlbVOgBV3d6qn8IY
YxJkM8zGGGOSoqqfichY4ELgVyLyT6CJA5MweeGXxHkvwE2q+upBB0XOa6WSOz3xiK+c8kLnddwo
7WTbG9PRxQ0uEZG5wMXAZlUdHeG8APcQ+IOzDihX1eXOufOdc1nAHFW9PZGiLLjEGNNedYbgEmeH
iu2qWi8iFwPXAt2Bu1T1ZRG5GzhRVSeJyEzgMkKWZDivuwLzVXW0iFxH4O+Qb6lqo4gMBzYAE4Ff
AmeHLcl44dJLL9134okn9gmvLRgvvS8vL2rkc5hgWuCKVm6bdPtko7FJIqrbi7csPLo6VpR2su2h
ZVHgXRsauGXWrISCWoxJp0SWZFQSWK8WzQUE/ulsGHAdcB8EHuIA/uCcPwaYKiLHHE6xxhhjMsJx
wPvOEooK4FeAB7hHRJYCzWHtVxJYivEu8L/ODhlwYKZ5DvAJsNx5EPABIFtVXwHmAUudewW3p6t8
/fXXvzF79uzShoaGw1pa2EhjXiON4TPiMdtvY5s7Ve0h+WjsDhClHR6oYkzGibskQ1XfFBF3jCaX
An/WwFT1uyLSQ0T6A27gC1VdCyAiTzhtPzncok1q+P1Kk19p9iv+OP/ykEigeiKx6/FaZGByu+kk
uggU5uWku4yM5CydeDXCqeER2s6M0k1vYLvTxg/81PkJv/524PawY88Az0TqNNm45WTaezyehTnk
MLtidsJ9J9M+LBo7oXr61dRMKK+srIvXXjyi4dHVsbZ/S7Y9HBKlHbf+4OfF9mo27UBrrGEeCKwL
eb/eORbp+MmtcD8TZtfeRtZtr2Pd9jq+3l7Huh11bNpZz56GJvY2+qlvaGZvYzONzf79A+KmZj9+
hSa/P/DerzY4NSaEu3c3Fv7Xmekuo0MSkVLgr8Bt6a4lkyQbjb3/msTah0djJxI4kkz7lEeBG5NO
GfPQn7OG7TqAwYMHp7mazNXsVxZ/sZV/fbaFT6t9rN5Uy7Y9DQe16dEthwHF+XTPy6ZHfg75RXnk
5XQhNzuLLl2E7C5CVvC/WUKWBI91ITtL6CJCVgL/yClI/DbxmyTQRyt0YkySivIy5o/HDsfZDu6Q
2WiTOlqhRckEiyTb3piOrjX+RtgADAp5f6RzLCfK8YhU9UHgQQg89NcKdXUoW3fv46HFX/Hs8vXU
+PaRm92FESWFnD2qH0cf0Z1BvfIZ1Ksbg3p1o8j+GdkY0wGJSDlQqqo3tkJfXqB05syZh9uVMaYT
aI0B8zzgRmeN8skENp/fJCJbgGEiMoTAQPnbwHda4X6dit+vzFm8lj8s+JLd+5qYNLwvMycfyTdG
HUFudkY952GMMcYY0yHFHTCLyOPAJKCPiKwn8ER0DoCq3g+8RGA7oC8IbCs3zTnX5KQxvUpgW7m5
qvpxCj5Dh1Xf2MyPn1zByx9VM3FYHyomH8PRR9jDxMaYjkVECoC/EfiXyCzgf4G1BLYlLQD2AWc5
zQeIyCvAUOA5Vf1vp4+pwE979ux51JAhQ7ZVVFQQepzAXs8vqupPEq7LIz5C1vEGH4Jz9iUOZ/sU
G9OBJbJLxtQ45xWYEeXcSwQG1CZJO/Y0cO2fl7Ksagc/v2gU1048Kt0lGWNMqkSK2v4AuFJVl4hI
EbDXaTsGOJHAIHqNiNxLYBu73wDjbrzxxqcfeuih40XkMuD94HFgB/APEblMVZ9PsK5kZihaNJsR
OiiPMSC3wbgxaWbR2BnIu3UPU+57m1UbdvGH74y1wbIxpqM7KGobGAxsUtUlAKrqU9Ump+0/VXWX
qtYT2KbUBYwHFqrqlqysLD322GNrgDNCjzvX/8U5nkkSGWgf1EY84hOPqBdvmRdvmXhEnR9fimo0
ptOzx8AzzKr1u/j3Oe+S1UX4y7UnM97dK90lGWNMSoVHbQNvxGi+L+R1My39e6yYwVzHFi9eoN3F
P0cbZKdvzZ6Iz1UeiNJGAt+lpfeZjiRuNHY6dNZobFVlyn1vs2HnXp6+/jQG9eqW7pKMMUnqDNHY
rS1C1PYNwEgOLMkoJLAk4yqcXTI8Hs/v5s6d+x+nnXbaun79+tXNmTNn7CU3XJI9KH9Q1pOPPsnQ
k4f6j+t33Htz5swZe/311y8rKChofOihh04YP378+jFjxmy74+47yiZfNxl3gRuIHP/sxVsWWmd4
VHS4CNHRcaOxQ+8Rq/9IdUVqHyu+Otno6mTau7zesuqSQD0l1YF6qtzRa6miakI/+mU10MAsZkH7
+WXFdFI2w5xBXv90M8u/3snt3zzOBsvGmM7kOOAOEfEDjcAPCDykd6+I5BMYLJ8d7eKePXs2lJWV
rX35kZdHZWs2Q4cPZfDIwV16Ejg+d+7cEwAZMmTItjFjxmxriw8UlFtfX9yvpmbC/pCODJBsdHUL
oq5b0qc90W4yms0wZ4hmv3LBPW/S1Kz848dnkJ1IcogxJuPYDHP6iEd85QSWBTjxzFFnLIMP1kWI
f5bwNkHhbcOFXguB6OrBVVUTpj38cF205Qmh94jVf6S6IrUPryFUWHR13NncpNqLaGV5oJ7ySqce
jV5LlOhtS6kyGctGZRniuQ828FnNbm49b4QNlo0xpgW0QovcuBe5cS9KYEAYKeo5bvxzspzo6oxY
auDCtTjB76Yl7cO/u0Sit5Npb0xa2cgsA+xraubu1z7juIHFXDC6JN3lGGNMh6cVWqQVKiEDbGlH
a2ijDS7TN+hULapyuxdVud2LUJV4vySE/XLTnr5700nZGuYM8Nf3vmbDzr3cPuU4ROxfpIwxphOp
Jf763YMGwsHBpcfjWei8n5SKwowxB9iAOc0amvzcv+hLTh7SiwlH90l3OcYYY9pQ6MyqDYCNyVy2
JCPN5n24kRrfPm4482ibXTbGmDAiUiAiL4rIhyLykYhcKSLjRGSRiCwTkVdFpL+IZIvIktWrV/dw
rvs/Efn1Yd4+mSUOmbcGV8SHiAZ/XF5vmcvrLQs95vxY4IkxcdgMcxqpKn96cy0jSwo5Y5jNLhtj
TASRYrNfBi5V1S0iciXwa1WdLiLlr7zyyvt+v/8L57qTD+lNDkRRA7icnR2csI2gWlSLtEKLQqOr
Y8jUPYQT3arNtnQzJg4bMKfRgjWbWVNTy13fOsFml40xJrJVwF0i8htgPrADGA285vy5mQVsAlDV
j0877bSaZ5555jhgnKo2ROgv2SjqpKOrkxIygI81eG9x/5mms31e02HYgDlNVJXfvrKGwb26MfmE
AekuxxhjMlKU2OyPVfXUSO23bNlS0LVr16a9e/ce0ZZ1HuLQqGiIPBiMN9juaLO/ne3zmg7CgkvS
5O0vt/KdP73Hnd86gSvGHZnucowxrcSCS1pXlNjs4VdcccXS0aNHlzQ1NUl1dXX+kUceWbd50aKJ
r3m9XSafcw5/eeIJrv7+998qKChoCu3P5T047jo8zjkoGOvckujq4H0i9R0eFx1aT7xaIogZvZ3o
Z412j9z6QDR2v5qa5gSTCuNGgYd/3q4NDdwya9bBjWIEnhiTLjbDnCYPvrmWnt1yuPj4/ukuxRhj
Mlmk2OymBQsWzH/jjTd6+P1+KS0tXV9cXNz4zLJlXcqvuooeRUWcNXIk8+bNO3rq1Kmr01t+amU3
NuY15eSk9B6iiUdjN9KYl0Nq6zEmHWzAnAbLv97BwjVb+Mn5I8nLSfjPIWOM6XRU9VXg1QinDvmn
uTvvuksr6+qgro7b3n8fVA9Ngjp4vSyHxDkfuPEkSCq6elL4fSL2rYe2S7SWcB6PZ2GRz+e+afbs
iOcT/qxR7lE5bZrubx+lhvB6fPjcsyui1BNWU7AeY9oD21YuDe795+f07JbD1ae60l2KMcZ0JLVR
XndY23v39qaqbxVpdl4m/F32JnX1GJNONmBuY5/V1LJgzRaunXgUBbk2wW+MMa3m4HjmdO+0EGmQ
2a4G8V+7XIsz5Ls0Ju1swNzGXvhwI10E/q10ULpLMcYYkyoHD97F+Yk08Iw3iG5Xg+wEdLbPazoI
GzC3sYVrtlDq6kXfwtx0l2KMMZ1RIgOyZJd2tHyQp1oUHFBHGGBHG2S3X53t85oOw9YEtKH6xmY+
3eTjujOOSncpxhjTOYUNyKo8noXO8UkRm4ck+Hmctoc84Je5aklsX2Ob1TUmDpthbkOrNuyiya+c
OLhnuksxxph2Q0SeF5FlIvKxiFznHLtGRD4TkfdF5E8i8nsAn8+X88gjjxwrIkucn9PTW30ahczm
xpjRtVldYxJgM8xt6O0vtiECpS4bMBtjTBKmq+p2EckHlojIi8AvgLEEZkffAD4EeOGFF44+9dRT
169du3a8iAwmsCXdqMO6uxPnnDFRzqmsx6KrjYnIBsxtRFV5/dMajh9YTM+Crukuxxhj2pObReRy
5/Ug4D+ARaq6HUBEngKGA6xbt67ntm3bCkQkmDZXJCLdVXX3Ydw/1rKGdEQ5p7Iei642JgJbktFG
nl+xgVUbdnHl+MHpLsUYY9oNEZkEnA2cqqonAB8AUdP7VFWuv/765ao6xvkZGGmwLB7xiUfUi7fM
i7dMPKLiEV/KPkhHJ+Jzeb1lLq+3DBF1ZqqN6TBEVeO3amOlpaW6dOnSdJfRauoamjjjtws5smc+
z/7gNLp0kXSXZIxJERFZpqql6a6joxCRS4FrVXWyiIwEVgDX5Ofn3zdjxoyV+fn5zXPmzDmhT58+
e6ZMmfL5U089dVpJSUnzxIkT3wOoqqrq7nK5Dhkwe/GWAZQQCAOsphoAN+5F4W1d3kDb6pJA25Lq
6oPOV7kPvcYxxvnviijnW9T+cOrJra8v7ldT0/y1y7U4Vt/J9u/yesvC28eoY389wO6KiopDUhuN
yTS2JKMN/G3JOrbu3sf9V421wbIxxiTnFeB6EfkUWAO8C2w48cQT33/wwQdPy83NberVq1ddbm5u
E8CFF164d/78+fmzZ88u9fv9MnDgwF0ul+uzdBWf3diYV+TzuVOZyGeMST0bMLeBF1dtYlT/Ikrd
vdJdijHGtCuqug+4IPy4iCxV1d0ikr1ly5bngLlLlix5zuPxLLzyyiupqKiYFKtf8QQeZCunHIBK
KgP3i7RlnPPQW6XzEFx5ZWV4kRHv5fF4Fjbl5HDT7NkxawltD8St/XDq2ZeXx7S5c6P3H/KAX1L9
i+gh7aPUEVpPrPPGZBJbw5xiW3fvY2nVDs47tl+6SzHGmI5kpvNg30fAV8DzSV7f7qOrM0z4d2ff
pelQbIY5xf75aQ2qcO4xJekuxRhjOgxVvfWwrncCSdphGAnEDiRJz0BVtSheCIwx7ZnNMKeQqvL4
++tw9+7GqP62E48xxiRLRMqDoSQRzh3OVnHJiDUIbfsBqhNIkqJo6Xifx2aOTadkA+YU+nijjxXr
dnLNxKMQsYf9jDEm1Zqbm1v/D9vUDlAzS0g6YKf4vMYkyAbMKfTOl9sAOPcYW79sjDGRRIm9nhaM
vQZOD2k7RETeEZFVIvKrkOOTRORfIjLvnnvuGe8cu8qJzV4hIg+ISJbzUykiHzl9/BhgwYIFA0Xk
ExFZKSJPtPFXYIxpB2wNcwot/mIrR/UpoF9RXrpLMcaYTBUp9toDjAN2AQsIhJUA3APcp6p/FpEZ
Yf2MBUbfcsstD2/cuLEbcCVwuqo2isgfgX8HPgYGqupoABHpAVy6ZMmSwUCRqu5zjrWtTIveTiWL
3jbtlM0wp4ivvpF3vtzGWaOOSHcpxhiTyW4WkQ8J7K8cjL1eqKpbVLUBeDKk7enA487rR8P6eV9V
vwL47LPPehIYcC9xdtI4CzgKWAscJSL3isj5gA+gd+/ee4C/iMhVQFMqPmQcmRa9nUoWvW3aJRsw
p8j8DzfR0Ozn/NH9012KMcZkpGRjrx3R4mn3hL1/JCQee4SqzlTVHcAJwELgemAOwLRp01YCfyAw
S71ERDr9v76KR3xhseEWHW46NYvGTpGLZv8LVXjx5gn2wJ8xnYhFYycuSuz1NOB2AoNXH/AG8KGq
3igi84C/qepjp5122j+XLFky6ec///m/Vq9e3ePtt98edNb0s4r70S9r6+atPPnEk1z73WvfLi4u
bty9e3d2fX19Vm5urj8rK8vfrVu35vXr1xc8++yzo/7ze98r2LVrFyP37WteO3DgW7NmzTplxowZ
SwoKCiLNNCcVdZ1bXx+I366uRkXixlEnG3WdaP9B9QTaV1ONIM0uorf34i0Ljw2HyNHh4f3XUBO1
7/Do7a4NDdwya9bBjVTtL02TcTr9b9GpsHHnXj7e6OP/XTDSBsvGGBNdpNjrTcBM4B1gJwcPTn8I
/FVEfjJ69Oi68M4UzQLoc0Qfxn5jLI888sgJAF26dNELLrjg85ycnOa///3vI9UZkJ155plr1e8/
7sn582navTurTqR0zJgxG6IMlgFopDHPh8/dm+SirkUDtaVKsv0Hv6tUSGXfxqSLDZhT4I3VmwFs
/bIxxsQQLfaawJKJhyO0/wo4NVp/4hFfOeWFAItGL6rVpw59eOyhhx466P3D06c3zTz77Kzyysq4
D5t5PJ6FOeQwuyKxqOuHp09vEtUsJyq6NmqgRwujrhPu3zHNMy1wn1gx4MGSPKLhseHxrpnumd6k
aFYllbVR20WI3jamPbABcwq8sXozg3t1Y2jf7ukuxRhjOg2t0KJkk/v2L2NIQTpdKvtuSf+CNIfM
/iYSUBL+AF7Ma4LLMNpZaqIxCbEBcytTVZZ8tZ1Lxgyw5RjGGGMyRjID2pb88mFMR2a7ZLQy394m
avc1MaRPQbpLMcaYjCYiN4vIpyLylxT0fYmI3Nba/aZIZkVvp5ZFb5t2yQbMrWzDzr0ADOiRn+ZK
jDEm490AnKOq/97aHavqPFW9vbX7TQmL3u64n9d0GLYko5UFB8wDbcBsjDFRicj9BMJEXhaRx4DL
gDxgLzBNVdeISLlzvAAYBtwJdCUQbrIPuNBJCbyZwL7KTUcffXTJVVdd9YlzbamzHV3oThsjgPOB
pcC9ffv2Hev3+2XmzJmXqurf2+CjZyRnj+WD1iwHH/oTj0Taf7ZWK2xwazoPm2FuZRt2BHY6shlm
Y4yJTlWvBzYCZwL3ARNV9UTgl8D/F9J0NPBNYDzwa6DOafcOcLXT5jbgRFU9/vLLL/8swr3GqOoY
4BcEBspvAz8D3pgxY8by6dOnfwjcISKZv5ZOxIeIIqIur7fM5fWWBd+H/LQkYCTZhD1L5DOdis0w
t7JPNvno0S2HPt27prsUY4xpL4qBR0RkGIEkv5yQcwtUtRaoFZFdwAvO8VXA8c7rlQSirZ+/7bbb
IqZxOX3fAZypqo0ici5wyezZs91Ok+3AYODTw/40gQFroSu4bZocNEMbd/u6OBIZqGb2YDb693O4
340xKWMzzK1sqXcHpa5etkOGMcYk7n8JDIxHA5MJLM0I2hfy2h/y3s+BSZ+LuJoLOIVH75tz34S1
zWvLuJSHKeU6ABHpDvwN+J6qbnKuEWDKzTffvPTmm29eqqqDVfXwB8sBsQasmT2YbRvRvgP7bkzG
smjsVrRuex0Tf7uAn104iu+dcVS6yzHGpIFFYydORLxAKfAn4DFVfUZEZgLlquoOXYcc2l5Vt55x
xhn/2Llz57GXX37559u2bcvb03fPyf5mP8/e/SzXzriWJauXsG3jNr590bcXPfroo8cceeSRu848
88wNwXu/8MILQxoaGrKnXnjhABGh/pNPmmXs2JjR0iQYjd3SqOuWREtH6j/GPaLW7+VAv0GRorFD
RYjJTvr7OSQa22KxTYayJRmt6MVVgYmL80eXpLkSY4xpV35LYEnGz4EXk7nQ7/fL008/PWqf7gOF
cSePIy//wAT11q1bc7/88su+O3bs6LZq1ar+AJMnT15z3nnnVT3//PNH3zN3LqpK/7y8rMvHjo17
v+zGxrwin8+9vXdy0djJSGW0dD31xTXUTIg2IM/0/o1JF5thbkUXzf4XOVldeH7G6ekuxRiTJjbD
nB7BnRzC45y1IvaMZUi8dELR2AAVFRWTYhcTN+o6Yk1h0dKRa4kQLX1I/1Hu4fF4FlZRNeFhHq4L
7z/SThiRorEPukXYdxur/0ifIWL9NsNsMpStYW4lX23dw8cbfVx8fP90l2KMMSZBX7tci529gNP+
sJkL12I37kWp3K7NhWtxe+7fmHSxAXMrmf/hRgAusgGzMcakQ6SEOEuNy0zR/r/Y/y+TsWzA3Ar8
fuXp5es5aUgv+hfb/svGGJMIEWkWkRUi8pGIPCUi3WK0/VGs81qhRVqhsvaNtV/239f/X1qhksaZ
zs4UdZ286MmGNjNtMpYNmFvBPz6ppmpbHVed4kp3KcYY057sdUJFRgMNBNL6ovkREHXAHLR8+fIj
GxoaUvbQXEJSG3WdyIDbBuXGtDIbMLeCe9/4gqF9C7jQdscwxpiW+hdwtIgUiMiLIvKhM/N8pRN9
PQBYICILAETkPhFZKiIfi4jHOXZzXV1d17lz554Q0m538AYicoWIVDqvvyUiH82ePbv0/vvvHxNe
TMZyBuMxBuQtHZQnO8i2QbnpVGxbucP0yUYfH2/08T+XHkt2lv3+YYwxyRKRbOAC4BXgfGCjql7k
nCtW1V0icguBlL6tzmU/U9XtIpIF/FNEjlfV2YWFhb+dPn36h3feeeeZcW77S+C8m2+++S979uzp
9H8XRlq+EtwVRCt0UlvXY0ymsRHeYZr71lfk5XRh8vED0l2KMca0N/kisgJYCnwNPEQg8vocEfmN
iExU1V1Rrv03EVkOfEA+ZzCFD8Ujqlmau6HLhtPEIyoeUXIoiHL9W0Dl4sWL+/v9/lb/YMaYjqXT
/1Z9OJZ/vYNnlq9n+ulD6FnQNd3lGGNMe7NXVcOXQ3wmImOBC4Fficg/VfV/QhuIyBDgVmC8qu6Q
MaI0RbnDwbv67k80UdXrReTkXbt2PfnAAw+U3nXXXb1Vddthf6IOQjziK6e80Hkd3KM54v7Q4hEf
UBjctzlee2Pao4RmmEXkfBFZIyJfiMhtEc73FJHnRGSliLwvIqNDznlFZJXzJHT7SyOJ4c9veynK
y+HH5wxPdynGGNMhiMgAoE5VHwPuAILxe7VAofO6CNgD7BKRfnxx4Pqc3BwaGxoPHCgAERklIl2A
y0PuM1ThtRuOPdbVJzc3dylUxautiqoJXrxlzuy1L177wVVVE1xebxkiisRvn2EKEzzWkuPGtDtx
k/6c9WGfAecA64ElwFRV/SSkzR3AblX1iMhI4A+qepZzzguUhqw7i6s9JP3VNzZT+qvXufC4En57
xQnpLscYkyEs6S9xIrJbVbuHHTuPwEDZDzQCP1DVpSJyE3AjgfXNZw4ZMuST7du3u7t3774vuyi7
x6ARgxh24jDWv7ee5e8vp2thV84vPx/vx16WvbKsPj8/v7Ffv361DQ0NWVOnTl39yCOPHNuwY0ef
puxshrpcXDt6NF8PGbIoVr311JcBVFMNgBt3zPa59YH2JdWB9lXu2O2BMbn19cX9amqav3YlFC2d
dPtGGvN0sBGFAAAgAElEQVRyyHk3XkMv3rISAg+yBz8vRP7MXryBz5lg+6B66ssaaGAWs2wm2mS8
RJZknAR8oaprAUTkCeBS4JOQNscAtwOo6moRcYtIP1Wtae2CM8XCNVvYva+Ji23tsjHGtEj4YNk5
9irwaoTj9wL3Bt+Xl5f/AxgDBwZsAKUnl1J6cumBQe2xbiYdO+m98P6++93vfuzyesuqSwKDPKmu
Dm9i2o7NRJuMl8iAeSCwLuT9euDksDYfAt8E/iUiJwEu4EigBlDgdRFpBh5Q1QcPu+oMMH/lRnoV
dOW0ob3TXYoxxnQ6FRUVPwq+DlkzS3AdbSWV+9tG3eVBxFdZHlinW15ZWYvG3g1iumd6k6JZTt+1
8XaPeHj69CZRzSqvDLSP17/H41m4Ly+PaXPnxmx3OO1zyKGioiJue/GIJvpdBr//pL57Dnyf2BZ1
ph1orYf+bgfucZ52XgV8ADQ75yao6gYROQJ4TURWq+qb4R2IyHXAdQCDBw9upbJSo66hiX9+upkp
4wbaVnLGGNNeqRZVOVunxRvMArgILHtIdJu1/cskEug7A4WuGQ891mqS/T6NSadERnsbgEEh7490
ju2nqj5VneY87Xw10BdY65zb4Px3M/AcgSUeh1DVB1W1VFVL+/btm/QHaUtvfbGNvY3NXDC6f7pL
McYYY1HUrU4rtMiNe5Eb9yInZjxW1Hi079i+e9NhJDJgXgIME5EhItIV+DYwL7SBiPRwzgFcC7yp
qj4nsanQaVMAnAt81Hrlp8cbqzfTPTeb8e5e6S7FGGM6JBFREXks5H22iGwRkfnhbbVCi4KDuvBB
HjNZLiL2EGYKBb//JAbYxrQ7cZdkqGqTiNxI4CGMLGCuqn4sItc75+8HRgGPiIgCHwPXOJf3A54T
keC9/qqqr7T+x2g7qsrCNZuZcHQfumbbcgxjjEmRPcBoEclX1b0EdmraEOcaY4xJiYRGfKr6kqoO
V9Whqvpr59j9zmAZVX3HOT9CVb+pqjuc42tV9QTn59jgte3Z55t3s2lXPWeOzOxlI8YY0wG8BFzk
vJ4KPB484fwL5lxn7/8PRORSgIaGhi6PPfbYMSLyqYg8B+SHXLM75PUVIlLZJp/CGNPuWdJfkr7c
HPjzdvTA4jRXYowxHd4TwC+dZRjHA3OBic65nwFvqOp0EekBvC8ir0+cOHFAdnZ2s6qOEpHjgeXp
KT0zBFP44MAuFqG7imBpfMYkxAbMSVq/Yy8AR/bsluZKjDGmY1PVlSLiJjC7/FLY6XOBS0TkVud9
HjB43bp1PU4++eT1IdevbKt6M1S8PY4Pew9ki8Y2nYENmJO0fkcdhXnZFOfnpLsUY4zpDOYBdwKT
gNCN7wWYoqprDhwR39jm5sLBO3f2RsSHHjJYC51ZzUu2kCqqJiia5QwIW30wOLiqaoKoZhF4Hqg2
Qv1tKol6LBrbdHhxo7HTIZOjsa+pXMLGXfW8/MOJ8RsbYzodi8ZuHcHYbBE5Evimqs4WkUnArap6
8ejRo9/v0qXLwG9+85ufiwhVVVXdz1Ad99TXX7N561ZmjB3LW9nZSx966KHSq6++evmQIUNq77rr
rpOnTp26qqSkpO7RRx89tmvXrs1Tp04NDpxXxKsp2WhsnCTCRPqG5KO0g/XUUNMc3NM4XGgKYqTo
aoj+ORKtp6XR2Ln19WVdGxq4ZdastP9yYEw8NsOcJO+2PQzte0iaqzHGmBRQ1fXA7PDjkydPfm/e
vHlTZs+eXaqqUlRUVH/GN77BKSeeyNMvvcRPn3uOvF693H369Nm/F/CkSZPWPv7448fl5+c39uvX
r7ahoSEru7ExD6ApJzX/apjd2JhX5PO5t/fu7U3JDQAnLa89s5lok/FshjkJjc1+Rv3iFa474yj+
+/yR6S7HGJOBbIY5jQ6Nuo47a+lxkv4SiYue5pmmcCD6WStUWqtvgMppgf6dKG3Q2P2HRHVHXR4S
LzYcon+OROuJE40d9TOERIfbDLPJeDbDnISqbXto8itHH2EzzMYYk3GSjLpOliDNIbO5rZ5ipyLN
oon3n+po6WTrSVY7jw43nYwNmJPwhbOlnA2YjTGm80n1ADXTBpBJ1FNL5GUVFo1tOgyLqkvCZzU2
YDbGmLYgIs0isiLkx53otY8//vhIEbkiddW1K/EGrYc9qLVobNMZ2AxzEj6rqWVQr3y6dbWvzRhj
Umyvqo6J38zEEjpoDa6pTtUMuTEdmY38kvBZTS0j+tnDvMYYkw4ikgXcTmBP5lzgD6r6gIgIcC9w
zsCBA4/o0qWLP+QaL1CqqltFpBS4UzNkyYMxpv2wJRkJamjys3bLHobbgNkYY9pCfshyjOecY9cA
u1R1PDAe+J6IDAEuB0YAx1xxxRWf1tTUFKepZmNMB2UD5gR5nR0ybMBsjDFtYq+qjnF+LneOnQtc
LSIrgPcIJP8NA84AHlfV5p49ezYMHDhwR9zeRXyIqMvrLXN5vWWIKCK+VH0YY0z7ZksyEvRZTeC5
CBswG2NM2ghwk6q+etBBkQtjXNPEgcmh0DjsSH+YR/8DXsTncvZ4dqKiIVZc9OG3b9W9icUjvnIC
/acq2ju5glL7eY1pbRZckqBfPP8RTy9bz4qKc8jNbu+hSsaYVLHgktYRjMYOO3YdcCHwrZkzZ96x
adOmU3v27Lnvk08+6bV8+fIB06dPX7l79+4T//jHPxaec845n44bN27Ln/70pxNOOeWUdccdd9z2
5557bujmzZsLv//9769weQNxztUlgTjnePHPLq+3LLxtqtvHi8YmiehtL96y8Ojq1o72Do0OFyRq
XDcc+LxONHbgYJygFmPSyWaYE6Cq/OOTasqG97XBsjHGpM8cwA0sv+uuu/oXFhZmXXXVVR+deOKJ
W7/66que99xzz0l9e/bMHzxgwP4LysrKvPPnzx+xaNGi5kGDBu1MV+GpUk99cQ01E2INTtOhA8R1
G3MQGzAn4Mste6jx7WPSiL7pLsUYYzqF8Nll55gf+Knzc5CZM2cCgbhlgGlz5x4b8wbOMonK8nLg
oPjnSdHaH9I21e3j7Obh8XgW1lAz4WEerou3VZx4RMOjq+Ndk2y0d4To8OjXhXxeY9oDGzAnYIl3
OwAnDemV5kqMMcbEsj+drv0JT8tLKFDEhWtxgvsqt6j/ZCQZHZ7yeoxpTbZLRgLeWL2ZkqI8hvQp
SHcpxhhjWkekAVqsQVtq26sWVbndi6rc7kWoSms/AKcVWhSWxNfqD9i5cC1OuP8Uf15jWpsNmONY
t72ORWu2cNHx/QnsjW+MMSbVRERF5LGQ99kiskVE5jvvLxGR2+L0URk1Ilu1CFVJeNB26ACvddsb
YzKaLcmI4yfPrCQ3pwvlp7nTXYoxxnQme4DRIpKvqnuBc4ANwZOqOg+Yl67ijDGdi80wx/DpJh9v
f7mNH541jEG9uqW7HGOM6WxeAi5yXk8FHg+eEJFyEfm989otIm+IyMoHH3zwhK1bt+aG9HG2iCwV
kc9E5OK2K90Y05HYgDmGVRt2AXD2qH5prsQYYzqlJ4Bvi0gecDyBdL9I7gUeUdXjR48eXTN//vxh
IefcwEkEBt73O30ZY0xSbMAcw+pNteTnZDHYZpeNMabNqepKAgPeqQRmm6M5FfgrwEknnVSzadOm
4pBzf1NVv6p+DqwFRqaoXGNMB2ZrmGNY/vUOhpcU0qWLPexnjDFpMg+4E5gE9G7B9eFxtpkXb2uM
yXg2wxzFinU7WbFuJ5eeMCB+Y2OMMakyF/Co6qoYbd4Gvg2wZMmSfv379w9N9PuWiHQRkaHAUcCa
1JXacuIRnxdvmRdvmXhExSM+q8eYzCGqmffLdmlpqS5dujStNTyw6Ev+7+XVLP/FOfQq6JrWWowx
7YeILFPV0nTX0d6JyO7wtD8RmQTcqqoXn3HGGf/YuXPnMVOmTPli69atuc8+++zI+vr6nMLiwoIL
L72Qfj36LXr88cdHZmdn+2tqagobGhqyzjrrrC9POOGEbaF91lNfBpBH3qIEyhqTW19f3K+mpjnB
gJQxTnR1c7zoai/eshJKAKimGgA37ng1Jdx/sH12Y2NeU07Ou/EatqSe3PrAd5no95NbX1/WtaGB
W2bNqrUt90ymsyUZUXy80ceA4jwbLBtjTBpEicZeCCwE2Lt3b15+fn4TQJ8+ffZdd911H8KBATDA
1KlTV7dJscaYDs8GzFF8usnHMQPsF15jjMk0InI90BM457333vs89JzH41kIUFFRMSmRvpJp7/F4
Fu7Ly2Pa3LkJ951HHnMr4rcXj/jKKS8EqKQSoDZe5HUy/QfbN+XkJPRZxSNaTjkh9ZBIPUBS38++
vDzQhKK9jUkrW8Mcgaqybkcdrt4WhW2MMZlGVe9X1eOcnS86hLaIrk5SeIx3rBhwYzo8GzBHsLOu
kfpGPwN65Ke7FGOMMabNZeAA3pi0sgFzBBt37QVgQLHtb2+MMekgIs0isiLkxy0ipSIyO9Z1L730
kvv1118f1FZ1GmM6B1vDHMGmnfUA9LcZZmOMSZe9qjom7JgXSO8WSsaYTslmmCOwGWZjjMk8IjJJ
ROY7r3uJyPMislJE3hWR44PtNm/eXCAi74jI5yLyvfRVbA4i4kNEgz8ur7fM5fWWhR5zfmzPZ5Nx
bIY5go0768nJEvp0z013KcYY01nli8gK5/VXqnp52HkP8IGqXiYi3wD+DIwB2Lp1a3fgG0AB8IGI
vKiqG1tcSWAAV+gqLw++Dw0w6FB7CDsBJYUAwV0yxHPw5z2M9cyFrdzOmDZjM8wRbNq1l5LiPIvE
NsaY9NmrqmOcn/DBMsAE4FEAVX0D6C0iRQBDhw7dqqp7VXUrsAA46TBriTWA62iDu3ifp6N9XmMS
YjPMEWzaWU//Ylu/bIwx7clOWP/dffsKFQKzwgdmfjMv0raNhe7z7MwYH85MsTGdjkVjRzDhN29Q
6urJ7759YtpqMMa0TxaN3TriRWOPGDHig169evU4//zzq1avXt3jtddeG3rn5MndH/v8cz75/HM8
557Lmn793rr//vtLr7322uU9e/ZsCL/H4KqqCTX9+mVB7Dhnl9dbBlBdEoiKLqmuPuh8lTtqZHRS
0dXBlMJkoq6d/66I2YrEo669ePcnJYa3D4oRkR2znuD3GFRdUoITjX1oY1X7J16TUWyGOUyzX6ne
VW87ZBhjTGZSgAsvvPDd559//luzZ88uzc7O9l922WWraW4uBSjp25ffvPoqW/btG3vqqadWRRos
A4hqVqTXrV9wcn0n294Yk3o2YA6zdfc+mvxqoSXGGJNG4bPLjt7AdoC77777B3ffffcPDjor4qM8
sOygvLIy/sN4Ir7Kg9tPitJOASqdh/7KKyvDi414ncfjWVhDzYRKKuvixUoDTPdMb1I0q5LKuLHY
wf4hsVjvRKOuQx/wC28fFK22uPUc/LDk/u/TmPbAHvoLs3GnbSlnjDGZRkQuAX4NPBC1kWpRldu9
qMrtXpTQzhXJtm8BF67Fia4VduFa7CTrpaIWi7o25jDYgDnMpl1OaIk99GeMMRlDVeep6khVfTvd
tbRHFnVtzOGxAXOY/TPMPWyG2RhjDBB7NrajzdTG+zwd7fMakxBbwxxm48568nOyKM7PSXcpxhjT
6YiIENjByZ/uWvZzlmtUOWt0o6517gBCZ56Da5ITWU+doFoS28fZBuUm49gMc5hNu/YyoEcegT+z
jTHGpJqIuEVkjYj8GfgI+A8n2nq5iDwlIt2ddr8UkSUi8pGIPOgMrhGRm0XkExFZ+dhjjx3jHIsY
nS0iM0VkrogsFJG1CxYsGJiuz93pqBahKsGfkPXjEvZjy0VMxrEBc5iNu+pthwxjjGl7w4A/AmXA
NcDZqjoWWArc4rT5vaqOV9XRQD5wsXP8NuBEVT3+8ssv/8w5FozOPh74KYHo7KCRwHnASe+++667
qanJZkiMMTHZkowwm3buZcSIvukuwxhjOpsqVX1XRC4GjgHeciaQuwLvOG3OFJH/BroBvYCPgReA
lcBfROT52267Lbh12QRgCgSis0Vkf3T2TBhbAfUAA/Ly6LlmzRkhW57F344uDvGIDygMbssWulUb
kRL2JNDeFdxmrRVraYlk64/R3tIETYdhM8whGpr8bNm9z3bIMMaYtrfH+a8Ar6nqGOfnGFW9RkTy
CMxAX6GqxwF/AoJPZ18E/AEYe//9949tbm6OOWNcALnB111E8PsPWi6dyBrbeGL1EelctPatUUuA
iM/l9Za5vN4yRNT58bXgvq1T/6H1RKvFmIxg0dgh1m2vY+JvF/CbKcdx5fjBbX5/Y0z7Z9HYyRMR
NzBfVUeLSF9gGfANVf1CRAqAgcBmYA3gBrIKCwu9o0aN2n3++ed7t23blte3b9/6pqYm+d3vfnfG
tTOu5dUFr2pxl+Kq0Ojsm266adlLL73kdvv9rgtGjwbgtvnz+e4VVzCqvn5/PbGirp3/xoyiDsZL
JxotHSt6O0YtCdcTvEei/Sdbf6z20WK0g/UcFI1tcdgmg9mSjBAHtpSzGWZjjEkHVd0iIuXA4yIS
nAn+uap+JiJ/IvBQYHXv3r1rgAK/3y9PP/30qIaGhixAxp08jrz8PMZMGiPv/O2dwoOis1tBdmNj
XpHP597eu7e3Nfo7XJlWjzEdlc0wh3j+gw386MkVvH5LGUcfESmV1RhjYrMZ5vQKi5eOvH42JKI5
Ytx1lJnORKOog2t4Y0RLH9x/rOjtGLOuyURjI6KJ9p9s/bHaH/JZY9VjM8wmg9kMc4iNuyy0xBhj
2jMXrsXQqnsHm9QI35PZ9l42Gc0e+guxaWc9xfk5dOtqv0cYY4xpsWSTAaO1b81BZDL3bY2+Y/ev
WhS2D7PtpmEymo0MQ2yp3ccRhbnxGxpjjMloIjIT2K2qd4rI/wBvqurrzulYiXOHPYgMLgVJOCmv
LZIEVYuS6D+p7yfpz2tMO2QD5hA76hro2a1russwxhiTBBHJVtWmaOdV9ZdhB/bPZnaGuOtk2QDY
mEPZgDnEzrpGXL27pbsMY4zp0ETkF8BVwBZgHYFt5C4GblXVpSLSB1iqqm5ny7lHgQLn8htV9W0R
mQT8L7CDQHLfcBH5WVFR0Un5+fmNwCanX0SkksC2dU+LyC+ByQSSAt+uqKhARBCRhcB7wJlAD+Aa
Vf1Xir8KY0w7YWuYQ+yoa6BXgc0wG2NMqojIeAIJfCcAFwDxdhTZDJzjxGRfCcwOOTcW+KGqDheR
ccC3Z8yYsfS73/3uSmB8lP4OitdeuXJl75Bz2ap6EvAjoCLpD2eM6bBshtmhquysa6SHLckwxphU
Oh34u6rWA/Ui8kKc9jnA70VkDNAMDA85976qfgXAubxFPbmbcjcFzpwCFHKHeOSXwLMh1xwUr11T
U7MP2OacC7ZbRiAgpU1YtLQxmc8GzI66hmYamv307JaT7lKMMaYzauLAv3qG7u35Y6CGwIx0F6A+
5Nye/a+EaE9s7394LSReu5SZfMwCCvewBy/eIbiAc3gV6E5gYH5Yfz+KR3zllBc6r+MNgFMfjZ2k
JOs3psNLKLhERM4H7gGygDmqenvY+Z7AXGAogT/MpqvqR4lcG0k6gkuCsdi/nXI8/zZ+UJve2xjT
cVhwSWzOkowHgNMIDEqXAw8SWIe8TFXvE5EfAT9y1jDfDaxX1btEZBowV1Xl8ssvf3r58uVnTp8+
fRXAso3LyhY/v5jp35uO3+9nzgNzGDFuBKNPH807j79TM3z48G0jR47cce+99550yy23vFulVRNf
nPMixx5zLBPPnMjDDz/M+HPHUzqwdFFtbW3OAw88MO7WW299N7T2euoDEdZUI0hzcM/nSLx4yxKN
im5JtHSy9TgSjtJOpv6W9A+B+htoYBazwAbjJsPF/Q1aRLKAPwDnAOuBJSIyT1U/CWn2U2CFql4u
IiOd9mcleG1G2FnXCEAPm2E2xpiUUdUlIjIPWElg5ngVsAu4E/ibiFwHvBhyyR+BZ0TkauAVQmeV
Q/Qe0Bv3aDdz75tLQUEBfQb0OaRNQUFB0+jRozfde++94/N75NNn4KFtEv4caFaLL06BROupp764
hpoJCQyuW6SRxrwcWvT3aNpm041JRNwZZhE5FZipquc57/8fgKr+X0ibF4Hbg08Ui8iXBGYPjop3
bSTpmGF+87MtXD33fZ66/lTGu3u16b2NMR2HzTDHJyLdVXW3iHQD3gSuU9Xlh9VnkvHM0dpHjXIG
pnmmaaJtxSN6uLW0Zj0Q2CauiqoJD/NwXbzZ3GTqD+1/G9vcsytmu2P13dL6jUmnRHbJGEhg25+g
9c6xUB8C3wQQkZMAF3BkgtdmhB11DQC2htkYY1LvQRFZQWA5xjOHO1huK4I0h7xNe5RzS+px4Vqc
yqUPventTbRtpn2fxsTSWg/93Q7c4/wBuAr4gMBDEwlz/hnuOoDBgwe3UlmJCy7JsOASY4xJLVX9
Tgq6jZZOFyu2Obx9zEFbcBlDgkEeSfefrCTrSVZ7r9+YVpXIgHkDEPoU3JHOsf1U1QdMAxARAb4C
1hLYGD7mtSF9PEjgwQ9KS0vjP4nYyoIzzMX5NsNsjDHtTbLpdKlOs9MKLUqi72QH+ymXZP3GdHiJ
LMlYAgwTkSEi0hX4NjAvtIGI9HDOAVwLvOkMouNemyl27GmgKC+b7CzLcjHGmNbg/N1wQxvcxysi
fUSkx6JFiwaEHB8gIk+n+v6HSyu0SCtU3LgXuXEv0goV58d2jTAmQ8SdYVbVJhG5EXiVwNZwc1X1
YxG53jl/PzAKeEREFPgYuCbWtan5KIdnR10jPS3lzxhjWlMP4AYCO13sJyLZqtqUivutWLFiYFlZ
2UYAVd0IXJGC+xy2YFhJ6LEIwSWhbNs1Y9IooTXMqvoS8FLYsftDXr/DwelLMa/NRDvqGizlzxhj
WtftwFDn+ZZGAvv07yCw5/JwEXmewLK9POAeVX3QmYwZqqr/BSAi5UCpqt4oIlcBNwNdgfeAG1Q1
9HmZ230+X97s2bNLZ86ceQeBbU3nq+pop5/LgAJgGIFt7Lr27t17XFZWls6cObOXqm4XkaHOdX2B
OuB7qro6Bd9Nstuo2bZrxqSRrT9w7KxrtB0yjDGmdd0GfKmqY4D/AsYCP1TV4ATLdFUdB5QCN4tI
b+AZ4PKQPq4EnhCRUc7r053+moF/R8TnAtcW2PIVXFlSWNjlrksuKVC49Sv46lg4FhGf09doAjs6
jQd+DdTddNNNy/r3778LuNpp8yBwk1PXrYTNjscjHvGJR1Q8ol68ZV68ZcH3zo8vfi+tSMSHiCKi
Lq+3zOX1lgXfOz9tW48x7ZRFYzt21DVw9BHd012GMcZ0ZO+r6lch728WkeDgeBAwTFXfFZG1InIK
8DmB2ei3gBnAOAIBWBB4qHwzic28BtssUNVaoHaQSOG7cN9rXi9ju3dnEtxdK/I/QA7wlHMPIGrk
drx7tfR8a8u0eoxpl2zA7AjMMNuSDGOMSaH9KX0iMgk4GzhVVetEZCGBpRkATwD/BqwGnlNVdXZg
ekRV/99BPYpUJHH/fcEXWSDBkXAXoAnQwOCx2pnBznhVVE1QNMtZ85zeNc4iPld5eaHzWoFa1NZc
m44jbtJfOrR10l9Dk5/hP3+Z/zxnODedNazN7muM6Xgs6e8AZ4nFclV1OQPkW1X1YufcpcC1qjpZ
REYCK4DzVXWhiPQElgJfAz9R1fdF5Bjg7wSWZGz+8Y9/fF9TU9OYcbt3n3LrU09RMXkyAvzipZf4
yQ03UFJdzdbaWn73z3/yq8su44lNm9Zs3LixcMqUKZ8D3HvHHWUVkyezx+1m2cqVbF+7lv845RRu
e/ll3/jx49eXlpZuUVXWrVtXMHjw4OBAf4wTLd0cLVrai7cs+LqEEgCqqT6ojRv3otB28dqHXhf6
vp76stD24ecBXN4D96kuCfRfUn1w/1XuQ68DyK0P9N+vpqb5a1fsKG2X11sW3n+0fkOM8eErmsWs
3fZAo8l0NsMM7HT2YO5hu2QYY0yrUdVtIvKWiHwE7AVqQk6/AlwvIp8Ca4B3Q67b4Rw/RlXfd459
IiI/B/4hIl2Ki4v7XXLJJRvIytrfYfe8PFxHHsnv5szhxH79OGvkyKRrnjJlyqcvvPDC8Lffftvl
9/tlxIgRm0MGzJ2SqGbFb2VMx2YzzMCa6lrO+92b/P47J3Lx8QPiX2CMMVHYDHMbk4O3YKssLweg
vLLy4HaqctB757pD2oe3CxEM8qioqJgUtZyQLeGC28RVcnAtWqESaeu4aO1Drwt9P90zvUnRLKd9
5CUZId9Pwt+N4+Hp05tENau8sjL+8goRX6WzJMPpP+41iXyfxmQKm2HmQMqfrWE2xphOI+XRz6mW
6mjp/cswNIH+VYuqnAFwQu2NaWdsWzlClmTYtnLGGNM5qBahKlVu96Iqt3sRqmIPqRljorEBM4GU
P7AZZmOMaUsi8iMR6daC63aHvD1kVvjrbdsOSst6DvaKyG0tqbEF4s1St/UsdqbVY0y7ZEsysCUZ
xhiTJj8CHiOQqNcyYbPCVR7Pwnc2bSqpgNdV9UYIpKC01dM6oeuIg2t0U7VkIiEh348tmTCm5WyG
mcAezHk5Xcjvag8CG2NMKohIgYi8KCIfishHEtg/eQCwQEQWOG12h7S/QkQqnddDROQdEVklIr8K
afNnEbks5P1fVqxY0Xvx4sVu4EoRWSEiV4pIuYj83mlTKSL3ici7IrJ29erVPZ544okRIvJp8H5O
u3Odey4XkadEpLWTrZKd2bWZYGPSyGaYge17Gmx22RhjUut8YKOqXgQgIsXANOBMVd0a59p7gPtU
9c8iMiPk+EPAj4Hnnf5OO+64477eu3ev99VXX90/wywi5WH99QROBS555plnnrn66qs/WL169ckE
UgTHAOuBnwNnq+oeEfkJcMvhfPhwkXa0yIgZaWNMRDbDTOChvx42YDbGmFRaBZwjIr8RkYmquiuJ
aziSlNgAACAASURBVE8HHndePxo8qKqLgGEi0heYCjyTlZWVyOqLFzSwp+qq/Pz8hkGDBu1RVT/w
MeAGTgGOAd4SkRXAdwFXEvUaYzoYGzATeOivp+2QYYwxKaOqnwFjCQycfyUiv4zULOR1Xoxzof4M
XEVgtnpuguUEI7L9YQNsP4F/eRXgNVUd4/wco6rXJNh3y4j4XF5vmcvrLUNEnR9fSu9pjEmYBZcA
37hrIaNKivjDv49ts3saYzomCy6JTEQGANtVtV5ELgauBYYCl6jqV06bL4DJBJL/ngJqVbVcROYB
f1PVx0TkB8AdM2fOnAOM2bVrV86DDz44rlu3bg0zZsxYXk992epPVvPph5/WTJ06dTXAO++8UxKM
xX788cdHDh8+fNu4ceO2bNmyJe/Jvz158rUzriWPvEXBc8OGDdv5wAMPjLv66qs/7Nev3976+vou
O3bsyO3Zv+dJEIiiFiRqPHaIMc5/V8T7fiJFS0PseOlgNHasqO6W1tOS9slEaUOg/gYamMWsyKEr
xmQQW8NM4KE/24PZGGNS6jjgDhHxA43ADwisI35FRDaq6pnAbcB8YAuwFAg+aPdD4K/OWuK/h3Za
XFzc2KtXr7phw4btXwftcrtY/MbibrNnzy499dRTq5IttKioqPHiiy9e/dRTT43y+/1dAM4444yv
evbvub+NklhcdCONeT587t709iZbR6ISraUl6qkvrqFmQoIDcqBFUdrhATLGZJxOP8Ps9ytH/+wl
Zpx5NP957og2uacxpuOyGea25ezjvAoYq6q7pnumNwHMrZib0IRQMu0TiqIOkVT0s4hGjK6OEdUd
Uk9CM7TJRlF7PJ6FVVRNeJiH6xLpP6ko7RbUb0w6dfoZ5tr6JvyKPfRnjDHtjIicTWCnjLuDDxEm
MxOabPsUR1EnHdWd6mjs4D0S7T+pKG3apn5jWkunHzBv3x9aYksyjDGmPVHV1+kou1eoFlmwiDGZ
q9PvkmEpf8YY07ZE5GYnKOQvUc6Xishs5/X+0BFjjEmXTj/DvNMZMNtDf8YY02ZuIBAKsj7SSVVd
SuChv6Q1NzdLgnsxG2NMwmyGeU8jYDPMxhjTFkTkfuAo4GUR+YkTP/2BiLwtIiOcNpNEZH6EaytF
5IqQ97tD2v9LROb9/+zdeXiU5b3/8fc3k5BASMKeCMoMKmrFBRV3NCiK+9Jqa11aA1q1Vq21euzp
8ddkWk/b01IX1FasSjzHpWqtu3WpAkoVARUFFEVx4gIJIEsSYMj2/f3xPAPDZDJLyDCTme/ruuZi
5pn7ued+xusy39y5n/tz++23H+oeu0hE5rnx2NNFxOM+at1o7kUi8rOdc9XGmN4u52eYbUmGMcbs
PKp6hYicDBwHtAB/UtU29wa+3wLndLPrg4H9rrvuuhkrVqzoB5wHHK2qrSLyZ+BCnCS/Eaq6H4CI
DADO2sFLMsbkgJwvmNdvasWTJ5QU5fxXYYwxO1sZ8ICIjMZJ8tuRtXHzVPVzv9/PJ598MhDYFZgv
IgB9gVXAs8DuInIH8Dzw8g6NPls5CYMlXnebO0RCS1wS2i4ubvd+p/8qqkKvt/Zv28uZTJXzVeK6
TS0M6FtAXl6XW10aY4xJjd8AM1X12yLiA2bFad+Gu5RQRPKA8D8Nboxo+4Cq/mdkByJyIHDS6fDs
UMj3BgKhN5QeKgi7Q/zSWEVVifu85wtIkUZvldN/AgVwV0EiPRUwkur+jelxOR9ccuVD7/BxfROv
/nzCTvk8Y0x2s+CS+EQkAIwD/go8qKpPiEgNUKWqPhGZAFyvqqeLSBUwTlWvEpGbgBJVvfGkk056
9uWXXz69pqZm9tKlSwe8+eabu9VMnFjWUF7uaVizhocffZQLL730zbKystbm5ub8YDDoKSws7PB4
PB39+vVr97z3XuU9r7/OlZdfDmyLo44VRU0Ko6UDBCorcKKx69kWje2jZ8aTTPS2NxCoBEg2qjvR
8QRw+q+gAjcae+t7Wt11UIsx6WQzzBtbbf2yMcakxx9wlmTchLNEIp6/Ak+LyPv77rtvS35+fkf4
m6FI5vIhQ/jOwQfzwAMPHAiQl5enp5xyyrKCgoL2p59+eh9VlWJVzj3kkKQHXBgMlpU3NIzfGtIR
R3eipZOR6v6THQtApozHmJ6U8zPMJ9/2OrsO7Me9F9uEkDFmx9kMcxpFxkvHiJUOLUvoFEcd4xy/
3z9rZF3d+MkzZmxKZOlGMtHS4hcNrel1o7ed4cSYcU0qujqZ6O2uvpuu2rsSjboOLTlJ9nqNSaec
31Zu/aZWS/kzxpjs0NTF8x7zhdc7J5l1zm60dMrWRae6/2R48c7x4ZudKeMxpidZwby5xUJLjDEm
G6iW1vl8s+t8vtkJFLXRCuqUFNkJSvV4kuk/2ePGZL2cLphb2joItnZQ1tcKZmOMyQQ9GYUtIgER
GRL1TdVSVCWswJZ07ZABoNVa6sM3252hFffRc+PZ/pcJiXm90b+bnvx+rCA3vU5O3/TXFHRS/kqK
rGA2xhhjdobQLwJ+v3+W+3pCOsdjTCJyumBuDLYBUNo3p78GY4xJOREpBh7DCRTx4OzBvBy4HSgG
tgAT3ebDReRFYA/gSVX9D7eP84FfAgI8r6o3Rh4/+OCDS88888zl8T5bVR8VkcDPf/7zr0tKSlpF
ZBwwVVUnuFvc7QHsCQwB/qCqf03JF5OgUNhH+LEowR/hLATEmB6U05Xi1hnmQpthNsaYFDsZWKGq
pwGISBnwHnCeqs4XkVJgs9t2LHAQThH9sZvM1w78D3AIsA54WUTOBuaFH6+vr1/93nvvRS7DiPbZ
8RwAHIFTzL8nIs/X1NR078p7RrKhHhYCYkwPyuk1zI2bQzPMVjAbY0yKLQJOFJH/EZFjgJHASlWd
D6Cqjara5rZ9VVU3qGoQ+BDwAocCs1R1tdvuIeDYyONjxoxpqKuriyyIt/tsVd2QwHifVtXNqroG
mAkctoPXb4zpxXJ6hrlx6xrmnP4ajDEm5VT1ExE5GDgVuBl4LUbzLWHP20ngZ1VoycJRfY+ipajF
WaZQBlzG5/oHLQn/bBF5VVV/DbR1dGzNPimKHHKc1yZMlGjv2EtCOkd1py2W3JhE5PQMc2hJhs0w
G2NMaonIcGCTqj4I/BE4HNhFRA513y8RkViF8TygUkSGiIgHOB+YHTrORkrogM8XfU6FryL8vP5R
PvtggAngY9Gio7yBQOXV8GrE550lIkUiMthpyvw66sYHCFSKX9Qt0M02kUtA4i0JSba9MWmV00l/
f319Of/9wkd8UDOJUtspwxjTAyzpLzoROQmnWO0AWoEf49y8dwfQF2f98gnAucA4Vb3KPe85nJvx
ZoXf3Lfvvvtu/t73vrcRYN68ecPeXPDmt1DYe6+9Oe7E46innsdvfZwzLjuDts/bPnjttdf2AMjL
y+s47bTTlo0aNappy9tvV94zdy5FhYXsN3gwH6xdu+Hyyy9f+MILL/jWr19ftH79+r7BYLDgsMMO
+3L8+PErgwQrAeqpB8CHb3asaw61b6ChPcGo6LFu1HWn9gEClZGNK3B+MQiNJ1KU8Y11o73bE4z2
HttKa1EBBXPjNQwQqIwcT6zvxxsIVNZXVNCnpYXrbrnFORgrmdGYNMvptQhNwVZEoH+fnP4ajDEm
5VT1JeClKG8dEfG61n2Ezjs97PkjwCMAfr//NpybAznssMNWDTts2LdgWxEJ8N2ffRcA336+dfvt
t1+nWZi9ysu5/vLLAaior+dIn29h6L1hw4ZtvOCCC5YmcYldUtTTE/0YY9InpyvFxmAb/Qvzycuz
X2qNMaY3qa6uvjb8dWhrtdBWa7Xbau6u9/kVaax119FW1dY2oU67Gmc7jOY33nhjanjzKf4pbYp6
3L6b4u0fHNY+bltw9iUuooj7q+/v1Dba1nHRrjVc5Gf6/f5ZW4qKmHx/5/67Gk8BBVRXV8dtL37R
yPHEvGYRra2qSmQYxmSEHC+YW20phjHG5CrV0jo3PCNULDtPtSZa89AyiUSDNpJt38s1sf065Hip
fcm2Nyatcvqmv8bNbbZDhjHGZAeLW06jKNHesXe86BzVbTtkmIyW09ViU7DVdsgwxpgMICLX4NwI
+K6qXpjs+Ra3bIxJpZwumBuDbYwYELn1pjHGmDS4EjhBVb9K90CMMSZSTi/JaLI1zMYYk3Yicjew
O/BPEblRRN4SkfdE5E0R2dttUyUiT4nIKyISEJGrROQ6t91cERkEMHPmzBG33XbboSLygYj8zT23
RkSuD/u8xSLiExHfrbfeethDDz30LRH5SET+LiL90vEdJCDZpSW2FMWYHpTbM8ybW20NszHGpJmq
XiEiJwPHAS3An1S1TUROAH4LnOM23Q84CCeV71PgRlU9SERuBX4I3DZ//vyRP/vZz+befPPNlSIy
IN5nb9iwoe/pp5++9JNPPjlYRO7HmenebneMUIpgaBeIiB0rtku0C7WFbbtYRNnhInYKXhTR2vfW
5SfJfJ/GZIqcnWHu6FCat7TZGmZjjMksZcDjIrIYuBUYE/beTFVtUtXVwAbgWff4IsAHMHjw4I2P
PPLIviJyEdDW1Yd8Bos+h88HFRdzQkHBQYjoy3AeMD5K81gpdN1JrNuhVDvxS6P4RQMEKsOSB7tO
HxRpRES9gUClNxCoRETdR7rSCpP5Po3JCDk7vbqxpY0OxWaYjTEms/wGpzD+toj4gFlh720Je94R
9roD9+fZ5MmTP/jkk08GLF++/GDgv0Rkf5zCOXyCqCgP+oMTNRjigX5AWuJvxS+NVTh7QofNuHY1
29pVUdlTx5MdjzFZL2ejsb9ev5mjf/8av//O/nz/sJEp/SxjTO6waOzuEZEAMA74K/Cgqj4hIjVA
lar6RKSKsMjsfv36NV555ZWLSkpKWt96662KFStWlPz0kEPKPykq8gwcMIDBK1e2X/v44+0/+clP
5i9evHjwsmXLBl900UUfBgKB/g888MAhf/jOdwC44YknuOIHP+Bwj4f7//1vqKj4bOLEidvdeBiK
pe4qijo8Ajo8wjpWdHVkbHS0aOlo7eKNJ1p7b8BpX1/htK+o39a+zhc9vjqZ8YQUBp0o8HjR2+Hj
b6GFW7hlu/e12iKyTebJ2enVxs2tALYkwxhjMssfgAdE5Cbg+WRO1I4Oz6PPPUdwyxbyW1s9Y8eO
/aK4uLjtoIMOWr1o0aLy22677dCKiorGsrKyTTizyQwdNIi5777L0199xfABA5g0fvyKFFxTThG1
KHCTfXJ2hvnt5d9w3j1zeejSwzl6zyEp/SxjTO6wGeY06hx13fXyARENAOMHDODms8+mqrbWOa6d
ZzdjxW7D9jOi4TewxYqujpxFjRYtHa1dvPFEnZ0Vp30oinrrtULU6012PCEzpkxpE1VPvO8+me/T
mEyRszf9NQade0FsWzljjMkS26fHxVtrG23btXRuxdbrx/OF1zsnwe/emF7HlmT0zdmvwBhjcpdq
qQ/4kd8/q855PSGtw6nW0iS2iWsi+g17seLBk2mf7HiS1dV4Yo7JmHTK2RnmDaGC2WaYjTGm1xOR
X7v7NkcenyAiz+1g97GKuMj3Ein4dqgo1Got1WoVH77ZPnyztVrFfUSf2VUtRVXCZt/FfaRlJjjG
+Lu+BmPSLGenVxuDTsFs28oZY0zvp6q/AvD7/Tf1eN9uEZfIjGt4wddbg0WMMZ3l7Axz4+Y2ivt4
yPfk7FdgjDEZy42uXioiD4XHVovIr0RkvhtvfY+IiNu+VkTOBVi8ePEg99x3ge+k9UKMMVkhZ6vF
xmArZbalnDHGZLK9gT+r6reARpzY6jtV9VBV3Q/oC5wefkJLS0veP//5z72AM4BDwN1M2BhjdkDu
FsybW20PZmOMyWxfquq/3ecP4sRWHycib4vIIuB4to/OZuXKlf1KSkqCqrpMnX1TH9y5QzbGZKOE
CmYROVlEPhaRT0XkF1HeLxORZ0XkfRFZIiKTw94LiMgiEVkoIqndXDkJjcFWu+HPGGMyW2RQgAJ/
Bs5V1f1xUgGLdvqozA4TvzQGCFQGCFSKX1T80pjuMRkTS9zgEhHxAJ8AJwJfAfOB81X1w7A2vwTK
VPVGERkKfAxUqGpLKO5UVdckOqidEVxy6u1vMHxAEfdefGhKP8cYk1ssuKRniIgP+Bw4SlXfEpF7
gY+A/wB8N9xww9R77723avTo0atPPfXUwCOPPLLPXnvt9c3eB+y97z133MOFF174dnl5efDBBx/8
VktLS/6UKVMWdfFRY91/F8YbUxAn+rmeegRp99J1/HOyfXenfWg8DTQkMpZu95+K6w1Fb4dHY1tg
iclkicwwHwZ8qqrLVbUF+BtwVkQbBUrcmy/6A2uBth4daQ/bsNlmmI0xJsN9DPxERD4CBgJ/wZlV
Xnzfffd9u7y8vNOsZH5BPiefcTIPP/zwAXfcccch/fr1a431AYXBYFlhMFiW7MCUxOKfgwTL6qgb
n2i/rbQWfcM3vlSMBZzrHVmX+Hi68xnGZKNE9lQbAXwZ9vor4PCINncCzwArcDYjP09VO9z3FPiX
iLQD01X1nh0bcs9oDNoaZmOMyXBtqnpRxLGb3Md2qqurAZjin9JWPLqY9evX90vkA2ZMmdIGMPn+
+yfEazvFP6VNUY8b5dwUb7s4v98/q4GG8TOYsSmRreX8fv+sAgqYVj0tbtuI8cQdS6j/8oaG8ZNn
zNiUSFDLZP9kJ1Lbja5O5HoBqqur4/YdHr1tTG/QU5sQn4TzJ5jjgT2AV0TkDVVtBMar6tciMsw9
vlRVX4/sQEQuAy4DGDlyZA8NK7qODqV5S5sVzMYYk2USXJqw1RfexNuH+k5mX2Uv3jmp2oe5O+P5
wuudk2iqoSDtYTPLlsBncloiSzK+BnYLe72reyzcZOAf6vgUZ93ZPgCq+rX77yrgSZwlHp2o6j2q
Ok5Vxw0dOjS5q0hS05Y2VKHUQkuMMSYjqWrA3TrOpIkX75ywJL6eTuDrTkKiMWmTSME8HxgtIqNE
pA/wfZzlF+G+ACYCiEg5zt6Zy0WkWERK3OPFwCRgcU8NvrsaQ7HYNsNsjDEZwY2wPirs9RUi8sM4
59wrIvu6z38Z8d6bqRmp6QlaraUR0dgWiW0yWtwpVlVtE5GrgJcAD3C/qi4RkSvc9+8GfgPUuvti
CnCjqq4Rkd2BJ90gpnzgYVV9MUXXkrB1m1oAGGAFszHGZIoJQDPwJmz92RKTql4a9vKXwG/D3juq
8xnGGNM9Ca1JUNUXgBcijt0d9nwFzuxx5HnLgQN3cIw9blXjFgCGldr2ncYYk0oi8hTOsr4i4HZV
vUdETsYpbj3AGuAS4AqgXUQuAq7G+atlM/Ac8L+qepjbnw94VlX3F5FZwPXAuUBfEVk4evToXS68
8MKPRKRZVfu759wAfA8oBJ5U1Wr3r56PDRo0aJyqSk1NzXmq+ugOXmwjzo3vAHirqkLHo+3f2oTa
rKoxvUVOLuJd1eQUzOWlhWkeiTHGZL0pqrpWRPoC80XkaZyt4Y5V1c9FZJD7/t1As6pOBRCRiQCq
ulRE+ojIKFX9HDgP2K6wVdVfiMhVqjo2tFNDiIhMAkbj3D8jwDMiciwwFFhxzTXXLACoqanpib9+
lsRv0q22xpg0y8lo7FVNQURgSH8rmI0xJsWuEZH3gbk4M82XAa+7xS+qujaBPh7DKZQhSsEcxyT3
8R7wLs4N6aOBRcCJzzzzzO6ffPJJmapuSKJPY0yOydkZ5kH9+lDgycnfF4wxZqcQkQnACcCRqrrJ
XUKxEHcXpSQ8CjwuIv8AVFWXJTMM4HeqOj3K+A4uLy//98yZM0eJyK9U9ddd9yKN3qqqEvd5aIlF
+pZVdB5Pl2NxY6dLQvsei3/b+Lu82S7TrteYNIsbjZ0OqY7GvvSBBXy1bhMvXntsyj7DGJObLBp7
GxE5C7hUVc8QkX1wiuUfALfQeUnGz4FSVa12z61h+yUa84GlwCJV/YPf779t+vTpVZMmTfps1KhR
Tb/97W+PPv/G82UXzy4egKn/PZWb/uum2UuWLBk4a9asUZdccsn7RUVF7WvXru3j8Xi0o6NDiouL
2/r06XPA0qVL8+fOnRusqqrqchcnbyBQWV9RAUBFff3W43U+3+zwNuHnRGsfLvxcV8LR0tHGE6U/
wImhBqjAaV/PtvH4iH5OItcbRXeiwJurq6t3TbC9MWmTkzPMazduseUYxhiTei8CV7jR1h/jLMtY
jbMs4x8ikgesAk4EngX+7hbZV0fp61Hgj8CoaB+03377rXzqL0/tNmKXEZx5zplbj48ZM2bdqlWr
+k2fPv0ggIKCgvZzzjnno9WrV/d97bXX9ijMzy/Oy8vjhJNO+rjHrrqbgjgR3Q00jE82gCUTdGf8
hcGgzVibXiEnZ5iPmzqL/UaUccf5B6XsM4wxuclmmNMnPG65llq0WiXeOWHR2LEnkES01t31oqq2
dttxDfuMiN0worYPp9uPLyLqOnYhGW08Gv16Q0swwr+brUPo6jtK5HojJDV+nCjtQd9847t62jRf
vLbGpFuOzjC3MKif7cFsjDFZpoltu08klByXTDR2qiUZdR1+raHXadWdqO61gwcHUjUeY3pSzt31
1tbewYbNrQws7pPuoRhjjOlBEelxqY5y7urYzqFaWufzza7z+WajKnFuxutqnLHGn1nXa0ya5VzB
vMGNxR5kBbMxxphEdS5Q4xWpGUOrtVSrVSKiqGPHUffi6zUmFXKuYN4ai93PCmZjjDHGGBNfzhXM
aze6M8xWMBtjTK8lIjt0D46IeHpqLGGSWbJgyxuM6UVy7qa/VU1BAIaUWMFsjDHpJCI+4J/AHOAo
4GvgLPfY9aq6QESGAAtU1SciVcB3gP6AR0S+j7PdXCnOz7Mf19TUsGTJkoEi8hZQCHwGTFbVZhEJ
uO1PBJ4QkXNqamoa3bGMBh5V1YO7fUGqpaGQEMDdkwIm13RqmdAuEtFs339V6Fjkdlfd7t8YE13O
zTCvXO8UzLuU9U3zSIwxxuDEVN+lqmOA9cA5cdofDJyrqpXABcBLqjoWOBBY2NTUVPDGG294gRPc
4ncBcF3Y+d+o6sGq+t/Ahrq6uv7u8cnAjB64npL4TRJqk67+jTFR5FzBvGLDZor7eCgtyrnJdWOM
yUSfq2ooGe4dwBen/SuqutZ9Ph+Y7KYC7q+qTcuXLy9dt25dMfBvEVkIXAx4w85/NOz5ve+8805F
R0cHwHnAwzt2KcaYbJVzBfPK9UEqyooQibufvTHGmNTbEva8HWdpRRvbfj4VRbTfGHqiqq8Dx+Is
5agVkR8C7LbbbmtVdaz72FdVL4l2PvBEIBAY9MEHHwwG3lHVb3rmkrpBpNEbCFR6A4FKRBSRxrSN
xTWyrm58Jo3HmHTKuaS/s+6cQ2nfAv7vksNT0r8xJrdZ0l/i3DXMz6nqfu7r63HWJ++KU8D+RUSu
Ba4NW8M8TlWv8vv9t61Zs+bwQYMGbcnLy2PWrFkj1q1b17dyUuWI2um1nHjxie37D95/TjAYzFu3
bl3hLrvssnnq1KlHXH755e+UlJS0hsbw3HPPHbl06dKCk046afH++++/ttMgwxQGg5UAFfX1qEh7
tNCTAIHK0PMKKgCop75TXz58s8NfewOByvoKp31FvdO+zrd9mx3p3zU2SLCsgYb2RKKrw6+3q/Hs
SP/A2MJgMO8Xv/udrbc2GS/n1iWsaW5hj2H94zc0xhiTLlOBx0TkMuD5rhotW7ZswLx580bm5eV1
FBQUtH/nO99Z2q+434hTzz6VV554xTMzOHMcwLHHHvv5LrvssjlaH2MOHMPHH38sY8aMiVksRxLV
VOyyYYzJUDk3w7zvr17k/MNG8v9O3zcl/RtjcpvNMKfXFP+UNkU9tdQmtFPEMccc89mWLVs88+bN
88VrO2PKlDZR9VTV1gI0RQvyCN+xIrSLRS21nfrSat1+XaCI1lY57d3+QbXT2sFu9w/4/f5ZANXV
1RM6nRBFIte7I/0n296YdMqpGeZgazubWtot5c8YY7JUaCmAVuuEeG1F5MlBgwaVT548+f1E+t66
BEPj990NTWy/u0Xa92lO8fUa06vk1E1/oZS/gRZaYowxOU9Vv33NNdcsCF/TnMbBREZR27peYzJI
ThXMazc6BfOg4oI0j8QYY0yIiPhEZHGU478WkRPinFvj3iyYKRKZGd6R2eNU92+MiSKnlmSsc2Ox
bYbZGGMyn6r+KtWf0dHRQV5ez80dha+bDq3RTWR5SKb0b4yJLrdmmDeFZpitYDbGmAzjEZG/isgS
EXlZRPqKSK2InAsgIqeKyFIReUdEponIc2Hn7isis0Rk+cyZM0eEDorIRSIyT0QWish0EfG4x5tF
5E8i8v6nn35atpOv0xjTC+VUwfz1OmdXofKyyH3wjTHGpFmXEdkiUgRMB05R1UOAoRHn7gOcBBw2
d+5cX1tbm4jIt3DS+452o7PbgQvd9sXA26p64F577bUhpVdljMkKObUk47PVzQwrKaS0yNYwG2NM
hokVkb0PsFxVP3dfPwJcFvb+86q6BdgycODAlg0bNvQBJgKHAPPdZNe+wCq3fTu/4l7xy6Ohrdnc
7dq63IpO/NJYRVVJWFtitU+aSKO3yukf2da/3fxnTGbIqYL501XN7GmhJcYYk4kiI7L7JnWuE91c
UjxgACNXrDhiGhzxBbT8UXV4lPZB8rbbwi0k2rFY78Vqn6xU92+M2QE5FVxyQM1LnDl2ODefvX+P
922MMWDBJd0RIyLbBzyHk/b3CXCMqgZE5KGKioojr7jiii9eeOEFX58+fdov2XPP3QF+8dxzXHzu
uZTW1zPt1Ve58NJL3ywrK2ttbm7ODwaDniFDhmy5+eabj7nopovyoHO8dBeR0gQIVEaLou6qvWus
++/CGG2A6NHYEDeOOuH+AYI4UdfdicbuKgo8Wvvyhoa4bUPt+7S0cN0tt9hMusl4OTPD3Bhs2KDJ
cQAAIABJREFUpTHYxm4D+6V7KMYYY5KgqptF5ErgRRHZCMzv06dPS6xzRgwYwHcOPpgHHnjgQIC8
vDw95ZRTlg0ZMmRLrPN6m1Zaixpp9A1mcCDRc5TkY72TiQLvRmy4zaSbjJczM8wfrWzklNvf4M4L
DuL0A6L9hc4YY3aczTCnhoj0V9VmcRYk3wUsU9VbwxooQCLx0rBtHXJkvHS0SOlQ+2hR1F21hySj
n6NFY8cYf9L9k3xseO3kybrdeGKMBbaL0k5oxjjZ9sakU87MMId2yBgxIJllccYYYzLEj0TkYqAP
8B7OrhnhIqOlQ8eMK5nYcAAVaQ+bLY77XSYbpW3R26Y3yZ2Ceb1bMA+0gtkYY3obdzb51hgNSgHq
3FnXBIqwZAvsVBfkGVfwW0FrzDY5sw/z52s20rfAw5DiwnQPxRhjcpqIvJlAm2tFJGU3nWi1lmq1
SvHq4rdXzVv1kVarxFqmoNVa6sM324dvtts2ZvvkB6SldT7f7Dqfbzaq4j5smYIxGSJnCuZPVzUz
urw/eXkxl2AZY4xJMVU9KoFm1wJJFcyhJL9kfPPNN0WLFy8uT/Y8Y0xuyZmC+ZOGJkYPsxtxjTEm
3USk2f13ghtp/Xc39vohcVwDDAdmishMt+0kEXlLRN4VkcdFpL97PCAi/yMi7wLfnT59+thnnnlm
dzcS+xMROcZt5xGRP4rIfBH5QEQuB3jttdd2X7lyZZkbn/2ztHwhxpiMlxMF84ZNraxq2sLocgst
McaYDHMQzmzyvsDuOFHW04AVwHGqepyIDAFuAk5Q1YOBBcB1YX18o6oHq+rfADo6OkRVD3P7rXbb
XAJsUNVDgUNxbiIcdfzxxy/fZZddNqjq2O123TDGmDA5cdPfslXOfRN7WcFsjDGZZp6qfgUgIgtx
wkoiQy+OwCmo/+3GXPcB3gp7/9HwxmPGjFntPg2P2J4EHCAi5wJ44YB7YPlr69bxUUdHz8ZRu6mD
XnebuLC+e6b/3j4eY3qhHCmYmwFsSYYxxmSeyEjsaD+XBHhFVc/voo+N4S/y8/NDBWF4fwJcraov
Oa+covG1zn1F/UEhfmmsoqrEfb61uO7ixr9kI7ZTLfnxiDR6q5zrdb+rni2sU92/MT0sJ4JL/M8u
4W/zvmSJ/yS76c8Yk1IWXBKfiDSran8RmQBcr6qnu8fvBBaoaq2ILALOVNXPRWQozmzx8ar6qYgU
T548+S6v1+ubOnXqEZdffvk7JSUlrXXUjf/XjH95jp90PHkj8toHNQ16e/r06Ydcf/31c994441d
Pvvss8EXXXTRkvz8fC18//3Kgf36sbiggOdffZVfTZy4dXzR4qiTicb2BgKVANGirrvqH5KPlibB
aOzujCdaVHecmO6t0dv11CNIzPjtUP9uNLZzME4wijHplBMzzJ+uambPYbZDhjHG9CL34ERhr3DX
MVcBj4hIIcCKFSsCXq93uxPCI58j45+PPvrolevXry+66667DgGkvLCQq48/noqhQxERfvX00xy9
556cNGZMyi8snmSipQuDwbLyhobxCRbYO0134reNyWQ5McN85O9e5cjdB3PLeWPjNzbGmB1gM8zp
ExlfHSu2ussobYg605lUNHasvrvoH5KPivb7/bNG1tWNnzxjxqaY7bsznmhR3XFmgCf7nSjteDHj
3e3fmHTK+hnmpmArKzcE2dNu+DPGmGwXnpbX62Kxu5Os94XXOydTkvgEaQ+bWe51378xsWT9tnKf
ujf87TnUCmZjjMlmEWl88WZouyrokjmezUVh5LXFvVYv3jlhSYjJfv/Z/F2aLJAzBfPoctshwxhj
jEu1FFVJNI46yWjsWMVfOgrD5MfTOaq7Z3ewSHX/xvSwnCiY++TnsdvAvukeijHGmDQTkWtFZGvk
9n333bf/xo0be3Z5YtfFeHoKw0wbjzG9UNYXzMtWNbP7kGLyPVl/qcYY06u4Mdg7+3/O1wJbC+ZL
LrlkUXFxcdtOHoMxppfJ+ioytKWcMcaY9BMRn4h8LCL/CywGfiAii0RksYj8T1i7ZhH5o4gsEZF/
ichhIjJLRJaLyJlhfb0hIu+6j6MAli5dOsBt+3cRWSoiD7nF+TXAcGCmiMwEmDp16hFNTU0Fbn8/
FJEPROR9Efm/nf3dGGMyV1bvkrG5pZ0v123inIN3TfdQjDHGbDMauBj4ApgLHAKsA14WkbNV9Smg
GHhNVW8QkSeBm4ETcSKyHwCeAVYBJ6pqUERGA48Aze5nHASMAVYA/waOVtVpInIdcJyqrgkfkIiM
AW4CjlLVNSIyKIXXb4zpZbK6YP5sdTOqMNq2lDPGmExSp6pzReQsYJaqrgYQkYeAY4GngBbgRbf9
ImCLqra6CYA+93gBcKeIjMWJwd4LmOe+N09Vv3L7Xeiesy3cQ6QRKCksLsb79ddHTYPF9cB/w3Kg
VFXXpubSe0aSUd3GmB2U1QXzyg1BAHa1G/6MMSaTbEygTatuS9bqALYAqGqHiIR+dv0MaAAOBPIQ
WgMEKtcVroM9CV+X3E7nn3ddbZ2Uni2VRBq9VU4B7AaNxAsviTbOHh17HXXjFfW4BbkV4yanZXXB
vHbjFgAG9y9M80iMMcZEMQ+YJiJDcJZknA/ckciJfr//tgMPPPCc0tLSLRMnThz35ptvVrz88stU
UMEWtrCr7Jrv9/tnAey///6jhw8ffoLf768aOHDgkPPPP/+52k2bAGj/xz9YNWwYRWedxX0zZ7LL
qafyjd8/q7m5Ob9///6RNwOODRIsm+Kf0uYloSjqhNt7q6pK6isqgK2JfCV17vijqaKKCiq2Pg/7
Xro8pzAYrAQnUTCRKO1yyj1h/ZfE6ts1tpXWogTabR1Pn5YWZ7bfduswGS6rC+Y1zS0ADC7uk+aR
GGOMiaSqK0XkF8BMQIDnVfXpRM8/8sgjVzz22GNjlixZUuHz+dbmF8T/kXbggQeufOihhw54rW9f
bjz55K3HRwwcyOkHHMDvX3yRzS+/PG7o0KHN559//tJuXJYxJgvJtr94ZY5x48bpggULdrifXz/7
IY8t+JLF/pN6YFTGGBOfiLyjquPSPY5cFL6ut5ba2EsInGUPodlcqmprt72nKtFOCc2cVldXT0hk
PEm1F9FOY+liHOCsWw7NLNdSu/W4Vnd9TrLjn+Kf0qaox+0/7pKMlH4/xqRZVm8r983GLQyy2WVj
jMkJSUZjZ5pko6JTHtWdZNS1MVktuwvm5hYG97eC2RhjTCddFZfpiK5OOio6yahuY8wOyuqCee3G
Fgb1s4LZGGMynYhcIyIfuVvLpf7z4BqBu6LERVvRaYzpJKtv+msMtrJPRXp2CDLGGJOUK4ETQnsn
9wQRyVfVnI29Fr+z13TodWjNc9i+zeFs2zhjYsjqGebGza2UFGX17wTGGNPricjdwO7AP0XkRhF5
S0TeE5E3RWRvt02ViDwlIq+ISEBErhKR69x2c0PJfNOnTx/75JNP7ikiC4CfishQEXlCROa7j6PT
eKk7WzIzRja7ZEwMWVtNqirNW9oo7VuQ7qEYY4yJQVWvEJGTgeNwEv7+pKptInIC8FvgHLfpfjiR
10XAp8CNqnqQiNwK/BC4DaC9vV1CO5WIyMPArao6R0RGAi8B39qJl9ejwmeNu5gx3uGZ4tBnpKp/
Y3qjrC2YN7a006HYDLMxxvQuZcADIjIaUJz465CZqtoENInIBuBZgOlwxYdQhMitpeXlnLbrrmWh
beOGgK6BfUW27rZWKiL9d97lJKhz0h9ET/uLNxPcEzPFsfqwmWiTkxJakiEiJ4vIxyLyqbvJfOT7
ZSLyrIi8LyJLRGRyouemSuPmVgBKimyG2RhjepHf4BTG+wFn4Mwmh2wJe741LrsPFIUvVC7M3zZR
ok4gyhGqOtZ9jFDVZoAr4DJvIFDpDQQqEWlM0fUkKuVR18aY7osbXCIiHuAT4ETgK2A+cL6qfhjW
5pdAmareKCJDgY+BCqA93rnR9ERwycf1TZx02+vcecFBnH7A8B3qyxhjEmXBJd0jIgFgHPBX4EFV
fUJEaoAqVfWJSBUwTlWvAujXr1/jlVdeuaikpKT1y1deqfz8m2/4wRFH8OtXX+XU449nnDujfPfs
2RSMGLH8hBNO+BKgrq6uv9frbX7rrbcqWuvq9j7x7LMBqKivp87nmx1nmGPdfxcmeFljgwTLGmho
jxuNHQhUhqKxK+rrtx6PHFOAQGXoeSgau5768Cb4cM4JbxurfVfnxes/UhAnejuR63WN7d/YWPrz
W25ptt1JTKZLZIb5MOBTVV2uqi3A34CzItooUCLO37z6A2uBtgTPTYmmoDPDXGozzMYY05v8Afid
iLxHDywbvPDww1m5cmXJtGnTxt12222Hzps3b4dmUPJbW4sGffONL5lzFPXsyGf2Nrl2vSY3JPI/
oxHAl2GvvwIOj2hzJ/AMsALnT0jnqWqHiCRybko0BkNLMmwNszHGZDpV9blP1wB7hb11k/t+LWzL
gN60adO2GcmaGudPpUuXQpSo66tVh0X9UJHG2vr6Erd9E6oTYo3R7/fPaiso4Opp02K2C2/fQMP4
Wmo3aXXsvqNGYwORYwq/AS9aNDZA6LMit4/rqn1X58XrP1JYlHZT3OvF+X6aS0s7XaMxmaintpU7
CedPVMNx/mR1p4gk9ecVEblMRBaIyILVq1fv8ICags6KNlvDbIwxJqrt0/VSsiTAi3dOruwqERal
nRPXa3JLIgXz18BuYa93dY+Fmwz8Qx2fAp8D+yR4LgCqeo+qjlPVcUOHDk10/F1qaesAoDA/q7ea
NsYYEzvOOj1R18mLNs7eMnZjsl4i1eR8YLSIjBKRPsD3cZZfhPsCmAggIuXA3sDyBM9NifYO5y9R
njyJ09IYY8zO1FMx2CIyQESuRLUUVREY8ZvXX1/TK6Out5/tjjX2eEV0TxTZ2fALiDE9Ku4CX3fz
+KtwNnv3APer6hIRucJ9/26cbYBqRWQRzhY+N6rqGoBo56bmUrbX7u7+kW8FszHGZJpOMdjdjLEe
4Pb1ZwBVXeH3+3fKz5h0CV/u4Pf7Z7nHJqTiM1LVvzG9UUJ3xKnqC8ALEcfuDnu+ApiU6Lk7g80w
G2NM5omIwR6J81fH3YEvROQi4PfABKAQuEtVp7vn3QB8zz3+pKpWu233EJGFwCvAXQMHDjz0pz/9
6Xx3G7qzgWJgNDAV6AP8AGf/5lNVdW1DQ0PRc889t1dNTc07wCbgR6q6dGd8FztBE4nv5Wwzx8bE
kLVbSLS1h2aYbQ2zMcZkiogY7KtwwknGq+pmEbkM2KCqh4pIIfBvEXkZp+AdjbNVqQDPiMixwC+A
/VR1LICI+CI+Lm6U9tNPP733mWee+clf/vKXw0XkcJzZ6uNT+R2ES2XUdeR5cWeMZdtYALzurh1h
yYNbx9RrlroY00OytmDeOsPssRlmY4zJYM+o6mb3+STgABE5131dhlMoT3If77nH+7vHv4jTd9Qo
bWCR+zn9PR5P6WOPPTbm7rvvDoWRFO74JSUl5VHXoaI8SkEeWYwn+lmWQGhyTtYWzG0dtobZGGN6
gY1hzwW4WlVfCm8gIicBvwstzwg77ovTd9QobaCDcVzJCfy0z519OPOaM4trqT2QGLO54pfGKqpK
3OddFZyZqqsC1wpfYxIUNxo7HXoiGvvO15Yx9eVPWPbfp1DgsWUZxpidw6Kx4wuLwb4KaFbVqe7x
y4BTge+qaquI7IWzFenRODeXT1TVZhEZcfXVV/+qT58+Y+6+++5xN9xww1yA1atXF/390UcPv/bS
S5n13nsfr1ixouScc85ZBjB16tQjLr/88ndKSkpa33rrrYq6tXV7H3HaEbxy7ysceuShDBgzAFXF
86VnwciRIzdGjjlAoDJaVHRXMdGuuFHayURdR0o0ijpW1HV4397A9lHa0aK6Q6LFiCcbjV0YDFb2
aWnhultusSUeJuNl/QyzR2yG2Rhjeol7AR/wrogIsBo4W1VfFpFvAW85h2netGnT0sGDB7cNHz58
w+23336oz+f75qijjlqR7Aeecc4ZvPTcS6x/fT0d7R3ss8c+Q6IVzN0VJFjWQMP4RArI7sq0KOpu
jMdmuk3Gy9oZ5j+9/DF3zvyUz393Wg+Nyhhj4rMZ5vSaMWVKG8Dk+++POSHUVfyzVmvUWRbxi0aL
iu6qPTg32dVRN34GMzbFWOqRSNR11M+IiKLucoY2VtT1dn1H3NwXNap764mdx5ToeEJmTJnSJqoe
N5bcZphNRsvaGeb2DrX1y8YYk2O+8KZuJrc73GjsCanqGzJnn+Rkx7P1v5VmxviNiSVrF/e2d6jt
wWyMMaYryUZR9+bo6q7G2VvGb0zaZe0Mc1uH2h7MxhhjthKRscBwVX0h2TQ7rdbSFCXfxQsX2eGi
1pL7jNlxWVsw2wyzMcaYCGNxdufY6emzXdkZUddJSDQZ0GamTc7J2inYto4OW8NsjDG9jIj8PxH5
WETmiMgjInK9iIwVkbki8oGIPCkiA922UY9Pnz59rIiMc9sMEZGAiPQBfg2cJyILReS89F1lN4k0
IqKhhzcQqPQGApXhx8IejUn3r1qKqoQedT7f7Dqfb3b4MfdhN+iZnJO1BbPNMBtjTO8iIocC5wAH
AqfgzAYD/C9OrPUBOCl91XGOd6KqLcCvgEdVdayqPpqaq0ipZLZfS36rtsQL8uSL8Z3RvzEplLVL
MtrarWA2xphe5mjgaVUNAkEReRYoBgaoaigo4wHgcREpi3YcSHuxFSOKGjI7HTDV0dgWvW16rawt
mG2G2RhjclNeXp6y7S+oRT3RZ5LR2LEKPisGjemFsnZJRpvtw2yMMb3Nv4EzRKRIRPoDpwMbgXUi
cozb5gfAbFXd0On4YYwJEKjsN6zfAE4hNPN8blj/293UJn5pDBCoDBCodGeFY4lW6PZo8VtH3Xh3
LJrAeJIj0hixBCLtM/HG9CZZm/T3k4ffZenKRl79+YSeGZQxxiTAkv52jIjUABcADcAq4EVgPnA3
0A9YDkyuqamprqurG//888/v1dbWlldaWho88rwjB3v7evlm9Tf8/fG/k9ee1zxq1Ki1S5cuLb/+
+uvnNjc359fW1h7Q0dGRd+SRR9YNPXTovhVUAFBPPT58s6MOCggQqAxvGxLtnACBSoBo7bs6ByBI
sDK8fWQ7b8DpN6S+wum/on77/kPqfNvO9wYClZHtw99Ptv/Ic8PH30BDe7Qo8Gj992lp4bpbbuk8
+ChJgsakU/YuyWi3fZiNMaYXmqqqNSLSD3gdeEdVFwJHhDfy+/14vd7mK6+88t3QsVChOnjoYM66
8ix8+N4BOP300z8H6N+/f9tVV10V3j71V2OMyQpZWzC32RpmY4zpje4RkX1x1h4/oKrvRmtUXV19
beSx8HXGtdQ2xdvPOJn24hcN3cRXS+3W49HOCa1xjta+q3MApvintCnqcdt3Ho9sd/MgtVVO/1W1
2/e/7YPCzhfRTu0jI6mT6T9KnHVoH+n7q+/v9F6s/o3pDbJ2Cra9o4N8jxXMxhjTm6jqBe62b/uo
6u+SOrdaS334ZvvwzU5kJ4ok26c8GtuLd447FknBThqRY7XwEWOSkLUFs80wG2OM6SkRxbXEKWpj
FaPpKVRVSyOCSDJ1aztjMlLWFszttkuGMcb0CiLiE5HFPdBP1RNPPDHafX62u7Qj9N6sUPpfqmm1
lmq1SpQCOxUzx8aYnSBrC+a2DiVPrGA2xpgcdTawb9xWvUsys9PdmclO9JzuzpKnun9jUiZrC+b2
DrU1zMYY03t4ROSvIrJERF4Wkb4isoeIvCgi74jIGyKyD4CInCEib4vIe8eJtDW4kcozYMbQ1tbh
LfPmVQ6Ei33w+FgRXSYSKsC+O06kfS8RfSN2PHNm7lGsWuoupxBUJWKJReQj+ZnsxPvv3ix5qvs3
JoWydpcMJ+kva38fMMaYbDMaOF9VfyQijwHnAJOBK1R1mYgcDvwZOB6YAxyhqnqviP4B+FN4R8OG
cSZO6ombWtLffSt/AeS9APiBf3U9lm2BJE7xXALgDe3qELHbA9C0M4u8Xhy9bUyvldUFs61hNsaY
XuNzd79lgHcAH3AU8LhsW15X6P67K/CoiOyyFzAq8c/4B3DdIZDMDsyJpPntcOJfr47edn+piPIL
xU79RcKYVMragtl2yTDGmF5lS9jzdqAcWK+qY6O0vQO4RVWfmSWiNUl+hgdo6/YwUyal0dtRCvLY
M9Eijd4qp71bAMcqfrsaZ8zx11E3XlGP+KXRZsVNpsvaaOxJt85mj6H9+ctFh/TQqIwxJj6Lxk6e
iPiA51R1P/f19TjLKCYBt6rq4+JMMx+gqu+LyHvf//73P9pnn32G/+vBBytXNzXxi1NOYc6yZSzZ
vJmzJk3iX089hXfwYI4ZPRqAX7700oZJkyZ9NkHk4KZgEP+zzzL1u9/tMv45FP0cHuecbFQ0MLYw
GCwrb2ho/8LbOSo6XKqjt6P1HysKPJEo7fC2EP376eoccKK0W2jhFm5Bqy0K22S2rF3kazPMxhjT
610IXCIi7wNLgLPc4zXPPPPMaXfeeech/QsLo554+KhRvLh4MdXPPMOqxsy8h88Y03tk7Qxz5R9n
ctBuA7jt+wf10KiMMSY+m2HeyRKNc1Z3BnMH2seJiu40QxOKiq6urp7Q5fhdMaK3O/WbQPR21HMi
28ec1Y0epR29vfsdRf1+ujqH7aLA7UZFk/Gydw1zu5JnM8zGGGMMOHsbl0S87sn2SfPiLFPRap3Q
030b09OydkmG7ZJhjDGmF4lWkPZYkRol2jv2jG5yUdpdjdMCSEzWyMqCee3GFuobg7YPszHG9BIi
0tzNUxMpypq6eJ6K9t0SpaCNVdTG+rydX6S6gSRRgkhsmYXJGlm5JOPv73wJwC5lRWkeiTHGmJSK
KMrq3HXDaBd/5t+B9nHb7iShQjq0RtqWNBiTelk5BbultQOAH0/YI80jMcYYE0lEnnLjrpeIyGVh
x291j70qIkPdY9eIyIci8oGI/M09Viwi94vIPBF5T0TOco9XPfDAA2Puu+++A0RkmYj8Iazvk0Xk
XRF5X0ReDfXzt7/9be+77rrr4Ih+xrh9L3Q/d/TO/H6MMZknKwvmdnfnD4/YGmZjjMlAU1T1EGAc
cI2IDAaKgQWqOgaYDVS7bX8BHKSqBwBXuMf+C3hNVQ8DjgP+KCLFAGvWrOl//vnnLwH2B84Tkd3c
4vuvwDmqeiDw3VA/o0aNWv+Tn/zk3Yh+rgBud0NTxgFfpfC7MMb0Alm5JKO9QxHBdskwxpjMdI2I
fNt9vhswGugAHnWPPYgTYw3wAfCQiDwFPOUemwSc6QacABQBIwF22223df369WtX1aCIfAh4gYHA
66r6OYCqrg31M3fu3JFvv/32bsCssH7eAv5LRHYF/qGqy3r28o0xvU12zjDbDhnGGJORRGQCcAJw
pDvb+x5OoRoptP/xacBdwMHAfBHJBwRntnis+xipqh8BeDye8H2W24k9MSTf+973Fl9zzTULwvtR
1YeBM4HNwAsicnz3r9hEJdLoDQQqvYFAJSKKiKXLmIyWlcElv3vhI2rfDPDxzaf04KiMMSY+Cy6J
zV0nfKmqniEi+wALgZOBmcD5qvo3EbkJKAd+CoxU1YCIFAB1wL7Af4wePfrUCy64YL2IUFdX19/r
9Tb/671/HbNpxaa8SadNooGG9lfvf3XDUUcd9eXw4cM3Tp8+/ZCLL7544bBhw4LNzc35/fv3b3v2
2WdHARWnn376ZhFZGOpn1apVRUOHDg2KCE8//fQeJSUlW44//vivgLHuZSxM5FqDBJ3IaOoRpD20
73AMSfVfGHT6TyR6uzvtkx1P6HobaIh7raHo7T4tLVx3yy3OwRghJ8akW9YuybAZZmOMyUgvAleI
yEfAx8Bc9/hG4DC3WF4FnAd4gAdFpAxnVnmaqq4Xkd90dHScPm3atHGqKqWlpcEpU6YsUnTrX00V
9YSel5aWtp588smfPProo2NUVfr27dvyox/96IOTTjqp7oUXXxjx5z//ubS1tfXQUD8LFy4c9uGH
H5bn5eVpcXFxy8SJE+tCfeW3thaVNjb61g4eHEjmosPHE0uQYFkDDeMTKK63Ek2s7+62T1ai12pM
b5KVBXNbh6X8GWNMJlLVLUC0P//17+KU8VH62AwcEHm8xl+jVQdVUU89tdSidTo43nj69OkzC7aP
r66uro7a1u/3z2orKODqadMmRG0QYbJ/shMZvS2KOuZ5fr9/VgMN42cwY1MiW8XNmDKlTVQ9VbW1
TYlsdZds+2SivaFT1HXsc8Kit43pDbKyYO5Qm2E2xpgcFB7nnPaUOUHaw2ZbExqPF++cRPdV3rqs
IsF9oZNtn6wko65THr1tTE/Kypv+2joUjxXMxhiTUyLS8tKeMufFOyfhKOpck1z0tjFpl5UFc4cV
zMYYk3VEpFxEHhaR5W7wyVsi8m0RGSwiM0Wk+YknnrCQEWNMj8vKgrmtQy20xBhjsoiICM4+zK+r
6u5u8Mn3gV2BIPD/gOtjdGGMMd2WlQVzR4fi8VjBbIwxWeR4oEVV7w4dUNU6Vb1DVTeq6hycwtkY
Y3pcVhbMNsNsjDFZZwzwbroHYYzJTVlZMLerbStnjDHZTETuEpH3RWR+usdijMl+WbmtXHu7bStn
jDFZZglwTuiFqv5ERIYACwDEL42cRUnrilYCBIaLXxRost0pMpP4pbGKqhL3uf23MhkvK6Oxf/S/
C/hy7SZevPbYHhyVMcbEZ9HYqeHe9DcXqFXVv/j9/tvWrFlzeG1t7UHXX3/93ACBymXvLWPzis1M
Om0S9dQD4MM3O07XycQ/JxUVnWz7ZKO0k2k/sq5ufEN5uQegor4eFUkkHjtl1xsgUFlBBS20cAtO
NLZWWzS2yVxZOcPc0aHk201/xhiTNVRVReRs4FYR+Y8BAwb07devX2FlZeVnAI/f+jhI46cgAAAc
fklEQVStW1rRdmXZ0mVM/MFEBgwbELffwmCwDGBLUVFC4ygMBsvKGxrGJ1Bsdqt9SLLx0vHaR8Zh
JxqP3UprUQEFCY8j2fbG9BZZWTDbTX/GGJN9VHUlzlZyndRQowBVVAGJx1HPmDKlDWDy/ffHbAdO
VHR5Q8P4yTNmbEo0WjqZ9slGaSfVPiyKuqrWaR9vTH6/f1Yjjb5p1YlFgSfTXvyiof9WxvQGWVkw
d6gFlxhjjIkv2ZnfL7zeOclESyfTPtko7STbdyuKejCDA4m06257Y3qLrCyY29qtYDbGmBwTWRCG
jvUaoTXI8WaWu9VetbTO75/lPk+o/xTrVgFvTLpk7bZyVjAbY0zu0Got1WoVH77ZPnyztVrFdl3I
XFqtpfbfyvQmWTnD3N6hFBRk5e8CxhiTs0SkHLgVOAJYB7QAfwCagd8DfYYMGeKbOHHiZ+kbpTEm
G2VlVdneoXjysvLSjDEmJ7nbyj0FvK6qu6vqITg3AO4KrAHOUNX9zz777KXPPvvst9I5VmNM9sna
GWbbVc4YY7LK8UCLqt4dOqCqdcAd4Y1GjBixsa2tLU9EClV1y84epDEmO2XlNKzNMBtjTNYZA7wb
r9G77747dOjQoc1WLBtjelJCM8wicjJwO+AB7lXV30e8fwNwYVif3wKGqupaEQng3P3aDrTtjAQs
p2BO9acYY4xJFxG5CxiPM+t8qHtsTElJye4XXXTR++kdXepFiZaGWPHSIo3eKqc9sq09ajfbGZOI
uAWziHiAu4ATga+A+SLyjKp+GGqjqn8E/ui2PwP4maquDevmOFVd06Mjj6FdlXybYTbGmGyyBDgn
9EJVfyIiQ4AFACKyK/DkmWee+VF5eXkwFQOoo268oh63QO26ON05IrfQ6+pYd9szsq5uvKh63ALb
imuT00RVYzcQORKoUdWT3Nf/CaCqv+ui/cPATFX9q/s6AIxLpmAeN26cLliwINHmnRw3dRb7jSjj
jvMP6nYfxhjTHSLyzs74S1qucW/6mwvUqupf/H7/bWvWrDm8trb2oB//+McL7rvvvrEHnnBg38P3
PTwPoIGG9tA+xbEUBoOVAFuKimbHaxvEaVtPPQA+fPHOGRskWJboWJJpHyBQWUEF4eOJNSZvIFBZ
X+G0r6jf1r7O1/U1hL6bUPtYbUPjd/9dGKcd4HyfLbRwC7ek+5cPY+JKZEnGCODLsNdfAYdHaygi
/YCTgavCDivwLxFpB6ar6j3dHGvC2juUfNuH2RhjsoaqqoicDdwqIv8xYMCAvv369SusrKz87I03
3hjR2NjYd+HshXlLZi8B4LgfHOehf3rHbBIWc6bbmEzQ07tknAH8O2I5xnhV/VpEhgGviMhSVX09
8kQRuQy4DGDkyJE7NIj2DiVPrGA2xphsoqorcbaSiyp8XW8ttU2JJOD53fS76urquG2n+Ke0Keqp
pRacJRkxz/H7/bOKKOL+6vvj9p1se/GLVlEFgDseIEbqn4jWVjntq2q3tY+V+jdjypQ2UfW47Zvi
JQQm813Ctu8TS/kzvUAiC32/BnYLe72reyya7wOPhB9Q1a/df1cBTwKHRTtRVe9R1XGqOm7o0KEJ
DKtrdtOfMcbknoj0uB7/E78X75wMSqaLVmTGKjyTbc8XXu+cOp9vNqqSivXLYd9nur9LY+JKpKyc
D4wWkVEi0genKH4mspGIlAGVwNNhx4pFpCT0HJgELO6JgcfSZtvKGWOMyWJRoqVjF/GqpXU+3+yw
AjglRbAx2SrukgxVbRORq4CXcLaVu19Vl4jIFe77oU3kvw28rKobw04vB5507tUgH3hYVV/syQuI
pkNthtkYY7JNjGjsr4F7AAYNGrTnMcccE0jXGI0x2SmhNcyq+gLwQsSxuyNe10LYQirn2HLgwB0a
YTe0tXfYtnLGGJNFwqKxH1DVC9xjXuBMnAmdcaradu211745ffr0cSKSr6ptaRyyMSaLZGU0dodi
N/0ZY0x2SSgau7W11WZLjDE9LisL5vYOJd9jBbMxxmSRmNHYInI4cH9+fv4+p5122kdPPfWUzS4b
Y3pMVv4mbtvKGWNMdhORu0TkfRGZD6Cqb6vqmClTprzz5ptvjhSRonSPMWeINCKi3kCg0hsIVCKi
7qMx3UMzpqdk5wyzWnCJMcZkmZjR2CHDhw/fVFBQ0A7sF/nejgjf49mNxob0x2MnTqTRW+WM3426
hp6Lu+4qeKTLQJIo32fv+S5NToobjZ0OOxKNraqM+s8XuGbiaK47ca8eHpkxxsRm0dipESsa+4c/
/OHCwYMHb/F4PLqpoaHyL//3f1x2+eVvlpSUtMbrNxR3XUTsaOxko6jD+66nHkESicdOKlqaJKK0
dyQau7yhof0Lb9f9ewMB5zqT6D/0fbrR2ABotdpMl8lYWTfD3OHW/zbDbIwx2SNWNPby5cvLHn74
4ZF5eXlaVFDAWZMmkUixvDO5iXZxuQXw+ASK66T77i7R/9/e/cfIUZ53AP8+OZ/PkNyRWCG2sc0d
ag0VRYmRrBaKlaOpaJyWlPSfCqJUORsJtTJqqKtUwB/dG1miEZFc/5GgiNb2UTWQkibIVoRKaUpt
gVDBNEQBEhSL7sFZvnMrl5xTdLd3e0//mJm72dn59e7t7My8+/1Ip7udfebd931vbT/7+p158m2f
qAqsS5iXmisAgAEmzEREVkkrjQ245ZwBYL9BeWYAqeWojUtRA9jv7NdgfJZS2nOY23sCJz7IWtZ7
DnN7pzCVHr++0tjJZbG9LR4m7Qfnk6gKrEuYF5fdhHlog5XXMxIRUYKkrQNRDFZyL6N9T25iaWmB
NAOrv4mxwf5kSZY7iDfu/+pcJiXLnQv3J9P8EBXFuoS54SfMg/wfJCIi6g6t6YjjOP/u/Xx7lnP8
ZNwkAc6N6si01/8cEuCoZNw/Ht2dDuaTqEjWLcMuLjcBAEOsjU1ERJQ/1RGoyvTY2OnpsbHTUBXv
qyd3vRCR4yJyUUTe6MXrUX+yLqtc3ZIxaN3QiIiIqN0UgH3hg47jHHUc52jWRhhfjb4Uxd4tGdzD
TERkPcdxZgBsjzgevmfq+VqttsMk3vueS9uMT48Px8VR1TMiMhbx1O6IY0kYX0zbncT3nHVZpb/C
vJEJMxGRNRL+2/0UgMWU0xcBnOwgPs+2GZ8enztxZF4cUXFE66iP11Ef9x97X3ZVK/SqMmaqzJgc
23fVHC1eYeZFf0REFpkC8A0Afx86fhjA/pRzV7w403jJsW3Gp8f3Qmw1wozPp/KS7mH/NnoFV4pM
Gk/4uSxjb4lJGCsQMd6SzU0i65ZhVy/64wozEZE1VPUMgEvh47Va7QKAE4hfuVwEcKJWq82axufZ
NuPT49dFZD60KlrkSqhx6fAKM0nIk+JLNzfWrTAvLnFLBhFRn0lauYxasTSJz7NtxqfHp3Ic5+jB
gwdvefLJJ6/zb1U3OjEx7Jfq9gqqDK/eVi8gWDzFL30eLqjiRJzn2Z3yfEt7Ue2nnJupfZ9fyvzE
gQPLcfcjH51Ye+3Q/AAAgnOUFht1TtJYgfaxBOMbaER1uTSsyyobTW7JICLqJwkrl5ErlibxebbN
+PT4LI4dO/a548eP3/z+++9f8eijj9760ksvbTVtoxMLWLhqAQtXla19ljLPh30rzNySQUTUj6JW
LpNWLE3i82yb8enxid59990b2g5GlQKPKNgS3GMbVfociC+sYlJWPa79pKItWdv3ZSplLmvjTS1l
nhYbcU7SWIH28Ybjy8y6rLLBu2QQEfWdwMql/4984oqlSXyebTM+Pb6sRjH6okFp9dzbf3d09EWv
cEypLpazhXVZ5SLvw0xEZB0ReQrAywBuEJEZEbk3Iuww1pKwLCuWJvF5ts347t8ZI1yWO7ZMdw/E
vXaRfSqLysyNdVmlf9Hf0CC38BAR2UJV71HVbao6qKo7VPVYOMZbufRXKVNXLE3i82yb8TmsLquO
hEp1x626piVm607ctKYjWlMZw9jpMYyd1pqK91XESnDSeLqRpBq1X7K5SWTdHmb/or+NA9Z9FiAi
6jt+udxarfZAxlMEQBPZVyxN4vNsm/EFCCZm/h0ckvYVV17gg8Pq3S3i9ju7CW7a7d1akmB/Pm2c
S+sS5sWlJkSAwQEpuitERLR+piVzVwDMGqxYmsTn2Tbje8m9L3NLMrh6GzVpKbYBAJf7bV+wODKP
ybX5mfC+759sCx2GI/NlXBHuNvsS5uUVbBz4EESYMBMR9aFz3Yz3K5EBa1fyh6qXAfFVydL7Ekjc
OkjYUtvPs//BtvNo33GcGbjltA97Wzi6yaQwRumKaJgK/66A5N9XODbFcPgDSKb3cvp7v1QfVKxM
mHnBHxFRdWVI8npZNjfv8sDG7RvKs/2s53Xa/nYABwDsdxznBPJJnPNVnqQw7w8InbwXci9L3k3W
Jcyzv1jA1cNDRXeDiIg6V6l/SCOYlgcuH5H50YmJYe9nRRcTu4QPFFEfhPx/0KuaOFf9vUwe6xLm
9/73A+zcfGXR3SAiol5rTfLmUxM80/iSuXZ6eq+oDnQ7ofWEE7luJnZxbSW9RtUTZzOG701xZH4C
brz0yZ7iXhPV8PaS4u3Zs0fPnj3b0bmfnHwOd+3ejsNfuKnLvSIiSicir6nqnqL7UTXe3TB2A0Ad
9XH/+Fa4VY5n0Xpd2BjGTofbGK3Xx2e3uvFbZ2cxPdYeYxqfpS/h/vjnZOn7aH2t/WBfwqL6NrSw
MB6M71b//X6F+xNuP9i2SftJ8xPqR0v7Iep9zcK928YKQnuiF+DOzxzmmuECIMF593U6/4ubNsW+
z7L8fqPaNn0v11EfD85n+PcZ/l0Byb8v09jxeuvjLHMZnpuNjQYOHTnSGqxamgvSrFlhXmqu4Jkf
ncf8wjJ2br6i6O4QERFRfsT7ugburekqVSWQqseaFeavfvfH+O5rMxjZtAH/9Ke/heu3cFsQEfUe
V5jXL3iRnL/PdQpTLTFai1h5Epmf8v4be2JqKn2LQob4LH0J98c/J1PfAxeATXkXhU1MtbcftdJ2
4sCBZVEd8OK71n+/X239CfUhfHeFbsxPMM5xnKQEZRHuqrK/NaMtYfbvBVyr1W5vO7v97g3G85/Y
fsTrxLYftYpq+F4ObsmYwlTbXvCIO2Ek/r5MY3Wy9XGmuex0bgpizQrzWxfmcdP2Efzjfbfiw0PW
DIuIiLJSHclQjKHz+JJ5d9TbZpBP38O3FutmqeK425ZleY3URNkKhu9NremIjcVCysSazHKpuYJf
/cRHmCwTEVHRku5j283EMz85fpjosBpcfyTKVFrWZJdLTcUgy2ETEdkgrXBCL5POvMsDG7dvKO/2
81b1RLlM7+WyqdTcWJMwN5ZXmDATEVkguP+y6P9mztoXw0pqgH/P4cDe1NQV3ezV1ABvT3POc5m1
Ilynic95ACeRT6JsUs2u88TN5PebL6Px/uIRDI801g5MTbjfT0y1B89vNGp/bS7LMzeZ2JMwN5kw
ExFRimxJZyf3NDa90jzPamoAMNyF0tWJwufk9OHGvxtGV8lk+7EJ7/v+iOfKd3sEM1rTkfB7PykJ
NjHSAKA60lqh02XTXFqTMC81V7BxoDQXUxIRUYdMS2OnxPe6FHWZ5F26Om95lsbOu1Q0gB6UeU8u
vR3+4Jf3+8Hoz1buc9Nl1izJLnFLBhGRLUzLCedbilpkHiI6Wq+Pj9br4xDRwNf8utvvN/HzGTWX
QwA2wU2c33Ec5zHHcbb1tsPrkndp7CqXYa9U2XBrMsylpmJwgzXDISKi8qhyUlJGnZbGLk3iLI7M
11Efr6M+Lo6ot1pKFrOicImq4rqHnsWf/c4uHLrj+hx7RkSUjIVLOrOe0thp8XGlqIFs5Yr9c5Ji
Oyk9HFHee7f3/fWo+Kx9950ey96fqFLjfunnLXNzzdV7PifIGp80n6ES0OsqjZ3UH9PfV1Sp6XB8
1Bx2WuZ9GtN7t2DLABBd2tuXVno76n2cFB8nLTb8ZyDLXIbjG2jgCFpLY0cWKCqIFXuYl1fcpJ97
mImI7NJAIz1oHfEbG9njTWI76QuAX5oE590fv31RHcgzvkOZS2Nn7U+ZKNb6HPyZimPFCvMHjWXc
+FfP4eHf+zXc9+lfybFnRETJuMK8fjG3YWsRVWo5S2zMLdgiTjI4R1Wy9DmxX1lk7bsfPrnOvqxd
UJbtriFZ45PGod0rjR0oHd7WH9NS0eH5EUc0HB81h52WeU8rdb0WmFJeOuF9nFi+OiQ1NvRnIMtc
djo3RbFihXlp2Z1zXvRHRETUJaa31jO/FV8nMhcyqXDpcJa6LiErEubFZhMAE2YiIspF9Utdl0vc
fCbNZakq/jGh7T9WJMxLTX8PMxNmIiILmJbMzTeh7c3Kaf8wm89SJcodyLv8c5U/zLE0dq8tLa8A
AAY3lGarCxERdci0WIFhfJYSvqX6hzqgk3LOeZauzlvlS2PnXubdrLy0SfnqTm6XaPRnK/e56TIr
Lvr7+dxl3PE3Z/CNL96MOz95TY49IyJKxov++lO4DHUGpapiZgPHcWbgVgdMc75Wq+1gfHz8g488
cs1Qo7G6Cply0d9lZ3JyPq++1Gq1HRnicmfFCnOj6a0wc0sGEREVgMlv74jIcQB3ArioqjcFnjoF
t7DJUMLpi3BXrRmfEP+1hx+WqFhncjIce6xWqx2E4zyWc98LZ0WGyT3MREREfWMKwL6I44fhFjNJ
suLFMT45vkx9KQUrMswlrjATERH1BVU9A+BS+HitVrsA9+LAxZhTFwGc8PdDMz4+vkx9iXm+56zI
MFcv+mOlPyIion6WtHIZtWLJ+Pj4MvWlcFYkzIv+CvMGK4ZDREREHUhYuYxcsWR8fHyZ+lIGVmSY
/goz9zATERH1vaiVy6QVS8bHx5epL4WyIsNcveiPK8xERER9LbBy6SdiiSuWjI+PL1NfimZFhjm8
aQM+tfOjuHLjQNFdISIiohyJyFMAXgZwg4jMiMi9EWHBlcssK5aMr0ZfCmNFwvzp66/GyYO3YcfH
riy6K0RERJQjVb1HVbep6qCq7lDVY+EYb+XSX6VMXbFkfHx8mfpSJCsSZiIiIrKb4zhHHcc5anCK
AGgi+4ol46vRl0JYUemPiIiIrLfbMH4FwGzkiqW0lzIfPnQIAHDoyJELaK1odxkaWckxvn3T/pQs
Plzq/RDcuTmCIxcmnclweFSZ97z73nNMmImIiMhG5xKeGw4f2HyprRZKbGyG9ksXH06CJzDhHw/e
pcJPflvGfKm9TkyQGxv4EDI6MeG9aEvbQPyHj8S+O44zA7ec9mFvC0fPcUsGERERUR5E5iGiENHR
en18tF4f9x97CWYvxSX+pjHdaT95bsLzsx3AAQDvOI7zmOM429bRz45kSphFZJ+IvC0i50TkwYjn
vyoir3tfb4hIU0Q2ZzmXiIiIyFJJSeR6ktNV4si8OKJ11MfrqI+LI+qtJpdd2vjDzw8B2ISCEufU
LRkiMgDgmwDuADAD4FUROaWqb/kxqvp1AF/34j8P4M9V9VKWc4mIiIjSXDs9vVdUByAyH/Pf+lb1
x6D9qMSzK8l4SQ153w8A2O84zgn0YKuGqMaV8fYCRG4FMKmqn/UePwQAqvrXMfFPAnhBVf/W9Fzf
nj179OzZs6ZjISIqnIi8pqp7iu4HUVV5d8Jou8BvaGFhHAC2zs5iemzsdFo7C3Dj5zDXHMXoi8Hn
Ruv18XD87Nat8NsPi3q9LP0Jvk5U+0njyDreOtzX2Aq3/VnvDm1jaD3Hj/OF431jGDudNTZ4TtpY
ff5YssQHxt32+wpQ72sWwDSAV2q12gMJ8R3JctHfdgDvBR7PAPjNqEARuRLAPgD3m55LREREFGdj
o2EU30BD4d6uLJf2yxbfQH7xpm3nPdYQ8b6uAbAZwCvraSxOt++S8XkAL6lq4uWUUUTkPgD3AcC1
117b5W4RERFRFcSuDq7dheEyVG9f14u0370hWdTrZelP2uskjSPjeEN3uVhrutZ6Tlxc1HlZY1te
K+uc+mPJEu/FOo6TFLsI97Z0/taMXG5NlyVhPg9gZ+DxDu9YlLsBPNXJuar6OIDHAXdLRoZ+ERER
Ub8owb7lFnn3J3v7l9G+Z/lyl3tTRj1JlH1ZEuZXAewSkevgJrt3A/hiOEhEroK7x+RLpucSERER
WSgqmQ0+t24RRUOqImlu/Oej9DRR9qUmzKq6LCL3A3gOwACA46r6poj8iff8t7zQPwTwL6r6f2nn
dnsQRERERKVTrlXxtATVj+lN++ZzU0ii7Mu0h1lVnwXwbOjYt0KPpwBMZTmXiIiIqEBZkrtgbOUZ
rkSbz0++Hw7OAziJAhJlX+pt5YrA28oRUVXxtnJERPZhaWwiIiIiogRMmImIiIiIEjBhJiIiIiJK
wISZiIiIiChBKS/6E5H/hlsP3MTHAfxPDt0pC5vHx7FVl83j63Rso6p6dbc7Q0RExSllwtwJETlr
85XpNo+PY6sum8dn89iIiMgMt2QQERERESVgwkxERERElMCmhPnxojuQM5vHx7FVl83js3lsRERk
wJo9zEREREREebBphZmIiIiIqOusSJhFZJ+IvC0i50TkwaL7Y0pEjovIRRF5I3Bss4g8LyI/975/
LPDcQ95Y3xaRzxbT62xEZKeIvCAib4nImyLyFe+4LePbJCKviMiPvfE53nErxgcAIjIgIj8SkR94
j60Ym4jUReQnIvK6iJz1jlkxNiIi6q7KJ8wiMgDgmwA+B+BGAPeIyI3F9srYFIB9oWMPAvihqu4C
8EPvMbyx3Q3g171zHvPmoKyWAfyFqt4I4BYAB70x2DK+RQCfUdVPAdgNYJ+I3AJ7xgcAXwHw08Bj
m8b226q6O3D7OJvGRkREXVL5hBnAbwA4p6rvqGoDwHcA3FVwn4yo6hkAl0KH7wLwhPfzEwC+EDj+
HVVdVNX/AnAO7hyUkqpeUNX/9H6+DDfx2g57xqeq+kvv4aD3pbBkfCKyA8DvA/i7wGErxhbD5rER
EVGHbEiYtwN4L/B4xjtWdVtU9YL38yyALd7PlR2viIwBuBnAf8Ci8XlbFl4HcBHA86pq0/iOAvhL
ACuBY7aMTQH8q4i8JiL3ecdsGRsREXXRhqI7QOlUVUWk0rczEZGPAPgegAdUdV5EVp+r+vhUtQlg
t4h8FMAzInJT6PlKjk9E7gRwUVVfE5Hbo2KqOjbPXlU9LyKfAPC8iPws+GTFx0ZERF1kwwrzeQA7
A493eMeqbk5EtgGA9/2id7xy4xWRQbjJ8rdV9fveYWvG51PV9wG8AHePqw3juw3AH4hIHe5Wp8+I
yD/AjrFBVc973y8CeAbuFgsrxkZERN1lQ8L8KoBdInKdiGyEe2HOqYL71A2nAHzZ+/nLAE4Gjt8t
IkMich2AXQBeKaB/mYi7lHwMwE9V9UjgKVvGd7W3sgwRuQLAHQB+BgvGp6oPqeoOVR2D++fq31T1
S7BgbCLyYREZ9n8G8LsA3oAFYyMiou6r/JYMVV0WkfsBPAdgAMBxVX2z4G4ZEZGnANwO4OMiMgOg
BuBrAJ4WkXsBTAP4IwBQ1TdF5GkAb8G9A8VBb0tAWd0G4I8B/MTb5wsAD8Oe8W0D8IR3x4QPAXha
VX8gIi/DjvFFseF3twXu9hnA/XvwSVX9ZxF5FdUfGxERdRkr/RERERERJbBhSwYRERERUW6YMBMR
ERERJWDCTERERESUgAkzEREREVECJsxERERERAmYMBMRERERJWDCTERERESUgAkzEREREVGC/wdl
di+evMdrNwAAAABJRU5ErkJggg==
"
>
</div>

</div>

</div>
</div>

</div>
<div class="cell border-box-sizing code_cell rendered">
<div class="input">
<div class="prompt input_prompt">In&nbsp;[58]:</div>
<div class="inner_cell">
    <div class="input_area">
<div class=" highlight hl-ipython3"><pre><span></span><span class="n">predclass</span><span class="p">,</span><span class="n">prob</span><span class="p">,</span><span class="n">Z</span> <span class="o">=</span> <span class="n">nnet</span><span class="o">.</span><span class="n">use</span><span class="p">(</span><span class="n">X</span><span class="p">,</span><span class="n">allOutputs</span><span class="o">=</span><span class="kc">True</span><span class="p">)</span>
<span class="n">highest</span> <span class="o">=</span> <span class="n">X</span><span class="p">[</span><span class="n">np</span><span class="o">.</span><span class="n">argmax</span><span class="p">(</span><span class="n">prob</span><span class="p">[:,</span><span class="mi">1</span><span class="p">]),:]</span>
<span class="n">lowest</span> <span class="o">=</span> <span class="n">X</span><span class="p">[</span><span class="n">np</span><span class="o">.</span><span class="n">argmin</span><span class="p">(</span><span class="n">prob</span><span class="p">[:,</span><span class="mi">1</span><span class="p">]),:]</span>
<span class="nb">print</span><span class="p">(</span><span class="s1">&#39;Hi Alc  Lo Alc&#39;</span><span class="p">)</span>
<span class="k">for</span> <span class="n">h</span><span class="p">,</span><span class="n">l</span><span class="p">,</span><span class="n">n</span> <span class="ow">in</span> <span class="nb">zip</span><span class="p">(</span><span class="n">highest</span><span class="p">,</span><span class="n">lowest</span><span class="p">,</span><span class="n">Xnames</span><span class="p">):</span>
    <span class="nb">print</span><span class="p">(</span><span class="s1">&#39;</span><span class="si">{}</span><span class="se">\t</span><span class="si">{}</span><span class="se">\t</span><span class="si">{}</span><span class="s1">&#39;</span><span class="o">.</span><span class="n">format</span><span class="p">(</span><span class="n">h</span><span class="p">,</span><span class="n">l</span><span class="p">,</span><span class="n">n</span><span class="p">))</span>
</pre></div>

</div>
</div>
</div>

<div class="output_wrapper">
<div class="output">


<div class="output_area">
<div class="prompt"></div>

<div class="output_subarea output_stream output_stdout output_text">
<pre>Hi Alc  Lo Alc
1.0	1.0	subject
1.0	1.0	school
1.0	0.0	sex
17.0	16.0	age
1.0	0.0	address
1.0	0.0	famsize
0.0	1.0	Pstatus
1.0	2.0	Medu
1.0	2.0	Fedu
4.0	3.0	Mjob
2.0	4.0	Fjob
3.0	1.0	reason
1.0	0.0	guardian
3.0	2.0	traveltime
1.0	4.0	studytime
0.0	0.0	failures
0.0	0.0	schoolsup
0.0	0.0	famsup
0.0	0.0	paid
0.0	1.0	activities
0.0	0.0	nursery
0.0	0.0	higher
0.0	0.0	internet
0.0	1.0	romantic
4.0	1.0	famrel
2.0	2.0	freetime
4.0	1.0	goout
4.0	1.0	health
4.0	4.0	absences
12.0	10.0	G1
13.0	9.0	G2
14.0	11.0	G3
</pre>
</div>
</div>

</div>
</div>

</div>
<div class="cell border-box-sizing code_cell rendered">
<div class="input">
<div class="prompt input_prompt">In&nbsp;[59]:</div>
<div class="inner_cell">
    <div class="input_area">
<div class=" highlight hl-ipython3"><pre><span></span><span class="nb">len</span><span class="p">(</span><span class="n">Z</span><span class="p">)</span>
</pre></div>

</div>
</div>
</div>

<div class="output_wrapper">
<div class="output">


<div class="output_area">
<div class="prompt output_prompt">Out[59]:</div>



<div class="output_text output_subarea output_execute_result">
<pre>3</pre>
</div>

</div>

</div>
</div>

</div>
<div class="cell border-box-sizing code_cell rendered">
<div class="input">
<div class="prompt input_prompt">In&nbsp;[60]:</div>
<div class="inner_cell">
    <div class="input_area">
<div class=" highlight hl-ipython3"><pre><span></span><span class="n">bottleneck</span> <span class="o">=</span> <span class="n">Z</span><span class="p">[</span><span class="mi">1</span><span class="p">]</span>
<span class="n">bottleneck</span><span class="o">.</span><span class="n">shape</span>
</pre></div>

</div>
</div>
</div>

<div class="output_wrapper">
<div class="output">


<div class="output_area">
<div class="prompt output_prompt">Out[60]:</div>



<div class="output_text output_subarea output_execute_result">
<pre>(1044, 2)</pre>
</div>

</div>

</div>
</div>

</div>
<div class="cell border-box-sizing code_cell rendered">
<div class="input">
<div class="prompt input_prompt">In&nbsp;[61]:</div>
<div class="inner_cell">
    <div class="input_area">
<div class=" highlight hl-ipython3"><pre><span></span><span class="n">plt</span><span class="o">.</span><span class="n">figure</span><span class="p">(</span><span class="n">figsize</span><span class="o">=</span><span class="p">(</span><span class="mi">10</span><span class="p">,</span><span class="mi">10</span><span class="p">))</span>
<span class="n">plt</span><span class="o">.</span><span class="n">scatter</span><span class="p">(</span><span class="n">bottleneck</span><span class="p">[:,</span><span class="mi">0</span><span class="p">],</span><span class="n">bottleneck</span><span class="p">[:,</span><span class="mi">1</span><span class="p">],</span><span class="n">c</span><span class="o">=</span><span class="n">T</span><span class="p">,</span> <span class="n">s</span><span class="o">=</span><span class="mi">60</span><span class="p">,</span> <span class="n">alpha</span><span class="o">=</span><span class="mf">0.3</span><span class="p">);</span>
</pre></div>

</div>
</div>
</div>

<div class="output_wrapper">
<div class="output">


<div class="output_area">
<div class="prompt"></div>



<div class="output_png output_subarea ">
<img src="data:image/png;base64,iVBORw0KGgoAAAANSUhEUgAAAmUAAAJCCAYAAACBJrCpAAAABHNCSVQICAgIfAhkiAAAAAlwSFlz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"
>
</div>

</div>

</div>
</div>

</div>
<div class="cell border-box-sizing code_cell rendered">
<div class="input">
<div class="prompt input_prompt">In&nbsp;[62]:</div>
<div class="inner_cell">
    <div class="input_area">
<div class=" highlight hl-ipython3"><pre><span></span><span class="n">hiddens</span> <span class="o">=</span> <span class="p">[</span><span class="mi">10</span><span class="p">,</span><span class="mi">10</span><span class="p">,</span><span class="mi">2</span><span class="p">,</span><span class="mi">10</span><span class="p">,</span><span class="mi">10</span><span class="p">]</span>
<span class="n">plt</span><span class="o">.</span><span class="n">figure</span><span class="p">(</span><span class="n">figsize</span><span class="o">=</span><span class="p">(</span><span class="mi">12</span><span class="p">,</span><span class="mi">8</span><span class="p">))</span>
<span class="n">nnet</span> <span class="o">=</span> <span class="n">nn</span><span class="o">.</span><span class="n">NeuralNetworkClassifier</span><span class="p">(</span><span class="n">X</span><span class="o">.</span><span class="n">shape</span><span class="p">[</span><span class="mi">1</span><span class="p">],</span><span class="n">hiddens</span><span class="p">,</span><span class="nb">len</span><span class="p">(</span><span class="n">np</span><span class="o">.</span><span class="n">unique</span><span class="p">(</span><span class="n">T</span><span class="p">)))</span>
<span class="n">nnet</span><span class="o">.</span><span class="n">train</span><span class="p">(</span><span class="n">X</span><span class="p">,</span><span class="n">T</span><span class="p">,</span><span class="n">nIterations</span> <span class="o">=</span> <span class="mi">1000</span><span class="p">)</span>
<span class="n">plt</span><span class="o">.</span><span class="n">subplot</span><span class="p">(</span><span class="mi">1</span><span class="p">,</span><span class="mi">2</span><span class="p">,</span><span class="mi">1</span><span class="p">)</span>
<span class="n">plt</span><span class="o">.</span><span class="n">plot</span><span class="p">(</span><span class="n">np</span><span class="o">.</span><span class="n">exp</span><span class="p">(</span><span class="o">-</span><span class="n">nnet</span><span class="o">.</span><span class="n">getErrorTrace</span><span class="p">()))</span>
<span class="n">plt</span><span class="o">.</span><span class="n">subplot</span><span class="p">(</span><span class="mi">1</span><span class="p">,</span><span class="mi">2</span><span class="p">,</span><span class="mi">2</span><span class="p">)</span>
<span class="n">predclass</span><span class="p">,</span><span class="n">prob</span><span class="p">,</span><span class="n">Z</span> <span class="o">=</span> <span class="n">nnet</span><span class="o">.</span><span class="n">use</span><span class="p">(</span><span class="n">X</span><span class="p">,</span><span class="n">allOutputs</span><span class="o">=</span><span class="kc">True</span><span class="p">)</span>
<span class="n">bottleneck</span> <span class="o">=</span> <span class="n">Z</span><span class="p">[</span><span class="nb">int</span><span class="p">(</span><span class="nb">len</span><span class="p">(</span><span class="n">Z</span><span class="p">)</span><span class="o">/</span><span class="mi">2</span><span class="p">)]</span>
<span class="n">plt</span><span class="o">.</span><span class="n">scatter</span><span class="p">(</span><span class="n">bottleneck</span><span class="p">[:,</span><span class="mi">0</span><span class="p">],</span><span class="n">bottleneck</span><span class="p">[:,</span><span class="mi">1</span><span class="p">],</span><span class="n">c</span><span class="o">=</span><span class="n">T</span><span class="p">,</span> <span class="n">s</span><span class="o">=</span><span class="mi">60</span><span class="p">,</span> <span class="n">alpha</span><span class="o">=</span><span class="mf">0.3</span><span class="p">);</span>
</pre></div>

</div>
</div>
</div>

<div class="output_wrapper">
<div class="output">


<div class="output_area">
<div class="prompt"></div>



<div class="output_png output_subarea ">
<img src="data:image/png;base64,iVBORw0KGgoAAAANSUhEUgAAAswAAAHVCAYAAADl4K3UAAAABHNCSVQICAgIfAhkiAAAAAlwSFlz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"
>
</div>

</div>

</div>
</div>

</div>
<div class="cell border-box-sizing text_cell rendered">
<div class="prompt input_prompt">
</div>
<div class="inner_cell">
<div class="text_cell_render border-box-sizing rendered_html">
<p>We should partition data into training and testing subsets, to see if the two-dimensional mapping learned on training data cleanly separates testing data.</p>

</div>
</div>
</div>
<div class="cell border-box-sizing code_cell rendered">
<div class="input">
<div class="prompt input_prompt">In&nbsp;[70]:</div>
<div class="inner_cell">
    <div class="input_area">
<div class=" highlight hl-ipython3"><pre><span></span><span class="k">def</span> <span class="nf">percCorrect</span><span class="p">(</span><span class="n">predicted</span><span class="p">,</span><span class="n">T</span><span class="p">):</span>
    <span class="k">return</span> <span class="n">np</span><span class="o">.</span><span class="n">sum</span><span class="p">(</span><span class="n">predicted</span> <span class="o">==</span> <span class="n">T</span><span class="p">)</span> <span class="o">/</span> <span class="n">T</span><span class="o">.</span><span class="n">shape</span><span class="p">[</span><span class="mi">0</span><span class="p">]</span> <span class="o">*</span> <span class="mi">100</span>
</pre></div>

</div>
</div>
</div>

</div>
<div class="cell border-box-sizing code_cell rendered">
<div class="input">
<div class="prompt input_prompt">In&nbsp;[78]:</div>
<div class="inner_cell">
    <div class="input_area">
<div class=" highlight hl-ipython3"><pre><span></span><span class="k">for</span> <span class="n">Xtrain</span><span class="p">,</span><span class="n">Ttrain</span><span class="p">,</span><span class="n">Xtest</span><span class="p">,</span><span class="n">Ttest</span> <span class="ow">in</span> <span class="n">ml</span><span class="o">.</span><span class="n">partitionsKFolds</span><span class="p">(</span><span class="n">X</span><span class="p">,</span><span class="n">T</span><span class="p">,</span><span class="mi">4</span><span class="p">,</span><span class="n">validation</span><span class="o">=</span><span class="kc">False</span><span class="p">,</span><span class="n">shuffle</span><span class="o">=</span><span class="kc">True</span><span class="p">,</span><span class="n">classification</span><span class="o">=</span><span class="kc">True</span><span class="p">):</span>
    <span class="n">hiddens</span> <span class="o">=</span> <span class="p">[</span><span class="mi">100</span><span class="p">,</span><span class="mi">50</span><span class="p">,</span><span class="mi">10</span><span class="p">,</span><span class="mi">2</span><span class="p">,</span><span class="mi">10</span><span class="p">,</span><span class="mi">50</span><span class="p">,</span><span class="mi">100</span><span class="p">]</span>
    <span class="n">nIterations</span> <span class="o">=</span> <span class="mi">10</span>
    <span class="n">plt</span><span class="o">.</span><span class="n">figure</span><span class="p">(</span><span class="n">figsize</span><span class="o">=</span><span class="p">(</span><span class="mi">15</span><span class="p">,</span><span class="mi">8</span><span class="p">))</span>
    <span class="n">nnet</span> <span class="o">=</span> <span class="n">nn</span><span class="o">.</span><span class="n">NeuralNetworkClassifier</span><span class="p">(</span><span class="n">Xtrain</span><span class="o">.</span><span class="n">shape</span><span class="p">[</span><span class="mi">1</span><span class="p">],</span><span class="n">hiddens</span><span class="p">,</span><span class="nb">len</span><span class="p">(</span><span class="n">np</span><span class="o">.</span><span class="n">unique</span><span class="p">(</span><span class="n">Ttrain</span><span class="p">)))</span>
    <span class="n">nnet</span><span class="o">.</span><span class="n">train</span><span class="p">(</span><span class="n">Xtrain</span><span class="p">,</span><span class="n">Ttrain</span><span class="p">,</span><span class="n">nIterations</span> <span class="o">=</span> <span class="n">nIterations</span><span class="p">)</span>
    <span class="n">plt</span><span class="o">.</span><span class="n">subplot</span><span class="p">(</span><span class="mi">1</span><span class="p">,</span><span class="mi">3</span><span class="p">,</span><span class="mi">1</span><span class="p">)</span>
    <span class="n">plt</span><span class="o">.</span><span class="n">plot</span><span class="p">(</span><span class="n">np</span><span class="o">.</span><span class="n">exp</span><span class="p">(</span><span class="o">-</span><span class="n">nnet</span><span class="o">.</span><span class="n">getErrorTrace</span><span class="p">()))</span>
    <span class="n">plt</span><span class="o">.</span><span class="n">subplot</span><span class="p">(</span><span class="mi">1</span><span class="p">,</span><span class="mi">3</span><span class="p">,</span><span class="mi">2</span><span class="p">)</span>
    <span class="n">predclassTrain</span><span class="p">,</span><span class="n">prob</span><span class="p">,</span><span class="n">Z</span> <span class="o">=</span> <span class="n">nnet</span><span class="o">.</span><span class="n">use</span><span class="p">(</span><span class="n">Xtrain</span><span class="p">,</span><span class="n">allOutputs</span><span class="o">=</span><span class="kc">True</span><span class="p">)</span>
    <span class="n">bottleneck</span> <span class="o">=</span> <span class="n">Z</span><span class="p">[</span><span class="nb">int</span><span class="p">(</span><span class="nb">len</span><span class="p">(</span><span class="n">Z</span><span class="p">)</span><span class="o">/</span><span class="mi">2</span><span class="p">)]</span>
    <span class="n">plt</span><span class="o">.</span><span class="n">scatter</span><span class="p">(</span><span class="n">bottleneck</span><span class="p">[:,</span><span class="mi">0</span><span class="p">],</span><span class="n">bottleneck</span><span class="p">[:,</span><span class="mi">1</span><span class="p">],</span><span class="n">c</span><span class="o">=</span><span class="n">Ttrain</span><span class="p">,</span> <span class="n">s</span><span class="o">=</span><span class="mi">60</span><span class="p">,</span> <span class="n">alpha</span><span class="o">=</span><span class="mf">0.3</span><span class="p">);</span>
    <span class="n">plt</span><span class="o">.</span><span class="n">title</span><span class="p">(</span><span class="s1">&#39;Train data&#39;</span><span class="p">)</span>
    <span class="n">plt</span><span class="o">.</span><span class="n">subplot</span><span class="p">(</span><span class="mi">1</span><span class="p">,</span><span class="mi">3</span><span class="p">,</span><span class="mi">3</span><span class="p">)</span>
    <span class="n">predclassTest</span><span class="p">,</span><span class="n">prob</span><span class="p">,</span><span class="n">Z</span> <span class="o">=</span> <span class="n">nnet</span><span class="o">.</span><span class="n">use</span><span class="p">(</span><span class="n">Xtest</span><span class="p">,</span><span class="n">allOutputs</span><span class="o">=</span><span class="kc">True</span><span class="p">)</span>
    <span class="n">bottleneck</span> <span class="o">=</span> <span class="n">Z</span><span class="p">[</span><span class="nb">int</span><span class="p">(</span><span class="nb">len</span><span class="p">(</span><span class="n">Z</span><span class="p">)</span><span class="o">/</span><span class="mi">2</span><span class="p">)]</span>
    <span class="n">plt</span><span class="o">.</span><span class="n">scatter</span><span class="p">(</span><span class="n">bottleneck</span><span class="p">[:,</span><span class="mi">0</span><span class="p">],</span><span class="n">bottleneck</span><span class="p">[:,</span><span class="mi">1</span><span class="p">],</span><span class="n">c</span><span class="o">=</span><span class="n">Ttest</span><span class="p">,</span> <span class="n">s</span><span class="o">=</span><span class="mi">60</span><span class="p">,</span> <span class="n">alpha</span><span class="o">=</span><span class="mf">0.3</span><span class="p">)</span>
    <span class="n">plt</span><span class="o">.</span><span class="n">title</span><span class="p">(</span><span class="s1">&#39;Test data&#39;</span><span class="p">)</span>
    
    <span class="nb">print</span><span class="p">(</span><span class="s1">&#39;Hiddens&#39;</span><span class="p">,</span><span class="n">hiddens</span><span class="p">,</span><span class="s1">&#39;nIterations&#39;</span><span class="p">,</span><span class="n">nIterations</span><span class="p">)</span>
    <span class="nb">print</span><span class="p">(</span><span class="s1">&#39;Train </span><span class="si">% c</span><span class="s1">orrect&#39;</span><span class="p">,</span><span class="n">percCorrect</span><span class="p">(</span><span class="n">predclassTrain</span><span class="p">,</span><span class="n">Ttrain</span><span class="p">))</span>
    <span class="nb">print</span><span class="p">(</span><span class="s1">&#39;Test </span><span class="si">% c</span><span class="s1">orrect &#39;</span><span class="p">,</span><span class="n">percCorrect</span><span class="p">(</span><span class="n">predclassTest</span><span class="p">,</span><span class="n">Ttest</span><span class="p">))</span>
    <span class="k">break</span>
</pre></div>

</div>
</div>
</div>

<div class="output_wrapper">
<div class="output">


<div class="output_area">
<div class="prompt"></div>

<div class="output_subarea output_stream output_stdout output_text">
<pre>Hiddens [100, 50, 10, 2, 10, 50, 100] nIterations 10
Train % correct 82.6530612245
Test % correct  82.3076923077
</pre>
</div>
</div>

<div class="output_area">
<div class="prompt"></div>



<div class="output_png output_subarea ">
<img src="data:image/png;base64,iVBORw0KGgoAAAANSUhEUgAAA3QAAAHiCAYAAACgMI7MAAAABHNCSVQICAgIfAhkiAAAAAlwSFlz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"
>
</div>

</div>

</div>
</div>

</div>
<div class="cell border-box-sizing code_cell rendered">
<div class="input">
<div class="prompt input_prompt">In&nbsp;[&nbsp;]:</div>
<div class="inner_cell">
    <div class="input_area">
<div class=" highlight hl-ipython3"><pre><span></span> 
</pre></div>

</div>
</div>
</div>

</div>
 


    </div>
  </div>

  </div>


  
    <footer class="footer hidden-print">
      <div class="container">
        <div class="col-md-4">
          <p>
            This website does not host notebooks, it only renders notebooks
            available on other websites.
          </p>
        </div>

        <div class="col-md-4">
          <p>
            Delivered by <a href="http://www.fastly.com/">Fastly</a>,
            Rendered by <a href="https://developer.rackspace.com/?nbviewer=awesome">Rackspace</a>
          </p>
          <p>
            nbviewer GitHub <a href="https://github.com/jupyter/nbviewer">repository</a>.
          </p>
        </div>

        <div class="col-md-4">
          
  
            
              <p>
                nbviewer version:
                <a href="https://github.com/jupyter/nbviewer/commit/4f5d1d8a2539c1c8dc92873d3a775d34f0a3d417">
                  4f5d1d8
                </a>
              </p>
            
          
  
  <p>
    nbconvert version: <a href="https://github.com/jupyter/nbconvert/releases/tag/5.1.1">
      5.1.1
    </a>
  </p>
  

          
  
  
  <p>
    Rendered
    <span class='date' data-date='Sun, 26 Mar 2017 22:17:52 UTC' title='Sun, 26 Mar 2017 22:17:52 UTC'>(Sun, 26 Mar 2017 22:17:52 UTC)</span>
  </p>
  

        </div>
      </div>
    </footer>
  

  <script src="https://unpkg.com/jupyter-js-widgets@2.0.*/dist/embed.js"></script>
  <script src="/static/components/bootstrap/js/bootstrap.min.js?v=5869c96cc8f19086aee625d670d741f9"></script>
  <script src="/static/components/headroom.js/dist/headroom.min.js?v=b0a311ea668f8e768ea375f4a7abb81c"></script>
  <script src="/static/components/headroom.js/dist/jQuery.headroom.min.js?v=f3a1bae118315d0c234afc74dc6aab71"></script>

  
  
  <script>
    $(function(){ $("#menubar").headroom({
      tolerance: 5,
      offset: 205,
      classes: {
        initial: "animated",
        pinned: "slideInDown",
        unpinned: "slideOutUp"
      }
    })});
  </script>


  
  <script>
    (function(i,s,o,g,r,a,m){i['GoogleAnalyticsObject']=r;i[r]=i[r]||function(){
      (i[r].q=i[r].q||[]).push(arguments)},i[r].l=1*new Date();a=s.createElement(o),
      m=s.getElementsByTagName(o)[0];a.async=1;a.src=g;m.parentNode.insertBefore(a,m)
    })(window,document,'script','https://www.google-analytics.com/analytics.js','ga');
    ga('create', 'UA-52617120-5', 'auto');
    ga('send', 'pageview');
  </script>
  
  <script>
    require({
        paths: {
          moment: "/static/components/moment/min/moment.min.js?v=89f87298ad94aa1e6b92f42eb66da043"
        }
      }, ["moment"], function(moment){
      var date = $("footer .date"),
        m = moment(new Date(date.data('date'))),
        update = function(){ date.text(m.fromNow()); };
      setInterval(update, 61*1000);
      update();
      var w = $(window).scroll(function(event){
        $("body").toggleClass("scrolled", w.scrollTop() > 0);
      });
    });
  </script>
  <!--NEW RELIC Stop Perf Measurement-->
  
  <!--NEW RELIC End-->
</body>
</html>