








<!DOCTYPE html>
<html lang="en">

<head>
  <meta charset="utf-8">
  <title>Jupyter Notebook Viewer</title>
  <meta name="viewport" content="width=device-width, initial-scale=1.0">
  <meta name="description" content="">
  <meta name="author" content="">
  
  <meta name="robots" content="noindex,nofollow">
  

  <!--NEW RELIC Start Perf Measurement-->
  
  <!--NREND-->

  <!-- Le styles -->
  <script type="text/javascript">
//<![CDATA[
try{if (!window.CloudFlare) {var CloudFlare=[{verbose:0,p:0,byc:0,owlid:"cf",bag2:1,mirage2:0,oracle:0,paths:{cloudflare:"/cdn-cgi/nexp/dok3v=1613a3a185/"},atok:"2c554000d27230245b2f6639f086e6b3",petok:"53ea2fe2e20b419692cd4c6219f761e0ae52aabf-1490566634-3600",zone:"jupyter.org",rocket:"0",apps:{"ga_key":{"ua":"UA-52617120-1","ga_bs":"2"}}}];!function(a,b){a=document.createElement("script"),b=document.getElementsByTagName("script")[0],a.async=!0,a.src="//ajax.cloudflare.com/cdn-cgi/nexp/dok3v=f2befc48d1/cloudflare.min.js",b.parentNode.insertBefore(a,b)}()}}catch(e){};
//]]>
</script>
<link href="/static/build/styles.css?v=c18d49652a516277e15114bbd447f1c1" rel="stylesheet">

  <!-- Le HTML5 shim, for IE6-8 support of HTML5 elements -->
  <!--[if lt IE 9]>
    <script src="http://html5shim.googlecode.com/svn/trunk/html5.js"></script>
  <![endif]-->

  <!-- Le fav and touch icons -->
  <link rel="shortcut icon" href="/static/ico/ipynb_icon_16x16.png">
  <link rel="apple-touch-icon-precomposed" sizes="144x144"
        href="/static/ico/apple-touch-icon-144-precomposed.png?v=5a3c9ede93e2a8b8ea9e3f8f3da1a905">
  <link rel="apple-touch-icon-precomposed" sizes="114x114"
        href="/static/ico/apple-touch-icon-114-precomposed.png?v=45d86fc8f24dc00638035e1dd7a6d898">
  <link rel="apple-touch-icon-precomposed" sizes="72x72"
        href="/static/ico/apple-touch-icon-72-precomposed.png?v=540b5eb0f3cfd25f1439d1c9bd30e15f">
  <link rel="apple-touch-icon-precomposed"
        href="/static/ico/apple-touch-icon-57-precomposed.png?v=225f0590e187e1458625654f10a28f56">
  
  

  

  
  <meta name="twitter:card" content="summary">
  <meta name="twitter:title" content="Notebook on nbviewer">
  <meta name="twitter:description" content="Check out this Jupyter notebook!">

  
  <meta name="twitter:domain" content="nbviewer.ipython.org">
  <meta name="twitter:image:src" content="http://ipython.org/ipython-doc/dev/_images/ipynb_icon_128x128.png">

  
    <link href="/static/build/notebook.css?v=d05748bef7d8f0edbc1e0133b9a41fe0" rel="stylesheet">
  

  

  
    <script src="https://cdn.mathjax.org/mathjax/latest/MathJax.js?config=TeX-AMS_HTML" type="text/javascript">
    </script>
    <script type="text/javascript">
      init_mathjax = function() {
        if (window.MathJax) {
          // MathJax loaded
          MathJax.Hub.Config({
            TeX: {
              equationNumbers: {
                autoNumber: "AMS",
                useLabelIds: true
              }
            },
            tex2jax: {
              inlineMath: [ ['$','$'], ["\\(","\\)"] ],
              displayMath: [ ['$$','$$'], ["\\[","\\]"] ],
              processEscapes: true,
              processEnvironments: true
            },
            displayAlign: 'center',
            "HTML-CSS": {
              styles: {'.MathJax_Display': {"margin": 0}},
              linebreaks: { automatic: true }
            }
          });
          MathJax.Hub.Queue(["Typeset", MathJax.Hub]);
        }
      }
      init_mathjax();
    </script>
  

<script type="text/javascript">
/* <![CDATA[ */
var _gaq = _gaq || [];
_gaq.push(['_setAccount', 'UA-52617120-1']);
_gaq.push(['_trackPageview']);

(function() {
var ga = document.createElement('script'); ga.type = 'text/javascript'; ga.async = true;
ga.src = ('https:' == document.location.protocol ? 'https://ssl' : 'http://www') + '.google-analytics.com/ga.js';
var s = document.getElementsByTagName('script')[0]; s.parentNode.insertBefore(ga, s);
})();

(function(b){(function(a){"__CF"in b&&"DJS"in b.__CF?b.__CF.DJS.push(a):"addEventListener"in b?b.addEventListener("load",a,!1):b.attachEvent("onload",a)})(function(){"FB"in b&&"Event"in FB&&"subscribe"in FB.Event&&(FB.Event.subscribe("edge.create",function(a){_gaq.push(["_trackSocial","facebook","like",a])}),FB.Event.subscribe("edge.remove",function(a){_gaq.push(["_trackSocial","facebook","unlike",a])}),FB.Event.subscribe("message.send",function(a){_gaq.push(["_trackSocial","facebook","send",a])}));"twttr"in b&&"events"in twttr&&"bind"in twttr.events&&twttr.events.bind("tweet",function(a){if(a){var b;if(a.target&&a.target.nodeName=="IFRAME")a:{if(a=a.target.src){a=a.split("#")[0].match(/[^?=&]+=([^&]*)?/g);b=0;for(var c;c=a[b];++b)if(c.indexOf("url")===0){b=unescape(c.split("=")[1]);break a}}b=void 0}_gaq.push(["_trackSocial","twitter","tweet",b])}})})})(window);
/* ]]> */
</script>
</head>

<body class="nbviewer">

  <!-- These are loaded at the top of the body so they are available to
       notebook cells when they are loaded below. -->
  <script src="/static/components/jquery/dist/jquery.min.js?v=e071abda8fe61194711cfc2ab99fe104"></script>
  <script src="/static/components/requirejs/require.js?v=6da8be361b9ee26c5e721e76c6d4afce"></script>
  <script src="/static/components/moment/min/moment.min.js?v=89f87298ad94aa1e6b92f42eb66da043"></script>

<!-- Navbar
================================================== -->
  <nav id="menubar" class="navbar navbar-default navbar-fixed-top" data-spy="affix">
    <div class="container">
      <div class="navbar-header">
        <button type="button" class="navbar-toggle collapsed" data-toggle="collapse" data-target=".navbar-collapse">
          <span class="sr-only">Toggle navigation</span>
          <i class="fa fa-bars"></i>
        </button>
        <a class="navbar-brand" href="/">
          <img src="/static/img/nav_logo.svg?v=479cefe8d932fb14a67b93911b97d70f" width="159"/>
        </a>
      </div>

      <div class="collapse navbar-collapse">
        <ul class="nav navbar-nav navbar-right">
          <li>
            <a class="active" href="http://jupyter.org">JUPYTER</a>
          </li>
          <li>
    <a href="/faq" title="FAQ" >
      
        <span>FAQ</span>
      
    </a>
  </li>

          
  
    
      
        <li>
    <a href="/format/script/url/www.cs.colostate.edu/~anderson/cs480/notebooks/14%20Introduction%20to%20Classification.ipynb" title="View as Code" >
      <span class="fa fa-code fa-2x menu-icon"></span>
      <span class="menu-text">View as Code</span>
    </a>
  </li>
      
    
  
    
  

  
    <li>
    <a href="#" title="Python 3 Kernel" >
      <span class="fa fa-server fa-2x menu-icon"></span>
      <span class="menu-text">Python 3 Kernel</span>
    </a>
  </li>
  

  

  <li>
    <a href="http://www.cs.colostate.edu/%7Eanderson/cs480/notebooks/14%20Introduction%20to%20Classification.ipynb" title="Download Notebook" download>
      <span class="fa fa-download fa-2x menu-icon"></span>
      <span class="menu-text">Download Notebook</span>
    </a>
  </li>

        </ul>
      </div><!-- /.navbar-collapse -->
      
      
    </div>
  </nav>

  <div class="container container-main">
    
  
  <div id="notebook">
    <div id="notebook-container">
      
<div class="cell border-box-sizing text_cell rendered">
<div class="prompt input_prompt">
</div>
<div class="inner_cell">
<div class="text_cell_render border-box-sizing rendered_html">
$$\newcommand{\xv}{\mathbf{x}}
\newcommand{\Xv}{\mathbf{X}}
\newcommand{\yv}{\mathbf{y}}
\newcommand{\Yv}{\mathbf{Y}}
\newcommand{\zv}{\mathbf{z}}
\newcommand{\av}{\mathbf{a}}
\newcommand{\Wv}{\mathbf{W}}
\newcommand{\wv}{\mathbf{w}}
\newcommand{\gv}{\mathbf{g}}
\newcommand{\Hv}{\mathbf{H}}
\newcommand{\dv}{\mathbf{d}}
\newcommand{\Vv}{\mathbf{V}}
\newcommand{\vv}{\mathbf{v}}
\newcommand{\tv}{\mathbf{t}}
\newcommand{\Tv}{\mathbf{T}}
\newcommand{\Sv}{\mathbf{S}}
\newcommand{\zv}{\mathbf{z}}
\newcommand{\Zv}{\mathbf{Z}}
\newcommand{\Norm}{\mathcal{N}}
\newcommand{\muv}{\boldsymbol{\mu}}
\newcommand{\sigmav}{\boldsymbol{\sigma}}
\newcommand{\phiv}{\boldsymbol{\phi}}
\newcommand{\Phiv}{\boldsymbol{\Phi}}
\newcommand{\Sigmav}{\boldsymbol{\Sigma}}
\newcommand{\Lambdav}{\boldsymbol{\Lambda}}
\newcommand{\half}{\frac{1}{2}}
\newcommand{\argmax}[1]{\underset{#1}{\operatorname{argmax}}}
\newcommand{\argmin}[1]{\underset{#1}{\operatorname{argmin}}}
\newcommand{\dimensionbar}[1]{\underset{#1}{\operatorname{|}}}$$
</div>
</div>
</div>
<div class="cell border-box-sizing text_cell rendered">
<div class="prompt input_prompt">
</div>
<div class="inner_cell">
<div class="text_cell_render border-box-sizing rendered_html">
<h1 id="Introduction-to-Classification">Introduction to Classification<a class="anchor-link" href="#Introduction-to-Classification">&#182;</a></h1>
</div>
</div>
</div>
<div class="cell border-box-sizing text_cell rendered">
<div class="prompt input_prompt">
</div>
<div class="inner_cell">
<div class="text_cell_render border-box-sizing rendered_html">
<h2 id="Classification-with-Linear-Least-Squares">Classification with Linear Least Squares<a class="anchor-link" href="#Classification-with-Linear-Least-Squares">&#182;</a></h2>
</div>
</div>
</div>
<div class="cell border-box-sizing text_cell rendered">
<div class="prompt input_prompt">
</div>
<div class="inner_cell">
<div class="text_cell_render border-box-sizing rendered_html">
<p>To classify a sample as being a member of 1 of 3 different classes, we could use integers 1, 2, and 3 as target outputs.</p>
<p><img source="http://www.cs.colostate.edu/~anderson/cs545/notebooks/integerclass.png"></p>

</div>
</div>
</div>
<div class="cell border-box-sizing text_cell rendered">
<div class="prompt input_prompt">
</div>
<div class="inner_cell">
<div class="text_cell_render border-box-sizing rendered_html">
<p>Linear function of $x$ seems to match data fairly well. Why is this not a good idea?</p>
<p>We must convert the continuous y-axis value to discrete integers 1, 2, or 3.  Without adding more parameters, we are
forced to use the general solution of splitting at 1.5 and 2.5.</p>
<p><img src="http://www.cs.colostate.edu/~anderson/cs480/notebooks/integerclassboundaries.png" alt="image"></p>
<p>Rats!  Boundaries are not where we want them.</p>

</div>
</div>
</div>
<div class="cell border-box-sizing text_cell rendered">
<div class="prompt input_prompt">
</div>
<div class="inner_cell">
<div class="text_cell_render border-box-sizing rendered_html">
<h2 id="Indicator-Variables">Indicator Variables<a class="anchor-link" href="#Indicator-Variables">&#182;</a></h2>
</div>
</div>
</div>
<div class="cell border-box-sizing text_cell rendered">
<div class="prompt input_prompt">
</div>
<div class="inner_cell">
<div class="text_cell_render border-box-sizing rendered_html">
<p>To allow flexibility, we need to decouple the modeling of the
boundaries.  Problem is due to using one value to represent all classes.
Instead, let's use three values, one for each class.
Binary-valued variables are adequate.  Class 1 = $(1,0,0)$, Class
2 = $(0,1,0)$ and Class 3 = $(0,0,1)$.  These are called <strong>indicator
variables</strong>.</p>
<p>Our linear model has three
outputs now.  How do we interpret the output for a new sample?</p>
<p>Let the output be $\yv = (y_1, y_2, y_3)$.  Convert these
values to a class by picking the maximum value.</p>
$$
\begin{align*}
\text{class} = \argmax{i}\;\; y_i
\end{align*}
$$<p>We can plot the three output components on three separate
graphs. What linear functions will each one learn?</p>
<p>&lt;img src="<a href="http://www.cs.colostate.edu/~anderson/cs480/notebooks/indicatorvars.png">http://www.cs.colostate.edu/~anderson/cs480/notebooks/indicatorvars.png</a>" width=1000&gt;</p>
<p>Overlay them to see which one is the maximum for each $x$ value.</p>
<p>&lt;img src="<a href="http://www.cs.colostate.edu/~anderson/cs480/notebooks/indicatorvarsmax.png">http://www.cs.colostate.edu/~anderson/cs480/notebooks/indicatorvarsmax.png</a>" width=300&gt;</p>
<p>See any potential problems?</p>
<p>What if the green line is too low?</p>
<p>&lt;img src="<a href="http://www.cs.colostate.edu/~anderson/cs545/notebooks/indicatorvarsmax2.png">http://www.cs.colostate.edu/~anderson/cs545/notebooks/indicatorvarsmax2.png</a>" width=300&gt;</p>
<p>What could cause this?</p>

</div>
</div>
</div>
<div class="cell border-box-sizing text_cell rendered">
<div class="prompt input_prompt">
</div>
<div class="inner_cell">
<div class="text_cell_render border-box-sizing rendered_html">
<h2 id="Masking-Problem">Masking Problem<a class="anchor-link" href="#Masking-Problem">&#182;</a></h2>
</div>
</div>
</div>
<div class="cell border-box-sizing text_cell rendered">
<div class="prompt input_prompt">
</div>
<div class="inner_cell">
<div class="text_cell_render border-box-sizing rendered_html">
<p>Too few samples from Class 2.</p>
<p>&lt;img src="<a href="http://www.cs.colostate.edu/~anderson/cs480/notebooks/indicatorvars3.png">http://www.cs.colostate.edu/~anderson/cs480/notebooks/indicatorvars3.png</a>" width=1000&gt;</p>
<p>There may be no values of $x$ for which the second output, $y_2$, of our
linear model is larger than the other two.  Class 2 has become
<strong>masked</strong> by the other classes.</p>
<p>What other shape of function response would work better for this
data?  Hold that thought, while we try an example.</p>

</div>
</div>
</div>
<div class="cell border-box-sizing text_cell rendered">
<div class="prompt input_prompt">
</div>
<div class="inner_cell">
<div class="text_cell_render border-box-sizing rendered_html">
<h2 id="Example">Example<a class="anchor-link" href="#Example">&#182;</a></h2>
</div>
</div>
</div>
<div class="cell border-box-sizing text_cell rendered">
<div class="prompt input_prompt">
</div>
<div class="inner_cell">
<div class="text_cell_render border-box-sizing rendered_html">
<p>Let's use the <a href="https://archive.ics.uci.edu/ml/datasets/Parkinsons">parkinsons data set</a> from UCI ML Archive.</p>
<ul>
<li>147 samples from subjects with Parkinsons, 48 samples from healthy subjects</li>
<li>Each sample composed of 22 numerical features extracted from voice recordings</li>
<li>Feature named <em>status</em> is 0 for healthy subjects, 1 for subjects with Parkinson's Disease</li>
<li>from collaboration with the University of Oxford and the National Center for Voice and Speech in Denver.</li>
</ul>
<p>Let's download the data file and read it in.  Also print the shapes of
X and T and summarize the X and T data.</p>

</div>
</div>
</div>
<div class="cell border-box-sizing code_cell rendered">
<div class="input">
<div class="prompt input_prompt">In&nbsp;[1]:</div>
<div class="inner_cell">
    <div class="input_area">
<div class=" highlight hl-ipython3"><pre><span></span><span class="kn">import</span> <span class="nn">numpy</span> <span class="k">as</span> <span class="nn">np</span>
<span class="kn">import</span> <span class="nn">matplotlib.pyplot</span> <span class="k">as</span> <span class="nn">plt</span>
<span class="o">%</span><span class="k">matplotlib</span> inline
</pre></div>

</div>
</div>
</div>

</div>
<div class="cell border-box-sizing code_cell rendered">
<div class="input">
<div class="prompt input_prompt">In&nbsp;[2]:</div>
<div class="inner_cell">
    <div class="input_area">
<div class=" highlight hl-ipython3"><pre><span></span><span class="n">f</span> <span class="o">=</span> <span class="nb">open</span><span class="p">(</span><span class="s2">&quot;parkinsons.data&quot;</span><span class="p">,</span><span class="s2">&quot;r&quot;</span><span class="p">)</span>
<span class="n">header</span> <span class="o">=</span> <span class="n">f</span><span class="o">.</span><span class="n">readline</span><span class="p">()</span>
<span class="n">names</span> <span class="o">=</span> <span class="n">header</span><span class="o">.</span><span class="n">strip</span><span class="p">()</span><span class="o">.</span><span class="n">split</span><span class="p">(</span><span class="s1">&#39;,&#39;</span><span class="p">)[</span><span class="mi">1</span><span class="p">:]</span>

<span class="n">data</span> <span class="o">=</span> <span class="n">np</span><span class="o">.</span><span class="n">loadtxt</span><span class="p">(</span><span class="n">f</span> <span class="p">,</span><span class="n">delimiter</span><span class="o">=</span><span class="s1">&#39;,&#39;</span><span class="p">,</span> <span class="n">usecols</span><span class="o">=</span><span class="mi">1</span> <span class="o">+</span> <span class="n">np</span><span class="o">.</span><span class="n">arange</span><span class="p">(</span><span class="mi">23</span><span class="p">))</span>
<span class="n">data</span><span class="o">.</span><span class="n">shape</span>
</pre></div>

</div>
</div>
</div>

<div class="output_wrapper">
<div class="output">


<div class="output_area">
<div class="prompt output_prompt">Out[2]:</div>



<div class="output_text output_subarea output_execute_result">
<pre>(195, 23)</pre>
</div>

</div>

</div>
</div>

</div>
<div class="cell border-box-sizing code_cell rendered">
<div class="input">
<div class="prompt input_prompt">In&nbsp;[3]:</div>
<div class="inner_cell">
    <div class="input_area">
<div class=" highlight hl-ipython3"><pre><span></span><span class="n">names</span>
</pre></div>

</div>
</div>
</div>

<div class="output_wrapper">
<div class="output">


<div class="output_area">
<div class="prompt output_prompt">Out[3]:</div>



<div class="output_text output_subarea output_execute_result">
<pre>[&#39;MDVP:Fo(Hz)&#39;,
 &#39;MDVP:Fhi(Hz)&#39;,
 &#39;MDVP:Flo(Hz)&#39;,
 &#39;MDVP:Jitter(%)&#39;,
 &#39;MDVP:Jitter(Abs)&#39;,
 &#39;MDVP:RAP&#39;,
 &#39;MDVP:PPQ&#39;,
 &#39;Jitter:DDP&#39;,
 &#39;MDVP:Shimmer&#39;,
 &#39;MDVP:Shimmer(dB)&#39;,
 &#39;Shimmer:APQ3&#39;,
 &#39;Shimmer:APQ5&#39;,
 &#39;MDVP:APQ&#39;,
 &#39;Shimmer:DDA&#39;,
 &#39;NHR&#39;,
 &#39;HNR&#39;,
 &#39;status&#39;,
 &#39;RPDE&#39;,
 &#39;DFA&#39;,
 &#39;spread1&#39;,
 &#39;spread2&#39;,
 &#39;D2&#39;,
 &#39;PPE&#39;]</pre>
</div>

</div>

</div>
</div>

</div>
<div class="cell border-box-sizing code_cell rendered">
<div class="input">
<div class="prompt input_prompt">In&nbsp;[4]:</div>
<div class="inner_cell">
    <div class="input_area">
<div class=" highlight hl-ipython3"><pre><span></span><span class="n">x</span><span class="o">=</span><span class="n">np</span><span class="o">.</span><span class="n">arange</span><span class="p">(</span><span class="mi">10</span><span class="p">)</span><span class="o">.</span><span class="n">reshape</span><span class="p">((</span><span class="mi">2</span><span class="p">,</span> <span class="mi">5</span><span class="p">))</span>
<span class="n">x</span>
</pre></div>

</div>
</div>
</div>

<div class="output_wrapper">
<div class="output">


<div class="output_area">
<div class="prompt output_prompt">Out[4]:</div>



<div class="output_text output_subarea output_execute_result">
<pre>array([[0, 1, 2, 3, 4],
       [5, 6, 7, 8, 9]])</pre>
</div>

</div>

</div>
</div>

</div>
<div class="cell border-box-sizing code_cell rendered">
<div class="input">
<div class="prompt input_prompt">In&nbsp;[5]:</div>
<div class="inner_cell">
    <div class="input_area">
<div class=" highlight hl-ipython3"><pre><span></span>np.delete<span class="o">?</span>
</pre></div>

</div>
</div>
</div>

</div>
<div class="cell border-box-sizing code_cell rendered">
<div class="input">
<div class="prompt input_prompt">In&nbsp;[6]:</div>
<div class="inner_cell">
    <div class="input_area">
<div class=" highlight hl-ipython3"><pre><span></span><span class="n">np</span><span class="o">.</span><span class="n">delete</span><span class="p">(</span><span class="n">x</span><span class="p">,</span> <span class="mi">2</span><span class="p">,</span> <span class="mi">1</span><span class="p">)</span>
</pre></div>

</div>
</div>
</div>

<div class="output_wrapper">
<div class="output">


<div class="output_area">
<div class="prompt output_prompt">Out[6]:</div>



<div class="output_text output_subarea output_execute_result">
<pre>array([[0, 1, 3, 4],
       [5, 6, 8, 9]])</pre>
</div>

</div>

</div>
</div>

</div>
<div class="cell border-box-sizing code_cell rendered">
<div class="input">
<div class="prompt input_prompt">In&nbsp;[7]:</div>
<div class="inner_cell">
    <div class="input_area">
<div class=" highlight hl-ipython3"><pre><span></span><span class="n">targetColumn</span> <span class="o">=</span> <span class="n">names</span><span class="o">.</span><span class="n">index</span><span class="p">(</span><span class="s2">&quot;status&quot;</span><span class="p">)</span>
<span class="n">XColumns</span> <span class="o">=</span> <span class="n">np</span><span class="o">.</span><span class="n">arange</span><span class="p">(</span><span class="mi">23</span><span class="p">)</span>
<span class="n">XColumns</span> <span class="o">=</span> <span class="n">np</span><span class="o">.</span><span class="n">delete</span><span class="p">(</span><span class="n">XColumns</span><span class="p">,</span> <span class="n">targetColumn</span><span class="p">)</span>
<span class="n">X</span> <span class="o">=</span> <span class="n">data</span><span class="p">[:,</span> <span class="n">XColumns</span><span class="p">]</span>
<span class="n">T</span> <span class="o">=</span> <span class="n">data</span><span class="p">[:,</span> <span class="n">targetColumn</span><span class="p">]</span><span class="o">.</span><span class="n">reshape</span><span class="p">((</span><span class="o">-</span><span class="mi">1</span><span class="p">,</span> <span class="mi">1</span><span class="p">))</span> <span class="c1"># to keep 2-d matrix form</span>
<span class="n">names</span><span class="o">.</span><span class="n">remove</span><span class="p">(</span><span class="s2">&quot;status&quot;</span><span class="p">)</span>
<span class="n">X</span><span class="o">.</span><span class="n">shape</span><span class="p">,</span> <span class="n">T</span><span class="o">.</span><span class="n">shape</span>
</pre></div>

</div>
</div>
</div>

<div class="output_wrapper">
<div class="output">


<div class="output_area">
<div class="prompt output_prompt">Out[7]:</div>



<div class="output_text output_subarea output_execute_result">
<pre>((195, 22), (195, 1))</pre>
</div>

</div>

</div>
</div>

</div>
<div class="cell border-box-sizing code_cell rendered">
<div class="input">
<div class="prompt input_prompt">In&nbsp;[8]:</div>
<div class="inner_cell">
    <div class="input_area">
<div class=" highlight hl-ipython3"><pre><span></span><span class="nb">print</span><span class="p">(</span><span class="s1">&#39;</span><span class="si">{:20s}</span><span class="s1"> </span><span class="si">{:9s}</span><span class="s1"> </span><span class="si">{:9s}</span><span class="s1">&#39;</span><span class="o">.</span><span class="n">format</span><span class="p">(</span><span class="s1">&#39; &#39;</span><span class="p">,</span><span class="s1">&#39;mean&#39;</span><span class="p">,</span><span class="s1">&#39;stdev&#39;</span><span class="p">))</span>
<span class="k">for</span> <span class="n">i</span> <span class="ow">in</span> <span class="nb">range</span><span class="p">(</span><span class="n">X</span><span class="o">.</span><span class="n">shape</span><span class="p">[</span><span class="mi">1</span><span class="p">]):</span>
    <span class="nb">print</span><span class="p">(</span><span class="s1">&#39;</span><span class="si">{:20s}</span><span class="s1"> </span><span class="si">{:9.3g}</span><span class="s1"> </span><span class="si">{:9.3g}</span><span class="s1">&#39;</span><span class="o">.</span><span class="n">format</span><span class="p">(</span><span class="n">names</span><span class="p">[</span><span class="n">i</span><span class="p">],</span> <span class="n">np</span><span class="o">.</span><span class="n">mean</span><span class="p">(</span><span class="n">X</span><span class="p">[:,</span><span class="n">i</span><span class="p">]),</span> <span class="n">np</span><span class="o">.</span><span class="n">std</span><span class="p">(</span><span class="n">X</span><span class="p">[:,</span><span class="n">i</span><span class="p">])))</span>
</pre></div>

</div>
</div>
</div>

<div class="output_wrapper">
<div class="output">


<div class="output_area">
<div class="prompt"></div>

<div class="output_subarea output_stream output_stdout output_text">
<pre>                     mean      stdev    
MDVP:Fo(Hz)                154      41.3
MDVP:Fhi(Hz)               197      91.3
MDVP:Flo(Hz)               116      43.4
MDVP:Jitter(%)         0.00622   0.00484
MDVP:Jitter(Abs)       4.4e-05  3.47e-05
MDVP:RAP               0.00331   0.00296
MDVP:PPQ               0.00345   0.00275
Jitter:DDP             0.00992   0.00888
MDVP:Shimmer            0.0297    0.0188
MDVP:Shimmer(dB)         0.282     0.194
Shimmer:APQ3            0.0157    0.0101
Shimmer:APQ5            0.0179     0.012
MDVP:APQ                0.0241    0.0169
Shimmer:DDA              0.047    0.0304
NHR                     0.0248    0.0403
HNR                       21.9      4.41
RPDE                     0.499     0.104
DFA                      0.718    0.0552
spread1                  -5.68      1.09
spread2                  0.227    0.0832
D2                        2.38     0.382
PPE                      0.207    0.0899
</pre>
</div>
</div>

</div>
</div>

</div>
<div class="cell border-box-sizing code_cell rendered">
<div class="input">
<div class="prompt input_prompt">In&nbsp;[9]:</div>
<div class="inner_cell">
    <div class="input_area">
<div class=" highlight hl-ipython3"><pre><span></span><span class="n">uniq</span> <span class="o">=</span> <span class="n">np</span><span class="o">.</span><span class="n">unique</span><span class="p">(</span><span class="n">T</span><span class="p">)</span>
<span class="nb">print</span><span class="p">(</span><span class="s1">&#39;   Value  Occurrences&#39;</span><span class="p">)</span>
<span class="k">for</span> <span class="n">i</span> <span class="ow">in</span> <span class="n">uniq</span><span class="p">:</span>
    <span class="nb">print</span><span class="p">(</span><span class="s1">&#39;</span><span class="si">{:7.1g}</span><span class="s1"> </span><span class="si">{:10d}</span><span class="s1">&#39;</span><span class="o">.</span><span class="n">format</span><span class="p">(</span><span class="n">i</span><span class="p">,</span> <span class="n">np</span><span class="o">.</span><span class="n">sum</span><span class="p">(</span><span class="n">T</span><span class="o">==</span><span class="n">i</span><span class="p">)))</span>
</pre></div>

</div>
</div>
</div>

<div class="output_wrapper">
<div class="output">


<div class="output_area">
<div class="prompt"></div>

<div class="output_subarea output_stream output_stdout output_text">
<pre>   Value  Occurrences
      0         48
      1        147
</pre>
</div>
</div>

</div>
</div>

</div>
<div class="cell border-box-sizing text_cell rendered">
<div class="prompt input_prompt">
</div>
<div class="inner_cell">
<div class="text_cell_render border-box-sizing rendered_html">
<p>Two indicator variables is equivalent to using single variable, so we
will stick with <em>status</em> as our output variable, with value of 0
meaning healthy and 1 meaning Parkinsons.</p>

</div>
</div>
</div>
<div class="cell border-box-sizing text_cell rendered">
<div class="prompt input_prompt">
</div>
<div class="inner_cell">
<div class="text_cell_render border-box-sizing rendered_html">
<p>For small sample size or very uneven number of samples from
each class, force equal sampling proportions of two classes
when building train, test partitions.  Let's use 80% for training and
20% for testing.</p>

</div>
</div>
</div>
<div class="cell border-box-sizing code_cell rendered">
<div class="input">
<div class="prompt input_prompt">In&nbsp;[10]:</div>
<div class="inner_cell">
    <div class="input_area">
<div class=" highlight hl-ipython3"><pre><span></span><span class="n">trainf</span> <span class="o">=</span> <span class="mf">0.8</span>
<span class="n">healthyI</span><span class="p">,</span><span class="n">_</span> <span class="o">=</span> <span class="n">np</span><span class="o">.</span><span class="n">where</span><span class="p">(</span><span class="n">T</span> <span class="o">==</span> <span class="mi">0</span><span class="p">)</span>
<span class="n">parkI</span><span class="p">,</span><span class="n">_</span> <span class="o">=</span> <span class="n">np</span><span class="o">.</span><span class="n">where</span><span class="p">(</span><span class="n">T</span> <span class="o">==</span> <span class="mi">1</span><span class="p">)</span>
<span class="n">healthyI</span> <span class="o">=</span> <span class="n">np</span><span class="o">.</span><span class="n">random</span><span class="o">.</span><span class="n">permutation</span><span class="p">(</span><span class="n">healthyI</span><span class="p">)</span>
<span class="n">parkI</span> <span class="o">=</span> <span class="n">np</span><span class="o">.</span><span class="n">random</span><span class="o">.</span><span class="n">permutation</span><span class="p">(</span><span class="n">parkI</span><span class="p">)</span>

<span class="n">nHealthy</span> <span class="o">=</span> <span class="nb">round</span><span class="p">(</span><span class="n">trainf</span> <span class="o">*</span> <span class="nb">len</span><span class="p">(</span><span class="n">healthyI</span><span class="p">))</span>
<span class="n">nPark</span> <span class="o">=</span> <span class="nb">round</span><span class="p">(</span><span class="n">trainf</span> <span class="o">*</span> <span class="nb">len</span><span class="p">(</span><span class="n">parkI</span><span class="p">))</span>
<span class="n">rowsTrain</span> <span class="o">=</span> <span class="n">np</span><span class="o">.</span><span class="n">hstack</span><span class="p">((</span><span class="n">healthyI</span><span class="p">[:</span><span class="n">nHealthy</span><span class="p">],</span> <span class="n">parkI</span><span class="p">[:</span><span class="n">nPark</span><span class="p">]))</span>
<span class="n">Xtrain</span> <span class="o">=</span> <span class="n">X</span><span class="p">[</span><span class="n">rowsTrain</span><span class="p">,:]</span>
<span class="n">Ttrain</span> <span class="o">=</span> <span class="n">T</span><span class="p">[</span><span class="n">rowsTrain</span><span class="p">,:]</span>
<span class="n">rowsTest</span> <span class="o">=</span> <span class="n">np</span><span class="o">.</span><span class="n">hstack</span><span class="p">((</span><span class="n">healthyI</span><span class="p">[</span><span class="n">nHealthy</span><span class="p">:],</span> <span class="n">parkI</span><span class="p">[</span><span class="n">nPark</span><span class="p">:]))</span>
<span class="n">Xtest</span> <span class="o">=</span>  <span class="n">X</span><span class="p">[</span><span class="n">rowsTest</span><span class="p">,:]</span>
<span class="n">Ttest</span> <span class="o">=</span>  <span class="n">T</span><span class="p">[</span><span class="n">rowsTest</span><span class="p">,:]</span>

<span class="nb">print</span>
<span class="nb">print</span><span class="p">(</span><span class="s1">&#39;Xtrain is </span><span class="si">{:d}</span><span class="s1"> by </span><span class="si">{:d}</span><span class="s1">. Ttrain is </span><span class="si">{:d}</span><span class="s1"> by </span><span class="si">{:d}</span><span class="s1">&#39;</span><span class="o">.</span><span class="n">format</span><span class="p">(</span><span class="o">*</span><span class="p">(</span><span class="n">Xtrain</span><span class="o">.</span><span class="n">shape</span> <span class="o">+</span> <span class="n">Ttrain</span><span class="o">.</span><span class="n">shape</span><span class="p">)))</span>
<span class="n">uniq</span> <span class="o">=</span> <span class="n">np</span><span class="o">.</span><span class="n">unique</span><span class="p">(</span><span class="n">Ttrain</span><span class="p">)</span>
<span class="nb">print</span><span class="p">(</span><span class="s1">&#39;   Value  Occurrences&#39;</span><span class="p">)</span>
<span class="k">for</span> <span class="n">i</span> <span class="ow">in</span> <span class="n">uniq</span><span class="p">:</span>
    <span class="nb">print</span><span class="p">(</span><span class="s1">&#39;</span><span class="si">{:7.1g}</span><span class="s1"> </span><span class="si">{:10d}</span><span class="s1">&#39;</span><span class="o">.</span><span class="n">format</span><span class="p">(</span><span class="n">i</span><span class="p">,</span> <span class="n">np</span><span class="o">.</span><span class="n">sum</span><span class="p">(</span><span class="n">Ttrain</span><span class="o">==</span><span class="n">i</span><span class="p">)))</span>

    
<span class="nb">print</span><span class="p">(</span><span class="s1">&#39;Xtest is </span><span class="si">{:d}</span><span class="s1"> by </span><span class="si">{:d}</span><span class="s1">. Ttest is </span><span class="si">{:d}</span><span class="s1"> by </span><span class="si">{:d}</span><span class="s1">&#39;</span><span class="o">.</span><span class="n">format</span><span class="p">(</span><span class="o">*</span><span class="p">(</span><span class="n">Xtest</span><span class="o">.</span><span class="n">shape</span> <span class="o">+</span> <span class="n">Ttest</span><span class="o">.</span><span class="n">shape</span><span class="p">)))</span>
<span class="n">uniq</span> <span class="o">=</span> <span class="n">np</span><span class="o">.</span><span class="n">unique</span><span class="p">(</span><span class="n">Ttest</span><span class="p">)</span>
<span class="nb">print</span><span class="p">(</span><span class="s1">&#39;   Value  Occurrences&#39;</span><span class="p">)</span>
<span class="k">for</span> <span class="n">i</span> <span class="ow">in</span> <span class="n">uniq</span><span class="p">:</span>
    <span class="nb">print</span><span class="p">(</span><span class="s1">&#39;</span><span class="si">{:7.1g}</span><span class="s1"> </span><span class="si">{:10d}</span><span class="s1">&#39;</span><span class="o">.</span><span class="n">format</span><span class="p">(</span><span class="n">i</span><span class="p">,</span> <span class="n">np</span><span class="o">.</span><span class="n">sum</span><span class="p">(</span><span class="n">Ttest</span><span class="o">==</span><span class="n">i</span><span class="p">)))</span>
</pre></div>

</div>
</div>
</div>

<div class="output_wrapper">
<div class="output">


<div class="output_area">
<div class="prompt"></div>

<div class="output_subarea output_stream output_stdout output_text">
<pre>Xtrain is 156 by 22. Ttrain is 156 by 1
   Value  Occurrences
      0         38
      1        118
Xtest is 39 by 22. Ttest is 39 by 1
   Value  Occurrences
      0         10
      1         29
</pre>
</div>
</div>

</div>
</div>

</div>
<div class="cell border-box-sizing text_cell rendered">
<div class="prompt input_prompt">
</div>
<div class="inner_cell">
<div class="text_cell_render border-box-sizing rendered_html">
<p>That's about the same ratio of 0's and 1's.</p>

</div>
</div>
</div>
<div class="cell border-box-sizing code_cell rendered">
<div class="input">
<div class="prompt input_prompt">In&nbsp;[11]:</div>
<div class="inner_cell">
    <div class="input_area">
<div class=" highlight hl-ipython3"><pre><span></span><span class="mi">38</span><span class="o">/</span><span class="mi">118</span><span class="p">,</span> <span class="mi">10</span><span class="o">/</span><span class="mi">29</span>
</pre></div>

</div>
</div>
</div>

<div class="output_wrapper">
<div class="output">


<div class="output_area">
<div class="prompt output_prompt">Out[11]:</div>



<div class="output_text output_subarea output_execute_result">
<pre>(0.3220338983050847, 0.3448275862068966)</pre>
</div>

</div>

</div>
</div>

</div>
<div class="cell border-box-sizing text_cell rendered">
<div class="prompt input_prompt">
</div>
<div class="inner_cell">
<div class="text_cell_render border-box-sizing rendered_html">
<p>and in the original data set we had</p>

</div>
</div>
</div>
<div class="cell border-box-sizing code_cell rendered">
<div class="input">
<div class="prompt input_prompt">In&nbsp;[12]:</div>
<div class="inner_cell">
    <div class="input_area">
<div class=" highlight hl-ipython3"><pre><span></span><span class="mi">48</span><span class="o">/</span><span class="mi">147</span>
</pre></div>

</div>
</div>
</div>

<div class="output_wrapper">
<div class="output">


<div class="output_area">
<div class="prompt output_prompt">Out[12]:</div>



<div class="output_text output_subarea output_execute_result">
<pre>0.32653061224489793</pre>
</div>

</div>

</div>
</div>

</div>
<div class="cell border-box-sizing text_cell rendered">
<div class="prompt input_prompt">
</div>
<div class="inner_cell">
<div class="text_cell_render border-box-sizing rendered_html">
<h2 id="Least-Squares-Solution">Least Squares Solution<a class="anchor-link" href="#Least-Squares-Solution">&#182;</a></h2>
</div>
</div>
</div>
<div class="cell border-box-sizing text_cell rendered">
<div class="prompt input_prompt">
</div>
<div class="inner_cell">
<div class="text_cell_render border-box-sizing rendered_html">
<p>First let's standardize the inputs.  Don't standardize the outputs.
They indicate the class.  Then just calculate the linear least squares
solution.</p>

</div>
</div>
</div>
<div class="cell border-box-sizing code_cell rendered">
<div class="input">
<div class="prompt input_prompt">In&nbsp;[13]:</div>
<div class="inner_cell">
    <div class="input_area">
<div class=" highlight hl-ipython3"><pre><span></span><span class="k">def</span> <span class="nf">train</span><span class="p">(</span><span class="n">X</span><span class="p">,</span> <span class="n">T</span><span class="p">,</span> <span class="n">lamb</span><span class="o">=</span><span class="mi">0</span><span class="p">):</span>
    <span class="n">means</span> <span class="o">=</span> <span class="n">X</span><span class="o">.</span><span class="n">mean</span><span class="p">(</span><span class="mi">0</span><span class="p">)</span>
    <span class="n">stds</span> <span class="o">=</span> <span class="n">X</span><span class="o">.</span><span class="n">std</span><span class="p">(</span><span class="mi">0</span><span class="p">)</span>
    <span class="n">n</span><span class="p">,</span><span class="n">d</span> <span class="o">=</span> <span class="n">X</span><span class="o">.</span><span class="n">shape</span>
    <span class="n">Xs</span> <span class="o">=</span> <span class="p">(</span><span class="n">X</span> <span class="o">-</span> <span class="n">means</span><span class="p">)</span> <span class="o">/</span> <span class="n">stds</span>
    <span class="n">Xs1</span> <span class="o">=</span> <span class="n">np</span><span class="o">.</span><span class="n">insert</span><span class="p">(</span><span class="n">Xs</span> <span class="p">,</span> <span class="mi">0</span><span class="p">,</span> <span class="mi">1</span><span class="p">,</span> <span class="n">axis</span><span class="o">=</span><span class="mi">1</span><span class="p">)</span>
    <span class="n">lambDiag</span> <span class="o">=</span> <span class="n">np</span><span class="o">.</span><span class="n">eye</span><span class="p">(</span><span class="n">d</span><span class="o">+</span><span class="mi">1</span><span class="p">)</span> <span class="o">*</span> <span class="n">lamb</span>
    <span class="n">lambDiag</span><span class="p">[</span><span class="mi">0</span><span class="p">,</span> <span class="mi">0</span><span class="p">]</span> <span class="o">=</span> <span class="mi">0</span>
    <span class="n">w</span> <span class="o">=</span> <span class="n">np</span><span class="o">.</span><span class="n">linalg</span><span class="o">.</span><span class="n">lstsq</span><span class="p">(</span> <span class="n">Xs1</span><span class="o">.</span><span class="n">T</span> <span class="o">@</span> <span class="n">Xs1</span> <span class="o">+</span> <span class="n">lambDiag</span><span class="p">,</span> <span class="n">Xs1</span><span class="o">.</span><span class="n">T</span> <span class="o">@</span> <span class="n">T</span><span class="p">)[</span><span class="mi">0</span><span class="p">]</span>
    <span class="k">return</span> <span class="p">{</span><span class="s1">&#39;w&#39;</span><span class="p">:</span> <span class="n">w</span><span class="p">,</span> <span class="s1">&#39;means&#39;</span><span class="p">:</span><span class="n">means</span><span class="p">,</span> <span class="s1">&#39;stds&#39;</span><span class="p">:</span><span class="n">stds</span><span class="p">}</span>

<span class="k">def</span> <span class="nf">use</span><span class="p">(</span><span class="n">model</span><span class="p">,</span> <span class="n">X</span><span class="p">):</span>
    <span class="n">Xs</span> <span class="o">=</span> <span class="p">(</span><span class="n">X</span> <span class="o">-</span> <span class="n">model</span><span class="p">[</span><span class="s1">&#39;means&#39;</span><span class="p">])</span> <span class="o">/</span> <span class="n">model</span><span class="p">[</span><span class="s1">&#39;stds&#39;</span><span class="p">]</span>
    <span class="n">Xs1</span> <span class="o">=</span> <span class="n">np</span><span class="o">.</span><span class="n">insert</span><span class="p">(</span><span class="n">Xs</span> <span class="p">,</span> <span class="mi">0</span><span class="p">,</span> <span class="mi">1</span><span class="p">,</span> <span class="n">axis</span><span class="o">=</span><span class="mi">1</span><span class="p">)</span>
    <span class="k">return</span> <span class="n">Xs1</span> <span class="o">@</span> <span class="n">model</span><span class="p">[</span><span class="s1">&#39;w&#39;</span><span class="p">]</span>
</pre></div>

</div>
</div>
</div>

</div>
<div class="cell border-box-sizing code_cell rendered">
<div class="input">
<div class="prompt input_prompt">In&nbsp;[14]:</div>
<div class="inner_cell">
    <div class="input_area">
<div class=" highlight hl-ipython3"><pre><span></span><span class="n">model</span> <span class="o">=</span> <span class="n">train</span><span class="p">(</span><span class="n">Xtrain</span><span class="p">,</span> <span class="n">Ttrain</span><span class="p">)</span>

<span class="n">names</span><span class="o">.</span><span class="n">insert</span><span class="p">(</span><span class="mi">0</span><span class="p">,</span><span class="s1">&#39;bias&#39;</span><span class="p">)</span>
<span class="k">for</span> <span class="n">i</span> <span class="ow">in</span> <span class="nb">range</span><span class="p">(</span><span class="nb">len</span><span class="p">(</span><span class="n">names</span><span class="p">)):</span>
    <span class="nb">print</span><span class="p">(</span><span class="s1">&#39;</span><span class="si">{:2d}</span><span class="s1"> </span><span class="si">{:&gt;20s}</span><span class="s1"> </span><span class="si">{:10.3g}</span><span class="s1">&#39;</span><span class="o">.</span><span class="n">format</span><span class="p">(</span><span class="n">i</span><span class="p">,</span> <span class="n">names</span><span class="p">[</span><span class="n">i</span><span class="p">],</span> <span class="n">model</span><span class="p">[</span><span class="s1">&#39;w&#39;</span><span class="p">][</span><span class="n">i</span><span class="p">][</span><span class="mi">0</span><span class="p">]))</span>
</pre></div>

</div>
</div>
</div>

<div class="output_wrapper">
<div class="output">


<div class="output_area">
<div class="prompt"></div>

<div class="output_subarea output_stream output_stdout output_text">
<pre> 0                 bias      0.756
 1          MDVP:Fo(Hz)     -0.138
 2         MDVP:Fhi(Hz)    -0.0297
 3         MDVP:Flo(Hz)    -0.0441
 4       MDVP:Jitter(%)     -0.714
 5     MDVP:Jitter(Abs)     -0.198
 6             MDVP:RAP      -9.78
 7             MDVP:PPQ     0.0198
 8           Jitter:DDP       10.6
 9         MDVP:Shimmer      0.763
10     MDVP:Shimmer(dB)      0.116
11         Shimmer:APQ3      -5.14
12         Shimmer:APQ5     -0.334
13             MDVP:APQ     -0.165
14          Shimmer:DDA       4.78
15                  NHR    -0.0779
16                  HNR    -0.0502
17                 RPDE    -0.0451
18                  DFA    0.00172
19              spread1      0.119
20              spread2     0.0839
21                   D2     0.0252
22                  PPE      0.109
</pre>
</div>
</div>

</div>
</div>

</div>
<div class="cell border-box-sizing text_cell rendered">
<div class="prompt input_prompt">
</div>
<div class="inner_cell">
<div class="text_cell_render border-box-sizing rendered_html">
<p>Which ones appear to be most important?</p>
<p>And, of course, let's test our linear model. To compare to the target values of 0 and 1, we must convert the continuous output value to 0 or 1, whichever is closest.</p>

</div>
</div>
</div>
<div class="cell border-box-sizing code_cell rendered">
<div class="input">
<div class="prompt input_prompt">In&nbsp;[15]:</div>
<div class="inner_cell">
    <div class="input_area">
<div class=" highlight hl-ipython3"><pre><span></span><span class="k">def</span> <span class="nf">convertTo01</span><span class="p">(</span><span class="n">Y</span><span class="p">):</span>
    <span class="n">distFromTarget</span> <span class="o">=</span> <span class="n">np</span><span class="o">.</span><span class="n">abs</span><span class="p">(</span><span class="n">Y</span> <span class="o">-</span> <span class="p">[</span><span class="mi">0</span><span class="p">,</span><span class="mi">1</span><span class="p">])</span>
    <span class="n">whichTargetClosest</span> <span class="o">=</span> <span class="n">np</span><span class="o">.</span><span class="n">argmin</span><span class="p">(</span><span class="n">distFromTarget</span><span class="p">,</span> <span class="n">axis</span><span class="o">=</span><span class="mi">1</span><span class="p">)</span><span class="o">.</span><span class="n">reshape</span><span class="p">((</span><span class="o">-</span><span class="mi">1</span><span class="p">,</span> <span class="mi">1</span><span class="p">))</span>
    <span class="k">return</span> <span class="n">whichTargetClosest</span>  <span class="c1"># column index equivalent to 0 and 1 targets</span>
</pre></div>

</div>
</div>
</div>

</div>
<div class="cell border-box-sizing code_cell rendered">
<div class="input">
<div class="prompt input_prompt">In&nbsp;[16]:</div>
<div class="inner_cell">
    <div class="input_area">
<div class=" highlight hl-ipython3"><pre><span></span><span class="n">convertTo01</span><span class="p">(</span><span class="n">np</span><span class="o">.</span><span class="n">array</span><span class="p">([</span><span class="mf">0.1</span><span class="p">,</span> <span class="mf">1.1</span><span class="p">,</span> <span class="o">-</span><span class="mf">0.5</span><span class="p">,</span> <span class="mf">0.56</span><span class="p">])</span><span class="o">.</span><span class="n">reshape</span><span class="p">((</span><span class="o">-</span><span class="mi">1</span><span class="p">,</span><span class="mi">1</span><span class="p">)))</span>
</pre></div>

</div>
</div>
</div>

<div class="output_wrapper">
<div class="output">


<div class="output_area">
<div class="prompt output_prompt">Out[16]:</div>



<div class="output_text output_subarea output_execute_result">
<pre>array([[0],
       [1],
       [0],
       [1]])</pre>
</div>

</div>

</div>
</div>

</div>
<div class="cell border-box-sizing code_cell rendered">
<div class="input">
<div class="prompt input_prompt">In&nbsp;[17]:</div>
<div class="inner_cell">
    <div class="input_area">
<div class=" highlight hl-ipython3"><pre><span></span><span class="n">Ytrain</span> <span class="o">=</span> <span class="n">use</span><span class="p">(</span><span class="n">model</span><span class="p">,</span> <span class="n">Xtrain</span><span class="p">)</span>

<span class="n">predictedTrain</span> <span class="o">=</span> <span class="n">convertTo01</span><span class="p">(</span><span class="n">Ytrain</span><span class="p">)</span>

<span class="n">percentCorrectTrain</span> <span class="o">=</span> <span class="n">np</span><span class="o">.</span><span class="n">sum</span><span class="p">(</span><span class="n">predictedTrain</span> <span class="o">==</span> <span class="n">Ttrain</span><span class="p">)</span> <span class="o">/</span> <span class="n">Ttrain</span><span class="o">.</span><span class="n">shape</span><span class="p">[</span><span class="mi">0</span><span class="p">]</span> <span class="o">*</span> <span class="mf">100.0</span>

<span class="n">Ytest</span> <span class="o">=</span> <span class="n">use</span><span class="p">(</span><span class="n">model</span><span class="p">,</span> <span class="n">Xtest</span><span class="p">)</span>

<span class="n">predictedTest</span> <span class="o">=</span> <span class="n">convertTo01</span><span class="p">(</span><span class="n">Ytest</span><span class="p">)</span>
<span class="n">percentCorrectTest</span> <span class="o">=</span> <span class="n">np</span><span class="o">.</span><span class="n">sum</span><span class="p">(</span><span class="n">predictedTest</span> <span class="o">==</span> <span class="n">Ttest</span><span class="p">)</span> <span class="o">/</span> <span class="nb">float</span><span class="p">(</span><span class="n">Ttest</span><span class="o">.</span><span class="n">shape</span><span class="p">[</span><span class="mi">0</span><span class="p">])</span> <span class="o">*</span> <span class="mf">100.0</span>

<span class="nb">print</span><span class="p">(</span><span class="s1">&#39;Percent Correct: Training </span><span class="si">{:6.1f}</span><span class="s1"> Testing </span><span class="si">{:6.1f}</span><span class="s1">&#39;</span><span class="o">.</span><span class="n">format</span><span class="p">(</span><span class="n">percentCorrectTrain</span><span class="p">,</span> <span class="n">percentCorrectTest</span><span class="p">))</span>
</pre></div>

</div>
</div>
</div>

<div class="output_wrapper">
<div class="output">


<div class="output_area">
<div class="prompt"></div>

<div class="output_subarea output_stream output_stdout output_text">
<pre>Percent Correct: Training   90.4 Testing   89.7
</pre>
</div>
</div>

</div>
</div>

</div>
<div class="cell border-box-sizing text_cell rendered">
<div class="prompt input_prompt">
</div>
<div class="inner_cell">
<div class="text_cell_render border-box-sizing rendered_html">
<p>What visualization would you use to check the results?</p>
<p>Let's plot the true class with the output of the model for
each training sample, then each testing</p>

</div>
</div>
</div>
<div class="cell border-box-sizing code_cell rendered">
<div class="input">
<div class="prompt input_prompt">In&nbsp;[18]:</div>
<div class="inner_cell">
    <div class="input_area">
<div class=" highlight hl-ipython3"><pre><span></span><span class="n">plt</span><span class="o">.</span><span class="n">figure</span><span class="p">(</span><span class="n">figsize</span><span class="o">=</span><span class="p">(</span><span class="mi">8</span><span class="p">,</span> <span class="mi">8</span><span class="p">))</span>
<span class="n">plt</span><span class="o">.</span><span class="n">subplot</span><span class="p">(</span><span class="mi">2</span><span class="p">,</span> <span class="mi">1</span> <span class="p">,</span><span class="mi">1</span><span class="p">)</span>
<span class="n">plt</span><span class="o">.</span><span class="n">plot</span><span class="p">(</span><span class="n">np</span><span class="o">.</span><span class="n">hstack</span><span class="p">((</span><span class="n">Ttrain</span><span class="p">,</span> <span class="n">predictedTrain</span><span class="p">)),</span> <span class="s1">&#39;o-&#39;</span><span class="p">,</span> <span class="n">alpha</span><span class="o">=</span><span class="mf">0.5</span><span class="p">)</span>
<span class="n">plt</span><span class="o">.</span><span class="n">ylim</span><span class="p">(</span><span class="o">-</span><span class="mf">0.1</span><span class="p">,</span> <span class="mf">1.1</span><span class="p">)</span> <span class="c1"># so markers will show</span>
<span class="n">plt</span><span class="o">.</span><span class="n">xlabel</span><span class="p">(</span><span class="s1">&#39;Sample Index&#39;</span><span class="p">)</span>
<span class="n">plt</span><span class="o">.</span><span class="n">ylabel</span><span class="p">(</span><span class="s1">&#39;Class&#39;</span><span class="p">)</span>
<span class="n">plt</span><span class="o">.</span><span class="n">title</span><span class="p">(</span><span class="s1">&#39;Training Data&#39;</span><span class="p">)</span>
<span class="n">plt</span><span class="o">.</span><span class="n">legend</span><span class="p">((</span><span class="s1">&#39;Actual&#39;</span><span class="p">,</span> <span class="s1">&#39;Predicted&#39;</span><span class="p">),</span> <span class="n">loc</span><span class="o">=</span><span class="s1">&#39;center&#39;</span><span class="p">)</span>

<span class="n">plt</span><span class="o">.</span><span class="n">subplot</span><span class="p">(</span><span class="mi">2</span><span class="p">,</span> <span class="mi">1</span><span class="p">,</span> <span class="mi">2</span><span class="p">)</span>
<span class="n">plt</span><span class="o">.</span><span class="n">plot</span><span class="p">(</span><span class="n">np</span><span class="o">.</span><span class="n">hstack</span><span class="p">((</span><span class="n">Ttest</span><span class="p">,</span> <span class="n">predictedTest</span><span class="p">)),</span> <span class="s1">&#39;o-&#39;</span><span class="p">,</span> <span class="n">alpha</span><span class="o">=</span><span class="mf">0.5</span><span class="p">)</span>
<span class="n">plt</span><span class="o">.</span><span class="n">ylim</span><span class="p">(</span><span class="o">-</span><span class="mf">0.1</span><span class="p">,</span> <span class="mf">1.1</span><span class="p">)</span>
<span class="n">plt</span><span class="o">.</span><span class="n">xlabel</span><span class="p">(</span><span class="s1">&#39;Sample Index&#39;</span><span class="p">)</span>
<span class="n">plt</span><span class="o">.</span><span class="n">ylabel</span><span class="p">(</span><span class="s1">&#39;Class&#39;</span><span class="p">)</span>
<span class="n">plt</span><span class="o">.</span><span class="n">title</span><span class="p">(</span><span class="s1">&#39;Testing Data&#39;</span><span class="p">)</span>
<span class="n">plt</span><span class="o">.</span><span class="n">legend</span><span class="p">((</span><span class="s1">&#39;Actual&#39;</span><span class="p">,</span> <span class="s1">&#39;Predicted&#39;</span><span class="p">),</span> <span class="n">loc</span><span class="o">=</span><span class="s1">&#39;center&#39;</span><span class="p">);</span>

<span class="n">plt</span><span class="o">.</span><span class="n">tight_layout</span><span class="p">()</span>
</pre></div>

</div>
</div>
</div>

<div class="output_wrapper">
<div class="output">


<div class="output_area">
<div class="prompt"></div>



<div class="output_png output_subarea ">
<img src="data:image/png;base64,iVBORw0KGgoAAAANSUhEUgAAAjkAAAI4CAYAAACIt/jIAAAABHNCSVQICAgIfAhkiAAAAAlwSFlz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"
>
</div>

</div>

</div>
</div>

</div>
<div class="cell border-box-sizing text_cell rendered">
<div class="prompt input_prompt">
</div>
<div class="inner_cell">
<div class="text_cell_render border-box-sizing rendered_html">
<p>Might also be revealing to add the continuously-valued output of the
network, before being converted to the class.</p>

</div>
</div>
</div>
<div class="cell border-box-sizing code_cell rendered">
<div class="input">
<div class="prompt input_prompt">In&nbsp;[19]:</div>
<div class="inner_cell">
    <div class="input_area">
<div class=" highlight hl-ipython3"><pre><span></span><span class="n">plt</span><span class="o">.</span><span class="n">figure</span><span class="p">(</span><span class="n">figsize</span><span class="o">=</span><span class="p">(</span><span class="mi">8</span><span class="p">,</span> <span class="mi">8</span><span class="p">))</span>

<span class="n">plt</span><span class="o">.</span><span class="n">subplot</span><span class="p">(</span><span class="mi">2</span><span class="p">,</span> <span class="mi">1</span><span class="p">,</span> <span class="mi">1</span><span class="p">)</span>
<span class="n">plt</span><span class="o">.</span><span class="n">plot</span><span class="p">(</span><span class="n">np</span><span class="o">.</span><span class="n">hstack</span><span class="p">((</span><span class="n">Ttrain</span><span class="p">,</span> <span class="n">predictedTrain</span><span class="p">,</span> <span class="n">Ytrain</span><span class="p">)),</span><span class="s1">&#39;o-&#39;</span><span class="p">,</span> <span class="n">alpha</span><span class="o">=</span><span class="mf">0.5</span><span class="p">)</span>
<span class="n">plt</span><span class="o">.</span><span class="n">ylim</span><span class="p">(</span><span class="o">-</span><span class="mf">0.1</span><span class="p">,</span> <span class="mf">1.1</span><span class="p">)</span> <span class="c1"># so markers will show</span>
<span class="n">plt</span><span class="o">.</span><span class="n">xlabel</span><span class="p">(</span><span class="s1">&#39;Sample Index&#39;</span><span class="p">)</span>
<span class="n">plt</span><span class="o">.</span><span class="n">ylabel</span><span class="p">(</span><span class="s1">&#39;Class&#39;</span><span class="p">)</span>
<span class="n">plt</span><span class="o">.</span><span class="n">title</span><span class="p">(</span><span class="s1">&#39;Training Data&#39;</span><span class="p">)</span>
<span class="n">plt</span><span class="o">.</span><span class="n">legend</span><span class="p">((</span><span class="s1">&#39;Actual&#39;</span><span class="p">,</span> <span class="s1">&#39;Predicted&#39;</span><span class="p">,</span> <span class="s1">&#39;Cont. Val.&#39;</span><span class="p">),</span> <span class="n">loc</span><span class="o">=</span><span class="s1">&#39;center&#39;</span><span class="p">)</span>

<span class="n">plt</span><span class="o">.</span><span class="n">subplot</span><span class="p">(</span><span class="mi">2</span><span class="p">,</span> <span class="mi">1</span><span class="p">,</span> <span class="mi">2</span><span class="p">)</span>
<span class="n">plt</span><span class="o">.</span><span class="n">plot</span><span class="p">(</span><span class="n">np</span><span class="o">.</span><span class="n">hstack</span><span class="p">((</span><span class="n">Ttest</span><span class="p">,</span> <span class="n">predictedTest</span><span class="p">,</span> <span class="n">Ytest</span><span class="p">)),</span> <span class="s1">&#39;o-&#39;</span><span class="p">,</span> <span class="n">alpha</span><span class="o">=</span><span class="mf">0.5</span><span class="p">)</span>
<span class="n">plt</span><span class="o">.</span><span class="n">ylim</span><span class="p">(</span><span class="o">-</span><span class="mf">0.1</span><span class="p">,</span> <span class="mf">1.1</span><span class="p">)</span>
<span class="n">plt</span><span class="o">.</span><span class="n">xlabel</span><span class="p">(</span><span class="s1">&#39;Sample Index&#39;</span><span class="p">)</span>
<span class="n">plt</span><span class="o">.</span><span class="n">ylabel</span><span class="p">(</span><span class="s1">&#39;Class&#39;</span><span class="p">)</span>
<span class="n">plt</span><span class="o">.</span><span class="n">title</span><span class="p">(</span><span class="s1">&#39;Testing Data&#39;</span><span class="p">)</span>
<span class="n">plt</span><span class="o">.</span><span class="n">legend</span><span class="p">((</span><span class="s1">&#39;Actual&#39;</span><span class="p">,</span> <span class="s1">&#39;Predicted&#39;</span><span class="p">,</span> <span class="s1">&#39;Cont. Val.&#39;</span><span class="p">),</span> <span class="n">loc</span><span class="o">=</span><span class="s1">&#39;center&#39;</span><span class="p">);</span>
</pre></div>

</div>
</div>
</div>

<div class="output_wrapper">
<div class="output">


<div class="output_area">
<div class="prompt"></div>



<div class="output_png output_subarea ">
<img src="data:image/png;base64,iVBORw0KGgoAAAANSUhEUgAAAfUAAAHwCAYAAAC/hfaiAAAABHNCSVQICAgIfAhkiAAAAAlwSFlz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"
>
</div>

</div>

</div>
</div>

</div>
<div class="cell border-box-sizing text_cell rendered">
<div class="prompt input_prompt">
</div>
<div class="inner_cell">
<div class="text_cell_render border-box-sizing rendered_html">
<h2 id="Shape-of-Boundary">Shape of Boundary<a class="anchor-link" href="#Shape-of-Boundary">&#182;</a></h2>
</div>
</div>
</div>
<div class="cell border-box-sizing text_cell rendered">
<div class="prompt input_prompt">
</div>
<div class="inner_cell">
<div class="text_cell_render border-box-sizing rendered_html">
<p>Imagine  we have just two variable attributes, $x_1$ and $x_2$.  With our
linear least squared model $\wv$, we make a prediction for
sample $\xv=(x_1,x_2)$ by</p>
$$
y(\xv) = w_0 + w_1 x_1 + w_2 x_2
$$<p>For the parkinsons problem, we will predict the class for this sample
is 'healthy' if</p>
$$
y(\xv) = w_0 + w_1 x_1 + w_2 x_2 < 0.5
$$<p>So the boundary between the 'healthy' and the 'parkinsons' class in
the two-dimensional $x_1, x_2$ space</p>
$$
w_0 + w_1 x_1 + w_2 x_2 = 0.5
$$<p>is of what shape?</p>
<p>Above methods are discriminative in nature, meaning that what is
learned is a function that is designed to produce different values for
different classes.</p>
<p>An alternative approach
is to first create a probabilistic model of samples from each class,
forming a model with which samples from a class can be generated,
hence a <strong>generative model</strong>. The number of models is the same as the
number of classes.</p>
<p>Before jumping into the details of simple generative models, we will
first review probability theory, joint probabilities, conditional
probabilities, Bayes theorem, and the Gaussian distribution.</p>

</div>
</div>
</div>
<div class="cell border-box-sizing text_cell rendered">
<div class="prompt input_prompt">
</div>
<div class="inner_cell">
<div class="text_cell_render border-box-sizing rendered_html">
<h1 id="Probability-Theory">Probability Theory<a class="anchor-link" href="#Probability-Theory">&#182;</a></h1>
</div>
</div>
</div>
<div class="cell border-box-sizing text_cell rendered">
<div class="prompt input_prompt">
</div>
<div class="inner_cell">
<div class="text_cell_render border-box-sizing rendered_html">
<h2 id="Boxes-of-Fruit">Boxes of Fruit<a class="anchor-link" href="#Boxes-of-Fruit">&#182;</a></h2>
</div>
</div>
</div>
<div class="cell border-box-sizing text_cell rendered">
<div class="prompt input_prompt">
</div>
<div class="inner_cell">
<div class="text_cell_render border-box-sizing rendered_html">
<p><img src="http://www.cs.colostate.edu/~anderson/cs480/notebooks/fruitjars.png"></p>
<p>Counts of fruit in each jar:</p>
<table>
<thead><tr>
<th style="text-align:right"></th>
<th style="text-align:center">apples</th>
<th style="text-align:center">oranges</th>
<th style="text-align:center">strawberries</th>
</tr>
</thead>
<tbody>
<tr>
<td style="text-align:right">red jar</td>
<td style="text-align:center">2</td>
<td style="text-align:center">6</td>
<td style="text-align:center">4</td>
<td style="text-align:right">$\Sigma$ = 12</td>
</tr>
<tr>
<td style="text-align:right">blue jar</td>
<td style="text-align:center">3</td>
<td style="text-align:center">1</td>
<td style="text-align:center">2</td>
<td style="text-align:right">$\Sigma$ = 6</td>
</tr>
</tbody>
</table>
<p>Probabilities of fruit from a given jar:</p>
<table>
<thead><tr>
<th style="text-align:right"></th>
<th style="text-align:center">apples</th>
<th style="text-align:center">oranges</th>
<th style="text-align:center">strawberries</th>
</tr>
</thead>
<tbody>
<tr>
<td style="text-align:right">red jar</td>
<td style="text-align:center">2/12 = 0.167</td>
<td style="text-align:center">6/12 = 0.5</td>
<td style="text-align:center">4/12 = 0.33</td>
<td style="text-align:right">$\Sigma$ = 1.0</td>
</tr>
<tr>
<td style="text-align:right">blue jar</td>
<td style="text-align:center">3/6 = 0.5</td>
<td style="text-align:center">1/6 = 0.167</td>
<td style="text-align:center">2/6 = 0.33</td>
<td style="text-align:right">$\Sigma$ = 1.0</td>
</tr>
</tbody>
</table>
<p>Say the probability of choosing the red jar is 0.6 and for choosing
the blue jar is 0.4. 
The probability of choosing the red jar and drawing an apple out
of the red jar is the product of these two choices, or $0.6 (0.167) = 0.1$.</p>
<p>Doing all multiplications results in</p>
<table>
<thead><tr>
<th style="text-align:right"></th>
<th style="text-align:center">apples</th>
<th style="text-align:center">oranges</th>
<th style="text-align:center">strawberries</th>
</tr>
</thead>
<tbody>
<tr>
<td style="text-align:right">red jar (P=0.6)</td>
<td style="text-align:center">0.6(0.167) = 0.1</td>
<td style="text-align:center">0.6(0.5) = 0.3</td>
<td style="text-align:center">0.6(0.33) = 0.2</td>
<td style="text-align:right">$\Sigma$ = 0.5982</td>
</tr>
<tr>
<td style="text-align:right">blue jar (P=0.4)</td>
<td style="text-align:center">0.4(0.5) = 0.2</td>
<td style="text-align:center">0.4(0.167) = 0.067</td>
<td style="text-align:center">0.4(0.33) = 0.133</td>
<td style="text-align:right">$\Sigma$ = 0.3988</td>
</tr>
</tbody>
</table>

</div>
</div>
</div>
<div class="cell border-box-sizing text_cell rendered">
<div class="prompt input_prompt">
</div>
<div class="inner_cell">
<div class="text_cell_render border-box-sizing rendered_html">
<h2 id="Joint-Probability-Table">Joint Probability Table<a class="anchor-link" href="#Joint-Probability-Table">&#182;</a></h2>
</div>
</div>
</div>
<div class="cell border-box-sizing text_cell rendered">
<div class="prompt input_prompt">
</div>
<div class="inner_cell">
<div class="text_cell_render border-box-sizing rendered_html">
<p>Combine in a two-dimensional table to show joint
probabilities of two events.</p>
<table>
<thead><tr>
<th style="text-align:center"></th>
<th style="text-align:center"></th>
<th style="text-align:center"></th>
<th style="text-align:center">fruit</th>
<th style="text-align:center"></th>
</tr>
</thead>
<tbody>
<tr>
<td style="text-align:center"></td>
<td style="text-align:center"></td>
<td style="text-align:center">apple</td>
<td style="text-align:center">orange</td>
<td style="text-align:center">strawberry</td>
</tr>
<tr>
<td style="text-align:center">jar</td>
<td style="text-align:center">red</td>
<td style="text-align:center">0.1</td>
<td style="text-align:center">0.3</td>
<td style="text-align:center">0.2</td>
<td style="text-align:right">$\Sigma$ = 0.5982</td>
</tr>
<tr>
<td style="text-align:center"></td>
<td style="text-align:center">blue</td>
<td style="text-align:center">0.2</td>
<td style="text-align:center">0.067</td>
<td style="text-align:center">0.133</td>
<td style="text-align:right">$\Sigma$ = 0.3988</td>
</tr>
<tr>
<td style="text-align:center"></td>
<td style="text-align:center"></td>
<td style="text-align:center">$\Sigma$=0.3</td>
<td style="text-align:center">$\Sigma$ = 0.367</td>
<td style="text-align:center">$\Sigma$ = 0.333</td>
<td style="text-align:right">$\Sigma$=1</td>
</tr>
</tbody>
</table>
<p>Symbolically, let $J$ be a random variable for jar, and $F$  be a random variable for fruit:</p>
<table>
<thead><tr>
<th style="text-align:center"></th>
<th style="text-align:center"></th>
<th style="text-align:center"></th>
<th style="text-align:center">fruit</th>
<th style="text-align:center"></th>
</tr>
</thead>
<tbody>
<tr>
<td style="text-align:center"></td>
<td style="text-align:center"></td>
<td style="text-align:center">apple</td>
<td style="text-align:center">orange</td>
<td style="text-align:center">strawberry</td>
</tr>
<tr>
<td style="text-align:center">jar</td>
<td style="text-align:center">red</td>
<td style="text-align:center">P(J=red,F=apple)</td>
<td style="text-align:center">P(J=red,F=orange)</td>
<td style="text-align:center">P(J=red,F=strawberry)</td>
<td style="text-align:right">P(J=red)</td>
</tr>
<tr>
<td style="text-align:center"></td>
<td style="text-align:center">blue</td>
<td style="text-align:center">P(J=blue,F=apple)</td>
<td style="text-align:center">P(J=blue,F=orange)</td>
<td style="text-align:center">P(J=blue,F=strawberry)</td>
<td style="text-align:right">P(J=blue)</td>
</tr>
<tr>
<td style="text-align:center"></td>
<td style="text-align:center"></td>
<td style="text-align:center">P(F=apple)</td>
<td style="text-align:center">P(F=orange)</td>
<td style="text-align:center">P(F=strawberry)</td>
<td style="text-align:right">1</td>
</tr>
</tbody>
</table>

</div>
</div>
</div>
<div class="cell border-box-sizing text_cell rendered">
<div class="prompt input_prompt">
</div>
<div class="inner_cell">
<div class="text_cell_render border-box-sizing rendered_html">
<h2 id="Bayes-Rule">Bayes Rule<a class="anchor-link" href="#Bayes-Rule">&#182;</a></h2>
</div>
</div>
</div>
<div class="cell border-box-sizing text_cell rendered">
<div class="prompt input_prompt">
</div>
<div class="inner_cell">
<div class="text_cell_render border-box-sizing rendered_html">
<p>Just saw  an example of the <strong>product rule</strong>:</p>
$$
\begin{align*}
 P(F=orange, J=blue) = P(F=orange | J=blue) P(J=blue)
\end{align*}
$$<p>Since</p>
$$
\begin{align*}
P(F=orange, J=blue) = P(J=blue, F=orange)
\end{align*}
$$<p>and</p>
$$
\begin{align*}
P(J=blue,F=orange) = P(J=blue|F=orange)P(F=orange)
\end{align*}
$$<p>we know</p>
$$
\begin{align*}
P(J=blue|F=orange)& P(F=orange) =\\
& P(F=orange | J=blue) P(J=blue)
\end{align*}
$$<p>Dividing both sides by $P(F=orange)$ leads to <strong>Bayes Rule</strong>:</p>
$$
\begin{align*}
P(J=blue | F=orange) = \frac{P(F=orange|J=blue)P(J=blue)}{P(F=orange)}
\end{align*}
$$<p>On the right hand side of Bayes Rule, all terms are given except
$P(F=orange)$</p>
$$
\begin{align*}
P(J=blue | F=orange) = \frac{P(F=orange|J=blue)P(J=blue)}{P(F=orange)}
\end{align*}
$$<p>We can use the <strong>sum rule</strong> to get this</p>
$$
\begin{align*}
P(F=orange) & = \sum_{j\in\{red,blue\}} P(F=orange,J=j) \\
& = 0.3+0.067\\
& = 0.367
\end{align*}
$$<p>So, Bayes Rule can be rewritten as</p>
$$
\begin{align*}
P(J=blue|F=orange) = 
\frac{P(F=orange|J=blue)P(J=blue)}{\sum_j P(F=orange,J=j)}
\end{align*}
$$<p>or</p>
$$
\begin{align*}
P(J=blue|F=orange) = 
\frac{P(F=orange|J=blue)P(J=blue)}{\sum_j P(F=orange|J=j)P(J=j)}
\end{align*}
$$
</div>
</div>
</div>
<div class="cell border-box-sizing text_cell rendered">
<div class="prompt input_prompt">
</div>
<div class="inner_cell">
<div class="text_cell_render border-box-sizing rendered_html">
<p>Now in Python. We can represent a conditional probability table as a two-dimensional array.</p>

</div>
</div>
</div>
<div class="cell border-box-sizing code_cell rendered">
<div class="input">
<div class="prompt input_prompt">In&nbsp;[20]:</div>
<div class="inner_cell">
    <div class="input_area">
<div class=" highlight hl-ipython3"><pre><span></span><span class="n">counts</span> <span class="o">=</span> <span class="n">np</span><span class="o">.</span><span class="n">array</span><span class="p">([[</span><span class="mi">2</span><span class="p">,</span> <span class="mi">6</span><span class="p">,</span> <span class="mi">4</span><span class="p">],</span> <span class="p">[</span><span class="mi">3</span><span class="p">,</span> <span class="mi">1</span><span class="p">,</span> <span class="mi">2</span><span class="p">]])</span>
<span class="n">counts</span>
</pre></div>

</div>
</div>
</div>

<div class="output_wrapper">
<div class="output">


<div class="output_area">
<div class="prompt output_prompt">Out[20]:</div>



<div class="output_text output_subarea output_execute_result">
<pre>array([[2, 6, 4],
       [3, 1, 2]])</pre>
</div>

</div>

</div>
</div>

</div>
<div class="cell border-box-sizing text_cell rendered">
<div class="prompt input_prompt">
</div>
<div class="inner_cell">
<div class="text_cell_render border-box-sizing rendered_html">
<p>Let's include the row and column names as lists, and write a function to print the table.</p>

</div>
</div>
</div>
<div class="cell border-box-sizing code_cell rendered">
<div class="input">
<div class="prompt input_prompt">In&nbsp;[21]:</div>
<div class="inner_cell">
    <div class="input_area">
<div class=" highlight hl-ipython3"><pre><span></span><span class="n">jarNames</span> <span class="o">=</span> <span class="p">[</span><span class="s1">&#39;red&#39;</span><span class="p">,</span> <span class="s1">&#39;blue&#39;</span><span class="p">]</span>
<span class="n">fruitNames</span> <span class="o">=</span> <span class="p">[</span><span class="s1">&#39;apple&#39;</span><span class="p">,</span> <span class="s1">&#39;orange&#39;</span><span class="p">,</span> <span class="s1">&#39;strawberry&#39;</span><span class="p">]</span>
</pre></div>

</div>
</div>
</div>

</div>
<div class="cell border-box-sizing code_cell rendered">
<div class="input">
<div class="prompt input_prompt">In&nbsp;[22]:</div>
<div class="inner_cell">
    <div class="input_area">
<div class=" highlight hl-ipython3"><pre><span></span><span class="k">def</span> <span class="nf">printTable</span><span class="p">(</span><span class="n">label</span><span class="p">,</span> <span class="n">data</span><span class="p">):</span>
    <span class="nb">print</span>
    <span class="nb">print</span><span class="p">(</span><span class="n">label</span><span class="p">)</span>
    <span class="nb">print</span><span class="p">(</span><span class="s1">&#39;   </span><span class="si">{:&gt;9s}</span><span class="s1"> </span><span class="si">{:&gt;7s}</span><span class="s1"> </span><span class="si">{:&gt;9s}</span><span class="s1">&#39;</span><span class="o">.</span><span class="n">format</span><span class="p">(</span><span class="o">*</span><span class="n">fruitNames</span><span class="p">))</span>
    <span class="k">for</span> <span class="n">i</span> <span class="ow">in</span> <span class="p">[</span><span class="mi">0</span><span class="p">,</span> <span class="mi">1</span><span class="p">]:</span>
        <span class="n">d</span> <span class="o">=</span> <span class="n">data</span><span class="p">[</span><span class="n">i</span><span class="p">,</span> <span class="p">:]</span><span class="o">.</span><span class="n">tolist</span><span class="p">()</span>
        <span class="nb">print</span><span class="p">(</span><span class="s1">&#39;</span><span class="si">{:4s}</span><span class="s1"> </span><span class="si">{:7.3g}</span><span class="s1"> </span><span class="si">{:7.3g}</span><span class="s1"> </span><span class="si">{:7.3g}</span><span class="s1"> </span><span class="si">{:7.3g}</span><span class="s1">&#39;</span><span class="o">.</span><span class="n">format</span><span class="p">(</span><span class="o">*</span><span class="p">([</span><span class="n">jarNames</span><span class="p">[</span><span class="n">i</span><span class="p">]]</span> <span class="o">+</span> <span class="n">d</span> <span class="o">+</span> <span class="p">[</span><span class="nb">sum</span><span class="p">(</span><span class="n">d</span><span class="p">)])))</span>
    <span class="n">colTotals</span> <span class="o">=</span> <span class="n">np</span><span class="o">.</span><span class="n">sum</span><span class="p">(</span><span class="n">data</span><span class="p">,</span> <span class="n">axis</span><span class="o">=</span><span class="mi">0</span><span class="p">)</span><span class="o">.</span><span class="n">tolist</span><span class="p">()</span>
    <span class="nb">print</span><span class="p">(</span><span class="s1">&#39;     </span><span class="si">{:7.3g}</span><span class="s1"> </span><span class="si">{:7.3g}</span><span class="s1"> </span><span class="si">{:7.3g}</span><span class="s1"> </span><span class="si">{:7.3g}</span><span class="s1">&#39;</span><span class="o">.</span><span class="n">format</span><span class="p">(</span><span class="o">*</span><span class="p">(</span><span class="n">colTotals</span> <span class="o">+</span> <span class="p">[</span><span class="nb">sum</span><span class="p">(</span><span class="n">colTotals</span><span class="p">)])))</span>

<span class="n">printTable</span><span class="p">(</span><span class="s1">&#39;counts&#39;</span><span class="p">,</span> <span class="n">counts</span><span class="p">)</span>
</pre></div>

</div>
</div>
</div>

<div class="output_wrapper">
<div class="output">


<div class="output_area">
<div class="prompt"></div>

<div class="output_subarea output_stream output_stdout output_text">
<pre>counts
       apple  orange strawberry
red        2       6       4      12
blue       3       1       2       6
           5       7       6      18
</pre>
</div>
</div>

</div>
</div>

</div>
<div class="cell border-box-sizing text_cell rendered">
<div class="prompt input_prompt">
</div>
<div class="inner_cell">
<div class="text_cell_render border-box-sizing rendered_html">
<p>Calculate the sums of fruits in each jar by</p>

</div>
</div>
</div>
<div class="cell border-box-sizing code_cell rendered">
<div class="input">
<div class="prompt input_prompt">In&nbsp;[23]:</div>
<div class="inner_cell">
    <div class="input_area">
<div class=" highlight hl-ipython3"><pre><span></span><span class="n">jarSums</span> <span class="o">=</span> <span class="n">np</span><span class="o">.</span><span class="n">sum</span><span class="p">(</span><span class="n">counts</span><span class="p">,</span> <span class="n">axis</span><span class="o">=</span><span class="mi">1</span><span class="p">)</span><span class="o">.</span><span class="n">reshape</span><span class="p">((</span><span class="mi">2</span><span class="p">,</span> <span class="mi">1</span><span class="p">))</span>
<span class="n">jarSums</span>
</pre></div>

</div>
</div>
</div>

<div class="output_wrapper">
<div class="output">


<div class="output_area">
<div class="prompt output_prompt">Out[23]:</div>



<div class="output_text output_subarea output_execute_result">
<pre>array([[12],
       [ 6]])</pre>
</div>

</div>

</div>
</div>

</div>
<div class="cell border-box-sizing text_cell rendered">
<div class="prompt input_prompt">
</div>
<div class="inner_cell">
<div class="text_cell_render border-box-sizing rendered_html">
<p>Now we can calculate the probability of drawing each type of fruit, given that we have already chosen a jar.</p>

</div>
</div>
</div>
<div class="cell border-box-sizing code_cell rendered">
<div class="input">
<div class="prompt input_prompt">In&nbsp;[24]:</div>
<div class="inner_cell">
    <div class="input_area">
<div class=" highlight hl-ipython3"><pre><span></span><span class="n">pFruitGivenJar</span> <span class="o">=</span> <span class="n">counts</span> <span class="o">/</span> <span class="n">jarSums</span>
<span class="n">printTable</span><span class="p">(</span><span class="s1">&#39;Prob(Fruit|Jar)&#39;</span><span class="p">,</span> <span class="n">pFruitGivenJar</span><span class="p">)</span>
</pre></div>

</div>
</div>
</div>

<div class="output_wrapper">
<div class="output">


<div class="output_area">
<div class="prompt"></div>

<div class="output_subarea output_stream output_stdout output_text">
<pre>Prob(Fruit|Jar)
       apple  orange strawberry
red    0.167     0.5   0.333       1
blue     0.5   0.167   0.333       1
       0.667   0.667   0.667       2
</pre>
</div>
</div>

</div>
</div>

</div>
<div class="cell border-box-sizing text_cell rendered">
<div class="prompt input_prompt">
</div>
<div class="inner_cell">
<div class="text_cell_render border-box-sizing rendered_html">
<p>We can do more if we code the probability of selecting a jar.</p>

</div>
</div>
</div>
<div class="cell border-box-sizing code_cell rendered">
<div class="input">
<div class="prompt input_prompt">In&nbsp;[25]:</div>
<div class="inner_cell">
    <div class="input_area">
<div class=" highlight hl-ipython3"><pre><span></span><span class="n">pJar</span> <span class="o">=</span> <span class="n">np</span><span class="o">.</span><span class="n">array</span><span class="p">([[</span><span class="mf">0.6</span><span class="p">],</span> <span class="p">[</span><span class="mf">0.4</span><span class="p">]])</span>
<span class="n">pJar</span>
</pre></div>

</div>
</div>
</div>

<div class="output_wrapper">
<div class="output">


<div class="output_area">
<div class="prompt output_prompt">Out[25]:</div>



<div class="output_text output_subarea output_execute_result">
<pre>array([[ 0.6],
       [ 0.4]])</pre>
</div>

</div>

</div>
</div>

</div>
<div class="cell border-box-sizing text_cell rendered">
<div class="prompt input_prompt">
</div>
<div class="inner_cell">
<div class="text_cell_render border-box-sizing rendered_html">
<p>Now we can calculate the joint probabilities, or the probabilities of each pair of a jar and a fruit occurring.</p>

</div>
</div>
</div>
<div class="cell border-box-sizing code_cell rendered">
<div class="input">
<div class="prompt input_prompt">In&nbsp;[26]:</div>
<div class="inner_cell">
    <div class="input_area">
<div class=" highlight hl-ipython3"><pre><span></span><span class="n">pFruitAndJar</span> <span class="o">=</span> <span class="n">pFruitGivenJar</span> <span class="o">*</span> <span class="n">pJar</span>
<span class="n">printTable</span><span class="p">(</span><span class="s1">&#39;Prob(Fruit,Jar)&#39;</span><span class="p">,</span> <span class="n">pFruitAndJar</span><span class="p">)</span>
</pre></div>

</div>
</div>
</div>

<div class="output_wrapper">
<div class="output">


<div class="output_area">
<div class="prompt"></div>

<div class="output_subarea output_stream output_stdout output_text">
<pre>Prob(Fruit,Jar)
       apple  orange strawberry
red      0.1     0.3     0.2     0.6
blue     0.2  0.0667   0.133     0.4
         0.3   0.367   0.333       1
</pre>
</div>
</div>

</div>
</div>

</div>
<div class="cell border-box-sizing text_cell rendered">
<div class="prompt input_prompt">
</div>
<div class="inner_cell">
<div class="text_cell_render border-box-sizing rendered_html">
<p>The sum at the lower right had better be 1, because this table is all possible results.</p>
<p>How do we get the probability of a fruit from this table?  Just sum over the jars to marginalize out (remove) the jars.</p>

</div>
</div>
</div>
<div class="cell border-box-sizing code_cell rendered">
<div class="input">
<div class="prompt input_prompt">In&nbsp;[27]:</div>
<div class="inner_cell">
    <div class="input_area">
<div class=" highlight hl-ipython3"><pre><span></span><span class="n">pFruit</span> <span class="o">=</span> <span class="n">np</span><span class="o">.</span><span class="n">sum</span><span class="p">(</span><span class="n">pFruitAndJar</span><span class="p">,</span> <span class="n">axis</span><span class="o">=</span><span class="mi">0</span><span class="p">)</span>
<span class="n">pFruit</span>
</pre></div>

</div>
</div>
</div>

<div class="output_wrapper">
<div class="output">


<div class="output_area">
<div class="prompt output_prompt">Out[27]:</div>



<div class="output_text output_subarea output_execute_result">
<pre>array([ 0.3       ,  0.36666667,  0.33333333])</pre>
</div>

</div>

</div>
</div>

</div>
<div class="cell border-box-sizing text_cell rendered">
<div class="prompt input_prompt">
</div>
<div class="inner_cell">
<div class="text_cell_render border-box-sizing rendered_html">
<p>Now the probability of a jar given that you know which fruit was drawn, is</p>

</div>
</div>
</div>
<div class="cell border-box-sizing code_cell rendered">
<div class="input">
<div class="prompt input_prompt">In&nbsp;[28]:</div>
<div class="inner_cell">
    <div class="input_area">
<div class=" highlight hl-ipython3"><pre><span></span><span class="n">pJarGivenFruit</span> <span class="o">=</span> <span class="n">pFruitAndJar</span> <span class="o">/</span> <span class="n">pFruit</span>
<span class="n">printTable</span><span class="p">(</span><span class="s1">&#39;Prob(Jar|Fruit)&#39;</span><span class="p">,</span> <span class="n">pJarGivenFruit</span><span class="p">)</span>
</pre></div>

</div>
</div>
</div>

<div class="output_wrapper">
<div class="output">


<div class="output_area">
<div class="prompt"></div>

<div class="output_subarea output_stream output_stdout output_text">
<pre>Prob(Jar|Fruit)
       apple  orange strawberry
red    0.333   0.818     0.6    1.75
blue   0.667   0.182     0.4    1.25
           1       1       1       3
</pre>
</div>
</div>

</div>
</div>

</div>
<div class="cell border-box-sizing text_cell rendered">
<div class="prompt input_prompt">
</div>
<div class="inner_cell">
<div class="text_cell_render border-box-sizing rendered_html">
<h1 id="Bayes-Rule-for-Classification">Bayes Rule for Classification<a class="anchor-link" href="#Bayes-Rule-for-Classification">&#182;</a></h1>
</div>
</div>
</div>
<div class="cell border-box-sizing text_cell rendered">
<div class="prompt input_prompt">
</div>
<div class="inner_cell">
<div class="text_cell_render border-box-sizing rendered_html">
<p>Replace jars with groups of hand-drawn digits. 
Replace fruits with  hand-drawn images.</p>
<p><img src="http://www.cs.colostate.edu/~anderson/cs480/notebooks/jarsofdigits.png"></p>
<p>Let $i$ be a particular image. To classify an image $i$ as a
particular digit, such as 4, we want to know</p>
$$
\begin{align*}
P(Digit = 4 \;|\; Image = i)
\end{align*}
$$<p>but we probably only know</p>
$$
\begin{align*}
   P(Image = i \;|\; Digit = 4)
\end{align*}
$$<p>If we assume</p>
$$
\begin{align*}
P(Image=i) = &\frac{1}{\mbox{number of images}}\\
P(Digit=4)=&\frac{1}{10}
\end{align*}
$$<p>then we can use Bayes rule:</p>
$$
\begin{align*}
    P(Digit=4\;|\;Image=i) & = \frac{P(Image=i\;|\;Digit=4)  P(Digit=4)}{P(Image=i)}\\
&\\
& = \frac{P(Image=i\;|\;Digit=4) 0.1}{(1/\mbox{number of images)}}
\end{align*}
$$
</div>
</div>
</div>
<div class="cell border-box-sizing text_cell rendered">
<div class="prompt input_prompt">
</div>
<div class="inner_cell">
<div class="text_cell_render border-box-sizing rendered_html">
<h1 id="Classification:-Simple-Generative-Models">Classification: Simple Generative Models<a class="anchor-link" href="#Classification:-Simple-Generative-Models">&#182;</a></h1>
</div>
</div>
</div>
<div class="cell border-box-sizing text_cell rendered">
<div class="prompt input_prompt">
</div>
<div class="inner_cell">
<div class="text_cell_render border-box-sizing rendered_html">
<p>Above we discussed a linear function as a discriminant
function.  If we had three classes, we would have three
discriminant functions, and their values would be compared to find the
maximum value to make the class prediction.</p>
<p>A different way to develop a similar comparison is to start with
models of the data from each class.  If the models define a
probability distribution over possible values, the models are
<strong>generative models</strong>.</p>
<p>What shape model would you like?</p>
<p>As discussed in earlier lectures, a Gaussian, or Normal distribution, is a nice choice.  Its integral sums to one, its value is always nonnegative, and the derivative of its natural logarithm is very nice.</p>
$$
p(\xv) = \frac{1}{2\pi^{d/2} |\Sigmav |^{1/2}}
      e^{-\frac{1}{2} (\xv-\muv)^T \Sigmav^{-1} (\xv - \muv)}
$$<p>where mean $\muv$ is a $d$-dimensional column vector and covariance
matrix $\Sigmav$ is a $d\times d$ symmetric matrix.</p>

</div>
</div>
</div>
<div class="cell border-box-sizing text_cell rendered">
<div class="prompt input_prompt">
</div>
<div class="inner_cell">
<div class="text_cell_render border-box-sizing rendered_html">
<p>Back to that Masking Problem.. What function shape were you thinking of that might fix the masking problem?</p>
<p>Radial basis function?  Good choice!  But, remember what a
radial basis function resembles?</p>
<p>Right again!  A Normal distribution.</p>
<p>So, let's say we come up with the generative distribution,
such as a Normal distribution, for
Class $k$, called $p(\xv|Class=k)$, or $p(\xv|C=k)$. How do we use
it to classify?</p>
<p>Can just take the distribution with the highest value,
$\argmax{k}\; p(\xv|C=k)$.  But we can do better than this...think
Bayes' Rule.</p>
<p>Ultimately we would like to know $p(C=k|\xv)$.  How do we
get this from $p(\xv|C=k)$?</p>
<p>Remember that</p>
$$
    \begin{align*}
      p(C=k,\xv) = p(C=k|\xv)p(\xv) = p(\xv|C=k)p(C=k)
   \end{align*}
$$<p>so</p>
$$
   \begin{align*}
      p(C=k|\xv) &= \frac{p(\xv|C=k)p(C=k)}{p(\xv)}\\ \\
 &= \frac{p(\xv|C=k)p(C=k)}{\sum_{k=1}^K p(\xv,C=k)}\\ \\
&= \frac{p(\xv|C=k)p(C=k)}{\sum_{k=1}^K p(\xv|C=k)p(C=k)}
      \end{align*}
$$<p>For two classes, $k\in \{1,2\}$.  We will classify a sample
$\xv$ as Class 2 if $p(C=2|\xv) > p(C=1|\xv)$.  Now expand and simplify...</p>
$$
    \begin{align*}
      p(C=2|\xv) &> p(C=1|\xv)\\ \\
      \frac{p(\xv|C=2)p(C=2)}{p(\xv)}  &>
      \frac{p(\xv|C=1)p(C=1)}{p(\xv)} \\ \\
      p(\xv|C=2)p(C=2)  &>   p(\xv|C=1)p(C=1) 
    \end{align*}
$$<p>Using our assumption that the generative distribution for each
class is a Normal distribution,</p>
$$
    \begin{align*}
      p(\xv|C=2) p(C=2)  &>   p(\xv|C=1)p(C=1) \\  \\
      \frac{1}{(2\pi)^{\frac{d}{2}} |\Sigma_2|^{\frac{1}{2}}}
       e^{-\frac{1}{2}(\xv-\muv_2)^T \Sigma_2^{-1} (\xv-\muv_2)} p(C=2)      
& > \frac{1}{(2\pi)^{\frac{d}{2}} |\Sigma_1|^{\frac{1}{2}}}
      e^{-\frac{1}{2}(\xv-\muv_1)^T \Sigma_1^{-1} (\xv-\muv_1)} p(C=1)
      \\ \\
      |\Sigma_2|^{-\frac{1}{2}}
       e^{-\frac{1}{2}(\xv-\muv_2)^T \Sigma_2^{-1} (\xv-\muv_2)} p(C=2) 
      & > |\Sigma_1|^{-\frac{1}{2}}
      e^{-\frac{1}{2}(\xv-\muv_1)^T \Sigma_1^{-1} (\xv-\muv_1)} p(C=1) \\
    \end{align*}
$$<p>Hey, there are multiplications and exponentials here.  Let's
use logarithms!</p>
$$
    \begin{align*}
      |\Sigma_2|^{-\frac{1}{2}}
       e^{-\frac{1}{2}(\xv-\muv_2)^T \Sigma_2^{-1} (\xv-\muv_2)} p(C=2) 
& > |\Sigma_1|^{-\frac{1}{2}}
      e^{-\frac{1}{2}(\xv-\muv_1)^T \Sigma_1^{-1} (\xv-\muv_1)} p(C=1)
      \\ \\
      -\frac{1}{2}  \ln |\Sigma_2| +
       -\frac{1}{2}(\xv-\muv_2)^T \Sigma_2^{-1} (\xv-\muv_2) + \ln p(C=2) 
      & > -\frac{1}{2} \ln |\Sigma_1| +
      -\frac{1}{2}(\xv-\muv_1)^T \Sigma_1^{-1} (\xv-\muv_1) + \ln p(C=1) 
    \end{align*}
$$<p>If we define each side of this last inequality as a discriminant function, $\delta_k(\xv)$ for
Class $k$, then</p>
$$
      \begin{align*}
        \delta_k(\xv) = -\frac{1}{2} \ln |\Sigma_k| -\frac{1}{2}(\xv-\muv_k)^T
\Sigma_k^{-1} (\xv-\muv_k) + \ln P(C=k)
      \end{align*}
$$<p>and the class of a new sample $\xv$ is $\argmax{k}\; \delta_k(\xv)$.</p>
<p>The boundary between Class 1 and Class 2 is the set of points $\xv$
for which $\delta_2(\xv) = \delta_1(\xv)$. This equation
is quadratic in $\xv$, meaning that the boundary between Class 1 and 2
is quadratic.  We have just defined <strong>Quadratic Discriminant Analysis,
or QDA</strong>.</p>

</div>
</div>
</div>
<div class="cell border-box-sizing text_cell rendered">
<div class="prompt input_prompt">
</div>
<div class="inner_cell">
<div class="text_cell_render border-box-sizing rendered_html">
<h2 id="QDA:-Quadratic-Discriminant-Analysis">QDA: Quadratic Discriminant Analysis<a class="anchor-link" href="#QDA:-Quadratic-Discriminant-Analysis">&#182;</a></h2>
</div>
</div>
</div>
<div class="cell border-box-sizing text_cell rendered">
<div class="prompt input_prompt">
</div>
<div class="inner_cell">
<div class="text_cell_render border-box-sizing rendered_html">
<p>Now, some Python fun with QDA.  First, let's make some data.  Let it be $D$ dimensional so we can vary
the dimensionality of the data.</p>

</div>
</div>
</div>
<div class="cell border-box-sizing code_cell rendered">
<div class="input">
<div class="prompt input_prompt">In&nbsp;[30]:</div>
<div class="inner_cell">
    <div class="input_area">
<div class=" highlight hl-ipython3"><pre><span></span><span class="n">D</span> <span class="o">=</span> <span class="mi">1</span>  <span class="c1"># number of components in each sample</span>
<span class="n">N</span> <span class="o">=</span> <span class="mi">10</span>  <span class="c1"># number of samples in each class</span>
<span class="n">X1</span> <span class="o">=</span> <span class="n">np</span><span class="o">.</span><span class="n">random</span><span class="o">.</span><span class="n">normal</span><span class="p">(</span><span class="mf">0.0</span><span class="p">,</span> <span class="mf">1.0</span><span class="p">,</span> <span class="p">(</span><span class="n">N</span><span class="p">,</span> <span class="n">D</span><span class="p">))</span>
<span class="n">T1</span> <span class="o">=</span> <span class="n">np</span><span class="o">.</span><span class="n">array</span><span class="p">([</span><span class="mi">1</span><span class="p">]</span><span class="o">*</span><span class="n">N</span><span class="p">)</span><span class="o">.</span><span class="n">reshape</span><span class="p">((</span><span class="n">N</span><span class="p">,</span> <span class="mi">1</span><span class="p">))</span>
<span class="n">X2</span> <span class="o">=</span> <span class="n">np</span><span class="o">.</span><span class="n">random</span><span class="o">.</span><span class="n">normal</span><span class="p">(</span><span class="mf">4.0</span><span class="p">,</span> <span class="mf">1.5</span><span class="p">,</span> <span class="p">(</span><span class="n">N</span><span class="p">,</span> <span class="n">D</span><span class="p">))</span>  <span class="c1"># wider variance</span>
<span class="n">T2</span> <span class="o">=</span> <span class="n">np</span><span class="o">.</span><span class="n">array</span><span class="p">([</span><span class="mi">2</span><span class="p">]</span><span class="o">*</span><span class="n">N</span><span class="p">)</span><span class="o">.</span><span class="n">reshape</span><span class="p">((</span><span class="n">N</span><span class="p">,</span> <span class="mi">1</span><span class="p">))</span>

<span class="n">data</span> <span class="o">=</span> <span class="n">np</span><span class="o">.</span><span class="n">hstack</span><span class="p">((</span> <span class="n">np</span><span class="o">.</span><span class="n">vstack</span><span class="p">((</span><span class="n">X1</span><span class="p">,</span> <span class="n">X2</span><span class="p">)),</span> <span class="n">np</span><span class="o">.</span><span class="n">vstack</span><span class="p">((</span><span class="n">T1</span><span class="p">,</span> <span class="n">T2</span><span class="p">))))</span>
<span class="n">data</span><span class="o">.</span><span class="n">shape</span>
</pre></div>

</div>
</div>
</div>

<div class="output_wrapper">
<div class="output">


<div class="output_area">
<div class="prompt output_prompt">Out[30]:</div>



<div class="output_text output_subarea output_execute_result">
<pre>(20, 2)</pre>
</div>

</div>

</div>
</div>

</div>
<div class="cell border-box-sizing text_cell rendered">
<div class="prompt input_prompt">
</div>
<div class="inner_cell">
<div class="text_cell_render border-box-sizing rendered_html">
<p>Now imagine we only have <em>data</em> and don't know how it was
generated.  We don't know the mean and covariance of the two classes.
Data looks like</p>

</div>
</div>
</div>
<div class="cell border-box-sizing code_cell rendered">
<div class="input">
<div class="prompt input_prompt">In&nbsp;[31]:</div>
<div class="inner_cell">
    <div class="input_area">
<div class=" highlight hl-ipython3"><pre><span></span><span class="n">data</span>
</pre></div>

</div>
</div>
</div>

<div class="output_wrapper">
<div class="output">


<div class="output_area">
<div class="prompt output_prompt">Out[31]:</div>



<div class="output_text output_subarea output_execute_result">
<pre>array([[-0.18019323,  1.        ],
       [ 1.65410735,  1.        ],
       [-0.29196513,  1.        ],
       [-0.10356136,  1.        ],
       [-1.3009049 ,  1.        ],
       [ 0.15470113,  1.        ],
       [ 0.43472801,  1.        ],
       [ 0.64066169,  1.        ],
       [-2.10798444,  1.        ],
       [-0.39106068,  1.        ],
       [ 4.68545208,  2.        ],
       [ 3.44462694,  2.        ],
       [ 7.02330403,  2.        ],
       [ 5.20804926,  2.        ],
       [ 4.16718276,  2.        ],
       [ 4.63302064,  2.        ],
       [ 1.02159925,  2.        ],
       [ 4.73752211,  2.        ],
       [ 3.55609604,  2.        ],
       [ 2.54418542,  2.        ]])</pre>
</div>

</div>

</div>
</div>

</div>
<div class="cell border-box-sizing text_cell rendered">
<div class="prompt input_prompt">
</div>
<div class="inner_cell">
<div class="text_cell_render border-box-sizing rendered_html">
<p>Start as before.  Separate into input columns and target column.  The
target is now an integer representing the class.  And let's
standardize the inputs.</p>

</div>
</div>
</div>
<div class="cell border-box-sizing code_cell rendered">
<div class="input">
<div class="prompt input_prompt">In&nbsp;[32]:</div>
<div class="inner_cell">
    <div class="input_area">
<div class=" highlight hl-ipython3"><pre><span></span><span class="n">X</span> <span class="o">=</span> <span class="n">data</span><span class="p">[:,</span> <span class="mi">0</span><span class="p">:</span><span class="n">D</span><span class="p">]</span>
<span class="n">T</span> <span class="o">=</span> <span class="n">data</span><span class="p">[:,</span> <span class="o">-</span><span class="mi">1</span><span class="p">:]</span>
<span class="n">means</span> <span class="o">=</span> <span class="n">np</span><span class="o">.</span><span class="n">mean</span><span class="p">(</span><span class="n">X</span><span class="p">,</span> <span class="mi">0</span><span class="p">)</span>
<span class="n">stds</span> <span class="o">=</span> <span class="n">np</span><span class="o">.</span><span class="n">std</span><span class="p">(</span><span class="n">X</span><span class="p">,</span> <span class="mi">0</span><span class="p">)</span>
<span class="n">Xs</span> <span class="o">=</span> <span class="p">(</span><span class="n">X</span> <span class="o">-</span> <span class="n">means</span><span class="p">)</span> <span class="o">/</span> <span class="n">stds</span>
</pre></div>

</div>
</div>
</div>

</div>
<div class="cell border-box-sizing code_cell rendered">
<div class="input">
<div class="prompt input_prompt">In&nbsp;[33]:</div>
<div class="inner_cell">
    <div class="input_area">
<div class=" highlight hl-ipython3"><pre><span></span><span class="n">Xs</span><span class="o">.</span><span class="n">mean</span><span class="p">(</span><span class="mi">0</span><span class="p">),</span> <span class="n">Xs</span><span class="o">.</span><span class="n">std</span><span class="p">(</span><span class="mi">0</span><span class="p">)</span>
</pre></div>

</div>
</div>
</div>

<div class="output_wrapper">
<div class="output">


<div class="output_area">
<div class="prompt output_prompt">Out[33]:</div>



<div class="output_text output_subarea output_execute_result">
<pre>(array([ -6.93889390e-17]), array([ 1.]))</pre>
</div>

</div>

</div>
</div>

</div>
<div class="cell border-box-sizing text_cell rendered">
<div class="prompt input_prompt">
</div>
<div class="inner_cell">
<div class="text_cell_render border-box-sizing rendered_html">
<p>Now we need a QDA discriminant function.  Here is the math again.</p>
$$
      \begin{align*}
        \delta_k(\xv) = -\frac{1}{2} \ln |\Sigma_k| -\frac{1}{2}(\xv-\muv_k)^T
\Sigma_k^{-1} (\xv-\muv_k) + \ln P(C=k)
      \end{align*}
$$<p>Let's consider ways to calculate that $\Sigma_k^{-1}$.</p>

</div>
</div>
</div>
<div class="cell border-box-sizing code_cell rendered">
<div class="input">
<div class="prompt input_prompt">In&nbsp;[34]:</div>
<div class="inner_cell">
    <div class="input_area">
<div class=" highlight hl-ipython3"><pre><span></span><span class="n">Sigma</span> <span class="o">=</span> <span class="n">np</span><span class="o">.</span><span class="n">array</span><span class="p">([[</span><span class="mi">1</span><span class="p">,</span> <span class="mi">2</span><span class="p">],</span> <span class="p">[</span><span class="mi">2</span><span class="p">,</span> <span class="mi">1</span><span class="p">]])</span>
<span class="n">Sigma</span> <span class="o">@</span> <span class="n">np</span><span class="o">.</span><span class="n">linalg</span><span class="o">.</span><span class="n">inv</span><span class="p">(</span><span class="n">Sigma</span><span class="p">)</span>
</pre></div>

</div>
</div>
</div>

<div class="output_wrapper">
<div class="output">


<div class="output_area">
<div class="prompt output_prompt">Out[34]:</div>



<div class="output_text output_subarea output_execute_result">
<pre>array([[ 1.,  0.],
       [ 0.,  1.]])</pre>
</div>

</div>

</div>
</div>

</div>
<div class="cell border-box-sizing code_cell rendered">
<div class="input">
<div class="prompt input_prompt">In&nbsp;[35]:</div>
<div class="inner_cell">
    <div class="input_area">
<div class=" highlight hl-ipython3"><pre><span></span><span class="n">Sigma</span> <span class="o">@</span> <span class="n">np</span><span class="o">.</span><span class="n">linalg</span><span class="o">.</span><span class="n">pinv</span><span class="p">(</span><span class="n">Sigma</span><span class="p">)</span>
</pre></div>

</div>
</div>
</div>

<div class="output_wrapper">
<div class="output">


<div class="output_area">
<div class="prompt output_prompt">Out[35]:</div>



<div class="output_text output_subarea output_execute_result">
<pre>array([[  1.00000000e+00,  -2.22044605e-16],
       [  1.11022302e-16,   1.00000000e+00]])</pre>
</div>

</div>

</div>
</div>

</div>
<div class="cell border-box-sizing code_cell rendered">
<div class="input">
<div class="prompt input_prompt">In&nbsp;[36]:</div>
<div class="inner_cell">
    <div class="input_area">
<div class=" highlight hl-ipython3"><pre><span></span><span class="n">Sigma</span> <span class="o">=</span> <span class="n">np</span><span class="o">.</span><span class="n">array</span><span class="p">([[</span><span class="mi">1</span><span class="p">,</span> <span class="mi">2</span><span class="p">],</span> <span class="p">[</span><span class="mi">1</span><span class="p">,</span> <span class="mi">2</span><span class="p">]])</span>
<span class="n">Sigma</span>
</pre></div>

</div>
</div>
</div>

<div class="output_wrapper">
<div class="output">


<div class="output_area">
<div class="prompt output_prompt">Out[36]:</div>



<div class="output_text output_subarea output_execute_result">
<pre>array([[1, 2],
       [1, 2]])</pre>
</div>

</div>

</div>
</div>

</div>
<div class="cell border-box-sizing code_cell rendered">
<div class="input">
<div class="prompt input_prompt">In&nbsp;[37]:</div>
<div class="inner_cell">
    <div class="input_area">
<div class=" highlight hl-ipython3"><pre><span></span><span class="n">np</span><span class="o">.</span><span class="n">linalg</span><span class="o">.</span><span class="n">inv</span><span class="p">(</span><span class="n">Sigma</span><span class="p">)</span>
</pre></div>

</div>
</div>
</div>

<div class="output_wrapper">
<div class="output">


<div class="output_area">
<div class="prompt"></div>

<div class="output_subarea output_text output_error">
<pre>
<span class="ansi-red-intense-fg ansi-bold">---------------------------------------------------------------------------</span>
<span class="ansi-red-intense-fg ansi-bold">LinAlgError</span>                               Traceback (most recent call last)
<span class="ansi-green-intense-fg ansi-bold">&lt;ipython-input-37-09a059eb27a6&gt;</span> in <span class="ansi-cyan-fg">&lt;module&gt;</span><span class="ansi-blue-intense-fg ansi-bold">()</span>
<span class="ansi-green-intense-fg ansi-bold">----&gt; 1</span><span class="ansi-yellow-intense-fg ansi-bold"> </span>np<span class="ansi-yellow-intense-fg ansi-bold">.</span>linalg<span class="ansi-yellow-intense-fg ansi-bold">.</span>inv<span class="ansi-yellow-intense-fg ansi-bold">(</span>Sigma<span class="ansi-yellow-intense-fg ansi-bold">)</span>

<span class="ansi-green-intense-fg ansi-bold">/home/anderson/anaconda3/lib/python3.5/site-packages/numpy/linalg/linalg.py</span> in <span class="ansi-cyan-fg">inv</span><span class="ansi-blue-intense-fg ansi-bold">(a)</span>
<span class="ansi-green-fg">    524</span>     signature <span class="ansi-yellow-intense-fg ansi-bold">=</span> <span class="ansi-blue-intense-fg ansi-bold">&#39;D-&gt;D&#39;</span> <span class="ansi-green-intense-fg ansi-bold">if</span> isComplexType<span class="ansi-yellow-intense-fg ansi-bold">(</span>t<span class="ansi-yellow-intense-fg ansi-bold">)</span> <span class="ansi-green-intense-fg ansi-bold">else</span> <span class="ansi-blue-intense-fg ansi-bold">&#39;d-&gt;d&#39;</span>
<span class="ansi-green-fg">    525</span>     extobj <span class="ansi-yellow-intense-fg ansi-bold">=</span> get_linalg_error_extobj<span class="ansi-yellow-intense-fg ansi-bold">(</span>_raise_linalgerror_singular<span class="ansi-yellow-intense-fg ansi-bold">)</span>
<span class="ansi-green-intense-fg ansi-bold">--&gt; 526</span><span class="ansi-yellow-intense-fg ansi-bold">     </span>ainv <span class="ansi-yellow-intense-fg ansi-bold">=</span> _umath_linalg<span class="ansi-yellow-intense-fg ansi-bold">.</span>inv<span class="ansi-yellow-intense-fg ansi-bold">(</span>a<span class="ansi-yellow-intense-fg ansi-bold">,</span> signature<span class="ansi-yellow-intense-fg ansi-bold">=</span>signature<span class="ansi-yellow-intense-fg ansi-bold">,</span> extobj<span class="ansi-yellow-intense-fg ansi-bold">=</span>extobj<span class="ansi-yellow-intense-fg ansi-bold">)</span>
<span class="ansi-green-fg">    527</span>     <span class="ansi-green-intense-fg ansi-bold">return</span> wrap<span class="ansi-yellow-intense-fg ansi-bold">(</span>ainv<span class="ansi-yellow-intense-fg ansi-bold">.</span>astype<span class="ansi-yellow-intense-fg ansi-bold">(</span>result_t<span class="ansi-yellow-intense-fg ansi-bold">,</span> copy<span class="ansi-yellow-intense-fg ansi-bold">=</span><span class="ansi-green-intense-fg ansi-bold">False</span><span class="ansi-yellow-intense-fg ansi-bold">)</span><span class="ansi-yellow-intense-fg ansi-bold">)</span>
<span class="ansi-green-fg">    528</span> 

<span class="ansi-green-intense-fg ansi-bold">/home/anderson/anaconda3/lib/python3.5/site-packages/numpy/linalg/linalg.py</span> in <span class="ansi-cyan-fg">_raise_linalgerror_singular</span><span class="ansi-blue-intense-fg ansi-bold">(err, flag)</span>
<span class="ansi-green-fg">     88</span> 
<span class="ansi-green-fg">     89</span> <span class="ansi-green-intense-fg ansi-bold">def</span> _raise_linalgerror_singular<span class="ansi-yellow-intense-fg ansi-bold">(</span>err<span class="ansi-yellow-intense-fg ansi-bold">,</span> flag<span class="ansi-yellow-intense-fg ansi-bold">)</span><span class="ansi-yellow-intense-fg ansi-bold">:</span>
<span class="ansi-green-intense-fg ansi-bold">---&gt; 90</span><span class="ansi-yellow-intense-fg ansi-bold">     </span><span class="ansi-green-intense-fg ansi-bold">raise</span> LinAlgError<span class="ansi-yellow-intense-fg ansi-bold">(</span><span class="ansi-blue-intense-fg ansi-bold">&#34;Singular matrix&#34;</span><span class="ansi-yellow-intense-fg ansi-bold">)</span>
<span class="ansi-green-fg">     91</span> 
<span class="ansi-green-fg">     92</span> <span class="ansi-green-intense-fg ansi-bold">def</span> _raise_linalgerror_nonposdef<span class="ansi-yellow-intense-fg ansi-bold">(</span>err<span class="ansi-yellow-intense-fg ansi-bold">,</span> flag<span class="ansi-yellow-intense-fg ansi-bold">)</span><span class="ansi-yellow-intense-fg ansi-bold">:</span>

<span class="ansi-red-intense-fg ansi-bold">LinAlgError</span>: Singular matrix</pre>
</div>
</div>

</div>
</div>

</div>
<div class="cell border-box-sizing code_cell rendered">
<div class="input">
<div class="prompt input_prompt">In&nbsp;[&nbsp;]:</div>
<div class="inner_cell">
    <div class="input_area">
<div class=" highlight hl-ipython3"><pre><span></span>np.linalg.pinv<span class="o">?</span>
</pre></div>

</div>
</div>
</div>

</div>
<div class="cell border-box-sizing code_cell rendered">
<div class="input">
<div class="prompt input_prompt">In&nbsp;[38]:</div>
<div class="inner_cell">
    <div class="input_area">
<div class=" highlight hl-ipython3"><pre><span></span><span class="n">Sigma</span> <span class="o">@</span> <span class="n">np</span><span class="o">.</span><span class="n">linalg</span><span class="o">.</span><span class="n">pinv</span><span class="p">(</span><span class="n">Sigma</span><span class="p">)</span>
</pre></div>

</div>
</div>
</div>

<div class="output_wrapper">
<div class="output">


<div class="output_area">
<div class="prompt output_prompt">Out[38]:</div>



<div class="output_text output_subarea output_execute_result">
<pre>array([[ 0.5,  0.5],
       [ 0.5,  0.5]])</pre>
</div>

</div>

</div>
</div>

</div>
<div class="cell border-box-sizing code_cell rendered">
<div class="input">
<div class="prompt input_prompt">In&nbsp;[39]:</div>
<div class="inner_cell">
    <div class="input_area">
<div class=" highlight hl-ipython3"><pre><span></span><span class="k">def</span> <span class="nf">discQDA</span><span class="p">(</span><span class="n">X</span><span class="p">,</span> <span class="n">means</span><span class="p">,</span> <span class="n">stds</span><span class="p">,</span> <span class="n">mu</span><span class="p">,</span> <span class="n">Sigma</span><span class="p">,</span> <span class="n">prior</span><span class="p">):</span>
    <span class="n">Xc</span> <span class="o">=</span> <span class="p">(</span><span class="n">X</span> <span class="o">-</span> <span class="n">means</span><span class="p">)</span> <span class="o">/</span> <span class="n">stds</span> <span class="o">-</span> <span class="n">mu</span>
    <span class="k">if</span> <span class="n">Sigma</span><span class="o">.</span><span class="n">size</span> <span class="o">==</span> <span class="mi">1</span><span class="p">:</span>
        <span class="n">Sigma</span> <span class="o">=</span> <span class="n">np</span><span class="o">.</span><span class="n">asarray</span><span class="p">(</span><span class="n">Sigma</span><span class="p">)</span><span class="o">.</span><span class="n">reshape</span><span class="p">((</span><span class="mi">1</span><span class="p">,</span><span class="mi">1</span><span class="p">))</span>
    <span class="n">det</span> <span class="o">=</span> <span class="n">np</span><span class="o">.</span><span class="n">linalg</span><span class="o">.</span><span class="n">det</span><span class="p">(</span><span class="n">Sigma</span><span class="p">)</span>        
    <span class="c1"># if det == 0:</span>
    <span class="c1">#   raise np.linalg.LinAlgError(&#39;discQDA(): Singular covariance matrix&#39;)</span>
    <span class="n">SigmaInv</span> <span class="o">=</span> <span class="n">np</span><span class="o">.</span><span class="n">linalg</span><span class="o">.</span><span class="n">pinv</span><span class="p">(</span><span class="n">Sigma</span><span class="p">)</span>     <span class="c1"># pinv in case Sigma is singular</span>
    <span class="k">return</span> <span class="o">-</span><span class="mf">0.5</span> <span class="o">*</span> <span class="n">np</span><span class="o">.</span><span class="n">log</span><span class="p">(</span><span class="n">det</span><span class="p">)</span> \
           <span class="o">-</span> <span class="mf">0.5</span> <span class="o">*</span> <span class="n">np</span><span class="o">.</span><span class="n">sum</span><span class="p">(</span><span class="n">np</span><span class="o">.</span><span class="n">dot</span><span class="p">(</span><span class="n">Xc</span><span class="p">,</span> <span class="n">SigmaInv</span><span class="p">)</span> <span class="o">*</span> <span class="n">Xc</span><span class="p">,</span> <span class="n">axis</span><span class="o">=</span><span class="mi">1</span><span class="p">)</span><span class="o">.</span><span class="n">reshape</span><span class="p">((</span><span class="o">-</span><span class="mi">1</span><span class="p">,</span><span class="mi">1</span><span class="p">))</span> \
           <span class="o">+</span> <span class="n">np</span><span class="o">.</span><span class="n">log</span><span class="p">(</span><span class="n">prior</span><span class="p">)</span>
</pre></div>

</div>
</div>
</div>

</div>
<div class="cell border-box-sizing text_cell rendered">
<div class="prompt input_prompt">
</div>
<div class="inner_cell">
<div class="text_cell_render border-box-sizing rendered_html">
<p>To use this, we must calculate the mean, covariance, and prior
probabililty for each class.
What about $p(C=k)$, which is the a prior probability
distribution of Class $k$?  If we have no prior belief that one
class is more likely than any other,</p>
$$
\begin{align*}
p(C=k) &= \frac{N_k}{N}
\end{align*}
$$<p>where $N$ is the total number of samples from all classes.</p>
<p>We are still pretending we do not know how the data was generated.</p>

</div>
</div>
</div>
<div class="cell border-box-sizing code_cell rendered">
<div class="input">
<div class="prompt input_prompt">In&nbsp;[40]:</div>
<div class="inner_cell">
    <div class="input_area">
<div class=" highlight hl-ipython3"><pre><span></span><span class="p">(</span><span class="n">T</span><span class="o">==</span><span class="mi">1</span><span class="p">)</span><span class="o">.</span><span class="n">reshape</span><span class="p">((</span><span class="o">-</span><span class="mi">1</span><span class="p">))</span>
</pre></div>

</div>
</div>
</div>

<div class="output_wrapper">
<div class="output">


<div class="output_area">
<div class="prompt output_prompt">Out[40]:</div>



<div class="output_text output_subarea output_execute_result">
<pre>array([ True,  True,  True,  True,  True,  True,  True,  True,  True,
        True, False, False, False, False, False, False, False, False,
       False, False], dtype=bool)</pre>
</div>

</div>

</div>
</div>

</div>
<div class="cell border-box-sizing code_cell rendered">
<div class="input">
<div class="prompt input_prompt">In&nbsp;[41]:</div>
<div class="inner_cell">
    <div class="input_area">
<div class=" highlight hl-ipython3"><pre><span></span><span class="n">class1rows</span> <span class="o">=</span> <span class="p">(</span><span class="n">T</span><span class="o">==</span><span class="mi">1</span><span class="p">)</span><span class="o">.</span><span class="n">reshape</span><span class="p">((</span><span class="o">-</span><span class="mi">1</span><span class="p">))</span>
<span class="n">class2rows</span> <span class="o">=</span> <span class="p">(</span><span class="n">T</span><span class="o">==</span><span class="mi">2</span><span class="p">)</span><span class="o">.</span><span class="n">reshape</span><span class="p">((</span><span class="o">-</span><span class="mi">1</span><span class="p">))</span>

<span class="n">mu1</span> <span class="o">=</span> <span class="n">np</span><span class="o">.</span><span class="n">mean</span><span class="p">(</span><span class="n">Xs</span><span class="p">[</span><span class="n">class1rows</span><span class="p">,</span> <span class="p">:],</span> <span class="n">axis</span><span class="o">=</span><span class="mi">0</span><span class="p">)</span>
<span class="n">mu2</span> <span class="o">=</span> <span class="n">np</span><span class="o">.</span><span class="n">mean</span><span class="p">(</span><span class="n">Xs</span><span class="p">[</span><span class="n">class2rows</span><span class="p">,</span> <span class="p">:],</span> <span class="n">axis</span><span class="o">=</span><span class="mi">0</span><span class="p">)</span>

<span class="n">Sigma1</span> <span class="o">=</span> <span class="n">np</span><span class="o">.</span><span class="n">cov</span><span class="p">(</span><span class="n">Xs</span><span class="p">[</span><span class="n">class1rows</span><span class="p">,</span> <span class="p">:]</span><span class="o">.</span><span class="n">T</span><span class="p">)</span>
<span class="n">Sigma2</span> <span class="o">=</span> <span class="n">np</span><span class="o">.</span><span class="n">cov</span><span class="p">(</span><span class="n">Xs</span><span class="p">[</span><span class="n">class2rows</span><span class="p">,</span> <span class="p">:]</span><span class="o">.</span><span class="n">T</span><span class="p">)</span>

<span class="n">N1</span> <span class="o">=</span> <span class="n">np</span><span class="o">.</span><span class="n">sum</span><span class="p">(</span><span class="n">class1rows</span><span class="p">)</span>
<span class="n">N2</span> <span class="o">=</span> <span class="n">np</span><span class="o">.</span><span class="n">sum</span><span class="p">(</span><span class="n">class2rows</span><span class="p">)</span>
<span class="n">N</span> <span class="o">=</span> <span class="nb">len</span><span class="p">(</span><span class="n">T</span><span class="p">)</span>
<span class="n">prior1</span> <span class="o">=</span> <span class="n">N1</span> <span class="o">/</span> <span class="nb">float</span><span class="p">(</span><span class="n">N</span><span class="p">)</span>
<span class="n">prior2</span> <span class="o">=</span> <span class="n">N2</span> <span class="o">/</span> <span class="nb">float</span><span class="p">(</span><span class="n">N</span><span class="p">)</span>
</pre></div>

</div>
</div>
</div>

</div>
<div class="cell border-box-sizing code_cell rendered">
<div class="input">
<div class="prompt input_prompt">In&nbsp;[42]:</div>
<div class="inner_cell">
    <div class="input_area">
<div class=" highlight hl-ipython3"><pre><span></span><span class="n">Sigma1</span>
</pre></div>

</div>
</div>
</div>

<div class="output_wrapper">
<div class="output">


<div class="output_area">
<div class="prompt output_prompt">Out[42]:</div>



<div class="output_text output_subarea output_execute_result">
<pre>array(0.17212130868494027)</pre>
</div>

</div>

</div>
</div>

</div>
<div class="cell border-box-sizing text_cell rendered">
<div class="prompt input_prompt">
</div>
<div class="inner_cell">
<div class="text_cell_render border-box-sizing rendered_html">
<p>Now let's apply our discriminant function to some new data.</p>

</div>
</div>
</div>
<div class="cell border-box-sizing code_cell rendered">
<div class="input">
<div class="prompt input_prompt">In&nbsp;[43]:</div>
<div class="inner_cell">
    <div class="input_area">
<div class=" highlight hl-ipython3"><pre><span></span><span class="n">nNew</span> <span class="o">=</span> <span class="mi">100</span>
<span class="n">newData</span> <span class="o">=</span> <span class="n">np</span><span class="o">.</span><span class="n">linspace</span><span class="p">(</span><span class="o">-</span><span class="mf">5.0</span><span class="p">,</span> <span class="mf">10.0</span><span class="p">,</span> <span class="n">nNew</span><span class="p">)</span><span class="o">.</span><span class="n">repeat</span><span class="p">(</span><span class="n">D</span><span class="p">)</span><span class="o">.</span><span class="n">reshape</span><span class="p">((</span><span class="n">nNew</span><span class="p">,</span> <span class="n">D</span><span class="p">))</span>

<span class="n">d1</span> <span class="o">=</span> <span class="n">discQDA</span><span class="p">(</span><span class="n">newData</span><span class="p">,</span> <span class="n">means</span><span class="p">,</span> <span class="n">stds</span><span class="p">,</span> <span class="n">mu1</span><span class="p">,</span> <span class="n">Sigma1</span><span class="p">,</span> <span class="n">prior1</span><span class="p">)</span>
<span class="n">d2</span> <span class="o">=</span> <span class="n">discQDA</span><span class="p">(</span><span class="n">newData</span><span class="p">,</span> <span class="n">means</span><span class="p">,</span> <span class="n">stds</span><span class="p">,</span> <span class="n">mu2</span><span class="p">,</span> <span class="n">Sigma2</span><span class="p">,</span> <span class="n">prior2</span><span class="p">)</span>
</pre></div>

</div>
</div>
</div>

</div>
<div class="cell border-box-sizing code_cell rendered">
<div class="input">
<div class="prompt input_prompt">In&nbsp;[44]:</div>
<div class="inner_cell">
    <div class="input_area">
<div class=" highlight hl-ipython3"><pre><span></span><span class="n">d1</span><span class="o">.</span><span class="n">shape</span><span class="p">,</span> <span class="n">d2</span><span class="o">.</span><span class="n">shape</span>
</pre></div>

</div>
</div>
</div>

<div class="output_wrapper">
<div class="output">


<div class="output_area">
<div class="prompt output_prompt">Out[44]:</div>



<div class="output_text output_subarea output_execute_result">
<pre>((100, 1), (100, 1))</pre>
</div>

</div>

</div>
</div>

</div>
<div class="cell border-box-sizing text_cell rendered">
<div class="prompt input_prompt">
</div>
<div class="inner_cell">
<div class="text_cell_render border-box-sizing rendered_html">
<p>and look at it.  If data is more than one dimensional, let's just plot
with respect to the first component.</p>
<p>To obtain the value of the Normal distribution value for a given data sample, we have two choices:</p>
<ol>
<li>Start with the discriminant function value and transform it to the full Normal distribution value,</li>
<li>Use our implementation of the Normal distibution directly.</li>
</ol>

</div>
</div>
</div>
<div class="cell border-box-sizing code_cell rendered">
<div class="input">
<div class="prompt input_prompt">In&nbsp;[45]:</div>
<div class="inner_cell">
    <div class="input_area">
<div class=" highlight hl-ipython3"><pre><span></span><span class="n">mu1</span><span class="p">,</span> <span class="n">mu2</span><span class="p">,</span> <span class="n">Sigma1</span><span class="p">,</span> <span class="n">Sigma2</span>
</pre></div>

</div>
</div>
</div>

<div class="output_wrapper">
<div class="output">


<div class="output_area">
<div class="prompt output_prompt">Out[45]:</div>



<div class="output_text output_subarea output_execute_result">
<pre>(array([-0.85590523]),
 array([ 0.85590523]),
 array(0.17212130868494027),
 array(0.4221592258516233))</pre>
</div>

</div>

</div>
</div>

</div>
<div class="cell border-box-sizing code_cell rendered">
<div class="input">
<div class="prompt input_prompt">In&nbsp;[65]:</div>
<div class="inner_cell">
    <div class="input_area">
<div class=" highlight hl-ipython3"><pre><span></span><span class="k">def</span> <span class="nf">normald</span><span class="p">(</span><span class="n">X</span><span class="p">,</span> <span class="n">mu</span><span class="p">,</span> <span class="n">sigma</span><span class="p">):</span>
    <span class="sd">&quot;&quot;&quot; normald:</span>
<span class="sd">       X contains samples, one per row, N x D. </span>
<span class="sd">       mu is mean vector, D x 1.</span>
<span class="sd">       sigma is covariance matrix, D x D.  &quot;&quot;&quot;</span>
    <span class="n">D</span> <span class="o">=</span> <span class="n">X</span><span class="o">.</span><span class="n">shape</span><span class="p">[</span><span class="mi">1</span><span class="p">]</span>
    <span class="n">detSigma</span> <span class="o">=</span> <span class="n">sigma</span> <span class="k">if</span> <span class="n">D</span> <span class="o">==</span> <span class="mi">1</span> <span class="k">else</span> <span class="n">np</span><span class="o">.</span><span class="n">linalg</span><span class="o">.</span><span class="n">det</span><span class="p">(</span><span class="n">sigma</span><span class="p">)</span>
    <span class="k">if</span> <span class="n">detSigma</span> <span class="o">==</span> <span class="mi">0</span><span class="p">:</span>
        <span class="k">raise</span> <span class="n">np</span><span class="o">.</span><span class="n">linalg</span><span class="o">.</span><span class="n">LinAlgError</span><span class="p">(</span><span class="s1">&#39;normald(): Singular covariance matrix&#39;</span><span class="p">)</span>
    <span class="n">sigmaI</span> <span class="o">=</span> <span class="mf">1.0</span><span class="o">/</span><span class="n">sigma</span> <span class="k">if</span> <span class="n">D</span> <span class="o">==</span> <span class="mi">1</span> <span class="k">else</span> <span class="n">np</span><span class="o">.</span><span class="n">linalg</span><span class="o">.</span><span class="n">inv</span><span class="p">(</span><span class="n">sigma</span><span class="p">)</span>
    <span class="n">normConstant</span> <span class="o">=</span> <span class="mf">1.0</span> <span class="o">/</span> <span class="n">np</span><span class="o">.</span><span class="n">sqrt</span><span class="p">((</span><span class="mi">2</span><span class="o">*</span><span class="n">np</span><span class="o">.</span><span class="n">pi</span><span class="p">)</span><span class="o">**</span><span class="n">D</span> <span class="o">*</span> <span class="n">detSigma</span><span class="p">)</span>
    <span class="n">diffv</span> <span class="o">=</span> <span class="n">X</span> <span class="o">-</span> <span class="n">mu</span><span class="o">.</span><span class="n">T</span> <span class="c1"># change column vector mu to be row vector</span>
    <span class="k">return</span> <span class="n">normConstant</span> <span class="o">*</span> <span class="n">np</span><span class="o">.</span><span class="n">exp</span><span class="p">(</span><span class="o">-</span><span class="mf">0.5</span> <span class="o">*</span> <span class="n">np</span><span class="o">.</span><span class="n">sum</span><span class="p">(</span><span class="n">np</span><span class="o">.</span><span class="n">dot</span><span class="p">(</span><span class="n">diffv</span><span class="p">,</span> <span class="n">sigmaI</span><span class="p">)</span> <span class="o">*</span> <span class="n">diffv</span><span class="p">,</span> <span class="n">axis</span><span class="o">=</span><span class="mi">1</span><span class="p">))[:,</span><span class="n">np</span><span class="o">.</span><span class="n">newaxis</span><span class="p">]</span>
</pre></div>

</div>
</div>
</div>

</div>
<div class="cell border-box-sizing code_cell rendered">
<div class="input">
<div class="prompt input_prompt">In&nbsp;[66]:</div>
<div class="inner_cell">
    <div class="input_area">
<div class=" highlight hl-ipython3"><pre><span></span><span class="n">mu1</span><span class="p">,</span> <span class="n">mu2</span>
</pre></div>

</div>
</div>
</div>

<div class="output_wrapper">
<div class="output">


<div class="output_area">
<div class="prompt output_prompt">Out[66]:</div>



<div class="output_text output_subarea output_execute_result">
<pre>(array([-0.85590523]), array([ 0.85590523]))</pre>
</div>

</div>

</div>
</div>

</div>
<div class="cell border-box-sizing code_cell rendered">
<div class="input">
<div class="prompt input_prompt">In&nbsp;[68]:</div>
<div class="inner_cell">
    <div class="input_area">
<div class=" highlight hl-ipython3"><pre><span></span><span class="n">plt</span><span class="o">.</span><span class="n">figure</span><span class="p">(</span><span class="n">figsize</span><span class="o">=</span><span class="p">(</span><span class="mi">10</span><span class="p">,</span> <span class="mi">10</span><span class="p">))</span>
<span class="n">plt</span><span class="o">.</span><span class="n">subplot</span><span class="p">(</span><span class="mi">3</span><span class="p">,</span> <span class="mi">1</span><span class="p">,</span> <span class="mi">1</span><span class="p">)</span>
<span class="n">plt</span><span class="o">.</span><span class="n">plot</span><span class="p">(</span><span class="n">newData</span><span class="p">[:,</span> <span class="mi">0</span><span class="p">],</span><span class="n">np</span><span class="o">.</span><span class="n">hstack</span><span class="p">((</span><span class="n">d1</span><span class="p">,</span> <span class="n">d2</span><span class="p">)))</span>
<span class="n">plt</span><span class="o">.</span><span class="n">ylabel</span><span class="p">(</span><span class="s2">&quot;QDA Discriminant Functions&quot;</span><span class="p">)</span>

<span class="c1"># Plot generative distributions  p(x | Class=k)  starting with discriminant functions</span>
<span class="n">plt</span><span class="o">.</span><span class="n">subplot</span><span class="p">(</span><span class="mi">3</span><span class="p">,</span> <span class="mi">1</span><span class="p">,</span> <span class="mi">2</span><span class="p">)</span>

<span class="n">probs</span> <span class="o">=</span> <span class="n">np</span><span class="o">.</span><span class="n">exp</span><span class="p">(</span> <span class="n">np</span><span class="o">.</span><span class="n">hstack</span><span class="p">((</span><span class="n">d1</span><span class="p">,</span> <span class="n">d2</span><span class="p">))</span> <span class="o">-</span> <span class="mf">0.5</span>  <span class="o">*</span><span class="n">D</span> <span class="o">*</span> <span class="n">np</span><span class="o">.</span><span class="n">log</span><span class="p">(</span><span class="mi">2</span> <span class="o">*</span> <span class="n">np</span><span class="o">.</span><span class="n">pi</span><span class="p">)</span>  <span class="o">-</span> <span class="n">np</span><span class="o">.</span><span class="n">log</span><span class="p">(</span><span class="n">np</span><span class="o">.</span><span class="n">array</span><span class="p">([[</span><span class="n">prior1</span><span class="p">,</span> <span class="n">prior2</span><span class="p">]])))</span>

<span class="n">plt</span><span class="o">.</span><span class="n">plot</span><span class="p">(</span><span class="n">newData</span><span class="p">[:,</span><span class="mi">0</span><span class="p">],</span> <span class="n">probs</span><span class="p">)</span>
<span class="n">plt</span><span class="o">.</span><span class="n">ylabel</span><span class="p">(</span><span class="s2">&quot;QDA P(x|Class=k)</span><span class="se">\n</span><span class="s2"> from disc funcs&quot;</span><span class="p">,</span> <span class="n">multialignment</span><span class="o">=</span><span class="s2">&quot;center&quot;</span><span class="p">)</span>

<span class="c1"># Plot generative distributions  p(x | Class=k)  using normald    ERROR HERE</span>
<span class="n">plt</span><span class="o">.</span><span class="n">subplot</span><span class="p">(</span><span class="mi">3</span><span class="p">,</span> <span class="mi">1</span> <span class="p">,</span><span class="mi">3</span><span class="p">)</span>
<span class="n">newDataS</span> <span class="o">=</span> <span class="p">(</span><span class="n">newData</span> <span class="o">-</span> <span class="n">means</span><span class="p">)</span> <span class="o">/</span> <span class="n">stds</span>

<span class="n">probs</span> <span class="o">=</span> <span class="n">np</span><span class="o">.</span><span class="n">hstack</span><span class="p">((</span><span class="n">normald</span><span class="p">(</span><span class="n">newDataS</span><span class="p">,</span> <span class="n">mu1</span><span class="p">,</span> <span class="n">Sigma1</span><span class="p">),</span>
                   <span class="n">normald</span><span class="p">(</span><span class="n">newDataS</span><span class="p">,</span> <span class="n">mu2</span><span class="p">,</span> <span class="n">Sigma2</span><span class="p">)))</span>
<span class="n">plt</span><span class="o">.</span><span class="n">plot</span><span class="p">(</span><span class="n">newData</span><span class="p">,</span> <span class="n">probs</span><span class="p">)</span>
<span class="n">plt</span><span class="o">.</span><span class="n">ylabel</span><span class="p">(</span><span class="s2">&quot;QDA P(x|Class=k)</span><span class="se">\n</span><span class="s2"> using normald&quot;</span><span class="p">,</span> <span class="n">multialignment</span><span class="o">=</span><span class="s2">&quot;center&quot;</span><span class="p">);</span>
</pre></div>

</div>
</div>
</div>

<div class="output_wrapper">
<div class="output">


<div class="output_area">
<div class="prompt"></div>



<div class="output_png output_subarea ">
<img src="data:image/png;base64,iVBORw0KGgoAAAANSUhEUgAAAnEAAAJCCAYAAACvY5E7AAAABHNCSVQICAgIfAhkiAAAAAlwSFlz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"
>
</div>

</div>

</div>
</div>

</div>
<div class="cell border-box-sizing text_cell rendered">
<div class="prompt input_prompt">
</div>
<div class="inner_cell">
<div class="text_cell_render border-box-sizing rendered_html">
<p>Since there are only 10 training samples per class, results will
change a bit from run to run.</p>

</div>
</div>
</div>
<div class="cell border-box-sizing text_cell rendered">
<div class="prompt input_prompt">
</div>
<div class="inner_cell">
<div class="text_cell_render border-box-sizing rendered_html">
<p>But, what if we have more dimensions than samples?  Setting $D=20$,
with $N=10$, results in</p>

</div>
</div>
</div>
<div class="cell border-box-sizing code_cell rendered">
<div class="input">
<div class="prompt input_prompt">In&nbsp;[69]:</div>
<div class="inner_cell">
    <div class="input_area">
<div class=" highlight hl-ipython3"><pre><span></span><span class="n">D</span> <span class="o">=</span> <span class="mi">20</span>  <span class="c1"># number of components in each sample</span>
<span class="n">N</span> <span class="o">=</span> <span class="mi">10</span>  <span class="c1"># number of samples in each class</span>
<span class="n">X1</span> <span class="o">=</span> <span class="n">np</span><span class="o">.</span><span class="n">random</span><span class="o">.</span><span class="n">normal</span><span class="p">(</span><span class="mf">0.0</span><span class="p">,</span> <span class="mf">1.2</span><span class="p">,</span> <span class="p">(</span><span class="n">N</span><span class="p">,</span> <span class="n">D</span><span class="p">))</span>
<span class="n">T1</span> <span class="o">=</span> <span class="n">np</span><span class="o">.</span><span class="n">array</span><span class="p">([</span><span class="mi">1</span><span class="p">]</span><span class="o">*</span><span class="n">N</span><span class="p">)</span><span class="o">.</span><span class="n">reshape</span><span class="p">((</span><span class="n">N</span><span class="p">,</span> <span class="mi">1</span><span class="p">))</span>
<span class="n">X2</span> <span class="o">=</span> <span class="n">np</span><span class="o">.</span><span class="n">random</span><span class="o">.</span><span class="n">normal</span><span class="p">(</span><span class="mf">4.0</span><span class="p">,</span> <span class="mf">1.8</span><span class="p">,</span> <span class="p">(</span><span class="n">N</span><span class="p">,</span> <span class="n">D</span><span class="p">))</span>  <span class="c1"># wider variance</span>
<span class="n">T2</span> <span class="o">=</span> <span class="n">np</span><span class="o">.</span><span class="n">array</span><span class="p">([</span><span class="mi">2</span><span class="p">]</span><span class="o">*</span><span class="n">N</span><span class="p">)</span><span class="o">.</span><span class="n">reshape</span><span class="p">((</span><span class="n">N</span><span class="p">,</span> <span class="mi">1</span><span class="p">))</span>

<span class="n">data</span> <span class="o">=</span> <span class="n">np</span><span class="o">.</span><span class="n">hstack</span><span class="p">((</span> <span class="n">np</span><span class="o">.</span><span class="n">vstack</span><span class="p">((</span><span class="n">X1</span><span class="p">,</span> <span class="n">X2</span><span class="p">)),</span> <span class="n">np</span><span class="o">.</span><span class="n">vstack</span><span class="p">((</span><span class="n">T1</span><span class="p">,</span> <span class="n">T2</span><span class="p">))))</span>
<span class="n">X</span> <span class="o">=</span> <span class="n">data</span><span class="p">[:,</span> <span class="mi">0</span><span class="p">:</span><span class="n">D</span><span class="p">]</span>
<span class="n">T</span> <span class="o">=</span> <span class="n">data</span><span class="p">[:,</span> <span class="o">-</span><span class="mi">1</span><span class="p">]</span>
<span class="n">means</span><span class="p">,</span> <span class="n">stds</span> <span class="o">=</span> <span class="n">np</span><span class="o">.</span><span class="n">mean</span><span class="p">(</span><span class="n">X</span><span class="p">,</span><span class="mi">0</span><span class="p">),</span> <span class="n">np</span><span class="o">.</span><span class="n">std</span><span class="p">(</span><span class="n">X</span><span class="p">,</span><span class="mi">0</span><span class="p">)</span>
<span class="n">Xs</span> <span class="o">=</span> <span class="p">(</span><span class="n">X</span><span class="o">-</span><span class="n">means</span><span class="p">)</span><span class="o">/</span><span class="n">stds</span>

<span class="n">class1rows</span> <span class="o">=</span> <span class="n">T</span><span class="o">==</span><span class="mi">1</span>
<span class="n">class2rows</span> <span class="o">=</span> <span class="n">T</span><span class="o">==</span><span class="mi">2</span>

<span class="n">mu1</span> <span class="o">=</span> <span class="n">np</span><span class="o">.</span><span class="n">mean</span><span class="p">(</span><span class="n">Xs</span><span class="p">[</span><span class="n">class1rows</span><span class="p">,:],</span><span class="n">axis</span><span class="o">=</span><span class="mi">0</span><span class="p">)</span>
<span class="n">mu2</span> <span class="o">=</span> <span class="n">np</span><span class="o">.</span><span class="n">mean</span><span class="p">(</span><span class="n">Xs</span><span class="p">[</span><span class="n">class2rows</span><span class="p">,:],</span><span class="n">axis</span><span class="o">=</span><span class="mi">0</span><span class="p">)</span>

<span class="n">Sigma1</span> <span class="o">=</span> <span class="n">np</span><span class="o">.</span><span class="n">cov</span><span class="p">(</span><span class="n">Xs</span><span class="p">[</span><span class="n">class1rows</span><span class="p">,:]</span><span class="o">.</span><span class="n">T</span><span class="p">)</span>
<span class="n">Sigma2</span> <span class="o">=</span> <span class="n">np</span><span class="o">.</span><span class="n">cov</span><span class="p">(</span><span class="n">Xs</span><span class="p">[</span><span class="n">class2rows</span><span class="p">,:]</span><span class="o">.</span><span class="n">T</span><span class="p">)</span>

<span class="n">N1</span> <span class="o">=</span> <span class="n">np</span><span class="o">.</span><span class="n">sum</span><span class="p">(</span><span class="n">class1rows</span><span class="p">)</span>
<span class="n">N2</span> <span class="o">=</span> <span class="n">np</span><span class="o">.</span><span class="n">sum</span><span class="p">(</span><span class="n">class2rows</span><span class="p">)</span>
<span class="n">N</span> <span class="o">=</span> <span class="nb">len</span><span class="p">(</span><span class="n">T</span><span class="p">)</span>
<span class="n">prior1</span> <span class="o">=</span> <span class="n">N1</span> <span class="o">/</span> <span class="nb">float</span><span class="p">(</span><span class="n">N</span><span class="p">)</span>
<span class="n">prior2</span> <span class="o">=</span> <span class="n">N2</span> <span class="o">/</span> <span class="nb">float</span><span class="p">(</span><span class="n">N</span><span class="p">)</span>

<span class="n">nNew</span> <span class="o">=</span> <span class="mi">100</span>
<span class="n">newData</span> <span class="o">=</span> <span class="n">np</span><span class="o">.</span><span class="n">linspace</span><span class="p">(</span><span class="o">-</span><span class="mf">5.0</span><span class="p">,</span><span class="mf">10.0</span><span class="p">,</span><span class="n">nNew</span><span class="p">)</span><span class="o">.</span><span class="n">repeat</span><span class="p">(</span><span class="n">D</span><span class="p">)</span><span class="o">.</span><span class="n">reshape</span><span class="p">((</span><span class="n">nNew</span><span class="p">,</span><span class="n">D</span><span class="p">))</span>

<span class="n">d1</span> <span class="o">=</span> <span class="n">discQDA</span><span class="p">(</span><span class="n">newData</span><span class="p">,</span><span class="n">means</span><span class="p">,</span><span class="n">stds</span><span class="p">,</span><span class="n">mu1</span><span class="p">,</span><span class="n">Sigma1</span><span class="p">,</span><span class="n">prior1</span><span class="p">)</span>
<span class="n">d2</span> <span class="o">=</span> <span class="n">discQDA</span><span class="p">(</span><span class="n">newData</span><span class="p">,</span><span class="n">means</span><span class="p">,</span><span class="n">stds</span><span class="p">,</span><span class="n">mu2</span><span class="p">,</span><span class="n">Sigma2</span><span class="p">,</span><span class="n">prior2</span><span class="p">)</span>

<span class="n">plt</span><span class="o">.</span><span class="n">figure</span><span class="p">(</span><span class="n">figsize</span><span class="o">=</span><span class="p">(</span><span class="mi">10</span><span class="p">,</span><span class="mi">10</span><span class="p">))</span>
<span class="n">plt</span><span class="o">.</span><span class="n">subplot</span><span class="p">(</span><span class="mi">3</span><span class="p">,</span><span class="mi">1</span><span class="p">,</span><span class="mi">1</span><span class="p">)</span>
<span class="n">plt</span><span class="o">.</span><span class="n">plot</span><span class="p">(</span><span class="n">newData</span><span class="p">[:,</span><span class="mi">0</span><span class="p">],</span><span class="n">np</span><span class="o">.</span><span class="n">hstack</span><span class="p">((</span><span class="n">d1</span><span class="p">,</span><span class="n">d2</span><span class="p">)))</span>
<span class="n">plt</span><span class="o">.</span><span class="n">ylabel</span><span class="p">(</span><span class="s2">&quot;QDA Discriminant Functions&quot;</span><span class="p">)</span>
<span class="c1"># Plot generative distributions  p(x | Class=k)  starting with discriminant functions</span>
<span class="n">plt</span><span class="o">.</span><span class="n">subplot</span><span class="p">(</span><span class="mi">3</span><span class="p">,</span><span class="mi">1</span><span class="p">,</span><span class="mi">2</span><span class="p">)</span>
<span class="n">probs</span> <span class="o">=</span> <span class="n">np</span><span class="o">.</span><span class="n">exp</span><span class="p">(</span> <span class="n">np</span><span class="o">.</span><span class="n">hstack</span><span class="p">((</span><span class="n">d1</span><span class="p">,</span><span class="n">d2</span><span class="p">))</span> <span class="o">-</span> <span class="mf">0.5</span><span class="o">*</span><span class="n">D</span><span class="o">*</span><span class="n">np</span><span class="o">.</span><span class="n">log</span><span class="p">(</span><span class="mi">2</span><span class="o">*</span><span class="n">np</span><span class="o">.</span><span class="n">pi</span><span class="p">)</span> <span class="o">-</span> <span class="n">np</span><span class="o">.</span><span class="n">log</span><span class="p">(</span><span class="n">np</span><span class="o">.</span><span class="n">array</span><span class="p">([[</span><span class="n">prior1</span><span class="p">,</span><span class="n">prior2</span><span class="p">]])))</span>
<span class="n">plt</span><span class="o">.</span><span class="n">plot</span><span class="p">(</span><span class="n">newData</span><span class="p">[:,</span><span class="mi">0</span><span class="p">],</span><span class="n">probs</span><span class="p">)</span>
<span class="n">plt</span><span class="o">.</span><span class="n">ylabel</span><span class="p">(</span><span class="s2">&quot;QDA P(x|Class=k)</span><span class="se">\n</span><span class="s2"> from disc funcs&quot;</span><span class="p">,</span> <span class="n">multialignment</span><span class="o">=</span><span class="s2">&quot;center&quot;</span><span class="p">)</span>

<span class="c1"># Plot generative distributions  p(x | Class=k)  using normald</span>
<span class="n">plt</span><span class="o">.</span><span class="n">subplot</span><span class="p">(</span><span class="mi">3</span><span class="p">,</span><span class="mi">1</span><span class="p">,</span><span class="mi">3</span><span class="p">)</span>
<span class="n">newDataS</span> <span class="o">=</span> <span class="p">(</span><span class="n">newData</span><span class="o">-</span><span class="n">means</span><span class="p">)</span><span class="o">/</span><span class="n">stds</span>
<span class="n">probs</span> <span class="o">=</span> <span class="n">np</span><span class="o">.</span><span class="n">hstack</span><span class="p">((</span><span class="n">normald</span><span class="p">(</span><span class="n">newDataS</span><span class="p">,</span><span class="n">mu1</span><span class="p">,</span><span class="n">Sigma1</span><span class="p">),</span>
                   <span class="n">normald</span><span class="p">(</span><span class="n">newDataS</span><span class="p">,</span><span class="n">mu2</span><span class="p">,</span><span class="n">Sigma2</span><span class="p">)))</span>
<span class="n">plt</span><span class="o">.</span><span class="n">plot</span><span class="p">(</span><span class="n">newData</span><span class="p">[:,</span><span class="mi">0</span><span class="p">],</span><span class="n">probs</span><span class="p">)</span>
<span class="n">plt</span><span class="o">.</span><span class="n">ylabel</span><span class="p">(</span><span class="s2">&quot;QDA P(x|Class=k)</span><span class="se">\n</span><span class="s2"> using normald&quot;</span><span class="p">,</span> <span class="n">multialignment</span><span class="o">=</span><span class="s2">&quot;center&quot;</span><span class="p">);</span>
</pre></div>

</div>
</div>
</div>

<div class="output_wrapper">
<div class="output">


<div class="output_area">
<div class="prompt"></div>

<div class="output_subarea output_stream output_stderr output_text">
<pre>/home/anderson/anaconda3/lib/python3.5/site-packages/ipykernel/__main__.py:9: RuntimeWarning: invalid value encountered in log
/home/anderson/anaconda3/lib/python3.5/site-packages/ipykernel/__main__.py:13: RuntimeWarning: overflow encountered in exp
/home/anderson/anaconda3/lib/python3.5/site-packages/ipykernel/__main__.py:11: RuntimeWarning: invalid value encountered in sqrt
</pre>
</div>
</div>

<div class="output_area">
<div class="prompt"></div>



<div class="output_png output_subarea ">
<img src="data:image/png;base64,iVBORw0KGgoAAAANSUhEUgAAAoAAAAJCCAYAAABQ7XacAAAABHNCSVQICAgIfAhkiAAAAAlwSFlz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"
>
</div>

</div>

</div>
</div>

</div>
<div class="cell border-box-sizing text_cell rendered">
<div class="prompt input_prompt">
</div>
<div class="inner_cell">
<div class="text_cell_render border-box-sizing rendered_html">
<p>What happened?  $\Sigma$ is very close to singular, meaning columns of $\Xv$ are
close to collinear.  The determinant of a singular matrix is zero and its
inverse doesn't exist.  We will discuss ways of handling this in the
future.</p>

</div>
</div>
</div>
<div class="cell border-box-sizing text_cell rendered">
<div class="prompt input_prompt">
</div>
<div class="inner_cell">
<div class="text_cell_render border-box-sizing rendered_html">
<p>For two dimensional data from two classes, our data and decision
boundary, where $\delta_1(\xv) = \delta_2(\xv)$, might look like</p>
<p><img src="http://www.cs.colostate.edu/~anderson/cs480/notebooks/twonormalsboundary.png"></p>
<p>Assuming a single Normal distribution as the model of data from each class does
not seem to lead to an exceedingly complex model.  But, how many
parameters are there in the mean and covariance matrix, if data is $d$-dimensional?</p>
<ul>
<li>Mean has $d$ components.</li>
<li>Covariance matrix has $d^2$ components.  If $d = 100$, the covariance matrix has 100,000 parameters.  Whoa!</li>
</ul>
<p>Actually the covariance matrix is symmetric, so it only has $\frac{d^2}{2} + \frac{d}{2} =  \frac{d(d+1)}{2}$ unique values.  Still a lot.  And we have one for each class, so total number of parameters, including mean, is $K(d + \frac{d(d+1)}{2})$.</p>
<p>What if the data distribution is under-sampled?</p>
<p><img src="http://www.cs.colostate.edu/~anderson/cs480/notebooks/twonormalsboundary2.png"></p>
<p>Normal distribution Gaussian for Class 1 is far from correct.  Class boundary will
now lead to many errors.</p>
<p>How can we reduce the chance of overfitting?
Need to remove flexibility from the Normal distribution model.  How?</p>
<p>Could restrict all covariance matrices to be diagonal.  The
ellipses would be parallel to the axes.  Wouldn't work well if
features are correlated.</p>
<p>Could force all classes to have the same covariance matrix by
averaging the covariance matrices from every class.</p>
<p>Seems like a  bad idea, but at least we are using all of the
data samples to come up with a covariance matrix.</p>
<p>If we use the average of the
covariance matrix for each class, weighted by the fraction of
samples from that class, we would see</p>
<p><img src="http://www.cs.colostate.edu/~anderson/cs480/notebooks/twonormalsboundary2lda.png"></p>
<p>Better result than using unique covariance matrices.</p>
<p>Notice the boundary.  It is now linear, not the quadratic curve
we had before.  Why?</p>

</div>
</div>
</div>
<div class="cell border-box-sizing text_cell rendered">
<div class="prompt input_prompt">
</div>
<div class="inner_cell">
<div class="text_cell_render border-box-sizing rendered_html">
<p>Remember our discriminant function.</p>
$$
      \begin{align*}
        \delta_k(\xv) = -\frac{1}{2} \ln |\Sigma_k| -\frac{1}{2}(\xv-\muv_k)^T
        \Sigma_k^{-1} (\xv-\muv_k) + \ln P(C=k)
      \end{align*}
$$<p>When we compare discriminant functions, $\delta_2(\xv) > \delta_1(\xv)$, and use the same
covariance matrix $\Sigmav$ for every class, we get</p>
$$
      \begin{align*}
        -\frac{1}{2} & \ln |\Sigma| +
        -\frac{1}{2}(\xv-\muv_2)^T \Sigma^{-1} (\xv-\muv_2) + \ln p(C=2) 
        \\ & > -\frac{1}{2} \ln |\Sigma| +
        -\frac{1}{2}(\xv-\muv_1)^T \Sigma^{-1} (\xv-\muv_1) + \ln p(C=1) 
      \end{align*}
$$<p>which can be simplified to</p>
$$
      \begin{align*}
        -\frac{1}{2}(\xv-\muv_2)^T \Sigma^{-1} (\xv-\muv_2) + \ln p(C=2) 
        & > -\frac{1}{2}(\xv-\muv_1)^T \Sigma^{-1} (\xv-\muv_1) + \ln p(C=1) \\
        \xv^T \Sigmav^{-1} \muv_1 - \frac{1}{2}\muv_1^T \Sigmav^{-1} \muv_1 + \log
        P(C=1) 
        &> \xv^T \Sigmav^{-1} \muv_2 - \frac{1}{2}\muv_2^T \Sigmav^{-1} \muv_2
        + \log P(C=2)
      \end{align*}
$$<p>So, our discriminant function has become</p>
$$
      \begin{align*}
        \delta_k(\xv) = \xv^T \Sigmav^{-1} \muv_k - \frac{1}{2}\muv_k^T \Sigmav^{-1} \muv_k + \log
        P(C=k)
      \end{align*}
$$<p>This is linear in $\xv$, hence and can be written as</p>
$$
      \begin{align*}
        \delta_k(\xv) = \xv^T \wv_k + \text{constant}_k
      \end{align*}
$$<p>So, using Normal distributions as generative models and
restricting the covariance matrices to all be the weighted average
of class covariance matrices</p>
$$
\begin{align*}
\Sigmav = \sum_{k=1}^K \frac{N_k}{N} \Sigmav_k
\end{align*}
$$<p>results in a linear boundary.  This
approach is called Linear Discriminant Analysis (LDA).</p>
<p>Both QDA and LDA are based on Normal distributions for
modeling the data samples in each class.</p>
<p>QDA is more flexible, but LDA often works better in
practice.  When?</p>
<ul>
<li>Undersampled data<ul>
<li>Small number of samples</li>
<li>High dimensional data</li>
</ul>
</li>
</ul>

</div>
</div>
</div>
<div class="cell border-box-sizing text_cell rendered">
<div class="prompt input_prompt">
</div>
<div class="inner_cell">
<div class="text_cell_render border-box-sizing rendered_html">
<h2 id="Example">Example<a class="anchor-link" href="#Example">&#182;</a></h2>
</div>
</div>
</div>
<div class="cell border-box-sizing text_cell rendered">
<div class="prompt input_prompt">
</div>
<div class="inner_cell">
<div class="text_cell_render border-box-sizing rendered_html">
<p>Let's play with the parkinsons data and classify it using QDA.</p>
<p>Calculate means and covariance matrices</p>

</div>
</div>
</div>
<div class="cell border-box-sizing code_cell rendered">
<div class="input">
<div class="prompt input_prompt">In&nbsp;[70]:</div>
<div class="inner_cell">
    <div class="input_area">
<div class=" highlight hl-ipython3"><pre><span></span><span class="n">Xtrain</span><span class="o">.</span><span class="n">shape</span><span class="p">,</span> <span class="n">Ttrain</span><span class="o">.</span><span class="n">shape</span><span class="p">,</span> <span class="n">Xtest</span><span class="o">.</span><span class="n">shape</span><span class="p">,</span> <span class="n">Ttest</span><span class="o">.</span><span class="n">shape</span>
</pre></div>

</div>
</div>
</div>

<div class="output_wrapper">
<div class="output">


<div class="output_area">
<div class="prompt output_prompt">Out[70]:</div>



<div class="output_text output_subarea output_execute_result">
<pre>((156, 22), (156, 1), (39, 22), (39, 1))</pre>
</div>

</div>

</div>
</div>

</div>
<div class="cell border-box-sizing code_cell rendered">
<div class="input">
<div class="prompt input_prompt">In&nbsp;[71]:</div>
<div class="inner_cell">
    <div class="input_area">
<div class=" highlight hl-ipython3"><pre><span></span><span class="c1"># Fit generative models (Normal distributions) to each class</span>
<span class="n">means</span><span class="p">,</span><span class="n">stds</span> <span class="o">=</span> <span class="n">np</span><span class="o">.</span><span class="n">mean</span><span class="p">(</span><span class="n">Xtrain</span><span class="p">,</span> <span class="mi">0</span><span class="p">),</span> <span class="n">np</span><span class="o">.</span><span class="n">std</span><span class="p">(</span><span class="n">Xtrain</span><span class="p">,</span> <span class="mi">0</span><span class="p">)</span>
<span class="n">Xtrains</span> <span class="o">=</span> <span class="p">(</span><span class="n">Xtrain</span> <span class="o">-</span> <span class="n">means</span><span class="p">)</span> <span class="o">/</span> <span class="n">stds</span>

<span class="n">Ttr</span> <span class="o">=</span> <span class="p">(</span><span class="n">Ttrain</span><span class="o">==</span><span class="mi">0</span><span class="p">)</span><span class="o">.</span><span class="n">reshape</span><span class="p">((</span><span class="o">-</span><span class="mi">1</span><span class="p">))</span>
<span class="n">mu1</span> <span class="o">=</span> <span class="n">np</span><span class="o">.</span><span class="n">mean</span><span class="p">(</span><span class="n">Xtrains</span><span class="p">[</span><span class="n">Ttr</span><span class="p">,</span> <span class="p">:],</span> <span class="n">axis</span><span class="o">=</span><span class="mi">0</span><span class="p">)</span>
<span class="n">cov1</span> <span class="o">=</span> <span class="n">np</span><span class="o">.</span><span class="n">cov</span><span class="p">(</span><span class="n">Xtrains</span><span class="p">[</span><span class="n">Ttr</span><span class="p">,</span> <span class="p">:]</span><span class="o">.</span><span class="n">T</span><span class="p">)</span>
<span class="n">Ttr</span> <span class="o">=</span> <span class="p">(</span><span class="n">Ttrain</span><span class="o">.</span><span class="n">ravel</span><span class="p">()</span><span class="o">==</span><span class="mi">1</span><span class="p">)</span><span class="o">.</span><span class="n">reshape</span><span class="p">((</span><span class="o">-</span><span class="mi">1</span><span class="p">))</span>
<span class="n">mu2</span> <span class="o">=</span> <span class="n">np</span><span class="o">.</span><span class="n">mean</span><span class="p">(</span><span class="n">Xtrains</span><span class="p">[</span><span class="n">Ttr</span><span class="p">,</span> <span class="p">:],</span><span class="n">axis</span><span class="o">=</span><span class="mi">0</span><span class="p">)</span>
<span class="n">cov2</span> <span class="o">=</span> <span class="n">np</span><span class="o">.</span><span class="n">cov</span><span class="p">(</span><span class="n">Xtrains</span><span class="p">[</span><span class="n">Ttr</span><span class="p">,</span> <span class="p">:]</span><span class="o">.</span><span class="n">T</span><span class="p">)</span>
</pre></div>

</div>
</div>
</div>

</div>
<div class="cell border-box-sizing code_cell rendered">
<div class="input">
<div class="prompt input_prompt">In&nbsp;[72]:</div>
<div class="inner_cell">
    <div class="input_area">
<div class=" highlight hl-ipython3"><pre><span></span><span class="n">d1</span> <span class="o">=</span> <span class="n">discQDA</span><span class="p">(</span><span class="n">Xtrain</span><span class="p">,</span> <span class="n">means</span><span class="p">,</span> <span class="n">stds</span><span class="p">,</span> <span class="n">mu1</span><span class="p">,</span> <span class="n">cov1</span><span class="p">,</span> <span class="nb">float</span><span class="p">(</span><span class="n">nHealthy</span><span class="p">)</span><span class="o">/</span><span class="p">(</span><span class="n">nHealthy</span><span class="o">+</span><span class="n">nPark</span><span class="p">))</span>
<span class="n">d2</span> <span class="o">=</span> <span class="n">discQDA</span><span class="p">(</span><span class="n">Xtrain</span><span class="p">,</span> <span class="n">means</span><span class="p">,</span> <span class="n">stds</span><span class="p">,</span> <span class="n">mu2</span><span class="p">,</span> <span class="n">cov2</span><span class="p">,</span> <span class="nb">float</span><span class="p">(</span><span class="n">nPark</span><span class="p">)</span><span class="o">/</span><span class="p">(</span><span class="n">nHealthy</span><span class="o">+</span><span class="n">nPark</span><span class="p">))</span>
<span class="n">predictedTrain</span> <span class="o">=</span> <span class="n">np</span><span class="o">.</span><span class="n">argmax</span><span class="p">(</span><span class="n">np</span><span class="o">.</span><span class="n">hstack</span><span class="p">((</span><span class="n">d1</span><span class="p">,</span> <span class="n">d2</span><span class="p">)),</span> <span class="n">axis</span><span class="o">=</span><span class="mi">1</span><span class="p">)</span>

<span class="n">d1t</span> <span class="o">=</span> <span class="n">discQDA</span><span class="p">(</span><span class="n">Xtest</span><span class="p">,</span> <span class="n">means</span><span class="p">,</span> <span class="n">stds</span><span class="p">,</span> <span class="n">mu1</span><span class="p">,</span> <span class="n">cov1</span><span class="p">,</span> <span class="nb">float</span><span class="p">(</span><span class="n">nHealthy</span><span class="p">)</span><span class="o">/</span><span class="p">(</span><span class="n">nHealthy</span><span class="o">+</span><span class="n">nPark</span><span class="p">))</span>
<span class="n">d2t</span> <span class="o">=</span> <span class="n">discQDA</span><span class="p">(</span><span class="n">Xtest</span><span class="p">,</span> <span class="n">means</span><span class="p">,</span> <span class="n">stds</span><span class="p">,</span> <span class="n">mu2</span><span class="p">,</span> <span class="n">cov2</span><span class="p">,</span> <span class="nb">float</span><span class="p">(</span><span class="n">nPark</span><span class="p">)</span><span class="o">/</span><span class="p">(</span><span class="n">nHealthy</span><span class="o">+</span><span class="n">nPark</span><span class="p">))</span>
<span class="n">predictedTest</span> <span class="o">=</span> <span class="n">np</span><span class="o">.</span><span class="n">argmax</span><span class="p">(</span><span class="n">np</span><span class="o">.</span><span class="n">hstack</span><span class="p">((</span><span class="n">d1t</span><span class="p">,</span> <span class="n">d2t</span><span class="p">)),</span> <span class="n">axis</span><span class="o">=</span><span class="mi">1</span><span class="p">)</span>

<span class="k">def</span> <span class="nf">percentCorrect</span><span class="p">(</span><span class="n">p</span><span class="p">,</span> <span class="n">t</span><span class="p">):</span>
    <span class="k">return</span> <span class="n">np</span><span class="o">.</span><span class="n">sum</span><span class="p">(</span><span class="n">p</span><span class="o">.</span><span class="n">ravel</span><span class="p">()</span><span class="o">==</span><span class="n">t</span><span class="o">.</span><span class="n">ravel</span><span class="p">())</span> <span class="o">/</span> <span class="nb">float</span><span class="p">(</span><span class="nb">len</span><span class="p">(</span><span class="n">t</span><span class="p">))</span> <span class="o">*</span> <span class="mi">100</span>

<span class="nb">print</span><span class="p">(</span><span class="s1">&#39;Percent correct: Train&#39;</span><span class="p">,</span> <span class="n">percentCorrect</span><span class="p">(</span><span class="n">predictedTrain</span><span class="p">,</span><span class="n">Ttrain</span><span class="p">),</span> <span class="s1">&#39;Test&#39;</span><span class="p">,</span> <span class="n">percentCorrect</span><span class="p">(</span><span class="n">predictedTest</span><span class="p">,</span><span class="n">Ttest</span><span class="p">))</span>
</pre></div>

</div>
</div>
</div>

<div class="output_wrapper">
<div class="output">


<div class="output_area">
<div class="prompt"></div>

<div class="output_subarea output_stream output_stdout output_text">
<pre>Percent correct: Train 97.4358974359 Test 87.1794871795
</pre>
</div>
</div>

</div>
</div>

</div>
<div class="cell border-box-sizing text_cell rendered">
<div class="prompt input_prompt">
</div>
<div class="inner_cell">
<div class="text_cell_render border-box-sizing rendered_html">
<p>Let's write a function to do this and run it multiple times (for different divisions into training and testing sets).</p>

</div>
</div>
</div>
<div class="cell border-box-sizing code_cell rendered">
<div class="input">
<div class="prompt input_prompt">In&nbsp;[73]:</div>
<div class="inner_cell">
    <div class="input_area">
<div class=" highlight hl-ipython3"><pre><span></span><span class="k">def</span> <span class="nf">runPark</span><span class="p">(</span><span class="n">filename</span><span class="p">,</span> <span class="n">trainFraction</span><span class="p">):</span>
    <span class="n">f</span> <span class="o">=</span> <span class="nb">open</span><span class="p">(</span><span class="n">filename</span><span class="p">,</span><span class="s2">&quot;r&quot;</span><span class="p">)</span>
    <span class="n">header</span> <span class="o">=</span> <span class="n">f</span><span class="o">.</span><span class="n">readline</span><span class="p">()</span>
    <span class="n">names</span> <span class="o">=</span> <span class="n">header</span><span class="o">.</span><span class="n">strip</span><span class="p">()</span><span class="o">.</span><span class="n">split</span><span class="p">(</span><span class="s1">&#39;,&#39;</span><span class="p">)[</span><span class="mi">1</span><span class="p">:]</span>

    <span class="n">data</span> <span class="o">=</span> <span class="n">np</span><span class="o">.</span><span class="n">loadtxt</span><span class="p">(</span><span class="n">f</span> <span class="p">,</span><span class="n">delimiter</span><span class="o">=</span><span class="s1">&#39;,&#39;</span><span class="p">,</span> <span class="n">usecols</span><span class="o">=</span><span class="mi">1</span><span class="o">+</span><span class="n">np</span><span class="o">.</span><span class="n">arange</span><span class="p">(</span><span class="mi">23</span><span class="p">))</span>

    <span class="n">targetColumn</span> <span class="o">=</span> <span class="n">names</span><span class="o">.</span><span class="n">index</span><span class="p">(</span><span class="s2">&quot;status&quot;</span><span class="p">)</span>
    <span class="n">XColumns</span> <span class="o">=</span> <span class="n">np</span><span class="o">.</span><span class="n">arange</span><span class="p">(</span><span class="mi">23</span><span class="p">)</span>
    <span class="n">XColumns</span> <span class="o">=</span> <span class="n">np</span><span class="o">.</span><span class="n">delete</span><span class="p">(</span><span class="n">XColumns</span><span class="p">,</span> <span class="n">targetColumn</span><span class="p">)</span>
    <span class="n">X</span> <span class="o">=</span> <span class="n">data</span><span class="p">[:,</span> <span class="n">XColumns</span><span class="p">]</span>
    <span class="n">T</span> <span class="o">=</span> <span class="n">data</span><span class="p">[:,</span> <span class="n">targetColumn</span><span class="p">]</span><span class="o">.</span><span class="n">reshape</span><span class="p">((</span><span class="o">-</span><span class="mi">1</span><span class="p">,</span><span class="mi">1</span><span class="p">))</span> <span class="c1"># to keep 2-d matrix form</span>
    <span class="n">names</span><span class="o">.</span><span class="n">remove</span><span class="p">(</span><span class="s2">&quot;status&quot;</span><span class="p">)</span>

    <span class="n">healthyI</span><span class="p">,</span><span class="n">_</span> <span class="o">=</span> <span class="n">np</span><span class="o">.</span><span class="n">where</span><span class="p">(</span><span class="n">T</span> <span class="o">==</span> <span class="mi">0</span><span class="p">)</span>
    <span class="n">parkI</span><span class="p">,</span><span class="n">_</span> <span class="o">=</span> <span class="n">np</span><span class="o">.</span><span class="n">where</span><span class="p">(</span><span class="n">T</span> <span class="o">==</span> <span class="mi">1</span><span class="p">)</span>
    <span class="n">healthyI</span> <span class="o">=</span> <span class="n">np</span><span class="o">.</span><span class="n">random</span><span class="o">.</span><span class="n">permutation</span><span class="p">(</span><span class="n">healthyI</span><span class="p">)</span>
    <span class="n">parkI</span> <span class="o">=</span> <span class="n">np</span><span class="o">.</span><span class="n">random</span><span class="o">.</span><span class="n">permutation</span><span class="p">(</span><span class="n">parkI</span><span class="p">)</span>

    <span class="n">nHealthy</span> <span class="o">=</span> <span class="nb">round</span><span class="p">(</span><span class="n">trainFraction</span><span class="o">*</span><span class="nb">len</span><span class="p">(</span><span class="n">healthyI</span><span class="p">))</span>
    <span class="n">nPark</span> <span class="o">=</span> <span class="nb">round</span><span class="p">(</span><span class="n">trainf</span><span class="o">*</span><span class="nb">len</span><span class="p">(</span><span class="n">parkI</span><span class="p">))</span>
    <span class="n">rowsTrain</span> <span class="o">=</span> <span class="n">np</span><span class="o">.</span><span class="n">hstack</span><span class="p">((</span><span class="n">healthyI</span><span class="p">[:</span><span class="n">nHealthy</span><span class="p">],</span> <span class="n">parkI</span><span class="p">[:</span><span class="n">nPark</span><span class="p">]))</span>
    <span class="n">Xtrain</span> <span class="o">=</span> <span class="n">X</span><span class="p">[</span><span class="n">rowsTrain</span><span class="p">,</span> <span class="p">:]</span>
    <span class="n">Ttrain</span> <span class="o">=</span> <span class="n">T</span><span class="p">[</span><span class="n">rowsTrain</span><span class="p">,</span> <span class="p">:]</span>
    <span class="n">rowsTest</span> <span class="o">=</span> <span class="n">np</span><span class="o">.</span><span class="n">hstack</span><span class="p">((</span><span class="n">healthyI</span><span class="p">[</span><span class="n">nHealthy</span><span class="p">:],</span> <span class="n">parkI</span><span class="p">[</span><span class="n">nPark</span><span class="p">:]))</span>
    <span class="n">Xtest</span> <span class="o">=</span>  <span class="n">X</span><span class="p">[</span><span class="n">rowsTest</span><span class="p">,</span> <span class="p">:]</span>
    <span class="n">Ttest</span> <span class="o">=</span>  <span class="n">T</span><span class="p">[</span><span class="n">rowsTest</span><span class="p">,</span> <span class="p">:]</span>

    <span class="n">means</span><span class="p">,</span> <span class="n">stds</span> <span class="o">=</span> <span class="n">np</span><span class="o">.</span><span class="n">mean</span><span class="p">(</span><span class="n">Xtrain</span><span class="p">,</span> <span class="mi">0</span><span class="p">),</span> <span class="n">np</span><span class="o">.</span><span class="n">std</span><span class="p">(</span><span class="n">Xtrain</span><span class="p">,</span> <span class="mi">0</span><span class="p">)</span>
    <span class="n">Xtrains</span> <span class="o">=</span> <span class="p">(</span><span class="n">Xtrain</span><span class="o">-</span><span class="n">means</span><span class="p">)</span><span class="o">/</span><span class="n">stds</span>

    <span class="n">Ttr</span> <span class="o">=</span> <span class="p">(</span><span class="n">Ttrain</span><span class="o">==</span><span class="mi">0</span><span class="p">)</span><span class="o">.</span><span class="n">reshape</span><span class="p">((</span><span class="o">-</span><span class="mi">1</span><span class="p">))</span>
    <span class="n">mu1</span> <span class="o">=</span> <span class="n">np</span><span class="o">.</span><span class="n">mean</span><span class="p">(</span><span class="n">Xtrains</span><span class="p">[</span><span class="n">Ttr</span><span class="p">,</span> <span class="p">:],</span> <span class="n">axis</span><span class="o">=</span><span class="mi">0</span><span class="p">)</span>
    <span class="n">cov1</span> <span class="o">=</span> <span class="n">np</span><span class="o">.</span><span class="n">cov</span><span class="p">(</span><span class="n">Xtrains</span><span class="p">[</span><span class="n">Ttr</span><span class="p">,</span> <span class="p">:]</span><span class="o">.</span><span class="n">T</span><span class="p">)</span>
    <span class="n">Ttr</span> <span class="o">=</span> <span class="p">(</span><span class="n">Ttrain</span><span class="o">.</span><span class="n">ravel</span><span class="p">()</span><span class="o">==</span><span class="mi">1</span><span class="p">)</span><span class="o">.</span><span class="n">reshape</span><span class="p">((</span><span class="o">-</span><span class="mi">1</span><span class="p">))</span>
    <span class="n">mu2</span> <span class="o">=</span> <span class="n">np</span><span class="o">.</span><span class="n">mean</span><span class="p">(</span><span class="n">Xtrains</span><span class="p">[</span><span class="n">Ttr</span><span class="p">,</span> <span class="p">:],</span><span class="n">axis</span><span class="o">=</span><span class="mi">0</span><span class="p">)</span>
    <span class="n">cov2</span> <span class="o">=</span> <span class="n">np</span><span class="o">.</span><span class="n">cov</span><span class="p">(</span><span class="n">Xtrains</span><span class="p">[</span><span class="n">Ttr</span><span class="p">,</span> <span class="p">:]</span><span class="o">.</span><span class="n">T</span><span class="p">)</span>

    <span class="n">d1</span> <span class="o">=</span> <span class="n">discQDA</span><span class="p">(</span><span class="n">Xtrain</span><span class="p">,</span> <span class="n">means</span><span class="p">,</span> <span class="n">stds</span><span class="p">,</span> <span class="n">mu1</span><span class="p">,</span> <span class="n">cov1</span><span class="p">,</span> <span class="nb">float</span><span class="p">(</span><span class="n">nHealthy</span><span class="p">)</span><span class="o">/</span><span class="p">(</span><span class="n">nHealthy</span><span class="o">+</span><span class="n">nPark</span><span class="p">))</span>
    <span class="n">d2</span> <span class="o">=</span> <span class="n">discQDA</span><span class="p">(</span><span class="n">Xtrain</span><span class="p">,</span> <span class="n">means</span><span class="p">,</span> <span class="n">stds</span><span class="p">,</span> <span class="n">mu2</span><span class="p">,</span> <span class="n">cov2</span><span class="p">,</span> <span class="nb">float</span><span class="p">(</span><span class="n">nPark</span><span class="p">)</span><span class="o">/</span><span class="p">(</span><span class="n">nHealthy</span><span class="o">+</span><span class="n">nPark</span><span class="p">))</span>
    <span class="n">predictedTrain</span> <span class="o">=</span> <span class="n">np</span><span class="o">.</span><span class="n">argmax</span><span class="p">(</span><span class="n">np</span><span class="o">.</span><span class="n">hstack</span><span class="p">((</span><span class="n">d1</span><span class="p">,</span> <span class="n">d2</span><span class="p">)),</span> <span class="n">axis</span><span class="o">=</span><span class="mi">1</span><span class="p">)</span>

    <span class="n">d1t</span> <span class="o">=</span> <span class="n">discQDA</span><span class="p">(</span><span class="n">Xtest</span><span class="p">,</span> <span class="n">means</span><span class="p">,</span> <span class="n">stds</span><span class="p">,</span> <span class="n">mu1</span><span class="p">,</span> <span class="n">cov1</span><span class="p">,</span> <span class="nb">float</span><span class="p">(</span><span class="n">nHealthy</span><span class="p">)</span><span class="o">/</span><span class="p">(</span><span class="n">nHealthy</span><span class="o">+</span><span class="n">nPark</span><span class="p">))</span>
    <span class="n">d2t</span> <span class="o">=</span> <span class="n">discQDA</span><span class="p">(</span><span class="n">Xtest</span><span class="p">,</span> <span class="n">means</span><span class="p">,</span> <span class="n">stds</span><span class="p">,</span> <span class="n">mu2</span><span class="p">,</span> <span class="n">cov2</span><span class="p">,</span> <span class="nb">float</span><span class="p">(</span><span class="n">nPark</span><span class="p">)</span><span class="o">/</span><span class="p">(</span><span class="n">nHealthy</span><span class="o">+</span><span class="n">nPark</span><span class="p">))</span>
    <span class="n">predictedTest</span> <span class="o">=</span> <span class="n">np</span><span class="o">.</span><span class="n">argmax</span><span class="p">(</span><span class="n">np</span><span class="o">.</span><span class="n">hstack</span><span class="p">((</span><span class="n">d1t</span><span class="p">,</span> <span class="n">d2t</span><span class="p">)),</span> <span class="n">axis</span><span class="o">=</span><span class="mi">1</span><span class="p">)</span>

    <span class="nb">print</span><span class="p">(</span><span class="s1">&#39;Percent correct: Train&#39;</span><span class="p">,</span> <span class="n">percentCorrect</span><span class="p">(</span><span class="n">predictedTrain</span><span class="p">,</span> <span class="n">Ttrain</span><span class="p">),</span> <span class="s1">&#39;Test&#39;</span><span class="p">,</span> <span class="n">percentCorrect</span><span class="p">(</span><span class="n">predictedTest</span><span class="p">,</span><span class="n">Ttest</span><span class="p">))</span>

<span class="k">def</span> <span class="nf">percentCorrect</span><span class="p">(</span><span class="n">p</span><span class="p">,</span> <span class="n">t</span><span class="p">):</span>
    <span class="k">return</span> <span class="n">np</span><span class="o">.</span><span class="n">sum</span><span class="p">(</span><span class="n">p</span><span class="o">.</span><span class="n">ravel</span><span class="p">()</span><span class="o">==</span><span class="n">t</span><span class="o">.</span><span class="n">ravel</span><span class="p">())</span> <span class="o">/</span> <span class="nb">float</span><span class="p">(</span><span class="nb">len</span><span class="p">(</span><span class="n">t</span><span class="p">))</span> <span class="o">*</span> <span class="mi">100</span>
</pre></div>

</div>
</div>
</div>

</div>
<div class="cell border-box-sizing code_cell rendered">
<div class="input">
<div class="prompt input_prompt">In&nbsp;[74]:</div>
<div class="inner_cell">
    <div class="input_area">
<div class=" highlight hl-ipython3"><pre><span></span><span class="n">runPark</span><span class="p">(</span><span class="s1">&#39;parkinsons.data&#39;</span><span class="p">,</span> <span class="mf">0.8</span><span class="p">)</span>
</pre></div>

</div>
</div>
</div>

<div class="output_wrapper">
<div class="output">


<div class="output_area">
<div class="prompt"></div>

<div class="output_subarea output_stream output_stdout output_text">
<pre>Percent correct: Train 99.358974359 Test 94.8717948718
</pre>
</div>
</div>

</div>
</div>

</div>
<div class="cell border-box-sizing code_cell rendered">
<div class="input">
<div class="prompt input_prompt">In&nbsp;[75]:</div>
<div class="inner_cell">
    <div class="input_area">
<div class=" highlight hl-ipython3"><pre><span></span><span class="n">runPark</span><span class="p">(</span><span class="s1">&#39;parkinsons.data&#39;</span><span class="p">,</span><span class="mf">0.8</span><span class="p">)</span>
</pre></div>

</div>
</div>
</div>

<div class="output_wrapper">
<div class="output">


<div class="output_area">
<div class="prompt"></div>

<div class="output_subarea output_stream output_stdout output_text">
<pre>Percent correct: Train 98.0769230769 Test 87.1794871795
</pre>
</div>
</div>

</div>
</div>

</div>
<div class="cell border-box-sizing code_cell rendered">
<div class="input">
<div class="prompt input_prompt">In&nbsp;[76]:</div>
<div class="inner_cell">
    <div class="input_area">
<div class=" highlight hl-ipython3"><pre><span></span><span class="n">runPark</span><span class="p">(</span><span class="s1">&#39;parkinsons.data&#39;</span><span class="p">,</span><span class="mf">0.8</span><span class="p">)</span>
</pre></div>

</div>
</div>
</div>

<div class="output_wrapper">
<div class="output">


<div class="output_area">
<div class="prompt"></div>

<div class="output_subarea output_stream output_stdout output_text">
<pre>Percent correct: Train 97.4358974359 Test 97.4358974359
</pre>
</div>
</div>

</div>
</div>

</div>
<div class="cell border-box-sizing code_cell rendered">
<div class="input">
<div class="prompt input_prompt">In&nbsp;[77]:</div>
<div class="inner_cell">
    <div class="input_area">
<div class=" highlight hl-ipython3"><pre><span></span><span class="n">runPark</span><span class="p">(</span><span class="s1">&#39;parkinsons.data&#39;</span><span class="p">,</span><span class="mf">0.8</span><span class="p">)</span>
</pre></div>

</div>
</div>
</div>

<div class="output_wrapper">
<div class="output">


<div class="output_area">
<div class="prompt"></div>

<div class="output_subarea output_stream output_stdout output_text">
<pre>Percent correct: Train 100.0 Test 84.6153846154
</pre>
</div>
</div>

</div>
</div>

</div>
<div class="cell border-box-sizing text_cell rendered">
<div class="prompt input_prompt">
</div>
<div class="inner_cell">
<div class="text_cell_render border-box-sizing rendered_html">
<p>Review.  How would you get the values of</p>
<ul>
<li>$p(\xv|C=k)$</li>
<li>$p(\xv)$</li>
<li>$p(C=k|\xv)$</li>
<li>predicted $C$ for a given $\xv$</li>
</ul>
<p>Now, what would you change to do all of this for LDA?</p>

</div>
</div>
</div>
<div class="cell border-box-sizing text_cell rendered">
<div class="prompt input_prompt">
</div>
<div class="inner_cell">
<div class="text_cell_render border-box-sizing rendered_html">
<h2 id="LDA:-Linear-Discriminant-Analysis">LDA: Linear Discriminant Analysis<a class="anchor-link" href="#LDA:-Linear-Discriminant-Analysis">&#182;</a></h2>
</div>
</div>
</div>
<div class="cell border-box-sizing text_cell rendered">
<div class="prompt input_prompt">
</div>
<div class="inner_cell">
<div class="text_cell_render border-box-sizing rendered_html">
<p>So far we have only been applying QDA.  Let's write a discLDA function and see if this classifier, which assumes all classes have the same covariance matrix, does better than QDA on our Parkinson's data.</p>

</div>
</div>
</div>
<div class="cell border-box-sizing text_cell rendered">
<div class="prompt input_prompt">
</div>
<div class="inner_cell">
<div class="text_cell_render border-box-sizing rendered_html">
<p>Above we showed that if we assume the same covariance matrix, $\Sigmav$, for each class, where 
$$
\begin{align*}
\Sigmav = \sum_{k=1}^K \frac{N_k}{N} \Sigmav_k,
\end{align*}
$$
our discriminant function becomes
$$
      \begin{align*}
        \delta_k(\xv) = \xv^T \Sigmav^{-1} \muv_k - \frac{1}{2}\muv_k^T \Sigmav^{-1} \muv_k + \log
        P(C=k)
      \end{align*}
$$</p>

</div>
</div>
</div>
<div class="cell border-box-sizing code_cell rendered">
<div class="input">
<div class="prompt input_prompt">In&nbsp;[78]:</div>
<div class="inner_cell">
    <div class="input_area">
<div class=" highlight hl-ipython3"><pre><span></span><span class="kn">import</span> <span class="nn">pdb</span>
</pre></div>

</div>
</div>
</div>

</div>
<div class="cell border-box-sizing code_cell rendered">
<div class="input">
<div class="prompt input_prompt">In&nbsp;[79]:</div>
<div class="inner_cell">
    <div class="input_area">
<div class=" highlight hl-ipython3"><pre><span></span><span class="k">def</span> <span class="nf">discLDA</span><span class="p">(</span><span class="n">X</span><span class="p">,</span> <span class="n">means</span><span class="p">,</span><span class="n">stds</span><span class="p">,</span> <span class="n">mu</span><span class="p">,</span> <span class="n">Sigma</span><span class="p">,</span> <span class="n">prior</span><span class="p">):</span>
    <span class="n">X</span> <span class="o">=</span> <span class="p">(</span><span class="n">X</span><span class="o">-</span><span class="n">means</span><span class="p">)</span><span class="o">/</span><span class="n">stds</span>
    <span class="k">if</span> <span class="n">Sigma</span><span class="o">.</span><span class="n">size</span> <span class="o">==</span> <span class="mi">1</span><span class="p">:</span>
        <span class="n">Sigma</span> <span class="o">=</span> <span class="n">np</span><span class="o">.</span><span class="n">asarray</span><span class="p">(</span><span class="n">Sigma</span><span class="p">)</span><span class="o">.</span><span class="n">reshape</span><span class="p">((</span><span class="mi">1</span><span class="p">,</span><span class="mi">1</span><span class="p">))</span>
    <span class="n">det</span> <span class="o">=</span> <span class="n">np</span><span class="o">.</span><span class="n">linalg</span><span class="o">.</span><span class="n">det</span><span class="p">(</span><span class="n">Sigma</span><span class="p">)</span>        
    <span class="c1"># if det == 0:</span>
    <span class="c1">#    raise np.linalg.LinAlgError(&#39;discQDA(): Singular covariance matrix&#39;)</span>
    <span class="n">SigmaInv</span> <span class="o">=</span> <span class="n">np</span><span class="o">.</span><span class="n">linalg</span><span class="o">.</span><span class="n">pinv</span><span class="p">(</span><span class="n">Sigma</span><span class="p">)</span>     <span class="c1"># pinv in case Sigma is singular</span>
    <span class="n">mu</span> <span class="o">=</span> <span class="n">mu</span><span class="o">.</span><span class="n">reshape</span><span class="p">((</span><span class="o">-</span><span class="mi">1</span><span class="p">,</span><span class="mi">1</span><span class="p">))</span> <span class="c1"># make mu a column vector</span>
    <span class="c1"># pdb.set_trace()</span>
    <span class="k">return</span> <span class="n">np</span><span class="o">.</span><span class="n">dot</span><span class="p">(</span><span class="n">np</span><span class="o">.</span><span class="n">dot</span><span class="p">(</span><span class="n">X</span><span class="p">,</span><span class="n">SigmaInv</span><span class="p">),</span> <span class="n">mu</span><span class="p">)</span> <span class="o">-</span> <span class="mf">0.5</span> <span class="o">*</span> <span class="n">np</span><span class="o">.</span><span class="n">dot</span><span class="p">(</span><span class="n">np</span><span class="o">.</span><span class="n">dot</span><span class="p">(</span><span class="n">mu</span><span class="o">.</span><span class="n">T</span><span class="p">,</span><span class="n">SigmaInv</span><span class="p">),</span> <span class="n">mu</span><span class="p">)</span> <span class="o">+</span> <span class="n">np</span><span class="o">.</span><span class="n">log</span><span class="p">(</span><span class="n">prior</span><span class="p">)</span>
</pre></div>

</div>
</div>
</div>

</div>
<div class="cell border-box-sizing code_cell rendered">
<div class="input">
<div class="prompt input_prompt">In&nbsp;[80]:</div>
<div class="inner_cell">
    <div class="input_area">
<div class=" highlight hl-ipython3"><pre><span></span><span class="k">def</span> <span class="nf">runPark</span><span class="p">(</span><span class="n">filename</span><span class="p">,</span> <span class="n">trainFraction</span><span class="p">):</span>
    <span class="n">f</span> <span class="o">=</span> <span class="nb">open</span><span class="p">(</span><span class="n">filename</span><span class="p">,</span><span class="s2">&quot;r&quot;</span><span class="p">)</span>
    <span class="n">header</span> <span class="o">=</span> <span class="n">f</span><span class="o">.</span><span class="n">readline</span><span class="p">()</span>
    <span class="n">names</span> <span class="o">=</span> <span class="n">header</span><span class="o">.</span><span class="n">strip</span><span class="p">()</span><span class="o">.</span><span class="n">split</span><span class="p">(</span><span class="s1">&#39;,&#39;</span><span class="p">)[</span><span class="mi">1</span><span class="p">:]</span>

    <span class="n">data</span> <span class="o">=</span> <span class="n">np</span><span class="o">.</span><span class="n">loadtxt</span><span class="p">(</span><span class="n">f</span> <span class="p">,</span><span class="n">delimiter</span><span class="o">=</span><span class="s1">&#39;,&#39;</span><span class="p">,</span> <span class="n">usecols</span><span class="o">=</span><span class="mi">1</span><span class="o">+</span><span class="n">np</span><span class="o">.</span><span class="n">arange</span><span class="p">(</span><span class="mi">23</span><span class="p">))</span>

    <span class="n">targetColumn</span> <span class="o">=</span> <span class="n">names</span><span class="o">.</span><span class="n">index</span><span class="p">(</span><span class="s2">&quot;status&quot;</span><span class="p">)</span>
    <span class="n">XColumns</span> <span class="o">=</span> <span class="n">np</span><span class="o">.</span><span class="n">arange</span><span class="p">(</span><span class="mi">23</span><span class="p">)</span>
    <span class="n">XColumns</span> <span class="o">=</span> <span class="n">np</span><span class="o">.</span><span class="n">delete</span><span class="p">(</span><span class="n">XColumns</span><span class="p">,</span> <span class="n">targetColumn</span><span class="p">)</span>
    <span class="n">X</span> <span class="o">=</span> <span class="n">data</span><span class="p">[:,</span> <span class="n">XColumns</span><span class="p">]</span>
    <span class="n">T</span> <span class="o">=</span> <span class="n">data</span><span class="p">[:,</span> <span class="n">targetColumn</span><span class="p">]</span><span class="o">.</span><span class="n">reshape</span><span class="p">((</span><span class="o">-</span><span class="mi">1</span><span class="p">,</span><span class="mi">1</span><span class="p">))</span> <span class="c1"># to keep 2-d matrix form</span>
    <span class="n">names</span><span class="o">.</span><span class="n">remove</span><span class="p">(</span><span class="s2">&quot;status&quot;</span><span class="p">)</span>

    <span class="n">healthyI</span><span class="p">,</span><span class="n">_</span> <span class="o">=</span> <span class="n">np</span><span class="o">.</span><span class="n">where</span><span class="p">(</span><span class="n">T</span> <span class="o">==</span> <span class="mi">0</span><span class="p">)</span>
    <span class="n">parkI</span><span class="p">,</span><span class="n">_</span> <span class="o">=</span> <span class="n">np</span><span class="o">.</span><span class="n">where</span><span class="p">(</span><span class="n">T</span> <span class="o">==</span> <span class="mi">1</span><span class="p">)</span>
    <span class="n">healthyI</span> <span class="o">=</span> <span class="n">np</span><span class="o">.</span><span class="n">random</span><span class="o">.</span><span class="n">permutation</span><span class="p">(</span><span class="n">healthyI</span><span class="p">)</span>
    <span class="n">parkI</span> <span class="o">=</span> <span class="n">np</span><span class="o">.</span><span class="n">random</span><span class="o">.</span><span class="n">permutation</span><span class="p">(</span><span class="n">parkI</span><span class="p">)</span>

    <span class="n">nHealthy</span> <span class="o">=</span> <span class="nb">round</span><span class="p">(</span><span class="n">trainFraction</span><span class="o">*</span><span class="nb">len</span><span class="p">(</span><span class="n">healthyI</span><span class="p">))</span>
    <span class="n">nPark</span> <span class="o">=</span> <span class="nb">round</span><span class="p">(</span><span class="n">trainf</span><span class="o">*</span><span class="nb">len</span><span class="p">(</span><span class="n">parkI</span><span class="p">))</span>
    <span class="n">rowsTrain</span> <span class="o">=</span> <span class="n">np</span><span class="o">.</span><span class="n">hstack</span><span class="p">((</span><span class="n">healthyI</span><span class="p">[:</span><span class="n">nHealthy</span><span class="p">],</span> <span class="n">parkI</span><span class="p">[:</span><span class="n">nPark</span><span class="p">]))</span>
    <span class="n">Xtrain</span> <span class="o">=</span> <span class="n">X</span><span class="p">[</span><span class="n">rowsTrain</span><span class="p">,</span> <span class="p">:]</span>
    <span class="n">Ttrain</span> <span class="o">=</span> <span class="n">T</span><span class="p">[</span><span class="n">rowsTrain</span><span class="p">,</span> <span class="p">:]</span>
    <span class="n">rowsTest</span> <span class="o">=</span> <span class="n">np</span><span class="o">.</span><span class="n">hstack</span><span class="p">((</span><span class="n">healthyI</span><span class="p">[</span><span class="n">nHealthy</span><span class="p">:],</span> <span class="n">parkI</span><span class="p">[</span><span class="n">nPark</span><span class="p">:]))</span>
    <span class="n">Xtest</span> <span class="o">=</span>  <span class="n">X</span><span class="p">[</span><span class="n">rowsTest</span><span class="p">,</span> <span class="p">:]</span>
    <span class="n">Ttest</span> <span class="o">=</span>  <span class="n">T</span><span class="p">[</span><span class="n">rowsTest</span><span class="p">,</span> <span class="p">:]</span>

    <span class="n">means</span><span class="p">,</span><span class="n">stds</span> <span class="o">=</span> <span class="n">np</span><span class="o">.</span><span class="n">mean</span><span class="p">(</span><span class="n">Xtrain</span><span class="p">,</span><span class="mi">0</span><span class="p">),</span> <span class="n">np</span><span class="o">.</span><span class="n">std</span><span class="p">(</span><span class="n">Xtrain</span><span class="p">,</span><span class="mi">0</span><span class="p">)</span>
    <span class="n">Xtrains</span> <span class="o">=</span> <span class="p">(</span><span class="n">Xtrain</span><span class="o">-</span><span class="n">means</span><span class="p">)</span><span class="o">/</span><span class="n">stds</span>

    <span class="n">Ttr</span> <span class="o">=</span> <span class="p">(</span><span class="n">Ttrain</span><span class="o">==</span><span class="mi">0</span><span class="p">)</span><span class="o">.</span><span class="n">reshape</span><span class="p">((</span><span class="o">-</span><span class="mi">1</span><span class="p">))</span>
    <span class="n">mu1</span> <span class="o">=</span> <span class="n">np</span><span class="o">.</span><span class="n">mean</span><span class="p">(</span><span class="n">Xtrains</span><span class="p">[</span><span class="n">Ttr</span><span class="p">,</span> <span class="p">:],</span><span class="n">axis</span><span class="o">=</span><span class="mi">0</span><span class="p">)</span>
    <span class="n">cov1</span> <span class="o">=</span> <span class="n">np</span><span class="o">.</span><span class="n">cov</span><span class="p">(</span><span class="n">Xtrains</span><span class="p">[</span><span class="n">Ttr</span><span class="p">,</span> <span class="p">:]</span><span class="o">.</span><span class="n">T</span><span class="p">)</span>
    <span class="n">Ttr</span> <span class="o">=</span> <span class="p">(</span><span class="n">Ttrain</span><span class="o">.</span><span class="n">ravel</span><span class="p">()</span><span class="o">==</span><span class="mi">1</span><span class="p">)</span><span class="o">.</span><span class="n">reshape</span><span class="p">((</span><span class="o">-</span><span class="mi">1</span><span class="p">))</span>
    <span class="n">mu2</span> <span class="o">=</span> <span class="n">np</span><span class="o">.</span><span class="n">mean</span><span class="p">(</span><span class="n">Xtrains</span><span class="p">[</span><span class="n">Ttr</span><span class="p">,</span> <span class="p">:],</span><span class="n">axis</span><span class="o">=</span><span class="mi">0</span><span class="p">)</span>
    <span class="n">cov2</span> <span class="o">=</span> <span class="n">np</span><span class="o">.</span><span class="n">cov</span><span class="p">(</span><span class="n">Xtrains</span><span class="p">[</span><span class="n">Ttr</span><span class="p">,</span> <span class="p">:]</span><span class="o">.</span><span class="n">T</span><span class="p">)</span>

    <span class="n">d1</span> <span class="o">=</span> <span class="n">discQDA</span><span class="p">(</span><span class="n">Xtrain</span><span class="p">,</span> <span class="n">means</span><span class="p">,</span> <span class="n">stds</span><span class="p">,</span> <span class="n">mu1</span><span class="p">,</span> <span class="n">cov1</span><span class="p">,</span> <span class="nb">float</span><span class="p">(</span><span class="n">nHealthy</span><span class="p">)</span><span class="o">/</span><span class="p">(</span><span class="n">nHealthy</span><span class="o">+</span><span class="n">nPark</span><span class="p">))</span>
    <span class="n">d2</span> <span class="o">=</span> <span class="n">discQDA</span><span class="p">(</span><span class="n">Xtrain</span><span class="p">,</span> <span class="n">means</span><span class="p">,</span> <span class="n">stds</span><span class="p">,</span> <span class="n">mu2</span><span class="p">,</span> <span class="n">cov2</span><span class="p">,</span> <span class="nb">float</span><span class="p">(</span><span class="n">nPark</span><span class="p">)</span><span class="o">/</span><span class="p">(</span><span class="n">nHealthy</span><span class="o">+</span><span class="n">nPark</span><span class="p">))</span>
    <span class="n">predictedTrain</span> <span class="o">=</span> <span class="n">np</span><span class="o">.</span><span class="n">argmax</span><span class="p">(</span><span class="n">np</span><span class="o">.</span><span class="n">hstack</span><span class="p">((</span><span class="n">d1</span><span class="p">,</span> <span class="n">d2</span><span class="p">)),</span><span class="n">axis</span><span class="o">=</span><span class="mi">1</span><span class="p">)</span>

    <span class="n">d1t</span> <span class="o">=</span> <span class="n">discQDA</span><span class="p">(</span><span class="n">Xtest</span><span class="p">,</span> <span class="n">means</span><span class="p">,</span> <span class="n">stds</span><span class="p">,</span> <span class="n">mu1</span><span class="p">,</span> <span class="n">cov1</span><span class="p">,</span> <span class="nb">float</span><span class="p">(</span><span class="n">nHealthy</span><span class="p">)</span><span class="o">/</span><span class="p">(</span><span class="n">nHealthy</span><span class="o">+</span><span class="n">nPark</span><span class="p">))</span>
    <span class="n">d2t</span> <span class="o">=</span> <span class="n">discQDA</span><span class="p">(</span><span class="n">Xtest</span><span class="p">,</span> <span class="n">means</span><span class="p">,</span> <span class="n">stds</span><span class="p">,</span> <span class="n">mu2</span><span class="p">,</span> <span class="n">cov2</span><span class="p">,</span> <span class="nb">float</span><span class="p">(</span><span class="n">nPark</span><span class="p">)</span><span class="o">/</span><span class="p">(</span><span class="n">nHealthy</span><span class="o">+</span><span class="n">nPark</span><span class="p">))</span>
    <span class="n">predictedTest</span> <span class="o">=</span> <span class="n">np</span><span class="o">.</span><span class="n">argmax</span><span class="p">(</span><span class="n">np</span><span class="o">.</span><span class="n">hstack</span><span class="p">((</span><span class="n">d1t</span><span class="p">,</span> <span class="n">d2t</span><span class="p">)),</span> <span class="n">axis</span><span class="o">=</span><span class="mi">1</span><span class="p">)</span>

    <span class="nb">print</span><span class="p">(</span><span class="s1">&#39;QDA Percent correct: Train&#39;</span><span class="p">,</span> <span class="n">percentCorrect</span><span class="p">(</span><span class="n">predictedTrain</span><span class="p">,</span> <span class="n">Ttrain</span><span class="p">),</span> <span class="s1">&#39;Test&#39;</span><span class="p">,</span> <span class="n">percentCorrect</span><span class="p">(</span><span class="n">predictedTest</span><span class="p">,</span><span class="n">Ttest</span><span class="p">))</span>

    <span class="n">covMean</span> <span class="o">=</span> <span class="p">(</span><span class="n">cov1</span> <span class="o">*</span> <span class="n">nHealthy</span> <span class="o">+</span> <span class="n">cov2</span> <span class="o">*</span> <span class="n">nPark</span><span class="p">)</span> <span class="o">/</span> <span class="p">(</span><span class="n">nHealthy</span><span class="o">+</span><span class="n">nPark</span><span class="p">)</span>
    <span class="n">d1</span> <span class="o">=</span> <span class="n">discLDA</span><span class="p">(</span><span class="n">Xtrain</span><span class="p">,</span> <span class="n">means</span><span class="p">,</span> <span class="n">stds</span><span class="p">,</span> <span class="n">mu1</span><span class="p">,</span> <span class="n">covMean</span><span class="p">,</span> <span class="nb">float</span><span class="p">(</span><span class="n">nHealthy</span><span class="p">)</span><span class="o">/</span><span class="p">(</span><span class="n">nHealthy</span><span class="o">+</span><span class="n">nPark</span><span class="p">))</span>
    <span class="n">d2</span> <span class="o">=</span> <span class="n">discLDA</span><span class="p">(</span><span class="n">Xtrain</span><span class="p">,</span> <span class="n">means</span><span class="p">,</span> <span class="n">stds</span><span class="p">,</span> <span class="n">mu2</span><span class="p">,</span> <span class="n">covMean</span><span class="p">,</span> <span class="nb">float</span><span class="p">(</span><span class="n">nPark</span><span class="p">)</span><span class="o">/</span><span class="p">(</span><span class="n">nHealthy</span><span class="o">+</span><span class="n">nPark</span><span class="p">))</span>
    <span class="n">predictedTrain</span> <span class="o">=</span> <span class="n">np</span><span class="o">.</span><span class="n">argmax</span><span class="p">(</span><span class="n">np</span><span class="o">.</span><span class="n">hstack</span><span class="p">((</span><span class="n">d1</span><span class="p">,</span> <span class="n">d2</span><span class="p">)),</span> <span class="n">axis</span><span class="o">=</span><span class="mi">1</span><span class="p">)</span>

    <span class="n">d1t</span> <span class="o">=</span> <span class="n">discLDA</span><span class="p">(</span><span class="n">Xtest</span><span class="p">,</span> <span class="n">means</span><span class="p">,</span> <span class="n">stds</span><span class="p">,</span> <span class="n">mu1</span><span class="p">,</span> <span class="n">covMean</span><span class="p">,</span> <span class="nb">float</span><span class="p">(</span><span class="n">nHealthy</span><span class="p">)</span><span class="o">/</span><span class="p">(</span><span class="n">nHealthy</span><span class="o">+</span><span class="n">nPark</span><span class="p">))</span>
    <span class="n">d2t</span> <span class="o">=</span> <span class="n">discLDA</span><span class="p">(</span><span class="n">Xtest</span><span class="p">,</span> <span class="n">means</span><span class="p">,</span> <span class="n">stds</span><span class="p">,</span> <span class="n">mu2</span><span class="p">,</span> <span class="n">covMean</span><span class="p">,</span> <span class="nb">float</span><span class="p">(</span><span class="n">nPark</span><span class="p">)</span><span class="o">/</span><span class="p">(</span><span class="n">nHealthy</span><span class="o">+</span><span class="n">nPark</span><span class="p">))</span>
    <span class="n">predictedTest</span> <span class="o">=</span> <span class="n">np</span><span class="o">.</span><span class="n">argmax</span><span class="p">(</span><span class="n">np</span><span class="o">.</span><span class="n">hstack</span><span class="p">((</span><span class="n">d1t</span><span class="p">,</span> <span class="n">d2t</span><span class="p">)),</span> <span class="n">axis</span><span class="o">=</span><span class="mi">1</span><span class="p">)</span>
    <span class="nb">print</span><span class="p">(</span><span class="s1">&#39;LDA Percent correct: Train&#39;</span><span class="p">,</span> <span class="n">percentCorrect</span><span class="p">(</span><span class="n">predictedTrain</span><span class="p">,</span> <span class="n">Ttrain</span><span class="p">),</span> <span class="s1">&#39;Test&#39;</span><span class="p">,</span> <span class="n">percentCorrect</span><span class="p">(</span><span class="n">predictedTest</span><span class="p">,</span><span class="n">Ttest</span><span class="p">))</span>

<span class="k">def</span> <span class="nf">percentCorrect</span><span class="p">(</span><span class="n">p</span><span class="p">,</span> <span class="n">t</span><span class="p">):</span>
    <span class="k">return</span> <span class="n">np</span><span class="o">.</span><span class="n">sum</span><span class="p">(</span><span class="n">p</span><span class="o">.</span><span class="n">ravel</span><span class="p">()</span><span class="o">==</span><span class="n">t</span><span class="o">.</span><span class="n">ravel</span><span class="p">())</span> <span class="o">/</span> <span class="nb">float</span><span class="p">(</span><span class="nb">len</span><span class="p">(</span><span class="n">t</span><span class="p">))</span> <span class="o">*</span> <span class="mi">100</span>
</pre></div>

</div>
</div>
</div>

</div>
<div class="cell border-box-sizing code_cell rendered">
<div class="input">
<div class="prompt input_prompt">In&nbsp;[81]:</div>
<div class="inner_cell">
    <div class="input_area">
<div class=" highlight hl-ipython3"><pre><span></span><span class="n">runPark</span><span class="p">(</span><span class="s1">&#39;parkinsons.data&#39;</span><span class="p">,</span> <span class="mf">0.8</span><span class="p">)</span>
</pre></div>

</div>
</div>
</div>

<div class="output_wrapper">
<div class="output">


<div class="output_area">
<div class="prompt"></div>

<div class="output_subarea output_stream output_stdout output_text">
<pre>QDA Percent correct: Train 100.0 Test 92.3076923077
LDA Percent correct: Train 92.3076923077 Test 84.6153846154
</pre>
</div>
</div>

</div>
</div>

</div>
<div class="cell border-box-sizing code_cell rendered">
<div class="input">
<div class="prompt input_prompt">In&nbsp;[82]:</div>
<div class="inner_cell">
    <div class="input_area">
<div class=" highlight hl-ipython3"><pre><span></span><span class="k">for</span> <span class="n">i</span> <span class="ow">in</span> <span class="nb">range</span><span class="p">(</span><span class="mi">5</span><span class="p">):</span>
    <span class="n">runPark</span><span class="p">(</span><span class="s1">&#39;parkinsons.data&#39;</span><span class="p">,</span> <span class="mf">0.8</span><span class="p">)</span>
    <span class="nb">print</span><span class="p">()</span>
</pre></div>

</div>
</div>
</div>

<div class="output_wrapper">
<div class="output">


<div class="output_area">
<div class="prompt"></div>

<div class="output_subarea output_stream output_stdout output_text">
<pre>QDA Percent correct: Train 98.7179487179 Test 92.3076923077
LDA Percent correct: Train 89.7435897436 Test 87.1794871795

QDA Percent correct: Train 96.7948717949 Test 89.7435897436
LDA Percent correct: Train 92.9487179487 Test 84.6153846154

QDA Percent correct: Train 98.0769230769 Test 94.8717948718
LDA Percent correct: Train 91.6666666667 Test 84.6153846154

QDA Percent correct: Train 96.7948717949 Test 97.4358974359
LDA Percent correct: Train 91.0256410256 Test 87.1794871795

QDA Percent correct: Train 99.358974359 Test 84.6153846154
LDA Percent correct: Train 91.0256410256 Test 92.3076923077

</pre>
</div>
</div>

</div>
</div>

</div>
<div class="cell border-box-sizing code_cell rendered">
<div class="input">
<div class="prompt input_prompt">In&nbsp;[83]:</div>
<div class="inner_cell">
    <div class="input_area">
<div class=" highlight hl-ipython3"><pre><span></span><span class="kn">import</span> <span class="nn">sys</span>
<span class="n">sys</span><span class="o">.</span><span class="n">float_info</span><span class="o">.</span><span class="n">epsilon</span><span class="p">,</span> <span class="n">np</span><span class="o">.</span><span class="n">log</span><span class="p">(</span><span class="n">sys</span><span class="o">.</span><span class="n">float_info</span><span class="o">.</span><span class="n">epsilon</span><span class="p">)</span>
</pre></div>

</div>
</div>
</div>

<div class="output_wrapper">
<div class="output">


<div class="output_area">
<div class="prompt output_prompt">Out[83]:</div>



<div class="output_text output_subarea output_execute_result">
<pre>(2.220446049250313e-16, -36.043653389117154)</pre>
</div>

</div>

</div>
</div>

</div>
<div class="cell border-box-sizing code_cell rendered">
<div class="input">
<div class="prompt input_prompt">In&nbsp;[84]:</div>
<div class="inner_cell">
    <div class="input_area">
<div class=" highlight hl-ipython3"><pre><span></span><span class="o">%%</span><span class="k">writefile</span> qdalda.py

import numpy as np
import sys # for sys.float_info.epsilon

######################################################################
### class QDA
######################################################################

class QDA(object):
    
    def __init__(self):
        # Define all instance variables here. Not necessary
        self.means = None
        self.stds = None
        self.mu = None
        self.sigma = None
        self.sigmaInv = None
        self.prior = None
        self.determinant = None
        self.discriminantConstant = None

    def train(self, X, T):
        self.classes = np.unique(T)
        self.means, self.stds = np.mean(X,0), np.std(X,0)
        Xs = (X - self.means) / self.stds
        self.mu = []
        self.sigma = []
        self.sigmaInv = []
        self.determinant = []
        self.prior = []
        nSamples = X.shape[0]
        for k in self.classes:
            rowsThisClass = (T == k).reshape((-1))
            self.mu.append( np.mean(Xs[rowsThisClass, :], 0).reshape((-1,1)) )
            self.sigma.append( np.cov(Xs[rowsThisClass, :], rowvar=0) )
            if self.sigma[-1].size == 1:
                self.sigma[-1] = self.sigma[-1].reshape((1,1))
            det = np.linalg.det(self.sigma[-1])
            if det == 0:
                det = sys.float_info.epsilon
            self.determinant.append( det )
            self.sigmaInv.append( np.linalg.pinv(self.sigma[-1]) )    # pinv in case Sigma is singular
            self.prior.append( np.sum(rowsThisClass) / float(nSamples) )
        self._finishTrain()

    def _finishTrain(self):
        self.discriminantConstant = []
        for ki in range(len(self.classes)):
            self.discriminantConstant.append( np.log(self.prior[ki]) - 0.5*np.log(self.determinant[ki]) )

    def use(self,X):
        nSamples = X.shape[0]
        Xs = (X - self.means) / self.stds
        discriminants,probabilities = self._discriminantFunction(Xs)
        predictedClass = self.classes[np.argmax( discriminants, axis=1 )]
        predictedClass = predictedClass.reshape((-1, 1))
        return predictedClass, probabilities, discriminants

    def _discriminantFunction(self, Xs):
        nSamples = Xs.shape[0]
        discriminants = np.zeros((nSamples, len(self.classes)))
        for ki in range(len(self.classes)):
            Xc = Xs - self.mu[ki]
            discriminants[:,ki:ki+1] = self.discriminantConstant[ki] - 0.5 * \
                                       np.sum(np.dot(Xc, self.sigmaInv[ki]) * Xc, axis=1).reshape((-1,1))
        D = Xs.shape[1]
        probabilities = np.exp( discriminants - 0.5*D*np.log(2*np.pi) )
        return discriminants, probabilities
        
    def __repr__(self):
        if self.mu is None:
            return &#39;QDA not trained.&#39;
        else:
            return &#39;QDA trained for classes {}&#39;.format(self.classes)

######################################################################
### class LDA
######################################################################

class LDA(QDA):

    def _finishTrain(self):
        self.sigmaMean = np.sum(np.stack(self.sigma) * np.array(self.prior)[:,np.newaxis,np.newaxis], axis=0)
        self.sigmaMeanInv = np.linalg.pinv(self.sigmaMean)
        # print(self.sigma)
        # print(self.sigmaMean)
        self.discriminantConstant = []
        self.discriminantCoefficient = []
        for ki in range(len(self.classes)):
            sigmaMu = np.dot(self.sigmaMeanInv, self.mu[ki])
            self.discriminantConstant.append( -0.5 * np.dot(self.mu[ki].T, sigmaMu) )
            self.discriminantCoefficient.append( sigmaMu )
    
    def _discriminantFunction(self,Xs):
        nSamples = Xs.shape[0]
        discriminants = np.zeros((nSamples, len(self.classes)))
        for ki in range(len(self.classes)):
            discriminants[:,ki:ki+1] = self.discriminantConstant[ki] + \
                                       np.dot(Xs, self.discriminantCoefficient[ki])
        D = Xs.shape[1]
        probabilities = np.exp( discriminants - 0.5*D*np.log(2*np.pi) - 0.5*np.log(self.determinant[ki]) \
                               - 0.5*np.sum(np.dot(Xs,self.sigmaMeanInv) * Xs, axis=1).reshape((-1,1)))
        return discriminants, probabilities

######################################################################
### Example use
######################################################################

if __name__ == &#39;__main__&#39;:

    D = 1  # number of components in each sample
    N = 10  # number of samples in each class
    X = np.vstack((np.random.normal(0.0, 1.0, (N, D)),
                   np.random.normal(4.0, 1.5, (N, D))))
    T = np.vstack((np.array([1]*N).reshape((N, 1)),
                   np.array([2]*N).reshape((N, 1))))

    qda = QDA()
    qda.train(X,T)
    c,prob,_ = qda.use(X)
    print(&#39;QDA&#39;, np.sum(c==T)/X.shape[0] * 100, &#39;% correct&#39;)
    print(&#39;{:&gt;3s} {:&gt;4s} {:&gt;14s}&#39;.format(&#39;T&#39;,&#39;Pred&#39;,&#39;prob(C=k|x)&#39;))
    for row in np.hstack((T,c,prob)):
        print(&#39;{:3.0f} {:3.0f} {:8.4f} {:8.4f}&#39;.format(*row))

    lda = LDA()
    lda.train(X,T)
    c,prob,d = lda.use(X)
    print(&#39;LDA&#39;, np.sum(c==T)/X.shape[0] * 100, &#39;% correct&#39;)
    print(&#39;{:&gt;3s} {:&gt;4s} {:&gt;14s}&#39;.format(&#39;T&#39;,&#39;Pred&#39;,&#39;prob(C=k|x)&#39;))
    for row in np.hstack((T,c,prob)):
        print(&#39;{:3.0f} {:3.0f} {:8.4f} {:8.4f}&#39;.format(*row))
</pre></div>

</div>
</div>
</div>

<div class="output_wrapper">
<div class="output">


<div class="output_area">
<div class="prompt"></div>

<div class="output_subarea output_stream output_stdout output_text">
<pre>Overwriting qdalda.py
</pre>
</div>
</div>

</div>
</div>

</div>
<div class="cell border-box-sizing code_cell rendered">
<div class="input">
<div class="prompt input_prompt">In&nbsp;[&nbsp;]:</div>
<div class="inner_cell">
    <div class="input_area">
<div class=" highlight hl-ipython3"><pre><span></span><span class="o">%</span><span class="k">run</span> qdalda.py
</pre></div>

</div>
</div>
</div>

</div>
<div class="cell border-box-sizing code_cell rendered">
<div class="input">
<div class="prompt input_prompt">In&nbsp;[&nbsp;]:</div>
<div class="inner_cell">
    <div class="input_area">
<div class=" highlight hl-ipython3"><pre><span></span> 
</pre></div>

</div>
</div>
</div>

</div>
<div class="cell border-box-sizing code_cell rendered">
<div class="input">
<div class="prompt input_prompt">In&nbsp;[&nbsp;]:</div>
<div class="inner_cell">
    <div class="input_area">
<div class=" highlight hl-ipython3"><pre><span></span> 
</pre></div>

</div>
</div>
</div>

</div>
 


    </div>
  </div>

  </div>


  
    <footer class="footer hidden-print">
      <div class="container">
        <div class="col-md-4">
          <p>
            This website does not host notebooks, it only renders notebooks
            available on other websites.
          </p>
        </div>

        <div class="col-md-4">
          <p>
            Delivered by <a href="http://www.fastly.com/">Fastly</a>,
            Rendered by <a href="https://developer.rackspace.com/?nbviewer=awesome">Rackspace</a>
          </p>
          <p>
            nbviewer GitHub <a href="https://github.com/jupyter/nbviewer">repository</a>.
          </p>
        </div>

        <div class="col-md-4">
          
  
            
              <p>
                nbviewer version:
                <a href="https://github.com/jupyter/nbviewer/commit/4f5d1d8a2539c1c8dc92873d3a775d34f0a3d417">
                  4f5d1d8
                </a>
              </p>
            
          
  
  <p>
    nbconvert version: <a href="https://github.com/jupyter/nbconvert/releases/tag/5.1.1">
      5.1.1
    </a>
  </p>
  

          
  
  
  <p>
    Rendered
    <span class='date' data-date='Sun, 26 Mar 2017 21:42:37 UTC' title='Sun, 26 Mar 2017 21:42:37 UTC'>(Sun, 26 Mar 2017 21:42:37 UTC)</span>
  </p>
  

        </div>
      </div>
    </footer>
  

  <script src="https://unpkg.com/jupyter-js-widgets@2.0.*/dist/embed.js"></script>
  <script src="/static/components/bootstrap/js/bootstrap.min.js?v=5869c96cc8f19086aee625d670d741f9"></script>
  <script src="/static/components/headroom.js/dist/headroom.min.js?v=b0a311ea668f8e768ea375f4a7abb81c"></script>
  <script src="/static/components/headroom.js/dist/jQuery.headroom.min.js?v=f3a1bae118315d0c234afc74dc6aab71"></script>

  
  
  <script>
    $(function(){ $("#menubar").headroom({
      tolerance: 5,
      offset: 205,
      classes: {
        initial: "animated",
        pinned: "slideInDown",
        unpinned: "slideOutUp"
      }
    })});
  </script>


  
  <script>
    (function(i,s,o,g,r,a,m){i['GoogleAnalyticsObject']=r;i[r]=i[r]||function(){
      (i[r].q=i[r].q||[]).push(arguments)},i[r].l=1*new Date();a=s.createElement(o),
      m=s.getElementsByTagName(o)[0];a.async=1;a.src=g;m.parentNode.insertBefore(a,m)
    })(window,document,'script','https://www.google-analytics.com/analytics.js','ga');
    ga('create', 'UA-52617120-5', 'auto');
    ga('send', 'pageview');
  </script>
  
  <script>
    require({
        paths: {
          moment: "/static/components/moment/min/moment.min.js?v=89f87298ad94aa1e6b92f42eb66da043"
        }
      }, ["moment"], function(moment){
      var date = $("footer .date"),
        m = moment(new Date(date.data('date'))),
        update = function(){ date.text(m.fromNow()); };
      setInterval(update, 61*1000);
      update();
      var w = $(window).scroll(function(event){
        $("body").toggleClass("scrolled", w.scrollTop() > 0);
      });
    });
  </script>
  <!--NEW RELIC Stop Perf Measurement-->
  
  <!--NEW RELIC End-->
</body>
</html>