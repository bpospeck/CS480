








<!DOCTYPE html>
<html lang="en">

<head>
  <meta charset="utf-8">
  <title>Jupyter Notebook Viewer</title>
  <meta name="viewport" content="width=device-width, initial-scale=1.0">
  <meta name="description" content="">
  <meta name="author" content="">
  
  <meta name="robots" content="noindex,nofollow">
  

  <!--NEW RELIC Start Perf Measurement-->
  
  <!--NREND-->

  <!-- Le styles -->
  <script type="text/javascript">
//<![CDATA[
try{if (!window.CloudFlare) {var CloudFlare=[{verbose:0,p:0,byc:0,owlid:"cf",bag2:1,mirage2:0,oracle:0,paths:{cloudflare:"/cdn-cgi/nexp/dok3v=1613a3a185/"},atok:"2c554000d27230245b2f6639f086e6b3",petok:"a6ece86c562758db937cc45077325277aab4e207-1490566686-3600",zone:"jupyter.org",rocket:"0",apps:{"ga_key":{"ua":"UA-52617120-1","ga_bs":"2"}}}];!function(a,b){a=document.createElement("script"),b=document.getElementsByTagName("script")[0],a.async=!0,a.src="//ajax.cloudflare.com/cdn-cgi/nexp/dok3v=f2befc48d1/cloudflare.min.js",b.parentNode.insertBefore(a,b)}()}}catch(e){};
//]]>
</script>
<link href="/static/build/styles.css?v=c18d49652a516277e15114bbd447f1c1" rel="stylesheet">

  <!-- Le HTML5 shim, for IE6-8 support of HTML5 elements -->
  <!--[if lt IE 9]>
    <script src="http://html5shim.googlecode.com/svn/trunk/html5.js"></script>
  <![endif]-->

  <!-- Le fav and touch icons -->
  <link rel="shortcut icon" href="/static/ico/ipynb_icon_16x16.png">
  <link rel="apple-touch-icon-precomposed" sizes="144x144"
        href="/static/ico/apple-touch-icon-144-precomposed.png?v=5a3c9ede93e2a8b8ea9e3f8f3da1a905">
  <link rel="apple-touch-icon-precomposed" sizes="114x114"
        href="/static/ico/apple-touch-icon-114-precomposed.png?v=45d86fc8f24dc00638035e1dd7a6d898">
  <link rel="apple-touch-icon-precomposed" sizes="72x72"
        href="/static/ico/apple-touch-icon-72-precomposed.png?v=540b5eb0f3cfd25f1439d1c9bd30e15f">
  <link rel="apple-touch-icon-precomposed"
        href="/static/ico/apple-touch-icon-57-precomposed.png?v=225f0590e187e1458625654f10a28f56">
  
  

  

  
  <meta name="twitter:card" content="summary">
  <meta name="twitter:title" content="Notebook on nbviewer">
  <meta name="twitter:description" content="Check out this Jupyter notebook!">

  
  <meta name="twitter:domain" content="nbviewer.ipython.org">
  <meta name="twitter:image:src" content="http://ipython.org/ipython-doc/dev/_images/ipynb_icon_128x128.png">

  
    <link href="/static/build/notebook.css?v=d05748bef7d8f0edbc1e0133b9a41fe0" rel="stylesheet">
  

  

  
    <script src="https://cdn.mathjax.org/mathjax/latest/MathJax.js?config=TeX-AMS_HTML" type="text/javascript">
    </script>
    <script type="text/javascript">
      init_mathjax = function() {
        if (window.MathJax) {
          // MathJax loaded
          MathJax.Hub.Config({
            TeX: {
              equationNumbers: {
                autoNumber: "AMS",
                useLabelIds: true
              }
            },
            tex2jax: {
              inlineMath: [ ['$','$'], ["\\(","\\)"] ],
              displayMath: [ ['$$','$$'], ["\\[","\\]"] ],
              processEscapes: true,
              processEnvironments: true
            },
            displayAlign: 'center',
            "HTML-CSS": {
              styles: {'.MathJax_Display': {"margin": 0}},
              linebreaks: { automatic: true }
            }
          });
          MathJax.Hub.Queue(["Typeset", MathJax.Hub]);
        }
      }
      init_mathjax();
    </script>
  

<script type="text/javascript">
/* <![CDATA[ */
var _gaq = _gaq || [];
_gaq.push(['_setAccount', 'UA-52617120-1']);
_gaq.push(['_trackPageview']);

(function() {
var ga = document.createElement('script'); ga.type = 'text/javascript'; ga.async = true;
ga.src = ('https:' == document.location.protocol ? 'https://ssl' : 'http://www') + '.google-analytics.com/ga.js';
var s = document.getElementsByTagName('script')[0]; s.parentNode.insertBefore(ga, s);
})();

(function(b){(function(a){"__CF"in b&&"DJS"in b.__CF?b.__CF.DJS.push(a):"addEventListener"in b?b.addEventListener("load",a,!1):b.attachEvent("onload",a)})(function(){"FB"in b&&"Event"in FB&&"subscribe"in FB.Event&&(FB.Event.subscribe("edge.create",function(a){_gaq.push(["_trackSocial","facebook","like",a])}),FB.Event.subscribe("edge.remove",function(a){_gaq.push(["_trackSocial","facebook","unlike",a])}),FB.Event.subscribe("message.send",function(a){_gaq.push(["_trackSocial","facebook","send",a])}));"twttr"in b&&"events"in twttr&&"bind"in twttr.events&&twttr.events.bind("tweet",function(a){if(a){var b;if(a.target&&a.target.nodeName=="IFRAME")a:{if(a=a.target.src){a=a.split("#")[0].match(/[^?=&]+=([^&]*)?/g);b=0;for(var c;c=a[b];++b)if(c.indexOf("url")===0){b=unescape(c.split("=")[1]);break a}}b=void 0}_gaq.push(["_trackSocial","twitter","tweet",b])}})})})(window);
/* ]]> */
</script>
</head>

<body class="nbviewer">

  <!-- These are loaded at the top of the body so they are available to
       notebook cells when they are loaded below. -->
  <script src="/static/components/jquery/dist/jquery.min.js?v=e071abda8fe61194711cfc2ab99fe104"></script>
  <script src="/static/components/requirejs/require.js?v=6da8be361b9ee26c5e721e76c6d4afce"></script>
  <script src="/static/components/moment/min/moment.min.js?v=89f87298ad94aa1e6b92f42eb66da043"></script>

<!-- Navbar
================================================== -->
  <nav id="menubar" class="navbar navbar-default navbar-fixed-top" data-spy="affix">
    <div class="container">
      <div class="navbar-header">
        <button type="button" class="navbar-toggle collapsed" data-toggle="collapse" data-target=".navbar-collapse">
          <span class="sr-only">Toggle navigation</span>
          <i class="fa fa-bars"></i>
        </button>
        <a class="navbar-brand" href="/">
          <img src="/static/img/nav_logo.svg?v=479cefe8d932fb14a67b93911b97d70f" width="159"/>
        </a>
      </div>

      <div class="collapse navbar-collapse">
        <ul class="nav navbar-nav navbar-right">
          <li>
            <a class="active" href="http://jupyter.org">JUPYTER</a>
          </li>
          <li>
    <a href="/faq" title="FAQ" >
      
        <span>FAQ</span>
      
    </a>
  </li>

          
  
    
      
        <li>
    <a href="/format/script/url/www.cs.colostate.edu/~anderson/cs480/notebooks/19%20Convolutional%20Neural%20Networks.ipynb" title="View as Code" >
      <span class="fa fa-code fa-2x menu-icon"></span>
      <span class="menu-text">View as Code</span>
    </a>
  </li>
      
    
  
    
  

  
    <li>
    <a href="#" title="Python [default] Kernel" >
      <span class="fa fa-server fa-2x menu-icon"></span>
      <span class="menu-text">Python [default] Kernel</span>
    </a>
  </li>
  

  

  <li>
    <a href="http://www.cs.colostate.edu/%7Eanderson/cs480/notebooks/19%20Convolutional%20Neural%20Networks.ipynb" title="Download Notebook" download>
      <span class="fa fa-download fa-2x menu-icon"></span>
      <span class="menu-text">Download Notebook</span>
    </a>
  </li>

        </ul>
      </div><!-- /.navbar-collapse -->
      
      
    </div>
  </nav>

  <div class="container container-main">
    
  
  <div id="notebook">
    <div id="notebook-container">
      
<div class="cell border-box-sizing text_cell rendered">
<div class="prompt input_prompt">
</div>
<div class="inner_cell">
<div class="text_cell_render border-box-sizing rendered_html">
<h1 id="Convolutional-Neural-Networks">Convolutional Neural Networks<a class="anchor-link" href="#Convolutional-Neural-Networks">&#182;</a></h1>
</div>
</div>
</div>
<div class="cell border-box-sizing code_cell rendered">
<div class="input">
<div class="prompt input_prompt">In&nbsp;[1]:</div>
<div class="inner_cell">
    <div class="input_area">
<div class=" highlight hl-ipython3"><pre><span></span><span class="kn">import</span> <span class="nn">numpy</span> <span class="k">as</span> <span class="nn">np</span>
<span class="kn">import</span> <span class="nn">matplotlib.pyplot</span> <span class="k">as</span> <span class="nn">plt</span>
<span class="o">%</span><span class="k">matplotlib</span> inline

<span class="kn">import</span> <span class="nn">matplotlib.gridspec</span> <span class="k">as</span> <span class="nn">gridspec</span>
<span class="kn">import</span> <span class="nn">pickle</span>
<span class="kn">import</span> <span class="nn">gzip</span>
</pre></div>

</div>
</div>
</div>

</div>
<div class="cell border-box-sizing code_cell rendered">
<div class="input">
<div class="prompt input_prompt">In&nbsp;[2]:</div>
<div class="inner_cell">
    <div class="input_area">
<div class=" highlight hl-ipython3"><pre><span></span><span class="o">!</span>wget http://www.cs.colostate.edu/~anderson/cs480/notebooks/nn4.tar
<span class="o">!</span>tar xvf nn4.tar
</pre></div>

</div>
</div>
</div>

<div class="output_wrapper">
<div class="output">


<div class="output_area">
<div class="prompt"></div>

<div class="output_subarea output_stream output_stdout output_text">
<pre>--2017-03-18 22:20:16--  http://www.cs.colostate.edu/~anderson/cs480/notebooks/nn4.tar
Resolving www.cs.colostate.edu (www.cs.colostate.edu)... 129.82.45.114
Connecting to www.cs.colostate.edu (www.cs.colostate.edu)|129.82.45.114|:80... connected.
HTTP request sent, awaiting response... 200 OK
Length: 51200 (50K) [application/x-tar]
Saving to: ‘nn4.tar’

nn4.tar             100%[===================&gt;]  50.00K  --.-KB/s    in 0.09s   

2017-03-18 22:20:17 (536 KB/s) - ‘nn4.tar’ saved [51200/51200]

neuralnetworksbylayer.py
layers.py
scaledconjugategradient.py
</pre>
</div>
</div>

</div>
</div>

</div>
<div class="cell border-box-sizing code_cell rendered">
<div class="input">
<div class="prompt input_prompt">In&nbsp;[3]:</div>
<div class="inner_cell">
    <div class="input_area">
<div class=" highlight hl-ipython3"><pre><span></span><span class="kn">import</span> <span class="nn">neuralnetworksbylayer</span> <span class="k">as</span> <span class="nn">nn</span>
</pre></div>

</div>
</div>
</div>

</div>
<div class="cell border-box-sizing text_cell rendered">
<div class="prompt input_prompt">
</div>
<div class="inner_cell">
<div class="text_cell_render border-box-sizing rendered_html">
<p>Get data from <a href="http://deeplearning.net/tutorial/gettingstarted.html">DeepLearning Tutorial</a>, or using next code cell.</p>

</div>
</div>
</div>
<div class="cell border-box-sizing code_cell rendered">
<div class="input">
<div class="prompt input_prompt">In&nbsp;[5]:</div>
<div class="inner_cell">
    <div class="input_area">
<div class=" highlight hl-ipython3"><pre><span></span><span class="o">!</span>wget http://www.cs.colostate.edu/~anderson/cs480/notebooks/mnist.pkl.gz
</pre></div>

</div>
</div>
</div>

<div class="output_wrapper">
<div class="output">


<div class="output_area">
<div class="prompt"></div>

<div class="output_subarea output_stream output_stdout output_text">
<pre>--2017-03-18 22:21:32--  http://www.cs.colostate.edu/~anderson/cs480/notebooks/mnist.pkl.gz
Resolving www.cs.colostate.edu (www.cs.colostate.edu)... 129.82.45.114
Connecting to www.cs.colostate.edu (www.cs.colostate.edu)|129.82.45.114|:80... connected.
HTTP request sent, awaiting response... 200 OK
Length: 16168813 (15M) [application/x-gzip]
Saving to: ‘mnist.pkl.gz’

mnist.pkl.gz        100%[===================&gt;]  15.42M  4.44MB/s    in 4.2s    

2017-03-18 22:21:37 (3.68 MB/s) - ‘mnist.pkl.gz’ saved [16168813/16168813]

</pre>
</div>
</div>

</div>
</div>

</div>
<div class="cell border-box-sizing code_cell rendered">
<div class="input">
<div class="prompt input_prompt">In&nbsp;[6]:</div>
<div class="inner_cell">
    <div class="input_area">
<div class=" highlight hl-ipython3"><pre><span></span><span class="k">with</span> <span class="n">gzip</span><span class="o">.</span><span class="n">open</span><span class="p">(</span><span class="s1">&#39;mnist.pkl.gz&#39;</span><span class="p">,</span> <span class="s1">&#39;rb&#39;</span><span class="p">)</span> <span class="k">as</span> <span class="n">f</span><span class="p">:</span>
    <span class="n">train_set</span><span class="p">,</span> <span class="n">valid_set</span><span class="p">,</span> <span class="n">test_set</span> <span class="o">=</span> <span class="n">pickle</span><span class="o">.</span><span class="n">load</span><span class="p">(</span><span class="n">f</span><span class="p">,</span> <span class="n">encoding</span><span class="o">=</span><span class="s1">&#39;latin1&#39;</span><span class="p">)</span>

<span class="n">Xorig</span> <span class="o">=</span> <span class="n">np</span><span class="o">.</span><span class="n">vstack</span><span class="p">([</span><span class="n">a</span><span class="o">.</span><span class="n">reshape</span><span class="p">((</span><span class="mi">28</span><span class="p">,</span> <span class="mi">28</span><span class="p">,</span> <span class="mi">1</span><span class="p">))[</span><span class="n">np</span><span class="o">.</span><span class="n">newaxis</span><span class="p">,</span> <span class="p">:,</span> <span class="p">:,</span> <span class="p">:]</span> <span class="k">for</span> <span class="n">a</span> <span class="ow">in</span> <span class="n">train_set</span><span class="p">[</span><span class="mi">0</span><span class="p">]])</span>
<span class="n">Torig</span> <span class="o">=</span> <span class="n">np</span><span class="o">.</span><span class="n">array</span><span class="p">(</span><span class="n">train_set</span><span class="p">[</span><span class="mi">1</span><span class="p">])</span><span class="o">.</span><span class="n">reshape</span><span class="p">((</span><span class="o">-</span><span class="mi">1</span><span class="p">,</span><span class="mi">1</span><span class="p">))</span>

<span class="n">Xtest</span> <span class="o">=</span> <span class="n">np</span><span class="o">.</span><span class="n">vstack</span><span class="p">([</span><span class="n">a</span><span class="o">.</span><span class="n">reshape</span><span class="p">((</span><span class="mi">28</span><span class="p">,</span><span class="mi">28</span><span class="p">,</span><span class="mi">1</span><span class="p">))[</span><span class="n">np</span><span class="o">.</span><span class="n">newaxis</span><span class="p">,:,:,:]</span> <span class="k">for</span> <span class="n">a</span> <span class="ow">in</span> <span class="n">test_set</span><span class="p">[</span><span class="mi">0</span><span class="p">]])</span>
<span class="n">Ttest</span> <span class="o">=</span> <span class="n">np</span><span class="o">.</span><span class="n">array</span><span class="p">(</span><span class="n">test_set</span><span class="p">[</span><span class="mi">1</span><span class="p">])</span><span class="o">.</span><span class="n">reshape</span><span class="p">((</span><span class="o">-</span><span class="mi">1</span><span class="p">,</span><span class="mi">1</span><span class="p">))</span>

<span class="n">Xorig</span><span class="o">.</span><span class="n">shape</span><span class="p">,</span> <span class="n">Torig</span><span class="o">.</span><span class="n">shape</span><span class="p">,</span> <span class="n">Xtest</span><span class="o">.</span><span class="n">shape</span><span class="p">,</span> <span class="n">Ttest</span><span class="o">.</span><span class="n">shape</span>
</pre></div>

</div>
</div>
</div>

<div class="output_wrapper">
<div class="output">


<div class="output_area">
<div class="prompt output_prompt">Out[6]:</div>



<div class="output_text output_subarea output_execute_result">
<pre>((50000, 28, 28, 1), (50000, 1), (10000, 28, 28, 1), (10000, 1))</pre>
</div>

</div>

</div>
</div>

</div>
<div class="cell border-box-sizing code_cell rendered">
<div class="input">
<div class="prompt input_prompt">In&nbsp;[7]:</div>
<div class="inner_cell">
    <div class="input_area">
<div class=" highlight hl-ipython3"><pre><span></span><span class="n">plt</span><span class="o">.</span><span class="n">figure</span><span class="p">(</span><span class="n">figsize</span><span class="o">=</span><span class="p">(</span><span class="mi">10</span><span class="p">,</span><span class="mi">10</span><span class="p">))</span>
<span class="k">for</span> <span class="n">i</span> <span class="ow">in</span> <span class="nb">range</span><span class="p">(</span><span class="mi">100</span><span class="p">):</span>
    <span class="n">plt</span><span class="o">.</span><span class="n">subplot</span><span class="p">(</span><span class="mi">10</span><span class="p">,</span><span class="mi">10</span><span class="p">,</span><span class="n">i</span><span class="o">+</span><span class="mi">1</span><span class="p">)</span>
    <span class="n">plt</span><span class="o">.</span><span class="n">imshow</span><span class="p">(</span><span class="o">-</span><span class="n">Xorig</span><span class="p">[</span><span class="n">i</span><span class="p">,:]</span><span class="o">.</span><span class="n">reshape</span><span class="p">((</span><span class="mi">28</span><span class="p">,</span><span class="mi">28</span><span class="p">)),</span><span class="n">interpolation</span><span class="o">=</span><span class="s1">&#39;nearest&#39;</span><span class="p">,</span><span class="n">cmap</span><span class="o">=</span><span class="s1">&#39;gray&#39;</span><span class="p">)</span>
    <span class="n">plt</span><span class="o">.</span><span class="n">axis</span><span class="p">(</span><span class="s1">&#39;off&#39;</span><span class="p">)</span>
    <span class="n">plt</span><span class="o">.</span><span class="n">title</span><span class="p">(</span><span class="nb">str</span><span class="p">(</span><span class="n">Torig</span><span class="p">[</span><span class="n">i</span><span class="p">][</span><span class="mi">0</span><span class="p">]))</span>
<span class="n">plt</span><span class="o">.</span><span class="n">tight_layout</span><span class="p">()</span>
</pre></div>

</div>
</div>
</div>

<div class="output_wrapper">
<div class="output">


<div class="output_area">
<div class="prompt"></div>



<div class="output_png output_subarea ">
<img src="data:image/png;base64,iVBORw0KGgoAAAANSUhEUgAAAr8AAALICAYAAAB2PpiXAAAABHNCSVQICAgIfAhkiAAAAAlwSFlz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=
"
>
</div>

</div>

</div>
</div>

</div>
<div class="cell border-box-sizing text_cell rendered">
<div class="prompt input_prompt">
</div>
<div class="inner_cell">
<div class="text_cell_render border-box-sizing rendered_html">
<p>Try training with just 100 samples of each digit.</p>

</div>
</div>
</div>
<div class="cell border-box-sizing code_cell rendered">
<div class="input">
<div class="prompt input_prompt">In&nbsp;[6]:</div>
<div class="inner_cell">
    <div class="input_area">
<div class=" highlight hl-ipython3"><pre><span></span><span class="k">if</span> <span class="kc">False</span><span class="p">:</span>
    <span class="n">nEach</span> <span class="o">=</span> <span class="mi">100</span>
    <span class="n">useThese</span> <span class="o">=</span> <span class="p">[]</span>
    <span class="k">for</span> <span class="n">digit</span> <span class="ow">in</span> <span class="nb">range</span><span class="p">(</span><span class="mi">10</span><span class="p">):</span>
        <span class="n">useThese</span> <span class="o">+=</span> <span class="n">np</span><span class="o">.</span><span class="n">where</span><span class="p">(</span><span class="n">Torig</span> <span class="o">==</span> <span class="n">digit</span><span class="p">)[</span><span class="mi">0</span><span class="p">][:</span><span class="n">nEach</span><span class="p">]</span><span class="o">.</span><span class="n">tolist</span><span class="p">()</span>
    <span class="n">useThese</span> <span class="o">=</span> <span class="n">np</span><span class="o">.</span><span class="n">array</span><span class="p">(</span><span class="n">useThese</span><span class="p">)</span>
    <span class="n">np</span><span class="o">.</span><span class="n">random</span><span class="o">.</span><span class="n">shuffle</span><span class="p">(</span><span class="n">useThese</span><span class="p">)</span>
    <span class="n">X</span> <span class="o">=</span> <span class="n">Xorig</span><span class="p">[</span><span class="n">useThese</span><span class="p">,:]</span>
    <span class="n">T</span> <span class="o">=</span> <span class="n">Torig</span><span class="p">[</span><span class="n">useThese</span><span class="p">,:]</span>
    <span class="k">del</span> <span class="n">Xorig</span> <span class="c1"># to save memory</span>
    <span class="k">del</span> <span class="n">Yorig</span>
<span class="k">else</span><span class="p">:</span>
    <span class="n">X</span> <span class="o">=</span> <span class="n">Xorig</span>
    <span class="n">T</span> <span class="o">=</span> <span class="n">Torig</span>
<span class="n">X</span><span class="o">.</span><span class="n">shape</span><span class="p">,</span> <span class="n">T</span><span class="o">.</span><span class="n">shape</span>
</pre></div>

</div>
</div>
</div>

<div class="output_wrapper">
<div class="output">


<div class="output_area">
<div class="prompt output_prompt">Out[6]:</div>



<div class="output_text output_subarea output_execute_result">
<pre>((50000, 28, 28, 1), (50000, 1))</pre>
</div>

</div>

</div>
</div>

</div>
<div class="cell border-box-sizing text_cell rendered">
<div class="prompt input_prompt">
</div>
<div class="inner_cell">
<div class="text_cell_render border-box-sizing rendered_html">
<p>Make a neural network with the first layer being a convolutional layer of 20 units, with each unit learning a 5x5 matrix of weights to be applied to all 5x5 patches in the image with a stride of 1.  The second layer is a usual fully-connected layer.  The third layer is the usual fully-connected layer with 10 units. The final layer is a multinomial output layer.</p>

</div>
</div>
</div>
<div class="cell border-box-sizing code_cell rendered">
<div class="input">
<div class="prompt input_prompt">In&nbsp;[7]:</div>
<div class="inner_cell">
    <div class="input_area">
<div class=" highlight hl-ipython3"><pre><span></span><span class="n">imageSize</span> <span class="o">=</span> <span class="mi">28</span>
<span class="n">nChannels</span> <span class="o">=</span> <span class="mi">1</span>
 
<span class="n">nnet</span> <span class="o">=</span> <span class="n">nn</span><span class="o">.</span><span class="n">NeuralNetworkConvolutionalClassifier</span><span class="p">(</span>
    <span class="n">nUnits</span><span class="o">=</span><span class="p">[</span><span class="n">nChannels</span><span class="p">,</span> <span class="mi">20</span><span class="p">,</span> <span class="mi">10</span><span class="p">,</span> <span class="mi">10</span><span class="p">,</span> <span class="nb">len</span><span class="p">(</span><span class="n">np</span><span class="o">.</span><span class="n">unique</span><span class="p">(</span><span class="n">T</span><span class="p">))],</span>
    <span class="n">inputSize</span><span class="o">=</span><span class="p">[</span><span class="n">imageSize</span><span class="p">,</span> <span class="n">imageSize</span><span class="p">],</span>
    <span class="n">windowSizes</span><span class="o">=</span><span class="p">[[</span><span class="mi">5</span><span class="p">,</span> <span class="mi">5</span><span class="p">],</span> <span class="p">[</span><span class="mi">10</span><span class="p">,</span> <span class="mi">10</span><span class="p">]],</span>
    <span class="n">windowStrides</span><span class="o">=</span><span class="p">[[</span><span class="mi">1</span><span class="p">,</span> <span class="mi">1</span><span class="p">],</span> <span class="p">[</span><span class="mi">2</span><span class="p">,</span> <span class="mi">2</span><span class="p">]])</span>
</pre></div>

</div>
</div>
</div>

</div>
<div class="cell border-box-sizing text_cell rendered">
<div class="prompt input_prompt">
</div>
<div class="inner_cell">
<div class="text_cell_render border-box-sizing rendered_html">
<p>To avoid memory errors, train in minibatches.</p>

</div>
</div>
</div>
<div class="cell border-box-sizing text_cell rendered">
<div class="prompt input_prompt">
</div>
<div class="inner_cell">
<div class="text_cell_render border-box-sizing rendered_html">
<p>Applying nnet.use to large matrix X or Xtest causes memory error.  So, we will use the following function to compute the output of the nnet.use function with minibatches.</p>

</div>
</div>
</div>
<div class="cell border-box-sizing code_cell rendered">
<div class="input">
<div class="prompt input_prompt">In&nbsp;[8]:</div>
<div class="inner_cell">
    <div class="input_area">
<div class=" highlight hl-ipython3"><pre><span></span><span class="k">def</span> <span class="nf">useMinibatch</span><span class="p">(</span><span class="n">nnet</span><span class="p">,</span><span class="n">X</span><span class="p">,</span><span class="n">minibatchSize</span><span class="p">):</span>
    <span class="n">output</span> <span class="o">=</span> <span class="n">np</span><span class="o">.</span><span class="n">zeros</span><span class="p">((</span><span class="n">X</span><span class="o">.</span><span class="n">shape</span><span class="p">[</span><span class="mi">0</span><span class="p">],</span><span class="mi">1</span><span class="p">))</span>
    <span class="k">for</span> <span class="n">first</span> <span class="ow">in</span> <span class="nb">range</span><span class="p">(</span><span class="mi">0</span><span class="p">,</span><span class="n">X</span><span class="o">.</span><span class="n">shape</span><span class="p">[</span><span class="mi">0</span><span class="p">],</span> <span class="n">minibatchSize</span><span class="p">):</span>
        <span class="n">justThese</span> <span class="o">=</span> <span class="nb">slice</span><span class="p">(</span><span class="n">first</span><span class="p">,</span> <span class="n">first</span><span class="o">+</span><span class="n">minibatchSize</span><span class="p">)</span>
        <span class="n">output</span><span class="p">[</span><span class="n">justThese</span><span class="p">,:]</span> <span class="o">=</span> <span class="n">nnet</span><span class="o">.</span><span class="n">use</span><span class="p">(</span><span class="n">X</span><span class="p">[</span><span class="n">justThese</span><span class="p">,:])</span>
    <span class="k">return</span> <span class="n">output</span>
</pre></div>

</div>
</div>
</div>

</div>
<div class="cell border-box-sizing code_cell rendered">
<div class="input">
<div class="prompt input_prompt">In&nbsp;[9]:</div>
<div class="inner_cell">
    <div class="input_area">
<div class=" highlight hl-ipython3"><pre><span></span><span class="k">def</span> <span class="nf">trainMiniBatches</span><span class="p">(</span><span class="n">nReps</span><span class="p">):</span>
    <span class="n">likelihoods</span> <span class="o">=</span> <span class="p">[]</span>
    <span class="n">minibatchIncrement</span> <span class="o">=</span> <span class="mi">1000</span>
    <span class="k">for</span> <span class="n">reps</span> <span class="ow">in</span> <span class="nb">range</span><span class="p">(</span><span class="n">nReps</span><span class="p">):</span>
        <span class="n">roworder</span> <span class="o">=</span> <span class="n">np</span><span class="o">.</span><span class="n">arange</span><span class="p">(</span><span class="n">X</span><span class="o">.</span><span class="n">shape</span><span class="p">[</span><span class="mi">0</span><span class="p">])</span>
        <span class="n">np</span><span class="o">.</span><span class="n">random</span><span class="o">.</span><span class="n">shuffle</span><span class="p">(</span><span class="n">roworder</span><span class="p">)</span>
        <span class="k">for</span> <span class="n">first</span> <span class="ow">in</span> <span class="nb">range</span><span class="p">(</span><span class="mi">0</span><span class="p">,</span> <span class="n">X</span><span class="o">.</span><span class="n">shape</span><span class="p">[</span><span class="mi">0</span><span class="p">],</span> <span class="n">minibatchIncrement</span><span class="p">):</span>
            
            <span class="n">useThese</span> <span class="o">=</span> <span class="nb">slice</span><span class="p">(</span><span class="n">first</span><span class="p">,</span> <span class="n">first</span><span class="o">+</span><span class="n">minibatchIncrement</span><span class="p">)</span>
            
            <span class="n">nnet</span><span class="o">.</span><span class="n">train</span><span class="p">(</span><span class="n">X</span><span class="p">[</span><span class="n">roworder</span><span class="p">[</span><span class="n">useThese</span><span class="p">],</span> <span class="p">:],</span> <span class="n">T</span><span class="p">[</span><span class="n">roworder</span><span class="p">[</span><span class="n">useThese</span><span class="p">],</span> <span class="p">:],</span><span class="n">nIterations</span><span class="o">=</span><span class="mi">10</span><span class="p">,</span> <span class="n">verbose</span><span class="o">=</span><span class="kc">False</span><span class="p">)</span>
            
            <span class="n">likelihoods</span> <span class="o">+=</span> <span class="n">nnet</span><span class="o">.</span><span class="n">getErrorTrace</span><span class="p">()</span>
            <span class="nb">print</span><span class="p">(</span><span class="s1">&#39;Minibatch from&#39;</span><span class="p">,</span><span class="n">first</span><span class="p">,</span><span class="s1">&#39;to&#39;</span><span class="p">,</span><span class="n">first</span><span class="o">+</span><span class="n">minibatchIncrement</span><span class="p">,</span><span class="s1">&#39;Final likel&#39;</span><span class="p">,</span><span class="n">likelihoods</span><span class="p">[</span><span class="o">-</span><span class="mi">1</span><span class="p">])</span>
        <span class="n">p</span> <span class="o">=</span> <span class="n">useMinibatch</span><span class="p">(</span><span class="n">nnet</span><span class="p">,</span><span class="n">X</span><span class="p">,</span><span class="n">minibatchIncrement</span><span class="p">)</span>
        <span class="n">nTest</span> <span class="o">=</span> <span class="n">Xtest</span><span class="o">.</span><span class="n">shape</span><span class="p">[</span><span class="mi">0</span><span class="p">]</span> <span class="c1"># 100</span>
        <span class="n">ptest</span> <span class="o">=</span> <span class="n">useMinibatch</span><span class="p">(</span><span class="n">nnet</span><span class="p">,</span><span class="n">Xtest</span><span class="p">,</span><span class="n">minibatchIncrement</span><span class="p">)</span>
        <span class="nb">print</span><span class="p">(</span><span class="s2">&quot;Rep </span><span class="si">{}</span><span class="s2">. Fraction correct: Training </span><span class="si">{}</span><span class="s2"> Testing </span><span class="si">{}</span><span class="s2">&quot;</span><span class="o">.</span><span class="n">format</span><span class="p">(</span><span class="n">reps</span><span class="p">,</span><span class="n">np</span><span class="o">.</span><span class="n">sum</span><span class="p">(</span><span class="n">p</span><span class="o">==</span><span class="n">T</span><span class="p">)</span><span class="o">/</span><span class="nb">len</span><span class="p">(</span><span class="n">T</span><span class="p">),</span>
                                                                <span class="n">np</span><span class="o">.</span><span class="n">sum</span><span class="p">(</span><span class="n">ptest</span><span class="o">==</span><span class="n">Ttest</span><span class="p">[:</span><span class="n">nTest</span><span class="p">,:])</span><span class="o">/</span><span class="n">nTest</span><span class="p">))</span>
    <span class="k">return</span> <span class="n">likelihoods</span>
</pre></div>

</div>
</div>
</div>

</div>
<div class="cell border-box-sizing code_cell rendered">
<div class="input">
<div class="prompt input_prompt">In&nbsp;[10]:</div>
<div class="inner_cell">
    <div class="input_area">
<div class=" highlight hl-ipython3"><pre><span></span><span class="kn">import</span> <span class="nn">time</span>
</pre></div>

</div>
</div>
</div>

</div>
<div class="cell border-box-sizing code_cell rendered">
<div class="input">
<div class="prompt input_prompt">In&nbsp;[11]:</div>
<div class="inner_cell">
    <div class="input_area">
<div class=" highlight hl-ipython3"><pre><span></span><span class="n">starttime</span> <span class="o">=</span> <span class="n">time</span><span class="o">.</span><span class="n">time</span><span class="p">()</span>
<span class="n">likelihoods</span> <span class="o">=</span> <span class="n">trainMiniBatches</span><span class="p">(</span><span class="mi">2</span><span class="p">)</span>
<span class="nb">print</span><span class="p">(</span><span class="n">time</span><span class="o">.</span><span class="n">time</span><span class="p">()</span> <span class="o">-</span> <span class="n">starttime</span><span class="p">,</span><span class="s1">&#39;seconds&#39;</span><span class="p">)</span>
</pre></div>

</div>
</div>
</div>

<div class="output_wrapper">
<div class="output">


<div class="output_area">
<div class="prompt"></div>

<div class="output_subarea output_stream output_stdout output_text">
<pre>Minibatch from 0 to 1000 Final likel 0.8416947732520564
</pre>
</div>
</div>

<div class="output_area">
<div class="prompt"></div>

<div class="output_subarea output_stream output_stderr output_text">
<pre>/s/parsons/e/fac/anderson/public_html/cs480/notebooks/neuralnetworksbylayer.py:220: RuntimeWarning: divide by zero encountered in log
  return -np.mean(T * np.log(Y))
/s/parsons/e/fac/anderson/public_html/cs480/notebooks/neuralnetworksbylayer.py:220: RuntimeWarning: invalid value encountered in multiply
  return -np.mean(T * np.log(Y))
</pre>
</div>
</div>

<div class="output_area">
<div class="prompt"></div>

<div class="output_subarea output_stream output_stdout output_text">
<pre>Minibatch from 1000 to 2000 Final likel 0.8507108620016313
Minibatch from 2000 to 3000 Final likel 0.8565747383552924
Minibatch from 3000 to 4000 Final likel 0.9421281121146317
Minibatch from 4000 to 5000 Final likel 0.9540395668168241
Minibatch from 5000 to 6000 Final likel 0.9547708665532074
Minibatch from 6000 to 7000 Final likel 0.9604684098045712
Minibatch from 7000 to 8000 Final likel 0.9700244941879417
Minibatch from 8000 to 9000 Final likel 0.9768087060675815
Minibatch from 9000 to 10000 Final likel 0.9796184227091566
Minibatch from 10000 to 11000 Final likel 0.9853186456754589
Minibatch from 11000 to 12000 Final likel 0.9850839786502644
Minibatch from 12000 to 13000 Final likel 0.9872350829376418
Minibatch from 13000 to 14000 Final likel 0.9871074508116964
Minibatch from 14000 to 15000 Final likel 0.9872404022308419
Minibatch from 15000 to 16000 Final likel 0.9893633090456944
Minibatch from 16000 to 17000 Final likel 0.9906762190760617
Minibatch from 17000 to 18000 Final likel 0.991077075308245
Minibatch from 18000 to 19000 Final likel 0.9916222929380009
Minibatch from 19000 to 20000 Final likel 0.991732869378863
Minibatch from 20000 to 21000 Final likel 0.9913418583027879
Minibatch from 21000 to 22000 Final likel 0.9921629672501806
Minibatch from 22000 to 23000 Final likel 0.9927294309358827
Minibatch from 23000 to 24000 Final likel 0.9931690894797043
Minibatch from 24000 to 25000 Final likel 0.9934463378269356
Minibatch from 25000 to 26000 Final likel 0.992913496016765
Minibatch from 26000 to 27000 Final likel 0.9936968428056593
Minibatch from 27000 to 28000 Final likel 0.9936725966847899
Minibatch from 28000 to 29000 Final likel 0.9933129261965289
Minibatch from 29000 to 30000 Final likel 0.9950672035865225
Minibatch from 30000 to 31000 Final likel 0.9948151425857842
Minibatch from 31000 to 32000 Final likel 0.9952929088778055
Minibatch from 32000 to 33000 Final likel 0.9946586408738358
Minibatch from 33000 to 34000 Final likel 0.9936318658237823
Minibatch from 34000 to 35000 Final likel 0.9958001278672841
Minibatch from 35000 to 36000 Final likel 0.9959217416158075
Minibatch from 36000 to 37000 Final likel 0.9943839950782642
Minibatch from 37000 to 38000 Final likel 0.9935065157181376
Minibatch from 38000 to 39000 Final likel 0.9950912420449507
Minibatch from 39000 to 40000 Final likel 0.9957969458309656
Minibatch from 40000 to 41000 Final likel 0.9945374150302837
Minibatch from 41000 to 42000 Final likel 0.994223661271685
Minibatch from 42000 to 43000 Final likel 0.9939694948325518
Minibatch from 43000 to 44000 Final likel 0.9970770087583467
Minibatch from 44000 to 45000 Final likel 0.995746200781408
Minibatch from 45000 to 46000 Final likel 0.996441058488207
Minibatch from 46000 to 47000 Final likel 0.9954458218921433
Minibatch from 47000 to 48000 Final likel 0.9967121934977297
Minibatch from 48000 to 49000 Final likel 0.9964606421294361
Minibatch from 49000 to 50000 Final likel 0.9949828348850064
Rep 0. Fraction correct: Training 0.9662 Testing 0.966
Minibatch from 0 to 1000 Final likel 0.9971274781276717
Minibatch from 1000 to 2000 Final likel 0.9967006086503568
Minibatch from 2000 to 3000 Final likel 0.9960843325431364
Minibatch from 3000 to 4000 Final likel 0.9931597545759729
Minibatch from 4000 to 5000 Final likel 0.9959114470553577
Minibatch from 5000 to 6000 Final likel 0.9979698844616349
Minibatch from 6000 to 7000 Final likel 0.9964018961069507
Minibatch from 7000 to 8000 Final likel 0.9904149104396709
Minibatch from 8000 to 9000 Final likel 0.9969058711312211
Minibatch from 9000 to 10000 Final likel 0.9967018150129416
Minibatch from 10000 to 11000 Final likel 0.9959011530691981
Minibatch from 11000 to 12000 Final likel 0.9980080400907995
Minibatch from 12000 to 13000 Final likel 0.9974135667300946
Minibatch from 13000 to 14000 Final likel 0.9962983005630253
Minibatch from 14000 to 15000 Final likel 0.9965753998427134
Minibatch from 15000 to 16000 Final likel 0.9957441127127117
Minibatch from 16000 to 17000 Final likel 0.9975296392700824
Minibatch from 17000 to 18000 Final likel 0.9961790081177407
Minibatch from 18000 to 19000 Final likel 0.9971184317099453
Minibatch from 19000 to 20000 Final likel 0.9970853594349907
Minibatch from 20000 to 21000 Final likel 0.9975071458180071
Minibatch from 21000 to 22000 Final likel 0.9976222464392086
Minibatch from 22000 to 23000 Final likel 0.9962554609763458
Minibatch from 23000 to 24000 Final likel 0.9975254654042777
Minibatch from 24000 to 25000 Final likel 0.9966992160330901
Minibatch from 25000 to 26000 Final likel 0.9967272834526834
Minibatch from 26000 to 27000 Final likel 0.9979676100395478
Minibatch from 27000 to 28000 Final likel 0.9970134911061611
Minibatch from 28000 to 29000 Final likel 0.9973678670362347
Minibatch from 29000 to 30000 Final likel 0.9976390687031474
Minibatch from 30000 to 31000 Final likel 0.9975448428901766
Minibatch from 31000 to 32000 Final likel 0.9901753922727938
Minibatch from 32000 to 33000 Final likel 0.9975667935825205
Minibatch from 33000 to 34000 Final likel 0.9963338020554188
Minibatch from 34000 to 35000 Final likel 0.9982208950785648
Minibatch from 35000 to 36000 Final likel 0.9981626192348175
Minibatch from 36000 to 37000 Final likel 0.997813567452856
Minibatch from 37000 to 38000 Final likel 0.9975686919444908
Minibatch from 38000 to 39000 Final likel 0.9954377015051159
Minibatch from 39000 to 40000 Final likel 0.9970534601070516
Minibatch from 40000 to 41000 Final likel 0.9973123199479875
Minibatch from 41000 to 42000 Final likel 0.9963367482476493
Minibatch from 42000 to 43000 Final likel 0.9980556907997113
Minibatch from 43000 to 44000 Final likel 0.9967408866958216
Minibatch from 44000 to 45000 Final likel 0.9974357914637673
Minibatch from 45000 to 46000 Final likel 0.9978546206496094
Minibatch from 46000 to 47000 Final likel 0.9980648598447823
Minibatch from 47000 to 48000 Final likel 0.998493890849573
Minibatch from 48000 to 49000 Final likel 0.9981704250226711
Minibatch from 49000 to 50000 Final likel 0.9983677632146287
Rep 1. Fraction correct: Training 0.97918 Testing 0.9745
23081.477409124374 seconds
</pre>
</div>
</div>

</div>
</div>

</div>
<div class="cell border-box-sizing code_cell rendered">
<div class="input">
<div class="prompt input_prompt">In&nbsp;[12]:</div>
<div class="inner_cell">
    <div class="input_area">
<div class=" highlight hl-ipython3"><pre><span></span><span class="n">ptest</span> <span class="o">=</span> <span class="n">useMinibatch</span><span class="p">(</span><span class="n">nnet</span><span class="p">,</span><span class="n">Xtest</span><span class="p">,</span><span class="mi">200</span><span class="p">)</span>
<span class="n">nWrong</span> <span class="o">=</span> <span class="n">np</span><span class="o">.</span><span class="n">sum</span><span class="p">(</span><span class="n">ptest</span> <span class="o">!=</span> <span class="n">Ttest</span><span class="p">)</span>
<span class="nb">print</span><span class="p">(</span><span class="n">nWrong</span><span class="p">,</span> <span class="n">nWrong</span><span class="o">/</span><span class="nb">len</span><span class="p">(</span><span class="n">Ttest</span><span class="p">))</span>
</pre></div>

</div>
</div>
</div>

<div class="output_wrapper">
<div class="output">


<div class="output_area">
<div class="prompt"></div>

<div class="output_subarea output_stream output_stdout output_text">
<pre>255 0.0255
</pre>
</div>
</div>

</div>
</div>

</div>
<div class="cell border-box-sizing code_cell rendered">
<div class="input">
<div class="prompt input_prompt">In&nbsp;[13]:</div>
<div class="inner_cell">
    <div class="input_area">
<div class=" highlight hl-ipython3"><pre><span></span><span class="n">plt</span><span class="o">.</span><span class="n">figure</span><span class="p">(</span><span class="n">figsize</span><span class="o">=</span><span class="p">(</span><span class="mi">12</span><span class="p">,</span><span class="mi">15</span><span class="p">))</span>
<span class="n">gs</span> <span class="o">=</span> <span class="n">gridspec</span><span class="o">.</span><span class="n">GridSpec</span><span class="p">(</span><span class="mi">14</span><span class="p">,</span> <span class="mi">5</span><span class="p">)</span>
<span class="n">plt</span><span class="o">.</span><span class="n">subplot</span><span class="p">(</span><span class="n">gs</span><span class="p">[</span><span class="mi">0</span><span class="p">,</span> <span class="mi">0</span><span class="p">:</span><span class="mi">5</span><span class="p">])</span>
<span class="n">plt</span><span class="o">.</span><span class="n">plot</span><span class="p">(</span><span class="n">nnet</span><span class="o">.</span><span class="n">getErrorTrace</span><span class="p">())</span>

<span class="n">ndigits</span> <span class="o">=</span> <span class="mi">25</span>
<span class="k">for</span> <span class="n">i</span> <span class="ow">in</span> <span class="nb">range</span><span class="p">(</span><span class="n">ndigits</span><span class="p">):</span>
    <span class="n">plt</span><span class="o">.</span><span class="n">subplot</span><span class="p">(</span><span class="n">gs</span><span class="p">[</span><span class="mi">1</span><span class="o">+</span><span class="nb">int</span><span class="p">(</span><span class="n">i</span><span class="o">/</span><span class="mi">5</span><span class="p">),</span> <span class="n">i</span> <span class="o">%</span> <span class="mi">5</span><span class="p">])</span>
    <span class="n">plt</span><span class="o">.</span><span class="n">imshow</span><span class="p">(</span><span class="o">-</span><span class="n">Xtest</span><span class="p">[</span><span class="n">i</span><span class="p">,</span> <span class="p">:]</span><span class="o">.</span><span class="n">reshape</span><span class="p">((</span><span class="n">imageSize</span><span class="p">,</span> <span class="n">imageSize</span><span class="p">)),</span> <span class="n">interpolation</span><span class="o">=</span><span class="s1">&#39;nearest&#39;</span><span class="p">,</span> <span class="n">cmap</span><span class="o">=</span><span class="n">plt</span><span class="o">.</span><span class="n">cm</span><span class="o">.</span><span class="n">gray</span><span class="p">)</span>
    <span class="n">plt</span><span class="o">.</span><span class="n">title</span><span class="p">(</span><span class="s1">&#39;P=&#39;</span> <span class="o">+</span> <span class="nb">str</span><span class="p">(</span><span class="n">ptest</span><span class="p">[</span><span class="n">i</span><span class="p">][</span><span class="mi">0</span><span class="p">]))</span>
    <span class="n">plt</span><span class="o">.</span><span class="n">axis</span><span class="p">(</span><span class="s1">&#39;off&#39;</span><span class="p">)</span>

    <span class="n">cvlay</span> <span class="o">=</span> <span class="n">nnet</span><span class="o">.</span><span class="n">layers</span><span class="p">[</span><span class="mi">0</span><span class="p">]</span>
    <span class="n">cw</span> <span class="o">=</span> <span class="n">cvlay</span><span class="o">.</span><span class="n">W</span><span class="p">[</span><span class="mi">1</span><span class="p">:,:]</span>
    <span class="n">nh</span> <span class="o">=</span> <span class="nb">min</span><span class="p">(</span><span class="n">cvlay</span><span class="o">.</span><span class="n">nUnits</span><span class="p">,</span><span class="mi">20</span><span class="p">)</span>
    <span class="k">for</span> <span class="n">i</span> <span class="ow">in</span> <span class="nb">range</span><span class="p">(</span><span class="n">nh</span><span class="p">):</span>
        <span class="n">plt</span><span class="o">.</span><span class="n">subplot</span><span class="p">(</span><span class="n">gs</span><span class="p">[</span><span class="mi">6</span><span class="o">+</span><span class="nb">int</span><span class="p">(</span><span class="n">i</span><span class="o">/</span><span class="mi">5</span><span class="p">),</span><span class="n">i</span><span class="o">%</span><span class="k">5</span>])
        <span class="n">plt</span><span class="o">.</span><span class="n">imshow</span><span class="p">(</span><span class="n">cw</span><span class="p">[:,</span><span class="n">i</span><span class="p">]</span><span class="o">.</span><span class="n">reshape</span><span class="p">(</span><span class="n">cvlay</span><span class="o">.</span><span class="n">windowSizes</span><span class="p">),</span> <span class="n">interpolation</span><span class="o">=</span><span class="s1">&#39;nearest&#39;</span><span class="p">,</span> <span class="n">cmap</span><span class="o">=</span><span class="n">plt</span><span class="o">.</span><span class="n">cm</span><span class="o">.</span><span class="n">gray</span><span class="p">)</span>
        <span class="n">plt</span><span class="o">.</span><span class="n">axis</span><span class="p">(</span><span class="s1">&#39;off&#39;</span><span class="p">)</span>
    <span class="n">cy</span> <span class="o">=</span> <span class="n">cvlay</span><span class="o">.</span><span class="n">Y</span><span class="o">.</span><span class="n">reshape</span><span class="p">((</span><span class="o">-</span><span class="mi">1</span><span class="p">,</span><span class="mi">24</span><span class="p">,</span><span class="mi">24</span><span class="p">,</span><span class="mi">20</span><span class="p">))</span>
    <span class="k">for</span> <span class="n">i</span> <span class="ow">in</span> <span class="nb">range</span><span class="p">(</span><span class="n">nh</span><span class="p">):</span>
        <span class="n">plt</span><span class="o">.</span><span class="n">subplot</span><span class="p">(</span><span class="n">gs</span><span class="p">[</span><span class="mi">10</span><span class="o">+</span><span class="nb">int</span><span class="p">(</span><span class="n">i</span><span class="o">/</span><span class="mi">5</span><span class="p">),</span><span class="n">i</span><span class="o">%</span><span class="k">5</span>])
        <span class="n">plt</span><span class="o">.</span><span class="n">imshow</span><span class="p">(</span><span class="n">cy</span><span class="p">[</span><span class="mi">0</span><span class="p">,:,:,</span><span class="n">i</span><span class="p">],</span> <span class="n">interpolation</span><span class="o">=</span><span class="s1">&#39;nearest&#39;</span><span class="p">,</span> <span class="n">cmap</span><span class="o">=</span><span class="n">plt</span><span class="o">.</span><span class="n">cm</span><span class="o">.</span><span class="n">gray</span><span class="p">)</span>
        <span class="n">plt</span><span class="o">.</span><span class="n">axis</span><span class="p">(</span><span class="s1">&#39;off&#39;</span><span class="p">)</span>
<span class="n">plt</span><span class="o">.</span><span class="n">tight_layout</span><span class="p">()</span>
</pre></div>

</div>
</div>
</div>

<div class="output_wrapper">
<div class="output">


<div class="output_area">
<div class="prompt"></div>



<div class="output_png output_subarea ">
<img src="data:image/png;base64,iVBORw0KGgoAAAANSUhEUgAAA1gAAAQyCAYAAAC1V14aAAAABHNCSVQICAgIfAhkiAAAAAlwSFlz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"
>
</div>

</div>

</div>
</div>

</div>
<div class="cell border-box-sizing code_cell rendered">
<div class="input">
<div class="prompt input_prompt">In&nbsp;[14]:</div>
<div class="inner_cell">
    <div class="input_area">
<div class=" highlight hl-ipython3"><pre><span></span><span class="k">def</span> <span class="nf">drawFirstLayerOutputs</span><span class="p">(</span><span class="n">nnet</span><span class="p">,</span><span class="n">X</span><span class="p">):</span>
    <span class="n">nnet</span><span class="o">.</span><span class="n">use</span><span class="p">(</span><span class="n">X</span><span class="p">)</span>
    <span class="n">nSamples</span> <span class="o">=</span> <span class="n">X</span><span class="o">.</span><span class="n">shape</span><span class="p">[</span><span class="mi">0</span><span class="p">]</span>
    <span class="n">imageSize</span> <span class="o">=</span> <span class="nb">int</span><span class="p">(</span><span class="n">np</span><span class="o">.</span><span class="n">sqrt</span><span class="p">(</span><span class="n">X</span><span class="o">.</span><span class="n">shape</span><span class="p">[</span><span class="mi">1</span><span class="p">]))</span>
    <span class="n">cvlay</span> <span class="o">=</span> <span class="n">nnet</span><span class="o">.</span><span class="n">layers</span><span class="p">[</span><span class="mi">0</span><span class="p">]</span>
    <span class="n">nUnits</span> <span class="o">=</span> <span class="n">cvlay</span><span class="o">.</span><span class="n">nUnits</span>
    <span class="n">wrow</span><span class="p">,</span><span class="n">wcol</span> <span class="o">=</span> <span class="n">cvlay</span><span class="o">.</span><span class="n">nWindows</span>
    <span class="n">y</span> <span class="o">=</span> <span class="n">cvlay</span><span class="o">.</span><span class="n">Y</span><span class="o">.</span><span class="n">reshape</span><span class="p">((</span><span class="o">-</span><span class="mi">1</span><span class="p">,</span><span class="n">wrow</span><span class="p">,</span><span class="n">wcol</span><span class="p">,</span><span class="n">nUnits</span><span class="p">))</span>
    <span class="n">plt</span><span class="o">.</span><span class="n">figure</span><span class="p">(</span><span class="n">figsize</span><span class="o">=</span><span class="p">(</span><span class="mi">12</span><span class="p">,</span><span class="mi">2</span><span class="o">*</span><span class="n">nSamples</span><span class="p">))</span>
    <span class="n">gs</span> <span class="o">=</span> <span class="n">gridspec</span><span class="o">.</span><span class="n">GridSpec</span><span class="p">(</span><span class="n">nSamples</span><span class="o">*</span><span class="mi">2</span><span class="p">,</span><span class="mi">10</span><span class="p">)</span>
    <span class="k">for</span> <span class="n">i</span> <span class="ow">in</span> <span class="nb">range</span><span class="p">(</span><span class="n">nSamples</span><span class="p">):</span>
        <span class="k">for</span> <span class="n">h</span> <span class="ow">in</span> <span class="nb">range</span><span class="p">(</span><span class="n">nUnits</span><span class="p">):</span>
            <span class="n">plt</span><span class="o">.</span><span class="n">subplot</span><span class="p">(</span><span class="n">gs</span><span class="p">[</span><span class="n">i</span><span class="o">*</span><span class="mi">2</span> <span class="o">+</span> <span class="nb">int</span><span class="p">(</span><span class="n">h</span><span class="o">/</span><span class="mi">10</span><span class="p">),</span> <span class="n">h</span> <span class="o">%</span> <span class="mi">10</span><span class="p">])</span>
            <span class="n">plt</span><span class="o">.</span><span class="n">imshow</span><span class="p">(</span><span class="o">-</span><span class="n">y</span><span class="p">[</span><span class="n">i</span><span class="p">,:,:,</span><span class="n">h</span><span class="p">],</span> <span class="n">interpolation</span><span class="o">=</span><span class="s1">&#39;nearest&#39;</span><span class="p">,</span><span class="n">cmap</span><span class="o">=</span><span class="s1">&#39;gray&#39;</span><span class="p">)</span>
            <span class="n">plt</span><span class="o">.</span><span class="n">axis</span><span class="p">(</span><span class="s1">&#39;off&#39;</span><span class="p">)</span>
</pre></div>

</div>
</div>
</div>

</div>
<div class="cell border-box-sizing code_cell rendered">
<div class="input">
<div class="prompt input_prompt">In&nbsp;[15]:</div>
<div class="inner_cell">
    <div class="input_area">
<div class=" highlight hl-ipython3"><pre><span></span><span class="n">drawFirstLayerOutputs</span><span class="p">(</span><span class="n">nnet</span><span class="p">,</span><span class="n">Xtest</span><span class="p">[[</span><span class="mi">10</span><span class="p">,</span> <span class="mi">5</span><span class="p">,</span> <span class="mi">1</span><span class="p">,</span> <span class="mi">18</span><span class="p">,</span> <span class="mi">4</span><span class="p">],:])</span>
</pre></div>

</div>
</div>
</div>

<div class="output_wrapper">
<div class="output">


<div class="output_area">
<div class="prompt"></div>



<div class="output_png output_subarea ">
<img src="data:image/png;base64,iVBORw0KGgoAAAANSUhEUgAAArMAAAJOCAYAAACk64/cAAAABHNCSVQICAgIfAhkiAAAAAlwSFlz
AAALEgAACxIB0t1+/AAAIABJREFUeJzs3WmwrVdxHuBXYIwNFgLEJJAAzfOA5hkNWAwGAQKMDcgz
YDuVSlWcVCp/qBRxnHIlZacqtlPlxMFlSHAAB6zBCEti0ojmeUISCDGDAGFsBjuQH66HtW/fe7jn
nHvut8/e7vfPd/Y+e+/vW726e61+V69eu/zgBz9Io9FoNBqNRqOxiHjMvB+g0Wg0Go1Go9FYL3oy
22g0Go1Go9FYWPRkttFoNBqNRqOxsOjJbKPRaDQajUZjYdGT2Uaj0Wg0Go3GwqIns41Go9FoNBqN
hUVPZhuNRqPRaDQaC4uezDYajUaj0Wg0FhY9mW00Go1Go9FoLCx6MttoNBqNRqPRWFj82M6+wdvf
/vZ1nZf7ne98J0nykz/5k0mSb3/720mSv/u7v0uSPO5xj0uS/L//9/+SJN/61reSJD/+4z+eJNl9
992TJH//93+fJHnCE56QJHnsYx+7xfvbw9ve9rZd1vP8K+H973//DslDe4E87r///i3e/6mf+qkt
ruT4tKc9LUniGONddvnH5v3Yj61OFV796ldvqDx+7/d+b13y+P73v58k2XXXXbd4TS/08/77759k
6AU5fvazn00y9ObrX//6Fr/z+Mc/flXP8S//5b/cUHm8733vW5c89B/90P7ddtstyejv2X6mG2Tz
jW98Y4vfoFuuqz36+rWvfe2GyWSXXXbZofO2yeExj/nHuF3/Pv3pT9/idTLkoO/ZzFe/+tUkW8vl
b//2b1f1DD/4wQ82TB4PP/zwuuSh7772ta8lSZ7ylKckSR555JEt3v/iF7/4w+/wmdr7jGc8I8mQ
3U/8xE8kGXIi6+1hr7322lCbedOb3rRDPkR/8x1shH3wmc997nOTJE9+8pOTJP/wD/+QJPnc5z6X
JPnSl76UJPn85z+fZPiW7eFd73rXhsrjbW9727rkoT1shX5/97vfTZJ885vfTJJ873vfS5I8/PDD
ScbYbCyhJ8bgZz7zmUmGr94e3v72t2+oPF7xilesSx7021yBvvCp1T7Ii3y8Jhd65vVq7eXCCy/c
UHn8yZ/8yYbox6OPPrrFa37SGPuFL3whyWgvH/SsZz0rSfLUpz41yZDnE5/4xFU9x6/+6q9uUx47
fTK7WlAUAypFIAAOgqAoDAEbaBgMQTEo3+OwOCj3ZbCbBZ5Lu01WOU7tpwgmYw899FCS4Xg4FnI8
+OCDkyQnnXRSkiGfGgy4bhZ4ftfnPe95ScZkdc8990wy+pmDZWgGKA7E970m17vvvjtJ8qlPfSrJ
0BeOa7OAgzDgcrwG2ic96UlJxqTFa/JIhjOqTtUEh21x5gIA31vt5HZKaMvee++dZDzjHnvskSR5
/vOfnyQ59thjkwx/kwyd135gg3/zN3+TZNiaK90hl80A7daHn/jEJ5JsPXmtfnU2WK4BEJ9Jh444
4ogkw/bonutqB+upwKfWSclBBx2UJDnqqKOSJPvss0+S8fz0wqSdTyBbcuJDP/OZzyRJ7rzzziTJ
zTffnGToy2ZDDVoffPDBJMkDDzyQZExSVhpz+SLX++67L8mYvPFBgoFDDz00yRijNws8v8m3/mYr
9N4kTfuNzb7H15x22mlJht8kX3MNc5w6Nm0W0Os6Wb/rrruSDD0nH3OOOkcD8jUWmasZi/fdd98k
w0f73GrRaQaNRqPRaDQajYXFpmFmMSRm+1/5yleSjKUM7JAoGVOGLanMqv9jCUTfmEpRhGiqLiXM
G6IdchAl3XvvvUkGE4eZw448+9nPTjLaiam96aabkiRXX311kuSee+5Jkpx33nlJksMPPzzJYA9E
iZslWhQFi3qf85znJBlRnf70ucqSYc9Eh/q7RtN+r0bdoufNwlhjDVzr0g29+PKXv5xk6NGsnZAB
pqGyunTQPcgGa03mmwFYoDPPPDNJcuSRRyYZeoIdIidL5bP67W+2xhfQAUwV5smyst++8cYbkwxm
Yp7w7B//+MeTJB/5yEe2eJ9fpRdYFH5jFnSePlgO1P+nnnpqkmEjfK8+mV0NmCfYtOfHwGJkjzvu
uCTDt1Z2m++oKU3ap911NcR9r7vuuiRj1Wje4AuqHzA2YO1rOgY51H71fmX5a0ofPWGjm2XVS795
3jvuuCPJkIux9NWvfnWS5JBDDkmSvPSlL02ydaraDTfckGTYD5+svS94wQuSJJ/+9KeTDF9NjvNG
XeW87bbbkox2ed7KwPKj5EAP2JGxmf3wo1Y2/B4G3/izPWwOL9NoNBqNRqPRaKwDc2dmRUE1aR4L
IHo0y8ceYaAOO+ywLd73O5gHzK2oGLt0yimnbPEcoiafn1c+YM1Lkj8i7+rXfu3XkiQnnnhikq3z
lbTD75Cf6PJP//RPkww5iwrlj5GjqEwUOa9oUT+I4jyn/Cvva8df/MVfJBkbWTBN9AmzjZkTXfs9
bI1oVFRNXuQzL7ZJ1FtzeeW5YQ9Eux/96EeTDJaBXiWjj9kgZgK7TzZkQDZym+jWZsg3P+aYY5KM
XNgTTjghyWBm2YX+06ZZebAZ/+Nz5JVjdfkQMsX6y0f95Cc/mWTrzZpTgL1gk//sz/4syWCTt7fh
c3bjo894rzL4fuuKK65IMuRF1r5ffdTU8Fxs1vPTd3n3bEpuoPZa1cJi69e99torybCLAw88MMlg
fuVtY7DZ5Dz1I9maMaPvlXn2mq/EJGJU2QOdkxv6sY99LMnwtfwMRk4OrjGaP1ntJuSNRt00TB6v
fOUrk4x+Y/f2ndAb7cJU+j3fv/7665OMlRv2gen0e3JTjTXzshd6wR+aE9F/oCfGIDmw1T/oV79D
TnXz9e23377F77NPc6DtrRI3M9toNBqNRqPRWFjMnZkVtZml13IPchrf+MY3JknOOOOMJFtH/aIC
Ue/FF1+cZOTiYipEHfI+Tj755C3us9JOvKmg3fvtt1+SEc1hv0Qrt956a5LBnomG6k7LAw44IMnI
3zrnnHOSJO9617uSjOhYdFh3/GKuRJtTQ9SvPdpPTp4LA/nhD384ydY50dohusMi0A9swTXXXJNk
sCr0wP0qYz0v6B/5bXaYYqixAdpVVziSIdPKXPlNNoKBspv95S9/eZIho3nmm2Pq5VfZYS8PUrvZ
Ry25NsuOYdTkTNaSMjUXzJUv4rswOfPYva4vPvShDyUZrCJokz0ENYeY/iTDZuq+Be/XvGOVQDBP
8vD9f965gO7PR2JU2QhGVm70//gf/yPJWBWrq3WYNDr3K7/yK0mGfdAnPpjPsWo0W0ljHmAT+tHz
WM2yWmXMeNnLXpZk6IxcRu3EaGLY/uiP/ihJctlllyUZ9mCsZyd8tOeZGnUFRu40f+d5MdOVeXTF
1BozfI/Pqb75Na95TZKxsmPfC/2bXTWaErWKief32nN53zhAPvafkJ/VMf7x8ssvT5JceeWVSQZT
azWUnOil3+HrV0Izs41Go9FoNBqNhcXcmVlRgKjfrB7zJQr8pV/6pSQjehIVi2owMKKb17/+9UmS
D3zgA0lGNCH6lEMp6n7xi1+cZLAK/j816iEH2uv57SQXDXst6sXA1qhRPhe2xK5v+U3ai+kVNYsy
583M1nwmkK+nn+UtiiJrjUy/I+oTXdb8MXohChcVzrvubK0/rP/Zgajfa0wy1nU274hs6q5tETKb
xHLX3dnnn39+kvlWeNAPWDb5fPVZK+tDr2eZWX+TGRsjM4wV23SPWiRdfuo8mNm6wqBv6C+WxJ4D
rJj3+ZtZqFFrdYvO8aXylN0Dk4vRd495Q3/Qe75Cf2k7X6JObGXia39jmsjemGVfAz2SGyrXel7M
LB8mB9QYgTljB3ymahVsjH3UA4ysaGCqf/M3fzPJ8CcYW/6EfyGHeTGzfAjfgZH2vJ6TvMjJqmll
7OV4Gkv1u/0u5Pve9743SfKqV70qydCnWk1mavB3VkFd+RT9bOy0X+Hss89OMlZ9yJVfoE/2M2j/
O9/5ziRDL+hLzaluZrbRaDQajUajsbSYOzMrKjNrFwWY1b/kJS9JMqIfuYFXXXVVkpGXUnMoRQ92
ZouO5WOIjuzQw3SJAuYVFWELao0+u9WPPvroJCNKtkNQvkplGjHWokksCbmIgrAK9bhPDN9qj5rb
aNT8PLnEokdVKjwnfZILLTrGeAN2Tb4PvZP3h70Rfbs/1NdTQbtF8fqN3mBN2At9qMzc7HuAja/1
DjFRmBiMlUgdAzWP3cj00sqD3Hn6X09rYg/aOHt8q/bxHWTFViorj92kk3yGZ5HXPiXowWy7ktEG
1V/oET+ir7FKyehPq2UXXHBBksFYYU4wWfoCg6VmuO/Pq0IMm6i79smAz+c79C8GqR5LW3P7yIHv
UDGGrNlZPebV/o55Qf+ye2Oh11bx2IwcejnHxh5ylRtM/7WXf9BeY5r7z7saCju3qmus5DPYNb3n
e71vpUI79K85hX0+9PBFL3pRkuSWW25JMuRCfr4/rzmI/rHCYO5Rqxl4TmMou6cPtZ6yscjvmstc
e+21ScZejVrflr7JSV4Jzcw2Go1Go9FoNBYWc2Nm62kQojQsEAZRFI15s1sd64EVqLmQfl8UhXH0
+XrOsuhaVDk16glnnl9Oq+clJ89dc4y9r70YSPLTPkwlJsv/RYPynshlatRcWVEd9gcjKQ/Oc4sS
tVPeHrmRM70SPdsNj03A1IoaRd/YOXlBU0H/e25sD9ZIu+rn2MNJJ52UJDn99NN/+Jv6nkzZ4qWX
Xppk1EFkQ5gYr+VSisjJekrYeayd7IcfcRXty/v8wz/8wySjCkay9SoRRuWf/bN/lmTrXDC6gKFg
i3RwSrAX9q+97F+1EvqCNcS+kd/sCgbb44uPP/74JMlv/MZvJBk2iFnSbs9CX+YFPlA7at64ihdV
Z+Ru8i2Yet/HyFfWHxNt5QJTS0d9fl6rXPrFlb5j3lRb4Gv1t9fkgfXHRNIpv+N3Md511RXjRs78
0NSou/O1ny/FnLJrPlf79HNlUDGYcrHhZ37mZ5KMVSHyqRWc6NfUqFVt9FPdA2DVq6728TmqMZAj
/eFjXPlR8mU/+oPvWu1Jk83MNhqNRqPRaDQWFnNjZkUjtZZjrUGHKZBPIUoQ7dWd1KIks3+/i3ms
dSmxBzUXcWrI1xOlYFjkl2ivz2FBtFO76znY5FlPOJMrJ0dOzTdRl2hqXjvV6+kiWDHsCUYVcyrK
1q9yBGtdUf2MVfB7oknRs8+JkkXh7js19AN9Fv3TD9G+qBabJPp34h3meRZkra1yBWteLubC+xga
zNyUzCw2x0pLzf+l9zWP10oH9pmf2dZ3rQLRKTl1tVKGviFbfTIl9Lv6svTbDm12XfXCs2LNtlXb
km7JcbO7nU/lq3yXj2F7tcbzVKg+xFgjjx6jVHP8MG98Q31uDBTGmk82pmGSrAKQW81jnxrGBraj
vfYFsHO6gTklh2r/QKfYDYbNffS/q+fQL8a2qYH547e09+qrr04y9LieEGcuYrVue0yqOYuVAHpX
T9ukR/PSDz5Df9Jj/al/rSyYQ/C9/IR2gP6m//qdv/S6+om1VgxqZrbRaDQajUajsbCYGzOLWRL9
iFbM/uV4iRJmT6ZJtl+Tzu+LukU/Zv2iC4yE6GpeOwixPHVHKdQqA6Ih0XXdcVtRT1jTftGmKMzn
yEvNu6lR83L0N4YZA4X9qP24vTws0S/9q3K0Q51eqju72vydjUY937rmd3nfa3LDQmH8fxR8lwyx
4fLTvU83RPJ15/wUwB5ZWaj5bLXusme0I39bjGwFRgKzUne711Py3Gt79RB3BrCkWDb2XZlrr8mv
siI/CmSmRvVFF12UZPhMjB29YMPzqmKgf9g2BhAjZCyoOZ9sfHtMcv1dPkj7MVR1tUxO4tTATLPj
yrTWE8uw9sYklTJWAt/s93y++lp64XnIb2rfSvfrGEcuxhyMqmoG9GS1ua303+qePQbGqFr/eF41
3WvOrP0yrtqhv/gS48H2+o9e8KPmdrVeN/0gDwz69tDMbKPRaDQajUZjYTE3ZlbUKpqtuW1OlRD9
ysdYaw6nKFlUIYrA1NiJLBry/6nPERfliG7sFK8n9dTz4GdPMFoLyEP0KfoRTfs/uVR2YWcDU1Rr
Q4qa5bhihbCIaz1tqDL39KWeB42lET1ODVEte2A/8rZqzrRod7au7GqhzzEHrhgsMnOvWk9wCli5
kTvumdhPXXmws3w91TnkEtZcQbZX85TnkfMmd5x/qPpbq7mQ13pYQt+tefVsiI2wpXkxkfqFL6On
+olM+BLM81p9nfaxE6/d333q/pCpYazVX8ZA7fV/NbrrfpXVgl3UiiLkQE9qHvfUzKyx3xgr95te
G1NqPVk+RXu2B4x0ratb3zcGz8OfJqMfyEU1m1oZRa4shnmt9q199IL86wl7xlzPtT00M9toNBqN
RqPRWFhMzszWvAyzbkyCKEU+i7w1eTtr3TFdz4+uJwG5z9TMI4jSMWl2y2MgMU+1VqKoea35ipWt
IG+swbxPY/Fc9eQvbAJ9wKaAHMC15vjW+rPkXNm2eUG/YC0wi/SAfmNNRc8Y2bUy1cnKu0r1QWVm
5wH5fFgEfqWe864tcp7lp60F9Sz5yiBU3ZkS7EX7wImAnskzY998jx6thS2sDCff6rre1aKNgrbq
FzpBV7D2dbWFDXn+1TJOdEz7qw+ZNyML2s9H1t3ndu2TD1vZ3n6MCv6hyoE857W6BfrDmGG1AhOp
OouTyzw/PcKorrVesM+TJ7mvddf+RoNeWlmwmlOZe/ZeT7Jb6xxkpdxYdrte/9HMbKPRaDQajUZj
YTE5M7u9WmoYWgycKgaivdXubAP5HqJCs37sAqai1kKbKmdWlIZ5dhU1Y2id4CQ6qjmea70fkMdm
YNuSrU8uw8Tbje/EJtEg5lb+zlrzFd1PNCp6JudaM29q1PqydecxiHZFzU5wW081CjKsp4nNm6VO
BvtFL+RbVZZUtI9dUkd5rSxTMtpfrzWvnC6tNpduI1BP/gL6gUXCovB3WJj1sIVVF72uPnReqKcH
uqo9jYljG7VSyFpzAPV3tQ+rA/Sj7t+YCtWnG1vojH602uf5Vqobuj1U5k0FHb/j/+xo6pxqTCjf
wUc48YuP4EvJyXWtjKz7aaexm97M214q86q/7r333iRDHlaJ62r2Wucg1U/Uk8XqisZq0cxso9Fo
NBqNRmNhMTkzK/+s5gJig0TNdlBiUNea+yf6M+uvuaKicEyF6Fn0NdV50ZUJFA1XuWCi5O24rhai
J1fRoShppdNwPN9a77ejqAwbffFc/u/5MLSrhaiYfOvOVtGp+p36Yz3VAXYEnhOLVO0G60RO5KBW
5Frgt9zDPWvOm/+zsSmZBQw8f1DZhFqjkT1b6VkP9LnfJgd9w2bY1pS7stllzXlXgQG7RK/XurI1
C/1s1z8fWnWUHlVmcupcWvclG3nWbMT7terAapnC+nmrO1aR+GyfoxdTnyKoP/hO/VZP5AJ2zaZW
i5rzqL1ssPos/UFOU9Wrru2rVUrkytaa1WvV35pLrv3u68pXV/87L7Bv7ddu9kxea91/UKtcmOvY
B+J9YxnfvtqxvZnZRqPRaDQajcbCYnJm1qy75l15347KmoexWkbB7F5tOPke3q87s93PKT+eZypm
FnPieURxGMdao3ClaHolkKNcXFEO+fh9teOcqFTzmqaC55G/pZ3arQ5uzfNZbT5nZWSxKVXvRKf1
pK211jneUdQVBsCueF72Q25ryZXFCLCxmnNIF+3yrQzFlLuTPYt2esb6TORCX8hrLcD+Og2u2mSt
BOA1nZkC8trkI1aGlh+jDzUHezXwWT7kIx/5SJKxulPr6+ob8qs6OhVqvU6+1XPW6hRrZWTBPg+y
PfDAA5OM9nsOYwzWfCroj3ri1Eo+nq+tjOVKIA/97LXVELmofs+YZ5Vl6lMm9QtGmDyMBZU5rKuA
2wM9qysV7MX18MMP3+K+vnfTTTetvVE7APZgbqQftdu17jdabT1c36v1hcnXvih+xnOYq8h13x6a
mW00Go1Go9FoLCzmVmdWFCJnVf6MqHCtbI9ZPSYGi1BzdEWpdnuLokWRGEvPs7NRa62JgmoO4HpZ
DYyUK7liEfSH6KcygXvuuecWr3c26g5Pz4nN0K/rzb+r9TYx0VgC+nPBBRckGfogel1rbu6OQr9p
v5UG+Uz0e0fyETFrbENfaztg/9y7MnFToNZCxKa51jzJ9QDTdtxxxyUZOW2YmXq2PJ3CPN1///3r
vvdagd3wLLU2MDvakQoLmJq//uu/TpJcf/31W/yfL6UHbJbvqPnvOxsYIHrKZtjQjvoO36eLmD6r
O/Z9AObp1ltvTTL9SVd1tabWm7Uis96T62r1Alfttnqg/0855ZQk45RP/TUVyION8HPG3EMOOSTJ
+k/k8vt8kfuwTf6VPDDVVr6mBv+/0mpwrXG/Vuhf/lHOOLustdP5dnWAjdHbW9FoZrbRaDQajUaj
sbCYnJnFAD744INJxqxfdGK2jg0QNdRc23ouPEZXvpprzRdyMs6LXvSiJIOR9Tx1N/TOhueqp9No
V82lhVoPV3RsR+hDDz2UZESFdiJiBexu1h/1fOjKQk0F99P/ouVa47Pu/PQ979caoNqJLbLj2OdE
h3feeWeS5OKLL04ymFp5kxjcqeD5Kisquq87ylc6harmxSaDifEeG3QPrB/b0Bdsj85OKRPPzC5E
8+yo5gFWfan6PGtXdP6MM85Ikpx22mlJhs9YKW+/1np1hvsUYMfkof0r1TStrHKtmTvLGmLWrr76
6iTJX/7lXyYZTJacwxNOOGGL37bqQTfZ3lRVL+gIJogNy4PHFJGZz/OBtboBkLV6m5gj+k8/9IEx
6I477kgyxrapmdlaycfqEptZqR6u79UTmmrVDn6CXriSu9+xCvryl798i/vVGsk7G/wX/aj9ql2V
ka1jrucnP3OVamM+Z1URI15PprvhhhuSDLtbaz3b9aLuQyAP7dEOelDrwdb36Yf2sQOVgehFzSFm
P1bE2Jfna2a20Wg0Go1Go7G0mJyZxRSa9dcoyay91jWVRyE6FPVjqFxrbbyDDjooyciDO/bYY5OM
PKdrrrkmydhpim2YCqJAbIboCLN66aWXJhlyIx9XUVPd9S+KEWWJBmuNRawChlp0RF5TR81QmUYM
nOgeGyQ/DYtWz6Kv1Q5EkeRJTvJ45MqKjkXVosSp68yudM47faH3omHyoee1MsFs1QfMDNa3MgNy
uLxmc36D7A877LAdbeaqQR9F81Uurlg3cjr11FO3+F7Ny0oGay/3kSz9Bt3B2GAi2OJll12WZNqc
WfZcK1GQi5UGrAg9qTnF2ESfS4YPVr0Aw8JHnnzyyVv8Bp/Kp8z7zHk+o+5O14/69YUvfGGSsfqi
X2uVCjKuTBxZ8iX0Qa5ozXdfa/WEHUWt2lBXGNj1zTffnGTYvdWqutrld9iS98mj7ntRKefFL35x
krEfhX65z1Soq3b6z8oUn1pziY2J2qX/rIZawdK+c889N0ly5JFHJhljvbkGH+1US/o5NepYS7/J
SXvpxQMPPLDF63oCIn1jB+Z29cS36rOtlloZw1ivtv5wM7ONRqPRaDQajYXF5Mys2T5WSB6T6Azz
InoRJZulm/3XvKZ6NrvPi5J+6Zd+KclgZJwwZmdu3dE3FURrmFPsANZAVHLVVVclGdGs90U5Po85
1E55QMcff3ySkc9HTqJBUajPY5+m3mlaa/LJM/K8+lm/2umIoar5XX6vnsKCNcFIf+ADH0iS3H33
3UkGwy96dp8dOUFpPaCX7ltrHtZ6yJh9eYr0gx3N1icWObO1D33oQ0kGm4eRZaNkSceOPvroJIP9
nwKifGySdtXd++TFnt761rcmGe2v9VeT0Q5XPkS7a56+Z7ntttuSDAZzytPysMjar93Ydld9jXWq
1Uy8b0Vo9rt8BJ2zG13/Y2xrjltleKZCzaPGRrN1PkU/8x18aEV9/sr4+j1jmBxjMvX9qU9RhFpr
vVZywbD5Px1g91BzJ2s+eq3hzU+88Y1vTDIYN3KpJ8lNBfp81113Jdm66gZ5GAPqfgVzDzZkpUL7
2KSqCFb96EWtHORqTJqyOszs/fUf+6UnddXca+NDZVjrqk890atWKjKWn3322UlG9Rh6sdp6x83M
NhqNRqPRaDQWFnNjZkVtogJRGkaxsgLYEFFxrW7ge2eeeWaS5Kyzzkqy9U5kURcWxX3ka0x94lXd
fS4X9A/+4A+SJFdccUWSkc+DRRBViqY8PzbJa9GPqAqDI3oWZcpzI095XlOzKnXXuShedIZZldsn
HwubUPPQ6I32Yx3lN4maRYF+F0MtShQ9Tq0f+k+0jB3ANOs/72PwL7zwwiRD7+0w1u5k60oerpVB
omOYLLtNDz300CTTysSzYUM9A33GtNYc6VofuNalnf1stUkypnt8FvlddNFFSeZTJ7LWDqUn/CZ5
eWYrUhXaNruDn+7J+cNy//RP/3SSwURitshc7uy84LmNCV7rr3e/+91Jkre85S1Jxli0Up1V/V99
iRxzMiWPuppYc/6mypWFygDSkdNPPz3J1nV5rU4Zk+sqFzvBvGPwnGhlLOGbDz744C3uY2zB6E89
xmCq9Ss9Oemkk5IMPacvfAeGX//Sd8wsWzTGVubZ/h3y58OuvfbaJFsz3lOhtsuYJyf+9ttvTzLG
Sp8nR6jMfa08Q461PrmcdfKvOe6rRTOzjUaj0Wg0Go2FxeTMLCZUFCNaER3bIW3WLzoS/ZvlY4lE
gaJCO6vrbnX5L5g5O/LkDc3u8p4S8nQ8l/Y7VUe76/nN2JJ6+lBlqOQgY3bJX1QsevZ/7MJsbuWU
qKcEYQvk44na5OvceOONSQYbRD617mzdue93vdZev2MnO0Z2vafj7Cj0L33Wr5h5jJqrnbFywetO
5Nl+xUzU/PNaAcEuXjpp9aDm604Bduz8cqcIYRNq7jR/UfVKG2ffrzoDdK7uvv4//+f/JBmrPKvN
7dpIuKfHnwo6AAAgAElEQVSVKPmb5KOPsCDaWE9Owy7N7hkgh1pPVd49n0Qv2E5dNZsa9LmehmbV
5R3veEeSISP6XBllstL/fKlqFRgqfcBX8KU1339qRhb4RGOq58XMHnXUUUm2roTBx9bd+/U0Ta8x
1xhbzLT7YiqtovG980IdCzCydRWUHOyfMBbUGvF1tUd1CCteVf6VsZ96PwbQTwyyVV0+hVz8/5Zb
bkkyGPxab5ZfoAf1pDzjDDnLwWen5mbsa7VoZrbRaDQajUajsbCYnJkF0YsoBaMqWpTrKq/ELN/s
vTItohpMZj19Ql6KPIxan3HekE8k7050g3ET9dedfqIXDLTX8rh8jrxFz5hd96nfnzcwapg47cGi
YEkwlPq5nvBErqJp/8c2ek1vMPz1FJR5g75iwbSfPteqHitVoZjNx6oMbK1FW3PhTjzxxCRbVgCY
F7RfPlc9f14b6NFKJ6PNsodkSCfonnthWLDedifX3LF54CUveUmSwTZhIflBcqEXtS71tmrD0jmr
Zn6DzNgMNpcvmdeqTkWtrW2s0a/6T+4rHaq1rV35Ru2s9WrrqYl87dQ5kCvBigIdwZjZXc/neX77
BoDukGOtLFTr8vJNfLP9D/NmZAGz6IS2N7/5zUlGVQLtlCNeV7CMrarBYFqtsnqt/81p+A/3rfn8
84K5htxYDK05ByaVHIzJVR/ovav+ZjfGYj7H9+oJfWtFM7ONRqPRaDQajYXF3JhZUZroUB6SWb8a
hq95zWu2+Hyt8YaJwiy+5z3vSbL1qUXYgnr+8GaBaBhTLJq1Cx0DiQWq7ABGBQOrfRhtv4+tED37
/alr/W0PmLV61rwozg5In9P+mt9FX7SPPLAoWIl6Pjn5bhboZzuDtcvzymOs517X88RnGcqaV0om
InLsvXqJmLjNAGzIJZdckmTot6hfv1a7IIfKZCfDR2AzMUt8iXxk9XjndTretqBdTh3SLnLSNiyi
/5PbtnLDfVb76ylzKkmQ8WZhZIFM7Mug+1hrPsG1MqlkwS6s5tTTGsmOfDBcK60GzBvGlssvvzzJ
YMjsH7Fvg0+sVQzYUq07ioHDfNd8fjnEmwXs3Jj6zne+M8nYp6Pd5iZyR+mDdmoXPWIPlXn87//9
vycZvpvebBZojzGj9r9VY/pvvw2wf3rgeyvtJfB5TLA53nrRzGyj0Wg0Go1GY2ExN2ZWNIRBkpcl
zwQLYqegfArRr6hKFIFhxDjUmm3yPTYrtEvUhgXAkolu/Z9cai5sPYe7nojlc5shz+9HoT43PfH8
dsRiEzD82k8uXmNZtBtD7ffnsTN/LcCg0We7+LFk8r9Ez/Wkt9n6oYBhoEsYWKwm3duMYO/q6mJF
tFtbrPDIS8MWbKtWIt9z6623JhmVMq677rok8zs7fTXQfnbzG7/xG0lGXpu9B1jJujMdKzO7F4Gt
OZmHDOlNrYax2UD3tdFKA/3GINWTieqZ9P5PZl7XKgE193yzgQ/03HTB7nGrgnwNZtH3/N/rytRi
KOkDG93swLBjCH/7t387ydgrgNlX851e0BNjNRtiN1aL6cdKJ8xtFvCJGHd6wE7qyYcYfCt7dayp
9Y1rzrrrRqGZ2Uaj0Wg0Go3GwmKXedUCbDQajUaj0Wg0dhTNzDYajUaj0Wg0FhY9mW00Go1Go9Fo
LCx6MttoNBqNRqPRWFj0ZLbRaDQajUajsbDoyWyj0Wg0Go1GY2HRk9lGo9FoNBqNxsKiJ7ONRqPR
aDQajYVFT2YbjUaj0Wg0GguLnsw2Go1Go9FoNBYWP7b9j+wY/uZv/mZdR4x9/etfT5I84xnPSDLO
XHeer/N+v/Od7yQZZ5A/85nPTJLss88+Sca50c6Zdr60c4S3h1133XWX9Tz/SvjCF76wLnk479sZ
7M5NftKTnpRknIP96U9/Osk4H/mpT31qknGOtvPVd9111yTjHO3VngS3xx57bKg8rrzyynXJw/PT
E+17whOekGScF00eX/7yl5MkX/ziF5OM/qcv5OTq/PXt4dRTT91Qebz3ve9dlzy0h354fudqf/KT
n0wyzt1Ohgx9drfddkuS7LnnnkmG7dA9Mt4eXve6122YTH7+539+XfJwjjg90Abnj/u/c9mT4SOe
/exnJxm+gs+ha86g9xvbw7vf/e4Nk8duu+22LnnoY36T39Cn5MB+kqEfX/jCF5IMH+M36NpjHvOP
nAh92R4effTRDbWZ//yf//O6ZOK56QQfqH1sR//r92984xtJhuyMUU95ylOSDB87K8sfhX/1r/7V
hsrjne9857rk8bd/+7dJhs14zWfwncCnAt9Z5eH6+Mc/flXPcf7552+oPB7zmMesSx70ge944hOf
mGSMmU9+8pOTDNupcwzf+9znPpck+epXv7rFlf1sD9///vc3VB7nnXfeuuRB38256vuu2su+yIe8
gE9if/V3V8L//b//d5vy2OmT2dWCgtxxxx1JhiFdeumlSZJrr702yXAkHAbD++Y3v5lkCISzNllh
UIceemiS5MQTT0wyDIxANwt22eUf+0v7OJKPfexjSbYerDkck/pvfetbScYAQ5Ge9axnJUkOO+yw
JMnJJ5+cZExkOHKT4c0ChsJheO15b7zxxiRjwGUoBuLPfOYzSUYQQL5XXnllkjFwP//5z0+S7Lff
fkmSfffdN8lwZJsFHC17uPrqq5MkDzzwQJLhSD7/+c8nGfZlgJ59z9VgRBdOOOGEJMkxxxyTZDhn
NrPawWkK0FcDrAGDnzjyyCOTjIFWW7Q5GbahXWyLDbmHSa0Agc2tdnCaAvRbm/hB+swfaOMee+yR
ZMvJPR3Sbu279dZbkySf/exnkyR33313kjGIbUb9SIZM9D1f8dBDDyVJHnzwwSTDVxiD2IeAkQ8h
HzI0eSXr/fffP0ly0EEHJRlj0maBdmi/ybr2k4fJvM/TB77E2MkXsym6h1gy5vCxq53sTw2+lY3o
P9dDDjkkyRiL6IExh37RG3rGfvgLdsR+fG6zQbsqEWTORf+NoXxMtTd+9Etf+lKSoTd8NLup8lot
Os2g0Wg0Go1Go7Gw2DTM7L333ptkRIdm/aIYs/jdd989yYgORUWiKN9z9TnRhHQFUcOLXvSiJCPq
FE3NG1gNLNAFF1yQJLn88suTDAbKc4t6tBOrQG4+B6LnF7/4xUmSt7zlLUkGcyU6XW36wc6GpW9R
nKhNGsEll1ySZPR7ZREw1TV9wP/vv//+JIOVIEefxyaIQucN/YuRxTBj7EW/QD/Yy+zfdI3tuboH
9vfUU09NsnXagdfzhGemD+wYq+zZ6T15zLKH+prO12VzPqYu1cNtt92WZHOs8rCTAw44IEly7rnn
JkkOPPDAJKPPnva0pyXZkpGFyqxo1znnnJMkueuuu5IMHfzIRz6SZPhsfbDa9JSdjcrIev4777wz
ybB9NlRXxyrjXFPdaloCuyGHo48+OsnqU5h2NvgIvs7qpf4D7bViQw8wcdrtalXE79c0DauBVkk3
i08FjOurX/3qJOM5MbLGInIhv+ovvE9e5GDV7znPeU6SIcePf/zjSbZcPZsn9IvVPs9FfzGwGHh2
wN59zmv2cPjhhyfZmqGVnoGhZV+r9afNzDYajUaj0Wg0FhZzD5kxZqJibIeoWTSHQRA11xxAjKLZ
PyZNtICx8fvvec97koxoVNSMjZoXI4ktE82Qg5xheWr1ObEINToUXYlyyEeOLZaCXP/5P//nSYY8
K6M7NURrcvpEu5dddlmS5D/8h/+QZMjF/8lF+zGwokU5sOSN6a3ycH/Rs6hxluGcEvpDe2+44YYk
w44w09gDek3v2VEymEY2Ih9bnjEZYBTkRGIq6BSZ0sEpIWr3zPzF3nvvnSR5/etfn2TkzMrT21Zu
uOenQ3ShMnJ0gW7oE4wUXzMPH8L+tR+7dOaZZyYZeq8t9RlnWfbKvJMPG2CTe+21V5KhT+9///uT
jFxAtjIvm/Hc+tyqFmbIWKJf+T42dPbZZycZuZ/YfbZ23XXXJRmrI/rf/+VWY8v9zrxWNNg73ZcL
WjdFGiOOO+64JINR40vYvd9he+TwwQ9+MMlg9tgJeZAj/ZmXfgCG8bzzzkuSvPzlL08yGFQbQ9kY
vak51GyqMpRszpwD0w18mJWCea0S08u6+lvHVnpMXzwv/eIn+By+lz6QqzmJVWh+xCo8O93eXKSZ
2Uaj0Wg0Go3GwmLuzGzdCSnv7OKLL04yolxRjShblGTW7v2at4GhFX2a3YtC/+qv/irJyC2bd3WD
Gt3dcsstSZLbb789yWDJ6s5yUR65YCSxR+RbdyKLvshBPs/P/uzPbvH782Kq3V975Vb/9m//dpLB
/tQolj5gsKHuwHT1fXKidx/+8IeTDLmKGsl1anjOGq1qBz3Wf0cddVSSkTs6y57ScasbKnxYtaAr
GEe2JZImC88wj9xI/UUenhG7oiJDLQtTd6Zv639QV0vopNdkrnLEWkvvbCQ8G0Yei44VqSsSNTf+
R1UxqbnSGCr38NvazbfQl3kxb7XkFl2h9xggOZFs5vTTT0+SHHzwwUkGA8XWyAGDZxXtv/23/5Zk
MJTaj5HC/FZmbiroBzmPz33uc5MMn0YudAkDh2Gs+fd8Cjn63WOPPTbJyKWWE1p9rNWieVWM0R6+
4pRTTkky2oFBrtUXtF97oJaqYlP1Nb3EeKsqYWyeLaM4JeqcrOaAv+51r0uSnHbaaUmGfIxN5Ele
9MnvqWpBDtpp5U/Odp3DWH1cCc3MNhqNRqPRaDQWFnNnZutuctUGRAFqm4mC5NeIrkW3deepfDfR
oKhB7T/sgTwfLJRdz/NiZkVvohDMbGV5RD3yfLBDcuXkNdVi6D/zMz+TJPnjP/7jJCPnkjw/9KEP
JRlMHkZ7HvmQs9BP/+W//JckI3pb6fALz1uv4Hv1fdGy/qeX+qEWxp4aNfrFarzgBS9IkrzqVa9K
MvQB067/Z6Nbv6EtmBjsJoZALpPI2qqGe28GZpZ98A+vfe1rkwxGttZMrf08+1u1fiZ5kBeGiq9x
D5UCMHTzYGblfda6sXVly7WyS7OFy2s1AsxZzZF2DwweptJqkmoH84LnNKYYG/Qfm7aKh5mzGuPz
fCRZkQdm8/jjj08ybI2crO5goDD382Jm6YKxQu4i2/B/Ob71EACfY/fer8y9sYOc2Ikxhp3xL/Ni
Zo2Vxjx2jGmu7a9Mv2tdJasMfs0995r+WeFQM31ezCy4v3GAXbz0pS9NkrzwhS9MMtpHr6tvJYda
YUdOOp9d9ceqK//SzGyj0Wg0Go1GY2kxd2YW44WBlTPrtahIPp9oz045UbFZPWZXNCxnEvMqGhYt
yOuSvyP6mBewPx/96EeTDDmI9kXN2i2aPOOMM5KMPB+/I1oSDcpvqeybqAkTqR9ETduqQzkFsAPq
6+rXlRhZ7cZQ+b6oX84slqbuPJUfVPNJRcvyhPzu1PBcombtlCNJr+2Y1T75erPMG4bFb5ABRgpT
xYaw4XSu1uKdB9ivtugfrFPNDdX+++67L8mQSzIifzpQGRjMiVxK8qoVN8iPL5oSNf+w5sjWE/C0
mR8gl2Trmt/aZ3WHL6n1ivlovhTDwuamhn60i55Na49VDL5Tf/K9mFl2UGsZH3HEEUnGrn8+ky4+
/PDDSUZO9bzkAPqc3bOdOlbUeru1Ig77NzbxifUkLPeRi2yM4cPqvoapYWzzfBjZyqTWmuXGSMxy
razED1S5gLGKHmIqraYZc6aG9tJb/WsOZhUQo81O+Ds+lR9VpaHW/Ffj3+9Z2eFPfF8u8fbQzGyj
0Wg0Go1GY2ExN2ZW1CcaXCn/RLR81llnJRlRi5OroObz2DH3B3/wB0lGbih2ySk2GFvRgueaGqIR
zNH111+fZESvojj5NZgn7cSG1OoD2CPRo6jR9+ykrOchO5fb+1Mzs6JYcvE8NY+o5krLd3LikR2q
oktRHoYXa4TxrDs56SEGUJTpPlPBc2DJsAOifnKR/1bz/Dz/bI4oHdG3mFiyZ2s33XRTkiHjurvf
56fMM2evdac8u64sCBYN86hig/6c/U3gS9xDDihbq2ez1zqlU0JfuLdc+soq1dO86P+73vWuJGMF
JBm6Ri5sAvPyW7/1W0kGQ0MO2GC72dWEtgo3FWquLGaUj/WcVjHkdPKBGMN6UpYxAsOIwWJjVskw
vpjbWt91aui/mkeNUSQfzHTdjV73s5AHv0DnrGDU+sxsEhPHnuZ9gqB9NBh1tsTn1gpIF110UZLk
93//95OMMYVP1u+vfOUrk4yxCPNKrtV/8t3z8B/JsF/tMefAmJoz6GfyMD5cccUVScbKBf1gT+RD
v9zPa79v1Z3e1VzbFZ9/VZ9qNBqNRqPRaDQ2IebGzIpm625aV9ESZlb+iaiunuQDojynttx8881J
BiOLjXLimGgZC4HBmXr3vugWg4r9EN3U3E+5v9iheq58Pa0HG4CJEg2RLybY9zDm8lamhuhU/+i/
2ZzPZES32BU7ileqL0qvtNP3RaMYTtEkubkvvZka7o9J85qc6jnY7AK7RK+3xQppq4iaztA5NiVS
Zyt0xz2nZGbrSXbyN/V7rV6gjXbWY6F+1DNrt8+yHb/B9qBWN5gS9B+7wV9WZhbLRH7XXHNNksHI
Yhe3Bf2sQozcWT651p/1DJidqZlZOsAGMD36Sa6i58Y0sS26VX2OnEoyZZMYKsyn1Rt6UmumTw02
oN2eH/Nl9UvuqLHHWEAetTYzG5I7yX9UObl633PMazWUfbOZuvroeflOfuDCCy9MMphqq2Aglxas
flq5qdUfXOsYPzW0t+ZG8y11hUH7+UMrFVU/tMfchB+lT+yjniQo/9/Kz/bQzGyj0Wg0Go1GY2Ex
N2YWE1Zr/5n1i2ZETWbt8koqI1sh2nGqi9m+90WbonRRpdcr7ZbfWcA0Oy1FrUosh2hWdCNqcd3e
CV2iYAxnZepq3VTR8vbOQ95ZEN1jPTDH9RxsLAe9cFrP9tgx+aBYCfLDTlRm3n3pzdTAhs7meCaD
oSeHmu9mR/pq9BlzU3Nj3aMyVz43jxrE+k0e1ite8YokW+eKajdWBTu2GhZZn7NBO/7timc75FRP
5ZsSqpuwA2yIZyEHz6wt/M2PYmSBjVQmn4+tNWw9A98zL3hO/Vl3j9NvDK32YXJXAibNKiOdlAvK
B9Wz6efFzALfyn75FO3HhNW89O2NBWzKal6tllDHFGPXanMiNxr6z1xDvxgbycdzY1yvvfbaJFsz
shU+bwyTS6v95MVnW12bV3UY7dR/9Fb1GvIy97rzzjuTjDFme/qB+aZXxjRzErnmmGD3X+1+nWZm
G41Go9FoNBoLi7kxs2blNU/Da2yI6FmUW08p2h5EE6JAzFo9h1o0jl2ZmpnVLtGc9mFkRfV15/la
qwz4PcxMPYf7R+VWTgkskFp7mPPKholiMXKYqdXC50WX2InKMnmeqfUC6IN+ko9Yd9CzF4zlep6X
LbBJMha5+81aMWNKYEXc247hWs1DG2p1jrWAT5B7ialayUbmsTtb3hmGtsIzkYeVMeehrwVsr1Y5
wGSBvqln2k8Fz6fP+XxME0YWEwRrXX2Rr22/A1/FButqkrFtatARz4sZ9HxWq8jJ8681p5WdVKYO
4+f9WrFmaqi6YB9FrcXMZvjDK6+8MsnafQhb87t1LKknjM2LuefXzAnIpTLX9Byjv9a9EsYs9zMX
McZV+a8Wzcw2Go1Go9FoNBYWk1MqZt2i13vvvXeL/8vXEa3Im8BEYg5XC8xazQnFaM7j/PRtQfRb
zx+utfrUl607yVcL7RYFkee8ouMK0ZioT35izZH2vPVceMzzauHz9GweLOOPgii+MtHYHaxXzZ3G
gqyHYSdrEXfVjXnlUSdbn8KDXbPTtp74hSWS37Weigt+q1a22F6e+hTg36xcYT1qn3lWrKMVoI3I
Aa+M02aQS7J1DWL7LjCQGChM00oVcrYH39MXlfFc6+9tNOit1Rw+Tp50zXH2/LWe7GpR/QN9MMZt
Fh+rakPNK+djyY2crrvuuiRr939srK56bjZ70T/01ZzLXKOeFGc1s85ZtgcrOCtV3FkvNscMptFo
NBqNRqPRWAcmD5EwbpjZO+64I8lgyDBtZu+YSP9f6znOogjRoO+LJjBc89iRPXt/DLWdnTU6FL2J
ltZ7SkiVg+tKOaJTQz+rs4tRq9EwtgUjKcpe605Q+XKixHnlxK4ELAl99RqbJFdYVOtzNQd9Pfek
i5WhnaeMrKRgEfgH9lDz3rAHdpyvJ/rH4JFlzfWbl+9IBhPLX1qB4kdrn6mTbEf2WlmVZDCRfnuz
rOqA51HFgK5gZukQxk1/qnKwVia11krH3NeqCNXHTgWrNMYauiCPnE2wGWM0ZnatYwGdqnVaa53f
eeUOgzrAbEU7K1Ornirb2V6Vi5Wg32suaNWHqcfeytTrN6tdGH36zZfWfSxrvV+1l7pfaq3YXF6o
0Wg0Go1Go9FYAyZnZrE8Zt9m6XK+RJGiI7mQa8118zuijXqKkejT6TV1F/hUeT3uIzdUNC/ar1Eu
5nKtz1dPRHJGfa0xSD71xKCpgCVR7QI7UFkN/YmZXWkX90qoNewq41mjTfLBhE0F0WvNS8Sq0Nta
H3k97CkGRcTtRBeytgu6MhlT1kXEipCHaiX0tua30p/15MbX3EGwClAZlnq61hTQFxh6zGytFcye
sEz0Zy3gk8mcPqyUU71SDeudDfe167z6TicPGRvs01hrZZjKyBpz+Gz34TtqH00Fvs59Pa9VS0x7
PVVvrbvJMeBssZ6myXb935hPN6caa9yX7/Q8dQXKa7vtPedqwReRLz/JNusYo/2rqfm8kajyV+HH
qhd9odfmDGuVB33yvVrVgf25+rwxeXtoZrbRaDQajUajsbCYnJk1G5cnUWut1Vp8oubVMrOiY/kt
dcec+9UdnBhgn7NLemejnqJEPtoruvXc62VkATNjN7NoXLQqeqw5d1NBu7V3pRxHz1VPT9ke9DeW
BAtBLvq/VhGojNdU0P6qF1UfXCszuZZ7OCXLrl0RMRvEgtMVETybmwI1Z17Osyh+pbrAa8mVJWMM
CSbByUmnnnpqkq0rJ/A166llu17oE8+GPa364Nno+1pyZf2me2CmMVvuUXUV07PeHMP1gg4YQ/hy
ObH1JDu+Y7W5svpde8m07s/QfnIjL7Ypn3tnA4Nen6vWNdV+/bVappo8tb+eFEXOxhr7PvgV+e71
dMOdBXqwki+vq5j822r1uK5YOSGvnjRXmWhysl9kKtQqHFCrW2j/Wvdj0LO6+uk1Bpi+sSvX1a6q
NTPbaDQajUaj0VhYTM7MmpXbEVdzIdd78pRoSFRjNi9aFPWJskRLTkURdWA6ptqxXWus1d3Hdafp
WiE6JO8LLrggyTgP2e9j2+rJa+utmrBeYCvspNcvtSbfend8ahdW4GMf+1iSsbu7MniiSgzgVIw9
1Nxe/VPrza5nhzQZYunIgG5gWKxasA2stlyw9ZwitV54Zkx5ZWY34rfpoJN7yPbNb35zkrEr3vuV
QbAqNAWwOfwGlq3KY0fkwwcce+yxSZITTzwxybAFvonPci/Pxpangn6oJ5DR27p6t1bod0yj3HIM
PluVXy+fn1wwuVOBjbAZ/cS+vb/WsZe91Bxx7aYXKtLwubXe7dSnTWLK3b/up4H1jjEY34MOOijJ
sBe+vK4i8R/mKPzvVKirNPx8rcG+3nrJ9MDcr1ZQOvLII5OMfuHLyGO1q6HNzDYajUaj0Wg0FhaT
M7Nm+yvthKun7JjV11y4urPOrP+qq65KMtgiUaPPiQpFTRjJmns5FTOLBRIlyx+56667koxoSLtX
YuBqno8d6ViAW2+9NUny0Y9+NMlgL+QPid5FYeQzNTN79913Jxn9pz0r1eKrO6fJARujXaJf+Yy3
3357kuTf/bt/l2T0g98VPZOHaNV51VMB++U56AX7Wak+cJWH9s+e+ETWKmm4VkbJCTB09IADDtji
t3b05Ja1wLPVHeF15YI8Kvvic9uqVMDm+Ra5hr/6q7+aZDCz2M/qqzB0U+5G9qzyFvV3ZWJXyqn2
eewHf5iM9p9yyilJkhe/+MVJRq70SjZJjnKwp84BxLx6PowP38+W1DivFUNWyr9mc3a323fAJn1e
fU6+wuqf701dp5kvrPst+HaMpLHC81V5VKbdGMOW6IvP6X+/e/zxxycZPo3uTn0KZ80vh5X2h9R9
CSv5O8zzGWeckSR5/etfn2TkmFefVZn6K664Isn6TincEehv8qAXK+WwVt/q/Wo3+lflpLpy86pX
vSpJ8sIXvjDJ0FPjipWT1frTZmYbjUaj0Wg0GguLyZlZUWDd6VqjOLmMv/M7v5NkMDIYBUxsZWQw
b05/wbiJBkQdhx12WJIRdZ9++ulJRlQ5FUQrtfadKEU71YW88cYbk2wdvZErVuLmm29OMlgRV+yA
38e+iSq9xi5MfUoLeWifKB5jXs+3pjdXX311khFdk6d2+V3yo1/kWhlgUSpG9uCDD04yPTNbT8vx
fNiMSy+9NMloh8/VPEXs0+yOYbaCcSJbDCwmxWoKRrba4JRnz2M3ajvrznR2jZk/5phjkgw9IL/Z
/EVMg77X1694xSuSDOYJyAtzcP311yeZts5sradd2RP2wI7kvZ588slJhpywMNjLZKzO8AUYRvKp
qxjuxcdcc801SQZzORVqNYPKzsvZwxjRIbZWGcx6oheZe20M4rvPO++8JENe+sR9p9SPZLD2lVG0
+sV+5cxjCNl5ZeC81t/ayVfyMe5rZYdu6Z/6uamg//RrtZlajQCz+ta3vnWL79Ev/lEuvdr15GLu
UlfJjHFWCC666KIk01ZDScZcQH/XEw/5TM+Fka/7enyPfOmJ6hX03xzsp3/6p5OMk9jIw4qhsb3r
zDYajUaj0Wg0lh6TM7OieiyPKNUsXnQrarzllluSDKatnr1eGStRg53I8jb222+/JCNqEnV4LVqY
ulpIkfEAACAASURBVCZijX7ksIrqMKpYhHe84x1JxvNWVsTvaXetlenzGEv5Y6JmzM0sQzMlMG+i
O8ya9lZ2QbQof62eFy/KxsDRp5XyPemh+4oajzvuuCRDXlOBXteahXYIi2L1sygWa1Rzi2fz9epZ
5HaV/uIv/uIW96IrZCNirrl1U4D8Xek1loc/oOcYR+yi/sYGze7kxaDIqcPMruR76KhVAbWKp8yJ
1M/33ntvkq1XbMhB2+ysrvlw2BmsfDLY3MpwQmXqPAsb+/jHP55keiay5nhW/aT3nle/bS9XsTJr
XtOXN7zhDUmSM888M8lgeuX+0ZcpVzJm71tPhat1d9k5m6p1cPmgWpMcM3nooYcmGfpgNctqH9+O
CXddb9WA9cJ9ay5o3ZeifdqlGobP85tsq+ad+36t1KT/raZ94AMfSDIqDtVa2lOhruawD2Oh566r
n77H3jD02mvs9b4c2bPOOivJ8DP2bJjzWF1f7fjSzGyj0Wg0Go1GY2ExOTMr8neKjlm42T3mQFUC
UWJlFjELopm649DvqZGJmRWNyuPA2Igqpo4StUM0hrH+tV/7tSSDeSMn7cXEVQYSarREbuQv2rQz
WRQtT24j6nauB6JA7BZWBzOLPRHtYWavvPLKJKPd2Iaag7vS6SX0BjthhUAutSoTU0M7RK8YYrUI
/V8U7bX21rxG7EIydEGkLNev1qXEzNE9OjU1wzT7LOyGXFSn0P/apl+xrLX6w6yeYycxLJXJwshg
c60GqBQy9a7s2WfDYtCLWnGAHLAjJ510UpKt7WB2R7f/1UoQ4DetZrn3xRdfvMXrqVFzFF3pPtlY
nbHahSnTzupTa23jww8/PEnyK7/yK0mSE044YYv78dl8NV829RhDX9krm2ETnlfOJ9+BWfc9PtB+
Ezrkd2rlGMwk/TGG09Wp96eAlSX9QR61ugH9xjy7Vr1y3ZZPScYYpL1Wj9mJXPtaUWcq8HvkwM+T
k341R9GP9GSlfVB89GmnnZZk6EmtK6vd/OlNN920xX1Wi2ZmG41Go9FoNBoLi8mZWdGL2X6t6yrf
CqMqWqq5rKJF35crKAoVJYgiXUUDL3nJS5Jsv3bczoboRc6b51GrTl6JdtWoiDxrPV7RFkZTfkvd
aekqWqq18KaGHeOeV25o3ZFbGVf/r/lJNR+qRr2iaPLC2Fs5wL7Qs6lBz2s1jnPOOSfJYNTJS35e
PRkK46x9yWCf/YY20iURMyaB7q31bO6NRK1SoN0Yes/OjlbS58pYJkPGlVnxm3UXPOaq5uDNA1jQ
973vfUnGygu2re5Ar1UfYPZ1tZm625vNkQemyaravHL/2LJ+5DvpiFW6N73pTUnGyoRd5Wynns6I
1bY7n++UE8oXkQe7wQBPXV8W6C8mkk3wtXTBquXv/d7vJdm6csz2ThmsY5Hv8RvqMM+LoQb2qsqG
FRjtr8x8Xe2FmmMKtZYzO8F08ht/+Zd/mWSM/VNXdQDtN9eiHzfccMMWr+l9PSuAnvgd9sY3Wymx
D4e9yOU25+PDrLqudXxpZrbRaDQajUajsbCYnJkF0TEGQXQi903+hF3LNUo2a69VDXweoykHVK04
zJQoYl7RcoXnxwpgEV772tcmGdEMuYguaz4OaB8mD8Mo57IyW15vFmBBPB+WUDRX9WC1UX7Na/L7
9FEemPw3LM+8gQ2VC2qlgX7Te1EwtgVrIOqeZSL9jRFgY2Qtd6rm305ZvWAl0A/9WGuAYgHqCVdQ
c2dnoZ1kjkmySqB+aq3qME9o/wc/+MEkoyrJ6173uiTDvivLVNnWWTuqPrZWcZATqtZxPV1w3mAL
mJ4Pf/jDSUY77JdQg9gV9Gutp1nz0K0Kqqgh97aeqDVv0FfPb0xhG3VlYqV9E1VX6slv/AU9UXcY
Qz0vRrbCfhQ+1VhpLK11h1c6IQxqZaJaLePyyy9PMmqcy6WeV+5wRT0F1Wv+T/9Z0bPKXdvt+8Yk
q89+j71YwcAAmwOud4WrmdlGo9FoNBqNxsJibsysHaW//Mu/nCT5i7/4iyRb18vEFomOMJhyAOWE
iRZUA5APZAedz2Fspj7/eHuQfyUPRRSNUVPzs0Y3WIaa7yKvRT4keWu3qNvnN0u0DFgT7Jjnk3dV
o8GV2MLKxNbcWPJRRcOO3c3GVGN5alWCms9Y8wX9f1v1k8kWg4LttyrA5rZVo3beqLnu2A9sATmw
+5VOxprVG3+TNRuUW+ceGIrNwqgkoz369D/9p/+UZKzknH/++UmGfmNLVmJok+Er6I7a3xjZyy67
LMnYjT17utxmAOaRXqs6Qb/VIre6YUwhC76x5u6RC3vw+3JkMVnzyhleCfTaSgx9lyuKSTOWrJQL
Wv0B/ai73cmFvWyGFZ1ZqIBTTzrDqNq3YyytNlJza8mBHVhlduqkOqr0kFw2CzDUfIjn5+fohaoH
5lzmZLXmP7n6vrHb6aQY2XqS3nrRzGyj0Wg0Go1GY2ExN2a21rZ7y1vekmTs4sc8YhYqA4V5kjuH
aZAbK28DEyva2GyMLIh2MEp2pYsK5Ugef/zxSbaOYshBtExOomXRODmttLt/s0D+0tlnn51k5L+J
BuVzYhvsoBQNYlWwLXZiirYx9qJRubObFaJb+Wf0uJ62IsqtNVLr+fLJkBndqLowr921q4Fnrfm8
dsbK+6VH7IvfqKfxJIOhxphgWMhss/qOWdTTrS688MIkg1WVE24Fi55syw9gMPmi6667LslgWOoJ
UZsNfAZfUE82wrjrZ74WQ0dnfN/7bAnzyE6mPj1yrbA6of1yezHUxgarG7XuamUi2YPfc6U3m3Vs
Ab6UjfCH9eQyqxlWe2vd3JoD6ionl5x9brPCnIlPqDnP9EO7a21vdmIOYu7B97Az7280U9/MbKPR
aDQajUZjYbHLZo+eGo1Go9FoNBqNldDMbKPRaDQajUZjYdGT2Uaj0Wg0Go3GwqIns41Go9FoNBqN
hUVPZhuNRqPRaDQaC4uezDYajUaj0Wg0FhY9mW00Go1Go9FoLCx6MttoNBqNRqPRWFj0ZLbRaDQa
jUajsbDY6cfZvv3tb1/oUxne9ra37bKRv/eud71roeXxpje9aUPl8bu/+7sLLY9/82/+zYbK46//
+q8XWh5Jcs4552yYTHbZZZeFl8cPfvCDDZPHI488svDy2H333TfUZl73utcttEze+973bqg83vnO
dy60PM4///wNlcerX/3qhZbH+9///g2Vx5//+Z8vtDx+7ud+bpvy2OmT2Z0N52E/8sgjSZKnP/3p
SZJvfOMbScY5wi94wQuSjHOEnQ+8bCegOR/7+uuvTzLOmT/qqKOSJIcddliS5Mtf/nKScf62c5WX
DfrXudOHHHJIknHONDncdNNNSYZ+POEJT5j0OaeCc7eT5MlPfnKScZa2s+ef85znJBlnaX/lK19J
knz/+9+f7Dmngv5Ohi3stttuW3zGmfbk8vnPfz7JsK1lhf6/4YYbkiTPe97zkgxbIqfdd989ydCf
ZYMz5B/72McmSfbff/8kyUEHHZQkeepTn5pkjDmf+MQnkiRf/OIXJ33OqcBfPProo0nGGHvnnXcm
Sb72ta8lGb7m5JNPTjL0Z9nADvbbb78kw1/ecsstSYbfNKbwM/Rp2UA/zEXox3333Zdk6AU/Qm5P
e9rTdui+nWbQaDQajUaj0VhYLGwoLdp54IEHkiT3339/kuQ73/lOkuRJT3pSkuRZz3pWkuTrX/96
khFNf/rTn06yPMwseWADMM+XXnppkuTCCy9Mkvzrf/2vk4xo+TOf+UyS5WVmYY899kgyGNnnP//5
SQaz/4xnPCPJ0CfymGXuFhna8cQnPvGH77GRffbZJ8lgqdnKc5/73CQjwiarZYI2JslLXvKSJMOH
YJgwLc985jOTjNWfj3zkI0mWi7HW90nygQ98IMlgWjBvxx13XJLBxO4oo7JZYWzQv9rJXs4888wk
Qy8eeuihJIOhZU/Loh/kwQ98+9vfTpJcccUVSQbzhonDxHp/r732SpI85jHLwaHRf8y81dCPf/zj
SUa/77nnnkmSt771rUmSu+66K0lyzz33JFmeOYh2mHvwnx/84AeTjLmJla4DDjggyZATOa5XP5ZD
qxqNRqPRaDQa/ySxsMys6E/+GvZAtANm/1gXeYLLBtEyJhp7dM011yQZubLajz1YFtagQpQoP2nX
XXdNMqJkzDx9wTphMJeFkYXHPe5xW70nF/Dmm29OMnIBP/ShDyVJvvWtbyVJ9t577yTLw6gkI1/r
tNNO++F7bMRVzhuWns7IlcXMLgPowiWXXPLD9/7X//pfSYbNHHPMMUkG48KmDj/88CSDkVkW8I1y
/KxkWMXha9nWU57ylCSDeVoWxg20S+6ndntfjnX9nNWPZfIfyfALxpgzzjgjSXLwwQcnSX73d383
SXL++ecnSa6++uokyYknnpgk+eQnP5lkyGvRUdthTuLKb3z3u99NMuTHjnYUy6VdjUaj0Wg0Go1/
UlhYZhYjKxr47Gc/m2TsrBUdvehFL0oycsE2KgrYbBD9YGTf8573JBl5XdpPXnJG7bxdNmBVMNHy
teSMyp39kz/5kySD2bezEpuwLAwtJnI271XfY0ze//73J0kefvjhJIO1tqpx/PHHJ1mOXbjPfvaz
kyQHHnjgD9874YQTkoz86sqwYejk1C4TVIN5xzve8cP3PvWpTyUZOdMve9nLkiRHHnlkkuGDMfjL
YivAh8iNlAPLp2CY6IfVrmXUj2TYg5Ua7cdIk5Pd/XJmjz322CRDTxadsabncqhPOumkJGOuIXea
vlx11VVJBlN78cUXJ1keRhboAz9p9ZwdWbkx3mz0vpRmZhuNRqPRaDQaC4uFY2ZFvZ/73Oe2eG1H
qTyeX/iFX0gy8lPsUr/sssuSDAZz0dkE7cc0YqhFQbXe7jnnnJNkRI1HHHFEksHcLnoOragfSyCv
DzOJuX/3u9+9xffkzGLslgXkUKPjZOQwqQRiF67PYA4wlXaxLzKwyvI/5ccmYzWHrDDRGCW5ksu0
msFe7EiXF5wMnyIXki+Rh3/uuecmGfpi1WPRfar8Ye343ve+l2Ss1vi/VQ4ytJLBty46Awnai0mj
F/yFHHL9r6b5r//6rycZqx+XX375RE+8c2EssfueXnj/ox/9aJLkzW9+c5Ihv2uvvTbJYHT55kVn
aOvz17HG3MPqp/bLta8rfuu1m2ZmG41Go9FoNBoLi4VjZkWBdcekGmavfOUrk4xagNgEUeODDz6Y
ZDCziw7MrNOJsGzyur70pS8lGXkqPodtkiNKTouOetqKftb/mGu1D8kHYztbh3UZYKWCnmCNksE4
WbXAzsuRxDxUpmqRoU1OgsPGJkNnMAhyv7yWG8h2lgHYRfnSs/nQfALmiZ5YvairQsugH8lghsiC
HvAlVgExa/QBA2XFY1lQT8BTd5k+uBpjzj777CTDp9IP/+dPFhXGCDXr5RDfeuutSYaPISe5+FYJ
//2///dJhlwX3W60AzPNDoytxhPgP1RJOfroo5OMsbmZ2Uaj0Wg0Go3GPzksHDNb85FEeWb5++67
7za/d8cddyQZjOWiR0Og9iF2QHSjaoMdyXIEyUuUiJlZ9GgZMLP1/Hhykuel5p+oEeuwbFUMQP4S
fUjGbvRaqxnIzu71ZagTacWGn8CyJVszcmwC8+C0PAzMoueXJ0Mf7r777q3+Rx/4DgwlX8uHbKuG
8SJDv9qdrX1yx9mBq1VBVUCW7aQ8/S5nXP1lzLwVHhVj1Ku26mE/wjLYSzJWaOQC85OYSHpjTCEf
tub1MlSFSYbfxMBrpxUK9mBMNsZiaOnFjurH4o9OjUaj0Wg0Go1/slgYZlYUKB9DFKCmm1p28i9q
nt91112XZERLiw7RDsYRY00+8h9Ff2eddVaSIUfMlGhy0SE6xKJgEUTR/u/UFbnX5CEfTp7XokM+
HxYAMzvLvtYIuuaKWsWQG7YMbDU2BXs0myPNZ2h/rYuJkbL6sQxQ3YUdzLKKmEd6IKcY40ZfKpO9
qKjPTw8w0Fa7MHEYe5V16n6ORWfetEMO6Le//e0kg8VX5YJ9GINr3VmM9aJXd+ArDj300CRjLsEf
sA/1dY3NfK/VYauBi34aKf3Qz/yFfUlyhvkJ9mNlB0O7Uft1mpltNBqNRqPRaCwsFoaZdUKN6LCe
iyyfSXQtChAduM7uXl5kaKf2y3uUdyKPS003UZNoCrNtJ+qio+Y7YgdEy9iTm266KcnQI9ExZpY8
Fx2iZflbWCPMfbI1I0s3yE7kTIcWGZh69s8/zLJntV4i2WFW1I9chsof9P+GG25IsnWeaDJkpf2Y
KHnHmKpFZ2SBD6lXuX2YNrbFlvheq2OLzsgCncBEa++jjz6aZDCz5HLKKackGXpTVwkXHXWlgh6o
zWzMpS8Ybf+vlYYWHexeLmzVCwy0FT37E+RW88GY3B1FM7ONRqPRaDQajYXFwjCzojyMrCgA46Je
qmhavpvTenxuWVDzkshH9CP3zbnRIFpcBnZpFqJEjHPdaS23GjMrajzggAOSDBZyWcAOMHB1hSIZ
zCwGRgSNaVHFYBlg5UY+G/uZ3UGLecFU+5+cuHvvvXeah50A2CIVGrR5Nq/xBS94QZLhYzAplZFZ
FmYW6q5qulNPOLPag5HFYC9Dbnkycob5VMyisVd75ZAaY41BckSXBdpnzGAXVvOs7NTa9nKG7VEw
Bi8LjBdVP6zyWB19/vOfn2Ss8Gz0yWfNzDYajUaj0Wg0Fhabnpm1y1bOn2jRLm1MC2ZNfg/ceOON
ScaO7EVHrWFILlg2u/WxJqJI38Ngz57BvsjAJNELUV9l4rEEGHtsknzQZcgLTQZboH31XGxRczKY
FZ8VQWNWnJ29DJDnKV+rsinJYPHJBbPw4Q9/OMnG5XZtBlxxxRVJRj4jOWBZkiEPOX6YWu8v+u50
qPWEazUPOmNs8XmM7OypessAcqjttTLBDjDYRx11VJLBONKLZdmPgZnGQMuJtY9HzrRVY2MupvKu
u+5KMsbkRUdlVI0tqlywB6uCxmRXKx0bbTfNzDYajUaj0Wg0FhY9mW00Go1Go9FoLCw2fZqBZGrL
w6h8mzUUube0YenD8rulQt9bdFhGtgRmQ5NNKtIyLBXXUlPKxvjcsqAulVsKtdHrnnvuSTLSLaQV
2NSyLEdy2nziSv8tic1u/CMzV8uKDtSwiW6RId3EUqglLv1dj/Cdfc8ymU2ky3BMqTaxB0uG0rYO
OeSQH36Wj7DMahnZ62U5nrRC//MRfKllYqk7fIuxZlk2foExs5bYctAOedAZtsbXSNdZdFQfod+V
4pLiR1/4TXJwnK+xadFRDygyN7PRzWswxip/afMtuW0UmpltNBqNRqPRaCwsNj0ziw2pUaKoQPkL
V8yTYuDLcnwt2JwgKsasYNPuu+++JKMMhs/b2IFFWBbUIxcx9Rho5VBuvvnmJFtvhHO03rJAu0W9
SnHVwxOSwcha5RAxOxJ6GUDvbRT9UQXL6+ERNrosU0ku7Mmtt96aZLQVqzjrL8mOjfC5rstSkgvT
xA5cbSrGtHmfbWEosdrLwsxa/eNL+VBl3IzBe++9d5JhU5hZxz4vC7Tz5JNPTjLGGrZkIxNmlh9R
DhKjvSyHJViR0V6bybUTI2/uYQOlz2O2NxrNzDYajUaj0Wg0FhablpkV9YsGMU5YAdESRhJzK0rG
UB544IETPfHOBQYFs4iB1k5RkahaGR2MnKiZPJcNWEU5kaJCOcUYSXrl87OliBYZWCPtqyXtlOSa
Pc4Wg4DlFzkrY7UMUJIPO1D9xOzRo2zL/6688soko/TOMkCJOvl+WBZ5sLOlDTFJhx12WJLhe5cl
VxYjy0fSBUxs1Rn2Yn/CMulFMuRRj4p3PKkxBwNd89Dr0eqLDmOIUlzsAbOo9BYf45AZ+nHbbbcl
WZ79OuyenhhrlB6zCshOzDnIT+7szjreuJnZRqPRaDQajcbCYtMysxgks/96TC0GQY6XqFrUZNfu
suxSx7RhC+yQFOX4vx2D5COa+lG7txcRdUclphVDSX/kO8rjIRdymmXmFhkYeXLB5Gs3tgALlQxd
IDsR9DIU95ZDL/9X27BH22Jm+Royk1fqs4sM+nD99dcn2ZrBl0M+y7patWAry3ZYgrbWY3kxSMYW
DB2fgqnke5clV5aOsBHsvdxxOaBsy1Hp9mdgbmd9zCJDvxszrNzUfTv0hx6wKbnGtaLQooJ+aC8/
6Vhncqn59+zJyp+xaKPRzGyj0Wg0Go1GY2GxaZlZDKtoWRQtP0d0KI8Fe3L77bcnGWzTskBOm3wu
uZDyUkSDconrLv9a+23RQR8wklgkzKx8JlUtMPVyqJetygW2TLRshym9wJrM7kAXQbOV2Rqjiw5s
gKs20htymGVd2QzZyUdfBshnwzaD2pf1qNpksNlsDFO1LDmzwEbohLqytWYzBsqVT1kW6Gf9XvPs
tVdlEFefVzFmWcAWjBkY6IsvvjjJsClVH8gP86jqxbLUl2UHcoDN0Sojj4mmH6qC7Gy/0cxso9Fo
NBqNRmNhsWmZWUyiqAaDYrZvJyU2xeflSGIolwWiHdGgKAeLhJk89thjt/i/fJ9l2WEKWBTMs/bL
55FTjMHGXMr/871lgf526gxWwBW7MpszzbYwUctS+SMZTKwccys5NZ9v9iQ8srnqqquS7Lzcrnng
gQceSDL0o576hm2xApQkBxxwwJSPODn0Nx3ArPG1VsHYlhxSubJ8yrLkzNIB7ZYjW09qwuLzuRhb
dVeXBfvvv3+S5OCDD04y5hj11Dz55uoOq7O7LLnlQM+NnSoj1SoGcmMx9pjrnVXFAJqZbTQajUaj
0WgsLDYtMysPA1PgtahR9Cxakitox+Gy5KmAXdc1N/iTn/xkkuSMM85IMphJ+Szy3JYtvwuzpL30
RHQor81reiOHclmqXEA9hYgdyHuruaLJyDfHQMzWGF10aJMce/2NmcXCYVmS4UuuvvrqJMtztnwy
WDP9r91yx+kLeSVjFYNtLVuubK3son01z7rm1GK3l4WRhVqD2aoW5k372ZYxFuO2LPsy6l4C8tDv
9mPwnz6PuXcimNWgZUE9AVC1hspY28djzMXgNzPbaDQajUaj0WisgE3HzMozwQaY9dfzwEXLGDj5
G8u2Sx3k7cgJxrTKR8FQioa8Fl0vG+gBxlpOaN1Riomru9uXDfSBHLQbu8iuyCcZuU2HH374ZM+5
s4ElkSuLPVLlAnuAhZtlZjFQGIdlgH7nJ8GKDdYEizR7Ih5Z+uysrJYBbIFsMNFW/fyfHNhUXQVZ
FhhztZ+PNQZjIqseyK1dFrAZNlH72SoHW8HwG4vsY6FPywIrd7VWt/bzseYk5mxTrXA1M9toNBqN
RqPRWFhsOmZWFLTnnnsmGbvw7aCz81r0hE2RzyJfY1kg2tMu0eKJJ56YJPnzP//zJIOJIifykGu8
rMBI0hMMvSuG2nWZ8kKTre1ADrVoWf4WOWHZkhFBL1vlj2Qwr9pLHtg1rNNsLvk999yTZGsWc5FB
DlZo+E/2YKWC/1ATMhm2smyMLNABu/Xll1966aVJkkMPPTTJYJbIcNkYWe2RL+16xBFHJBkrN8Ye
FYUwuSrHLAvIg/5b7TSmYCbNUVQxuOuuu5IMv7psMLegH3wFxt5chVy83tm5stDMbKPRaDQajUZj
YbHpmFkQFZv9Yyb32WefJCMnEmuAgVy2k78wb84DP+yww5IkL33pS5OMU4pEQxgoO1NrjcBlAVZF
no68LlUeKrtGL3x+WSGfCzNPfzCS9CIZ+aTLVtkhGTuLMa/1RMF6ek0ydikvIxO57777Jhn1ZvnT
448/PsnQAX4kWT4GEmr9Tz7T6s5FF12UZIw1cmeXrY5qBVvBRFr9kwOqnirGli3VqhCLDmMEm5Ab
KkeWXlgN42sw+MtmN9pTV3PoAR8CxxxzzBafn6oKynKP7I1Go9FoNBqNpcamY2br+b/yMY4++ugk
g2G45JJLkgwGavYkn2WCqAajIg9Fno7zolVxqFHQstWGBHKQ52ZnvmtlYmdPNlpGyGeiB1gkeW7a
P5szW3f6LxPkN8pjw6ZUJn925eLBBx9Mslwn97CTc889N8nI+wN6IZd2lqXHuM3qzDLAGCP3sdYk
x9pfdtllSYbuqMW7bKDvxhjMrLH2uOOOSzJ8Kp1iQ8tkL8kYM2+44YYkg4E++eSTkwyG1gqO6id3
3313kuVjZoH+W83iM8zNas413zpV/eHlG8UajUaj0Wg0Gv9ksOmYWRAdmdVff/31W7xvR6VoYfZk
o2UCJsnVjmtywZrYUSoXbhnzIGdRT3TCRGIPRItyZ5e1vmw9LxuLIs+LXDBws3VmsfrLBCyRPL9r
rrkmyWDb/J8fscKRjEoQy4hDDjkkSfKGN7whyWCR1CU+8MADkwy2JRkM3LICA6mSQz1V0GpfzT9f
Vqh8cuWVVybZup4qecmt9fllg362qnPrrbcmGScD8pt8DN9iFYxNLQvIAyOrrrAcYWOx6g9WB2ud
4p2NZmYbjUaj0Wg0GguLXZY92mw0Go1Go9FoLC+amW00Go1Go9FoLCx6MttoNBqNRqPRWFj0ZLbR
aDQajUajsbDoyWyj0Wg0Go1GY2HRk9lGo9FoNBqNxsKiJ7ONRqPRaDQajYVFT2YbjUaj0Wg0GguL
nsw2Go1Go9FoNBYWO/0426985SsLfSrD05/+9F028vceeeSRhZbH7rvvvqHyuPLKKxdaHqeeeuqG
yuOKK65YaHkkyWmnnbZhMnnDG96w8PL43//7f2+YPHbbbbeFl8ejjz66oTbzH//jf1xomfzbf/tv
N1Qef/zHf7zQ8njLW96yofLYZZddFloeP/jBDzZUHueee+5Cy+OCCy7Ypjx2+mR2Z+MrX/lKkuTe
e+9Nkuy9995JkptuuinJOIP9ZS97WZJxRv13v/vdSZ9zKvzYj/1jlzoX+dprr02SfPWrX02SOdlM
1AAAIABJREFUnHLKKUmSPfbYI8mQAzktG5wXveeeeyZJrrvuuiTJ7bffnmScq+1zBxxwwBavd9ll
Q/3I3DGr93fccUeScRb7IYcckiQ5/vjjkyT/8A//kCR5whOekCT5yZ/8ycmecyo4XzxJvvjFLyZJ
dt999yTJMccck2ScxU52zmz/2te+NtVjTgZ9nWx9xvpTnvKUJMnnPve5JMl9992XJPnxH//xJMnj
H//4JMtnM4997GOTDDl86lOfSpJ8/vOfT5J8/etfTzLs44gjjkiSPP3pT5/0OaeC9hpjH/e4xyUZ
9sGm2NFhhx2WJHnyk5+cZPn0o8LYqt30hz/ld7/0pS8lSZbtFFbt1c8PP/xwkuRb3/pWkjEWH3TQ
QUmSb3zjG0mSRx99dIfu22kGjUaj0Wg0Go2FxcIys3//93+fZEQ5ooDrr78+yYgOMHHPfe5zkyTn
nHNOksFULktUpP0/8RM/kWTI4X/+z/+ZZERHoul/8S/+RZLBtiwbMNT77rtvkiGXZz7zmUmS3/md
30kyWARs5NOe9rQkg5ldFmDesUlJ8r73vS/JYNjuvvvuJMOmzjvvvCRDlmS4DMwKlm1WHv7GTp5+
+ulJhu/ApPzd3/1dkuViZh/zmH/kNZ73vOf98L2jjz46SXLyyScnST7zmc8kGfpCTvfcc89kzzkl
6Lkx4sEHH0yS3HzzzUnGaiDGCfOIqX7qU5+aZIxFiw7MImaeL/3EJz6RZIwxX/jCF5KMsYUc6dEy
+I9ZYOSPPPLIJGP18xnPeMYWV3KxgnHJJZckGb5o0aFfMfQPPPBAkrGyhak3xvI59Oib3/xmkvXP
yZqZbTQajUaj0WgsLBaWmcWKYEnM+r0vF3L//fdPktx///1JkuOOOy7J8jCygD3DwMkJld/16U9/
OsmQl+joNa95TZKR37UsUfOTnvSkJIM9ohd/9Vd/lWTow/e+970kI7o+8cQTJ33OqSBavu222374
3p133plkyMBnzj333CTJd77znSTJs571rCTJt7/97WkedgKwg1lmVu6WXLeDDz44yWDpMW7LyEQ+
8YlPTJIcfvjhP3zvTW96U5Jkr732SjIYOa/JA/iaZfGtfCFdkdPHTrSz5gwD5mlZgIHW/65yaGdt
KRlMpbFpWcYW0L9ypN/4xjcmSfbZZ58kg6nHUGMqrXAsK6xgGXut5Jx99tlJhn8lD3a1o35juayt
0Wg0Go1Go/FPCgvHzGIeMWvyeP7rf/2vSUaUKCo068dAPvTQQ0nGjsNliZ4xi/K4Lr300iQjTwe7
IC/Fjmx5cZjaZYme7Zh85JFHkiQXXXRRkqEnmFrt/exnP5tksEvyfBZdHqJdcpDfloxdyBhJecNW
L5797GcnGcwCpnaRmTfPrnKB3Plk5Dj+wi/8QpKRyyXnETONceA7FrkSCP3GsvEHs+/pf1erHhg3
tmT1Z5H1IxkyceVDMUnafeihhyYZvhcTR26L7juAfvMTp512WpKhDz/7sz+bZOQU+78x2KopvVh0
/YBdd901SXLWWWclGf7TKic74T/4Gvs0lkUOYB+TOQYfu99++yUZesE+DjzwwCTJe9/73g25/3LM
5Br/n707D7b2qsoE/gRHVFBE5skACQkBMhEghCRkVoaEBAgNAoVDYWl1t11Ud1tlYaklZTWFpZRl
WV00ZXeDKJAGO4EIIZI5JCFzSGJCCJOxQRBRQEEttf+wfuzzrfsdvu8j957zvifr+efcc+4Z3r32
2mu/69nPXrvRaDQajUbjPonZMbO0sF/4wheSJHfddVeS5Oabb04ysh7ZNA2kLEg2tSmMbK3pdt55
5yUZ1Qww03RdWCWf2zQ9E+2fx0svvTTJqF5Qa/vxAzo42eSmZM1WLrBK2JVkMCZsdfzxxycZY4S2
iRZuE2xS+xmbkCQveMELkgzGAHOt3ao50A7OmZEFOk/1le0xSAazJHbUCiHar0LKpkAsxMTTmWOe
2ewlL3lJkrFbHTPLTsba3McNO1i9w6yBGKNSEKbSHGPO3hStKP8QJ8RNY8ccyw/Yx0qXqjGbED+S
YQ81//m9vRgY2VNOOSXJmG/MSfZkWOH5du2yGXd0jUaj0Wg0Go37JGbHzGJc3fXbWeyuHptQn6uB
R8ezKbXdsASYJqc5YaBq9QJaYZpS2eKmMLPaKTuklaWJXcaSsOMm1VJNBotonCzuuMZKO+lJfUQa
wMosbAL4BQ3xYp1lVRwwB8BnMFSbVF+WTtjpb7TiyVZG1pjgN5g3sXhToJ1WcerKhDHET+xeF2vN
OYurIHOG1U5aejHSqoZ2Yiat+MC9rR86Neh/dahpQsVN44YfiZ/8w/NN0Nwn415KP9MGq8998skn
Jxmxhh9g7Nnl3tqhmdlGo9FoNBqNxmwxO2YWA0mfgXGq50Pvv//+SUa2SAcoa9qUmpmyweuuuy7J
YKBlO9iTH/iBH0gy2u+kH0zmpoBujS7JCXB24lewB90OhmpTNNWyZdrpxRUJzAGGgY+wBZthZjYB
4obxbwdykhx22GFJtp7YxGbqrGL5NwHYEzrIxZPvxFRjAaMixmIu7VeYO8ME2qmyCWDk1OK1oiGG
YNw2jYk0x/AV4wNDi2HD6nu/1xcrhmwCxEdMtbhpvNST44yX66+/PslYXd4U/6iVkvgHTbE5lb9Y
FTNHb9cKxmbM2I1Go9FoNBqN+yRmw8y6e5fV2FmKLcEeYJEwsnaaYmoXdy/PGbIfrNFll12WZGgk
ZYOyZNmkGniybNnk3CE7lhVfddVVSUY94soaeZ+dp2qKssvcwc+NEywJ/ePi39rMFhgnzNsmaGax
zKqgaPsJJ5zwzfcYGxXGklWgTWCqsSTiIh8QL5KtqxOYJLHYyT7qi84ddQ4xdvh/rfxgbmEXtsM8
zR1iBg2s9hkPYoy5iIaYPYy5Zatic4X6wrV6QR0v5hz+9MEPfjDJYDLnzszqd6t+5gurvbSynrOH
swCssnt+b9HMbKPRaDQajUZjtpgNMyvbpcugDa07BjF0dpiCHYebopXFLKnVVlmjag9ZM21ctc/c
QSvLT+j4lulxZNF2WLJH3ck+V8j+MZFYlEU2ALMgc6671DEzm8DMaov4oc1qICZD+wiYBJ/B8m/C
6o4d96qaWLlZXKmpFT3qSVDqr2JmNgVOiawMmhiDwcdu8w+22xQmkp+bO6tWVt1YvmSusVoo9myK
lhozr3Y9f6jVC4D9VMO46aabkoxYNHdg6MUD/qFi0pFHHplk6PC9nxZ9u7Xlzcw2Go1Go9FoNGaL
2TCz7v5lvZjZeiqPLJIGTFawKbvTAYOIkaU7YR9ZJL2Tag5O78FIbgqwAh/72MeSJHfeeWeS5Swa
+2Ck7FDeFMj+PWINFpm3pz/96UmGj9DKYto2qX6o8YEdMA7oH5OtMYLv0ITSeG0CMLKqmhg/i5Uc
+AxmDVNp34LVj02B9moffxBr1SjHzPq/VbJNYdyAFrRqycUQczLtMDtYHdyUOrtgX4WTEWmIa/UT
48Vc/JGPfCTJuEfZFIiP5gt2OOigg5KMGGNcGR+qGGx3PN2sO7xGo9FoNBqNxn0Kk2dmZXf0anaY
yp5lA7Ihtc0wsocffniSzdHKaq+syK59tfywadgEJxzJrqv+ae6o9XPp+OhyllUxwFTTEG9KFQP9
b5zQ/9G90nklg1nAMNGRWvXAYs4Z2BHxAnuktu7u6izX+pC33357ks1g3qxk8XtsPBZuUffHDh6d
fIaRFZPnDv6POaNxNJaMEzZjq6qV3RQmkp+bQ8RWY4mdzKnsYU7iJ5uiHQb7KuqYqXWYaYYxlu97
3/uSbE6VC/cO/L+epkgrSztr7lHtQK3v7a4K08xso9FoNBqNRmO2mDwzS6dVdyODLAgTi4GULcsO
NqE2ZDKyIuwZ/Qm7yIKwCbW6w6YwkCA71r80xMtYEvaTRWLyaWjnDmyS8YKZrn6RbB0rmEhjbvG0
sLkCe2R82Hn97Gc/O8nWCgbJ1nqIWO5NsIfx4rQmesdlO7KT4TsYGKsf/GTuwKhhZI0dr4sVWH32
wFDyqU2ocpGMGGkVT3xgj1rbnV2MNczbplQxsJpx9NFHJxn7TXYXO5LhH+Zoq4SbwlTrZ3OsmEJ/
b/8JZt/7xVFxZLvr7DYz22g0Go1Go9GYLSbPzNJZYJxkObIi2Z/dyY985COTDF3LJtTIXIRsR3Zc
d2mzCwYO44iRpRXdFGBF+AUd37Kd+OyDsT/44IN3+hJXCqwSlglbxG8Wd++zHaZBBr0JWlmg39M2
bJMdyburciJmYBIwTZsAO4yd/KXv2WF3mlmrHvfcc0+SwcxuCjCRGCO2EDv5CoYWQ4+R3BStLJhT
sfaes4tVDnMt+7FDXT2dO4yRJz/5yUkGE1n3nRgvYo39LJtWh5kf1Njqnssq8LITA+3v2fbr2pFv
bTQajUaj0Wg0VoDJMrP0JXYSYwXUJquMK2ZW3VCasE2plYkxke1cdtllSQZDq500snate8RE7k4T
N0fQcWEXaYdlf1XfWKsYYKiwD3OH9sp6axWD2u5k2NCOfif2bMKY0e5ay9CJX2pGLqKeKX/XXXcl
2YxKKFhEcYBeGmO/O4a6Miv06GLO3CEmYJ4x8VYzrG4ZM+oxswuGDkM1dxj3NbZiZq36sA+mGoyb
TYgfi1DFgia0VoEBMRgzfdFFFyXZHObeeLEaTDNuv9IRRxyRZDD2xok5yfyyU9rhZmYbjUaj0Wg0
GrPFZJlZ2S6Gxd29rNDrsmPZQD35alP0f7Jl+r1bb701yWAVZIXsQedDG8c+mwLZID0SeyzT49Qq
BtgWjNXcwc/toJUV0whj7BerWXgNw8CXtnuX6TqANag7bk855ZQk37qKAZ9iy03YlY2BpRnGMhkX
tVZmsrVeplP1NoV5wzRhjGhmtduqFt+plVP4xSZUuUhGdQraUD6hfewk9rKHubhWgZg7jA2VT+o9
Bv/xyA5WkZ0cuClVLvi7OdZzc+lRRx2VZNjHnGT/xk5XlGpmttFoNBqNRqMxW0yWlqJTk+1hJGWD
sj/MI8ZJNr07DdicgZmlAZQdyaYxTbSRHu0srPqmuUPtP2yKLHgZEy9bpBlUX3ZTQIdU2VXM8zHH
HJNkMPbJ0E36zKbUQUzGuNA2jGRlnRaBQeFLmKhNADYNI+t5XZlYZKHZkEaWLn1TYIzQAIqhHp1k
JJZi4Px/03ap1xrE5hxjhZ3sWvd/c/Wm2cO9xCGHHJJkqz3qCXm1isGmaGXB3CpOihX8QWypJ+pZ
0eE/O4XNuuNrNBqNRqPRaNynMFlmls4CE0m/5q6fPgXzKIs64IADkmyOrgswi6o7yIJlRzRxmLda
1aHWxJs7MLPXXHNNkpH9VX0jf7Ezt55JvylYViPWrn3jA7uQjCoGn/3sZ5NsjrYrGYw9f3AqjeoV
tTpIMphpu/Y35dTAZOj9MLLGj7iwO52jfQs33XRTklEhY9NgrsFS22+hJrOxwz/EFKuGmwJzjFhZ
6++KHeYa8cJctCn7U0DstOqrikGtCERTjHm88MILk2yef4ilav+zxzOe8YwkW+sSu3ezwrXT9mhm
ttFoNBqNRqMxW0yOmXVXjy1yNy8rxiDIIjGRdmZj3DaJVUkG06yOKj1K3bUua8bIYiI3DfxELdBl
5z1jUTBStLKYqblDe9mDzlH7sCXeZ5wkw4dqRYw5QzvVejQunOJU+33RX3zGaXKbdHog/xcv645s
WPQBDEytnLIpwChioNkCMyvmarexVf8/dxgD1Te0jx+IMd7PfvX/mwK1661giSXaz1+MGdryTapP
vQjMs/bXE7/EGPdqn/vc55IMP9npKhfNzDYajUaj0Wg0ZovJMbMgC8KW1B2l9E2eYyI3Sfe3CKzA
7upBLkJWbWchpnbToJYf5hGLUJkmfiK7pqneNBgvKhSodoEdWKxiAJjZTWIgAVtC52c8fCsmksZr
p3fdrhLaSwfpURyp9lhkXze1igFY9au1mA899NAkw0YYJrYSYzcF2qUykJhpjhFb2QPzhpEVRzYF
7KHyyeI+g2QrQ20Osmpqrt4U1NUuq1t1X457L1UcxI9VVYVpZrbRaDQajUajMVtMjpmV/WGSZM92
FGIaMQh2mtpJt6nMLN2JOqmYplrVQBZFv7Jp9XbhxhtvTLKVNbEDlz1kkXamYi43DbLkE088Mclo
N5aAXYyXZDCym7YLORk7bT2KG1VjvNh2bPamMU3J0IVqL0aaHcSJRVZJ9QIMy6bB3GLusGrzkpe8
JMmIrVdffXWSwVBumn+InTSQ2HvxAWOLoWQXTN2mzbns4R7EGKn1VcUS/oCZtX9j08AftFvtbpVS
xA4rXObmVfnHZt7pNBqNRqPRaDTuE5gcMyvroduhT/JcFmAHXd1huCnnQlfQiMqGzjrrrCSDaXNq
kVNcNk3XBfpXXdmbb745yWAe+QPmCUONfdm0ertYBOdjq9ZAx1T1brTnydbdqZsEGmlMPGYWu8A/
Fk/pMcY2CfpWfFAz1k5tcdW4WDwFDnO5iZrqZLTPmFAvU03iylqr8Y3l3hSIIRg0DKxHscWcIm4Y
L5umEa2op5HyB3ONGvj8Y9OqOoDVPn5BY271SwzBzBonq5pfmpltNBqNRqPRaMwWk2NmZYnu+h/0
oAclGVovWRIdj/fXHYebgqrLwTCdfPLJSZIjjjgiSXLBBRfs8jm6p00De9ST4PR/Zer5D3+qu7fn
Du3hF5hILArd0u401JvIqLAHJp7ujZ/Umofsk2yu1i1JPv3pTydJzj333CRDH2rHNnZl0R6Yt01j
7rUHO4+RrDFFLLH6xUabag/a6HoCGDt59PqmzrliCP+3G1+8tJphTrntttuSDI35pvkH6Hf3XsYH
v1F/2erOqvdiNDPbaDQajUaj0ZgtJsvM0v4de+yxSZK77747ydYTrTyXTW7aKTVAAyg7xBbQvtHp
0Ehu6q79WldYlkjPg6GkHcbMqoaxacAC0LHp93p+PFbFDuRkc8dKsrV6gRMFK4OPTUmS//f//t8q
L3GlYIfrrrsuSfK7v/u7SZJXvvKVSYbf0KInw2abBjFEZRg+YDe6E8/EEMzcppz4VVHHCBhDVnkw
kbSQVjk2DeZSFXP4CYil9u9cc801SYZWdNNgvLjnsJJRT/rCZIujq9baNzPbaDQajUaj0Zgt9ttU
fUej0Wg0Go1GY/PRzGyj0Wg0Go1GY7bom9lGo9FoNBqNxmzRN7ONRqPRaDQajdmib2YbjUaj0Wg0
GrNF38w2Go1Go9FoNGaLvpltNBqNRqPRaMwWfTPbaDQajUaj0Zgt+ma20Wg0Go1GozFb9M1so9Fo
NBqNRmO2+M6d/oFf+qVf2qsjxv7mb/4mSfJXf/VXScaZ8s6L/trXvpZknBPsjHXnRT/pSU9Kkjzg
AQ9IMs4RftjDHrbL9zt3eW/xG7/xG/vt0wf2gHPPPXev7PEXf/EXSZJPfOITSZJPf/rTSca5x+zw
xS9+MUnyqU99Kkly//vfP0lywgknJEmOP/74JMM+ztN27vb97rdv+cwZZ5yxrfZ4wxvesFf2qOdh
P/GJT0ySPPaxj00yzoH+u7/7u10+993f/d27PGenu+66K0ny53/+50mGv3zHd3zHPl3/61//+m21
x7ve9a69sof+098PfehDkyQ/8iM/kmSMC+PBedrOVU+Grf7+7/9+l/fwvWrLvcXLXvaybbPJfvvt
t1f24MdHHHFEkjHuH//4xydJfvRHfzRJ8pjHPCbJiCdf/vKXv/kdNdbceeedSYZvXX/99UmGnfYW
//qv/7pt9rjnnnv2yh5OdrziiiuSJJ/5zGeSJF/4wheSDL/3PuNkcbw8/OEPT5Icd9xxSYYvPfrR
j06SfOd3/tv0IRbtLR796Edv65g5++yz98om+tHYOOigg5Ikz3zmM5MkT33qU5Mk3/u935tkzDHa
CfxDTL7kkkuSJDfccEOS5B/+4R/26frf/e53b6s9fuVXfmWv7PH1r389SfKNb3wjyZhr/uzP/ixJ
8pd/+ZdJkn/8x39MMmKw/mYX9nrEIx6RJDnggAOSJE95ylOSJN/zPd+zT9f/a7/2a9tqjxNPPHGv
7MHftefjH/94kuRLX/pSkuSOO+5IMuaK7/u+70sy2mtuEovdc7CbuLqvuOiii7bVHn/wB3+wV/Yw
L/CTG2+8MUly2223JUk+//nPJ0m+8pWvJBlxkX/o9x/8wR9Mkhx66KFJRkw23oyzvcUrX/nK3dpj
x29m9wQdrqNrsDXQwM2GSYijCVQcyyTPoBxUB00V7GBifeADH5hk2EHAOPXUU5OMgGKy8vlbb701
SXLLLbckSfbff/8k42ZewGWnqaLexLop0c/8R8BlBzf5XndzI0kyiRuA/MKEPVW4ieXPAqcJWntM
rMYTP1m8QRWE3Ag++MEPTjKCD5/TB1OEaz/xxBOTJEcddVSScaPixoudTEQ+J24kY8y5STE22Oye
e+7Z5XGK4NcXXXRRkuT8889PMvzAuBA/Tcj6fjG5ZRsxRALJlmLxvt7Mrhr1JvbJT35ykpH48Bn9
zYZiJf/XXjFZTHXTZ86asn8k4+bEHOCmRKJfb2Jr0sIeHn0PnxKTzc1i91ThJpbv33333UmGP4iH
/+2//bckYw4Sa8WLm2++Ocm42dNuY4s96j3N1FBvYrXLo3sM/W588Q/P+Y/vY986p7P/vUXLDBqN
RqPRaDQas8XamFlZTV3aIzNwV49ZPeSQQ5Ikj3vc45KM7EYW7XOf+9znkgzGQRbg+VSZWe3Rbtnf
NddckyQ5+eSTkyTPetazkoz2WhZ8whOekCR53/vet8v3PehBD0oy2CVZ9r7KLVYN/ar/MaZkBYAF
ec973pNkLAXpb9kiNkWWzd9kl/xqqsAKWZL54R/+4SRjKQwbgl2x9ElO4XMY3cXX+BpfefrTn55k
q62niGc/+9lJBrv2nOc8J8m49rokaLyIC4vjwGf4hmVS0h4s75SZN6zSu971riTJxz72sSQj3mL2
jQdsJX/iR8lglMQSzBt2V8yZKnMvhmCESHC03fVXeQ15yZVXXplkjJnnPe95ScbyKF/iF3xsqtBP
mDN2qbIBjKRl4dNPPz1JcvDBBycZUqVzzjknSXLTTTclGWNJXJmqX4B+ZQ/Xf9ppp+3ynB0wiOYK
zKW4YZwYgw95yEOSDHv6PCZ3aqhMu3sM8Y49jKsqZdPOei/n+6wEih/8qJnZRqPRaDQajcZ9Hmtj
ZjGF7tptTJLdYlRe97rXJRmaOFkPTSi9D8a16jhoxWgmpwrZMR3XVVddlWRoZLFlNKFex6YR78uS
Dj/88CQjS/Y+/6fvmjpkgVgiWZ8s8rzzzkuSXHbZZUmGJtZGnwMPPDDJ0PuxK00pRgpr43emBv4h
O+b/t99+e5IxLq6++uokQ5+FdfK5RU0k35BBG3M+e9ZZZ+3y+pSg37Bk2BNsKr/BxGP4tb8+JoOx
Y2u+gLHy/ylC3Dv33HOTDH0b9hALRadmfIi7l156aZLBNi3+/aIXvSjJsAsGqmrgpgY+wM/NFVb5
+L2Yeu211yZJ/tf/+l9JxtyBeXvUox6VZGymZdu6D2HqMHaMa3bQnzbE/fiP/3iSsT+D75hrfc5c
ItZgqreLcdsp6Dca8MMOOyzJYFTBXCqWVG21OGEV7P3vf/8ur/Mfq8ZTRd0MKmZiYDGq/Ib2nL+Y
Qz/5yU8mGTHFvYnvqYz4dqGZ2Uaj0Wg0Go3GbLE2Zrbe/WPQMI6YtJNOOinJyIbqDkxZAE2hHaay
ANkGBmKqkL1hDWTP9Egf+chHkoysVzb8J3/yJ0mG/bxOSymbxCrIqve1XMq6gAVSLoYf0Lddfvnl
SUaW7RETfcoppyQZWSQ/wFzRbNMDTlUniiXDwNJdsQNGtpZJMS6MN+MhGT7gvT7LJhirKTKzWFLx
AluGXdJurGqtXoGtW2Rmvcd3ey8Wc19LyKwSWB9MPX/HMmFNtFefWiGzsrHIlvAtfoGBtbrjs7X8
3VTAB8wVmETt0g7MnJhg9Ye+uKJWOxBTagmvqcGqJwayVvjh58bSM57xjCQjlvIN7bW/Q2ziazSl
xtG3W+JvVaiVcviL9tZqD2Ltc5/73CQjBokP/+E//IckI46y71RXMKCu3rgXATHD+DjyyCOTjMox
T3va05IkF1xwQZKx38c4rPr87daYNzPbaDQajUaj0Zgt1pZKuiunhZUFYxDoMOx4u+6665Ik733v
e3d53U47zCPtnLt/zJ5d7r5/apDlYp7pbWRLtID+b4f1v/t3/y7J0LNUBrbWyJQ9yr7oI6eGRQYx
GexAZVaxRh4xsfReNJUKNUOtlTh1VoV/YOCwBNgmekZ2M76wTtgDWXUyxoYd7HzG62w6Rbhm4wGL
6tqNm1q1Qj+LN4vsW60n6r314IkpglbcuHbtNPhWaDD62oQ9wTIuHhpSd6X7DTbb1wNGVg39hWEz
dqzmiQn+b18FhonPWA2zb8EYM17MRVONpWBVa5mOuvqQsUMLai6hLbZfQUymLbWqyj9oJqcGmt6j
jz46yZhzaaUdkmJV1D0FDbF21QOefJ7fwFRXMMB4V+XDeFB32Eqe2KKfPVrddG9ivPEbcxC7+9x2
oZnZRqPRaDQajcZssTY6StYmO8S8HXPMMUnG3TwmljbU3T9mAdOqBh7tKB2PbGlfj21dNTBsH/3o
R5OM68eo+j99iuyGRtYufayJLBPj4nWM3dRPIakaRyyJ7JY+SzapNqA6vOqPyi7V23SaEXtiIaZ+
EppsuJ7SxS70SPrbOHAUqfcvasfpJDGwlZ1brEk7Neh37BgdpBWKeqRirZ5CN7hY5WQZ82qsLB4F
PDXQ+734xS9OMtgh/o1FwoZgk+gB6eEWdcFsBPyhMthTRV3dgcraiymYI76DoRJLxFCrJJhYqySL
lSCmCGMA04pp1Oc0kF7HYIsLGEpHJPMxsYXmlh0xelOFuHfhhRcmGf2HUeTnz3/+85MgbhbuAAAg
AElEQVSMOKCWu1VAc7bYgtlnR/cg5p6pzjX8Xkx1b8FO5h5aWn5hlbRWCqr9L9bSVG937f9p3+E1
Go1Go9FoNBrfAmtjZmUnGCcM5B/8wR8kGUyB3fy1Dm09fYNep+o8aOumronULjtAPXf9dfe29jjp
SXaDscS8HHvssUlG1oipmvoJYID9wYJgUTBO9EuYejo4/oVto7lWn1UWiqWZ4o79RfAHzDwmVnuw
RlgWJ2LJgu1y95iMagUybzZhuynXZqZzpIW38uLaaYXZA6tilz/WZBF8QWzBwLHxlE/+Mh7o9Oga
sSRWcvwfu2SlS3xYZGbZ0KoZtp/vTZ2hNSb4BB+pu/fFRDETA8VWnvMH44WNjaOp71bHRGPjzSHG
OXvVyj901iqpmJPEJLFG9QP2MjanCu24+OKLd3nuFEFVHT70oQ8lGat5L3zhC5MMexp7/IsdzVnu
YdhlqqeQ8l/ttLJhXrAKLk5inG+77bYkw688+rzPsadVpGUrJ98umpltNBqNRqPRaMwWa6Mr6y7j
qleT7YIs0Ps9t1td9QPfK8uSZdSdhVODdtHlyVowSFgh+hRMrSwQi0K/hcGtO7ExkHYcThXYnnrK
EN2X11WvOOCAA5IMTSB7fvjDH06SvOc970ky/INd6OLmcq66LBnTxj/4gf/XGpDYAHq5ZDBRfINN
sPueTxEYxYsuuijJ0P/Wag52KtO98Y9vtbO4MnBsNmVNpL7ErFqhEPeMp3POOSfJ2Iug77F09H7J
iDGYWM/ZB+M51VUe16nt/LpeL6YJg6RyjLnF2LMaIAarfS2mbPeJRtuNuhsd6txDC8tu9htoN5+x
KuqkQDG41qGdOvix9mIcAXONeRZDVDvAuLKvcWJMsoN7kqlWNag1/KHWa7bqTVPtdbXttZtdMbJW
z3fqRLRmZhuNRqPRaDQas8XahaSVkZU10+dgR2Q3mEX1E08++eRd/i9LoA2UBU11B2FF1V2xh3Zg
AezApAGkCcQu1HOxMXiyr6lXMwBMY2VTquYVe4R9kTVj7uh6fA8WgX5nLieiVR2T9mNm7Sym08LU
030u7sivzBXfwUhhGKYM/uwR1ATFsnnOTuy4qPdkD8wCzZ9dul6fMirT6tHOZAy2tmATsSeLFQz8
j7aUrTD2U2VkK8RUqzketc9YEkOs1oi5VjWsFhpbfGjK9Zh3h6px1o9Vw4ihFTO8T4xRKYWO35yC
uZuqNnQZ6imJNK/GirFhLKmgxJ5ikNVD9zBi8JSrwyximfZb+zDMmFmrZPzFvZZ7Dhpkq0W+f7vv
QZqZbTQajUaj0WjMFmtnZivc3cueMQ0YSdkzZhZroL4kNkXdSZox2ffcQFeCaWWHurNYFih7lPVg
Ku1IZpft3km4KmBTnHSGmcbYs5daiFXX5nOYWVrjufpHrS+r/VgA2TPd5yJbUnXZmAZ1BKe6S/1b
AfOqDXRudFrYF9rSxZUhtsGkvP/970+S3HnnnUnmw0Quwnj5nd/5nSTDD/Q9O9ABLrIlGHpjBiMn
Ns/RHsnoc1pHj+qs0khqH5uIJZXB9765xhBacP2LaVMJg/8bO2InHbp2YzLt75irf1ihsmondoip
mEl+hLH3Phpj9yQwV//ANIsVmHrxUrULz63oiR9qv9vHQJO83f7RzGyj0Wg0Go1GY7aYDDMr+6V5
leXJgukt7E6WNckSaGQxs5i6uWhlK2T9WBB2oQXFwNInsYf307VhpmXbc9HKVmCSMG+yv7rz3klx
73znO5MMfZP3005iuueila2QJVeWzI5jbIv2Y6YXmUi2xPKzDYZmTsB60PFhme3OZyfvqys+yah8
QiPrxKM5aGWXQX3lq6++OsnWetPPe97zkozxsbhiY9XL2OIXy05KmzqMEWOHds84wEAbO3zG6gY/
qNrIqZ8uuQy1HzFnyzSvGOuTTjopyWAwxRhzFLvMDVa5ABNLTy4uWLEyp1rVUMXB6qd7Ecz/3GBV
xyNGWj9rp9fFFJWUnOZq9dPndkpLPc9R2Gg0Go1Go9FoZALMrGyZVlYWINvFzMpuTjzxxCSDUZFF
O42Frmeu2RC2wA5Z2TBGFtMqG9J+2aGsx8lPte7u3EH7u//++ycZ/Y0NwEyqo4u5V4fYaS2+Z26o
VQyME1pZrJMqDvRJ/GJRByuDdvY8dn+OwCLSadXTiNip7lBfXKkQQ9RixTjNEcb77//+7ycZcUU8
VeWAH7GDEwOTMUasfsyVkQVzjXZ55DNW8Ywhq4NiiLkJAzdXRhb7rj+x8mKIceC5MeOkL0ylOQqT
W+uTzgXGgv43x/ILDKQVLCs4Pmfuueaaa5KMVeLdnTI4B/APMcG44fe138UUdrPC556EvTzuFOY5
GhuNRqPRaDQajUyAmXWXL/ulQ5ENYAXsiJMN0/fUnYNqBM41a8aoYNDsrMbAsocdpnRe9FyYXNk2
vddcd5ZWNkV7tROzhIFy4pcsEmOHdZQtz3VnqfZiBYwfLAoWQRaMNWDHxRULulK7k+dYvYA9MLHq
ylYN+TKtrJ3XyaheoDLIHMcMBvb8889PMuIj0LWdeuqpSUbccJKe+JnMr57sMmBUzRn83D4Mq1h8
w/v5AQZqp5mlVaGy8x7tysew6ncM24//+I8n2aqBFHvm6ie0sjThqhJ4fuWVVyYZsdOKlrnEHC32
YrLnOsfQhBsHVs31t3FhbhFT+AkGnxZdtYOd9o953vE1Go1Go9FoNBqZADNL24h5lCXKHjEG6spi
VDCOzgOWNdE7zRX0KuygLiS9DuYF46iqgSwIg0nvtew0j7nA9cuSMdOYWbu0aYpvueWWJIOFwTTR
ys6RfVxE9W/jB8OmNmStBiJ7Zrdk+M5cTqbZHdQZpm9TK1R7sSPGkziDVXCaU5LceOONSbaeJjYn
YFHe+973Jhn+bsUHC4+NMk7o3RYhpmBo5op6AhhGTWzQTu/DsNE+8oda5WCuwJBhWDFn9PViidW9
5z73uUkGI2kOxsjOXUttDNT6smIDprGelMYvaIwxtHPVyoI5A8SUqn01b1jZUElG+8Wc+n07hXmP
ykaj0Wg0Go3GfRprZ2ZlebWmGSZOnUg767wuK6SxlWUvO9lK1u33MDW1ZiDmb12MJqbJaTO0wLLH
T3ziE0mSM888M8lgEWRHWAPMHLCrdskyfT97soesi24OE7xqyPrpkMD1sRPto/bLslU90K/8gx0w
nRis+nlZJjvYBU9Ht2r4fdkuZtZKhef6kZ9rDzY2GRonba5jx+uYKzbynVYB/NY6GBorN8YN9oi/
26HsGj3SnJ933nnf/C6aMO3E6tYTnvyfXbDAlfnD5K0Sl19+eZLRFtfkmsVJexT4g7rLi+NMzK3a
P2OnMlQYPv+vJ2RhhXfHAq8CYl3V2+u/umubzYw1TKX38THPq62NDz5Z9f47VW9zT+Cf+txqlnZr
j36iIdXPqnyYi/iH9tfa1+ZW4wHTZ44yJ/vcr/3ar21PQ/cSYqMYItbr91oxhx+IHfqx1ueucUT7
vM/cY5zxJ366Lv8QM40L/VPrxPIjfs5f2M29Sd234Ln2+j7+4XPs7f/mnVe+8pW7ve5mZhuNRqPR
aDQas8XamVl36+7uZSWyfo+XXHJJksH+qKNJKytbrAyb91dGTdYoi5AlYDjXpXuhY8IcyUbstJYN
28Uuq8NQyW7YQZbJrphsdnFSmtftVJQ1YoTVjluWFe0UXKdsVpZMj6PfZdXYhtNPPz3JYGbZ0edq
9Qf+h62pVQAqw8luqwY2A5O+J6aYP7/whS9Mkpxxxhnf/B+23RgzBjw3hjAR+sCY8YiJo7lbJfQ3
1q/WTTUOtMlz/u1zi6/5bP0uz+2C5wvGmLGH9VxHbWenllX2Q1wxXuq1ffSjH02ya7ULY8KYMwa0
z9gUWzB3/MH/xVIxS83nVcEYEeNcL8ZJP7KZSg/HH398ktEuPqSfa61vOuR6+iS/4j/mvGWriDsN
DJrrFOO0p8aU//2///cuz9mNXfgHJs+jcVMfqwa76tpXDRVQ6O7Nsdon5tbxjnFX29x40e/ipfby
E6tnHut4sT9mXfcg/MLcaC5kh1qznLb8937v95IM/9DfxgX/5y/iAbtYGfC8rgDtaW9HM7ONRqPR
aDQajdli7cys7EV2iGmRDbz1rW9NMrIC2bVsp+6sk935v+yg6vlky7IvLFPV+6wasjpZoGylskJ0
R7IczArmRTaDfZMdyYbYURaoHzCvfueyyy7b5f+rhn6pbCF2RXaLFcRQ1yxZ9i+blnV63e/wE4y0
7+dnajGyv9OzVoV6+go7eC6b1W7M9POf//wkySGHHPLN76q7TPmYthsbfJA+2RjDDvttY3ZRl7vT
qCe6LdP5apP/+9yP/diPffO7MAJiBpZSLDDWxA4MBiYK2AFjsUq49lqHWPv5L/9QLYWmfFFrX7Wk
lZH3aOwZS3XVQkxf12qGMcFftb2uYlXt87IqDvUELfapmnLvYxfXUfeHrBpVE2mO4N/GjjmirmbV
ah9VK6vdy7TEFV6v+yJWhRrv2MVcqt3s4vWrrroqyZhTxCDxgX/ceuutScZ4oVt/xStekWSMWdch
bqxDc5+MWIAZrgwpuO46F/Frfs8etQpIfV9FXVXb00pGM7ONRqPRaDQajdli7cwsvQrWBxvirl0d
Wc8xB94na3R3L6vCMlWdhewIM2enJvagsiyrBsbIddPvaCfG1PvoGTGomBe6HmxI1fs4/cn/MY30
MF5Xt1M/rBqyMTo9j7I8tf2wQ95PFyarll36fGWsKuPpESNdT9Tih29605u2p6F7Cf6rv2TDntMr
YV9or9/xjnckSS688MJvfhcdJUaCTdnC62xstzqbskXVE//0T//0vW7nvqKyQpUFqqwZLfHizvpa
6QMq0+Q7MA5V4+VajLVVApsiLhjPdiLX+Oh1ccPnkq3VG/S3z1amtdauxWTRs6sVvmq4Lkwj5uud
73xnkjEHeNS/lTGstYtB/xt7YoyxKTaJKfyJfX7+53/+XrdxX+D3xQirS67/SU96UpIxp7Dbbbfd
lmTMRVVL7Pu0q9ZvxUgedNBBSUY9V98vVq0adbc+v1Zfl/8a3/zh5S9/eZKxekc7yx8w3qeddlqS
rauD4kNdAfH+973vfdvVxH0CZtb8YNzWqgK1drcVvLry4FG85B/Gpef1exf1+8me6383M9toNBqN
RqPRmC3WzsxiGGUnsjXZnrtzp3DQeNWdmNgCWYBsSzYo28RIyiJkWfQuss51nfKiXqisTj3Z6667
Lsloh/bLatjB/2v2b9d2ZRb9X5aIdaMLkq2uq+6ufvD7dQel+rL+7yx6LGLdIUvng4GShfIfbAoG
lB9VTfaqTjWp4K/81yN9Vj1fXjb99re/Pcmufl19vO4qrpk1H6uPwHarhFN67DwXR/SvNlWWcXcr
MBiGqtHyWPXbgJFiT31ktWeVwHoZF0Avih0x3rFn2ra4ksVGPiM21t36Yiq/YWu+idlfpZZ6EfpL
ezCB55xzTpIR6+rube1WH1ZdZjGTv4hF/F+MwXZjlKp21vetmpnVPn5qbsDEqe3+mte8JslWjbxV
Kis4Yo4x5/18qVZ1qLHc59ZVu5t/uA6rG/odY8+f77jjjiRjDHmfVR7jwfgXF8wlNUZXptv3r+tk
RtfnnujEE09MMvZf8J+6EmF1nX+Ye/hZre/sdfdo7F8rLdVqG8vQzGyj0Wg0Go1GY7ZYOzMrO5Hl
uPt/1rOelSS5/vrrk4ysWjZXTyORBfiemmXJFjERfsf3yApl07LOY489dnsaupeQ5ct66Ihk/a4b
uyDbld3QIMuW6g5tDC8G9oYbbtjl92XR7IgZX9d59bI3DDGtIy0rVsGpIbW/6+lU7FFPhPL+qt+R
XfNT2aKsddXQPqwOrSz9kX7Gfnjcm9Nklp3kU5nIqhn9VmznToNezY5h/WmcGO+uWZt2p3/0Wq27
W08Tq3VCa8WUdY2VJDn77LOTjPGPobVi41qxHPWkQHEnGUwdzSOtn5jApj6DoeKL7CaWXnnllUmS
ww8//F61cV9Rq09g2PjCtddem2T0bz0lkH9jlIx9/V1POqtVDMQwj7WawqphjtMuTCz/57/Gjus2
pqwaVr+vVSBqtQh+4XUxqa6GrRrmRKuianLza9ep38yx7jFqBSRzNobVPQr7Gje01JUpr4z2qiE2
iK3uBaysmHtqpSXjzHjQr2KM9vsc1FM22cEcz8/cAyxDM7ONRqPRaDQajdli7cysbEY2SPNY9Wey
GO+XZdtp6DkWQFYg2wJZhyoBsmjZEr3HstpnOw3ZieuQ7XikEZQVei471v6aDcvy6H+gnk4jC6p6
St+7alS2QL9hTPU/tkR/YhWAP9DIyrp9Tnao/fzJ67UG4rpOq3E9TmQzHmjJ6RP1F5Zkd7UCq+ZV
n1eWuvqg1/lgZfFXCeP74osvTrL1VLKqia5s8iKWnYTGThgl/69jrurNscXPec5z7lUb9wVYk7PO
OivJYIewLMYFdsQKT9U5JoOBqycUGZO+i33ErFrjulZQWDWMZbZxHbVfxXxMWV3VqrXKxVRaSfao
GlGPYojvWdccUyu68A3XTRtrP4vxXevT1vHCTnzKqlHV1tYVDPbxPWqFrwpi5o033phk2Meqn/+b
O61YsIN7Cp+r/e1911xzTZKtdayNL+NH/FhXXWbtqRWCXLfrxJzW8VQ1snV/j+/DePt8fX3ZKuoy
NDPbaDQajUaj0Zgt1s7MygoxTrSrl156aZLBLLpbl/3KluhTsCIYN1kCnYXPYWR8n6ypnn6yLsiK
KvuFOdEu9pIty+7qiWY1O/Q+v1M1yLKhykKsC67b9bADjWzdIVnrjLKXrBpLUHVO9XQnLEHVOa0b
+km2e8IJJyQZJ3vRJ9WdwfV8+sW/9bkxYsxhIDAIWE6seGW/14E6/rEr/AJzT+9Z67Auap/rWMLQ
3X333UmGnh1zZfeu/2MuKt785jd/u83bZ9DI0qXqKywZRray7uLwoobWagYbYeoqc89P1qUj3xPM
Ca6ffxtLyxhj/V8Z+qpt1O9eNy6WnfC17liCURMT+LNYZ27Vn1XbW1doxIV6emLVxmKi9cc6teWL
qKu9V1xxRZKtVS6c+KU9+l0FpspcY2p9DwZfu9XtrUxurQayarg30J+uT3uNC+O+zgPiZ22Xz9e6
vmC8aPe++kczs41Go9FoNBqN2WIadFNGFgO7Y5KSrbtv94RlupN1nM6zL5D9LMO+2mFPWNfO2r2F
LK+eg17ZgD0BM7cnrPskuD2hnmuNPaiM5H0FmEWPcP7556/jctYO8QErghVaPPFsESoRbDLEuKpl
XQYM5p6A6YVljOzUsCxmin315KYKc9Se5qq5wNxiFcfqJma1wtiqMaeC/epq2bpXgfeEZf1aK6JM
Bc3MNhqNRqPRaDRmi/1qDclGo9FoNBqNRmMuaGa20Wg0Go1GozFb9M1so9FoNBqNRmO26JvZRqPR
aDQajcZs0TezjUaj0Wg0Go3Zom9mG41Go9FoNBqzRd/MNhqNRqPRaDRmi76ZbTQajUaj0WjMFn0z
22g0Go1Go9GYLfpmttFoNBqNRqMxW3znTv/AV7/61b06YuzWW29Nknz5y19OMs4xvuWWW5IkX/zi
F5MkP/zDP5xknIv893//90mSJzzhCUmS7/iO70iSHHnkkUmSY489Nknyta99LUmyryeePeABD9hv
nz6wB9xxxx17dQHf+73fm2TY44Mf/GCS5M4770wyzkVmF8/vd79/y08e/OAHJ0mOO+64JMnpp5+e
ZJw37hzqfbXHQQcdtK32uPzyy/fqAvbff/8k4/r/+q//Okly5ZVXJhn+4zxp52l/4QtfSJL87d/+
bZLkIQ95SJLkKU95SpLkqKOOSjLOrP/O79y3IXHsscduqz3e85737JU9+PPll1+eJLnpppuSJP/w
D/+QJPmLv/iLJON8cf3NP5JhC77x+Mc/PsnwHWe0L35mb/DiF79422zyile8Yq/sYRzcc889Scb4
Ofzww5MkT33qU5MkD3/4w3d5fNCDHvTN73jAAx6QZJxJ/+lPfzrJsO3tt9+eJPmnf/qnfWrDH/7h
H26bPb77u797r+yhfY973OOSJEcffXSS5IADDkiSPPCBD0yS/MiP/EiSZL/9/u0Sv/rVr37zOz7+
8Y8nST72sY8lSS666KIk4yx6frGv/vGP//iP2zpm3vjGN+6VTYxtsfKuu+5Kktxxxx1Jks985jNJ
RgypMZKNfuAHfiBJ8qhHPSrJiCV87Lu+67v26fp/8Rd/cVvt8ba3vW2v7KG95hhj6BOf+MQuz9nL
XCum3P/+908yYvIhhxySJDn00EOTJAcffHCSMSfvLV796ldvqz3ud7/77ZU99LO4aMy4l3ja056W
ZPQ7/PM//3OSEXvZ7aMf/WiS5MYbb0ySXHHFFbu8b2/xL//yL9tqj7PPPnuf7kHE1K9//etJRv+L
IWLMIx/5yCQjPnq/ceT7+IM5SrzdW7z73e/erT12/GZ2T3ATwgHqgHIT8tCHPjRJ8ld/9VdJhkEE
ls997nNJRjA28NykPPaxj93l9alCh2v3Bz7wgSTJZZddlmQ4QL055xDaz35u6jjYmWeemST5oR/6
oV0+P1W4iXWDpd1uYt/61rcmGe00cExcBp4JykTsueTITY3APFVo/yWXXJJkBEiB4/Of/3ySMfHq
Z3Zhj0WwiSD+iEc8IsnwKYnjFCFeuPE0vk2kz3ve85KMG3X9u7sbMf/jOyZrk5UYI0GaItzEHnjg
gUmSV73qVUnGhPx93/d9SUZbJSz8w2OSHHHEEUmSJz3pSUmS7//+708yEms239eb2VVDf37pS19K
Mm5eEQNiqpsMNtH/bk6NHbHU97kpNJnrg6nC9RorEhp+rd1ir7nWTS8fEYv0P4LBzQ97iLFThTnQ
vcJrXvOaJGPM8P+HPexhSYY/iAvwjW98I8lot+RY/DQns/9U4R5EssdPtIOd+Dl/cO9h/PgeyZBx
yF/Yh1/dW0w7CjUajUaj0Wg0Gt8Ca2NmMY+yFNmh59ddd12ScZePFZEVu9u3xONuX9aEwf3kJz+Z
ZDCzU4XsVzssTVx88cVJtjJPdalCFiTLlCXKkv/0T/80yVhmfMYznpFk35fVVwUskCUdzOP//b//
N0nyG7/xG0kGM8cvtB8Dxa4+j22Udcq2LY1NFVgA48MSFrZI+yz1kZfIfvnDbbfd9s3vxCyxEbaO
b2Fopgjt5t9YJWzSz/3czyUZMgP+BMbR4hKXWGNMiEmPecxjkgz7TJGZde0Y6Je97GVJkuc85zlJ
xgqWcYG511Zx0+u7+4zYJLZi4vje1KAt/NkcYgyZg7SPVO3Zz352kuS0007b5fswaxdccEGSMbf4
fkzlVKGfxEiMIx/Qfu3BzNdldbHEqqpVsj/7sz9LMsYae0ydmcUwGjP63bi3YmWM7G4VYxHs657D
92A0p8rMGt9iKoiR+v2kk05KMmJtnSesBrIXv6vM/Xavkjcz22g0Go1Go9GYLdZGy1Udxqc+9akk
g5GlZ3LXX8Xn7vJtTnjyk5+cZGQLsiFaSyzUVNkmWZFsz8Y3+i5ZkevHmmAWZZfeL5vyfV/5yleS
DHYBQyvrnBqwJWDzzRve8IYkQ+dWdUtAv4OdqVk01kCWPFV2Cfg9bTB/wXocc8wxSZKzzz47yWBd
MHWYXOMmGYwsjSzdMJafj9EXTwniAZaUv//Mz/xMkrGxzyYF8D5+sbg5RSyqqyTswC5ThPGCVbTS
UPWftW2es8ei/tXfdYOP38DM3X333dvenu2EVRurOHzH3ICRPPHEE5MM5kls5P82uvCTCy+8MMmI
QfxkqtDH5kpzJCaNXazmYGQxt3UFh0/53rqvYer7D4wNm8StYvzoj/5okhFbjftlc4nXMZHe73ll
dqcKcwx/tvpN00p/b9XPPiZ+b87F7Gs3pt49GLtbbd4uNDPbaDQajUaj0Zgt1sbMyuJkK/RMskR3
87JpWSS9BT2brMFdvrt+jIwsepm+ZSqQ3WFQZUWyHlmxrM+OSZphWRUdl+waK8HOGF6PU4X202O9
5S1vSTL8YVl2zE4eK3NLz1QZa37Fz6YGLJnyMJhX2S+2BZvCP+gCb7755iS76vrY0ljiI2wgk54i
9K/xjYl81rOelWTrCkzdcYupFoeSoREEPiUWTbmqQ9Xz1ZJs4kDVyFet+e7YI3bAVFnVEaunCm0X
S7DXz33uc5MM9t7KBL8XMy699NIkY/XG532vVUBsf10FmBq0k44cc+r6K8NcVwv5gfeJJWKo2FN3
te+ugsoUwJ9VLRAzq37c2NBuY0YMMqa8r87VVk0Xy95NEXXVW7+//OUvTzJWZMw9/N08gZE13sSH
ytBjdL2+XdrZZmYbjUaj0Wg0GrPF2phZd/EOR8CUyAae+MQnJhk6FgyTrNJudLv+ZZGyRdkl9snO
wqnWVZXtYQhlQbJdu9BljXQ+GKlzzjlnl+9jx1rzTdY4Ve0wyO7e/e53JxkMrf6rtS2xZ/RO2k8j
vKww81SrOVToR8wsfSs/15/YBrVj3/WudyVJrr322iS7ZsFsiWGq2rAp1w91jXYIixOYVm0TZ6zg
/N7v/V6SUSXkv/7X/7rH38LIYKCmCKwKf6ed5xdYZY/Gl3FSKxckW/u/1odcZLWnCGNe39O8nnLK
KUnGIQdVI2i/xjve8Y4kW1cNVYLBMFVmdqr6e7HOo+v2yFeMHXOuOZVv8DWrocYYZpsdtqt+6E7B
WLDvRLu0VzxkH/cq4oB7FLGorg5WZnvq1S7qKrb2m1Os/ulfDO5VV12VJPnjP/7jJMNeKsrwi7rn
YF8P09gTpjtbNRqNRqPRaDQae8DaqxnIhmUFBx10UJKRBcoKZEMYBDXtMFb0QDSEdCqyI9n3VNkm
dnCCk3bbaetoPbob7cTEfOQjH0kyakDWoxexKbIqdpsqtFP2pz3aUbXRL33pS/BCUwMAACAASURB
VJMM3SONLYYKan1NbMvU9W61egUWxbgwnuwsly2fe+65SYZGepGJlmljrHznlHftQ62rarzbeY5F
wQ45Kc4Khs85KSzZyhSIGVZ3psq4JUO35nQuduAv7CXOqAYiHtLBLtaZrbWrMVeV8ZwqMGFiiNih
n62G6WdM44c//OEkY9XPGLMKZiyac3yPMTZVP9F/fKCuztV+Vq2C71j9Yj+VhKx6mrOqlnaqqCfD
aaf+rPtxaKhVjsHM12O/+VOtQLOvx2CvGvzX6i9trBUM7RQPP/ShDyUZKxhWj1U9Ma/4HAbfPc52
x49p3tk1Go1Go9FoNBp7gbUxs5jFH/uxH0sy9Cc1u8HQYVIwkHRMIFs47LDDkmw9tWfZecpTgXbL
9tgDU/3xj388ydaTrDAx7CG7wjTKlmksMVhTZ2Zl/zSwVa+HJZA18qNLLrkkSXL11VcnWa6Vxfzb
yT/1U2pk9fUUH3VW6dv4t7q8lSVabCfdNZvKpI25KVe84L9WdGjNaWH9nx3OP//8JMMeP/ETP5Fk
1+oVi6xkMpgELCZGa4qoOkgsCR0btoS9xAfVUKqmdnfANH32s59NMnTZU4WYL/aJIeYK7dHPKsHY
v2G1gy9ZyWBLzCa/wMBNFdpjNY89MPBiodU9zKoxwsd8jznc6qGYKm7MhYmkkRZLMYbuHTDN/MDc
jKGv+y5qtQerZPWeZWowXswR2m+8OPnOfiXMPH9hj+c///lJhn+wD3+qq63bhWZmG41Go9FoNBqz
xdqYWVkhvQ3GECN3ww03JBnZ0GWXXZZknLoi65NVYpfs9pZ104xNHa6/7ijHFmBMZJP0OzSh2AWf
w7zQdckm7Vyfcs3MZGR1sjw7LKvGj3/Ien/3d383yXI9jizRTmy74aeumdW/al6yAyZO1nvRRRcl
GeMHe8SeZ5xxxje/U6UMjIzvnDIDCfzBeMCKYVFpZmmI6eJe9KIXJRnnsO9OH8ymPkOfP9V6mclg
6j3Spf2f//N/kgy2UXz8yZ/8ySQjPu6uvmytyYz9x8xM8WS4RWCKxIp69jwf4e9qMWOc9feBBx6Y
ZOjxzVmYN34y1VU/MGdqr/41Z6h4AtrtfT4vFlk1NHcBv5g6MytW/NEf/VGSYYd6SiBd/X/6T/8p
yZgzMNH1ZDB+I/bQXm83E7ndMJe6BzPe3Xv5v3sSq8XseOaZZyZJTjvttCSD4eUH5i7jZru15c3M
NhqNRqPRaDRmi7UX2ZSt1B1vsl1MWs0C3O1j1NSZpI/COmHgprrDtAJDUrNhGlHZs2ySPdgRA0f/
6FQT2SUGfC6ozBlGWftkeXar24FbTwir58z7PLZlsb7mlIH98aiddE1YRMASaCeGPhnMFWa2MlJT
PzVvEXUHMfYNQ6m/f+EXfiHJYA0W2ZJaD5ImzG7mKTOzy4BlEhef/vSnJ9lawUL83V0dbva45ZZb
kox9C1PfrQ6VddbP5oSqAaQJNbc4i77u6hZ72WHqTCTUcV1PgbN6Zy7hI5g18UIsZQ+rYbSnU63p
XrFshcGqRT0xbplW1lgTcz7wgQ8kGbFoynsQFlFPNBP3rH4aN+ZUc8rZZ5+9y3NzNY22ccYe272S
0cxso9FoNBqNRmO2WDszW0G3JPu5/PLLk4zdufXUElmiM9kxbE7QmiObsoi6Y9ZJWPRe2oe5xUjT
9agVZyfuXE68WgZZX90pShtY+xvzhuGld5Nl24k7dT3TMqg8QCuLJcLEqY7h1KLFOsvGDkbFd7Hh
XJiVRWCXsWb8/Wd/9meTjHGwu9NnqtbtmmuuSTK0Y3OEeKA2ptOvsGrf6hQejJ3d3vYrLFv9mAv4
hNUMemvjgE3EGrFCLLZ72+oh/5jjeElG+zGy5hLtMdewm5jiOcYRc1srrswNYqTV3he84AVJxqpm
3dfiXsScpKKOSkP8Za7jxXioNaq193Wve12Sca9hRcO4UFFGFZSd2pPRzGyj0Wg0Go1GY7aYDE0n
S5bFyBbtpMM4yYpkkSeddFKSkQVWDSQN7txQdSuyPGwRe8giaQBlzRhIdSQxMXOFk7owjnZUvulN
b0oyatdV0Mup6nDkkUfu8lhPwZkLsGa05BhJ7fX/008/PclY6Vj0AwxK3Y099V3ZuwOdI10XltkO
25e85CVJtmqwF3WOGCiVQjyfixZyEdg1O/lpZe0h4PfLdH/JaL/avTUWzw1iJY0kjWytl6uu6skn
n5xk7DuoPoZhmuvq37I51XO+gXHFvPk/phFTN3cGEtQ2f+ELX7jLc+2utfDFUf503nnnJRnjZ+pV
P5ZB/7sXw8Dzd3OoGu+LpykmY5W97j3YKca+mdlGo9FoNBqNxmyxdmYW62HHm52R6mTane11Oo3j
jz8+ycgWnRAmu5wrI0uHg2GjM3H6Rq0RWE9vwtDKJjGSc4XssNZ2fPvb355k7KyubCI7so+aiU69
wmDPDfodC4KpZ6da7cGOZK8v1oTEMMm058gwYYHsIMaGYCBf+9rXJhl24BfsuFjlRKUQsYivzQn0
bTTzdmKrLyuOii9YJvZYZF2NLaeIiUVzQ+1zY4c2mrbP2LDf4vDDD08ybGSXvlXEOfpHMmKluUS9
WL5jTtZOsZJ92NPn+cWy0xbnAqu5p556apKxD8feAmNG+9nRyta73/3uJMlNN92UZNhvbtA+sbFq
otnjp37qp5KMlQxzDAYWM2uc7bR/NDPbaDQajUaj0Zgt1s7MuounR8I0OTVDVixrpAGzw1Q2QBM2
R33bIrRHVuRMeWwR/Y3sCQNFE4mRq6fezBWYZRq/6667Lknyjne8I8ny+sEYKPag77G7e67VC7TX
ygWWid/wg+c973lJxrjBKizWOqwn9cxx97Ed6LX+9Kte9aoko4pD1YbWU2mSYVN62zlCPDjssMOS
DL+vNUErW8keakAmyYc//OEkg1mZo5Y6GTEQ60zDh5HF7lv9qTbjD5hIz+c4XpLBJIoVmFe+UVdq
MG+YS6/TUloFnas9+MchhxySZMRO+zPqmMEwumdxup4qBhjZuWqH2aPuY9Juq5tHH310krEKZHxh
ZMVkdtppzPtOp9FoNBqNRqNxn8bamVm7se0UdFcvG8AsYVbUSbRbl1bW++au29EuuhtaWfosWRMN
IKbRaSXqptbzsucKzCpW5H/8j/+RZDBqlQ3gBxgq/nHooYcm2f0Z9HMCO2CXKvP6zGc+M8nW88PZ
Q7acbD1FbI6wE52ekVb8Na95TZKt40BbMbpWgJIRc+bKQCZj/PMDzzH31f+rfhLLlIxVsrmcXLQn
YJ0xihhGGsATTjghyWDoMHL02JinOftHMlh4NZerjpqWnl3qiVeY3bp/Y64QG1VGctJbbbd2useg
FXbS19yrW4B7jVrtxpzy6le/Oslg9MVU9aidCWCcrco/mpltNBqNRqPRaMwWa2dmZQH0GRg32aPs
wKkSqhfIlmSX9E+Yy6qJpNug0cUEf+pTn0oydkHLyv0u/cyqgEnDvGGL6BsxLJhZ2bOsSU1E2SM7
sUfVR2L2/E497aWetGbn66rguvXTFVdckWQ5O4JlcFqL65Vlaz87Qq3Xi4VRv5ZdVNeg4aUfWhXo
9fSbrJg9nFrkujH22CX9vPgZNvZd1Uf8Jt22seRzrmXVvpGM9mBD7N6nf6yacf6MpXNeeDLaz4fY
oa72iFnerwZyXR3xPatEPfEPM70nrSy/pvtLBovvMx7Z1BiiLawnRHkfW69rPwM/NwZcJ02smGmV
y1zien0O+69d9ZE/sK3vwdiZ44xNsf4Xf/EXt6ehewkxwhhhH3OMVQsxlCbWo9VU46D6VJ1rau1n
7cf4WY3kq5i/VUHVClUszBXiWtXKssPVV1+dZKxguGdwb1FXvnwff9Fu/ldrxa9rvPBX/es6rYrz
C/5rrjQ/6F/2qvdk1S7GI/vxQ//3O65jGZqZbTQajUaj0WjMFmtnZmneMG/u6mVx7s5lub/5m7+Z
ZJxs5SQoui538VgD2RCWQXZc2QTZhe/x+qqZWdkMNqC+LvvVHtmKbMkpPbJLjC17YBhrDbx6pr3s
iD1oV+nKVgXXW3eKVlSWUFZ7yy23JBnskH7HYNGJ6X9Zd2Vl+B/7eP+v/Mqv3IvW7TtcL1apnnP9
3ve+N8nwEysau6sRSiuGEcG4VrZTxixTl1l7ztesevz7f//vv83W7Tv0g3Ggqkk96avq3fQvbWky
Yg3f1x4+5zewnGyLUfF/Y24dp+7pU9fkWo3/WlfWuLHSQGOeDJab7/M97cYg+c1aWcVvV533quH6
q0aW34sZYqd+d918rDL32lkrhXi/8cHnPBo/dXVoVVCLXT8a3/ar0DzSk9M+6j/MLbvVFQjtEku1
t650eN1z17NqiBkq52hPXdWpY8dY+c//+T8nGfcu7COOeDT3YGI9ilX8iF3XddKeecBKhJUm8UB1
C+26/vrrkwxmts41Va9f7/G0U9zUD2KTWLank9SamW00Go1Go9FozBZrZ2ZlrzRblVFxV15ZJFkx
RlHWLTuudTdlVb6/ag7ph+je6OBWDQy166/nQctuZcuyQDom8DntYAf2XsYa1J2H7On3Vo3LL788
SXLrrbcmWb5TtOpy2E82h53BOmo/Bh77VvVCssfKIqyraobs1a79O+64I8lgjOnQXC//0I+L/Vv1
1FUn7TvqagUWj29h6NYxZlw7tq2e9AXGOf+pLGsyYkJlnDFMYg8bai/GxecxTOuoZcxf9VVle6q+
UfuxderzLn5X7X9jyyM71Fjlt/ggTeqqgWlli6qnv/3225OMCjJ1tY/vVO3wsv5lW4/sxtbGzzqY
+2SMEdehv2hpXbeYzy60r2Kq+FDnVo/sYxzVUwjN7WBVddWwT8bv669lzCw/8jmxuDLRVUvtc5XR
r1pa9l3c37BKYGRdp9MD+U1lWPmFOVaNe/aoKxxVq679dT+I3/P+em9Y0cxso9FoNBqNRmO2WDsz
K7u58MILkwyGADBRshtaR9kLTaVsr2ZXsoTKVMkavK9qKmlEVw16E5pgrAK2yPWzh8daI1N2LYti
n3oSUtUz1Z3Ksvc97STcKXzoQx9KMvqnamPrjnzPMZU+h2XRPixJrSHIDhi8WjVhmU5sVcBunXnm
mUmGlphuCaouzzhZrCmrLTLfWoMU40ozZWzVXbeYOZn2KmElhc5Kf1Z/rn6uLfx78TWoZ5PXqg/e
X08pZMd11CNVDabGiQptca360mOylaE3RipTWb+zMlpix7pqPGOG+Lma06effvou/3//+9+fZGhG
nXyGUcIcmTu0lx9gkjBaxqq6pRg8q4Drqs9amVL9Y3UDE2eVx3Ufc8wxScYqal0FNWcaiz6H8a06
7qqpxgiuGuJXrVqwzF/FGJ+rn69xoq561lXhql+nWV2Xf5j7rDDpR4/Gg/0kYipm1qP+taru++rc
yp6+3+fYh0Z3T3NuM7ONRqPRaDQajdli7cysLLGyQ7J7jKO7dEyKbBAzg1HApsgaML4+T+chm5AN
YXoX604myXHHHXev27gvkJXJUs4444wkwx52mNZan9q9jEXR3qp7A3asuhRZ0bp2mmKk6beW6dSq
vlP2V7Nbn681EivTvSwrrozwqmG8YIFOO+20JMkLXvCCJGO8YFuwSPWc7WTYwHfxCWPJKoXntIaV
gcBYrYNZcW12Fuu3uvIC7CKO6M9kuW/V99bVgT3V2VwlaKjVYz7wwAOTDDtUe8DuXvdarWW8bIws
Y5rELv60augnY0dMq6cEejQuqj97vTJQmDnfWxlPvwvevy7mTTswpexT92m47sok18ogdXXM//V7
Xf2qfmHVUH+sGlat+KfrYI963VXjWu1S596KunJRv7/aa9UQU82l/AUjW/dWsNdLX/rSJONewYqF
cUKLLi661/PcyoDvM3487mkPQjOzjUaj0Wg0Go3ZYu3MrCyVzgbLUzVvmDbMadWh0FPIEt3N1524
PlfrsMo+ZavrqgFYqzLQEB999NFJRvYiS1qWHWIVZEWAAffILtqNoWU/zM469JCL11UZ5VrVQLv1
/94yp8uyvWWnHskm607cVYEd9E/VE9EDel+1w6LdKnNSNaDeW/XIlfU2VvdUB3AngC2u471Wq6jM
Y2VX6t/JrnraZCvj4jl71LFr7NG/rwJqPb7tbW9Lkhx88MFJRi1NrEdt/+526C9jhmplj/rZelKS
R3YRw1YFfV+1mVhsms6qIXedxoX/62f9a86CylSK1VbTXAcGdNX7M1QAqox19Ylv5RuL74dlDGVl
bKt+nT3ZZ9VVHmikMYr6ZVlFoTon1PbCsuowdRWw1t+1emY18qijjrrXbdwXuG5+yQ4qLYmL7hWs
7NXTNStD71RCr2PC62pwnW+8X0xfhmZmG41Go9FoNBqzxdqZWeciv/jFL04yTiGRFctiZS30LVUz
Wk/C8rqsAfNaa/5hhmUb3u9x1cBQy0boiZxUhKnFgrED9oN21vNanUC7MDTabedtrUe77p3IakHK
VrEB2BV2kN1X1mxZ1lzZB+3ziI1hJ1kk/8JYrxpVE1s1066/MpL1fPBFyIAxTPVsbPB6PRFJRr6n
zHknYHxov2ogxjfteV1p4feLrIC/6y5kY6mOuXriT9317vkqmVnttoL1xje+McmoH2unel1Z8LnF
ig51/wI71JPhMJTa67nd8PV0wbe+9a33qo37CqsXrgN7rX/pydlA+8TCZXVR+YPvwTzr/1qLmr0q
Y7lqZlY/uN5ay127awxZVq1i2UoFf6n2qacsihvGlTlwVbj66quTjHbzW9dlblxmjxpbqsa81irX
bvcyfo8/qUji9MqzzjrrXrdxX+AeQX+Kc8aP9pkTqwa2jhf3cnU/i3jBH40Pcxz7eN3nlsXTZmYb
jUaj0Wg0GrPF2plZd/Mnn3xyklGTz90/pkU2VHVH9XndmS2rknXKvuv71rVzsAKDLDthH+yC65bd
aj+Gue6krfou2RL7Vu1t1RhX3duqQQNKR0U/xD7apXoFlkVWrT21PmytBal+MVaAnWSf69JQV2AB
ZcP6WX86jQXzWGtKLrKtVctYmRVjqp5og2lZtlt3lXAt+lcNTNm+9rNHZd6xCMnWOob1FDi+xi6V
qV1XhYtFVAZe9RPjBQtIA69P2cMegmRo4tiI71Wm1XOMktrOGJWKVTOzxjgfYCP9e+eddyYZMa+e
olYriNBW6veqT+cXxhU7rOvUwIrqrxiwulq57IQqKxj+XzWOxoc4Ilaxa2Wo140rr7wyyWAgK1Nt
TuBHnlfmvu4pqP4lNllVNG7MXeuaYyv0v+sXO5zCSTtbq1qYo82Zvsf/a41/44Pd3Yvwl331j2Zm
G41Go9FoNBqzxdqZWZD91V3zi0zBTmAq2WFF3fFbT52p52CDLKhWMcDMVV3jsrqTU0M9heS+Dv24
Dp3qFIEVwTp5vK+iasWxph7vi9hTBRI+VE+Cw7Rhoj3OHZUJ1M5aneG+Asxp499Q6yNjaBdrlS8C
07wuNDPbaDQajUaj0Zgt9psqM9loNBqNRqPRaOwJzcw2Go1Go9FoNGaLvpltNBqNRqPRaMwWfTPb
aDQajUaj0Zgt+ma20Wg0Go1GozFb9M1so9FoNBqNRmO26JvZRqPRaDQajcZs0TezjUaj0Wg0Go3Z
om9mG41Go9FoNBqzxY6fZfqrv/qru5zK4JCGevwkONb261//epJxpNoP/uAP7vI5x7buNH71V391
v+38vre97W272ONf/uVfkoyjBf/yL/8ySfLFL34xSXL/+98/yTjG9Xu+53uSjPZ/13d9V5LVHUv7
6le/elvt8YY3vGG3/uHYXu172MMelmQc8/tP//RPSZJPfepTScYRe97vcafx+te/flvtcc455+xi
D3YwLhxfrH3s9f3f//1Jhj/9zd/8TZLkG9/4xi7vWwVe+tKXbptN9ttvv91eOLvw+3q8szhh/Gj/
X//1XycZdlkF/vVf/3Xb7PGZz3xmt/YQD8TNe+65J8kYJw984AOTjKNaxVX2ut/9VsdrPO5xj9vW
MfOqV73qWzq3tj3oQQ/y+0lGLOEbbObI31Udifz2t799W+3xy7/8y7uNqWID39e+L33pS0mSL3/5
y7u87yEPeUiS5FGPelSSEWN2Gr/+67++rfY46qijdrEHfxA73Ft4/oUvfCHJiKFiryPhPReDdhrX
Xnvttv7QW97ylt2OF/1ejwR3LyK2sIPjoY0jsWSn8drXvna39ljNHVDGgPrKV76SJPnbv/3bJOMm
5HOf+1yS4SiPeMQjdnl0bvQP/dAPJRnBmMF1xFzgegUS50I735idvG5SfuELX5gkOfTQQ5OMSUyA
MlmtcnLaDtSbLf38pCc9KckIqPzDJP3oRz86SXLnnXcmSe6+++4kw78e8IAHJJmfPQRKAcLNCD/Y
f//9k4xxIADzg4c//OFJxgTlPPnFJHCOp/8JpALoEUcckWT4iwlJcsgeHgVmSePieeJugOcE4+AT
n/hEkuRjH/tYknHTzg7wmMc8JknylKc8JcmYyNmPfZPVTdbbDf0oFj7xiU9Mkhx++OFJkoMPPjjJ
mIzFYr4h5t54441Jkk9+8pNJVkegbBeMb3Pn1772tSRjrv34xz+eZMQG7+MDbl7NwQcccECSQays
ikDZLpgDqs/XfkcU+P8jH/nIJMMuxpZ7j1Xf3G43xAhz5qc//ekkyW233ZZkJHn8w7gSgw866KAk
Y07iL+yyKsxrhm80Go1Go9FoNBawstQK04gJkQ16/OpXv5pkK9Mgqz7ssMOSjLv9ytR67nHqkN39
+Z//eZKR5ZERyKKxB/A//+f/TDLs8hM/8RNJBhPncxi9RaZlysCOPPjBD04y2ifLkw1i8vmT/sY4
8QcMraySXVe1FHJv4TqrzKb2s/Gin+sSmfc/+clPTjKy7mTYcA4MrfZh157znOckSZ7whCckGf3P
f7Bo4stnP/vZJIN9sYSK8U7G8jLbThnGyw033JAkueqqq5Ikt956a5LR/+zBf7z++c9/Pkly5JFH
Jhn242/JYOZWzbB8u8DIGjsYxKOOOipJ8rSnPS3JkBtg6jBq2otxEnvY+Oabb04yGKypQ2zEvImd
mGYMLX9nP+8XW3xPXU3FcPOtqcN16mexwPI5ZpG/L8aGxdfJVOCuu+5KMsbkXFYB9fPf/d3fJRnt
4Odip3mCP5gvxBCrXPzJXMOeq5KnzMPqjUaj0Wg0Go3GbrAyZhYj4C5eNoCRlCXQp8ievf/CCy9M
MnQ7GBoMZ93gINuaKuuEGZItXnvttUlGdvwf/+N/TDKymg984ANJRtbEnm95y1uSJM997nOTDMYK
M8W+tJZT1/W4Xv3mumk/6XguuOCCJEMLick94YQTkmzVlNoohoVg16naQ/9hJGW9GDjZMsaRP3g/
LfFDH/rQJINFYZdkq350yppAuqxnPOMZSZKnP/3pSQYzi4E2/rEk2DntxrphIWiqF//mK1juKcYQ
Wntx45JLLkky4iF2CKtWV2r0/Yc//OEkyVOf+tRdHpPhD+xCIznVMQOu25xStZ1iDKZJe/iOR7pi
c5FVsuuvvz7JYK6mul9Du/U5PxZL+QrGsW4qNUfzoarDFkuNzXVpJfcWYqaxccoppyQZc7FY4f80
0+xQ71mMQavG4obXp64p5vf8171H3XTMHh7r6jiG1uo6/8Lku2dj552KH83MNhqNRqPRaDRmi5Wl
Du7G3d3Lnh/72McmGdnNcccdl2RkP5deemmSwUjKlmghTz311F1+BxOHTZAtTI1dke1j1LAB9Cay
ZOwBbexLXvKSJMlv/dZvJRmMHbtg2V7wghckGVpRdmCXqbEr2vn4xz8+yWCsZY3XXXddkuT3f//3
kwxWBOtAB0YH9eIXv3iX76Fz4jeyR/0wNXtoNw2k7Fc7r7nmmiTDDtgSDBwWCSPr81iUZGgIfYZm
dIoMrX52/VX/iMHn71gRfqWN/k9bjblOxhj0XdUuUwK/wMiKI65d+7En4kTd0Y2N+chHPpJkjIsk
OeaYY5KM2Gn1a1Vl7/YVrhMjVPXjtfTWTTfdlGQwdlj/k046KcnWUl5WczxeffXVScaYnNocYy6k
hxYrbr/99iRjNcNc8exnPzvJYN6sBv7xH/9xksHmsxffMcbEIDF8ajFVBSCrmOzDX8yR+v9lL3tZ
kuTiiy9Okrzzne9MMsaSSirmXqvKYi+mdqowjq3i2c8k7vEDfiJW1hUscwum3hzMT6yeqkzk97Yb
zcw2Go1Go9FoNGaLlTGz7t4xAphY2az6qccff3ySwTDWot+YWv8///zzk4ysUhYtq5gqQ1uzGezB
HXfckWRoQDHXskiswH/5L/8lSXLeeeclST760Y8mGWwEjbEsE2MzVYa2HgKh3fRHNLJ24+tfOhwa
afZ861vfmmRoaDGU3o/5nCpDK5vVX6ozYIFk0XRc/LruQPZ5VTP4XTKYmmOPPTbJGDtTZGjprvSj
XfravewwCc/FD8ys8bS4Y7myu77Td9EnTwHiH/YDq+xwEX6g/fzcCpe+xiLxf1VkkjGmMFlYXTFo
apVSMGzajjkUQ7RVTep3vOMdSUbMvPzyy5MMG7zyla9MMmpc01tjcGusmBpDy5/5RtUK82+6c/st
fM5Yw+yec845Sca+BbFHTKn2mBpDW6sZ6HerHD/90z+dZPiJMSb2vPa1r00ymOo/+qM/SjJWAc1N
GOpDDjkkyaj9PLUqB/rFvQD/MPeICbTjGHxzM+34Bz/4wV2eG4f14JaqUTeutgvTsm6j0Wg0Go1G
o7EPWBkzS6OGOZO9YljcpcsOMEmyO1k2LRgNJbaE5ktWRFOHmcC2rPIYy28FtQ9lbXQ3smH2wMDZ
SYppxEzStck2ZUmyZt9vlzJ7YO7YZd1wPRhT7QV+o8ahnacHHnhgkpE9qwmpnVdeeWWSwc7Y1V53
mmKhsBjrRq1ZiIHDguh/7ag1M+sxycbJYg1VNqaFe/7zn59kMFCYiynsXItR/gAAIABJREFU1qYl
d23a7doqi6zd9ehK/k7ftlgDsb6nMin6wCrKOmF8170IxgU/Fl8x+1g17LvvwUJhYZKhDaTPPvro
o5MM5k5MnsrudSw7LZ9+ovXDxrMZXzImaGjFXK//1E/9VJIxF5nLVNTxO7VKwLpRqxK4TuOaXepR
6uzId+zT8Pof/uEfJhlzltUffmHFh518z7pRT3rjB64b42qOMKb0M8b27LPPTjKY19e//vW7PGdX
c47P86+pMNWYV8yse6PK3Ot3DL6VCePBaif7/Omf/mmSrXOWexHf63drPd9vF83MNhqNRqPRaDRm
i5Uxs+7GZfP1bpyOyaOdophaGtJnPetZSUaWhRWQDdfzlWlGMTdTYWbZQ1ZYX6c3cX42ZlXWI/vD
BtCvyZ5k3/V36FkWT/qZErBislf+gCXxfxprbJHX7TDlP7JFjC57yir5BZZmKtCvdFi0kPR8WAOs
h36nhfQ+KxyY58Xd6jROfMXYMGbqjvh1wrXxc+yB7F+cwEjWU3n0N38QHxZZI7ttfQdGy3sr47dO
0GdiljGqGGf+jjVZrKebjL73PeLEInNv9zcbGjt8UUyZikaUj2iDse36xTzt4t9Yar6kn6+44ook
Y39HrQ1uDsPk0SNPhZk1R2BItY9fG0vaj3HFTNt1LrYYQ1Y9MbnebwzCFOLGIsRGqzxvf/vbkyQX
XXRRkuQVr3hFktGvVn/tP3n1q1+dZPiBurpvfOMbkyS/8Au/kGSsurpnwQTX1dZ1w/jF0BrHmHb3
asYThvVd73pXkjEHmT/Y16PVoDr3GF/8qpnZRqPRaDQajcZ9HitjZjEismfZvezN7nNMqyxA9oCh
oo2UZcsqMHP1xCQMjaxIVirrWBerIEuWlcheaH+dcETPxD6yJLXfMDEYV/aTXWFgsE76oZ4UhH1a
l54He8IOmCQMEztgVeiQPPochskOfXU47Vh14hH9juwQq8CP2GNdO1Axj9Vfq0ZW3dXXve51SYbf
qIrxnve8J0ly2WWXJRn2TLbq0/0Wltp3+c11jpl6SpFrr1VKvI/f1yoZtVboot4TS+s1PqUv6NnF
Fr+9Dk2xuMcPxD3t1VfYVOwhNkn7rQDR9y36h++s9XetfmHo+Me6TwirTJK21FPQ7MZmO7vR/R9z
RvtprqknJPEpOmWxyRwnxvrcqlF198a1vnf92ktPLXa4bj6jqgF7LLL4i9BuccXv8Nl1aayNY+PW
WBE7MKmYQ7XcxQVz7Jve9KZd3q89b37zm3d5xODyt7oHgR+ta7wY1+Y8cyy7YPTtt/jN3/zNJOPe
xbjSv/W0Tv6jvezv3o6fuQcy53+7c24zs41Go9FoNBqN2WJlzCwdhazN3TlmDNvh7p0eB2NA/0OH
gWHEuFbGRjaAgZN1gCxV9iDLWBXrhAXA9mDBaB1pZGUp6uvS42gnlgTTjcFmN9ngb//2bydJnvnM
ZybZWr9WtloZ7lVljX5Hti87xqy7PiwBPRc7aKfs2ev0blhHLAqtID/C8PITv1+rYazKHrJc40G2
i/3ip9VfvV//8SO6Lbq+ZOtZ62ysZrG6k1ZDMFU0o6tknPRfrSFaqxWwh/7kB/ymZv2L/Vlr0qqU
gaE1pjyyA+aC760ihtD90fVpP12jvhJPatz1fuyMNi7uKcCsYaa8R4wRM+vJRxgWjNWqxkzVBdOC
sgFm0HVX3Tlb0MSKMXzP5zBXbGguOe2005IMv7EaZNc/v1kVk88/XZ9VHHOi2uzGt9ggHvAF7L3v
q7pzdmQfMfyWW25JMuzPnnx31UxtrQRjDjZHWBUVO170ohclGRVxvN9cqsqFOUWs+Zmf+ZkkowqI
cWPO9Vy8YL9VrwLW1apaT9k9iXsuc7FYYr4wvuu+KOPEY9XOsjc7iF1VS7u38aOZ2Uaj0Wg0Go3G
bLEyZlYWQGeFOZKt0XRde+21SbbWk5QtY2bofOpJUJXZkz3IimVhmCrZBH2I7GGnTz+i58I4O/lM
VkLziS146UtfmmQwhJhr7ZEteT/7eJ/PYQne+973JklOPvnkJGMHu+yQ3Xxfrcu63eAf+g87UJk4
/YORlu1irvWn7E9Wp39lodgR7JMagbLyWj3AygH2Z6fPp68aZlm/9tUd5u9///uTjJ2m+h3YcZF5
qxk0H/FbmBW2s7pirGG+fOdOMpL0fPUEOL9ZT/hyrfzJ/+uKw+6yft+BsROz2Jx9jGHfLabUk4B2
AlgUflrPTefXWA/t5MdVS+xxkTW02qGiiJjALnTYmFmrPuzDb6wyrIp50h/aWk9HxFqLHWyjn801
lamvp+zVMaq9tbIE5k7sxdiKZTuFWk3APgv9pPKLRxpGMYY2kt34TF0l0r/e7//ej9muWmZMnP0c
tbLPdsP1Yagx0phmfm21VH+7Pqtc+rNWDNHf4qLPYzT9jrHq973fPcqqtLT6RT9iYvXTqaeemmTE
kve9731Jhp9UjW1duah7LLwujngUL9yzYdBpksXyPdXEb2a20Wg0Go1GozFbrIyZlc1ixmQdsjM1
3DCBGAbZUj1dBSPhe+oJTl6nA7rqqquSDPbkuOOO2+3nZaU7XY9WtiubqTsEsWKY18okYpiWaX1r
9iPbwmjKCumnsC+vetWrkgzmZyfZpUXIDmsWT+uIVdC/2uW8cNpBfoJNwZ74fv1a6w7TN8n+sAR+
X5a5qhqS/LDWDdUO/5fV8m/+UXcaY8UWmbeq3WMLjxgEY5bt+Q5mC9Ol73YCdHvGM5aDH2DFxA12
svKjPyvb8a3YZDbjS5gZPkIr67nVJL+Bod0JYIus4IgHwD6uHevjfdotjtIvLvqN/uQnYpT3Yn09
ikVWN+pJajt92iC23j4Az61Sif0eL7744iTJeeedl2TsR+BDxn7V/vEpDJ9d/t5vnGDsPGd7sQTD
tVMwNowd/kmzimHERJ955plJhlbe+OfP7FhPjxQvxF52VZ+VvavG3vfqJ/cCOwV2qAyw+FYrfZhz
xDvXSTus/ZhE9ypnnXVWkjE2VdARu8Rs9mRn7TdH72Q8Xfx+saHawWrlKaeckmS0372ClQ/9zg/c
S2mn131ejOEX7Mlffb6233yzDM3MNhqNRqPRaDRmi76ZbTQajUaj0WjMFiuTGViiQTWjmG+66aYk
Y1mM2PflL395krGUo4xDpfpR45Ywbr/99iSj9JLlR+Jiy/t/8id/kmQsLVlCtBS0XUes7Qko9bqB
jczAUoaNSJaKXC/5hutlF8uI2uN3brjhhiRjKchSqKU1sgOft8xdjyrcbpAD8BNLMJaLLatqp6U9
SxOWfF1nFZvXEk51SZ2cwpIRv7PUYkmMPS2t7hQshVkS9LvaaamPX1sCNg6q+H5vNmdZTrZs9KEP
fSjJWPZSyseGBsvJll13UpIiXjgMwdKcfiXHqYeHWHLW/roJaW9kBiQdlmOVXvLc/8WeZb+1nbCk
ecYZZyQZcdTS3DHHHJNkjOdlG1qr1GTxmGux1Xd6JLUxJsRsy7jGHB+2XFulENsNMcRypH4Q28RS
Uhz+qj11EymbuW79WTeA2bxsedmmWuOCTY3leiDKTkFsI2fgr2Qi5gJjRTv933IzO+rHukGp9qsj
50888cQkyX//7/89ydj4Zo6r8hN23ymQatkca650NLoYo1/0q3bXOKf9/KSOd/ce5hIlrsQuMUs8
tZm3jqedgrmSPcwZYot+1y/mQo/uDdhN+8kWfJ49za1iFWmgezXvc4/GzlUquAzNzDYajUaj0Wg0
ZouVMbP12EnPldyRvcoSMLFYItkBVqQytLKKeqTgueeemyS54IILkoxsSdaDmfR55Sm8b6eAWatZ
rt/FxBKPu07MpPIqmBV2rcexyvJkl8qO1KM7r7jiiiQjy2J32ehOox6ZKmv0SBwvW1ZOBkPNDtgg
/Y8F8X/f///Zu/Og2a6qfPwPgoIyDzIr8wxhTsgECQmZhSRgTCKjZYhTOZSI0x9CWd9CS8sSVKTU
YghDMBIgMSRkTgiBhATCTJgEBNQwyugE+vvD34fdd923770J79vn9HU9//Tt93afPnvttdc+69nP
XpsdZZP16Essgr9jKyprs1XQnzaPKFOCkSbK5xeyW0yc9+zHDhsxkf7GRrUEFV+UMWOYsMJHHXVU
kuFTWwH9gD3Tb9hD7NDee++dZHs2UJv4+0YHPlRGtTICfIsPeM9nfA7ztJVMpJUW8cK4cM9YDpvz
sCX8XlzAWlY7JsNmmKNa7o+djLW6imF1CYyhrYIxqS2YIzGxbg70/2KL1Q1zjw079ZAF7cMcGWuY
TqsHz33uc5MMZs59WWXCEG8Varm1uvokVihdZoyxA4bVmDJ38PvK6tcNolYRbTI89dRTkyQXXXTR
Nr/jlY9uFWopQvfPr/0dk63falzzDFLL/rm+VVYx23XM2Q5h+K3f+q0k25dM4xc26G0V+IO4bo4w
XjCo/Frs9exmVRvTrCQde7GvmGJlwGqSZw4bMD3r1M3r4s/iqtFGaGa20Wg0Go1Go7G2WBkzW8u7
yI5lRZhSjIOsURYre6ZLwxhiEl0fU4uBqYWOHRYAPi8bkmXJrrYKWKBaAkx2W7WcSi/J8hydSNck
S5QV1ZJj2lmPbHRYg+yMjoWep97vVsH98ot6ZGRly9gFS0CfJQvkV5UdY1fsGj+qJdH4j2wVA4pd
2uoC8Owt26/skn63koBFVTbliiuuSDLYFiwqP1gEm/Ch6ntg7GKsXNs9OthjK+A36mEQSshhdWhm
65GctewOf1scf1ULiQngK8aOvq8aWr7oHrbyoBHxDgOLBTPe6fN8jp9bcXHv4hy7LO4VqDpz7WMf
7aQ5Vd4Ok1dLQ/ktB8NsNuqhBnU/hZjy6Ec/epv73HPPPZOM9hpDF1xwQZLRLmOsaofrMcennHJK
ktH+3/u930sy5iA2xmRtFeoxo1APzKDVtBqlXZdcckmSwfpjGpW1ZN+qscX6+7tVNDFW3KDFr6tw
Ww3+bJ+OQwuMGf2vtBj/sPIA/B8zL+awFz+rq8mYzFe+8pVJkl/7tV9LMvzM72z1oRpiw7LfsSKH
GfUMYp7wrGA13N8xtvzOuNJ+serwww9PMlaXjF+HsbiecWUOW4ZmZhuNRqPRaDQaa4uVMbPLILvz
VE7P47Uyt1X7Zne37NtTvvdYJNkSxlHWQC+EhZGVKgi8atAbYVJkt9qpfY5G1M5lOyur9tf3MFqY
bf1gJzD7Y8Rl3VNBu+r9YiyrxpU92A9DW3eiykoxns961rOSbJ8FvvWtb00ydEP8adXACmFTaiF2
rIP20NgeffTRSQa7mmyv9cRo8RFMgVWLqjs2VmiqME6Kr68Cxq0VCYwjf8W20I4a17J9Oq1ksNbG
hlUh2sEDDjhgm2tXBtc9WA1a1QEbi8AyqVZC/0e3iI3CstGN1iN7kxFDMO5isaOT3/zmNycZYw6T
gqmqRz9b/Vk1/D7ft+on1vF794tJ4ytVf+57/AVzZU6xemB1xKuYbu7a6n0Zy1B10xhjrH2tjKJf
MZHiAb/H4InRYg7m2WqiuYQvimHsxv6rhhiKYXz605+eZIwdDGpdXRYHxFGrPOLhOeeck2RUFvnV
X/3VJEMja7/QU5/61CSDodUfq9qvUmFu1b91jhRLPSPwCysRxoW5V0z2yt71mHSMLsa+Vr3Y2T6V
ZmYbjUaj0Wg0GmuL2TCzdFRYorrbFiNnp2ndUSnbxbjUbNuOOdmDbNAOTdkHxm4qZtb9yfbsHD/s
sMOSJC960YuSjCyXZhILhOGuO1m1TzZ12WWXbXN92RYWQhYli54qS6w7IvmH7Fi7MezYMf2uPzGa
+r3WoORv/FDtQbo5TK3fYadVQz9iT2XFxkPVb2nf0572tCSD+V/8LkaBJhSTYhXDrlMMDIaOr4Jd
3KuE8c7fsUL8QFZfj+DkT4s7ZDFqGGm7efW979CrYxbEnlqbmk+tEsaF+KX9VnYwsOKpv+v7xRUY
tuEnNK9HHnlkksFA1eM3aQ4xmFUHv2oYM2wi1mGxxQJjxFjCFLFh9QexhKayzi1iplUcvyMm8clV
Q1/X6gT8V9UB410swchiqPl3PWaUnexvwdDxOUy2fjEmt7raxTJYiTGu9Rf/xzTyX3OudlhxwGSL
B1Y/+MXLX/7yJKMesfaKO//v//2/JNvXq141xFIMsdUbscL+Ef5r3JuT+L95xDOE/tff+l8Mp5U1
p1fNflczaDQajUaj0WjstpicmfWUjiH0SiNLNyEr8NSuVl3VRMqefM6r35FFYVXoeuwgxBRPxSLQ
n7kP2Z2sWXYiO37pS1+aZLRLtiy7wlDLxv3dK6YWO4fZ8v+yxq0+nWUZqk7JTlBZnXb7HPaF7g2j
XbXZIJt2ff3O/7CTqmD4f/64avBj2kdZvKxXlus+fQ5bst9++33vWk7wYgM25GsqXWAqXv3qVycZ
TE09GapWGlgF+CU2RD9bWeAv7tn4wUbZaZ2MdmJiaNswTxicWru4nqCEUZiCacK20fm+5S1vSTLY
SPZhF6yH094W2WUxgy+JxV4xM1W3b2zWE5OmWt3RH/pHrLPKoh/NBWKHXdd279udvqxms7FZazv7
u3HC5pjOrarusAxiHYbZ3HfggQduc39inhhrRcZ7jLx+B3bhN8aaVSJ+Y47RftUlVg0x00qD+7aK
hVn8kz/5kyTJm970piSDyXf/4obVMXMrxrJWcPrN3/zNJMkRRxyRZOj3rYBs9SmTy1BPZtN+MYX/
0IKLB55dVMFQ7cB16r6eesKeccOOxqVnNfF36X1fr1Y2Go1Go9FoNBozwuTMLGbFU7usQJaM7bHz
kV7D7nLZs6d32XDNFrEHtUakbMPOZYwcvdCqgTmhs5HtOPEJ80LLWbVw9I3sJOvBOtG/YOzstKSV
c11MH92M7HrV0F9e9Q89DobJqSrsgQ3Sr1gh/c4/2BtLIEuXPcuq7Wyt+sFVozL22utVf2PHjB8s
lGw6Sfbff/8kwycwKnXHPwZJRm7Xc2XmpljNwLLRaWKL+AW/4b9YFKzrokYUw4AhqNUK9DmGybUr
s11Pb1slsBcHHXRQktHf/EDf1dOyxGF+n2xfoxm7KyaxkzFlzGG0at3ejU5dWwX0g/4T2/iOihcv
fOELkyS/8zu/k2QwtL4vZoIYor+rDl+swGSyHzthrlTJWBXMLcaKsYGhVY2DT9Ay6kdjjf0qM4+B
9Kq9xgs7islOELQPZNWweqsCiP6zKudZ4MlPfnKSUdHGq+oYdRe/GP0Lv/ALScaqs3bWUyfZw+qq
uW7VEBvECv7BT2vdbdphr+xg/qhzuJUsrzVOGkf1xDwricvQzGyj0Wg0Go1GY20xOTMre/WULpuT
7cvyZcmvetWrkmyfDWFVKkvi6V62owamLAmzW2v/1XOnVwXZrixXVoiR9f90NnbcyoLqTkPsiOxY
Vq6dVafi77SErjuVZpY/6A/twtRjljHTGElMrfqz7IS54l/YRu/Zz07nypCzz1ae7rQjyJqxhXZS
G0fYHv5cmcs//MM//N61aGDZRB/T0tH4aXvVV4PfmoK9d2+qnOgf9hE/sEHuFctED5YMthYzUJkD
Y7KeDlcrhmA0aOcWdcpbDf4s3p100klJkj/7sz9LMuJJPc1LGxb7Ftvvs/rfZ9m0suAYPvb0uVrt
YVXQT3yCBlpbtfOqq65Kkvzu7/5uknGqoPqjVqlcp9a/1O/s5HpWNurcstWnCC4DDaP2W3XCSOo/
ccHcg8G0eoeJEyurNtnY0u+YTsylccVXp5pzQT9qn2eDgw8+OMmYI63unHbaaUmSX/7lX04y9puw
k3arrCK+WvkyLtjJM41Xc9hv//Zvb1obdwX8woqC/rSKhVk+7rjjkox54uyzz04y5lyxqD7j6Wd+
KL4YH2JS9RvjbxmamW00Go1Go9ForC0mZ2ahnr4jm6Xns6P0D/7gD5IMHQ+9U9Vnyb5lE7JAupTK
SGDkZOmYv6kgO8IY2o0uS6KBkxVj6DBRGEXskHZjj1y/7ijEgMvKZJX+PhX0F4ZZf9ME8g/sgCy4
nlL1/ve/P8n2O5Grro9dai1ITL9ag1OB3xov9K/6t+raZM/YlGQwsFWvDmxQVzuqNs7YMlanADbM
+eGy/KprNZ6wBIu1C2ut6eoj9X1l5rDExs5UtYiTsVJlXLg3VWD4h79XxjoZMVT7MEi1KoDv8kUM
VY0tW33W/M5QT6gyJoxxTJJ9BxgmDFGtx8rf2Zo96qvxIXZgmDBTU8Hvi5FWddiD5pNm0edVHRCL
a71qdgV25yc1RvveFNVQFiFGYNhf8YpXJBn3J8Zacfirv/qrJNuvitrPwT7mUHYxR/t8rUjEP71O
Be2mMddv/Fks9WxgNZc23FzrpDOoewrMIzTttUpMXUVfhmZmG41Go9FoNBpri9kws57GPdXTZcjW
zj///CRjR5vskHaU9rPWRKw7bTE2snAMr128tQrAVJC9yHpld7Jm2aCsWj1J7IjveU+no30YKQxu
1YBiZbAP9bSnVQNbVk8PwSRhXrEJsn7MNbvRDGo/Rs91KusoG+QP9F1T6f+Af2CoZcf83U5bWTE7
LLJjvgt1V3J9ZQOvbMDmdMlTwL2ru8tPxAGsivghDiyyY1ULCRgCsUUsqafq2X1sl/hZZ52VJHnB
C17wfbbu+kM8xaqceOKJSQa7ioWrp5v5fDI0lNrJX2hk9T9b8j2xCQNZtYFTwZjRnlpb3NxjLtEO
jJn2+7yxJdbwG//v1fgRS3wOAzgV3Jd+5sfmFHOF+1ZnF4MmZtLAVs2rsVc15ezod8zxPj8X8IPf
//3fT5L85E/+ZJKxKqcuLD/H2PIb48LJiNpHo8zexhFm0yqsUzqngn6zas5v69ynvZ4VaKwxquzI
37Tb9Tyr1NMaxWMM7mJs2gjNzDYajUaj0Wg01hazYWZBNoBBk93Qmzg3XbYvy5MtyJLpmzCumBsa
W3+nC5G1+/5UdUQr3Bdtm/vDnGp/1WnJln1PVuR7tUZkZSQBezCXrNl9yta0X1anXzFNdp7K9tTb
pY32nt1cD1tRa+otq403FSrbZFwcffTRScYKBq0sHVMyMuSqo3ZNNqw1eTFztHRWUXZ2QssqIH5g
Q/SzdqtfvddeeyUZ+rZkrH7wpaqrZyevmAL6emwn3S5ma0q4d8w89ocd6Hr9Py1tMmKIVSwMHf+o
dUSNHbv/a+WQqXerg/u32oRREvO1V7vq+3qCUWWqtFeMMBeJHWJprYU+FdwH/xcH+DUf4d/mEJ8X
c8RKc22telLthpEznqY68WoZxAH7Tc4888wkg5GttelrRRDPLFYkMLJWsviFOCJumHNrXeOpYLxg
YLXLfMCf3bdxZByYe40Tr+IFP+IX9ZnGygiGeBmamW00Go1Go9ForC1mx8xW1KdxbABWCXMre8Qm
eLqnFaW/kGVXJrZqJueKysBWfV89/5q9sALYhfr/7IGxlV3XHdxzw+Lu62T7+9UOdsHGOOVGNolF
qXat9pu7f9RTuGTJXhfPPzcWZL6VcWQzNsDIViZmzjbRFq9OQnvd616XZLBMyWAIVECxmxjzUGsO
W+URY4ydOY8ZfQ7aiJ1UWzUZq2P6v2rnqq4cU1Nj0lwY2WUQEwFz5L4xa5jDWoXA98WQ2n7+UDXp
c4VxXZlW7cBE1lUwsQeTicHDQJpzKpM/5/GyiLpaa/xb/TE+aEa1n73ET6dKVi2p8eQZZq5Y9gzi
lR3quDefaK/v17rHVVu9q/7RzGyj0Wg0Go1GY21xo3XJihqNRqPRaDQajYpmZhuNRqPRaDQaa4t+
mG00Go1Go9ForC36YbbRaDQajUajsbboh9lGo9FoNBqNxtqiH2YbjUaj0Wg0GmuLfphtNBqNRqPR
aKwt+mG20Wg0Go1Go7G26IfZRqPRaDQajcbaYsuPs/3a1762zakMjsZztN3nP//5JOPIMkeaORLN
cYv3ute9kowj01xnq3HrW996U88e/MIXvrCNPRztpv2OgLvuuuuSDPs44u6e97xnknHUoCMEV3X4
xR3veMdNtcell166zY3rX8fUarejJK+99tokwz6OmXVUoNd65ORW4QlPeMKm2uOMM87Yxh761Xhx
/K7jm40DfuF4Z0cjOmqSnVaBpzzlKZtmk+OOO25Dezjq0PGs/MbxtPe+972TjCNG+YujZ8WZVeC0
007bNHvc8pa33HC81KMwHSHq7/zHEaSO5p3CP77xjW9s6pj54z/+4x3GVK9iiKON+Y6Y67jSO9/5
zklGjN1qPO95z9tUe5xyyinb2EP7+ICj4Gv7xRK+4Bhfxzzzla3GM5/5zE21x41udKMdTo7GkCPv
xRCxlP+IIcaQ42i3Gv/zP/+zqfY44ogjNowhYPyIEfUY53vc4x5JxvjwuVXF1LPPPntDe2z5wywY
KJ/97GeTjAFlcvnYxz62zecMKOfACzD77LNPkuRud7tbknHO87qdZFbPY/aQctVVV23zauCwx33v
e98kyUEHHZQkeehDH5pkBCQPt+sGA0oAFUgMpC996UtJkne/+91Jkve9731Jhr9Idu53v/tt8+rh
dpWT9WaAPwsUzvPWfvbQ3yYq/nHooYcmGeOGfT3cJfM/I34R7PHlL385yXgggfvc5z5Jksc97nFJ
kgc/+MFJRnu/+c1vJkk+9alPJUk++MEPJhnnpierS5A3A/pTfLz73e+eZMSDhz3sYUlGH3/mM59J
Ms6Rlwy9//3vTzLOkV9X/0jG/Xp1xru2fuQjH0kyCAIPIz4v5kgMH/SgByUZc826xRBzgrHCB8TU
T3/600mSj370o0mGvW55y1smGbH44Q9/eJLkIQ95SJLx0F8fgtYNHl4f9ahHJUn23nvvJONh7eY3
v/k2n/fMYm5+73vfm2TElHWKH8noP6/6/xOf+ESS8Wyi38UGRKPvmWM8zNa5aVVYb29sNBqNRqPR
aPyfxsqYWVmhrBgTiSnwHhMlO5QFyIp8/vGPf3yS5BGPeESSkSUSnli1AAAgAElEQVRYfpw7LNlo
7/nnn58kufDCC5OMbI9dsAgXX3xxkuSCCy5Ikhx77LHbvGIXMHXrwljf5S53STLYAFki5ugNb3hD
kpE1sodXDJtXdsPQYlsWmac5Q7ve9a53JUne9ra3JUm+8IUvJBnsCjtZ8vHeeME27LvvvkkGQ7n4
HZKOOQMjK45YkdG/hxxySJLkMY95TJLtl9uNgzvc4Q5JBmP/gQ984Hu/QcKyaKO5AiP7wAc+MMlg
4sVF/y8uYkmMCwz/FVdckSS57LLLkozxlYxlxXXwj2S0VUy12oeRFRuw0DU2GjvmHGMNM/WABzwg
yfaM3VyBkdXnmEi+4BWDi1kTe9jR2MPkWv2wGmaMrQvMNYcddliS5Mgjj0wypEnmUH5vLmUHq0Bi
j7EjlojNcwfm1eq4ZzPPXmKkz5FfiDlWt6we+7xVIgztquJpM7ONRqPRaDQajbXFyphZ2Z/s+da3
vnWS7TVssh3Mi895LzuUdcoq9t9//yTrw0zSX2EBZHU1u5M9Y5zZoWbL9DsnnXRSkqGdo+OZu55H
FiwrxKb8xV/8RZKhkcUeVNaIX9UNYl/5yleSDJaBphRzN1fdl/7WzzZraH/drIAt4k9eMXBYpic+
8Ynf+w3sHR/D1M5RK4k10w5s0GMf+9gkyZOe9KQkg3UBdvSKmb3VrW6VZMSXZPiE1QAxRuyaE/T/
AQcckGRo6OnX2McKkD5lH7pAK1tWLi666KLv/YZVgcr+z9E/kuHH7tccoP/YDIPEFnzDXGLMWQXE
LGE4xVbXmas9+LoYgWEzFzzykY9MMmKKGGlfy3ve854kY5WH9ph99tprryRDn20szTWmsocxI2Zg
3uvYqZvSjSX/73r8iJa47neZY/xIxhzp/rSf39v4t+eeeyYZjKvxxf+t7lg1cx3/L24YP1v1LDJP
r2s0Go1Go9FoNHYBK2Nma0mhyy+/PMlgFmUJsmBZgZ2kdhxi3mSRriOrPuaYY5Ikd73rXZMs10dN
DSyBrO+Tn/xkksE8uV/ZLiaSnkl2rN1nnHFGkmHPX/zFX0wytIQwV4YWU+3+X/aylyVJ3vGOdyTZ
nmnHUMuSq64Pm0BbjKF1nfvf//5J5suu8FvjgdaXTk2/Yth8nk4Qu2insnazW5I84QlPSDKYGxk3
m87JJlV/hR372Z/92STLS/dh6/xdm7SRDjIZbC2W++qrr06yffnAOaDq9sQJLAgWSbuNr1qyjR1p
1ReZbcwTnb4YPlfNqBggpvJnsVZ76Iqf8pSnJBlttvpzyimnJEkuueSSJMP3jB0xGLNpjprTeEmG
L9RSU+YSPmFFopZ7/PjHP55k7Ffwau595zvfmWSsGmHwMJRzswdm8dGPfnSSwch6VuDX7htjWcs8
GlP+bjWRHY3Ft7/97UnG3D6n+JGM9vJ7cyS/ftaznpVkMNnGlxhsjjW+rLJbDayrYWKO7202Y93M
bKPRaDQajUZjbbEyZpaOhB6DJlT2B7IX2SHG1uftpMSWYJwwvq961auSJM9+9rOTjKx7bjuUsQZY
D4wa5kS2J8uTRWIBrrzyyiRDKys7ZucXvehF2/xdtQPZ+NwYWlnb2WefnSR505velGRbJnERdQcu
v5E11+L6WIRlha7nxtDyA/eLXfmJn/iJJEMripHkJzTX+pk9jI/FuqpYb7akJ/ab2OA52ARroF3P
eMYzkgytJ3vVw0eqZlxbsCqLbcPcVObKWJsTQ+se9RGWpdoB2EN7tQ1DjZ3CViaDUXHtc889N8lY
PZobQ4s5xoRhVKu2kZ9jEDFqBx54YJKxaoOhfe1rX5tktFvFh8os8Z+5ANNaD4HArOr7WtVkGWtv
NeBv/uZvkgz72t9gzlY5hd3nED+SESv22GOPJKO/tH/Z4QFQ52ZjkL1c15isjO5ipZA5wLMVfzAH
Hn/88UmSpz71qUkG8yoGe5biD2KHOYhd6e8xsfzQ62YztM3MNhqNRqPRaDTWFitjZul1PvzhD2/z
d0/l9GoYJ0/tGEw7LGWDGFrZAo2t/z/99NOTjN39sqRlTN+qgTGldazaNmwBTZysT7asruTf/u3f
Jhnt1X52/vM///MkI7uyg9PvzWWnJWZa9qrfKyqzVI+u9Pe6k9l7eh6fk03KpmXdU0O2r//ZA/th
PPF7f5ddq50IVjYWVyjorbG2mDaZM1Z7VcdY7gi1f+m66qlM9dQjbCp/Zy9+s8guuhYGz28Yq/V4
xymhHSpSYJ7rEa51pzr2Tbz13is2LRnaUsyVa9Gh86U5+EcymFn9ZWzTRWtj1XzWWKv/Tz755CSD
wf3Lv/zLJMOnrDKKHWzqdWo4Cr5qia28YBr1ozmixla+dvTRR2/zOXOP2I3po9c3R8+FwfdsYXWz
ruJ4byyxS131Y7fKzHr1/1VjzT/td5ka+ks7aGOtXGgH8HvzRj1904l5tLPmIJWqjBcxhn2N1+8X
zcw2Go1Go9FoNNYWK2NmPcVjTDydy5plR/QW9Es0sLIbzKPr0JJiD2TF2BMMJZZlLswsVK2bLAnj
wj6yQ7Xr6LpkP7I+ujZ1RjGdp512WpJhX9+fC/QnBrKes17rE2MHMK6yO/3re/yOf8kG7eDExqgK
MBfI8mudZSwLP1D9QdYrO9ZO40y/Y02S7Ws/17Exp3qRtVboYn3YZPQzvz/nnHOSjLhhRUObxItF
1B3/tIJOvKENnAMzC+4VM1+18OyhZig/sfNcjdCNdIMYS6eqYZTorjEuc1ndESOtWoihaulioowd
+nL9alVGlY/DDz88yThFT7vPOuusJMO2Vgf5xVyYWWOEX+s/921ssIO5h5aWxhQz6//32WefJMPX
3vKWtyQZmmIrOuwxF2ZW7HB/5hrt4j/sw78xudUOdVWoVgpxotjDH/7wJMk111yTZD7MrHaYe/W7
eCcWiBmvfOUrk4xYInZon7rD5iDjQhzxLGaflJjTzGyj0Wg0Go1G4/88VsbMyoZkx/QrsjcME32S
LJl+T9aHPfIeUyubwLBhC2RDWBZZQtXJrBqyHRpHu9X93X3JmrAJsjpZIuYNQymLlHXSSWEinSNt
ByIWYWp2BTuiP2WNGCfvH/zgBycZ7AlWgF9oN39b1s+Y7EsvvTTJ0Je5vix+KnaS37MHXRrdkmzW
Tnt+476xJrLfjc7Jxl7LlP0mnzEG+RZWeIrdyXWHsH71yk/4ERZAXFi2u3+RXalaQYwSTZjVHTp3
fTBFZRB7CLBrG1VnSEY7sUX8gU5a3NG3izo5vi9m2qVeVwPE4in9IxmxUhsxslYlMG4XXnhhkqGd
/dCHPrTNe5pgu/bVdBar+YMTj8QcWkHjRmydKoboS36tfcYK5kw9ZfsJzDXs+LSnPS1JcvDBByfZ
vg51PRmqnqgmJk0dU/WL+2YP47yermnfjvZ6Nqn7W+p7r/ykPvOwC3+cqrKQuYBdxDf2MK7PO++8
JGO884/an+LhYYcdlmRUOxA/6uoZO/h9seyG2qOZ2Uaj0Wg0Go3G2mJlzKwdcphEuiY6C9kcDSN9
kmyfPkMWWXdmYmLqbuZar9bvOQWknnqyKqZWdoIZcba6+qruRxaEBZAt0T7KMjEvshp2Y1fXef3r
X7/NfRx33HFJtt8Vv2qmVn/rp5rN8RcMatUtea27uZf1p+timd74xjcmGXamKZZdrppVkK06+Y4/
+zv/l93qXwwsvSA7GieL9qg1mvW9+rMqaNBtYyjqqWurYOKsrID215Uap+64JysV/KbuPN4R9DXf
szvbWMFoiz1WmVYxdrBG2BL6RuNA+/gBzbBX4wd7t9EKBhv6DFuqP4mJocd3L7VCwqqYWv7LBvzW
igMmik0w7Fh/7fE5qyFWcezj0P9iFd8zN2HNxQ6rAzSsq7JHPcFqGbOon6z6iBViDu2o+zdH15jL
ntpPi4v5Fk88C7D7qmIq/wBzjtjOTuyhqgW7YSzrCs6yCjvsZczVSjRqxLMTpnxVc2+931oX2Nwo
1phjxGL2UNfZSoT5xOfEXnOuceV0ysp8m8P4064ytc3MNhqNRqPRaDTWFitjZj112+GHxbATTpZL
A4gN8Cpr9PQvWwZMjSyCvkl26f897csm7OqllVy2K3izgRHWPmyHrBDbQ4fk795rB+a1Zlmy3bpT
XTb0V3/1V0mGlvaYY45JMmrNyVJdf6sZa/2qXbLaqpmVHcr++Q02oTLLy+67nhBG7+b3MZ5esTyV
4dsquH8sED+tO3C9Yty1y/1pH5ZB+5LBQLEZZo3PsIm+Oeqoo5IMZoZPYVjq7t7NBIbZb1jZqFU7
sGv6C9sgHmjbRhrRCmPJZ/WF72D8+AQGC2O7lZVTxLV3vetdSYY+r2rha11ZLAg7XB+W0LXE8Gc+
85nbXNsuZ+x43SW9lf6xeB9WHMSQuuq03377JRmaSXOJurPXXnttkjHWjEVzC6bVGDPmXM8rxtbc
ZZc3+21UUWMzYY7FROtrv2tMGCNWo8Q8dhEzfE+7aWXZVRyoJ6W5njnXnE/TXOvhbhXo6bXT/fEb
qxvGBmbRq/urc2tFjTHsjJkWy7T/8ssvTzI0y3Xu3yp4JuOv5lb+6n1lWvl/rVMsFnvPb/ihz6uG
oX1WAn2+rioadzuLp83MNhqNRqPRaDTWFitjZulSZCme3usZ6jSLnuLpSDBvlaHxtI6Bkh3KfjFX
nvplm7VurawVo7PVkLVhkuwkfOITn5hkZEsga9QO7IMssOqB2M/v+LxX2ZdqAJVVOuGEE5KMLKle
f7OBHajZv/vH8tAKY0P0o/6HZYxsZa75Ua22wS+wDFBPidoqGA90SbJoWaqVBH7utY4HrJgsePGE
M77Hpl7ZWkYt477kkkuSjN2+2GK/Wc8i30xUplFcoHvTX8YvfSe77AojWXXWbFh9i+ZNLMIAVqYO
E7UV0H7jV9xTG5W/uDfjqvp/PUFvR0xt1edj6J/97GcnGTW/jWWVUzA7W42qfTV23Y+YZ0zRbqqA
81M/9VNJhn/T9vFvGljMnjlMRRS6ewyg++AHVgeBb24VjGP+Wld1+ECtK6tfd/WUSHOXWIx5++u/
/uskg/HWfnMN+2DK7R/ZKmDcMaS0vJ5NxAwwvjeqwZwsHzN1VdBcbC7lp1Z2jFFj1vXqaambDfcB
4nw9qUy/2r9h7wB71VM26+mU2mdOMy7NpfzFeKsrClVLuwzNzDYajUaj0Wg01hYrY2bpLTCPGCZ/
x37I1jAwNJ7eV0a3nq+M0aynd9RTYGRLsnTnTD/96U9PMnYgbhVkK7Jl2Z+sX9YmW61aUCwDhkZW
JfuV9ciS/H/9nqwLI6u2Igb4F37hF5Jsn8VtNrQX+1HPyXaf+pfdrm8Viuov1a51dzc/8vtVd7ZV
YP+qma6VBLyvGlH9Xtu1qBFlW1pYDBLN45lnnplkZNKYHkwbRssY20qNaN1pLIsXR8QNDC7Wq7Ip
lUVZ9JvKzFZGqrL5riWG6QvYSs2be9R+J565N6ySeELnVrXWdUf2jsZR/axrWKUQ2zEqXsVWLPpW
gc9jdvgpP6cv9jkxzdxDuykGYQwrA1f18irtHHHEEUmSV7/61UmSM844I8nQjJp76olbWwUxn/bd
+DRHGCu1akXVru6s2kCtEGLfhTmXHZzmifHDAFoR2up9CGKG36MJpVWlaWaHWk93Z/sv6nuvlQF3
fX/3rGHVrK6ubRX8Xj0dk5aYBr6eJMc//L2u8tQ6vhhV7bGqaM7nn95jzPUPhteq/jI0M9toNBqN
RqPRWFusjJmVddGr2H2LvZAVyaqxQLIF2QymUtaDWauMi79jIl0Pg+V6slf3RxeIdVrUGG4msAPu
o+7GxxK4b/oZ9rAj1H3Xnae13qx2yA61k67N97En6t1iuI488sjvs8U7RmV36jnhsrmLL744SXLV
VVclGdle7f9l2r+aNbOTz9P9gOtjrumr7BrfKhgXqja4X/2PTcD6YDucjGZ8uV9Z9SLbKKPG0NA8
Vl/5+7//+yRjLGEO+IrP8dmtRK1VWMe5e1+mv9OfG2nA+YDfqJU8qo65st2YSLHM2N1K1JqQZ511
VpLBlvs7No5/6/Nab3ajigP8RKyptZ29uqYa3mIPZgZ7vFXw+3xf/9U5wGqLk8CMCd9zUhNNeJ0D
apWLyoI///nP3+Y6f/Znf5ZkrDJaFbM/ZKtQazDzeWw+DanPYcZoZvkzf6+6a6jMXF0dsP9CDD/1
1FOTjBhmVYWvbhVUa8EUYw4x9F71m3bo/6qJFw/4T9WjG1PLmP3KhOsftfA9m2wVap3fumorxtbq
BPzBMwytdZ2LXVeMYW+xSIzGuPp9Gln+gKndGXPfzGyj0Wg0Go1GY22xMmb2ez/4/2cjsjZP/XaW
elpXe8xTOv2E7Fn2WPU9mKyaVcjK6UDsyPP0L7uQLdNXOZlrsyHroztxn7IYWTI2w45Q2Y9s+rnP
fW6SodurdXJdF9MnS8RQs+NrX/vaJIPpk8W+4Q1vSDLYpq1iJPlFZfcwtvRrsvs//dM/TTLsUrWh
lXGqVR+W6ZJ8vmppZZMY8iuuuCJJ8su//Ms3oLU7Rz1VB9w3P1aXGbPvXPmf+ImfSDJ2t8tqF7W+
xg5b+U0Z96GHHppk2OL0009PMpg2jAobbuXJNZUN8epe6H21BZP+mMc8JsloP2ZSPFhkT/2fsYJh
wEQYqxhAsakyLMaiVaitRF2hqtVRsIviiTiKnePX2Bj6tGTEKHZhBzFD+9m22osWUA3trWYi60oD
VI0oLa25gg9gCmnG99577yTJ4x//+CSDycKY8UH1VtnFqp65w3299KUvTTJ8U6zdatQY5725Qf8a
37W/MZXaIybzezHF5+vpjPyDP2BqfY6GuFbw2Wxod62uoV+vueaaJKMf9XMd98aa+7WabCxqF7v4
HvtU5tLKFoaSvh1TudVwn/xBTPUe9KNxbFXXioP9GuzGTuYmr+zNzw477LAko91iU90XZdwsQzOz
jUaj0Wg0Go21xcqZ2QoshixHNkKribGl75G9/PRP/3SSkfXUncN25GGqzj333CSDccToYShpRmkM
t3Jn9o4gW8MU02HJgrQLm+B+f+ZnfibJ0MrJijB7WCNZEbt7z74XXXRRksFmYLycO44hXRXoveiW
MMR2yqrpqP8xS095ylOSjNp4smVZuZPPMK12Gtdssuqi+KnfXTXqud+yetkxNoR/0AViixZXMmS8
roVxYWs+gKn1XRk6m2PotlrjtRGMl1oT1njWf1gkbZLliw/J6Nu6u1v7jTUxB6Ng93tlWqw+rRL6
hv6Ztt69VN2kGqm0thjaZHstpJiIiXzhC1+YZDCXtUICJsqY3XfffTeljTcU5g6rcmL/e9/73iSD
KcVI8RGrhWyIuRIz6PfFakymMcc/9EU9eW/V0B5zgDmirj5hrq3+YORoOmlq+Ry/5x9+R9zwanVP
1QN+tZUrOzsCv7DqK2aIZxhH8bKu3r7mNa9JMmKusUc7rt+9Z/fKYLOf/19cJVklKpNvHGu398aB
1R7j3t9rbX/+rl0YcNU/1JtlP3M3f9nZqazNzDYajUaj0Wg01haTM7OyVEwZhgAzK2vChMne7LDG
CmBwQTYlC7cjDtNIW1Z3EGJuq+5qVcB20ZNgaGWNtMB2r5933nlJhibOKTbuX1Yj+6UR9oqNkHXK
mmSZ9cSwVUM76dlkeXRW2lWrQdBcyyKxMLJjfsOv+BMGGktXdTuyw1XsVN8I2iN7xXbQbbGD8eQ+
K5ObbH/SFVtjJIwR+mDXxt5hqjB4mKhVwm8b79qHZcamspP39KyLmmQ24+vGBh8Rq3wX01gZTO+3
qhLKjqA9VnBUB8EuY4OMc/Yyzl/xild871p8p36HHzjxqp6kVc+ux+DR8a4atZID5osGVKUWdZUv
v/zyJIO9toqHSRJT6z4Lp7HZLW+sqjDC9zC1W1mHeEcwFswZmFVMqhho3KvLiqm1YqEdxp7xwV7m
cHOw74lVPo+5F9tXDZpRK0z61/3XOOf/7d/AvLKXVVT7Gsw19eTAeiqhuaaeyLZqsId+sgJhNdx4
MUd6ZqI5Bv5f9/mIr+Zo7TW3WuGwf8b3PQMtQzOzjUaj0Wg0Go21xeTMrKf1upMR4yg7oe3EONBp
yCJl/7IcWa9sEFMj+8K61GxBFr3Vp28sA42o9rnvZzzjGUmGjgtbxB6nnHJKksGmyHZlWezgurSC
2IdaA873sDKytFVDtk77WbWqVWclu6ONlS1qHzvwJ4yldvMb11l26suOzrDfSmDcsUuVPXDakmyZ
H7/4xS9Osq0W3LWMGTaotZ1puvQF22HaMJAy8VXCvWAFsU311B79WVnTxeoZvoOB4/Ne/b9Yow+W
YWcnJ20F6NXUkcbMWpnQl1hCO4if/exnJxn2S8YY0u+VMXLylTHI12o9yFrlYdWwwoBZNMb5r3Zg
zqw8YNjMMctO7sL4spMx5nNirBju92pN61Whrv5pt/F74IEHJhnMK7ZfbDF31NMQ+UdloDHX/Aaz
yU/MVeLPquE++D7Nr5WIWiHH592v/Rn2k1jhqn4vrohZ9cSsesLgVp+6uQy1spJYKcbWGuaeqbTD
uDHuauUZ79mX3xknmGC/Yx/Qzk4QbGa20Wg0Go1Go7G2mJyZlbXQMjqnV3aDUZMt2nkqW6CRxGjW
00pkAbLtWvtNVirbov/Z6pp3y1B3jMvO6HOe97znJUle8pKXJBk7T9mN5o0dfN/1ZH+1plyt06pf
qvZw1dBf+sX9uW/tqkxqPbsea1T1OfwHC8UudedkPd1mKntgU6oe0Q5q/08bbqc1NmZxtzqmynfY
gu3qqXs0oupvypyx21t9KtpG4B/8QD9jk6xEuDdtYo9FbTwmCePiGpg2n8XcYCQqA1t3Q69yV7L2
WWk67bTTkgydLya/1sbFmh1//PHfuxZGmj0wNfq7nmRkjFSdudepmCZj3v2ZK2ikMWbmoJ/7uZ9L
MtptN7+xU2OD/q+rOLV2tuvXmr+rhhhn30StviG20UL/1m/9VpLhx/YXYMpcT797rZpgdjB32w/D
n2ixVw1+zh40m2KrfgT97f5r/dm6QmHcmJPrSXpQa6BPUR0mGf7gfsU5jLyVBf7MX9jF94wT/y/2
8Aurh+byOteD+Wlx7toIzcw2Go1Go9FoNNYWkzOznuY97WMUat1ZGrD9998/yWAaMG+yO0ylbMv/
Y3qXnbONbZE115PFVgXZsWxE9uv+jjvuuCQji6OVleXI6rAKVYdUWThZdM2KMDUY2lotYlXADOt3
fkHHpr36S1as3fofGyPrxALUE9J8v7IsNevE6K8a7tO4wCbyG/V3+bn3slrn0iejNm1l5dkSY0UL
ZoxiItgOg0EjtUq496qVN27sxMYK1nPWF/WPrqX9+th3qja4xghMBEaX9ksfrQL1HHgnCGJXnv/8
5yfZnqmuJzMm21d0qYxkZWQrQ8meYo4YtYqT0RZRNX/8nv7eKoaxYt8EnbHqBnZfY1SNwbrPgN2s
YBx77LFJxngybnbGNG0VxDgx0djgz2KkV5rF3/md30mSnHzyyUnG/dPEGlPmDHNJHS/L9jlMpSGu
1Sjqaq33xkxdPeX/2lHr6ta9B1XPrz/MSbTX5ji691WBHxs3/J3/qlbhPo0T2mf+bxVdLPbKLuYN
VUVq5RV+4nc8wy1DM7ONRqPRaDQajbXF5MwsyHIOPvjgJOMpHNPivdqGdszJduh5ZDn0JrIfTG1l
j2QbdrZiF1bJpmwEWS2WR5UC90evIruh66qnt1QGsu6UrNpa7caeuA/nak8Fuk3aUAwtlkU7ZXOY
51oPtur4qs6rgr0xeHRS/GYq6M/K0GLwZbdYAH6E4U4Gq62NPiPDNiZl6JgaY1LGjOExRum7Vwn9
6Z71u6olTrjDLmuL8ZOMsVEZlMpeLtPIVtZc3Ukn26wS7KEtr3rVq5IMFpH2no4RG7NYpcN3XavW
060scB1T/Ess0gdHHXXUprTx+gLrrM0YORpQ/qy/MHHHHHNMknHim37mY+YWsZRG0Gqh32WXWiVj
KvAFjJn+ZR/3j0kTAzG17KPmNdRVrVr5xXjhH7XO9VRzrxruTsHUj/YGGCP6U7sqAwu1OgFUTTk7
YLoxshdffHGSsZqyaoj7+sd4qdVcxFjvjY9DDjkkyZibtdM4weB6xqhVNfin69PWLkMzs41Go9Fo
NBqNtcVsmFnAEJ544olJBtMkW8FAyqJlDbJLWZ9sCNvkqZ8WlH5KVllPd1msPzkF3L/7VV+WrkjW
RAu35557JhlZba0fK+vzfVmkbFP7sRKyyqqDmgruFyMty+Mv9G9YwnoiWM2GK2rNP/ZnZ9k5Bt+J
cVNBO2Sr+gtrgj3wOeNoEZgWY4YvaHvVSPIlmbJXPrXMtqtArSeLLeEXtXqFHcuLulC+tOxEL9fw
KvaIRSqKiFW0mFOi6qFPP/30JEMHd8IJJyQZ/iyeJNufHV+rFVT/4AdiLoaa5tTpjljhVaOOEf3n
Pu3W5jNWo8wJfMU4sb+CzdiJj9VKOl5VTtmZBnBVsMpD02xVk53sW9DuqhWvzOsypr5qQ+uqI+bP
XLZquD/7c/h/XQ20crVsf03VkvODugpYT+tTXYM229+nBiZWP4lzxpP4V+vQmjsx3OwiTvh7jbP8
w6orptz+h2VoZrbRaDQajUajsbaYHTMLsiI73ew0pbeiv/rQhz6UZOiPMImyTdmlLIA+A3Mli6C5
pYmsdUmngmzFjkHZPV0KBpmmtJ7uIvuTVdYdmuzifd1ZKuuc6sSrCtmd865VWeAPsjlZPvaQHSqL
KEvmb9g59qT/lI2z96LWckpoh53zNOHuT//SHy2e0sUntJ1tsN6u7XOYpGV1JTFSU8I9awt/5h9W
LOjjFnfv8yU+LyZUZoWNXavu1jVGp6qbuRHcu3FsRzL22PnyVj6ScTpYrXxgjPAp/mJVBHNjFc3J
WRjQqSGmqnupP71irTGU5oCqnaya0mW72/mBVRS/Myf/SIYspbsAACAASURBVMa41p8YNz5ibvQq
bmh/XdExh1ZGVvvZt64aTg1xTHUDzxhWcc0JVne88hNzKXuwp+uK1VYA6qvY5HNzgRUIzxhWGPRn
3Z/AT8RRcaPGVdBeczhmmn/sbH5pZrbRaDQajUajsbaYLTMLsmhZgVeswZFHHplkPNXLmp3mQSso
66uMVdW7TKn72xVURrCeCOX+MYu1zqysEVMpa5b1YBXq+epzBdbIq1OqtBtLxE78pGor6Z/ofGSP
/KSyLnNF3VHPL7Bqi8ys/6u1WvkCpqZ+bmf64zmhsmPsww8W/ZzWlQ/Uuru1dnNlsuopdHPEshPy
2INeMBlME90+u4ghbCmWqFqASWGnZZVC5gJaWK9VG11PzKracqt9y07AqqsEc/aPZHtGVT9iUtlB
LOQnmLc6J3lvDHo/d78A7fV64YUXJhl+4FmkarLF2rqyxY7GHAa8rojNFXW1ulYW4jee1eoppOzm
c1bVjTN/r8ztztDMbKPRaDQajUZjbXGjuWcBjUaj0Wg0Go3GMjQz22g0Go1Go9FYW/TDbKPRaDQa
jUZjbdEPs41Go9FoNBqNtUU/zDYajUaj0Wg01hb9MNtoNBqNRqPRWFv0w2yj0Wg0Go1GY23RD7ON
RqPRaDQajbVFP8w2Go1Go9FoNNYW/TDbaDQajUaj0Vhb3GSrf+C3f/u31/qIsRe96EU32szrvf71
r19rexx//PGbao8/+qM/Wmt7/MZv/Mam2uMNb3jDWtsjSZ72tKdtmk1ufOMbr709vvvd726aPb78
5S+vvT1uf/vbb+qYOeGEE9baJqeeeuqm2uMFL3jBWtvjBS94waba4/DDD19re5xzzjmbao/XvOY1
a22Ppz/96RvaY8sfZq8v/uM//iNJ8q//+q9Jkh/7sR9LkvzzP/9zkuQ///M/kyR77LFHkuSLX/zi
htf593//9yTJzW52syTJd7/73W3+fotb3CJJ8gM/8APb/P/c4H4/+clPJhn3ed/73jdJ8qM/+qNJ
ks997nNJktve9rYbXudb3/pWkmFfdrnlLW+5zd/Zw+vc4PjlH/zBH0ySPOQhD0ky/ILfvOc970mS
3OUud9nhdbT/Jjf536Hw3//930mSr3zlK0mSG93of8fNjW98401sxebBfd/qVrdKknzzm99MkvzQ
D/1QkuSud71rku39ZyOwKduwxY/8yI8kGTb2Omdo/81vfvMk24//e9/73kmSa6+9duk1at8bE//1
X/+1zbWNHX+fI+q4eNzjHpck+dKXvpRkxJEf/uEf3um1xFztr3biR/4+N/Bvr3zhzne+c5IRG7/+
9a8nGTarMD58nj20H9h+ruPG2DBHeP8P//AP27zXrkc+8pEbXuc73/nONu9dz7hgr1vf+tZJkpve
9Kab04BNhv707GFu/exnP5tkPDvw72XtqLFHbOZ3da6d63jRr+5fP4qd5hix9YEPfOCG1+EH2ml8
1WcN840YvquY5xNLo9FoNBqNRqOxC5gdMyuL/fjHP55kPLX/0z/9U5Lk9re/fZKR9SxjZjEOlbn6
whe+sM3fZeNf/epXN7EVmwfZjKz4U5/6VJLk85//fJLkxBNPTLLzLMZ1PvGJTyRJvv3tbydJ9tln
nySDkfna176WZGSfc4OsUP9rN1ZItif73dl1tFsW7u9YFHbmd3MDP8Ym3PGOd0wy/EQ2rT/170bg
Y9h9Y4iN2IBNKhMzB9zudrdLkhx44IFJko985CNJBnvy7ne/O0ny4Ac/OMmOmVmxAdgBQ8PWYpSx
NSdgjbVbfOUH+vh+97vfNp/fCGLGpz/96SRjjGFmjEEsL9+cGzBlxgyfscqj3y+55JJduo52Y3i9
Gh8f/vCHkyQf/ehHN+X+NxvaIfbxbzFErNWvy6C9//Zv/5ZkzNl8rPrL/e9//81pwCZDHDSeL7zw
wiSjX/n1T//0TydJ3vKWt2x4nbqah7k0R4lB7LWjsTcl9Kv7588f+9jHkgz/8bozZtachPnXbnOU
8Xive93ret1nM7ONRqPRaDQajbXF7FJnzIHs57rrrkuyPVN7z3veM8lgCSpkAf7/bne7W5LBzGKf
aCb97s4YvVXBfWAPHvrQhyZJLr744iTJoYcemmS064orrkiSPOABD9jwerJKWtC3v/3tSUaW/JjH
PCbJYKj9/tx0PNgD/cYPtP8b3/hGkqER1b4K7at6JvbG5MlG52oP40F2r3+xKO9973u3+ZysdyO4
hrHhGhglvmZszpGZ/fEf//EkQ1N+hzvcIcnQ7+k/rMgb3/jGpdfCDNBd8wWMi9f73Oc+SQbTwEfn
APHv5S9/eZLkqKOOSjL6zv/vvffeO70WP7Aaxg+qhvDud7/7Nr8xtzFjLBvjmDix0/3uaKwko//F
HPYQc+oc5rpzm2PEBvetn//xH/8xyehffr4MPue6Yuq//Mu/JBljUZypzPZcIP6ZE2k43/e+9yVJ
HvawhyXZOdOuXZ5F2IHf+X/Xu+qqq5LMZ7ws2zvhWckrJn9newaqFv3LX/5ykjE+7nSnOyUZ/nGP
e9wjya7v32lmttFoNBqNRqOxtpgNM4v18LTvPQaOputJT3pSksG8LUPNfjzdY2hkA7JF2cVcIDuh
CbWjEmRBGOtlDCSwB+aq7rilKWZ/dp8LKpuC/fGenU499dQkO9cfYY202/U++MEPJhkMPrtj5+aS
Neu/qoV2f/yH7s8OYuNnI2BS2ACbz5bveMc7kgyG9ja3uU2SeTBNxjd2DfPq72eeeWaS5OEPf3iS
67eT+tGPfnSSwUhioDAtNGLnn39+knnsWtcn9H4f+MAHkiS//uu/nmT4BwYbW7Iju/ALmjlsLsaF
PvlBD3pQkvmMFaiMea1Y4pU2eGf9aI5iS+OHDWnM64rGXKpeYEb5s5WIt771rUm210AbU8tWZLQX
w2ZuwsBpvzl3bswsTbzVPuMaQ3366acnGdUcnvOc5yRJXvKSl2x4PYwrLfbLXvayJGP88AP2ZJ+5
VFZyX7V/xEG6eysTO9NUs69nFTr+6h+eQfbaa68kzcw2Go1Go9FoNP4PYHJmVnZihzTQ58jujjzy
yCQjy3nta1+bZPsdxyBrll34nKf8Ws9W9jG1DtB92Qkqy8XEYQjtMMU005dgGypcD+vA3hjYQw45
JMlgKmWHU+9IxjC5D1UHMMwYWRpg7aLvWQZ+J1vE/GM4aU1dDzs3df1dfqrfZMW1piP91ZVXXplk
+P+OmFlts2pBP+3vrunv++677/fdns0C9gtrgqFlj/322y/J0J6/613v2uk12UzMsSubb2Gmsfp8
dA7MLNb47LPPTjLuta5o2VG+KzUdMbDvfOc7kwxWt2pB+aIYNTVqXVkMEoYQo1j9nwZ6GcRqMddq
DmZWbDFW58JUi+3mAjH/6quvTpJ85jOfSTL82Vx88MEHJxnMbYWxhnlj19ruZbXQp4L+Mtdiqj1D
2LV/0kknJUke//jHJ0ne9ra37fC6/N/1zF1WS4ynRzziEUmSD33oQ0mmZ2Zr3WFzjvhX9xcZTzub
D4wv/oaRNZ94tqmMdV1FXnr9XfpUo9FoNBqNRqMxQ0zOzNJfOOFLFuPvGJdjjjkmydAweqqvzCxd
lFdP9b4n25SFycLnAto1TIn7pVfDhmCHZC/eV2bW/9NMyja1G1MFsqa57MiWJarpqd9khfRHta7q
MsYearUIfud3sBYY7bkw1dge94Edol/SrzSS+ntH9405wSDxARpI3zWGMI80TVPaBMvzxCc+McnQ
/elX9hFHjKudsW7J0M7xOa+u7Vpz8Y1ktJe+D0NL38pPrOSwCz/Z0QlgYikGko/xl7o/YS6o+nix
AXOIecRaY54xUBVih5jLHypT5e9zO1XR+NWfGLhrrrkmyWDGzDXHHntskuVzgnbzLUwbJo+mmI8Z
V3PRDot77sezhTkT03zAAQckGf5UV5NBPPU59hCrDjrooG2uX1fApkZd1TanmGP93ZxJW2wcmYOh
7qkQJ60qmmvFUePq+u7FmIf1Go1Go9FoNBqNG4DJqATZmqf+qmGUFdOr2Rl40UUXbfP5ClmOp37A
sNGI7bHHHklGtjE13G9lImk3sQiPetSjkiQXXHBBkmTPPfdMslzzxo6yKHaXFfoetoXOx+emAhbA
fWNTaGXZy7npmGufxzxVsC/2BNsmK5ZtWynAYky9Y78y9fxfFQ6MHDaEv2PL6Do3gjEnQ/aKScBi
1nqabDMFI4n9MB7stDZu2Itd6NX4+Y5O68Ko8ZFaP5NNjcm6K34KuDcVJ9TPpZXFXNuDIA4aDzuq
YuAz55xzzjZ/ZydMDHvNZXe6GMIXxDz3qY4ovP/970+yfR3NinqCmOuJOWyJwaqxfSoYr/xUrMdI
m2vc/2Mf+9gkg6Fdth/DGBMv+IMqAH7X74nhVnqm2qeCkeUX5pjHPe5xSUZ1Egw2jfXll1+eZLl/
iAvqFPsd9jDXWBURf6dmZvWTuYXfekYzN/qc/qb5NZdWZhbTa7xYLXJ9/+97tLPXd15pZrbRaDQa
jUajsbaYjJn1dO5pvOpMZINPf/rTkwz93qWXXppkPL2D71VdH1YFY6UGoiwCs1d1X6uG+8ekYI7Y
yX1jIH1uWdYsu8IGyIJcDzMj22Svqq2dipHEqtTadPxEtogtwsjvs88+SUb2D5VVYz9+xP7YCTt6
ZdVzYWZl7+7T+NG//KOeg66+6iJcC/NQaxqzFZ8xhmTYUzJNmFYrLF75c2XDtNF43xEzaxVIjOAD
9OzYXwwMdnxKnTnd42mnnZZkMNAnn3xykmEH45udKnu5EUtm9coJSBgT2jbXqBrRqU/Nq6yztulX
MR9jZkWC72Aca3uAzTBwKqKIvTSkTlmbeh8Ce2DU3L9d9NqvIgiG0ipdrcVe96fwC6tC5iR/V7ea
ttLq11TMrPim/4x7sUG1AhpX417/aidmXozxyu/qyVn7779/ku0ZanPuVKir3frd/Rkn+tuqmGcQ
+5zA54wjMcp1zF31JEF+sqtVDKCZ2Uaj0Wg0Go3G2mLlzKyndVmrp3ZZrZ2E6kTS2Tg9A+ppE7Ke
ujNOtoOJO/zww5OMbBmjJytYNTPLHpgS7ZC12CmoPexF74VRZU/wfVmnrAm7Rh8ka5SVVQZwap0X
Jsl9YmrVOlQvlF6NNlR/Azv7u6xYVojJct42v6BrmkrPhNVy/+4Lq8G/sQn6Wb/TVNvlv4i6C5vv
sQkNod/ie3PYtW5lwfjQPixPPd8bG/CWt7wlycY7kcUAGjDXxBDoCz6JeXHtKXdnY5ztSDe+sSb+
n720wXjZiB3Tnte97nVJhq/ViifsYxVgLic71RO9+IKx4f75P+ZdjKz+rV1ikJiEaRQr+J76pHxt
Kma2Vm7BMGLa6yqU9njl37XyD//wPcybVSMMN19UUaNq0FcNfoGht2plTHjWsPJy/PHHJxlaWXVi
+RFolzHl/zGbGEfXZTf2n2rOrSsonrnEhFqjnl9grM0Lnt3A380n5i4abf7imYPdxCz22NVx08xs
o9FoNBqNRmNtsXJmtmo4645hWa0Tqa699toko6ah7KZmzbJpT/uu63NYFsyc33EfU5/OIkvDqGKO
6XhkJzSesj56xprluh52pOqY1PqTrWN4d1RncpWo9XGrHkv2rx8x21VbC+xXNbPYlfPOOy/JYCGx
TbSZU9cQ5Rd0a1gyWnIVB9w3lsiO5I1YMjZhQ+xuZYExMq6NWZiCeXMP4gCm0d/da723c889N8nQ
B26U7WN7MQNsiIHiU7UOIgZuilUM7bjsssuSjHFM9yiO8Hcn2e0KO4ZRdLqeWEG/L7bWOpruaaqY
qk382v1UHTVGiM+YQ5Zpff3dWGTDeiojf7HaY9Vsat29OZEviCVWGMROWki+JLbUMWOM+R5/wTSK
4VbBMHr6YWoNsRgixmNe9d9xxx2XZPi3+sPGQY0xxoMVANc944wzkoz+N6fToltN87urXvGqzD0/
MSfqL35S9yfsbOXBOPPswZ/4l2cZzCz7YbR3Fc3MNhqNRqPRaDTWFiunm2S7GEDMGx2WrES2Qq8D
sgeQDdBzyJZlhbIJ2kF6DdpI2fRU+i73R1cky3F/tLHsVdmCeg68dmsX1oF9/B59mOyU/TF+U2tl
6W0AG0bHie3QHlnwsnqZldmWVcIll1ySZPgHVo59pvKPypLSJXllB68YefWZvYfFrF8fY5D4hLGH
geI7GBjMwo5qk24V6s5o8UP/YOP0s/dXXnllkrFysxH0uZq1rs0OVTtrlUAFiSl2ZRuv7kV8xIZh
G7Ef4siunPSHka1VLMSqWiEBA3NDT/DZLOifypDyX/dXNdD8fxkjy1aV2WUPMQUDZdzUupurhjGP
kTVW3B/QkNZVjlpznB3EFj5lrmZvn7N64nN8daoqBuyhvVaaxFRzsBgqdmgX/wH2dJqmVRGrfK5n
ThY3zd3sXJ9tVgX2ECOssNhD4T75t37n/7UKQ10FdV26fYyr8Snu6gfj7fo+gzQz22g0Go1Go9FY
W6ycmZUFyGZlw7JEeg1MGdbDDkzZk6d/WYGsSXaDoZWNe0/fRtezTGO5asjaZPGytb/7u79Lkjzt
aU9LMrSuNHKYJroW35dVyqowmrLj/fbbL8mwq2yz7khcNWRllVnXzpo9HnjggUlGVoyR8z12lUXW
LBATi1Wo1S9k71Ohasxly8YJDSg2xU58VTvokDCaiwwzX6kM21VXXbXNb7o2W7D1FGPGuNevXutJ
bdrLn41//c8O/p6MU7JoZ+upeq7pHuj5+dAUTCR2o1brwKbRpxkPdrDTpflerVecJK9//euTjNgs
dvNBMZyP+Q1+MRUzW5lUsVTbsNJ1NYct7UOo9XRrLV62pgXlS3yuananmmP4uthfY6x2sxONp9Ug
dhAntEsMBvp9c7r/Nydbbbu+WsjNRo1n/NuKFCbZHgJzrnabMyuTyo+MJfbgd895znOSjJUOzyL6
YSr/MK7NifzEM5U5UfvNOeZk/sU//F17jBuaZHaummt+xj7Xux036FuNRqPRaDQajcYMsHJm1tN4
PXlJloI5cfqGrFE1AlmUbKFqQSvDK8uo2bHsqWonVw3tly0+4QlPSDKyJIyqLNL7unvdK7top2yq
nkPNLvWc8WXnb08F9+N+nT1vxy1/OfTQQ5MM/+I3XmWLsmr2cVY9jbL+4J9T6ZjAfdbsWL9hg/S/
neZHH310ktEe2fFi9l/PZMcgYFYqM8smlZGZAsZz3flbdZE+h3V1QlzVjiZD61ZP9MH+YpbEGBow
9poC9RSqeuqUuPjhD384yfb3blxg6xY1xWKyv/E11xRTMFe7osNdJfgG1h4rXU+DxCwfddRRSYYt
ljHL9WQr9vB548Zu9alX/Wp73Ldd6e6TH2uf+LAM+t/40G72xnzXMTm1hpgdarUJMdVc6z6vuOKK
JONENH5kjImxVsWsWNAGWz2EynjWfQ2rRq0vW1e3+Yu5hz3MxWJQ1ZS7nrjAHpXh9jtWOqqWe1fR
zGyj0Wg0Go1GY20xmWbWbmRP6XU3vezFUzqWpO4qxxrUU2ewSHZe0wPJGqdm3CqwPliCv/7rv04y
tMN0fD5X6+7KBkG2Tfcky/QeCzWXHbcVskVZL50VPdvf/u3fJhkMrewaQ8WvqgZYezF0NNm+Lwtd
ZOymBH+W5dohq338gV9fdNFFSYb/aIf2LepAsdJXX331Np+haZJpY57qqWpTAKtiZYI/uzcrGrXe
LiaW3cShxTiASfJZNtUHlXnAzEwJbJf4gGXXPnrOekoPe4mf7LB4ihnGqK7eYK5rZRpjdcqT4ZLt
6wHrN21/+ctfvs3fMctVI63/a5UPmmH1iOvpenyyVgGYCvrF+KaXPuaYY5KMObfWA8WY1TmTXfkB
O4on9h9YBeQPO6okskpoj340Rk488cQko4rHX/zFXyQZ1U1oaLXbyWHm0qc85Snb/I45mr3qiWFW
R6au7V5XIMTQww47LMn22mKrmHVOEXO1xwpe1Wbzl1qv3HVqhaZdRTOzjUaj0Wg0Go21xcqZWU/l
nr4f8IAHJBkMkvObMY2XXnppkvGUj2mR7cgiPeVjSzztywpkn7KHuaFqhmVLNLQYSNkufRKmDtiJ
/U4//fQkg7FjX/Zxnam1w4BVwZBiYvkJJtqrnfeybPaByrZoN/ZEtl2rScxBF7oILBmdkdNoahUL
bMALXvCCJINd2UiHVNss064MpLFptWNKGM8qCdhZi13j9/WUHnbgX/UkuMXP1NUfvui32ZIGbA5Q
ncQOamy78SBe1nHFr8RHPpCMVaK6q53m1BjEOFV99lTQx7WOrLnh/PPPTzJWr+53v/slGe3Vv9hs
tsLs8q1nPetZSUblmMpMT1WbehnMlRhmp8E973nPSzLGu3bzpaqZNldgnsUcn7OqKm5g6qauYgDm
Vppg/qECDH39CSeckGSMjVq7GkPLH/iNudb+Fkw4xrrW7Ta+poJ4bw7Vv2KKVR9zonEkxniWqxVm
oK4WGZe13u73u6LTzGyj0Wg0Go1GY22xcmZWVuQpvO46lxX+2q/9WpKxw1TWJ3uW9WIJvNphh7HE
7DoRR3Y5F81s3Wmq/q0sSTaHiaPPYj/awVpHFWvELnQ/XrEItdrDXIBBl8Vi4rTvgAMOSDJYIe30
ef7CTrJLTJSs0OksdHH+fy5MNWgnNgXLYmct1JqRPldXKpLB0LDRMs0jRm4OzCw/da68rJ8f1x24
2q1Ndef5IotYP+v/qi+5h8WarFNBO5wUiEXCjmAf6YH5tbZY8dCm173udd+7NsYNc4LFXsZU848b
qnnbLLAJZtCcYQVCrDA23v3udyfZvt+9ap+x5XpVE1sZp0WWe0q4L+Pdapb2iI1WN8yN6knXE834
Abbf91zXWHT9qeoN7ww0vip9aKfKOFVrrP36/a1vfWuSsWpKQ/ukJz0pyWAwrbpaFTW3mePnAvfj
2UE/ihm0s6qAqN6AcWevOsdivj2TmcvrSXzf70pGM7ONRqPRaDQajbXFyplZkB3Tusp26DAwcJVJ
ke3I/u08vOaaa5KMrACT5alfVuV79C6Lu3enBEYas0T7h2HBuNRagXZSgnbRs8maZJ/11A3MLz3Y
XDTF+p2OS/9homWJGClMZNV9ybad6nLIIYck2d6+mKm56P6WAQvy1Kc+NcnYiYtF05+19qn2LPo7
G9VVEr6mD7zOSUeMcbzwwguTDPZkr732SjJ0jOILFgDrpI2LKzTGlJhRfcIr297Qk2q2AsbH4x//
+CRjfGAd6Rj1tVdtEVcWq5pg8viJGC121BODpmZkK/SXMcJ/tauuBgJfERsw82KM/6/MbN21X09G
mhq1WoGxg1GtJ6Nh5NjHqznG5zBu7K3dPm8czYWpBv1n7KhyYcxYtainjvJz32Mnq2b+7jo02cag
eGplZ/EUwinhfjCzdQ+BWMGP9L+5VH97Ly6Yk8TXerIee/JL9rm+aGa20Wg0Go1Go7G2mIyZ9RQv
C8CQ0G1gFP1d1ocNkR3Iriqb4qm/6rzqLv65MJGy91rvVDtl/T6nvZVZwZbIdrAEGM0999wzyWCm
2IGd58IiVAZJv2qnfpf9yRKhMvBeK/Ot3V7Zc+pTeyq03ysdEiau1tuV5ep//rTIRNqlTX+qsoOx
V0/Nm5OuWv/bMWxnsp3qWDg6zlorkZ3UUkzGbma+ZIwYE5WhrYzelKjsmZUt7eYPmFdt8l7cWKwF
iv2m46+VRqDWCK//PxW00asxU090q7us/d3namyu1T7q783JLxahX4wNMbIyY5Uh0791n4p2ihtW
TY1Nc7Dvz00jCu7Tqzqq5kwVZMw9laE2Ps4777wko/6w2MNf6imO4szU1QyA/+onscEzknZgWuv4
8Mp/MNZWhTHTPud6/OqGMrLQzGyj0Wg0Go1GY20xjxQ6I2upqKeGyBJkSfXkJ0/7sh/aUWwKNmrq
U2p2hsoCVSzTp2kfe2KmaUZrloitqCepzQ3L+qtWxwAMJD/AxGqvrNPKgGxSNj13/6gsaa3xR9dY
sdi/roFZqBqpqtOeM/ivV2wz5nYZVDlJkoMOOijJ9lpZqBpITNdcdPeLqOwgv691mHeEyuqrpILd
xljVE6TmxOAvovbnMiaoMstiiP0YXjGO/KFqqf3e3FZ5oFZtWIZataPu8vcqpup/McjqgFi7bE6b
C6qGdZnW1wqWfRueQepplcYNJlf7a9WAuWFnzyDLntm03zjiP5WJFYvMzcbjDV3ZmPeM3Wg0Go1G
o9Fo7ACzYWZvKGrWLKvCrKn9ph4n3YZTOXY30EPJipyQhJlVI67WVJyrnmmzgMmmrZQdVj2gLHku
WurNxiKjr80yZ7u8l2Xi9WSX3QGLtXMx0Npfd6VjDNSnrLvZdwcssnDGAG0fhs3ubIzTHDXVm4m6
SsNGYkmtV0prPFdG9vsFvzB3YNT4hb8feOCBScYYUyt9dwPmVv/Tq1sVtk+l1jWeKyP7/UK8rK/q
M9MmezbzzPL9as2bmW00Go1Go9ForC3WnplVd7Mys572nW5ih6KacbsrM+vUFrot9pAl03WpDShb
2l1R62myi7/T1mKy7ereXcH/k7ErFaNG80YDimHZXRmEZFummm/QvtXKInzICTa7I/hEkjzsYQ9L
Mhg3sYQOv9YhxbjsbjAOat3dWuOYnyzTEu4uoJXmB+ZaJ0I56YpmdndcwVgEZtqzhjlF3KQxx0zv
7qug5lAaYbW/zbmqXnhWseJn1fyGopnZRqPRaDQajcbaYu2ZWXoc2YDsyE45TBR90+6qYwI1/+yk
pHeTDckSaWjnvmv/+wXWUfas/+naMHP0O04L2l2xqEui4eIjn//855MMrajMene2yUc+8pHv/Zu2
TazAxLGD3cc0krsjrHAlybHHHptknIR0xRVXJBm792mMd1dGFqxYiBViCIbe6ham2rjaXYGBNpeI
KSqDWPW0klFPI9zdQEtuLn3lK1+ZZMzFnk0w2GIOKU3qSwAAIABJREFULenuhlrTnF2MD+NFXDHf
NDPbaDQajUaj0fg/i7VnZrEC9WxxDIMsCctCY7u7wqklaiA6T5we8JBDDkkysib/v7tCVkinhLHH
KmBkZYt0YLsr6N2S5JGPfGSSUZMVo2K3slPF1FHcHbGomcXWO6ue5o+vXHbZZUmG/n53xHOf+9zv
/ZvW8YMf/GCSwVDTFNfTFedeP/SGgqbPKiCm0XgxB6lygLneXVe9+L/+FlO0F8PmZKvdfY6xYvGy
l70syZhbaUIx+ddcc02SwdwbT7sbaMZVCrJKbI41r/CfzfKP3XO0NRqNRqPRaDT+T+BG63C6T6PR
aDQajUajsRGamW00Go1Go9ForC36YbbRaDQajUajsbboh9lGo9FoNBqNxtqiH2YbjUaj0Wg0GmuL
fphtNBqNRqPRaKwt+mG20Wg0Go1Go7G26IfZRqPRaDQajcbaoh9mG41Go9FoNBpri36YbTQajUaj
0WisLW6y1T/wuc99bq2PGLv73e9+o8283nXXXbfW9rjTne60qfZ4+9vfvtb22G+//TbVHuecc85a
2yNJDj/88E2zyQknnLD29jj11FM3zR63ve1t194eX/3qVzd1zLz4xS9ea5v8yq/8yqba49WvfvVa
2+MZz3jGptrjJje5yVrb4zvf+c6m2uPJT37yWtvjzDPP3NAeW/4we33xzW9+M0nykY98JEmy//77
J0nOPPPMJMmd73znJMmBBx6YJPnyl7+84XW++tWvJklue9vbJkn+9V//NUnyH//xH0mSO93pTkmS
m9zkf03wne98ZxNbsXn4gR/4X/L8Rjf63/57z3vekyT57ne/myTZd999kyT/9V//lWR5O2584xsn
Sb7xjW8kSb71rW8lSW5zm9skSW5605smSf77v/97cxuwybj5zW+eJPnxH//xJMmFF16YZLRL/2qX
z1Xc+ta3TpJ87WtfSzL8jv3Y/Ud+5EeSDD+ZG9zvpz71qSTJe9/73iTJfvvtlyS5613vmiT50pe+
lCS5/e1vv/Ra//mf/5kk+eIXv5gkudnNbpZk2JJvsA2fmhP0/z//8z8nSX7sx34sSXLf+943yeh3
/v/xj3986bX+7d/+Lclo7y1vecskwyeMSb5jDM4JxvVd7nKXJMlXvvKVJMnd7373JMknPvGJJMkX
vvCFJKOvN4J28znX1m52YC+vc4N+g89+9rNJRn9rh/Y+4AEP2PA62vfv//7vSYbvsY+j4vnND/7g
D25OAzYZ2v2xj30syZhjxUZzjXbwnQoxWFzQ/mUxdY7xIxn3DWLm/e53vyTDLvz/fe973w6vo523
utWttvl/9uBv4u/c4P7NgZ/+9KeTjPv3LHWve90ryZiLKnzfeBE3/J19dvYsswzzjDaNRqPRaDQa
jcYuYHZ003XXXZdkZIuyQU/z//AP/5AkOeKII3Z4nc9//vNJRrYsG7z00kuTJPvss0+S5KEPfWiS
wdzODT/0Qz+UZLBlb37zm5OMLP8Od7hDkuUMJMgiMTFXXHFFkpFNsYcsTDY+N8iSvWIL3/a2tyUZ
zC3mfhnueMc7JhlM3VlnnZVkMJiyRHb1+bnh29/+dpLByFrR2GOPPZKM/n7c4x6302thVq6++uok
w7auJQOHW9ziFt/XvW8Fvv71rydJ/uVf/iVJcp/73CdJ8pjHPCbJaNM//uM/7vRaVnfEkMc+9rFJ
BstrDH7mM5/Z5WuuGpjWBz7wgUmSH/7hH04yWA8rW9qCsd4It7vd7bZ5ras4WG6x1G/NDZhZbcc0
aTvmjb8vY2bB96wG8EFz2D3vec8kI9bODebWGuM+97nPbfNebFzGzBon+p+d2dP/s4fVgrnBnGuc
6zdzjjjpmWIZM8v/fc51PNNgJD2riN1zA6bUONEO4187PWMsAz/TbnbEYBtvYpbxtKtoZrbRaDQa
jUajsbaYHTOLUfF0ju346Ec/mmSwIxgnur4K2QJGk/ZWtvj+978/yWBm6T/mphmV1cluZUfafeWV
VyYZ2RMmqkK2iZG55pprkiQf+tCHkoxs8f73v3+S+eq7aKDpjPgBLXHV7yzL/umTaCpliRjOu93t
bkkGWyF7rHq7qYE91J+Yddk+/RsGnx9tBD6EQXENjISMmm3maBPjHYtkPDz4wQ9OMvzGeLjqqquW
XgvrjWnCRGOWqmaS9rJq7qaAPrGycOihhyYZccO410YsnDi7EfiBVRx2EVP4Hu2la8/JPxYhBlRN
4K7eb50rjBuvxqa56B73uEeS+WiJ+al2P+hBD0qSvPOd70wyxgrGzbhfBu0zd2Co2cM4MceLTXPz
D3PIwQcfnGTcH0ZaHLCKvAzmFrFXe12fH1gFNPbm8gyi3foPxFjt0u/0+MvAH8Re9uQX4oXV0uv7
TDaPUdVoNBqNRqPRaNwAzIaZlcX+0z/9U5KR9b/97W9Pkvzoj/5okpFN7kzTKUvAEsg66ZjonDA4
O9N7rBqyZWzZBRdckGRkg3RrH/zgB5OMLHAZM8tuGG/tx3y/4x3vSDKyRNebC2RrWBRVDM4///wk
Q18jm6Ot3nvvvTe8Hv/CSLMr3Z/ryaJlkXNhEbBKdo7yE/2nv7GIu8K0Vy0Tm1gdcA3s3px27xvX
7pmfHHXUUUlGP2L2d0WP5ZoYA2OOhhIjiTnAjs+hMgo2UP9jUdgBuyTuWYHYETPLDx72sIclGWNB
DPWbGL1PfvKTm9CSzYPYIPZde+21Scbcwib8m82WoY45n2cndvB75qy5MLPuy/3za3MmTTHmbUeV
UJIxt2De2JeP2c8A7DGXSjFipmcFcwcmmd/zk5e//OU7vJ45g/3Y5xGPeESS4R/szw5zqWrATz1L
eVawyn3AAQckGauf/Ia9KswfmF3jhJ3ED3GlmdlGo9FoNBqNxv8ZTJ4SyQ4/8IEPJBmsBobADr+f
//mfTzKe6nf2tI6xxJbc+973TjKYLNmAbGwOOrdkZCOytEsuuSTJqLPrvmv93J0xhtgTWZNsy/dl
XepN0kdNzSLUnaD84YUvfGGSoZnFklSd4zLQ6bzrXe9Kknz4wx9OMuyDTcDUqts6tT2MD6yXKg60
kTTltLH8HivCDzYClhpjQOPkN/mYDHsODCQ9l4oCWGWMLA04tg0bpP93BMwspgRzRfum/VaVsMFT
2gUrZrxov3rD2A+f0+e04juCGKn/H/KQhyQZMRxjxW/E2qk1gPzWfZgb6IbV6jZWxN5ab7XCXMQ/
MG++b8z5/bnMMVXjfdBBByUZ920OsMon9okLy7SiYrDVALHGOGKHOa3oJKNfzDWHHHJIkmTPPfdM
MmKLdu1qDDGHisnmDvr9OlcZV1Mzs+KY2OrZQP8/6lGPSjLshMF/97vfvcPraqfrGF+YcDHK7y2r
V7sMzcw2Go1Go9FoNNYWkzOzmC9Zs+zeUz6dDj2S3fxVfwNYEdmg95dffnmSwWjJPmrWPjUwSLLf
V7/61UlG9vPwhz88ycgOMS2Y2oqaDWMj2EdWiqmVNc1F31X1NKeffnqS0Y/awR+8LqtxiX3wipl1
vdp+7MVc9F1YoosuuijJuN8TTjghychqZbvYlR2ddKVtlYnVVvpjlT+MUczElIyTcUEDK0780i/9
UpLhB9rIX5bpupIRCzAn2klHboz6XN19OyVoX+ny6Pz0pfa7Z3EBy7gRxEraODEZq1uvJXadffbZ
SaZnmvSL+7K6w8+1w1ihjdb/y5hZzBVtqNhcqyPMrR6zMaM/rerYr+L+1SbGoC2ro2xs6f+qqcc4
Yj75wxzGSzLuTy1qmlB24N/uH1NrNa9CPGTfRz/60UnGCo7xw660pnPZj1Frcesv/vDIRz4yyfBr
c+ey/qwnJRo3xhkGW+zG6F9fe8zDmxqNRqPRaDQajRuAyWimWg9Sduc0DVkiPVM99xsTWbNmLBLN
Iw0dRtJuXtnBXBhZWbz7UV2Alk173D+70cYtqwHoez7v5C+sg99jJ3aZWt8la6NDkw2/6U1vSrK9
P2ADMHH0bxXsRL/DX7AVdYc6v5zaT/SL8aFOMgYOa0DXRQeHcdffG8H/XXbZZUmGBlKmzCZ1Bzzb
T3FanHtUC5c/PPOZz0wy7CK7d48YWYz7RmAzsUWswbQYq3PxjWT0jfPj1cjE/lRdaz2dyYrXRsAk
WSWx+7/WZXVtfjO1BpB/YqMxTfrXLnLtcd9iiJhYUTWF5jIxxHWW2WMq6Gv3TwNu7Nhfwi5OwKKv
XmYP7TcXaae4ov/F5Bq7p4I5TrWBpz71qUlGf/FrYwisGi/bf6Bd5q5aBUKsrvFz6jhiPHv2qid2
YfD5jfvl98tOD+Rv/Ie/uK4VkVqv+vqimdlGo9FoNBqNxtpiMma26m9ULzj33HOTjF24skOaOIxD
zfbrzjt6HVmgbICWUFYg+5B9TgVsl/vHQNLZ2AEpu5Y92nFZNcR157lTXezk9XteZYe+N7V+Rzbs
vl7xilckGfaRFbp/bAJ2gL3A56pOSTWAZVml703NVMtqsQK1ygM/1m5MNQZyox3EbMumfAMzRSsm
c8YwLNOrrxLYAEyrFYuTTjopyWgDPxEHrExsdFoNZgAzgdE7/vjjk2yvjfV5WuMpmRXxwM5p+l4s
B5aQPpQ/6XPVZBYhRmL7xWTXEFvqbnBjZuoYAhg0Y167MEx0xvpTLNCvoD0+Z7Wofg4j5xWzb86a
yk/MkeZUTJtd4+xEO6o/aY1rjNQecUR7KyMuNmNmzcXmtilWdpIRx9RL3WuvvZKMMcOPPRuonHPW
WWcl2X61yzgQi1T7MPb0u9hUmf2p7AD6y6v7UmXg5JNPTjL82bzBP8RNqHVq6zOGudj1+cPOKhEt
QzOzjUaj0Wg0Go21xcqZWU/nntYxrp7yMQZO38AwyQZklbIHqIwdLZ1soWrEZJ9wfU+b2Cy4L1ki
jSxNZN1piwWwsxxrUlE1w07Mkv3QCcma/Y73U+mZZMXuh6b1lFNOSTKyWfennXRvdqJ6D7JA/Yup
5h9VryMbl1VPZQ/ZvuxX/8lmsR1YU1pj4wMju5FuEdNy5ZVXJhnsLt8w5vwGzaQxNAXD5DcrW3Ti
iScm2f6ktlq3WlWHjTTEbIvtxUw95znPSbL96g3bimFTMCv8Emtq5cm9iyt1ZUEtUSth4uUi+BL9
MSaz/nZ9L0ZNzTRps9UJ90VXvMceeyTZnlHkB9h84FOuU2OH2MluXjHYO9JpbyX0Qz3dUey0Gx27
b47l3xjourojDhhzrufvYrUqD35fLLK6smrwC6ta5oyqiffsIS7aU1BPSAPfw/Cyo/7Xfu8xkLXG
/qpRqw1ol1irnqxnJn9XCch+pGX1g40nzL/5xDOMuGrurc92u4pmZhuNRqPRaDQaa4vJmNnPfe5z
SUYWJ/uTJdOnYRZUNVhWhcDTf9XSecrHXNXad9inqTWR7CLbkQ3KYjBQGEZMzLIdsrJKu9/VVqzM
Jv2OLLJq7VaNeorSGWeckWR7jaPP1Z237FL1ej7HT9RpxRLo/8qUY0Cnqi/Lz/kxxk3NvzoOsCQY
7R3Vgq2ZuDZiWKwGVMaiagRXibqDFoPvxK+q48TAGgf6fyN7VM0WPTq2s67e6BOawymYSONAlQ5x
Th+yh89hZFVLsQK00b3rd77m2pWhrhpJlRGmPiFOzDQXmFswTWJkrcUt1lQf8R4jy2ZWb8wlxgm7
TH0CmN+nkRXTaCLdJ+bd5/3/skooYpGYy+f0Pz+hIYVdOX1vK6G9Vhzcf5172EGsefOb35xkrGLU
2Et7/YQnPCHJ9pVDzCm+J87Q4k6Fuq9AjLA6fsQRRyQZ/WluYQfPcNW/K0PP7hjZWv2inhh3fVf+
mpltNBqNRqPRaKwtVk43yX6wO05PkcV4OpdVy2YwTnWnm2wa04slcd2qfZQ9ecVMVn3UqiBr025Z
q6xXtoMFkM3IspddT5ZMD8nesqDKUGM2q9Z01ZCNYZKdslJZnlpf1s5R7Qbt87kLLrhgm+vW7I9/
8o96gtJUcD/0rPxB9uv89FpXtjJui+9l4DJhY4UNq/bP2Jvy5C+/yX/5a62z7HPiyDK2cNEeGDzf
PeaYY5IMVr+eFoiZEHumgHFQT8Djr5VF1eeqYtQd6osrMrSl9RS+Ws3C6gZ70P1PzczSVYsBGDhj
iIYV08qXlmn/9LtVRLa3glFrU9uv4PenqmLAB8wZ7pvWG3NqznHf/r+O81p32vioq67LVnR2tDqy
CrAHDWg90dCqcGXi+Utlln3OeKERrvVk/a4xZ5xMXc3A/XsGoZ22IqMfjXNx0lxT/bruV/BMZhXt
SU96UpIx3lyXdrvG4V1FM7ONRqPRaDQajbXFZHQTNsguY8wgBuriiy9OMpix97znPUlGllT1Teef
f36SsbMO01p39crC1OOk55gKspqaFXmV5brPww47LMn2J5+xh+z36quvTpJcfvnlSUb2IzuUNbEP
rezUp9S4T8ysLBgrJHutWRs78oe60/r0009Pkrzyla/c5nOuU7Nn2eiyk8RWBfdF54ZVeutb35pk
+9qvWBLZbbULFiAZDBPfw8D+f+3dzYpd1RbF8Xmfw7Y9G3500lDRCHYENQQbgj3Bpo/iO+QFAoIK
CoKICGIgENKy73vc1u/u7YiHSlJF7Y87/p2Tk6o6Z6+151prz7HmmlNMlFO5lApjaquKTmvYqWtj
/9qbcZD6jz1ljsyZZcyJHfzss8/+8V1sxdjJU/JbKE3aq50Zx8me/dwrO5ANxe/pz5klto3NZeW3
PP1v7jWnb6W86RNzpLEhBpoy9ueff87MMlaMJX2nL9kMdV9GDHbx1ltv/eN77WD4nK3JXMNsgGJm
18p9dGo/d+/s9pgHxIYaW9pNobfGWuvFnr7safWbQn+Y493nrHwIc4VzO+ZJUBzlYbVLmJlEzEns
iTKr37cmn4W01zgX2+sZLHd1zIval7mr1QhgN+6D9cfnsqMqs6WUUkop5f+GW1dmea+8YF4hRZYX
KG/sDz/8MDNL3eiEosAL93dOloK3RWVwsvVSfNRt4ft5rbxZ3q/8qn7+4MGDmVlUBfFIvEfeM9WN
sstb0t/wfq3IbIn+4LXyFsWliavR3ozL8ZoqkryycgReiuejVIt/oghvhftLRZAb87fffpuZJfaR
SijeLRXIjDVd/5tiw+Y+/vjjmVlimtyDjIXaAt585tWlmrHjzMZBbbUDkUrmzBJ3q4/1eZ5G17cU
7C3nEPeCauK9edT8mHGjcudSV9j9eh7QZ+zAmGKTWQGNIrdltouZZ+PJrS12/yg/fk5BMneyHffb
mqWvvM+8oVl1zty6dX9oh+sxJxoLfm6OtOZSzNiGduac5O/1m/5nN/rDPLJ15iDtz1hm150xoHYv
vvjii5m5fMZAdoRLudp9Pntgd5eqT94WeX9kTKI4s2trr4xL1hrzn3nSnCzmlh3JCiN2W38Yj2K0
Xza2vMpsKaWUUko5LJtlMxCLyHujpIrTunPnzj/+nxfg53lKOdUj3pJ4FAoV75y6svUpdbgetdVd
p1ryebqfCqKdvCeKM2XWiV4qiv7kdTnJmqeet8Z9E+vp+tgLby/jF73nFVPbeI+X1AF2Q4VIZX8r
XJf75aSsqjXGA7XAzgQln91TUdYqYlY6YjtiAI0Nap3Ywi1xX9kBFYA9aDe1Wb9og/urX9f1xLPG
fM4Nqcxm3PoWZJUrcatUEfOD9tqh+uCDD2ZmGQ9Z9WhmmVP0md9JxdLcbM7ZC9Ya915WBmvPV199
NTNL++QiNofoi4xDT2XT5/o+fb31+QOwa2PBmJEBRXusue+///7MLLtj2iEG1BxiB0P/WospbOzF
97LFrTIHIZV7r67P/c8xYVc3z1nAGpX5hb2ai42XPcyna9iF68/KcO6/XUtzjbk47T53QDxrsAf9
6v11Y4erzJZSSimllMNy67Kkp/6s9CWWkVJCmaSwUAHkTc2chhQZ3gHlNuPZeFW+f2svMWP7KJHU
sa+//npmZh4+fDgziwKVcXxUFF4Ur0+/UJOyugbFTn9sDa9OnBtFmjfr+nnX2ieOhzftvlOy2cOl
7BWp6O+lP7TT9ekXWS0oseK62IN8osYXZXft/fodmUKMQbaT+TP3oESCcm5+MG7cX16/+8iu9KNx
t96R0EdyOV+qgpfKzh4Qv2ueoJqJwc/65/olY6vXyiwlJvvuUqUf6vDWaKO2sA32bm5VNe7dd9+d
mUVZNFdkjKhqaT6HDeq7zLSzl2wGxq/rtlbkq+t12lwFKO2xdufYyTXInEPh1P9b5x2G++V+ZiYY
a433uaZkJUDtTmX2Uuynz19nltkS7XP/c0517sazhd3OVJq95m75Rx99NDMz77333sws/erZSwxx
fu+LUmW2lFJKKaUcls0CRsVdiBFVK1wchpN+ecqWN5CVs6hJvD+/n5WieGFbVdtIXB9VyIla8Spy
1vF6nFqmHvh//eEkovbqL95Sqk2UyMxysBX6QxyaHIYqumU+Ue/TLvIE8lX10f08q+VsjevlvVJm
xc7ykt3HVBOoS17XOxHff//9zCy7HGyJh+xvxF3rm61rq88s49t9E59FHct4TypanlRft0X7Lykq
WVXM7+8B85559JtvvpmZJfelk8R5gjtjydfVvdhQxgbC32b+0a1xvZQkNvHtt9/OzHKd4orZuznH
/dUuNmIuYltiBSlX/s692KriV8Jus6KXXTljwhySivSlKok511pDsmql/vP+kj3dFq6DMiuW024w
BVv7s3+MlYwlvmptYRd2x/ZyXge5C64fchxYG+0Gmgf0T+ayNlcbP+ZkOzrGzXVjiKvMllJKKaWU
w7KZa0BBun///swsCqQTpWLAMgcbb5sCqRKS2MmMieRtUO7kWeQd7eUUP4UtY/94NXfv3p2ZpZ40
b4lKwHvkLVJw5V3lJeUJS+3XP7yrraEk8RIp16rvUAvZh+vPuC7t4TW77z43q7NQF/aiVCNjwqkq
TqBqD28/VVT2tB4f+sJnUzczTlff70V5m3lWFbLzkBXPqAHUE/0i9pqSObNUzfvkk09mZlFqUs39
t+phW6M/2L88xO7xhx9+ODNLRUVKtflCW9ZtMnbMob4D+sGuwV5iAGGMGBNs4scff5yZZReQIsvO
rU25q5WZYaxB5mCKVObh3QuUMHOA/siqk8YKu9cOr+yBfeQumLHFFtkHm9tLvxjvrt9Y8ao97rO5
I+dSa0XOvVmN0PxhHjXf7gX3x5phR0M/yQJidzDPY+gvFQCt1exENgj9Y2crc+S/rGJdZbaUUkop
pRyWzYM2eIFOmFLkeD2e3jMfotO46T1SdDMmLhVI3tRe4ppcDyUp61fzgry67szK4ESx9xn3lnE9
+m/rOKYk66mzCyoib5998Ap5l/rJz2W9yOo22R9XnUTdCqqPuDf9IP7IfXTd2sH+eb3rnYhUtX0H
2/OZXrPSy5akSuraZL+wI5EnjV273//111//95liH8WE3bt371+/W3/47j2gP7y63yoF6heV06hw
mQvVztXMzKeffjozy26QOSpV4Et5N7eGIkR5zcwNmZtZX9jt0M6nT5/OzLLb5XPN1TmHZkzp1hWv
4Dq0Wz9QIp3TMGYy76r2yK/LhrQ7d49yt3Av/QBryC+//DIzy66wdlGgc02xA2Ft+fLLL2dm2T1l
bzBHJ/7+UtaU2yazGrjv8kdT8jPLCXthVzILGVdvvPHGzCw7A5TuHCd2RMxdL8q+Zp9SSimllFJe
gM2V2YQX87yVmPIULu+C1+nEqjgP3oXP3ZsCB94OLlWsylyX2sV75C1TVVJF2Fu1mkuIy/H6vGiv
fLOXTuL7vax2tFfY94uqg+s4LTGDVEs5SXnIGYeb6u+eMD4orl6vyjjgxO7M0pcUt1SgMx53z+R8
cSkXZEJ9mnl2dwhZwz7nqr1yVTy8dmXsL4XK2Ll0qp0ilzHne+Xf4qRnLufiRuYqdv8patptLaJ0
X7KnvZAxs8+LXSB2on+yX723K2ituaq/tyLXQPfvqvuoH+wOewZJ5df/64/r2keV2VJKKaWUclj2
LT89B7xiCiyvimIp3os3wDvay4nKm4biulacZpZqTrznzCl4VrJSWMZ98qJT+d1LloubZq0WiA2T
65nN+H9jiiK1R0X2uqz7g9Ikswp1U7uNHafa95TN4KZY2732Uawzxs1YMtfuXXl7WawV2muXTyyg
uVQMpthrdnI2MoYU5g3KtzVXv+ylQtxNo52UR+MmK8npB+c39qrIXhfrhd3y119/fWYWBV//ZGW+
68ZUV5ktpZRSSimH5fDKrKd+1SMoa07tiv/z1O//z6iqzCwqghyLd+7cmZnFW6Ya6AfVT84KL5hX
jKxyw068npV1vfjPP/98ZhZb+OOPP2ZmqcnOZl40huxIrO+3U9oU2qwqR4E0hs7IWl01Zpxyl+WB
4uLn8lGeFcq8WGrjw9oDp77PPF5mlrUFFGtrCQUu86yeFfOFeHRKY+YdFqeuuulZcb9VyDNfZNVW
rzd1PqXKbCmllFJKOSyHV2admHOikPec1Xt4k5TbvVXfuCmcxM1+4CWrzkGFypx4Z0OcFrUkcyiy
D9VJxImeFXYxsyhtYrvefvvtmVnUOTmbL2WAOAPr7BhvvvnmzCy7NjlHUFQocGdE1Z6Zme+++25m
luphlHpKlLyr6785I+zfDoa5wpyaFbXOGgsJu392KrzPapR+fta1FmLp5SNmH2KL5Xj++eefZ+bZ
DERnQ7vd9zyH4pktMy5dlyqzpZRSSinlsBxemaUWqBD1zjvvzMyiQKpo8+qrr87MeU/cQvwa1U0F
Lcq16hu8J/23t+osNwVVhXfITsTziGsSW/zaa6/d9iXeKuu8zRQVsY8UJZ5z5m49I2ulmo389ddf
M7MoKGLgnjx5MjPnjolcq6yUFfmHxbaJgfvpp59mZubx48e3eYm3jlhIc6d+sMaIrf77779n5tz2
MbOcT5E5R/tfeeWVmVnmExWg7PycFcoiO5E0CczEAAAA/0lEQVTFQgyxHOePHj2amWfPb5wNa66s
MJ69jBfzyu+//z4zS1XL61JltpRSSimlHJb/nFWRK6WUUkop56fKbCmllFJKOSx9mC2llFJKKYel
D7OllFJKKeWw9GG2lFJKKaUclj7MllJKKaWUw9KH2VJKKaWUclj6MFtKKaWUUg5LH2ZLKaWUUsph
6cNsKaWUUko5LH2YLaWUUkoph6UPs6WUUkop5bD0YbaUUkoppRyWPsyWUkoppZTD0ofZUkoppZRy
WPowW0oppZRSDksfZksppZRSymHpw2wppZRSSjksfZgtpZRSSimHpQ+zpZRSSinlsPRhtpRSSiml
HJb/AvG4cTCFMCtVAAAAAElFTkSuQmCC
"
>
</div>

</div>

</div>
</div>

</div>
<div class="cell border-box-sizing code_cell rendered">
<div class="input">
<div class="prompt input_prompt">In&nbsp;[16]:</div>
<div class="inner_cell">
    <div class="input_area">
<div class=" highlight hl-ipython3"><pre><span></span><span class="n">drawFirstLayerOutputs</span><span class="p">(</span><span class="n">nnet</span><span class="p">,</span><span class="n">Xtest</span><span class="p">[[</span><span class="mi">8</span><span class="p">,</span> <span class="mi">11</span><span class="p">,</span> <span class="mi">0</span><span class="p">,</span> <span class="mi">61</span><span class="p">,</span> <span class="mi">20</span><span class="p">],:])</span>
</pre></div>

</div>
</div>
</div>

<div class="output_wrapper">
<div class="output">


<div class="output_area">
<div class="prompt"></div>



<div class="output_png output_subarea ">
<img src="data:image/png;base64,iVBORw0KGgoAAAANSUhEUgAAArMAAAJOCAYAAACk64/cAAAABHNCSVQICAgIfAhkiAAAAAlwSFlz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"
>
</div>

</div>

</div>
</div>

</div>
<div class="cell border-box-sizing code_cell rendered">
<div class="input">
<div class="prompt input_prompt">In&nbsp;[17]:</div>
<div class="inner_cell">
    <div class="input_area">
<div class=" highlight hl-ipython3"><pre><span></span><span class="k">def</span> <span class="nf">drawSecondLayerOutputs</span><span class="p">(</span><span class="n">nnet</span><span class="p">,</span><span class="n">X</span><span class="p">):</span>
    <span class="n">nnet</span><span class="o">.</span><span class="n">use</span><span class="p">(</span><span class="n">X</span><span class="p">)</span>
    <span class="n">nSamples</span> <span class="o">=</span> <span class="n">X</span><span class="o">.</span><span class="n">shape</span><span class="p">[</span><span class="mi">0</span><span class="p">]</span>
    <span class="n">imageSize</span> <span class="o">=</span> <span class="nb">int</span><span class="p">(</span><span class="n">np</span><span class="o">.</span><span class="n">sqrt</span><span class="p">(</span><span class="n">X</span><span class="o">.</span><span class="n">shape</span><span class="p">[</span><span class="mi">1</span><span class="p">]))</span>
    <span class="n">cvlay</span> <span class="o">=</span> <span class="n">nnet</span><span class="o">.</span><span class="n">layers</span><span class="p">[</span><span class="mi">1</span><span class="p">]</span>
    <span class="n">nUnits</span> <span class="o">=</span> <span class="n">cvlay</span><span class="o">.</span><span class="n">nUnits</span>
    <span class="n">wrow</span><span class="p">,</span><span class="n">wcol</span> <span class="o">=</span> <span class="n">cvlay</span><span class="o">.</span><span class="n">nWindows</span>
    <span class="n">y</span> <span class="o">=</span> <span class="n">cvlay</span><span class="o">.</span><span class="n">Y</span><span class="o">.</span><span class="n">reshape</span><span class="p">((</span><span class="o">-</span><span class="mi">1</span><span class="p">,</span><span class="n">wrow</span><span class="p">,</span><span class="n">wcol</span><span class="p">,</span><span class="n">nUnits</span><span class="p">))</span>
    <span class="n">plt</span><span class="o">.</span><span class="n">figure</span><span class="p">(</span><span class="n">figsize</span><span class="o">=</span><span class="p">(</span><span class="mi">12</span><span class="p">,</span><span class="n">nSamples</span><span class="p">))</span>
    <span class="n">gs</span> <span class="o">=</span> <span class="n">gridspec</span><span class="o">.</span><span class="n">GridSpec</span><span class="p">(</span><span class="n">nSamples</span><span class="p">,</span><span class="mi">10</span><span class="p">)</span>
    <span class="k">for</span> <span class="n">i</span> <span class="ow">in</span> <span class="nb">range</span><span class="p">(</span><span class="n">nSamples</span><span class="p">):</span>
        <span class="k">for</span> <span class="n">h</span> <span class="ow">in</span> <span class="nb">range</span><span class="p">(</span><span class="n">nUnits</span><span class="p">):</span>
            <span class="n">plt</span><span class="o">.</span><span class="n">subplot</span><span class="p">(</span><span class="n">gs</span><span class="p">[</span><span class="n">i</span><span class="o">*</span><span class="mi">1</span><span class="p">,</span> <span class="n">h</span><span class="p">])</span>
            <span class="n">plt</span><span class="o">.</span><span class="n">imshow</span><span class="p">(</span><span class="o">-</span><span class="n">y</span><span class="p">[</span><span class="n">i</span><span class="p">,:,:,</span><span class="n">h</span><span class="p">],</span> <span class="n">interpolation</span><span class="o">=</span><span class="s1">&#39;nearest&#39;</span><span class="p">,</span><span class="n">cmap</span><span class="o">=</span><span class="s1">&#39;gray&#39;</span><span class="p">)</span>
            <span class="n">plt</span><span class="o">.</span><span class="n">axis</span><span class="p">(</span><span class="s1">&#39;off&#39;</span><span class="p">)</span>
</pre></div>

</div>
</div>
</div>

</div>
<div class="cell border-box-sizing code_cell rendered">
<div class="input">
<div class="prompt input_prompt">In&nbsp;[18]:</div>
<div class="inner_cell">
    <div class="input_area">
<div class=" highlight hl-ipython3"><pre><span></span><span class="n">drawSecondLayerOutputs</span><span class="p">(</span><span class="n">nnet</span><span class="p">,</span><span class="n">Xtest</span><span class="p">[[</span><span class="mi">10</span><span class="p">,</span> <span class="mi">5</span><span class="p">,</span> <span class="mi">1</span><span class="p">,</span> <span class="mi">18</span><span class="p">,</span> <span class="mi">4</span><span class="p">,</span> <span class="mi">8</span><span class="p">,</span> <span class="mi">11</span><span class="p">,</span> <span class="mi">0</span><span class="p">,</span> <span class="mi">61</span><span class="p">,</span> <span class="mi">20</span><span class="p">]])</span>
</pre></div>

</div>
</div>
</div>

<div class="output_wrapper">
<div class="output">


<div class="output_area">
<div class="prompt"></div>



<div class="output_png output_subarea ">
<img src="data:image/png;base64,iVBORw0KGgoAAAANSUhEUgAAAq0AAAJMCAYAAADQRJ+MAAAABHNCSVQICAgIfAhkiAAAAAlwSFlz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"
>
</div>

</div>

</div>
</div>

</div>
<div class="cell border-box-sizing code_cell rendered">
<div class="input">
<div class="prompt input_prompt">In&nbsp;[&nbsp;]:</div>
<div class="inner_cell">
    <div class="input_area">
<div class=" highlight hl-ipython3"><pre><span></span> 
</pre></div>

</div>
</div>
</div>

</div>
 


    </div>
  </div>

  </div>


  
    <footer class="footer hidden-print">
      <div class="container">
        <div class="col-md-4">
          <p>
            This website does not host notebooks, it only renders notebooks
            available on other websites.
          </p>
        </div>

        <div class="col-md-4">
          <p>
            Delivered by <a href="http://www.fastly.com/">Fastly</a>,
            Rendered by <a href="https://developer.rackspace.com/?nbviewer=awesome">Rackspace</a>
          </p>
          <p>
            nbviewer GitHub <a href="https://github.com/jupyter/nbviewer">repository</a>.
          </p>
        </div>

        <div class="col-md-4">
          
  
            
              <p>
                nbviewer version:
                <a href="https://github.com/jupyter/nbviewer/commit/4f5d1d8a2539c1c8dc92873d3a775d34f0a3d417">
                  4f5d1d8
                </a>
              </p>
            
          
  
  <p>
    nbconvert version: <a href="https://github.com/jupyter/nbconvert/releases/tag/5.1.1">
      5.1.1
    </a>
  </p>
  

          
  
  
  <p>
    Rendered
    <span class='date' data-date='Sun, 26 Mar 2017 22:18:05 UTC' title='Sun, 26 Mar 2017 22:18:05 UTC'>(Sun, 26 Mar 2017 22:18:05 UTC)</span>
  </p>
  

        </div>
      </div>
    </footer>
  

  <script src="https://unpkg.com/jupyter-js-widgets@2.0.*/dist/embed.js"></script>
  <script src="/static/components/bootstrap/js/bootstrap.min.js?v=5869c96cc8f19086aee625d670d741f9"></script>
  <script src="/static/components/headroom.js/dist/headroom.min.js?v=b0a311ea668f8e768ea375f4a7abb81c"></script>
  <script src="/static/components/headroom.js/dist/jQuery.headroom.min.js?v=f3a1bae118315d0c234afc74dc6aab71"></script>

  
  
  <script>
    $(function(){ $("#menubar").headroom({
      tolerance: 5,
      offset: 205,
      classes: {
        initial: "animated",
        pinned: "slideInDown",
        unpinned: "slideOutUp"
      }
    })});
  </script>


  
  <script>
    (function(i,s,o,g,r,a,m){i['GoogleAnalyticsObject']=r;i[r]=i[r]||function(){
      (i[r].q=i[r].q||[]).push(arguments)},i[r].l=1*new Date();a=s.createElement(o),
      m=s.getElementsByTagName(o)[0];a.async=1;a.src=g;m.parentNode.insertBefore(a,m)
    })(window,document,'script','https://www.google-analytics.com/analytics.js','ga');
    ga('create', 'UA-52617120-5', 'auto');
    ga('send', 'pageview');
  </script>
  
  <script>
    require({
        paths: {
          moment: "/static/components/moment/min/moment.min.js?v=89f87298ad94aa1e6b92f42eb66da043"
        }
      }, ["moment"], function(moment){
      var date = $("footer .date"),
        m = moment(new Date(date.data('date'))),
        update = function(){ date.text(m.fromNow()); };
      setInterval(update, 61*1000);
      update();
      var w = $(window).scroll(function(event){
        $("body").toggleClass("scrolled", w.scrollTop() > 0);
      });
    });
  </script>
  <!--NEW RELIC Stop Perf Measurement-->
  
  <!--NEW RELIC End-->
</body>
</html>